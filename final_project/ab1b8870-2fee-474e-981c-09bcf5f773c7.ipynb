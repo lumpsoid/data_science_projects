{
 "cells": [
  {
   "cell_type": "markdown",
   "metadata": {},
   "source": [
    "Привет! <br>\n",
    "Меня зовут Сергей Дроздов, и я буду проверять твой проект. Предлагаю общаться на «ты». Если тебе удобнее общаться на \"Вы\", просто дай знать. \n",
    "\n",
    "Ты уже проделал большую работу над проектом, но давай сделаем его еще лучше. Ниже ты найдешь мои комментарии - пожалуйста, не перемещай, не изменяй и не удаляй их. Я буду использовать цветовую разметку:\n",
    "\n",
    "<div class=\"alert alert-danger\">\n",
    "<b>Комментарий ревьюера: &#10060; </b> Так будут выделены комментарии с указаниями, обязательными к выполнению. Без их выполнения проект не будет принят. </div>\n",
    "\n",
    "<div class=\"alert alert-warning\">\n",
    "<b>Комментарий ревьюера:\n",
    "&#9888;</b> Так будут выделены некритичные замечания. Их отработка позволит улучшить качество твоего проекта.\n",
    "</div>\n",
    "\n",
    "<div class=\"alert alert-success\">\n",
    "<b>Комментарий ревьюера:\n",
    "&#9989;</b> Так будут выделены остальные комментарии, полезные лайфхаки и ссылки на сторонние ресурсы </div>\n",
    "\n",
    "Для наиболее эффективной и оперативной работы над проектом, мне хотелось бы иметь обратную связь. Не стесняйся задавать вопросы. Если ты что-либо меняешь в проекте, пожалуйста, комментируй это. Мне будет легче отследить изменения, если ты выделишь свои комментарии:\n",
    "<div class=\"alert alert-info\"> <b>Комментарий студента:</b> Например, вот так.</div>"
   ]
  },
  {
   "cell_type": "markdown",
   "metadata": {},
   "source": [
    "# Прогнозирование оттока клиентов. Оператор связи «Ниединогоразрыва.ком»"
   ]
  },
  {
   "cell_type": "markdown",
   "metadata": {},
   "source": [
    "## Описание проекта\n",
    "\n",
    "Оператор связи «Ниединогоразрыва.ком» хочет научиться прогнозировать отток клиентов. Если выяснится, что пользователь планирует уйти, ему будут предложены промокоды и специальные условия. Команда оператора собрала персональные данные о некоторых клиентах, информацию об их тарифах и договорах."
   ]
  },
  {
   "cell_type": "markdown",
   "metadata": {},
   "source": [
    "## Цель исследования\n",
    "- провести исследовательский анализ данных\n",
    "- обучить модель, которая будет прогнозировать отток клиентов оператора связи.\n",
    "- составить отчет по проделанной работе"
   ]
  },
  {
   "cell_type": "markdown",
   "metadata": {},
   "source": [
    "## Задача\n",
    "- провести исследовательский анализ данных\n",
    "- написать вывод\n",
    "- написать вопросы\n",
    "- написать план выполнения работы"
   ]
  },
  {
   "cell_type": "markdown",
   "metadata": {},
   "source": [
    "<div class=\"alert alert-danger\">\n",
    "<b>Комментарий ревьюера: &#10060; </b> Добавь, пожалуйста, название проекта и цель исследования </div>"
   ]
  },
  {
   "cell_type": "code",
   "execution_count": 1,
   "metadata": {
    "pycharm": {
     "name": "#%%\n"
    }
   },
   "outputs": [],
   "source": [
    "import pandas as pd\n",
    "import numpy as np\n",
    "from datetime import datetime\n",
    "\n",
    "import matplotlib.pyplot as plt\n"
   ]
  },
  {
   "cell_type": "code",
   "execution_count": 2,
   "metadata": {},
   "outputs": [],
   "source": [
    "def check_uniques(data):\n",
    "    for i in data.columns:\n",
    "        print(i)\n",
    "        print(data[i].unique())\n",
    "        print('---')"
   ]
  },
  {
   "cell_type": "code",
   "execution_count": 3,
   "metadata": {
    "pycharm": {
     "name": "#%%\n"
    }
   },
   "outputs": [],
   "source": [
    "try:\n",
    "    df_contract = pd.read_csv(\n",
    "        '/home/qq/Downloads/final_project/final_provider/contract.csv', parse_dates=['BeginDate'])\n",
    "    df_internet = pd.read_csv(\n",
    "        '/home/qq/Downloads/final_project/final_provider/internet.csv')\n",
    "    df_personal = pd.read_csv(\n",
    "        '/home/qq/Downloads/final_project/final_provider/personal.csv')\n",
    "    df_phone = pd.read_csv(\n",
    "        '/home/qq/Downloads/final_project/final_provider/phone.csv')\n",
    "except:\n",
    "    \n",
    "    df_contract = pd.read_csv(\n",
    "        '/datasets/final_provider/contract.csv', parse_dates=['BeginDate'])\n",
    "    df_internet = pd.read_csv(\n",
    "        '/datasets/final_provider/internet.csv')\n",
    "    df_personal = pd.read_csv(\n",
    "        '/datasets/final_provider/personal.csv')\n",
    "    df_phone = pd.read_csv(\n",
    "        '/datasets/final_provider/phone.csv')\n"
   ]
  },
  {
   "cell_type": "markdown",
   "metadata": {},
   "source": [
    "<div class=\"alert alert-success\">\n",
    "<b>Комментарий ревьюера:\n",
    "&#9989;</b> Отлично, данные на базе! </div>"
   ]
  },
  {
   "cell_type": "markdown",
   "metadata": {},
   "source": [
    "# анализ df_contract"
   ]
  },
  {
   "cell_type": "code",
   "execution_count": 4,
   "metadata": {
    "pycharm": {
     "name": "#%%\n"
    }
   },
   "outputs": [
    {
     "data": {
      "text/html": [
       "<div>\n",
       "<style scoped>\n",
       "    .dataframe tbody tr th:only-of-type {\n",
       "        vertical-align: middle;\n",
       "    }\n",
       "\n",
       "    .dataframe tbody tr th {\n",
       "        vertical-align: top;\n",
       "    }\n",
       "\n",
       "    .dataframe thead th {\n",
       "        text-align: right;\n",
       "    }\n",
       "</style>\n",
       "<table border=\"1\" class=\"dataframe\">\n",
       "  <thead>\n",
       "    <tr style=\"text-align: right;\">\n",
       "      <th></th>\n",
       "      <th>customerID</th>\n",
       "      <th>BeginDate</th>\n",
       "      <th>EndDate</th>\n",
       "      <th>Type</th>\n",
       "      <th>PaperlessBilling</th>\n",
       "      <th>PaymentMethod</th>\n",
       "      <th>MonthlyCharges</th>\n",
       "      <th>TotalCharges</th>\n",
       "    </tr>\n",
       "  </thead>\n",
       "  <tbody>\n",
       "    <tr>\n",
       "      <th>0</th>\n",
       "      <td>7590-VHVEG</td>\n",
       "      <td>2020-01-01</td>\n",
       "      <td>No</td>\n",
       "      <td>Month-to-month</td>\n",
       "      <td>Yes</td>\n",
       "      <td>Electronic check</td>\n",
       "      <td>29.85</td>\n",
       "      <td>29.85</td>\n",
       "    </tr>\n",
       "    <tr>\n",
       "      <th>1</th>\n",
       "      <td>5575-GNVDE</td>\n",
       "      <td>2017-04-01</td>\n",
       "      <td>No</td>\n",
       "      <td>One year</td>\n",
       "      <td>No</td>\n",
       "      <td>Mailed check</td>\n",
       "      <td>56.95</td>\n",
       "      <td>1889.5</td>\n",
       "    </tr>\n",
       "    <tr>\n",
       "      <th>2</th>\n",
       "      <td>3668-QPYBK</td>\n",
       "      <td>2019-10-01</td>\n",
       "      <td>2019-12-01 00:00:00</td>\n",
       "      <td>Month-to-month</td>\n",
       "      <td>Yes</td>\n",
       "      <td>Mailed check</td>\n",
       "      <td>53.85</td>\n",
       "      <td>108.15</td>\n",
       "    </tr>\n",
       "    <tr>\n",
       "      <th>3</th>\n",
       "      <td>7795-CFOCW</td>\n",
       "      <td>2016-05-01</td>\n",
       "      <td>No</td>\n",
       "      <td>One year</td>\n",
       "      <td>No</td>\n",
       "      <td>Bank transfer (automatic)</td>\n",
       "      <td>42.30</td>\n",
       "      <td>1840.75</td>\n",
       "    </tr>\n",
       "    <tr>\n",
       "      <th>4</th>\n",
       "      <td>9237-HQITU</td>\n",
       "      <td>2019-09-01</td>\n",
       "      <td>2019-11-01 00:00:00</td>\n",
       "      <td>Month-to-month</td>\n",
       "      <td>Yes</td>\n",
       "      <td>Electronic check</td>\n",
       "      <td>70.70</td>\n",
       "      <td>151.65</td>\n",
       "    </tr>\n",
       "  </tbody>\n",
       "</table>\n",
       "</div>"
      ],
      "text/plain": [
       "   customerID  BeginDate              EndDate            Type  \\\n",
       "0  7590-VHVEG 2020-01-01                   No  Month-to-month   \n",
       "1  5575-GNVDE 2017-04-01                   No        One year   \n",
       "2  3668-QPYBK 2019-10-01  2019-12-01 00:00:00  Month-to-month   \n",
       "3  7795-CFOCW 2016-05-01                   No        One year   \n",
       "4  9237-HQITU 2019-09-01  2019-11-01 00:00:00  Month-to-month   \n",
       "\n",
       "  PaperlessBilling              PaymentMethod  MonthlyCharges TotalCharges  \n",
       "0              Yes           Electronic check           29.85        29.85  \n",
       "1               No               Mailed check           56.95       1889.5  \n",
       "2              Yes               Mailed check           53.85       108.15  \n",
       "3               No  Bank transfer (automatic)           42.30      1840.75  \n",
       "4              Yes           Electronic check           70.70       151.65  "
      ]
     },
     "execution_count": 4,
     "metadata": {},
     "output_type": "execute_result"
    }
   ],
   "source": [
    "df_contract.head()"
   ]
  },
  {
   "cell_type": "code",
   "execution_count": 5,
   "metadata": {
    "pycharm": {
     "name": "#%%\n"
    }
   },
   "outputs": [
    {
     "name": "stdout",
     "output_type": "stream",
     "text": [
      "<class 'pandas.core.frame.DataFrame'>\n",
      "RangeIndex: 7043 entries, 0 to 7042\n",
      "Data columns (total 8 columns):\n",
      " #   Column            Non-Null Count  Dtype         \n",
      "---  ------            --------------  -----         \n",
      " 0   customerID        7043 non-null   object        \n",
      " 1   BeginDate         7043 non-null   datetime64[ns]\n",
      " 2   EndDate           7043 non-null   object        \n",
      " 3   Type              7043 non-null   object        \n",
      " 4   PaperlessBilling  7043 non-null   object        \n",
      " 5   PaymentMethod     7043 non-null   object        \n",
      " 6   MonthlyCharges    7043 non-null   float64       \n",
      " 7   TotalCharges      7043 non-null   object        \n",
      "dtypes: datetime64[ns](1), float64(1), object(6)\n",
      "memory usage: 440.3+ KB\n"
     ]
    }
   ],
   "source": [
    "df_contract.info()"
   ]
  },
  {
   "cell_type": "markdown",
   "metadata": {},
   "source": [
    "в данной таблице имеется 2 временных признака, 3 категориальных признака, и 2 непрерывных."
   ]
  },
  {
   "cell_type": "markdown",
   "metadata": {},
   "source": [
    "<div class=\"alert alert-success\">\n",
    "<b>Комментарий ревьюера:\n",
    "&#9989;</b> Хорошо! </div>"
   ]
  },
  {
   "cell_type": "code",
   "execution_count": 6,
   "metadata": {
    "pycharm": {
     "name": "#%%\n"
    }
   },
   "outputs": [
    {
     "name": "stdout",
     "output_type": "stream",
     "text": [
      "customerID\n",
      "['7590-VHVEG' '5575-GNVDE' '3668-QPYBK' ... '4801-JZAZL' '8361-LTMKD'\n",
      " '3186-AJIEK']\n",
      "---\n",
      "BeginDate\n",
      "['2020-01-01T00:00:00.000000000' '2017-04-01T00:00:00.000000000'\n",
      " '2019-10-01T00:00:00.000000000' '2016-05-01T00:00:00.000000000'\n",
      " '2019-09-01T00:00:00.000000000' '2019-03-01T00:00:00.000000000'\n",
      " '2018-04-01T00:00:00.000000000' '2019-04-01T00:00:00.000000000'\n",
      " '2017-07-01T00:00:00.000000000' '2014-12-01T00:00:00.000000000'\n",
      " '2019-01-01T00:00:00.000000000' '2018-10-01T00:00:00.000000000'\n",
      " '2015-04-01T00:00:00.000000000' '2015-09-01T00:00:00.000000000'\n",
      " '2018-01-01T00:00:00.000000000' '2014-05-01T00:00:00.000000000'\n",
      " '2015-10-01T00:00:00.000000000' '2014-03-01T00:00:00.000000000'\n",
      " '2018-05-01T00:00:00.000000000' '2019-11-01T00:00:00.000000000'\n",
      " '2019-02-01T00:00:00.000000000' '2016-01-01T00:00:00.000000000'\n",
      " '2017-08-01T00:00:00.000000000' '2015-12-01T00:00:00.000000000'\n",
      " '2014-02-01T00:00:00.000000000' '2018-06-01T00:00:00.000000000'\n",
      " '2019-12-01T00:00:00.000000000' '2017-11-01T00:00:00.000000000'\n",
      " '2019-06-01T00:00:00.000000000' '2016-04-01T00:00:00.000000000'\n",
      " '2017-02-01T00:00:00.000000000' '2018-12-01T00:00:00.000000000'\n",
      " '2014-04-01T00:00:00.000000000' '2018-09-01T00:00:00.000000000'\n",
      " '2014-11-01T00:00:00.000000000' '2016-07-01T00:00:00.000000000'\n",
      " '2015-02-01T00:00:00.000000000' '2018-07-01T00:00:00.000000000'\n",
      " '2014-08-01T00:00:00.000000000' '2016-03-01T00:00:00.000000000'\n",
      " '2018-08-01T00:00:00.000000000' '2014-10-01T00:00:00.000000000'\n",
      " '2015-06-01T00:00:00.000000000' '2016-08-01T00:00:00.000000000'\n",
      " '2019-05-01T00:00:00.000000000' '2017-03-01T00:00:00.000000000'\n",
      " '2016-02-01T00:00:00.000000000' '2017-09-01T00:00:00.000000000'\n",
      " '2014-09-01T00:00:00.000000000' '2017-12-01T00:00:00.000000000'\n",
      " '2016-12-01T00:00:00.000000000' '2017-06-01T00:00:00.000000000'\n",
      " '2015-05-01T00:00:00.000000000' '2016-10-01T00:00:00.000000000'\n",
      " '2016-09-01T00:00:00.000000000' '2019-08-01T00:00:00.000000000'\n",
      " '2019-07-01T00:00:00.000000000' '2017-05-01T00:00:00.000000000'\n",
      " '2017-10-01T00:00:00.000000000' '2014-07-01T00:00:00.000000000'\n",
      " '2018-03-01T00:00:00.000000000' '2015-01-01T00:00:00.000000000'\n",
      " '2018-11-01T00:00:00.000000000' '2015-03-01T00:00:00.000000000'\n",
      " '2018-02-01T00:00:00.000000000' '2016-06-01T00:00:00.000000000'\n",
      " '2015-08-01T00:00:00.000000000' '2015-11-01T00:00:00.000000000'\n",
      " '2014-06-01T00:00:00.000000000' '2017-01-01T00:00:00.000000000'\n",
      " '2015-07-01T00:00:00.000000000' '2020-02-01T00:00:00.000000000'\n",
      " '2016-11-01T00:00:00.000000000' '2013-11-01T00:00:00.000000000'\n",
      " '2014-01-01T00:00:00.000000000' '2013-10-01T00:00:00.000000000'\n",
      " '2013-12-01T00:00:00.000000000']\n",
      "---\n",
      "EndDate\n",
      "['No' '2019-12-01 00:00:00' '2019-11-01 00:00:00' '2019-10-01 00:00:00'\n",
      " '2020-01-01 00:00:00']\n",
      "---\n",
      "Type\n",
      "['Month-to-month' 'One year' 'Two year']\n",
      "---\n",
      "PaperlessBilling\n",
      "['Yes' 'No']\n",
      "---\n",
      "PaymentMethod\n",
      "['Electronic check' 'Mailed check' 'Bank transfer (automatic)'\n",
      " 'Credit card (automatic)']\n",
      "---\n",
      "MonthlyCharges\n",
      "[29.85 56.95 53.85 ... 63.1  44.2  78.7 ]\n",
      "---\n",
      "TotalCharges\n",
      "['29.85' '1889.5' '108.15' ... '346.45' '306.6' '6844.5']\n",
      "---\n"
     ]
    }
   ],
   "source": [
    "check_uniques(df_contract)"
   ]
  },
  {
   "cell_type": "markdown",
   "metadata": {
    "pycharm": {
     "name": "#%% md\n"
    }
   },
   "source": [
    "1. столбцы `BeginDate` и `EndDate` являются данными типа datetime, но записаны как object\n",
    "    - поэтому загрузим df_conrtact изначально с изменением формата `BeginDate`\n",
    "    - в столбце `EndDate` имеются значения \"No\", что не позволяет изменить тип данных\n",
    "        - все зависит от того, как будет выглядеть решение задачи\n",
    "        - если целевой признак `EndDate` и мы кодируем его в зависимости ушел пользователь или нет ([0,1]), тогда мы будем его кодировать\n",
    "2. столбец `TotalCharges` имеет тип данных object, но содержит в себе только значения типа float, поэтому переведем его в нужный тип данных"
   ]
  },
  {
   "cell_type": "markdown",
   "metadata": {},
   "source": [
    "<div class=\"alert alert-success\">\n",
    "<b>Комментарий ревьюера:\n",
    "&#9989;</b> Ок, у нас стоит задача бинарной классификации(ушел пользователь или нет) </div>"
   ]
  },
  {
   "cell_type": "markdown",
   "metadata": {},
   "source": [
    "## BeginDate"
   ]
  },
  {
   "cell_type": "code",
   "execution_count": 7,
   "metadata": {},
   "outputs": [
    {
     "data": {
      "image/png": "[encoded data removed]",
      "text/plain": [
       "<Figure size 432x288 with 1 Axes>"
      ]
     },
     "metadata": {
      "needs_background": "light"
     },
     "output_type": "display_data"
    }
   ],
   "source": [
    "i = df_contract.groupby('BeginDate')['customerID'].count()\n",
    "\n",
    "fig, ax = plt.subplots()\n",
    "\n",
    "ax.plot(i.index, i)\n",
    "\n",
    "fig.suptitle('Количество новых клиентов во времени')\n",
    "plt.xlabel('годы')\n",
    "plt.ylabel('абсолютное количество клиентов')\n",
    "# plt.xticks(i.index)\n",
    "plt.show()\n"
   ]
  },
  {
   "cell_type": "markdown",
   "metadata": {
    "pycharm": {
     "name": "#%% md\n"
    }
   },
   "source": [
    "странные пики в начале и в конце временного промежутка, наверное стоило бы отфильтровать их"
   ]
  },
  {
   "cell_type": "markdown",
   "metadata": {},
   "source": [
    "<div class=\"alert alert-danger\">\n",
    "<b>Комментарий ревьюера: &#10060; </b> Не стоит, в данном случае аномалий не будет, возможно это были разовые акции. Оставляй как есть </div>"
   ]
  },
  {
   "cell_type": "raw",
   "metadata": {
    "pycharm": {
     "name": "#%%\n"
    }
   },
   "source": [
    "# нам интересен 95 процентиль, но так же просмотрим все остальные\n",
    "df_contract.groupby('BeginDate')['customerID'].count().quantile(\n",
    "    np.arange(0, 1, 0.05))"
   ]
  },
  {
   "cell_type": "raw",
   "metadata": {
    "pycharm": {
     "name": "#%%\n"
    }
   },
   "source": [
    "df_contract.groupby('BeginDate')['customerID'].count().where(lambda x: x < 234).dropna().plot(title='Количество новых клиентов во времени',\n",
    "                                                                                              ylabel='абсолютное количество клиентов',\n",
    "                                                                                              xlabel='годы')"
   ]
  },
  {
   "cell_type": "markdown",
   "metadata": {
    "pycharm": {
     "name": "#%% md\n"
    }
   },
   "source": [
    "не совсем уверен как лучше сделать, убрать именно эти выпадающие дни или взять промежуток времени, который находится между этими выпадающими значениями?"
   ]
  },
  {
   "cell_type": "markdown",
   "metadata": {},
   "source": [
    "UPD:в итоге подумал, что стоит все же взять и провести сплит данных, а не фильтр тех выпадающих значений, то есть уменьшить окно временных данных.\n",
    "\n",
    "непосредственно фильтр выполню это в конце тетради"
   ]
  },
  {
   "cell_type": "markdown",
   "metadata": {},
   "source": [
    "<div class=\"alert alert-info\">\n",
    "<b>Комментарий студента после ревью 1:</b>\n",
    "\n",
    "- понял, не выполню\n",
    "</div>"
   ]
  },
  {
   "cell_type": "raw",
   "metadata": {},
   "source": [
    "i = df_contract.groupby('BeginDate')['customerID'].count()['2014-05':'2019-01']\n",
    "\n",
    "fig, ax = plt.subplots()\n",
    "\n",
    "ax.plot(i.index, i)\n",
    "\n",
    "fig.suptitle('Количество новых клиентов во времени')\n",
    "plt.xlabel('годы')\n",
    "plt.ylabel('абсолютное количество клиентов')\n",
    "# plt.xticks(i.index)\n",
    "plt.show()\n"
   ]
  },
  {
   "cell_type": "markdown",
   "metadata": {},
   "source": [
    "## EndDate"
   ]
  },
  {
   "cell_type": "code",
   "execution_count": 8,
   "metadata": {
    "pycharm": {
     "name": "#%%\n"
    }
   },
   "outputs": [
    {
     "name": "stdout",
     "output_type": "stream",
     "text": [
      "\n",
      "73% пользователей не завершили пользоваться услугами оператора\n",
      "так как изначально было не много данных (7043), большой дисбаланс классов возникает, или предполагается что upsampling решит данную проблему достаточно?\n",
      "\n"
     ]
    }
   ],
   "source": [
    "print(f'''\n",
    "{round(df_contract['EndDate'].where(lambda x: x == 'No').dropna().shape[0] / df_contract['EndDate'].shape[0] * 100)}% пользователей не завершили пользоваться услугами оператора\n",
    "так как изначально было не много данных ({df_contract.shape[0]}), большой дисбаланс классов возникает, или предполагается что upsampling решит данную проблему достаточно?\n",
    "''')\n"
   ]
  },
  {
   "cell_type": "markdown",
   "metadata": {},
   "source": [
    "<div class=\"alert alert-warning\">\n",
    "<b>Комментарий ревьюера:\n",
    "&#9888;</b> Upsempling в данном случае не нужен, так как он не повлияет на roc-auc. Лучше используй весовые коэффициенты при кроссвалидации <a href = \"https://alexanderdyakonov.wordpress.com/2021/05/27/imbalance/\">Тык</a> </div>"
   ]
  },
  {
   "cell_type": "code",
   "execution_count": 9,
   "metadata": {
    "pycharm": {
     "name": "#%%\n"
    }
   },
   "outputs": [
    {
     "data": {
      "text/plain": [
       "<AxesSubplot:title={'center':'Количество ушедших клиентов во времени'}, xlabel='годы', ylabel='абсолютное количество клиентов'>"
      ]
     },
     "execution_count": 9,
     "metadata": {},
     "output_type": "execute_result"
    },
    {
     "data": {
      "image/png": "[encoded data removed]",
      "text/plain": [
       "<Figure size 432x288 with 1 Axes>"
      ]
     },
     "metadata": {
      "needs_background": "light"
     },
     "output_type": "display_data"
    }
   ],
   "source": [
    "df_contract.query('EndDate != \"No\"').groupby('EndDate')['customerID'].count().plot(title='Количество ушедших клиентов во времени',\n",
    "                                                                                   ylabel='абсолютное количество клиентов',\n",
    "                                                                                   xlabel='годы')\n"
   ]
  },
  {
   "cell_type": "markdown",
   "metadata": {
    "pycharm": {
     "name": "#%% md\n"
    }
   },
   "source": [
    "первые ушедшие пользователи появились под конец 2019 года, степень отмены контрактов достигла максимума в октябре 2019 года, после чего видим снижение данного показателя\n",
    "\n",
    "данный график кажется странным, так как учитывая то, что первые пользователи у данного оператора появились в 2014 году, а впервые пользователи начали уходить спустя почти 6 лет, выглядит сомнительно."
   ]
  },
  {
   "cell_type": "markdown",
   "metadata": {},
   "source": [
    "## TotalCharges"
   ]
  },
  {
   "cell_type": "raw",
   "metadata": {
    "pycharm": {
     "name": "#%%\n"
    }
   },
   "source": [
    "# возникает ошибка о том, что существуют клиенты у которых в поле пустая строка\n",
    "df_contract['TotalCharges'] = df_contract['TotalCharges'].astype('float')\n"
   ]
  },
  {
   "cell_type": "code",
   "execution_count": 10,
   "metadata": {
    "pycharm": {
     "name": "#%%\n"
    }
   },
   "outputs": [
    {
     "data": {
      "text/html": [
       "<div>\n",
       "<style scoped>\n",
       "    .dataframe tbody tr th:only-of-type {\n",
       "        vertical-align: middle;\n",
       "    }\n",
       "\n",
       "    .dataframe tbody tr th {\n",
       "        vertical-align: top;\n",
       "    }\n",
       "\n",
       "    .dataframe thead th {\n",
       "        text-align: right;\n",
       "    }\n",
       "</style>\n",
       "<table border=\"1\" class=\"dataframe\">\n",
       "  <thead>\n",
       "    <tr style=\"text-align: right;\">\n",
       "      <th></th>\n",
       "      <th>customerID</th>\n",
       "      <th>BeginDate</th>\n",
       "      <th>EndDate</th>\n",
       "      <th>Type</th>\n",
       "      <th>PaperlessBilling</th>\n",
       "      <th>PaymentMethod</th>\n",
       "      <th>MonthlyCharges</th>\n",
       "      <th>TotalCharges</th>\n",
       "    </tr>\n",
       "  </thead>\n",
       "  <tbody>\n",
       "    <tr>\n",
       "      <th>488</th>\n",
       "      <td>4472-LVYGI</td>\n",
       "      <td>2020-02-01</td>\n",
       "      <td>No</td>\n",
       "      <td>Two year</td>\n",
       "      <td>Yes</td>\n",
       "      <td>Bank transfer (automatic)</td>\n",
       "      <td>52.55</td>\n",
       "      <td></td>\n",
       "    </tr>\n",
       "    <tr>\n",
       "      <th>753</th>\n",
       "      <td>3115-CZMZD</td>\n",
       "      <td>2020-02-01</td>\n",
       "      <td>No</td>\n",
       "      <td>Two year</td>\n",
       "      <td>No</td>\n",
       "      <td>Mailed check</td>\n",
       "      <td>20.25</td>\n",
       "      <td></td>\n",
       "    </tr>\n",
       "    <tr>\n",
       "      <th>936</th>\n",
       "      <td>5709-LVOEQ</td>\n",
       "      <td>2020-02-01</td>\n",
       "      <td>No</td>\n",
       "      <td>Two year</td>\n",
       "      <td>No</td>\n",
       "      <td>Mailed check</td>\n",
       "      <td>80.85</td>\n",
       "      <td></td>\n",
       "    </tr>\n",
       "    <tr>\n",
       "      <th>1082</th>\n",
       "      <td>4367-NUYAO</td>\n",
       "      <td>2020-02-01</td>\n",
       "      <td>No</td>\n",
       "      <td>Two year</td>\n",
       "      <td>No</td>\n",
       "      <td>Mailed check</td>\n",
       "      <td>25.75</td>\n",
       "      <td></td>\n",
       "    </tr>\n",
       "    <tr>\n",
       "      <th>1340</th>\n",
       "      <td>1371-DWPAZ</td>\n",
       "      <td>2020-02-01</td>\n",
       "      <td>No</td>\n",
       "      <td>Two year</td>\n",
       "      <td>No</td>\n",
       "      <td>Credit card (automatic)</td>\n",
       "      <td>56.05</td>\n",
       "      <td></td>\n",
       "    </tr>\n",
       "    <tr>\n",
       "      <th>3331</th>\n",
       "      <td>7644-OMVMY</td>\n",
       "      <td>2020-02-01</td>\n",
       "      <td>No</td>\n",
       "      <td>Two year</td>\n",
       "      <td>No</td>\n",
       "      <td>Mailed check</td>\n",
       "      <td>19.85</td>\n",
       "      <td></td>\n",
       "    </tr>\n",
       "    <tr>\n",
       "      <th>3826</th>\n",
       "      <td>3213-VVOLG</td>\n",
       "      <td>2020-02-01</td>\n",
       "      <td>No</td>\n",
       "      <td>Two year</td>\n",
       "      <td>No</td>\n",
       "      <td>Mailed check</td>\n",
       "      <td>25.35</td>\n",
       "      <td></td>\n",
       "    </tr>\n",
       "    <tr>\n",
       "      <th>4380</th>\n",
       "      <td>2520-SGTTA</td>\n",
       "      <td>2020-02-01</td>\n",
       "      <td>No</td>\n",
       "      <td>Two year</td>\n",
       "      <td>No</td>\n",
       "      <td>Mailed check</td>\n",
       "      <td>20.00</td>\n",
       "      <td></td>\n",
       "    </tr>\n",
       "    <tr>\n",
       "      <th>5218</th>\n",
       "      <td>2923-ARZLG</td>\n",
       "      <td>2020-02-01</td>\n",
       "      <td>No</td>\n",
       "      <td>One year</td>\n",
       "      <td>Yes</td>\n",
       "      <td>Mailed check</td>\n",
       "      <td>19.70</td>\n",
       "      <td></td>\n",
       "    </tr>\n",
       "    <tr>\n",
       "      <th>6670</th>\n",
       "      <td>4075-WKNIU</td>\n",
       "      <td>2020-02-01</td>\n",
       "      <td>No</td>\n",
       "      <td>Two year</td>\n",
       "      <td>No</td>\n",
       "      <td>Mailed check</td>\n",
       "      <td>73.35</td>\n",
       "      <td></td>\n",
       "    </tr>\n",
       "    <tr>\n",
       "      <th>6754</th>\n",
       "      <td>2775-SEFEE</td>\n",
       "      <td>2020-02-01</td>\n",
       "      <td>No</td>\n",
       "      <td>Two year</td>\n",
       "      <td>Yes</td>\n",
       "      <td>Bank transfer (automatic)</td>\n",
       "      <td>61.90</td>\n",
       "      <td></td>\n",
       "    </tr>\n",
       "  </tbody>\n",
       "</table>\n",
       "</div>"
      ],
      "text/plain": [
       "      customerID  BeginDate EndDate      Type PaperlessBilling  \\\n",
       "488   4472-LVYGI 2020-02-01      No  Two year              Yes   \n",
       "753   3115-CZMZD 2020-02-01      No  Two year               No   \n",
       "936   5709-LVOEQ 2020-02-01      No  Two year               No   \n",
       "1082  4367-NUYAO 2020-02-01      No  Two year               No   \n",
       "1340  1371-DWPAZ 2020-02-01      No  Two year               No   \n",
       "3331  7644-OMVMY 2020-02-01      No  Two year               No   \n",
       "3826  3213-VVOLG 2020-02-01      No  Two year               No   \n",
       "4380  2520-SGTTA 2020-02-01      No  Two year               No   \n",
       "5218  2923-ARZLG 2020-02-01      No  One year              Yes   \n",
       "6670  4075-WKNIU 2020-02-01      No  Two year               No   \n",
       "6754  2775-SEFEE 2020-02-01      No  Two year              Yes   \n",
       "\n",
       "                  PaymentMethod  MonthlyCharges TotalCharges  \n",
       "488   Bank transfer (automatic)           52.55               \n",
       "753                Mailed check           20.25               \n",
       "936                Mailed check           80.85               \n",
       "1082               Mailed check           25.75               \n",
       "1340    Credit card (automatic)           56.05               \n",
       "3331               Mailed check           19.85               \n",
       "3826               Mailed check           25.35               \n",
       "4380               Mailed check           20.00               \n",
       "5218               Mailed check           19.70               \n",
       "6670               Mailed check           73.35               \n",
       "6754  Bank transfer (automatic)           61.90               "
      ]
     },
     "execution_count": 10,
     "metadata": {},
     "output_type": "execute_result"
    }
   ],
   "source": [
    "df_contract.query('TotalCharges == \" \"')\n"
   ]
  },
  {
   "cell_type": "markdown",
   "metadata": {
    "pycharm": {
     "name": "#%% md\n"
    }
   },
   "source": [
    "в целом не понятная система, если они оплатили сразу за два года, то почему у них нет параметра `TotalCharges`?\n",
    "\n",
    "то есть контракт на два года, но оплата помесячная?\n",
    "или предполагается, что мы сами посчитаем на 24 месяца?"
   ]
  },
  {
   "cell_type": "code",
   "execution_count": 11,
   "metadata": {
    "pycharm": {
     "name": "#%%\n"
    }
   },
   "outputs": [
    {
     "name": "stdout",
     "output_type": "stream",
     "text": [
      "\n",
      "    так как данные клиенты составляют лишь 0.16% от общего количества пользователей\n",
      "    0.01% от пользователей, которые подписали контракт сразу на два года\n",
      "    0.003% от пользователей, которые отказались от бумажного счета\n",
      "    можно их убрать из общего пула данных\n",
      "    \n"
     ]
    }
   ],
   "source": [
    "print(\n",
    "    f'''\n",
    "    так как данные клиенты составляют лишь {round(df_contract.query('TotalCharges == \" \"').shape[0] / df_contract.shape[0] * 100, 2)}% от общего количества пользователей\n",
    "    {round(df_contract.query('TotalCharges == \" \" and Type == \"Two year\"').shape[0] / df_contract.query('Type == \"Two year\"').shape[0], 2)}% от пользователей, которые подписали контракт сразу на два года\n",
    "    {round(df_contract.query('TotalCharges == \" \" and PaperlessBilling == \"No\"').shape[0] / df_contract.query('PaperlessBilling == \"No\"').shape[0], 3)}% от пользователей, которые отказались от бумажного счета\n",
    "    можно их убрать из общего пула данных\n",
    "    '''\n",
    ")\n"
   ]
  },
  {
   "cell_type": "code",
   "execution_count": 12,
   "metadata": {
    "pycharm": {
     "name": "#%%\n"
    }
   },
   "outputs": [],
   "source": [
    "df_contract = df_contract.query('TotalCharges != \" \"')"
   ]
  },
  {
   "cell_type": "code",
   "execution_count": 13,
   "metadata": {
    "pycharm": {
     "name": "#%%\n"
    }
   },
   "outputs": [],
   "source": [
    "# и успешно меняем тип данных в столбце TotalCharges\n",
    "# и честно сказать, я не понимаю, как такую конструкцию переделать так, чтобы он не ругался, что я записываю на копию\n",
    "df_contract['TotalCharges'] = df_contract.loc[:,\n",
    "                                              'TotalCharges'].astype('float')"
   ]
  },
  {
   "cell_type": "markdown",
   "metadata": {},
   "source": [
    "<div class=\"alert alert-warning\">\n",
    "<b>Комментарий ревьюера:\n",
    "&#9888;</b>  Ты можешь заметить, что эти пропуски приходятся на дату выгрузки из бд (это новое подключение). Т.к. таких данных мало, можно их смело удалить или заменить значения на monthlycharges </div>"
   ]
  },
  {
   "cell_type": "markdown",
   "metadata": {},
   "source": [
    "## Type"
   ]
  },
  {
   "cell_type": "code",
   "execution_count": 14,
   "metadata": {
    "pycharm": {
     "name": "#%%\n"
    }
   },
   "outputs": [
    {
     "data": {
      "text/plain": [
       "Month-to-month    0.551052\n",
       "Two year          0.239619\n",
       "One year          0.209329\n",
       "Name: Type, dtype: float64"
      ]
     },
     "execution_count": 14,
     "metadata": {},
     "output_type": "execute_result"
    }
   ],
   "source": [
    "df_contract['Type'].value_counts(normalize=True)"
   ]
  },
  {
   "cell_type": "markdown",
   "metadata": {
    "pycharm": {
     "name": "#%% md\n"
    }
   },
   "source": [
    "по параметру типа оплаты, клиенты распределены почти равномерно\n",
    "- между ежемесячной оплатой и долгосрочной: 55% и 45% соответственно\n",
    "- между долгосрочными, а то есть ежегодной и каждые 2 года: 21% и 24% соответственно"
   ]
  },
  {
   "cell_type": "markdown",
   "metadata": {},
   "source": [
    "<div class=\"alert alert-success\">\n",
    "<b>Комментарий ревьюера:\n",
    "&#9989;</b> Хорошо! </div>"
   ]
  },
  {
   "cell_type": "raw",
   "metadata": {},
   "source": [
    "encoder = LabelEncoder()\n",
    "df_contract['Type'] = encoder.fit_transform(df_contract['Type'])\n"
   ]
  },
  {
   "cell_type": "raw",
   "metadata": {},
   "source": [
    "encoder.classes_\n"
   ]
  },
  {
   "cell_type": "markdown",
   "metadata": {},
   "source": [
    "<div class=\"alert alert-danger\">\n",
    "<b>Комментарий ревьюера: &#10060; </b> Здесь и далее: давай будем кодировать данные после объединения таблиц </div>"
   ]
  },
  {
   "cell_type": "markdown",
   "metadata": {},
   "source": [
    "<div class=\"alert alert-info\">\n",
    "<b>Комментарий студента после ревью 1:</b>\n",
    "\n",
    "- понял\n",
    "</div>"
   ]
  },
  {
   "cell_type": "markdown",
   "metadata": {},
   "source": [
    "## PaperlessBilling"
   ]
  },
  {
   "cell_type": "code",
   "execution_count": 15,
   "metadata": {
    "pycharm": {
     "name": "#%%\n"
    }
   },
   "outputs": [
    {
     "data": {
      "text/plain": [
       "Yes    0.592719\n",
       "No     0.407281\n",
       "Name: PaperlessBilling, dtype: float64"
      ]
     },
     "execution_count": 15,
     "metadata": {},
     "output_type": "execute_result"
    }
   ],
   "source": [
    "df_contract['PaperlessBilling'].value_counts(normalize=True)\n"
   ]
  },
  {
   "cell_type": "markdown",
   "metadata": {
    "pycharm": {
     "name": "#%% md\n"
    }
   },
   "source": [
    "наблюдается сдвиг в сторону бумажного счета\n",
    "\n",
    "данный параметр можно трансформировать в формат [0,1], для меньшего потребления памяти, что ускорит вычисления\n",
    "\n",
    "и в целом предполагаю, что необходимо будет произвести label encoding признаков"
   ]
  },
  {
   "cell_type": "markdown",
   "metadata": {},
   "source": [
    "данный параметр остался с типом object, хотя содержит значения 0 и 1\n",
    "\n",
    "изменим это"
   ]
  },
  {
   "cell_type": "raw",
   "metadata": {
    "pycharm": {
     "name": "#%%\n"
    }
   },
   "source": [
    "df_contract.loc[df_contract.query(\n",
    "    'PaperlessBilling == \"No\"').index, 'PaperlessBilling'] = 0\n",
    "df_contract.loc[df_contract.query(\n",
    "    'PaperlessBilling == \"Yes\"').index, 'PaperlessBilling'] = 1\n",
    "df_contract['PaperlessBilling'] = df_contract['PaperlessBilling'].astype('int')"
   ]
  },
  {
   "cell_type": "markdown",
   "metadata": {},
   "source": [
    "<div class=\"alert alert-warning\">\n",
    "<b>Комментарий ревьюера:\n",
    "&#9888;</b> Все преобразования идут во второй части проекта, на данном этапе идет только анализ и план работы </div>"
   ]
  },
  {
   "cell_type": "markdown",
   "metadata": {},
   "source": [
    "## PaymentMethod"
   ]
  },
  {
   "cell_type": "code",
   "execution_count": 16,
   "metadata": {},
   "outputs": [
    {
     "data": {
      "text/plain": [
       "Electronic check             0.336320\n",
       "Mailed check                 0.228100\n",
       "Bank transfer (automatic)    0.219283\n",
       "Credit card (automatic)      0.216297\n",
       "Name: PaymentMethod, dtype: float64"
      ]
     },
     "execution_count": 16,
     "metadata": {},
     "output_type": "execute_result"
    }
   ],
   "source": [
    "df_contract['PaymentMethod'].value_counts(normalize=True)\n"
   ]
  },
  {
   "cell_type": "markdown",
   "metadata": {},
   "source": [
    "распределение класснов параметра `PaymentMethod`, так же, почти равномерно распределены, с небольшим сдвигом в сторону Electronic check"
   ]
  },
  {
   "cell_type": "raw",
   "metadata": {},
   "source": [
    "df_contract['PaymentMethod'] = encoder.fit_transform(\n",
    "    df_contract['PaymentMethod'])\n",
    "encoder.classes_\n"
   ]
  },
  {
   "cell_type": "markdown",
   "metadata": {},
   "source": [
    "## MonthlyCharges"
   ]
  },
  {
   "cell_type": "code",
   "execution_count": 17,
   "metadata": {},
   "outputs": [
    {
     "data": {
      "text/plain": [
       "count    7032.000000\n",
       "mean       64.798208\n",
       "std        30.085974\n",
       "min        18.250000\n",
       "25%        35.587500\n",
       "50%        70.350000\n",
       "75%        89.862500\n",
       "max       118.750000\n",
       "Name: MonthlyCharges, dtype: float64"
      ]
     },
     "execution_count": 17,
     "metadata": {},
     "output_type": "execute_result"
    }
   ],
   "source": [
    "df_contract['MonthlyCharges'].describe()\n"
   ]
  },
  {
   "cell_type": "markdown",
   "metadata": {},
   "source": [
    "<div class=\"alert alert-info\">\n",
    "<b>Комментарий студента после ревью 1:</b>\n",
    "    \n",
    "- средняя цена за месяц составляет 65\n",
    "    - и скорее всего пик у 25 перетянул ее в меньшую сторону от медианы\n",
    "- медианная цена за месяц составляет 70\n",
    "- аномалий в данных не наблюдается\n",
    "    - максимальные и минимальные значения выглядят реалистично.\n",
    "        - около минимальных и максимальных значений достаточно клиентов с схожими ценами за месяц\n",
    "</div>"
   ]
  },
  {
   "cell_type": "code",
   "execution_count": 18,
   "metadata": {},
   "outputs": [
    {
     "data": {
      "text/plain": [
       "<AxesSubplot:ylabel='Density'>"
      ]
     },
     "execution_count": 18,
     "metadata": {},
     "output_type": "execute_result"
    },
    {
     "data": {
      "image/png": "[encoded data removed]",
      "text/plain": [
       "<Figure size 432x288 with 1 Axes>"
      ]
     },
     "metadata": {
      "needs_background": "light"
     },
     "output_type": "display_data"
    }
   ],
   "source": [
    "df_contract['MonthlyCharges'].plot(kind='kde')\n"
   ]
  },
  {
   "cell_type": "markdown",
   "metadata": {},
   "source": [
    "наибольший пик наблюдается на стоимости 25 за месяц, второй пик на уровне 80 за месяц\n"
   ]
  },
  {
   "cell_type": "markdown",
   "metadata": {},
   "source": [
    "<div class=\"alert alert-danger\">\n",
    "<b>Комментарий ревьюера: &#10060; </b> Здесь и далее: хорошо, давай только добавим еще выводы по описательной статистике, раз ты ее используешь </div>"
   ]
  },
  {
   "cell_type": "markdown",
   "metadata": {},
   "source": [
    "## TotalCharges"
   ]
  },
  {
   "cell_type": "code",
   "execution_count": 19,
   "metadata": {},
   "outputs": [
    {
     "data": {
      "text/plain": [
       "count    7032.000000\n",
       "mean     2283.300441\n",
       "std      2266.771362\n",
       "min        18.800000\n",
       "25%       401.450000\n",
       "50%      1397.475000\n",
       "75%      3794.737500\n",
       "max      8684.800000\n",
       "Name: TotalCharges, dtype: float64"
      ]
     },
     "execution_count": 19,
     "metadata": {},
     "output_type": "execute_result"
    }
   ],
   "source": [
    "df_contract['TotalCharges'].describe()\n"
   ]
  },
  {
   "cell_type": "markdown",
   "metadata": {},
   "source": [
    "<div class=\"alert alert-info\">\n",
    "<b>Комментарий студента после ревью 1:</b>\n",
    "\n",
    "- медиана находится прямо на пике\n",
    "- когда среднее значение сдвинулось в сторону больших значений, так как видим достаточное количество клиентов с большими общими чеками \n",
    "</div>"
   ]
  },
  {
   "cell_type": "code",
   "execution_count": 20,
   "metadata": {},
   "outputs": [
    {
     "data": {
      "text/plain": [
       "<AxesSubplot:ylabel='Density'>"
      ]
     },
     "execution_count": 20,
     "metadata": {},
     "output_type": "execute_result"
    },
    {
     "data": {
      "image/png": "[encoded data removed]",
      "text/plain": [
       "<Figure size 432x288 with 1 Axes>"
      ]
     },
     "metadata": {
      "needs_background": "light"
     },
     "output_type": "display_data"
    }
   ],
   "source": [
    "df_contract['TotalCharges'].plot(kind='kde')\n"
   ]
  },
  {
   "cell_type": "markdown",
   "metadata": {},
   "source": [
    "основная масса клиентов потратила около 1300"
   ]
  },
  {
   "cell_type": "markdown",
   "metadata": {},
   "source": [
    "# df_internet"
   ]
  },
  {
   "cell_type": "code",
   "execution_count": 21,
   "metadata": {},
   "outputs": [
    {
     "data": {
      "text/html": [
       "<div>\n",
       "<style scoped>\n",
       "    .dataframe tbody tr th:only-of-type {\n",
       "        vertical-align: middle;\n",
       "    }\n",
       "\n",
       "    .dataframe tbody tr th {\n",
       "        vertical-align: top;\n",
       "    }\n",
       "\n",
       "    .dataframe thead th {\n",
       "        text-align: right;\n",
       "    }\n",
       "</style>\n",
       "<table border=\"1\" class=\"dataframe\">\n",
       "  <thead>\n",
       "    <tr style=\"text-align: right;\">\n",
       "      <th></th>\n",
       "      <th>customerID</th>\n",
       "      <th>InternetService</th>\n",
       "      <th>OnlineSecurity</th>\n",
       "      <th>OnlineBackup</th>\n",
       "      <th>DeviceProtection</th>\n",
       "      <th>TechSupport</th>\n",
       "      <th>StreamingTV</th>\n",
       "      <th>StreamingMovies</th>\n",
       "    </tr>\n",
       "  </thead>\n",
       "  <tbody>\n",
       "    <tr>\n",
       "      <th>0</th>\n",
       "      <td>7590-VHVEG</td>\n",
       "      <td>DSL</td>\n",
       "      <td>No</td>\n",
       "      <td>Yes</td>\n",
       "      <td>No</td>\n",
       "      <td>No</td>\n",
       "      <td>No</td>\n",
       "      <td>No</td>\n",
       "    </tr>\n",
       "    <tr>\n",
       "      <th>1</th>\n",
       "      <td>5575-GNVDE</td>\n",
       "      <td>DSL</td>\n",
       "      <td>Yes</td>\n",
       "      <td>No</td>\n",
       "      <td>Yes</td>\n",
       "      <td>No</td>\n",
       "      <td>No</td>\n",
       "      <td>No</td>\n",
       "    </tr>\n",
       "    <tr>\n",
       "      <th>2</th>\n",
       "      <td>3668-QPYBK</td>\n",
       "      <td>DSL</td>\n",
       "      <td>Yes</td>\n",
       "      <td>Yes</td>\n",
       "      <td>No</td>\n",
       "      <td>No</td>\n",
       "      <td>No</td>\n",
       "      <td>No</td>\n",
       "    </tr>\n",
       "    <tr>\n",
       "      <th>3</th>\n",
       "      <td>7795-CFOCW</td>\n",
       "      <td>DSL</td>\n",
       "      <td>Yes</td>\n",
       "      <td>No</td>\n",
       "      <td>Yes</td>\n",
       "      <td>Yes</td>\n",
       "      <td>No</td>\n",
       "      <td>No</td>\n",
       "    </tr>\n",
       "    <tr>\n",
       "      <th>4</th>\n",
       "      <td>9237-HQITU</td>\n",
       "      <td>Fiber optic</td>\n",
       "      <td>No</td>\n",
       "      <td>No</td>\n",
       "      <td>No</td>\n",
       "      <td>No</td>\n",
       "      <td>No</td>\n",
       "      <td>No</td>\n",
       "    </tr>\n",
       "  </tbody>\n",
       "</table>\n",
       "</div>"
      ],
      "text/plain": [
       "   customerID InternetService OnlineSecurity OnlineBackup DeviceProtection  \\\n",
       "0  7590-VHVEG             DSL             No          Yes               No   \n",
       "1  5575-GNVDE             DSL            Yes           No              Yes   \n",
       "2  3668-QPYBK             DSL            Yes          Yes               No   \n",
       "3  7795-CFOCW             DSL            Yes           No              Yes   \n",
       "4  9237-HQITU     Fiber optic             No           No               No   \n",
       "\n",
       "  TechSupport StreamingTV StreamingMovies  \n",
       "0          No          No              No  \n",
       "1          No          No              No  \n",
       "2          No          No              No  \n",
       "3         Yes          No              No  \n",
       "4          No          No              No  "
      ]
     },
     "execution_count": 21,
     "metadata": {},
     "output_type": "execute_result"
    }
   ],
   "source": [
    "df_internet.head()\n"
   ]
  },
  {
   "cell_type": "code",
   "execution_count": 22,
   "metadata": {},
   "outputs": [
    {
     "name": "stdout",
     "output_type": "stream",
     "text": [
      "<class 'pandas.core.frame.DataFrame'>\n",
      "RangeIndex: 5517 entries, 0 to 5516\n",
      "Data columns (total 8 columns):\n",
      " #   Column            Non-Null Count  Dtype \n",
      "---  ------            --------------  ----- \n",
      " 0   customerID        5517 non-null   object\n",
      " 1   InternetService   5517 non-null   object\n",
      " 2   OnlineSecurity    5517 non-null   object\n",
      " 3   OnlineBackup      5517 non-null   object\n",
      " 4   DeviceProtection  5517 non-null   object\n",
      " 5   TechSupport       5517 non-null   object\n",
      " 6   StreamingTV       5517 non-null   object\n",
      " 7   StreamingMovies   5517 non-null   object\n",
      "dtypes: object(8)\n",
      "memory usage: 344.9+ KB\n"
     ]
    }
   ],
   "source": [
    "df_internet.info()\n"
   ]
  },
  {
   "cell_type": "code",
   "execution_count": 23,
   "metadata": {},
   "outputs": [
    {
     "data": {
      "text/html": [
       "<div>\n",
       "<style scoped>\n",
       "    .dataframe tbody tr th:only-of-type {\n",
       "        vertical-align: middle;\n",
       "    }\n",
       "\n",
       "    .dataframe tbody tr th {\n",
       "        vertical-align: top;\n",
       "    }\n",
       "\n",
       "    .dataframe thead th {\n",
       "        text-align: right;\n",
       "    }\n",
       "</style>\n",
       "<table border=\"1\" class=\"dataframe\">\n",
       "  <thead>\n",
       "    <tr style=\"text-align: right;\">\n",
       "      <th></th>\n",
       "      <th>customerID</th>\n",
       "      <th>InternetService</th>\n",
       "      <th>OnlineSecurity</th>\n",
       "      <th>OnlineBackup</th>\n",
       "      <th>DeviceProtection</th>\n",
       "      <th>TechSupport</th>\n",
       "      <th>StreamingTV</th>\n",
       "      <th>StreamingMovies</th>\n",
       "    </tr>\n",
       "  </thead>\n",
       "  <tbody>\n",
       "    <tr>\n",
       "      <th>count</th>\n",
       "      <td>5517</td>\n",
       "      <td>5517</td>\n",
       "      <td>5517</td>\n",
       "      <td>5517</td>\n",
       "      <td>5517</td>\n",
       "      <td>5517</td>\n",
       "      <td>5517</td>\n",
       "      <td>5517</td>\n",
       "    </tr>\n",
       "    <tr>\n",
       "      <th>unique</th>\n",
       "      <td>5517</td>\n",
       "      <td>2</td>\n",
       "      <td>2</td>\n",
       "      <td>2</td>\n",
       "      <td>2</td>\n",
       "      <td>2</td>\n",
       "      <td>2</td>\n",
       "      <td>2</td>\n",
       "    </tr>\n",
       "    <tr>\n",
       "      <th>top</th>\n",
       "      <td>7563-BIUPC</td>\n",
       "      <td>Fiber optic</td>\n",
       "      <td>No</td>\n",
       "      <td>No</td>\n",
       "      <td>No</td>\n",
       "      <td>No</td>\n",
       "      <td>No</td>\n",
       "      <td>No</td>\n",
       "    </tr>\n",
       "    <tr>\n",
       "      <th>freq</th>\n",
       "      <td>1</td>\n",
       "      <td>3096</td>\n",
       "      <td>3498</td>\n",
       "      <td>3088</td>\n",
       "      <td>3095</td>\n",
       "      <td>3473</td>\n",
       "      <td>2810</td>\n",
       "      <td>2785</td>\n",
       "    </tr>\n",
       "  </tbody>\n",
       "</table>\n",
       "</div>"
      ],
      "text/plain": [
       "        customerID InternetService OnlineSecurity OnlineBackup  \\\n",
       "count         5517            5517           5517         5517   \n",
       "unique        5517               2              2            2   \n",
       "top     7563-BIUPC     Fiber optic             No           No   \n",
       "freq             1            3096           3498         3088   \n",
       "\n",
       "       DeviceProtection TechSupport StreamingTV StreamingMovies  \n",
       "count              5517        5517        5517            5517  \n",
       "unique                2           2           2               2  \n",
       "top                  No          No          No              No  \n",
       "freq               3095        3473        2810            2785  "
      ]
     },
     "execution_count": 23,
     "metadata": {},
     "output_type": "execute_result"
    }
   ],
   "source": [
    "df_internet.describe()\n"
   ]
  },
  {
   "cell_type": "markdown",
   "metadata": {},
   "source": [
    "интересно, что около половины пользователей в каждой дополнительной услуге пользуется ею."
   ]
  },
  {
   "cell_type": "markdown",
   "metadata": {},
   "source": [
    "<div class=\"alert alert-danger\">\n",
    "<b>Комментарий ревьюера: &#10060; </b> Может все таки большая половина не пользуется?)\n",
    "</div>"
   ]
  },
  {
   "cell_type": "markdown",
   "metadata": {},
   "source": [
    "<div class=\"alert alert-info\">\n",
    "<b>Комментарий студента после ревью 1:</b>\n",
    "\n",
    "- большая половина не пользуется, но меньшая, как мне показалось, около половины, пользуется.\n",
    "- в этом случае мне показалось интересным, что каждая дополнительная услуга пользуется спросом.\n",
    "    - и нет большого дропа в клинетах\n",
    "</div>"
   ]
  },
  {
   "cell_type": "code",
   "execution_count": 24,
   "metadata": {},
   "outputs": [
    {
     "data": {
      "text/plain": [
       "customerID           0.018126\n",
       "InternetService     56.117455\n",
       "OnlineSecurity      63.404024\n",
       "OnlineBackup        55.972449\n",
       "DeviceProtection    56.099329\n",
       "TechSupport         62.950879\n",
       "StreamingTV         50.933478\n",
       "StreamingMovies     50.480334\n",
       "dtype: object"
      ]
     },
     "execution_count": 24,
     "metadata": {},
     "output_type": "execute_result"
    }
   ],
   "source": [
    "# у большинства признаков, наибольший класс чуть больше 50%\n",
    "# значит второй класс находится около половины\n",
    "df_internet.describe().iloc[3] / df_internet.describe().iloc[0] * 100"
   ]
  },
  {
   "cell_type": "code",
   "execution_count": 25,
   "metadata": {},
   "outputs": [
    {
     "name": "stdout",
     "output_type": "stream",
     "text": [
      "customerID\n",
      "['7590-VHVEG' '5575-GNVDE' '3668-QPYBK' ... '4801-JZAZL' '8361-LTMKD'\n",
      " '3186-AJIEK']\n",
      "---\n",
      "InternetService\n",
      "['DSL' 'Fiber optic']\n",
      "---\n",
      "OnlineSecurity\n",
      "['No' 'Yes']\n",
      "---\n",
      "OnlineBackup\n",
      "['Yes' 'No']\n",
      "---\n",
      "DeviceProtection\n",
      "['No' 'Yes']\n",
      "---\n",
      "TechSupport\n",
      "['No' 'Yes']\n",
      "---\n",
      "StreamingTV\n",
      "['No' 'Yes']\n",
      "---\n",
      "StreamingMovies\n",
      "['No' 'Yes']\n",
      "---\n"
     ]
    }
   ],
   "source": [
    "check_uniques(df_internet)\n"
   ]
  },
  {
   "cell_type": "markdown",
   "metadata": {},
   "source": [
    "здесь так же можно каждый параметр кодировать OHE "
   ]
  },
  {
   "cell_type": "markdown",
   "metadata": {},
   "source": [
    "<div class=\"alert alert-success\">\n",
    "<b>Комментарий ревьюера:\n",
    "&#9989;</b> Согласен! </div>"
   ]
  },
  {
   "cell_type": "raw",
   "metadata": {},
   "source": [
    "# чтобы не печатать все названия признаков руками\n",
    "df_internet.columns\n"
   ]
  },
  {
   "cell_type": "raw",
   "metadata": {},
   "source": [
    "df_internet[['InternetService', 'OnlineSecurity', 'OnlineBackup',\n",
    "             'DeviceProtection', 'TechSupport', 'StreamingTV', 'StreamingMovies']] = pd.get_dummies(df_internet.drop(columns='customerID'), drop_first=True)\n"
   ]
  },
  {
   "cell_type": "markdown",
   "metadata": {},
   "source": [
    "<div class=\"alert alert-danger\">\n",
    "<b>Комментарий ревьюера: &#10060; </b> Здесь и далее: при кодирование OHE у тебя тут будет утечка данных. Попробуй использовать OHE из библиотеки sklearn, fit_transform на обучающей выборке, transform на тестовой. Самое лучшее при работе с признаками - использовать пайплайны. </div>"
   ]
  },
  {
   "cell_type": "markdown",
   "metadata": {},
   "source": [
    "<div class=\"alert alert-info\">\n",
    "<b>Комментарий студента после ревью 1:</b>\n",
    "\n",
    "- хорошо, понял\n",
    "</div>"
   ]
  },
  {
   "cell_type": "code",
   "execution_count": 26,
   "metadata": {},
   "outputs": [
    {
     "data": {
      "text/plain": [
       "78.45563139931741"
      ]
     },
     "execution_count": 26,
     "metadata": {},
     "output_type": "execute_result"
    }
   ],
   "source": [
    "df_internet.shape[0] / df_contract.shape[0] * 100\n"
   ]
  },
  {
   "cell_type": "markdown",
   "metadata": {},
   "source": [
    "данная таблица содержит данные не для каждого клиента, здесь потеряно 22% клиентов,\n",
    "что уже неприятная потеря. Возможно из за того, что данные услуги были добавлены в процессе развития компании?\n",
    "\n",
    "и в теории можем попробовать все NaN заменить 0 и посмотреть какая метрика получится у модели\n",
    "\n",
    "либо использовать библиотеку, где модель может принять данные с потерянными значениями"
   ]
  },
  {
   "cell_type": "markdown",
   "metadata": {},
   "source": [
    "# df_personal"
   ]
  },
  {
   "cell_type": "code",
   "execution_count": 27,
   "metadata": {},
   "outputs": [
    {
     "data": {
      "text/html": [
       "<div>\n",
       "<style scoped>\n",
       "    .dataframe tbody tr th:only-of-type {\n",
       "        vertical-align: middle;\n",
       "    }\n",
       "\n",
       "    .dataframe tbody tr th {\n",
       "        vertical-align: top;\n",
       "    }\n",
       "\n",
       "    .dataframe thead th {\n",
       "        text-align: right;\n",
       "    }\n",
       "</style>\n",
       "<table border=\"1\" class=\"dataframe\">\n",
       "  <thead>\n",
       "    <tr style=\"text-align: right;\">\n",
       "      <th></th>\n",
       "      <th>customerID</th>\n",
       "      <th>gender</th>\n",
       "      <th>SeniorCitizen</th>\n",
       "      <th>Partner</th>\n",
       "      <th>Dependents</th>\n",
       "    </tr>\n",
       "  </thead>\n",
       "  <tbody>\n",
       "    <tr>\n",
       "      <th>0</th>\n",
       "      <td>7590-VHVEG</td>\n",
       "      <td>Female</td>\n",
       "      <td>0</td>\n",
       "      <td>Yes</td>\n",
       "      <td>No</td>\n",
       "    </tr>\n",
       "    <tr>\n",
       "      <th>1</th>\n",
       "      <td>5575-GNVDE</td>\n",
       "      <td>Male</td>\n",
       "      <td>0</td>\n",
       "      <td>No</td>\n",
       "      <td>No</td>\n",
       "    </tr>\n",
       "    <tr>\n",
       "      <th>2</th>\n",
       "      <td>3668-QPYBK</td>\n",
       "      <td>Male</td>\n",
       "      <td>0</td>\n",
       "      <td>No</td>\n",
       "      <td>No</td>\n",
       "    </tr>\n",
       "    <tr>\n",
       "      <th>3</th>\n",
       "      <td>7795-CFOCW</td>\n",
       "      <td>Male</td>\n",
       "      <td>0</td>\n",
       "      <td>No</td>\n",
       "      <td>No</td>\n",
       "    </tr>\n",
       "    <tr>\n",
       "      <th>4</th>\n",
       "      <td>9237-HQITU</td>\n",
       "      <td>Female</td>\n",
       "      <td>0</td>\n",
       "      <td>No</td>\n",
       "      <td>No</td>\n",
       "    </tr>\n",
       "  </tbody>\n",
       "</table>\n",
       "</div>"
      ],
      "text/plain": [
       "   customerID  gender  SeniorCitizen Partner Dependents\n",
       "0  7590-VHVEG  Female              0     Yes         No\n",
       "1  5575-GNVDE    Male              0      No         No\n",
       "2  3668-QPYBK    Male              0      No         No\n",
       "3  7795-CFOCW    Male              0      No         No\n",
       "4  9237-HQITU  Female              0      No         No"
      ]
     },
     "execution_count": 27,
     "metadata": {},
     "output_type": "execute_result"
    }
   ],
   "source": [
    "df_personal.head()\n"
   ]
  },
  {
   "cell_type": "code",
   "execution_count": 28,
   "metadata": {},
   "outputs": [
    {
     "name": "stdout",
     "output_type": "stream",
     "text": [
      "<class 'pandas.core.frame.DataFrame'>\n",
      "RangeIndex: 7043 entries, 0 to 7042\n",
      "Data columns (total 5 columns):\n",
      " #   Column         Non-Null Count  Dtype \n",
      "---  ------         --------------  ----- \n",
      " 0   customerID     7043 non-null   object\n",
      " 1   gender         7043 non-null   object\n",
      " 2   SeniorCitizen  7043 non-null   int64 \n",
      " 3   Partner        7043 non-null   object\n",
      " 4   Dependents     7043 non-null   object\n",
      "dtypes: int64(1), object(4)\n",
      "memory usage: 275.2+ KB\n"
     ]
    }
   ],
   "source": [
    "df_personal.info()\n"
   ]
  },
  {
   "cell_type": "code",
   "execution_count": 29,
   "metadata": {},
   "outputs": [
    {
     "data": {
      "text/html": [
       "<div>\n",
       "<style scoped>\n",
       "    .dataframe tbody tr th:only-of-type {\n",
       "        vertical-align: middle;\n",
       "    }\n",
       "\n",
       "    .dataframe tbody tr th {\n",
       "        vertical-align: top;\n",
       "    }\n",
       "\n",
       "    .dataframe thead th {\n",
       "        text-align: right;\n",
       "    }\n",
       "</style>\n",
       "<table border=\"1\" class=\"dataframe\">\n",
       "  <thead>\n",
       "    <tr style=\"text-align: right;\">\n",
       "      <th></th>\n",
       "      <th>customerID</th>\n",
       "      <th>gender</th>\n",
       "      <th>SeniorCitizen</th>\n",
       "      <th>Partner</th>\n",
       "      <th>Dependents</th>\n",
       "    </tr>\n",
       "  </thead>\n",
       "  <tbody>\n",
       "    <tr>\n",
       "      <th>count</th>\n",
       "      <td>7043</td>\n",
       "      <td>7043</td>\n",
       "      <td>7043.000000</td>\n",
       "      <td>7043</td>\n",
       "      <td>7043</td>\n",
       "    </tr>\n",
       "    <tr>\n",
       "      <th>unique</th>\n",
       "      <td>7043</td>\n",
       "      <td>2</td>\n",
       "      <td>NaN</td>\n",
       "      <td>2</td>\n",
       "      <td>2</td>\n",
       "    </tr>\n",
       "    <tr>\n",
       "      <th>top</th>\n",
       "      <td>2616-FLVQC</td>\n",
       "      <td>Male</td>\n",
       "      <td>NaN</td>\n",
       "      <td>No</td>\n",
       "      <td>No</td>\n",
       "    </tr>\n",
       "    <tr>\n",
       "      <th>freq</th>\n",
       "      <td>1</td>\n",
       "      <td>3555</td>\n",
       "      <td>NaN</td>\n",
       "      <td>3641</td>\n",
       "      <td>4933</td>\n",
       "    </tr>\n",
       "    <tr>\n",
       "      <th>mean</th>\n",
       "      <td>NaN</td>\n",
       "      <td>NaN</td>\n",
       "      <td>0.162147</td>\n",
       "      <td>NaN</td>\n",
       "      <td>NaN</td>\n",
       "    </tr>\n",
       "    <tr>\n",
       "      <th>std</th>\n",
       "      <td>NaN</td>\n",
       "      <td>NaN</td>\n",
       "      <td>0.368612</td>\n",
       "      <td>NaN</td>\n",
       "      <td>NaN</td>\n",
       "    </tr>\n",
       "    <tr>\n",
       "      <th>min</th>\n",
       "      <td>NaN</td>\n",
       "      <td>NaN</td>\n",
       "      <td>0.000000</td>\n",
       "      <td>NaN</td>\n",
       "      <td>NaN</td>\n",
       "    </tr>\n",
       "    <tr>\n",
       "      <th>25%</th>\n",
       "      <td>NaN</td>\n",
       "      <td>NaN</td>\n",
       "      <td>0.000000</td>\n",
       "      <td>NaN</td>\n",
       "      <td>NaN</td>\n",
       "    </tr>\n",
       "    <tr>\n",
       "      <th>50%</th>\n",
       "      <td>NaN</td>\n",
       "      <td>NaN</td>\n",
       "      <td>0.000000</td>\n",
       "      <td>NaN</td>\n",
       "      <td>NaN</td>\n",
       "    </tr>\n",
       "    <tr>\n",
       "      <th>75%</th>\n",
       "      <td>NaN</td>\n",
       "      <td>NaN</td>\n",
       "      <td>0.000000</td>\n",
       "      <td>NaN</td>\n",
       "      <td>NaN</td>\n",
       "    </tr>\n",
       "    <tr>\n",
       "      <th>max</th>\n",
       "      <td>NaN</td>\n",
       "      <td>NaN</td>\n",
       "      <td>1.000000</td>\n",
       "      <td>NaN</td>\n",
       "      <td>NaN</td>\n",
       "    </tr>\n",
       "  </tbody>\n",
       "</table>\n",
       "</div>"
      ],
      "text/plain": [
       "        customerID gender  SeniorCitizen Partner Dependents\n",
       "count         7043   7043    7043.000000    7043       7043\n",
       "unique        7043      2            NaN       2          2\n",
       "top     2616-FLVQC   Male            NaN      No         No\n",
       "freq             1   3555            NaN    3641       4933\n",
       "mean           NaN    NaN       0.162147     NaN        NaN\n",
       "std            NaN    NaN       0.368612     NaN        NaN\n",
       "min            NaN    NaN       0.000000     NaN        NaN\n",
       "25%            NaN    NaN       0.000000     NaN        NaN\n",
       "50%            NaN    NaN       0.000000     NaN        NaN\n",
       "75%            NaN    NaN       0.000000     NaN        NaN\n",
       "max            NaN    NaN       1.000000     NaN        NaN"
      ]
     },
     "execution_count": 29,
     "metadata": {},
     "output_type": "execute_result"
    }
   ],
   "source": [
    "df_personal.describe(include='all')\n"
   ]
  },
  {
   "cell_type": "code",
   "execution_count": 30,
   "metadata": {},
   "outputs": [
    {
     "name": "stdout",
     "output_type": "stream",
     "text": [
      "customerID\n",
      "['7590-VHVEG' '5575-GNVDE' '3668-QPYBK' ... '4801-JZAZL' '8361-LTMKD'\n",
      " '3186-AJIEK']\n",
      "---\n",
      "gender\n",
      "['Female' 'Male']\n",
      "---\n",
      "SeniorCitizen\n",
      "[0 1]\n",
      "---\n",
      "Partner\n",
      "['Yes' 'No']\n",
      "---\n",
      "Dependents\n",
      "['No' 'Yes']\n",
      "---\n"
     ]
    }
   ],
   "source": [
    "check_uniques(df_personal)\n"
   ]
  },
  {
   "cell_type": "code",
   "execution_count": 31,
   "metadata": {},
   "outputs": [
    {
     "data": {
      "text/plain": [
       "2616-FLVQC    0.000142\n",
       "2408-PSJVE    0.000142\n",
       "7136-RVDTZ    0.000142\n",
       "7963-SHNDT    0.000142\n",
       "2332-TODQS    0.000142\n",
       "                ...   \n",
       "6869-FGJJC    0.000142\n",
       "3351-NGXYI    0.000142\n",
       "2888-ADFAO    0.000142\n",
       "0562-KBDVM    0.000142\n",
       "2122-YWVYA    0.000142\n",
       "Name: customerID, Length: 7043, dtype: float64"
      ]
     },
     "metadata": {},
     "output_type": "display_data"
    },
    {
     "data": {
      "text/plain": [
       "Male      0.504756\n",
       "Female    0.495244\n",
       "Name: gender, dtype: float64"
      ]
     },
     "metadata": {},
     "output_type": "display_data"
    },
    {
     "data": {
      "text/plain": [
       "0    0.837853\n",
       "1    0.162147\n",
       "Name: SeniorCitizen, dtype: float64"
      ]
     },
     "metadata": {},
     "output_type": "display_data"
    },
    {
     "data": {
      "text/plain": [
       "No     0.516967\n",
       "Yes    0.483033\n",
       "Name: Partner, dtype: float64"
      ]
     },
     "metadata": {},
     "output_type": "display_data"
    },
    {
     "data": {
      "text/plain": [
       "No     0.700412\n",
       "Yes    0.299588\n",
       "Name: Dependents, dtype: float64"
      ]
     },
     "metadata": {},
     "output_type": "display_data"
    }
   ],
   "source": [
    "for i in df_personal.columns:\n",
    "    display(df_personal[i].value_counts(normalize=True))"
   ]
  },
  {
   "cell_type": "markdown",
   "metadata": {},
   "source": [
    "почти все параметры распределены равномерно\n",
    "\n",
    "помимо `Dependents` у которого сдвиг в сторону \"No\"\n",
    "И `SeniorCitizen` у которого сдив в сторону более молодых клиентов"
   ]
  },
  {
   "cell_type": "markdown",
   "metadata": {},
   "source": [
    "<div class=\"alert alert-info\">\n",
    "<b>Комментарий студента после ревью 1:</b>\n",
    "\n",
    "- так же не многие имеют иждивенцев, всего 30%\n",
    "</div>"
   ]
  },
  {
   "cell_type": "markdown",
   "metadata": {},
   "source": [
    "данные параметры все относятся к категориальным, помимо `customerID`, и их можно закодировать."
   ]
  },
  {
   "cell_type": "raw",
   "metadata": {},
   "source": [
    "df_personal[['gender', 'Partner', 'Dependents']] = pd.get_dummies(\n",
    "    df_personal.drop(columns=['customerID', 'SeniorCitizen']), drop_first=True)\n"
   ]
  },
  {
   "cell_type": "markdown",
   "metadata": {},
   "source": [
    "<div class=\"alert alert-info\">\n",
    "<b>Комментарий студента после ревью 1:</b>\n",
    "\n",
    "- убираю, так как это выполняется в следующей части проекта\n",
    "</div>"
   ]
  },
  {
   "cell_type": "markdown",
   "metadata": {},
   "source": [
    "# df_phone"
   ]
  },
  {
   "cell_type": "code",
   "execution_count": 32,
   "metadata": {},
   "outputs": [
    {
     "data": {
      "text/html": [
       "<div>\n",
       "<style scoped>\n",
       "    .dataframe tbody tr th:only-of-type {\n",
       "        vertical-align: middle;\n",
       "    }\n",
       "\n",
       "    .dataframe tbody tr th {\n",
       "        vertical-align: top;\n",
       "    }\n",
       "\n",
       "    .dataframe thead th {\n",
       "        text-align: right;\n",
       "    }\n",
       "</style>\n",
       "<table border=\"1\" class=\"dataframe\">\n",
       "  <thead>\n",
       "    <tr style=\"text-align: right;\">\n",
       "      <th></th>\n",
       "      <th>customerID</th>\n",
       "      <th>MultipleLines</th>\n",
       "    </tr>\n",
       "  </thead>\n",
       "  <tbody>\n",
       "    <tr>\n",
       "      <th>0</th>\n",
       "      <td>5575-GNVDE</td>\n",
       "      <td>No</td>\n",
       "    </tr>\n",
       "    <tr>\n",
       "      <th>1</th>\n",
       "      <td>3668-QPYBK</td>\n",
       "      <td>No</td>\n",
       "    </tr>\n",
       "    <tr>\n",
       "      <th>2</th>\n",
       "      <td>9237-HQITU</td>\n",
       "      <td>No</td>\n",
       "    </tr>\n",
       "    <tr>\n",
       "      <th>3</th>\n",
       "      <td>9305-CDSKC</td>\n",
       "      <td>Yes</td>\n",
       "    </tr>\n",
       "    <tr>\n",
       "      <th>4</th>\n",
       "      <td>1452-KIOVK</td>\n",
       "      <td>Yes</td>\n",
       "    </tr>\n",
       "  </tbody>\n",
       "</table>\n",
       "</div>"
      ],
      "text/plain": [
       "   customerID MultipleLines\n",
       "0  5575-GNVDE            No\n",
       "1  3668-QPYBK            No\n",
       "2  9237-HQITU            No\n",
       "3  9305-CDSKC           Yes\n",
       "4  1452-KIOVK           Yes"
      ]
     },
     "execution_count": 32,
     "metadata": {},
     "output_type": "execute_result"
    }
   ],
   "source": [
    "df_phone.head()\n"
   ]
  },
  {
   "cell_type": "code",
   "execution_count": 33,
   "metadata": {},
   "outputs": [
    {
     "name": "stdout",
     "output_type": "stream",
     "text": [
      "<class 'pandas.core.frame.DataFrame'>\n",
      "RangeIndex: 6361 entries, 0 to 6360\n",
      "Data columns (total 2 columns):\n",
      " #   Column         Non-Null Count  Dtype \n",
      "---  ------         --------------  ----- \n",
      " 0   customerID     6361 non-null   object\n",
      " 1   MultipleLines  6361 non-null   object\n",
      "dtypes: object(2)\n",
      "memory usage: 99.5+ KB\n"
     ]
    }
   ],
   "source": [
    "df_phone.info()\n"
   ]
  },
  {
   "cell_type": "code",
   "execution_count": 34,
   "metadata": {},
   "outputs": [
    {
     "data": {
      "text/plain": [
       "9.142857142857142"
      ]
     },
     "execution_count": 34,
     "metadata": {},
     "output_type": "execute_result"
    }
   ],
   "source": [
    "640 / 7000 * 100\n"
   ]
  },
  {
   "cell_type": "markdown",
   "metadata": {},
   "source": [
    "- если в остальных таблицах было около 7000 пользователей, то здесь на 640 меньше (10%)\n",
    "- услуга MultiLines выходила позже остальных, поэтому не всем предлагалось?\n",
    "- тут зависит от того, какую библиотеку мы будем использовать для обучения модели, у некоторых есть возможность принять на вход данные с пропусками."
   ]
  },
  {
   "cell_type": "code",
   "execution_count": 35,
   "metadata": {},
   "outputs": [
    {
     "data": {
      "text/html": [
       "<div>\n",
       "<style scoped>\n",
       "    .dataframe tbody tr th:only-of-type {\n",
       "        vertical-align: middle;\n",
       "    }\n",
       "\n",
       "    .dataframe tbody tr th {\n",
       "        vertical-align: top;\n",
       "    }\n",
       "\n",
       "    .dataframe thead th {\n",
       "        text-align: right;\n",
       "    }\n",
       "</style>\n",
       "<table border=\"1\" class=\"dataframe\">\n",
       "  <thead>\n",
       "    <tr style=\"text-align: right;\">\n",
       "      <th></th>\n",
       "      <th>customerID</th>\n",
       "      <th>MultipleLines</th>\n",
       "    </tr>\n",
       "  </thead>\n",
       "  <tbody>\n",
       "    <tr>\n",
       "      <th>count</th>\n",
       "      <td>6361</td>\n",
       "      <td>6361</td>\n",
       "    </tr>\n",
       "    <tr>\n",
       "      <th>unique</th>\n",
       "      <td>6361</td>\n",
       "      <td>2</td>\n",
       "    </tr>\n",
       "    <tr>\n",
       "      <th>top</th>\n",
       "      <td>2616-FLVQC</td>\n",
       "      <td>No</td>\n",
       "    </tr>\n",
       "    <tr>\n",
       "      <th>freq</th>\n",
       "      <td>1</td>\n",
       "      <td>3390</td>\n",
       "    </tr>\n",
       "  </tbody>\n",
       "</table>\n",
       "</div>"
      ],
      "text/plain": [
       "        customerID MultipleLines\n",
       "count         6361          6361\n",
       "unique        6361             2\n",
       "top     2616-FLVQC            No\n",
       "freq             1          3390"
      ]
     },
     "execution_count": 35,
     "metadata": {},
     "output_type": "execute_result"
    }
   ],
   "source": [
    "df_phone.describe(include='all')\n"
   ]
  },
  {
   "cell_type": "code",
   "execution_count": 36,
   "metadata": {},
   "outputs": [
    {
     "name": "stdout",
     "output_type": "stream",
     "text": [
      "customerID\n",
      "['5575-GNVDE' '3668-QPYBK' '9237-HQITU' ... '2234-XADUH' '8361-LTMKD'\n",
      " '3186-AJIEK']\n",
      "---\n",
      "MultipleLines\n",
      "['No' 'Yes']\n",
      "---\n"
     ]
    }
   ],
   "source": [
    "check_uniques(df_phone)\n"
   ]
  },
  {
   "cell_type": "markdown",
   "metadata": {},
   "source": [
    "имеется только один параметр `MultiLines`\n",
    "у которого только два значения: No и Yes\n",
    "так же можем привести к формату [0,1]\n",
    "\n",
    "данный параметр распределен равномерно"
   ]
  },
  {
   "cell_type": "raw",
   "metadata": {},
   "source": [
    "df_phone.loc[df_phone.query(\n",
    "    'MultipleLines == \"No\"').index, 'MultipleLines'] = 0\n",
    "df_phone.loc[df_phone.query(\n",
    "    'MultipleLines == \"Yes\"').index, 'MultipleLines'] = 1\n",
    "df_phone['MultipleLines'] = df_phone['MultipleLines'].astype('int')\n"
   ]
  },
  {
   "cell_type": "markdown",
   "metadata": {},
   "source": [
    "<div class=\"alert alert-warning\">\n",
    "<b>Комментарий ревьюера:\n",
    "&#9888;</b> Почему бы и тут не использовать OHE. Так же в данной части работы это не требуется</div>"
   ]
  },
  {
   "cell_type": "markdown",
   "metadata": {},
   "source": [
    "<div class=\"alert alert-info\">\n",
    "<b>Комментарий студента после ревью 1:</b>\n",
    "\n",
    "- решил добавить немного разнообразия\n",
    "</div>"
   ]
  },
  {
   "cell_type": "markdown",
   "metadata": {},
   "source": [
    "# Объединение данных в общую структуру"
   ]
  },
  {
   "cell_type": "code",
   "execution_count": 37,
   "metadata": {},
   "outputs": [],
   "source": [
    "df_all = df_contract.copy()\n"
   ]
  },
  {
   "cell_type": "code",
   "execution_count": 38,
   "metadata": {},
   "outputs": [],
   "source": [
    "df_all = df_all.merge(df_internet, on='customerID', how='left')\n",
    "df_all = df_all.merge(df_personal, on='customerID', how='left')\n",
    "df_all = df_all.merge(df_phone, on='customerID', how='left')\n"
   ]
  },
  {
   "cell_type": "code",
   "execution_count": 39,
   "metadata": {},
   "outputs": [],
   "source": [
    "i = df_all.drop(columns=['customerID', 'BeginDate', 'EndDate'])\n"
   ]
  },
  {
   "cell_type": "markdown",
   "metadata": {},
   "source": [
    "<div class=\"alert alert-danger\">\n",
    "<b>Комментарий ревьюера: &#10060; </b> У тебя почти 3 тысячи строк исчезли, проверь объединение таблиц </div>"
   ]
  },
  {
   "cell_type": "markdown",
   "metadata": {},
   "source": [
    "<div class=\"alert alert-info\">\n",
    "<b>Комментарий студента после ревью 1:</b>\n",
    "\n",
    "- если этот комментарий относительно цифр которые были под заголовком UPD\n",
    "- то это из за того, что я отфильтровал, как мне показалось, странные пики на графике\n",
    "- фильтровал я обрезав временной отрезок так, чтобы эти пики не входили в него\n",
    "- поэтому количество информации значительно изменилось\n",
    "</div>"
   ]
  },
  {
   "cell_type": "code",
   "execution_count": 40,
   "metadata": {},
   "outputs": [
    {
     "data": {
      "text/plain": [
       "7032"
      ]
     },
     "execution_count": 40,
     "metadata": {},
     "output_type": "execute_result"
    }
   ],
   "source": [
    "df_all.shape[0]"
   ]
  },
  {
   "cell_type": "markdown",
   "metadata": {},
   "source": [
    "<div class=\"alert alert-info\">\n",
    "<b>Комментарий студента после ревью 1:</b>\n",
    "\n",
    "- вроде потерялось только около 10 клиентов\n",
    "- которые попали на момент, когда данные экспортировали из системы\n",
    "</div>"
   ]
  },
  {
   "cell_type": "markdown",
   "metadata": {},
   "source": [
    "для того, чтобы проверить признаки на наличие проблемы мультиколлинеарности, нам необходимо вычесть VIF (Variance Inflation Factor)"
   ]
  },
  {
   "cell_type": "raw",
   "metadata": {},
   "source": [
    "vifs = pd.Series(np.linalg.inv(i.corr().to_numpy()).diagonal(),\n",
    "                 index=i.columns, name='VIF')\n",
    "vifs\n"
   ]
  },
  {
   "cell_type": "markdown",
   "metadata": {},
   "source": [
    "<div class=\"alert alert-info\">\n",
    "<b>Комментарий студента после ревью 1:</b>\n",
    "\n",
    "- так как отключили все OHE, то данный код не сработает, поэтому сразу же отключу\n",
    "</div>"
   ]
  },
  {
   "cell_type": "markdown",
   "metadata": {},
   "source": [
    "так как у признака `MonthlyCharges` VIF больше 10, это обозначате, что в данных имеется проблема мультиколлинеарности\n",
    "\n",
    "мы можем либо удалить данный признак, либо оставить\n",
    "\n",
    "в случае, если целью нашего построения модели является получения рабочей модели, то мы можем и оставиь ее,\n",
    "если же мы хотим после успешного обучения модели посмотреть какие параметры она связала (интерпретация модели), то нам необходимо удалить данный параметр"
   ]
  },
  {
   "cell_type": "markdown",
   "metadata": {},
   "source": [
    "<div class=\"alert alert-success\">\n",
    "<b>Комментарий ревьюера:\n",
    "&#9989;</b> Молодец, что знаешь про VIF! Так же можно посмотреть ковариационную матрицу. </div>"
   ]
  },
  {
   "cell_type": "markdown",
   "metadata": {},
   "source": [
    "# Выводы\n",
    "- все таблицы были просмотрены\n",
    "- основные проблемы:\n",
    "    - не соответствие типа данных\n",
    "    - временные данные вызывают сомнения\n",
    "        - данные время оформления контракта имеют два сильных пика\n",
    "        - данные отмены контракта содержат данные только за конец 2019 года\n",
    "    - имеется проблема мультиколлинеарности\n",
    "    - потеря данных в двух таблицах:\n",
    "        - df_internet -- 22% по отношению к df_contract\n",
    "        - df_phone -- 9.1% по отношению к df_contract\n",
    "- проведена кодировка данных"
   ]
  },
  {
   "cell_type": "markdown",
   "metadata": {},
   "source": [
    "# UPD"
   ]
  },
  {
   "cell_type": "markdown",
   "metadata": {},
   "source": [
    "фильтр данных"
   ]
  },
  {
   "cell_type": "raw",
   "metadata": {},
   "source": [
    "start_period = datetime(year=2014, month=5, day=1)\n",
    "end_period = datetime(year=2019, month=1, day=1)\n",
    "\n",
    "\n",
    "df_contract = df_contract[(df_contract['BeginDate'] >= start_period) & (\n",
    "    df_contract['BeginDate'] <= end_period)]\n"
   ]
  },
  {
   "cell_type": "markdown",
   "metadata": {},
   "source": [
    "<div class=\"alert alert-danger\">\n",
    "<b>Комментарий ревьюера: &#10060; </b> Как я писал выше, аномали в данных нет, поэтому фильтровать ничего не надо </div>"
   ]
  },
  {
   "cell_type": "markdown",
   "metadata": {},
   "source": [
    "проверим как данный фильтр повлиял на распределение классов"
   ]
  },
  {
   "cell_type": "raw",
   "metadata": {},
   "source": [
    "df_all = df_contract.copy()\n",
    "df_all = df_all.merge(df_internet, on='customerID', how='left')\n",
    "df_all = df_all.merge(df_personal, on='customerID', how='left')\n",
    "df_all = df_all.merge(df_phone, on='customerID', how='left')\n",
    "i = df_all.drop(columns=['customerID', 'BeginDate', 'EndDate'])\n",
    "vifs = pd.Series(np.linalg.inv(i.corr().to_numpy()).diagonal(),\n",
    "                 index=i.columns, name='VIF')\n",
    "display(vifs)"
   ]
  },
  {
   "cell_type": "raw",
   "metadata": {},
   "source": [
    "# проблема с отсутствующими данными осталась\n",
    "df_all.info()"
   ]
  },
  {
   "cell_type": "raw",
   "metadata": {},
   "source": [
    "for i in df_all.columns:\n",
    "    if i == 'customerID' or i == 'BeginDate':\n",
    "        continue\n",
    "    print(df_all[i].value_counts(normalize=True))\n"
   ]
  },
  {
   "cell_type": "markdown",
   "metadata": {},
   "source": [
    "данный фильтр не сильно изменил распределение классов в признаках, как и на VIF"
   ]
  },
  {
   "cell_type": "markdown",
   "metadata": {
    "pycharm": {
     "name": "#%% md\n"
    }
   },
   "source": [
    "# Вопросы"
   ]
  },
  {
   "cell_type": "markdown",
   "metadata": {
    "pycharm": {
     "name": "#%% md\n"
    }
   },
   "source": [
    "- предполагается, что мы приводим столбец EndDate к формату [0,1]?\n",
    "    - в данном случае предполагается задача классификации?\n",
    "- предполагается, что мы будем использовать `Binary Cross-Entropy Loss` как фунцию потерь?\n",
    "- какие ресурсы есть у компании, чтобы обучить и поддерживать модель?\n",
    "    - для того, чтобы выбрать тип модели для обучения\n",
    "- если имеет значение:\n",
    "    - дополнительные услуги входят в стоимость указанную в признаке `MonthlyCharges`? или мы должны это дополнительно рассчитывать\n",
    "    - что обозначает признак `MultipleLines`"
   ]
  },
  {
   "cell_type": "markdown",
   "metadata": {},
   "source": [
    "<div class=\"alert alert-success\">\n",
    "<b>Комментарий ревьюера:\n",
    "&#9989;</b> 1. У нас задача бинарной классификации\n",
    "<br>2. Главной метрикой у нас будет roc-auc\n",
    "<br>3. Лучше всегда начинать с простых моделей\n",
    "<br>4. Подготовка признаков на твое усмотрение, обозначения признаков я привел в слаке</div>"
   ]
  },
  {
   "cell_type": "markdown",
   "metadata": {},
   "source": [
    "# План выполнения задачи"
   ]
  },
  {
   "cell_type": "markdown",
   "metadata": {},
   "source": [
    "1. Уточнение задачи\n",
    "    - базовая метрика\n",
    "    - в каком формате необходим итог\n",
    "    - как будет производиться оценка модели\n",
    "2. Предобработка данных\n",
    "    - ~~нахождение и устранение аномалий данных~~\n",
    "    - кодирование признаков\n",
    "    - обработка VIF\n",
    "    - возможно нормализация данных\n",
    "3. Обучение модели\n",
    "    - выбор библиотеки для выполнения поставленной задачи\n",
    "    - формирование датасетов\n",
    "    - Модель 1:\n",
    "        - тестовое обучение\n",
    "        - настройка гиперпараметров\n",
    "    - Модель 2 (бустинговая):\n",
    "        - тестовое обучение\n",
    "        - настройка гиперпараметров\n",
    "4. Проверка модели на тестовых данных\n",
    "    - сравнение результатов с целевыми\n",
    "    - при необходимости повторить предыдущий пункт\n",
    "5. Сдача задания\n",
    "    - отправление кода\n",
    "    - оценка работы"
   ]
  },
  {
   "cell_type": "markdown",
   "metadata": {},
   "source": [
    "<div class=\"alert alert-danger\">\n",
    "<b>Комментарий ревьюера: &#10060; </b> Подправь, пожалуйста, план. По заданию нужно будет сделать минимум 2 модели, включая бустинговую модель. Так же аномалий в данном случае нет</div>"
   ]
  },
  {
   "cell_type": "markdown",
   "metadata": {},
   "source": [
    "<b>Итоговый комментарий ревьюера:\n",
    "&#9989;</b> Отлично, критические замечания учтены. Теперь можно переходить к выполнению второй части работы. Удачи!"
   ]
  }
 ],
 "metadata": {
  "ExecuteTimeLog": [
   {
    "duration": 1470,
    "start_time": "2022-09-13T14:25:17.146Z"
   },
   {
    "duration": 3,
    "start_time": "2022-09-13T14:25:18.618Z"
   },
   {
    "duration": 419,
    "start_time": "2022-09-13T14:25:18.623Z"
   },
   {
    "duration": 15,
    "start_time": "2022-09-13T14:25:19.044Z"
   },
   {
    "duration": 13,
    "start_time": "2022-09-13T14:25:19.061Z"
   },
   {
    "duration": 23,
    "start_time": "2022-09-13T14:25:19.075Z"
   },
   {
    "duration": 215,
    "start_time": "2022-09-13T14:25:19.100Z"
   },
   {
    "duration": 7,
    "start_time": "2022-09-13T14:25:19.317Z"
   },
   {
    "duration": 5,
    "start_time": "2022-09-13T14:25:19.326Z"
   },
   {
    "duration": 146,
    "start_time": "2022-09-13T14:25:19.333Z"
   },
   {
    "duration": 6,
    "start_time": "2022-09-13T14:25:19.481Z"
   },
   {
    "duration": 146,
    "start_time": "2022-09-13T14:25:19.488Z"
   },
   {
    "duration": 3,
    "start_time": "2022-09-13T14:25:19.636Z"
   },
   {
    "duration": 19,
    "start_time": "2022-09-13T14:25:19.642Z"
   },
   {
    "duration": 21,
    "start_time": "2022-09-13T14:25:19.663Z"
   },
   {
    "duration": 5,
    "start_time": "2022-09-13T14:25:19.686Z"
   },
   {
    "duration": 8,
    "start_time": "2022-09-13T14:25:19.692Z"
   },
   {
    "duration": 22,
    "start_time": "2022-09-13T14:25:19.702Z"
   },
   {
    "duration": 10,
    "start_time": "2022-09-13T14:25:19.725Z"
   },
   {
    "duration": 6,
    "start_time": "2022-09-13T14:25:19.736Z"
   },
   {
    "duration": 7,
    "start_time": "2022-09-13T14:25:19.744Z"
   },
   {
    "duration": 14,
    "start_time": "2022-09-13T14:25:19.752Z"
   },
   {
    "duration": 6,
    "start_time": "2022-09-13T14:25:19.767Z"
   },
   {
    "duration": 6,
    "start_time": "2022-09-13T14:25:19.775Z"
   },
   {
    "duration": 40,
    "start_time": "2022-09-13T14:25:19.782Z"
   },
   {
    "duration": 228,
    "start_time": "2022-09-13T14:25:19.824Z"
   },
   {
    "duration": 7,
    "start_time": "2022-09-13T14:25:20.054Z"
   },
   {
    "duration": 217,
    "start_time": "2022-09-13T14:25:20.063Z"
   },
   {
    "duration": 10,
    "start_time": "2022-09-13T14:25:20.282Z"
   },
   {
    "duration": 13,
    "start_time": "2022-09-13T14:25:20.293Z"
   },
   {
    "duration": 32,
    "start_time": "2022-09-13T14:25:20.308Z"
   },
   {
    "duration": 7,
    "start_time": "2022-09-13T14:25:20.342Z"
   },
   {
    "duration": 10,
    "start_time": "2022-09-13T14:25:20.350Z"
   },
   {
    "duration": 23,
    "start_time": "2022-09-13T14:25:20.361Z"
   },
   {
    "duration": 4,
    "start_time": "2022-09-13T14:25:20.386Z"
   },
   {
    "duration": 12,
    "start_time": "2022-09-13T14:25:20.391Z"
   },
   {
    "duration": 26,
    "start_time": "2022-09-13T14:25:20.404Z"
   },
   {
    "duration": 29,
    "start_time": "2022-09-13T14:25:20.431Z"
   },
   {
    "duration": 7,
    "start_time": "2022-09-13T14:25:20.461Z"
   },
   {
    "duration": 24,
    "start_time": "2022-09-13T14:25:20.469Z"
   },
   {
    "duration": 27,
    "start_time": "2022-09-13T14:25:20.497Z"
   },
   {
    "duration": 6,
    "start_time": "2022-09-13T14:25:20.526Z"
   },
   {
    "duration": 13,
    "start_time": "2022-09-13T14:25:20.533Z"
   },
   {
    "duration": 22,
    "start_time": "2022-09-13T14:25:20.547Z"
   },
   {
    "duration": 15,
    "start_time": "2022-09-13T14:25:20.571Z"
   },
   {
    "duration": 5,
    "start_time": "2022-09-13T14:25:20.587Z"
   },
   {
    "duration": 9,
    "start_time": "2022-09-13T14:25:20.594Z"
   },
   {
    "duration": 17,
    "start_time": "2022-09-13T14:25:20.605Z"
   },
   {
    "duration": 22,
    "start_time": "2022-09-13T14:25:20.624Z"
   },
   {
    "duration": 5,
    "start_time": "2022-09-13T14:25:20.648Z"
   },
   {
    "duration": 68,
    "start_time": "2022-09-13T14:25:20.655Z"
   },
   {
    "duration": 7,
    "start_time": "2022-09-13T14:25:20.724Z"
   },
   {
    "duration": 28,
    "start_time": "2022-09-13T14:25:20.822Z"
   },
   {
    "duration": 171,
    "start_time": "2022-09-13T14:25:20.852Z"
   },
   {
    "duration": 34,
    "start_time": "2022-09-13T14:25:21.025Z"
   },
   {
    "duration": 98,
    "start_time": "2022-09-13T14:38:59.948Z"
   },
   {
    "duration": 17,
    "start_time": "2022-09-13T14:50:32.573Z"
   },
   {
    "duration": 6,
    "start_time": "2022-09-13T14:50:53.871Z"
   },
   {
    "duration": 14,
    "start_time": "2022-09-13T15:32:39.805Z"
   },
   {
    "duration": 839,
    "start_time": "2022-09-13T16:53:42.034Z"
   },
   {
    "duration": 4,
    "start_time": "2022-09-13T16:53:43.640Z"
   },
   {
    "duration": 301,
    "start_time": "2022-09-13T16:53:44.427Z"
   },
   {
    "duration": 14,
    "start_time": "2022-09-13T16:53:45.234Z"
   },
   {
    "duration": 12,
    "start_time": "2022-09-13T16:53:45.377Z"
   },
   {
    "duration": 12,
    "start_time": "2022-09-13T16:53:46.101Z"
   },
   {
    "duration": 203,
    "start_time": "2022-09-13T16:53:46.211Z"
   },
   {
    "duration": 10,
    "start_time": "2022-09-13T16:53:46.507Z"
   },
   {
    "duration": 155,
    "start_time": "2022-09-13T16:53:46.567Z"
   },
   {
    "duration": 16,
    "start_time": "2022-09-13T16:53:47.436Z"
   },
   {
    "duration": 18,
    "start_time": "2022-09-13T16:53:48.278Z"
   },
   {
    "duration": 6,
    "start_time": "2022-09-13T16:53:49.001Z"
   },
   {
    "duration": 8,
    "start_time": "2022-09-13T16:53:49.411Z"
   },
   {
    "duration": 8,
    "start_time": "2022-09-13T16:53:50.208Z"
   },
   {
    "duration": 7,
    "start_time": "2022-09-13T16:53:52.739Z"
   },
   {
    "duration": 7,
    "start_time": "2022-09-13T16:53:54.640Z"
   },
   {
    "duration": 8,
    "start_time": "2022-09-13T16:53:57.551Z"
   },
   {
    "duration": 691,
    "start_time": "2022-09-13T16:53:59.042Z"
   },
   {
    "duration": 9,
    "start_time": "2022-09-13T16:54:01.171Z"
   },
   {
    "duration": 204,
    "start_time": "2022-09-13T16:54:01.472Z"
   },
   {
    "duration": 10,
    "start_time": "2022-09-13T16:54:03.243Z"
   },
   {
    "duration": 12,
    "start_time": "2022-09-13T16:54:03.468Z"
   },
   {
    "duration": 27,
    "start_time": "2022-09-13T16:54:03.677Z"
   },
   {
    "duration": 44,
    "start_time": "2022-09-13T16:54:06.682Z"
   },
   {
    "duration": 135,
    "start_time": "2022-09-13T16:54:23.611Z"
   },
   {
    "duration": 159,
    "start_time": "2022-09-13T16:54:35.320Z"
   },
   {
    "duration": 219,
    "start_time": "2022-09-13T16:54:43.482Z"
   },
   {
    "duration": 125,
    "start_time": "2022-09-13T16:55:56.791Z"
   },
   {
    "duration": 162,
    "start_time": "2022-09-13T16:56:24.133Z"
   },
   {
    "duration": 87,
    "start_time": "2022-09-13T16:56:30.941Z"
   },
   {
    "duration": 53,
    "start_time": "2022-09-13T16:56:34.147Z"
   },
   {
    "duration": 35,
    "start_time": "2022-09-13T16:56:51.053Z"
   },
   {
    "duration": 50,
    "start_time": "2022-09-13T16:57:01.199Z"
   },
   {
    "duration": 57,
    "start_time": "2022-09-13T16:57:17.883Z"
   },
   {
    "duration": 111,
    "start_time": "2022-09-13T16:57:47.613Z"
   },
   {
    "duration": 125,
    "start_time": "2022-09-13T16:57:54.903Z"
   },
   {
    "duration": 41,
    "start_time": "2022-09-13T16:58:01.442Z"
   },
   {
    "duration": 3,
    "start_time": "2022-09-13T16:59:15.974Z"
   },
   {
    "duration": 3,
    "start_time": "2022-09-13T16:59:15.984Z"
   },
   {
    "duration": 109,
    "start_time": "2022-09-13T16:59:15.989Z"
   },
   {
    "duration": 19,
    "start_time": "2022-09-13T16:59:16.100Z"
   },
   {
    "duration": 23,
    "start_time": "2022-09-13T16:59:16.120Z"
   },
   {
    "duration": 13,
    "start_time": "2022-09-13T16:59:16.145Z"
   },
   {
    "duration": 190,
    "start_time": "2022-09-13T16:59:16.159Z"
   },
   {
    "duration": 6,
    "start_time": "2022-09-13T16:59:16.351Z"
   },
   {
    "duration": 195,
    "start_time": "2022-09-13T16:59:16.359Z"
   },
   {
    "duration": 16,
    "start_time": "2022-09-13T16:59:16.555Z"
   },
   {
    "duration": 30,
    "start_time": "2022-09-13T16:59:16.574Z"
   },
   {
    "duration": 10,
    "start_time": "2022-09-13T16:59:16.606Z"
   },
   {
    "duration": 9,
    "start_time": "2022-09-13T16:59:16.618Z"
   },
   {
    "duration": 11,
    "start_time": "2022-09-13T16:59:16.629Z"
   },
   {
    "duration": 12,
    "start_time": "2022-09-13T16:59:16.641Z"
   },
   {
    "duration": 10,
    "start_time": "2022-09-13T16:59:16.654Z"
   },
   {
    "duration": 10,
    "start_time": "2022-09-13T16:59:16.666Z"
   },
   {
    "duration": 251,
    "start_time": "2022-09-13T16:59:16.678Z"
   },
   {
    "duration": 9,
    "start_time": "2022-09-13T16:59:16.932Z"
   },
   {
    "duration": 236,
    "start_time": "2022-09-13T16:59:16.943Z"
   },
   {
    "duration": 20,
    "start_time": "2022-09-13T16:59:17.181Z"
   },
   {
    "duration": 13,
    "start_time": "2022-09-13T16:59:17.203Z"
   },
   {
    "duration": 37,
    "start_time": "2022-09-13T16:59:17.218Z"
   },
   {
    "duration": 66,
    "start_time": "2022-09-13T16:59:17.258Z"
   },
   {
    "duration": 12,
    "start_time": "2022-09-13T16:59:17.325Z"
   },
   {
    "duration": 8,
    "start_time": "2022-09-13T16:59:17.339Z"
   },
   {
    "duration": 10,
    "start_time": "2022-09-13T16:59:17.349Z"
   },
   {
    "duration": 13,
    "start_time": "2022-09-13T16:59:17.361Z"
   },
   {
    "duration": 51,
    "start_time": "2022-09-13T16:59:17.375Z"
   },
   {
    "duration": 13,
    "start_time": "2022-09-13T16:59:17.428Z"
   },
   {
    "duration": 23,
    "start_time": "2022-09-13T16:59:17.443Z"
   },
   {
    "duration": 44,
    "start_time": "2022-09-13T16:59:17.468Z"
   },
   {
    "duration": 18,
    "start_time": "2022-09-13T16:59:17.514Z"
   },
   {
    "duration": 8,
    "start_time": "2022-09-13T16:59:17.535Z"
   },
   {
    "duration": 16,
    "start_time": "2022-09-13T16:59:17.545Z"
   },
   {
    "duration": 4,
    "start_time": "2022-09-13T16:59:17.563Z"
   },
   {
    "duration": 5,
    "start_time": "2022-09-13T16:59:17.569Z"
   },
   {
    "duration": 52,
    "start_time": "2022-09-13T16:59:17.575Z"
   },
   {
    "duration": 10,
    "start_time": "2022-09-13T16:59:17.629Z"
   },
   {
    "duration": 5,
    "start_time": "2022-09-13T16:59:17.641Z"
   },
   {
    "duration": 3,
    "start_time": "2022-09-13T17:13:05.596Z"
   },
   {
    "duration": 12,
    "start_time": "2022-09-13T17:13:05.601Z"
   },
   {
    "duration": 110,
    "start_time": "2022-09-13T17:13:05.615Z"
   },
   {
    "duration": 11,
    "start_time": "2022-09-13T17:13:05.727Z"
   },
   {
    "duration": 13,
    "start_time": "2022-09-13T17:13:05.739Z"
   },
   {
    "duration": 9,
    "start_time": "2022-09-13T17:13:05.754Z"
   },
   {
    "duration": 149,
    "start_time": "2022-09-13T17:13:05.764Z"
   },
   {
    "duration": 6,
    "start_time": "2022-09-13T17:13:05.915Z"
   },
   {
    "duration": 206,
    "start_time": "2022-09-13T17:13:05.923Z"
   },
   {
    "duration": 13,
    "start_time": "2022-09-13T17:13:06.130Z"
   },
   {
    "duration": 18,
    "start_time": "2022-09-13T17:13:06.145Z"
   },
   {
    "duration": 5,
    "start_time": "2022-09-13T17:13:06.164Z"
   },
   {
    "duration": 6,
    "start_time": "2022-09-13T17:13:06.170Z"
   },
   {
    "duration": 23,
    "start_time": "2022-09-13T17:13:06.178Z"
   },
   {
    "duration": 13,
    "start_time": "2022-09-13T17:13:06.203Z"
   },
   {
    "duration": 13,
    "start_time": "2022-09-13T17:13:06.218Z"
   },
   {
    "duration": 10,
    "start_time": "2022-09-13T17:13:06.233Z"
   },
   {
    "duration": 214,
    "start_time": "2022-09-13T17:13:06.245Z"
   },
   {
    "duration": 8,
    "start_time": "2022-09-13T17:13:06.460Z"
   },
   {
    "duration": 210,
    "start_time": "2022-09-13T17:13:06.469Z"
   },
   {
    "duration": 10,
    "start_time": "2022-09-13T17:13:06.680Z"
   },
   {
    "duration": 12,
    "start_time": "2022-09-13T17:13:06.701Z"
   },
   {
    "duration": 41,
    "start_time": "2022-09-13T17:13:06.715Z"
   },
   {
    "duration": 58,
    "start_time": "2022-09-13T17:13:06.761Z"
   },
   {
    "duration": 10,
    "start_time": "2022-09-13T17:13:06.821Z"
   },
   {
    "duration": 7,
    "start_time": "2022-09-13T17:13:06.833Z"
   },
   {
    "duration": 9,
    "start_time": "2022-09-13T17:13:06.842Z"
   },
   {
    "duration": 12,
    "start_time": "2022-09-13T17:13:06.853Z"
   },
   {
    "duration": 45,
    "start_time": "2022-09-13T17:13:06.867Z"
   },
   {
    "duration": 9,
    "start_time": "2022-09-13T17:13:06.914Z"
   },
   {
    "duration": 23,
    "start_time": "2022-09-13T17:13:06.925Z"
   },
   {
    "duration": 7,
    "start_time": "2022-09-13T17:13:06.950Z"
   },
   {
    "duration": 12,
    "start_time": "2022-09-13T17:13:06.958Z"
   },
   {
    "duration": 45,
    "start_time": "2022-09-13T17:13:06.972Z"
   },
   {
    "duration": 21,
    "start_time": "2022-09-13T17:13:07.022Z"
   },
   {
    "duration": 5,
    "start_time": "2022-09-13T17:13:07.046Z"
   },
   {
    "duration": 7,
    "start_time": "2022-09-13T17:13:07.053Z"
   },
   {
    "duration": 28,
    "start_time": "2022-09-13T17:13:07.062Z"
   },
   {
    "duration": 16,
    "start_time": "2022-09-13T17:13:07.102Z"
   },
   {
    "duration": 18,
    "start_time": "2022-09-13T17:13:07.120Z"
   },
   {
    "duration": 4,
    "start_time": "2022-09-13T17:13:19.966Z"
   },
   {
    "duration": 5,
    "start_time": "2022-09-13T17:13:21.808Z"
   },
   {
    "duration": 3,
    "start_time": "2022-09-13T17:13:23.913Z"
   },
   {
    "duration": 10,
    "start_time": "2022-09-13T17:13:23.918Z"
   },
   {
    "duration": 101,
    "start_time": "2022-09-13T17:13:23.929Z"
   },
   {
    "duration": 10,
    "start_time": "2022-09-13T17:13:24.032Z"
   },
   {
    "duration": 12,
    "start_time": "2022-09-13T17:13:24.044Z"
   },
   {
    "duration": 10,
    "start_time": "2022-09-13T17:13:24.058Z"
   },
   {
    "duration": 177,
    "start_time": "2022-09-13T17:13:24.070Z"
   },
   {
    "duration": 7,
    "start_time": "2022-09-13T17:13:24.248Z"
   },
   {
    "duration": 158,
    "start_time": "2022-09-13T17:13:24.257Z"
   },
   {
    "duration": 20,
    "start_time": "2022-09-13T17:13:24.418Z"
   },
   {
    "duration": 19,
    "start_time": "2022-09-13T17:13:24.441Z"
   },
   {
    "duration": 5,
    "start_time": "2022-09-13T17:13:24.462Z"
   },
   {
    "duration": 8,
    "start_time": "2022-09-13T17:13:24.469Z"
   },
   {
    "duration": 29,
    "start_time": "2022-09-13T17:13:24.479Z"
   },
   {
    "duration": 31,
    "start_time": "2022-09-13T17:13:24.510Z"
   },
   {
    "duration": 13,
    "start_time": "2022-09-13T17:13:24.543Z"
   },
   {
    "duration": 20,
    "start_time": "2022-09-13T17:13:24.558Z"
   },
   {
    "duration": 256,
    "start_time": "2022-09-13T17:13:24.581Z"
   },
   {
    "duration": 8,
    "start_time": "2022-09-13T17:13:24.839Z"
   },
   {
    "duration": 245,
    "start_time": "2022-09-13T17:13:24.849Z"
   },
   {
    "duration": 13,
    "start_time": "2022-09-13T17:13:25.100Z"
   },
   {
    "duration": 23,
    "start_time": "2022-09-13T17:13:25.116Z"
   },
   {
    "duration": 31,
    "start_time": "2022-09-13T17:13:25.141Z"
   },
   {
    "duration": 57,
    "start_time": "2022-09-13T17:13:25.174Z"
   },
   {
    "duration": 7,
    "start_time": "2022-09-13T17:13:25.233Z"
   },
   {
    "duration": 4,
    "start_time": "2022-09-13T17:13:25.243Z"
   },
   {
    "duration": 9,
    "start_time": "2022-09-13T17:13:25.248Z"
   },
   {
    "duration": 10,
    "start_time": "2022-09-13T17:13:25.259Z"
   },
   {
    "duration": 44,
    "start_time": "2022-09-13T17:13:25.271Z"
   },
   {
    "duration": 10,
    "start_time": "2022-09-13T17:13:25.316Z"
   },
   {
    "duration": 28,
    "start_time": "2022-09-13T17:13:25.328Z"
   },
   {
    "duration": 6,
    "start_time": "2022-09-13T17:13:25.358Z"
   },
   {
    "duration": 35,
    "start_time": "2022-09-13T17:13:25.365Z"
   },
   {
    "duration": 6,
    "start_time": "2022-09-13T17:13:25.402Z"
   },
   {
    "duration": 26,
    "start_time": "2022-09-13T17:13:25.409Z"
   },
   {
    "duration": 9,
    "start_time": "2022-09-13T17:13:25.437Z"
   },
   {
    "duration": 4,
    "start_time": "2022-09-13T17:13:25.447Z"
   },
   {
    "duration": 25,
    "start_time": "2022-09-13T17:13:25.452Z"
   },
   {
    "duration": 7,
    "start_time": "2022-09-13T17:13:25.478Z"
   },
   {
    "duration": 5,
    "start_time": "2022-09-13T17:13:25.500Z"
   },
   {
    "duration": 3,
    "start_time": "2022-09-13T17:24:22.528Z"
   },
   {
    "duration": 7,
    "start_time": "2022-09-13T17:24:22.532Z"
   },
   {
    "duration": 113,
    "start_time": "2022-09-13T17:24:22.540Z"
   },
   {
    "duration": 16,
    "start_time": "2022-09-13T17:24:22.655Z"
   },
   {
    "duration": 16,
    "start_time": "2022-09-13T17:24:22.673Z"
   },
   {
    "duration": 10,
    "start_time": "2022-09-13T17:24:22.690Z"
   },
   {
    "duration": 155,
    "start_time": "2022-09-13T17:24:22.703Z"
   },
   {
    "duration": 5,
    "start_time": "2022-09-13T17:24:22.860Z"
   },
   {
    "duration": 153,
    "start_time": "2022-09-13T17:24:22.866Z"
   },
   {
    "duration": 15,
    "start_time": "2022-09-13T17:24:23.021Z"
   },
   {
    "duration": 15,
    "start_time": "2022-09-13T17:24:23.040Z"
   },
   {
    "duration": 6,
    "start_time": "2022-09-13T17:24:23.057Z"
   },
   {
    "duration": 36,
    "start_time": "2022-09-13T17:24:23.065Z"
   },
   {
    "duration": 15,
    "start_time": "2022-09-13T17:24:23.102Z"
   },
   {
    "duration": 14,
    "start_time": "2022-09-13T17:24:23.119Z"
   },
   {
    "duration": 416,
    "start_time": "2022-09-13T17:24:23.135Z"
   },
   {
    "duration": 0,
    "start_time": "2022-09-13T17:24:23.553Z"
   },
   {
    "duration": 0,
    "start_time": "2022-09-13T17:24:23.554Z"
   },
   {
    "duration": 0,
    "start_time": "2022-09-13T17:24:23.555Z"
   },
   {
    "duration": 0,
    "start_time": "2022-09-13T17:24:23.556Z"
   },
   {
    "duration": 0,
    "start_time": "2022-09-13T17:24:23.557Z"
   },
   {
    "duration": 0,
    "start_time": "2022-09-13T17:24:23.558Z"
   },
   {
    "duration": 0,
    "start_time": "2022-09-13T17:24:23.559Z"
   },
   {
    "duration": 0,
    "start_time": "2022-09-13T17:24:23.561Z"
   },
   {
    "duration": 0,
    "start_time": "2022-09-13T17:24:23.562Z"
   },
   {
    "duration": 0,
    "start_time": "2022-09-13T17:24:23.563Z"
   },
   {
    "duration": 0,
    "start_time": "2022-09-13T17:24:23.563Z"
   },
   {
    "duration": 0,
    "start_time": "2022-09-13T17:24:23.564Z"
   },
   {
    "duration": 0,
    "start_time": "2022-09-13T17:24:23.566Z"
   },
   {
    "duration": 0,
    "start_time": "2022-09-13T17:24:23.566Z"
   },
   {
    "duration": 0,
    "start_time": "2022-09-13T17:24:23.567Z"
   },
   {
    "duration": 0,
    "start_time": "2022-09-13T17:24:23.568Z"
   },
   {
    "duration": 0,
    "start_time": "2022-09-13T17:24:23.569Z"
   },
   {
    "duration": 0,
    "start_time": "2022-09-13T17:24:23.570Z"
   },
   {
    "duration": 0,
    "start_time": "2022-09-13T17:24:23.571Z"
   },
   {
    "duration": 0,
    "start_time": "2022-09-13T17:24:23.572Z"
   },
   {
    "duration": 0,
    "start_time": "2022-09-13T17:24:23.573Z"
   },
   {
    "duration": 0,
    "start_time": "2022-09-13T17:24:23.574Z"
   },
   {
    "duration": 0,
    "start_time": "2022-09-13T17:24:23.575Z"
   },
   {
    "duration": 0,
    "start_time": "2022-09-13T17:24:23.576Z"
   },
   {
    "duration": 0,
    "start_time": "2022-09-13T17:24:23.577Z"
   },
   {
    "duration": 6,
    "start_time": "2022-09-13T17:24:56.966Z"
   },
   {
    "duration": 2,
    "start_time": "2022-09-13T17:27:38.684Z"
   },
   {
    "duration": 2,
    "start_time": "2022-09-13T17:27:38.691Z"
   },
   {
    "duration": 100,
    "start_time": "2022-09-13T17:27:38.695Z"
   },
   {
    "duration": 16,
    "start_time": "2022-09-13T17:27:38.797Z"
   },
   {
    "duration": 20,
    "start_time": "2022-09-13T17:27:38.815Z"
   },
   {
    "duration": 11,
    "start_time": "2022-09-13T17:27:38.837Z"
   },
   {
    "duration": 183,
    "start_time": "2022-09-13T17:27:38.850Z"
   },
   {
    "duration": 6,
    "start_time": "2022-09-13T17:27:39.034Z"
   },
   {
    "duration": 145,
    "start_time": "2022-09-13T17:27:39.042Z"
   },
   {
    "duration": 24,
    "start_time": "2022-09-13T17:27:39.189Z"
   },
   {
    "duration": 18,
    "start_time": "2022-09-13T17:27:39.215Z"
   },
   {
    "duration": 4,
    "start_time": "2022-09-13T17:27:39.236Z"
   },
   {
    "duration": 6,
    "start_time": "2022-09-13T17:27:39.242Z"
   },
   {
    "duration": 8,
    "start_time": "2022-09-13T17:27:39.249Z"
   },
   {
    "duration": 8,
    "start_time": "2022-09-13T17:27:39.259Z"
   },
   {
    "duration": 8,
    "start_time": "2022-09-13T17:27:39.269Z"
   },
   {
    "duration": 24,
    "start_time": "2022-09-13T17:27:39.278Z"
   },
   {
    "duration": 237,
    "start_time": "2022-09-13T17:27:39.304Z"
   },
   {
    "duration": 8,
    "start_time": "2022-09-13T17:27:39.543Z"
   },
   {
    "duration": 337,
    "start_time": "2022-09-13T17:27:39.552Z"
   },
   {
    "duration": 21,
    "start_time": "2022-09-13T17:27:39.891Z"
   },
   {
    "duration": 18,
    "start_time": "2022-09-13T17:27:39.914Z"
   },
   {
    "duration": 27,
    "start_time": "2022-09-13T17:27:39.933Z"
   },
   {
    "duration": 46,
    "start_time": "2022-09-13T17:27:39.961Z"
   },
   {
    "duration": 9,
    "start_time": "2022-09-13T17:27:40.009Z"
   },
   {
    "duration": 5,
    "start_time": "2022-09-13T17:27:40.020Z"
   },
   {
    "duration": 13,
    "start_time": "2022-09-13T17:27:40.027Z"
   },
   {
    "duration": 14,
    "start_time": "2022-09-13T17:27:40.041Z"
   },
   {
    "duration": 49,
    "start_time": "2022-09-13T17:27:40.057Z"
   },
   {
    "duration": 8,
    "start_time": "2022-09-13T17:27:40.110Z"
   },
   {
    "duration": 23,
    "start_time": "2022-09-13T17:27:40.119Z"
   },
   {
    "duration": 6,
    "start_time": "2022-09-13T17:27:40.144Z"
   },
   {
    "duration": 12,
    "start_time": "2022-09-13T17:27:40.151Z"
   },
   {
    "duration": 6,
    "start_time": "2022-09-13T17:27:40.164Z"
   },
   {
    "duration": 42,
    "start_time": "2022-09-13T17:27:40.171Z"
   },
   {
    "duration": 5,
    "start_time": "2022-09-13T17:27:40.215Z"
   },
   {
    "duration": 12,
    "start_time": "2022-09-13T17:27:40.222Z"
   },
   {
    "duration": 24,
    "start_time": "2022-09-13T17:27:40.235Z"
   },
   {
    "duration": 7,
    "start_time": "2022-09-13T17:27:40.260Z"
   },
   {
    "duration": 4,
    "start_time": "2022-09-13T17:27:40.268Z"
   },
   {
    "duration": 737,
    "start_time": "2022-09-14T07:47:32.198Z"
   },
   {
    "duration": 2,
    "start_time": "2022-09-14T07:47:32.937Z"
   },
   {
    "duration": 331,
    "start_time": "2022-09-14T07:47:32.941Z"
   },
   {
    "duration": 15,
    "start_time": "2022-09-14T07:47:33.274Z"
   },
   {
    "duration": 12,
    "start_time": "2022-09-14T07:47:33.291Z"
   },
   {
    "duration": 10,
    "start_time": "2022-09-14T07:47:33.305Z"
   },
   {
    "duration": 212,
    "start_time": "2022-09-14T07:47:33.317Z"
   },
   {
    "duration": 7,
    "start_time": "2022-09-14T07:47:33.530Z"
   },
   {
    "duration": 140,
    "start_time": "2022-09-14T07:47:33.538Z"
   },
   {
    "duration": 14,
    "start_time": "2022-09-14T07:47:33.681Z"
   },
   {
    "duration": 14,
    "start_time": "2022-09-14T07:47:33.705Z"
   },
   {
    "duration": 4,
    "start_time": "2022-09-14T07:47:33.720Z"
   },
   {
    "duration": 24,
    "start_time": "2022-09-14T07:47:33.726Z"
   },
   {
    "duration": 16,
    "start_time": "2022-09-14T07:47:33.751Z"
   },
   {
    "duration": 9,
    "start_time": "2022-09-14T07:47:33.768Z"
   },
   {
    "duration": 7,
    "start_time": "2022-09-14T07:47:33.779Z"
   },
   {
    "duration": 14,
    "start_time": "2022-09-14T07:47:33.787Z"
   },
   {
    "duration": 605,
    "start_time": "2022-09-14T07:47:33.803Z"
   },
   {
    "duration": 8,
    "start_time": "2022-09-14T07:47:34.409Z"
   },
   {
    "duration": 200,
    "start_time": "2022-09-14T07:47:34.419Z"
   },
   {
    "duration": 10,
    "start_time": "2022-09-14T07:47:34.620Z"
   },
   {
    "duration": 12,
    "start_time": "2022-09-14T07:47:34.631Z"
   },
   {
    "duration": 26,
    "start_time": "2022-09-14T07:47:34.645Z"
   },
   {
    "duration": 52,
    "start_time": "2022-09-14T07:47:34.672Z"
   },
   {
    "duration": 7,
    "start_time": "2022-09-14T07:47:34.725Z"
   },
   {
    "duration": 10,
    "start_time": "2022-09-14T07:47:34.733Z"
   },
   {
    "duration": 10,
    "start_time": "2022-09-14T07:47:34.744Z"
   },
   {
    "duration": 14,
    "start_time": "2022-09-14T07:47:34.756Z"
   },
   {
    "duration": 37,
    "start_time": "2022-09-14T07:47:34.771Z"
   },
   {
    "duration": 7,
    "start_time": "2022-09-14T07:47:34.809Z"
   },
   {
    "duration": 18,
    "start_time": "2022-09-14T07:47:34.817Z"
   },
   {
    "duration": 6,
    "start_time": "2022-09-14T07:47:34.836Z"
   },
   {
    "duration": 10,
    "start_time": "2022-09-14T07:47:34.843Z"
   },
   {
    "duration": 3,
    "start_time": "2022-09-14T07:47:34.855Z"
   },
   {
    "duration": 14,
    "start_time": "2022-09-14T07:47:34.859Z"
   },
   {
    "duration": 5,
    "start_time": "2022-09-14T07:47:34.905Z"
   },
   {
    "duration": 4,
    "start_time": "2022-09-14T07:47:34.911Z"
   },
   {
    "duration": 23,
    "start_time": "2022-09-14T07:47:34.916Z"
   },
   {
    "duration": 6,
    "start_time": "2022-09-14T07:47:34.941Z"
   },
   {
    "duration": 7,
    "start_time": "2022-09-14T07:47:34.948Z"
   }
  ],
  "kernelspec": {
   "display_name": "Python 3 (ipykernel)",
   "language": "python",
   "name": "python3"
  },
  "language_info": {
   "codemirror_mode": {
    "name": "ipython",
    "version": 3
   },
   "file_extension": ".py",
   "mimetype": "text/x-python",
   "name": "python",
   "nbconvert_exporter": "python",
   "pygments_lexer": "ipython3",
   "version": "3.9.12"
  },
  "toc": {
   "base_numbering": 1,
   "nav_menu": {},
   "number_sections": true,
   "sideBar": true,
   "skip_h1_title": true,
   "title_cell": "Table of Contents",
   "title_sidebar": "Contents",
   "toc_cell": false,
   "toc_position": {},
   "toc_section_display": true,
   "toc_window_display": true
  },
  "vscode": {
   "interpreter": {
    "hash": "a51ca8149b9564b505cb92a41fb28f65804d1dc8091161f9e79474e144c42429"
   }
  }
 },
 "nbformat": 4,
 "nbformat_minor": 1
}
