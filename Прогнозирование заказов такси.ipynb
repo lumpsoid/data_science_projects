{
 "cells": [
  {
   "cell_type": "markdown",
   "metadata": {},
   "source": [
    "Привет, меня зовут Артем Хуршудов. Сегодня я проверю твой проект.\n",
    "<br> Дальнейшее общение будет происходить на \"ты\" если это не вызывает никаких проблем.\n",
    "<br> Желательно реагировать на каждый мой комментарий ('исправил', 'не понятно как исправить ошибку', ...)\n",
    "<br> Пожалуйста, не удаляй комментарии ревьюера, так как они повышают качество повторного ревью.\n",
    "\n",
    "Комментарии будут в <font color='green'>зеленой</font>, <font color='blue'>синей</font> или <font color='red'>красной</font> рамках:\n",
    "\n",
    "<div class=\"alert alert-block alert-success\">\n",
    "<b>Успех:</b> Если все сделано отлично\n",
    "</div>\n",
    "\n",
    "<div class=\"alert alert-block alert-info\">\n",
    "<b>Совет: </b> Если можно немного улучшить\n",
    "</div>\n",
    "\n",
    "<div class=\"alert alert-block alert-danger\">\n",
    "<b>Ошибка:</b> Если требуются исправления. Работа не может быть принята с красными комментариями.\n",
    "</div>\n",
    "\n",
    "-------------------\n",
    "\n",
    "Будет очень хорошо, если ты будешь помечать свои действия следующим образом:\n",
    "<div class=\"alert alert-block alert-warning\">\n",
    "<b>Комментарий студента:</b> ...\n",
    "</div>\n",
    "\n",
    "<div class=\"alert alert-block alert-warning\">\n",
    "<b>Изменения:</b> Были внесены следующие изменения ...\n",
    "</div>\n",
    "\n",
    "#### <font color='orange'>Полезные ссылки:</font>\n",
    "* Полезная лекция про временные ряды: https://www.youtube.com/watch?v=u433nrxdf5k .\n",
    "\n",
    "### <font color='orange'>Общее впечатление</font>\n",
    "* Большое спасибо за проделанную работу. Видно, что приложено много усилий.\n",
    "* Отлично, что ноутбук хорошо структурирован. Приятно проверять такие работы.\n",
    "* Над этим проектом нужно будет еще немного поработать. Однако, изменения не должны занять много времени.\n",
    "* В работе я оставил несколько советов. Буду рад, если ты учтешь их.\n",
    "* С радостью отвечу на твои вопросы, если они есть. Лучше всего их собрать в следующей ячейке. Жду новую версию проекта.\n",
    "\n",
    "\n",
    "### <font color='orange'>Общее впечатление (ревью 2)</font>\n",
    "* Для удобства все новые комментарии обозначены фразой \"ревью 2\".\n",
    "* Удачи в доработке!\n",
    "\n",
    "### <font color='orange'>Общее впечатление (ревью 3)</font>\n",
    "* Все новые комментарии обозначены фразой \"ревью 3\"."
   ]
  },
  {
   "cell_type": "markdown",
   "metadata": {},
   "source": [
    "### <font color='orange'>Общее впечатление (ревью 4)</font>\n",
    "* После исправлений проект улучшился и теперь он может быть зачтен.\n",
    "* Для удобства все новые комментарии обозначены фразой \"ревью 4\".\n",
    "* Еще раз про переход к стационарности:\n",
    "    * Можно поменять целевой признак (резность вместо количества).\n",
    "    * Все шаги (подбор и предсказания на тесте) сделать с измененым таргетом.\n",
    "    * Затем сделать обратное преобразование, как я показал и измерить RMSE.\n",
    "    * Использовать текущее значение num_orders при создании признаков категорически нельзя, так как на момент предсказания ты его не знаешь.\n",
    "* Удачи в дальнейшем обучении и следующих работах!"
   ]
  },
  {
   "cell_type": "markdown",
   "metadata": {
    "toc": true
   },
   "source": [
    "<h1>Содержание<span class=\"tocSkip\"></span></h1>\n",
    "<div class=\"toc\"><ul class=\"toc-item\"><li><ul class=\"toc-item\"><li><ul class=\"toc-item\"><li><span><a href=\"#Полезные-ссылки:\" data-toc-modified-id=\"Полезные-ссылки:-0.0.1\"><span class=\"toc-item-num\">0.0.1&nbsp;&nbsp;</span><font color=\"orange\">Полезные ссылки:</font></a></span></li></ul></li><li><span><a href=\"#Общее-впечатление\" data-toc-modified-id=\"Общее-впечатление-0.1\"><span class=\"toc-item-num\">0.1&nbsp;&nbsp;</span><font color=\"orange\">Общее впечатление</font></a></span></li><li><span><a href=\"#Общее-впечатление-(ревью-2)\" data-toc-modified-id=\"Общее-впечатление-(ревью-2)-0.2\"><span class=\"toc-item-num\">0.2&nbsp;&nbsp;</span><font color=\"orange\">Общее впечатление (ревью 2)</font></a></span></li><li><span><a href=\"#Общее-впечатление-(ревью-3)\" data-toc-modified-id=\"Общее-впечатление-(ревью-3)-0.3\"><span class=\"toc-item-num\">0.3&nbsp;&nbsp;</span><font color=\"orange\">Общее впечатление (ревью 3)</font></a></span></li><li><span><a href=\"#Общее-впечатление-(ревью-4)\" data-toc-modified-id=\"Общее-впечатление-(ревью-4)-0.4\"><span class=\"toc-item-num\">0.4&nbsp;&nbsp;</span><font color=\"orange\">Общее впечатление (ревью 4)</font></a></span></li></ul></li><li><span><a href=\"#Подготовка\" data-toc-modified-id=\"Подготовка-1\"><span class=\"toc-item-num\">1&nbsp;&nbsp;</span>Подготовка</a></span></li><li><span><a href=\"#Анализ\" data-toc-modified-id=\"Анализ-2\"><span class=\"toc-item-num\">2&nbsp;&nbsp;</span>Анализ</a></span></li><li><span><a href=\"#Обучение-и-тестирование\" data-toc-modified-id=\"Обучение-и-тестирование-3\"><span class=\"toc-item-num\">3&nbsp;&nbsp;</span>Обучение и тестирование</a></span><ul class=\"toc-item\"><li><ul class=\"toc-item\"><li><span><a href=\"#Подбор-параметров-lag-и-rolling-window\" data-toc-modified-id=\"Подбор-параметров-lag-и-rolling-window-3.0.1\"><span class=\"toc-item-num\">3.0.1&nbsp;&nbsp;</span>Подбор параметров lag и rolling window</a></span></li><li><span><a href=\"#Проверка-подобранных-параметров\" data-toc-modified-id=\"Проверка-подобранных-параметров-3.0.2\"><span class=\"toc-item-num\">3.0.2&nbsp;&nbsp;</span>Проверка подобранных параметров</a></span></li></ul></li><li><span><a href=\"#Проба-добавление-стационарного-ряда\" data-toc-modified-id=\"Проба-добавление-стационарного-ряда-3.1\"><span class=\"toc-item-num\">3.1&nbsp;&nbsp;</span>Проба добавление стационарного ряда</a></span><ul class=\"toc-item\"><li><span><a href=\"#Вариант-1\" data-toc-modified-id=\"Вариант-1-3.1.1\"><span class=\"toc-item-num\">3.1.1&nbsp;&nbsp;</span>Вариант 1</a></span></li><li><span><a href=\"#Вариант-2\" data-toc-modified-id=\"Вариант-2-3.1.2\"><span class=\"toc-item-num\">3.1.2&nbsp;&nbsp;</span>Вариант 2</a></span></li><li><span><a href=\"#Вариант-3\" data-toc-modified-id=\"Вариант-3-3.1.3\"><span class=\"toc-item-num\">3.1.3&nbsp;&nbsp;</span>Вариант 3</a></span></li></ul></li><li><span><a href=\"#Пробую-CatBoost\" data-toc-modified-id=\"Пробую-CatBoost-3.2\"><span class=\"toc-item-num\">3.2&nbsp;&nbsp;</span>Пробую CatBoost</a></span><ul class=\"toc-item\"><li><span><a href=\"#c-поправкой-выпадающих-значений\" data-toc-modified-id=\"c-поправкой-выпадающих-значений-3.2.1\"><span class=\"toc-item-num\">3.2.1&nbsp;&nbsp;</span>c поправкой выпадающих значений</a></span></li><li><span><a href=\"#c-большим-значением-lag-и-rolling_window\" data-toc-modified-id=\"c-большим-значением-lag-и-rolling_window-3.2.2\"><span class=\"toc-item-num\">3.2.2&nbsp;&nbsp;</span>c большим значением lag и rolling_window</a></span><ul class=\"toc-item\"><li><span><a href=\"#если-убрать-все-гиперпараметры-для-модели\" data-toc-modified-id=\"если-убрать-все-гиперпараметры-для-модели-3.2.2.1\"><span class=\"toc-item-num\">3.2.2.1&nbsp;&nbsp;</span>если убрать все гиперпараметры для модели</a></span></li></ul></li><li><span><a href=\"#с-обновленными-признаками\" data-toc-modified-id=\"с-обновленными-признаками-3.2.3\"><span class=\"toc-item-num\">3.2.3&nbsp;&nbsp;</span>с обновленными признаками</a></span></li></ul></li></ul></li><li><span><a href=\"#Вывод\" data-toc-modified-id=\"Вывод-4\"><span class=\"toc-item-num\">4&nbsp;&nbsp;</span>Вывод</a></span></li><li><span><a href=\"#Чек-лист-проверки\" data-toc-modified-id=\"Чек-лист-проверки-5\"><span class=\"toc-item-num\">5&nbsp;&nbsp;</span>Чек-лист проверки</a></span></li></ul></div>"
   ]
  },
  {
   "cell_type": "markdown",
   "metadata": {},
   "source": [
    "#  Прогнозирование заказов такси"
   ]
  },
  {
   "cell_type": "markdown",
   "metadata": {},
   "source": [
    "Компания «Чётенькое такси» собрала исторические данные о заказах такси в аэропортах. Чтобы привлекать больше водителей в период пиковой нагрузки, нужно спрогнозировать количество заказов такси на следующий час. Постройте модель для такого предсказания.\n",
    "\n",
    "Значение метрики *RMSE* на тестовой выборке должно быть не больше 48.\n",
    "\n",
    "Вам нужно:\n",
    "\n",
    "1. Загрузить данные и выполнить их ресемплирование по одному часу.\n",
    "2. Проанализировать данные.\n",
    "3. Обучить разные модели с различными гиперпараметрами. Сделать тестовую выборку размером 10% от исходных данных.\n",
    "4. Проверить данные на тестовой выборке и сделать выводы.\n",
    "\n",
    "\n",
    "Данные лежат в файле `taxi.csv`. Количество заказов находится в столбце `num_orders` (от англ. *number of orders*, «число заказов»)."
   ]
  },
  {
   "cell_type": "code",
   "execution_count": 2,
   "metadata": {},
   "outputs": [],
   "source": [
    "import pandas as pd\n",
    "import numpy as np\n",
    "import matplotlib.pyplot as plt\n",
    "from statsmodels.tsa.seasonal import seasonal_decompose\n",
    "from tqdm import tqdm \n",
    "\n",
    "from sklearn.model_selection import train_test_split\n",
    "from sklearn.model_selection import TimeSeriesSplit\n",
    "from sklearn.model_selection import cross_val_score\n",
    "\n",
    "from sklearn.model_selection import RandomizedSearchCV\n",
    "from sklearn.dummy import DummyRegressor\n",
    "from sklearn.linear_model import LinearRegression\n",
    "from xgboost import XGBRegressor\n",
    "from catboost import Pool, CatBoostRegressor\n",
    "\n",
    "from sklearn.metrics import mean_squared_error"
   ]
  },
  {
   "cell_type": "markdown",
   "metadata": {},
   "source": [
    "<div class=\"alert alert-block alert-success\">\n",
    "<b>Успех:</b> Отлично, что все импорты собраны в первой ячейке ноутбука! Если у того, кто будет запускать твой ноутбук будут отсутствовать некоторые библиотеки, то он это увидит сразу, а не в процессе!\n",
    "</div>"
   ]
  },
  {
   "cell_type": "code",
   "execution_count": 2,
   "metadata": {},
   "outputs": [],
   "source": [
    "def confident_interval(data, alpha):\n",
    "    \"\"\"\n",
    "    data - pd.Series, где хотим узнать распределение значений\n",
    "    alpha - уровень значимости в процентах, пример: 5, 1, 0,1 → 95%, 99%, 99,9%\n",
    "    \"\"\"\n",
    "    rate = 100 - alpha\n",
    "    upper = (100 - alpha / 2) / 100\n",
    "    lower = (np.abs(0 - alpha / 2)) / 100\n",
    "    print('медиана:', data.quantile()[0])\n",
    "    print(f'{rate}% интервал от {data.quantile(lower)[0]} до {data.quantile(upper)[0]}')\n",
    "    return"
   ]
  },
  {
   "cell_type": "markdown",
   "metadata": {},
   "source": [
    "<div class=\"alert alert-block alert-info\">\n",
    "<b>Совет: </b> Тут можно было просто использовать np.abs и не делать еще один импорт.\n",
    "</div>"
   ]
  },
  {
   "cell_type": "code",
   "execution_count": 3,
   "metadata": {},
   "outputs": [],
   "source": [
    "def model_test(data, model_type, max_lag, rolling_mean_size, hyperparam_search=False, hyperparam=None):\n",
    "    best_model = 0\n",
    "    \n",
    "    model = DummyRegressor()\n",
    "    train, test = train_test_split(df, shuffle=False, test_size=0.1, random_state=123)\n",
    "    train = train.dropna()\n",
    "\n",
    "    model.fit(train.drop(columns='num_orders'), train['num_orders'])\n",
    "\n",
    "    train_pred = model.predict(train.drop(columns='num_orders'))\n",
    "    best_rmse = mean_squared_error(train['num_orders'], train_pred, squared=False)\n",
    "    \n",
    "    for lag in tqdm(max_lag):\n",
    "        for roll in rolling_mean_size:\n",
    "            df_selecting = data.copy()\n",
    "            df_selecting['year'] = df_selecting.index.year\n",
    "            df_selecting['month'] = df_selecting.index.month\n",
    "            df_selecting['day'] = df_selecting.index.day\n",
    "            df_selecting['dayofweek'] = df_selecting.index.dayofweek\n",
    "\n",
    "            for i in range(1, lag + 1):\n",
    "                df_selecting[f'lag_{i}'] = df_selecting['num_orders'].shift(i)\n",
    "\n",
    "            df_selecting['rolling_mean'] = df_selecting['num_orders'].shift().rolling(roll).mean()\n",
    "\n",
    "            model = model_type\n",
    "            train, test = train_test_split(df_selecting, shuffle=False, test_size=0.1, random_state=123)\n",
    "            train = train.dropna()\n",
    "            \n",
    "            tscv = TimeSeriesSplit(n_splits=3)\n",
    "\n",
    "            if hyperparam_search:\n",
    "                # находим лучшие гиперпараметры для модели\n",
    "                grid = RandomizedSearchCV(model,\n",
    "                                          param_distributions=hyperparam,\n",
    "                                          cv=tscv,\n",
    "                                          verbose=2,\n",
    "                                          n_jobs=-1,\n",
    "                                          scoring='neg_root_mean_squared_error')\n",
    "\n",
    "                grid.fit(train.drop(columns='num_orders'), train['num_orders'])\n",
    "\n",
    "                # сохраняем лучшую модель отдельно\n",
    "                model = grid.best_estimator_\n",
    "                print('RMSE', np.abs(grid.best_score_))\n",
    "                print(f'параметры данных: lag={lag}, rolling_mean_size={roll}')\n",
    "\n",
    "                if np.abs(grid.best_score_) < best_rmse:\n",
    "                    best_rmse = np.abs(grid.best_score_)\n",
    "                    best_lag = lag\n",
    "                    best_roll = roll\n",
    "                    best_model = model\n",
    "            else:\n",
    "                result = cross_val_score(model_type, \n",
    "                                         train.drop(columns='num_orders'), \n",
    "                                         train['num_orders'], \n",
    "                                         cv=tscv, \n",
    "                                         scoring='neg_root_mean_squared_error')\n",
    "                \n",
    "                if np.abs(result.mean()) < best_rmse:\n",
    "                    best_rmse = np.abs(result.mean())\n",
    "                    best_lag = lag\n",
    "                    best_roll = roll\n",
    "    print(f'Лучшая метрика {best_rmse}')\n",
    "    print(f'Лучшие параметры модели: lag={best_lag}, rolling_mean_size={best_roll}')\n",
    "    return best_model"
   ]
  },
  {
   "cell_type": "markdown",
   "metadata": {},
   "source": [
    "<div class=\"alert alert-block alert-warning\">\n",
    "<b>Изменения:</b> Были внесены следующие изменения\n",
    "    \n",
    "дополнял функцию кросс-валидацией и подбором параметром на каждой иттерации\n",
    "</div>"
   ]
  },
  {
   "cell_type": "markdown",
   "metadata": {},
   "source": [
    "<div class=\"alert alert-block alert-warning\">\n",
    "<b>Изменения:</b> Были внесены следующие изменения\n",
    "    \n",
    "вынес словарь гиперпараметров как параметр функции\n",
    "</div>"
   ]
  },
  {
   "cell_type": "markdown",
   "metadata": {},
   "source": [
    "<div class=\"alert alert-block alert-info\">\n",
    "<b>Совет: </b> Почему ты используешь df, а передаешь в функцию data?\n",
    "</div>\n",
    "\n",
    "\n",
    "<div class=\"alert alert-block alert-danger\">\n",
    "<b>Ошибка:</b> Подбирать параметры на треине/тесте – нельзя, я бы использовал кросс-валидацию. При работе с временными рядами нельзя использовать стандартную кросс-валидацию, так как в определенный момент тренировочная выборка окажется позже валидационной. Для решения этой проблемы стоит использовать <a href=\"https://scikit-learn.org/stable/modules/generated/sklearn.model_selection.TimeSeriesSplit.html\">TimeSeriesSplit</a>. Объект этого типа можно передать в параметр cv в метод основанный на кросс-валидации.\n",
    "</div>"
   ]
  },
  {
   "cell_type": "markdown",
   "metadata": {},
   "source": [
    "<div class=\"alert alert-block alert-danger\">\n",
    "\n",
    "<b>Ошибка (ревью 2):</b> Если ты хочешь скопировать датасет, то нужно заменить `test = data` на `test = data.copy()`.\n",
    "</div>"
   ]
  },
  {
   "cell_type": "markdown",
   "metadata": {},
   "source": [
    "<div class=\"alert alert-block alert-warning\">\n",
    "<b>Комментарий:</b>\n",
    "    \n",
    "а есть разница?\n",
    "\n",
    "окей, я понял\n",
    "\"copy() gives you a copy with different memory allocation. label = train only gives you an alias, that is, same memory\"\n",
    "</div>"
   ]
  },
  {
   "cell_type": "markdown",
   "metadata": {},
   "source": [
    "\n",
    "\n",
    "<div class=\"alert alert-block alert-danger\">\n",
    "\n",
    "<b>Ошибка (ревью 2):</b> Ты создаешь признаки в test, а затем разбиваешь df и обучаешь модель на нем. Подбора параметров получается нет.\n",
    "    \n",
    "Пожалуйста, проверь все переменные, для чего они нужны итд.\n",
    "</div>"
   ]
  },
  {
   "cell_type": "markdown",
   "metadata": {},
   "source": [
    "<div class=\"alert alert-block alert-warning\">\n",
    "<b>Комментарий:</b>\n",
    "    \n",
    "...\n",
    "да, я пропустил этот момент\n",
    "\n",
    "как же ужасно писать код не в IDE\n",
    "</div>"
   ]
  },
  {
   "cell_type": "markdown",
   "metadata": {},
   "source": [
    "<div class=\"alert alert-block alert-success\">\n",
    "<b>Успех (ревью 3):</b> Теперь все ОК.\n",
    "</div>"
   ]
  },
  {
   "cell_type": "code",
   "execution_count": 9,
   "metadata": {},
   "outputs": [],
   "source": [
    "def final_test(df_data, model, lag, rolling_window):\n",
    "    data = df_data.copy()\n",
    "    # подготовка данных к итоговому тесту\n",
    "    data['year'] = data.index.year\n",
    "    data['month'] = data.index.month\n",
    "    data['day'] = data.index.day\n",
    "    data['dayofweek'] = data.index.dayofweek\n",
    "\n",
    "    for i in range(1, lag + 1):\n",
    "        data[f'lag_{i}'] = data['num_orders'].shift(i)\n",
    "\n",
    "    data['rolling_mean'] = data['num_orders'].shift().rolling(rolling_window).mean()\n",
    "    \n",
    "    train, test = train_test_split(data, shuffle=False, test_size=0.1, random_state=123)\n",
    "    train = train.dropna()\n",
    "    \n",
    "    test_model = model\n",
    "    \n",
    "    test_model.fit(train.drop(columns='num_orders'), train['num_orders'])\n",
    "    \n",
    "    pred = test_model.predict(test.drop(columns='num_orders'))\n",
    "    \n",
    "    print(\"RMSE модели на тестовых данных\", mean_squared_error(test['num_orders'], pred, squared=False))"
   ]
  },
  {
   "cell_type": "code",
   "execution_count": 5,
   "metadata": {},
   "outputs": [],
   "source": [
    "def features_for_model(lag, rolling_window, shift=False, ):\n",
    "    # обновляю\n",
    "    data = pd.read_csv('/datasets/taxi.csv', parse_dates=[0], index_col=[0])\n",
    "    data = data.resample('1H').sum()\n",
    "\n",
    "    # формирование параметров для обучения\n",
    "    data['year'] = data.index.year\n",
    "    data['month'] = data.index.month\n",
    "    data['day'] = data.index.day\n",
    "    data['dayofweek'] = data.index.dayofweek\n",
    "\n",
    "    for i in range(1, lag + 1):\n",
    "        data[f'lag_{i}'] = data['num_orders'].shift(i)\n",
    "\n",
    "    data['rolling_mean'] = data['num_orders'].shift().rolling(rolling_window).mean()\n",
    "\n",
    "    train, test = train_test_split(data, shuffle=False, test_size=0.1, random_state=123)\n",
    "    train = train.dropna()\n",
    "    \n",
    "    if shift:\n",
    "        # формирую стационарный ряд, то есть разность временных рядов со сдвигом\n",
    "        train['num_orders'] = train['num_orders'] - train['num_orders'].shift(fill_value=0)\n",
    "        \n",
    "    return train, test"
   ]
  },
  {
   "cell_type": "markdown",
   "metadata": {},
   "source": [
    "## Подготовка"
   ]
  },
  {
   "cell_type": "code",
   "execution_count": 12,
   "metadata": {},
   "outputs": [],
   "source": [
    "# загрузим данные с одновременным переводом колонки в datetime тип\n",
    "df = pd.read_csv('/datasets/taxi.csv', parse_dates=[0], index_col=[0])\n",
    "# проводим ресемплинг данных по 1 часу\n",
    "df = df.resample('1H').sum()"
   ]
  },
  {
   "cell_type": "markdown",
   "metadata": {},
   "source": [
    "## Анализ"
   ]
  },
  {
   "cell_type": "code",
   "execution_count": 6,
   "metadata": {},
   "outputs": [
    {
     "data": {
      "text/html": [
       "<div>\n",
       "<style scoped>\n",
       "    .dataframe tbody tr th:only-of-type {\n",
       "        vertical-align: middle;\n",
       "    }\n",
       "\n",
       "    .dataframe tbody tr th {\n",
       "        vertical-align: top;\n",
       "    }\n",
       "\n",
       "    .dataframe thead th {\n",
       "        text-align: right;\n",
       "    }\n",
       "</style>\n",
       "<table border=\"1\" class=\"dataframe\">\n",
       "  <thead>\n",
       "    <tr style=\"text-align: right;\">\n",
       "      <th></th>\n",
       "      <th>num_orders</th>\n",
       "    </tr>\n",
       "    <tr>\n",
       "      <th>datetime</th>\n",
       "      <th></th>\n",
       "    </tr>\n",
       "  </thead>\n",
       "  <tbody>\n",
       "    <tr>\n",
       "      <th>2018-03-01 00:00:00</th>\n",
       "      <td>124</td>\n",
       "    </tr>\n",
       "    <tr>\n",
       "      <th>2018-03-01 01:00:00</th>\n",
       "      <td>85</td>\n",
       "    </tr>\n",
       "    <tr>\n",
       "      <th>2018-03-01 02:00:00</th>\n",
       "      <td>71</td>\n",
       "    </tr>\n",
       "    <tr>\n",
       "      <th>2018-03-01 03:00:00</th>\n",
       "      <td>66</td>\n",
       "    </tr>\n",
       "    <tr>\n",
       "      <th>2018-03-01 04:00:00</th>\n",
       "      <td>43</td>\n",
       "    </tr>\n",
       "    <tr>\n",
       "      <th>...</th>\n",
       "      <td>...</td>\n",
       "    </tr>\n",
       "    <tr>\n",
       "      <th>2018-08-31 19:00:00</th>\n",
       "      <td>136</td>\n",
       "    </tr>\n",
       "    <tr>\n",
       "      <th>2018-08-31 20:00:00</th>\n",
       "      <td>154</td>\n",
       "    </tr>\n",
       "    <tr>\n",
       "      <th>2018-08-31 21:00:00</th>\n",
       "      <td>159</td>\n",
       "    </tr>\n",
       "    <tr>\n",
       "      <th>2018-08-31 22:00:00</th>\n",
       "      <td>223</td>\n",
       "    </tr>\n",
       "    <tr>\n",
       "      <th>2018-08-31 23:00:00</th>\n",
       "      <td>205</td>\n",
       "    </tr>\n",
       "  </tbody>\n",
       "</table>\n",
       "<p>4416 rows × 1 columns</p>\n",
       "</div>"
      ],
      "text/plain": [
       "                     num_orders\n",
       "datetime                       \n",
       "2018-03-01 00:00:00         124\n",
       "2018-03-01 01:00:00          85\n",
       "2018-03-01 02:00:00          71\n",
       "2018-03-01 03:00:00          66\n",
       "2018-03-01 04:00:00          43\n",
       "...                         ...\n",
       "2018-08-31 19:00:00         136\n",
       "2018-08-31 20:00:00         154\n",
       "2018-08-31 21:00:00         159\n",
       "2018-08-31 22:00:00         223\n",
       "2018-08-31 23:00:00         205\n",
       "\n",
       "[4416 rows x 1 columns]"
      ]
     },
     "execution_count": 6,
     "metadata": {},
     "output_type": "execute_result"
    }
   ],
   "source": [
    "df"
   ]
  },
  {
   "cell_type": "code",
   "execution_count": 8,
   "metadata": {},
   "outputs": [
    {
     "name": "stdout",
     "output_type": "stream",
     "text": [
      "<class 'pandas.core.frame.DataFrame'>\n",
      "DatetimeIndex: 4416 entries, 2018-03-01 00:00:00 to 2018-08-31 23:00:00\n",
      "Freq: H\n",
      "Data columns (total 1 columns):\n",
      " #   Column      Non-Null Count  Dtype\n",
      "---  ------      --------------  -----\n",
      " 0   num_orders  4416 non-null   int64\n",
      "dtypes: int64(1)\n",
      "memory usage: 69.0 KB\n"
     ]
    }
   ],
   "source": [
    "df.info()"
   ]
  },
  {
   "cell_type": "code",
   "execution_count": 9,
   "metadata": {},
   "outputs": [
    {
     "data": {
      "text/plain": [
       "<AxesSubplot:>"
      ]
     },
     "execution_count": 9,
     "metadata": {},
     "output_type": "execute_result"
    },
    {
     "data": {
      "image/png": "[encoded data removed]",
      "text/plain": [
       "<Figure size 432x288 with 1 Axes>"
      ]
     },
     "metadata": {
      "needs_background": "light"
     },
     "output_type": "display_data"
    }
   ],
   "source": [
    "# визуализируем данные\n",
    "df.boxplot()"
   ]
  },
  {
   "cell_type": "raw",
   "metadata": {},
   "source": [
    "df.describe()"
   ]
  },
  {
   "cell_type": "raw",
   "metadata": {},
   "source": [
    "# проверим основную массу значений\n",
    "confident_interval(df, 1)"
   ]
  },
  {
   "cell_type": "raw",
   "metadata": {},
   "source": [
    "# какую долю занимают выпадающие значения?\n",
    "df[df > 246].count() / df.size * 100"
   ]
  },
  {
   "cell_type": "raw",
   "metadata": {},
   "source": [
    "df = df[df < 246]\n",
    "df.dropna(inplace=True)"
   ]
  },
  {
   "cell_type": "markdown",
   "metadata": {},
   "source": [
    "<div class=\"alert alert-block alert-danger\">\n",
    "<b>Ошибка:</b> Удалять выбросы – нельзя. Это ведь не ошибки.\n",
    "</div>"
   ]
  },
  {
   "cell_type": "markdown",
   "metadata": {},
   "source": [
    "<div class=\"alert alert-block alert-warning\">\n",
    "<b>Комментарий студента:</b>\n",
    "я не могу этого знать в данной ситуации\n",
    "</div>"
   ]
  },
  {
   "cell_type": "markdown",
   "metadata": {},
   "source": [
    "<div class=\"alert alert-block alert-info\">\n",
    "<b>Совет (ревью 2): </b> Удалять можно только если ты уверен, что это ошибки. В случае сомнений (или отсутствия точного знания) удалять не стоит.\n",
    "</div>"
   ]
  },
  {
   "cell_type": "markdown",
   "metadata": {},
   "source": [
    "<div class=\"alert alert-block alert-danger\">\n",
    "<b>Ошибка:</b> Пожалуйста проведи сезонную декомпозицию, построй графики тренда и сезонности, сделай выводы.\n",
    "</div>"
   ]
  },
  {
   "cell_type": "code",
   "execution_count": 10,
   "metadata": {},
   "outputs": [],
   "source": [
    "decomposed = seasonal_decompose(df)"
   ]
  },
  {
   "cell_type": "code",
   "execution_count": 11,
   "metadata": {},
   "outputs": [
    {
     "data": {
      "text/plain": [
       "<AxesSubplot:xlabel='datetime'>"
      ]
     },
     "execution_count": 11,
     "metadata": {},
     "output_type": "execute_result"
    },
    {
     "data": {
      "image/png": "[encoded data removed]",
      "text/plain": [
       "<Figure size 648x720 with 1 Axes>"
      ]
     },
     "metadata": {
      "needs_background": "light"
     },
     "output_type": "display_data"
    }
   ],
   "source": [
    "plt.figure(figsize=(9, 10))\n",
    "plt.subplot(311)\n",
    "decomposed.seasonal['2018-05-01':'2018-05-07'].plot(ax=plt.gca())"
   ]
  },
  {
   "cell_type": "markdown",
   "metadata": {},
   "source": [
    "<div class=\"alert alert-block alert-success\">\n",
    "<b>Успех (ревью 2):</b> Спасибо!\n",
    "</div>"
   ]
  },
  {
   "cell_type": "code",
   "execution_count": 12,
   "metadata": {},
   "outputs": [
    {
     "data": {
      "text/plain": [
       "<AxesSubplot:xlabel='datetime'>"
      ]
     },
     "execution_count": 12,
     "metadata": {},
     "output_type": "execute_result"
    },
    {
     "data": {
      "image/png": "[encoded data removed]",
      "text/plain": [
       "<Figure size 648x720 with 1 Axes>"
      ]
     },
     "metadata": {
      "needs_background": "light"
     },
     "output_type": "display_data"
    }
   ],
   "source": [
    "plt.figure(figsize=(9, 10))\n",
    "plt.subplot(311)\n",
    "decomposed.trend.plot(ax=plt.gca())"
   ]
  },
  {
   "cell_type": "markdown",
   "metadata": {},
   "source": [
    "**Выводы**:\n",
    "- существует ежедневная цикличность с максимальными значенями к полуночи и резким снижением в ранние часы.\n",
    "- имеется тенденция к росту в использовании сервиса «Чётенькое такси» в транспортировках из аэропорта с марта 2018 по октябрь 2018 года."
   ]
  },
  {
   "cell_type": "markdown",
   "metadata": {},
   "source": [
    "## Обучение и тестирование"
   ]
  },
  {
   "cell_type": "markdown",
   "metadata": {},
   "source": [
    "#### Подбор параметров lag и rolling window"
   ]
  },
  {
   "cell_type": "markdown",
   "metadata": {},
   "source": [
    "<div class=\"alert alert-block alert-warning\">\n",
    "<b>Комментарий студента:</b> \n",
    "    \n",
    "изначально был следующая логика:\n",
    "- создаю функцию которая будет проходится по параметрам lag и rolling window\n",
    "- и на каждой итерации будет проверять модель\n",
    "- если пройдется по всему\n",
    "- то скорее всего точно найдет тот вариант гиперпараметров, который справится с тестом\n",
    "\n",
    "но этого не случилось (да, потому что я не заметил, что забыл поменять разделение дф на обучающую и тестовую выборки)\n",
    "\n",
    "после чего я взял предыдущие параметры lag и rolling window и на лучшем варианте пробовал найти лучшие гиперпараметры, но и этот вариант не справился с задачей\n",
    "</div>"
   ]
  },
  {
   "cell_type": "markdown",
   "metadata": {},
   "source": [
    "будем тестировать различные параметры распределение признаков с проверкой на модели и на основании лучшего результата выбора лучшей модели"
   ]
  },
  {
   "cell_type": "code",
   "execution_count": 100,
   "metadata": {},
   "outputs": [
    {
     "name": "stdout",
     "output_type": "stream",
     "text": [
      "LinearRegression\n"
     ]
    },
    {
     "name": "stderr",
     "output_type": "stream",
     "text": [
      "100%|██████████| 10/10 [00:55<00:00,  5.52s/it]"
     ]
    },
    {
     "name": "stdout",
     "output_type": "stream",
     "text": [
      "Лучшая метрика 27.63659168370735\n",
      "Лучшие параметры модели: lag=1, rolling_mean_size=7\n"
     ]
    },
    {
     "name": "stderr",
     "output_type": "stream",
     "text": [
      "\n"
     ]
    },
    {
     "data": {
      "text/plain": [
       "0"
      ]
     },
     "execution_count": 100,
     "metadata": {},
     "output_type": "execute_result"
    }
   ],
   "source": [
    "print('LinearRegression')\n",
    "model_test(df, LinearRegression(), max_lag=range(1,11), rolling_mean_size=range(1,11))"
   ]
  },
  {
   "cell_type": "code",
   "execution_count": 21,
   "metadata": {},
   "outputs": [
    {
     "name": "stdout",
     "output_type": "stream",
     "text": [
      "LinearRegression\n"
     ]
    },
    {
     "name": "stderr",
     "output_type": "stream",
     "text": [
      "100%|██████████| 30/30 [06:03<00:00, 12.13s/it]"
     ]
    },
    {
     "name": "stdout",
     "output_type": "stream",
     "text": [
      "Лучшая метрика 27.38656105823094\n",
      "Лучшие параметры модели: lag=25, rolling_mean_size=28\n"
     ]
    },
    {
     "name": "stderr",
     "output_type": "stream",
     "text": [
      "\n"
     ]
    },
    {
     "data": {
      "text/plain": [
       "0"
      ]
     },
     "execution_count": 21,
     "metadata": {},
     "output_type": "execute_result"
    }
   ],
   "source": [
    "print('LinearRegression')\n",
    "model_test(df, LinearRegression(), max_lag=range(1,31), rolling_mean_size=range(1,31))"
   ]
  },
  {
   "cell_type": "code",
   "execution_count": 101,
   "metadata": {},
   "outputs": [
    {
     "name": "stdout",
     "output_type": "stream",
     "text": [
      "LinearRegression\n"
     ]
    },
    {
     "name": "stderr",
     "output_type": "stream",
     "text": [
      "100%|██████████| 50/50 [26:02<00:00, 31.25s/it]"
     ]
    },
    {
     "name": "stdout",
     "output_type": "stream",
     "text": [
      "Лучшая метрика 25.15866017008965\n",
      "Лучшие параметры модели: lag=49, rolling_mean_size=32\n"
     ]
    },
    {
     "name": "stderr",
     "output_type": "stream",
     "text": [
      "\n"
     ]
    },
    {
     "data": {
      "text/plain": [
       "0"
      ]
     },
     "execution_count": 101,
     "metadata": {},
     "output_type": "execute_result"
    }
   ],
   "source": [
    "print('LinearRegression')\n",
    "model_test(df, LinearRegression(), max_lag=range(1,51), rolling_mean_size=range(1,51))"
   ]
  },
  {
   "cell_type": "code",
   "execution_count": 112,
   "metadata": {},
   "outputs": [
    {
     "name": "stdout",
     "output_type": "stream",
     "text": [
      "LinearRegression\n"
     ]
    },
    {
     "name": "stderr",
     "output_type": "stream",
     "text": [
      "100%|██████████| 10/10 [01:08<00:00,  6.89s/it]"
     ]
    },
    {
     "name": "stdout",
     "output_type": "stream",
     "text": [
      "Лучшая метрика 25.235501616281095\n",
      "Лучшие параметры модели: lag=51, rolling_mean_size=51\n"
     ]
    },
    {
     "name": "stderr",
     "output_type": "stream",
     "text": [
      "\n"
     ]
    },
    {
     "data": {
      "text/plain": [
       "0"
      ]
     },
     "execution_count": 112,
     "metadata": {},
     "output_type": "execute_result"
    }
   ],
   "source": [
    "print('LinearRegression')\n",
    "model_test(df, LinearRegression(), max_lag=range(51,61), rolling_mean_size=range(51,61))"
   ]
  },
  {
   "cell_type": "raw",
   "metadata": {},
   "source": [
    "# ладно, я сдался проверять это, слишком долго\n",
    "print(\"XGBRegressor(booster='gblinear')\")\n",
    "model_test(df, XGBRegressor(booster='gblinear'), max_lag=50, rolling_mean_size=35, hyperparam_search=False)"
   ]
  },
  {
   "cell_type": "markdown",
   "metadata": {},
   "source": [
    "<div class=\"alert alert-block alert-danger\">\n",
    "<b>Ошибка (ревью 3):</b> Ячейки выше у меня вообще не запускаются, ты потерял параметр. Значения лучших параметров у меня получаются другие. В этом, видимо, основная проблема. Если ты далее сделаешь max_lag=24, то все модели будут показывать значительно более хорошее качества.\n",
    "</div>"
   ]
  },
  {
   "cell_type": "markdown",
   "metadata": {},
   "source": [
    "<div class=\"alert alert-block alert-warning\">\n",
    "<b>Комментарий:</b>\n",
    "    \n",
    "да, они не запустятся, потому что функция была переписана так, что там всегда нужно подбирать гиперпараметры, что не нужно в этом случае\n",
    "    \n",
    "    \n",
    "добавил возможность использовать по старой логике\n",
    "</div>"
   ]
  },
  {
   "cell_type": "markdown",
   "metadata": {},
   "source": [
    "<div class=\"alert alert-block alert-warning\">\n",
    "<b>Комментарий:</b>\n",
    "    \n",
    "получается разницы нет между:\n",
    "- сначала искать параметры lag и scrolling window, а потом искать гиперпараметры\n",
    "- и делать это одновременно\n",
    "    \n",
    "с точни зрения метрик, а не с точки зрения времени\n",
    "    \n",
    "UPD:\n",
    "похоже так и есть, нужно было начальные тесты делать на самой просто модели, после чего пробовать более сложные с учетом параметров, полученных на самой простой\n",
    "</div>"
   ]
  },
  {
   "cell_type": "markdown",
   "metadata": {},
   "source": [
    "<div class=\"alert alert-block alert-info\">\n",
    "<b>Совет (ревью 4): </b> Делать все одновременно лучше, но более долго.\n",
    "</div>"
   ]
  },
  {
   "cell_type": "code",
   "execution_count": 96,
   "metadata": {},
   "outputs": [],
   "source": [
    "# формируем словарь гиперпараметров для выбора\n",
    "param_dict = {\n",
    "    'lambda': range(0,7,2),\n",
    "    'updater': ['shotgun', 'coord_descent'],\n",
    "}"
   ]
  },
  {
   "cell_type": "code",
   "execution_count": 97,
   "metadata": {},
   "outputs": [
    {
     "name": "stdout",
     "output_type": "stream",
     "text": [
      "XGBRegressor\n"
     ]
    },
    {
     "name": "stderr",
     "output_type": "stream",
     "text": [
      "  0%|          | 0/10 [00:00<?, ?it/s]"
     ]
    },
    {
     "name": "stdout",
     "output_type": "stream",
     "text": [
      "Fitting 3 folds for each of 8 candidates, totalling 24 fits\n"
     ]
    },
    {
     "name": "stderr",
     "output_type": "stream",
     "text": [
      "/opt/conda/lib/python3.9/site-packages/sklearn/model_selection/_search.py:285: UserWarning: The total space of parameters 8 is smaller than n_iter=10. Running 8 iterations. For exhaustive searches, use GridSearchCV.\n",
      "  warnings.warn(\n"
     ]
    },
    {
     "name": "stdout",
     "output_type": "stream",
     "text": [
      "[CV] END ..........................lambda=0, updater=shotgun; total time=   2.0s\n",
      "[CV] END ..........................lambda=0, updater=shotgun; total time=   1.8s\n",
      "[CV] END ..........................lambda=0, updater=shotgun; total time=   1.4s\n",
      "[CV] END ....................lambda=0, updater=coord_descent; total time=   1.6s\n",
      "[CV] END ....................lambda=0, updater=coord_descent; total time=   1.6s\n",
      "[CV] END ....................lambda=0, updater=coord_descent; total time=   1.8s\n",
      "[CV] END ..........................lambda=2, updater=shotgun; total time=   1.6s\n",
      "[CV] END ..........................lambda=2, updater=shotgun; total time=   1.6s\n",
      "[CV] END ..........................lambda=2, updater=shotgun; total time=   1.7s\n",
      "[CV] END ....................lambda=2, updater=coord_descent; total time=   1.5s\n",
      "[CV] END ....................lambda=2, updater=coord_descent; total time=   1.7s\n",
      "[CV] END ....................lambda=2, updater=coord_descent; total time=   1.8s\n",
      "[CV] END ..........................lambda=4, updater=shotgun; total time=   2.1s\n",
      "[CV] END ..........................lambda=4, updater=shotgun; total time=   2.1s\n",
      "[CV] END ..........................lambda=4, updater=shotgun; total time=   1.7s\n",
      "[CV] END ....................lambda=4, updater=coord_descent; total time=   1.5s\n",
      "[CV] END ....................lambda=4, updater=coord_descent; total time=   1.9s\n",
      "[CV] END ....................lambda=4, updater=coord_descent; total time=   1.7s\n",
      "[CV] END ..........................lambda=6, updater=shotgun; total time=   1.8s\n",
      "[CV] END ..........................lambda=6, updater=shotgun; total time=   2.0s\n",
      "[CV] END ..........................lambda=6, updater=shotgun; total time=   1.5s\n",
      "[CV] END ....................lambda=6, updater=coord_descent; total time=   1.8s\n",
      "[CV] END ....................lambda=6, updater=coord_descent; total time=   1.8s\n",
      "[CV] END ....................lambda=6, updater=coord_descent; total time=   1.8s\n",
      "RMSE 32.45633299400253\n",
      "параметры данных: lag=1, rolling_mean_size=1\n",
      "Fitting 3 folds for each of 8 candidates, totalling 24 fits\n"
     ]
    },
    {
     "name": "stderr",
     "output_type": "stream",
     "text": [
      "/opt/conda/lib/python3.9/site-packages/sklearn/model_selection/_search.py:285: UserWarning: The total space of parameters 8 is smaller than n_iter=10. Running 8 iterations. For exhaustive searches, use GridSearchCV.\n",
      "  warnings.warn(\n"
     ]
    },
    {
     "name": "stdout",
     "output_type": "stream",
     "text": [
      "[CV] END ..........................lambda=0, updater=shotgun; total time=   1.6s\n",
      "[CV] END ..........................lambda=0, updater=shotgun; total time=   1.5s\n",
      "[CV] END ..........................lambda=0, updater=shotgun; total time=   1.6s\n",
      "[CV] END ....................lambda=0, updater=coord_descent; total time=   1.8s\n",
      "[CV] END ....................lambda=0, updater=coord_descent; total time=   2.0s\n",
      "[CV] END ....................lambda=0, updater=coord_descent; total time=   1.9s\n",
      "[CV] END ..........................lambda=2, updater=shotgun; total time=   1.7s\n",
      "[CV] END ..........................lambda=2, updater=shotgun; total time=   1.6s\n",
      "[CV] END ..........................lambda=2, updater=shotgun; total time=   1.9s\n",
      "[CV] END ....................lambda=2, updater=coord_descent; total time=   1.6s\n",
      "[CV] END ....................lambda=2, updater=coord_descent; total time=   1.6s\n",
      "[CV] END ....................lambda=2, updater=coord_descent; total time=   1.6s\n",
      "[CV] END ..........................lambda=4, updater=shotgun; total time=   1.6s\n",
      "[CV] END ..........................lambda=4, updater=shotgun; total time=   1.7s\n",
      "[CV] END ..........................lambda=4, updater=shotgun; total time=   1.7s\n",
      "[CV] END ....................lambda=4, updater=coord_descent; total time=   1.6s\n",
      "[CV] END ....................lambda=4, updater=coord_descent; total time=   1.5s\n",
      "[CV] END ....................lambda=4, updater=coord_descent; total time=   1.7s\n",
      "[CV] END ..........................lambda=6, updater=shotgun; total time=   1.7s\n",
      "[CV] END ..........................lambda=6, updater=shotgun; total time=   1.6s\n",
      "[CV] END ..........................lambda=6, updater=shotgun; total time=   1.9s\n",
      "[CV] END ....................lambda=6, updater=coord_descent; total time=   1.8s\n",
      "[CV] END ....................lambda=6, updater=coord_descent; total time=   2.9s\n",
      "[CV] END ....................lambda=6, updater=coord_descent; total time=   1.9s\n",
      "RMSE 32.492976191612854\n",
      "параметры данных: lag=1, rolling_mean_size=2\n",
      "Fitting 3 folds for each of 8 candidates, totalling 24 fits\n"
     ]
    },
    {
     "name": "stderr",
     "output_type": "stream",
     "text": [
      "/opt/conda/lib/python3.9/site-packages/sklearn/model_selection/_search.py:285: UserWarning: The total space of parameters 8 is smaller than n_iter=10. Running 8 iterations. For exhaustive searches, use GridSearchCV.\n",
      "  warnings.warn(\n"
     ]
    },
    {
     "name": "stdout",
     "output_type": "stream",
     "text": [
      "[CV] END ..........................lambda=0, updater=shotgun; total time=   1.7s\n",
      "[CV] END ..........................lambda=0, updater=shotgun; total time=   2.3s\n",
      "[CV] END ..........................lambda=0, updater=shotgun; total time=   1.5s\n",
      "[CV] END ....................lambda=0, updater=coord_descent; total time=   1.8s\n",
      "[CV] END ....................lambda=0, updater=coord_descent; total time=   2.0s\n",
      "[CV] END ....................lambda=0, updater=coord_descent; total time=   1.7s\n",
      "[CV] END ..........................lambda=2, updater=shotgun; total time=   1.9s\n",
      "[CV] END ..........................lambda=2, updater=shotgun; total time=   1.9s\n",
      "[CV] END ..........................lambda=2, updater=shotgun; total time=   1.7s\n",
      "[CV] END ....................lambda=2, updater=coord_descent; total time=   2.9s\n",
      "[CV] END ....................lambda=2, updater=coord_descent; total time=   2.5s\n",
      "[CV] END ....................lambda=2, updater=coord_descent; total time=   2.7s\n",
      "[CV] END ..........................lambda=4, updater=shotgun; total time=   1.9s\n",
      "[CV] END ..........................lambda=4, updater=shotgun; total time=   2.4s\n",
      "[CV] END ..........................lambda=4, updater=shotgun; total time=   3.3s\n",
      "[CV] END ....................lambda=4, updater=coord_descent; total time=   1.9s\n",
      "[CV] END ....................lambda=4, updater=coord_descent; total time=   2.0s\n",
      "[CV] END ....................lambda=4, updater=coord_descent; total time=   1.6s\n",
      "[CV] END ..........................lambda=6, updater=shotgun; total time=   1.7s\n",
      "[CV] END ..........................lambda=6, updater=shotgun; total time=   1.7s\n",
      "[CV] END ..........................lambda=6, updater=shotgun; total time=   2.2s\n",
      "[CV] END ....................lambda=6, updater=coord_descent; total time=   1.7s\n",
      "[CV] END ....................lambda=6, updater=coord_descent; total time=   1.5s\n",
      "[CV] END ....................lambda=6, updater=coord_descent; total time=   1.6s\n",
      "RMSE 32.54204564866928\n",
      "параметры данных: lag=1, rolling_mean_size=3\n",
      "Fitting 3 folds for each of 8 candidates, totalling 24 fits\n"
     ]
    },
    {
     "name": "stderr",
     "output_type": "stream",
     "text": [
      "/opt/conda/lib/python3.9/site-packages/sklearn/model_selection/_search.py:285: UserWarning: The total space of parameters 8 is smaller than n_iter=10. Running 8 iterations. For exhaustive searches, use GridSearchCV.\n",
      "  warnings.warn(\n"
     ]
    },
    {
     "name": "stdout",
     "output_type": "stream",
     "text": [
      "[CV] END ..........................lambda=0, updater=shotgun; total time=   1.9s\n",
      "[CV] END ..........................lambda=0, updater=shotgun; total time=   1.6s\n",
      "[CV] END ..........................lambda=0, updater=shotgun; total time=   1.9s\n",
      "[CV] END ....................lambda=0, updater=coord_descent; total time=   1.7s\n",
      "[CV] END ....................lambda=0, updater=coord_descent; total time=   1.6s\n",
      "[CV] END ....................lambda=0, updater=coord_descent; total time=   2.1s\n",
      "[CV] END ..........................lambda=2, updater=shotgun; total time=   1.8s\n",
      "[CV] END ..........................lambda=2, updater=shotgun; total time=   1.6s\n",
      "[CV] END ..........................lambda=2, updater=shotgun; total time=   1.7s\n",
      "[CV] END ....................lambda=2, updater=coord_descent; total time=   1.9s\n",
      "[CV] END ....................lambda=2, updater=coord_descent; total time=   1.8s\n",
      "[CV] END ....................lambda=2, updater=coord_descent; total time=   2.2s\n",
      "[CV] END ..........................lambda=4, updater=shotgun; total time=   1.7s\n",
      "[CV] END ..........................lambda=4, updater=shotgun; total time=   1.8s\n",
      "[CV] END ..........................lambda=4, updater=shotgun; total time=   1.5s\n",
      "[CV] END ....................lambda=4, updater=coord_descent; total time=   1.6s\n",
      "[CV] END ....................lambda=4, updater=coord_descent; total time=   1.6s\n",
      "[CV] END ....................lambda=4, updater=coord_descent; total time=   1.9s\n",
      "[CV] END ..........................lambda=6, updater=shotgun; total time=   1.5s\n",
      "[CV] END ..........................lambda=6, updater=shotgun; total time=   3.3s\n",
      "[CV] END ..........................lambda=6, updater=shotgun; total time=   1.6s\n",
      "[CV] END ....................lambda=6, updater=coord_descent; total time=   7.7s\n",
      "[CV] END ....................lambda=6, updater=coord_descent; total time=   1.7s\n",
      "[CV] END ....................lambda=6, updater=coord_descent; total time=   1.8s\n",
      "RMSE 32.495843140145745\n",
      "параметры данных: lag=1, rolling_mean_size=4\n",
      "Fitting 3 folds for each of 8 candidates, totalling 24 fits\n"
     ]
    },
    {
     "name": "stderr",
     "output_type": "stream",
     "text": [
      "/opt/conda/lib/python3.9/site-packages/sklearn/model_selection/_search.py:285: UserWarning: The total space of parameters 8 is smaller than n_iter=10. Running 8 iterations. For exhaustive searches, use GridSearchCV.\n",
      "  warnings.warn(\n"
     ]
    },
    {
     "name": "stdout",
     "output_type": "stream",
     "text": [
      "[CV] END ..........................lambda=0, updater=shotgun; total time=   1.7s\n",
      "[CV] END ..........................lambda=0, updater=shotgun; total time=   1.6s\n",
      "[CV] END ..........................lambda=0, updater=shotgun; total time=   1.5s\n",
      "[CV] END ....................lambda=0, updater=coord_descent; total time=   1.6s\n",
      "[CV] END ....................lambda=0, updater=coord_descent; total time=   1.5s\n",
      "[CV] END ....................lambda=0, updater=coord_descent; total time=   2.0s\n",
      "[CV] END ..........................lambda=2, updater=shotgun; total time=   3.2s\n",
      "[CV] END ..........................lambda=2, updater=shotgun; total time=   1.8s\n",
      "[CV] END ..........................lambda=2, updater=shotgun; total time=   1.8s\n",
      "[CV] END ....................lambda=2, updater=coord_descent; total time=   1.7s\n",
      "[CV] END ....................lambda=2, updater=coord_descent; total time=   1.5s\n",
      "[CV] END ....................lambda=2, updater=coord_descent; total time=   2.9s\n",
      "[CV] END ..........................lambda=4, updater=shotgun; total time=   1.8s\n",
      "[CV] END ..........................lambda=4, updater=shotgun; total time=   1.9s\n",
      "[CV] END ..........................lambda=4, updater=shotgun; total time=   2.1s\n",
      "[CV] END ....................lambda=4, updater=coord_descent; total time=   3.2s\n",
      "[CV] END ....................lambda=4, updater=coord_descent; total time=   2.0s\n",
      "[CV] END ....................lambda=4, updater=coord_descent; total time=   3.3s\n",
      "[CV] END ..........................lambda=6, updater=shotgun; total time=   2.0s\n",
      "[CV] END ..........................lambda=6, updater=shotgun; total time=   1.8s\n",
      "[CV] END ..........................lambda=6, updater=shotgun; total time=   1.8s\n",
      "[CV] END ....................lambda=6, updater=coord_descent; total time=   1.9s\n",
      "[CV] END ....................lambda=6, updater=coord_descent; total time=   1.7s\n",
      "[CV] END ....................lambda=6, updater=coord_descent; total time=   3.0s\n",
      "RMSE 32.46017274029696\n",
      "параметры данных: lag=1, rolling_mean_size=5\n",
      "Fitting 3 folds for each of 8 candidates, totalling 24 fits\n"
     ]
    },
    {
     "name": "stderr",
     "output_type": "stream",
     "text": [
      "/opt/conda/lib/python3.9/site-packages/sklearn/model_selection/_search.py:285: UserWarning: The total space of parameters 8 is smaller than n_iter=10. Running 8 iterations. For exhaustive searches, use GridSearchCV.\n",
      "  warnings.warn(\n"
     ]
    },
    {
     "name": "stdout",
     "output_type": "stream",
     "text": [
      "[CV] END ..........................lambda=0, updater=shotgun; total time=   1.9s\n",
      "[CV] END ..........................lambda=0, updater=shotgun; total time=   2.8s\n",
      "[CV] END ..........................lambda=0, updater=shotgun; total time=   1.7s\n",
      "[CV] END ....................lambda=0, updater=coord_descent; total time=   1.6s\n",
      "[CV] END ....................lambda=0, updater=coord_descent; total time=   1.9s\n",
      "[CV] END ....................lambda=0, updater=coord_descent; total time=   1.7s\n",
      "[CV] END ..........................lambda=2, updater=shotgun; total time=   1.5s\n",
      "[CV] END ..........................lambda=2, updater=shotgun; total time=   1.5s\n",
      "[CV] END ..........................lambda=2, updater=shotgun; total time=   1.7s\n",
      "[CV] END ....................lambda=2, updater=coord_descent; total time=   1.7s\n",
      "[CV] END ....................lambda=2, updater=coord_descent; total time=   1.9s\n",
      "[CV] END ....................lambda=2, updater=coord_descent; total time=   2.0s\n",
      "[CV] END ..........................lambda=4, updater=shotgun; total time=   1.7s\n",
      "[CV] END ..........................lambda=4, updater=shotgun; total time=   1.7s\n",
      "[CV] END ..........................lambda=4, updater=shotgun; total time=   1.7s\n",
      "[CV] END ....................lambda=4, updater=coord_descent; total time=   1.5s\n",
      "[CV] END ....................lambda=4, updater=coord_descent; total time=   1.8s\n",
      "[CV] END ....................lambda=4, updater=coord_descent; total time=   1.7s\n",
      "[CV] END ..........................lambda=6, updater=shotgun; total time=   1.7s\n",
      "[CV] END ..........................lambda=6, updater=shotgun; total time=   1.6s\n",
      "[CV] END ..........................lambda=6, updater=shotgun; total time=   1.7s\n",
      "[CV] END ....................lambda=6, updater=coord_descent; total time=   1.8s\n",
      "[CV] END ....................lambda=6, updater=coord_descent; total time=   1.7s\n",
      "[CV] END ....................lambda=6, updater=coord_descent; total time=   2.8s\n",
      "RMSE 32.51416115378018\n",
      "параметры данных: lag=1, rolling_mean_size=6\n",
      "Fitting 3 folds for each of 8 candidates, totalling 24 fits\n"
     ]
    },
    {
     "name": "stderr",
     "output_type": "stream",
     "text": [
      "/opt/conda/lib/python3.9/site-packages/sklearn/model_selection/_search.py:285: UserWarning: The total space of parameters 8 is smaller than n_iter=10. Running 8 iterations. For exhaustive searches, use GridSearchCV.\n",
      "  warnings.warn(\n"
     ]
    },
    {
     "name": "stdout",
     "output_type": "stream",
     "text": [
      "[CV] END ..........................lambda=0, updater=shotgun; total time=   2.5s\n",
      "[CV] END ..........................lambda=0, updater=shotgun; total time=   1.8s\n",
      "[CV] END ..........................lambda=0, updater=shotgun; total time=   1.6s\n",
      "[CV] END ....................lambda=0, updater=coord_descent; total time=   2.2s\n",
      "[CV] END ....................lambda=0, updater=coord_descent; total time=   1.6s\n",
      "[CV] END ....................lambda=0, updater=coord_descent; total time=   1.7s\n",
      "[CV] END ..........................lambda=2, updater=shotgun; total time=   1.7s\n",
      "[CV] END ..........................lambda=2, updater=shotgun; total time=   1.9s\n",
      "[CV] END ..........................lambda=2, updater=shotgun; total time=   1.8s\n",
      "[CV] END ....................lambda=2, updater=coord_descent; total time=   1.7s\n",
      "[CV] END ....................lambda=2, updater=coord_descent; total time=   1.7s\n",
      "[CV] END ....................lambda=2, updater=coord_descent; total time=   1.7s\n",
      "[CV] END ..........................lambda=4, updater=shotgun; total time=   1.6s\n",
      "[CV] END ..........................lambda=4, updater=shotgun; total time=   1.7s\n",
      "[CV] END ..........................lambda=4, updater=shotgun; total time=   1.6s\n",
      "[CV] END ....................lambda=4, updater=coord_descent; total time=   1.6s\n",
      "[CV] END ....................lambda=4, updater=coord_descent; total time=   1.6s\n",
      "[CV] END ....................lambda=4, updater=coord_descent; total time=   1.7s\n",
      "[CV] END ..........................lambda=6, updater=shotgun; total time=   1.7s\n",
      "[CV] END ..........................lambda=6, updater=shotgun; total time=   1.8s\n",
      "[CV] END ..........................lambda=6, updater=shotgun; total time=   2.1s\n",
      "[CV] END ....................lambda=6, updater=coord_descent; total time=   2.5s\n",
      "[CV] END ....................lambda=6, updater=coord_descent; total time=   2.0s\n",
      "[CV] END ....................lambda=6, updater=coord_descent; total time=   1.5s\n",
      "RMSE 32.528876717193775\n",
      "параметры данных: lag=1, rolling_mean_size=7\n",
      "Fitting 3 folds for each of 8 candidates, totalling 24 fits\n"
     ]
    },
    {
     "name": "stderr",
     "output_type": "stream",
     "text": [
      "/opt/conda/lib/python3.9/site-packages/sklearn/model_selection/_search.py:285: UserWarning: The total space of parameters 8 is smaller than n_iter=10. Running 8 iterations. For exhaustive searches, use GridSearchCV.\n",
      "  warnings.warn(\n"
     ]
    },
    {
     "name": "stdout",
     "output_type": "stream",
     "text": [
      "[CV] END ..........................lambda=0, updater=shotgun; total time=   1.8s\n",
      "[CV] END ..........................lambda=0, updater=shotgun; total time=   2.0s\n",
      "[CV] END ..........................lambda=0, updater=shotgun; total time=   2.0s\n",
      "[CV] END ....................lambda=0, updater=coord_descent; total time=   1.8s\n",
      "[CV] END ....................lambda=0, updater=coord_descent; total time=   2.0s\n",
      "[CV] END ....................lambda=0, updater=coord_descent; total time=   1.8s\n",
      "[CV] END ..........................lambda=2, updater=shotgun; total time=   1.6s\n",
      "[CV] END ..........................lambda=2, updater=shotgun; total time=   1.7s\n",
      "[CV] END ..........................lambda=2, updater=shotgun; total time=   1.7s\n",
      "[CV] END ....................lambda=2, updater=coord_descent; total time=   2.5s\n",
      "[CV] END ....................lambda=2, updater=coord_descent; total time=   1.6s\n",
      "[CV] END ....................lambda=2, updater=coord_descent; total time=   2.3s\n",
      "[CV] END ..........................lambda=4, updater=shotgun; total time=   1.5s\n",
      "[CV] END ..........................lambda=4, updater=shotgun; total time=   1.7s\n",
      "[CV] END ..........................lambda=4, updater=shotgun; total time=   1.6s\n",
      "[CV] END ....................lambda=4, updater=coord_descent; total time=   1.7s\n",
      "[CV] END ....................lambda=4, updater=coord_descent; total time=   1.8s\n",
      "[CV] END ....................lambda=4, updater=coord_descent; total time=   1.5s\n",
      "[CV] END ..........................lambda=6, updater=shotgun; total time=   1.7s\n",
      "[CV] END ..........................lambda=6, updater=shotgun; total time=   1.4s\n",
      "[CV] END ..........................lambda=6, updater=shotgun; total time=   1.6s\n",
      "[CV] END ....................lambda=6, updater=coord_descent; total time=   1.7s\n",
      "[CV] END ....................lambda=6, updater=coord_descent; total time=   1.5s\n",
      "[CV] END ....................lambda=6, updater=coord_descent; total time=   1.7s\n",
      "RMSE 32.54819673603783\n",
      "параметры данных: lag=1, rolling_mean_size=8\n",
      "Fitting 3 folds for each of 8 candidates, totalling 24 fits\n"
     ]
    },
    {
     "name": "stderr",
     "output_type": "stream",
     "text": [
      "/opt/conda/lib/python3.9/site-packages/sklearn/model_selection/_search.py:285: UserWarning: The total space of parameters 8 is smaller than n_iter=10. Running 8 iterations. For exhaustive searches, use GridSearchCV.\n",
      "  warnings.warn(\n"
     ]
    },
    {
     "name": "stdout",
     "output_type": "stream",
     "text": [
      "[CV] END ..........................lambda=0, updater=shotgun; total time=   2.5s\n",
      "[CV] END ..........................lambda=0, updater=shotgun; total time=   1.7s\n",
      "[CV] END ..........................lambda=0, updater=shotgun; total time=   1.9s\n",
      "[CV] END ....................lambda=0, updater=coord_descent; total time=   2.5s\n",
      "[CV] END ....................lambda=0, updater=coord_descent; total time=   2.1s\n",
      "[CV] END ....................lambda=0, updater=coord_descent; total time=   1.5s\n",
      "[CV] END ..........................lambda=2, updater=shotgun; total time=   1.5s\n",
      "[CV] END ..........................lambda=2, updater=shotgun; total time=   1.9s\n",
      "[CV] END ..........................lambda=2, updater=shotgun; total time=   1.9s\n",
      "[CV] END ....................lambda=2, updater=coord_descent; total time=   1.5s\n",
      "[CV] END ....................lambda=2, updater=coord_descent; total time=   2.1s\n",
      "[CV] END ....................lambda=2, updater=coord_descent; total time=   4.3s\n",
      "[CV] END ..........................lambda=4, updater=shotgun; total time=   1.8s\n",
      "[CV] END ..........................lambda=4, updater=shotgun; total time=   1.8s\n",
      "[CV] END ..........................lambda=4, updater=shotgun; total time=   2.4s\n",
      "[CV] END ....................lambda=4, updater=coord_descent; total time=   1.6s\n",
      "[CV] END ....................lambda=4, updater=coord_descent; total time=   1.8s\n",
      "[CV] END ....................lambda=4, updater=coord_descent; total time=   4.0s\n",
      "[CV] END ..........................lambda=6, updater=shotgun; total time=   1.8s\n",
      "[CV] END ..........................lambda=6, updater=shotgun; total time=   1.8s\n",
      "[CV] END ..........................lambda=6, updater=shotgun; total time=   1.9s\n",
      "[CV] END ....................lambda=6, updater=coord_descent; total time=   1.7s\n",
      "[CV] END ....................lambda=6, updater=coord_descent; total time=   1.8s\n",
      "[CV] END ....................lambda=6, updater=coord_descent; total time=   1.6s\n",
      "RMSE 32.54406560272165\n",
      "параметры данных: lag=1, rolling_mean_size=9\n",
      "Fitting 3 folds for each of 8 candidates, totalling 24 fits\n"
     ]
    },
    {
     "name": "stderr",
     "output_type": "stream",
     "text": [
      "/opt/conda/lib/python3.9/site-packages/sklearn/model_selection/_search.py:285: UserWarning: The total space of parameters 8 is smaller than n_iter=10. Running 8 iterations. For exhaustive searches, use GridSearchCV.\n",
      "  warnings.warn(\n"
     ]
    },
    {
     "name": "stdout",
     "output_type": "stream",
     "text": [
      "[CV] END ..........................lambda=0, updater=shotgun; total time=   1.8s\n",
      "[CV] END ..........................lambda=0, updater=shotgun; total time=   2.0s\n",
      "[CV] END ..........................lambda=0, updater=shotgun; total time=   1.6s\n",
      "[CV] END ....................lambda=0, updater=coord_descent; total time=   1.6s\n",
      "[CV] END ....................lambda=0, updater=coord_descent; total time=   1.6s\n",
      "[CV] END ....................lambda=0, updater=coord_descent; total time=   1.5s\n",
      "[CV] END ..........................lambda=2, updater=shotgun; total time=   2.0s\n",
      "[CV] END ..........................lambda=2, updater=shotgun; total time=   1.9s\n",
      "[CV] END ..........................lambda=2, updater=shotgun; total time=   1.6s\n",
      "[CV] END ....................lambda=2, updater=coord_descent; total time=   2.3s\n",
      "[CV] END ....................lambda=2, updater=coord_descent; total time=   1.6s\n",
      "[CV] END ....................lambda=2, updater=coord_descent; total time=   2.0s\n",
      "[CV] END ..........................lambda=4, updater=shotgun; total time=   1.6s\n",
      "[CV] END ..........................lambda=4, updater=shotgun; total time=   1.9s\n",
      "[CV] END ..........................lambda=4, updater=shotgun; total time=   1.6s\n",
      "[CV] END ....................lambda=4, updater=coord_descent; total time=   1.7s\n",
      "[CV] END ....................lambda=4, updater=coord_descent; total time=   1.8s\n",
      "[CV] END ....................lambda=4, updater=coord_descent; total time=   2.1s\n",
      "[CV] END ..........................lambda=6, updater=shotgun; total time=   1.9s\n",
      "[CV] END ..........................lambda=6, updater=shotgun; total time=   1.7s\n",
      "[CV] END ..........................lambda=6, updater=shotgun; total time=   1.9s\n",
      "[CV] END ....................lambda=6, updater=coord_descent; total time=   1.6s\n",
      "[CV] END ....................lambda=6, updater=coord_descent; total time=   2.3s\n",
      "[CV] END ....................lambda=6, updater=coord_descent; total time=   1.6s\n"
     ]
    },
    {
     "name": "stderr",
     "output_type": "stream",
     "text": [
      " 10%|█         | 1/10 [07:51<1:10:41, 471.29s/it]"
     ]
    },
    {
     "name": "stdout",
     "output_type": "stream",
     "text": [
      "RMSE 32.53830591126316\n",
      "параметры данных: lag=1, rolling_mean_size=10\n",
      "Fitting 3 folds for each of 8 candidates, totalling 24 fits\n"
     ]
    },
    {
     "name": "stderr",
     "output_type": "stream",
     "text": [
      "/opt/conda/lib/python3.9/site-packages/sklearn/model_selection/_search.py:285: UserWarning: The total space of parameters 8 is smaller than n_iter=10. Running 8 iterations. For exhaustive searches, use GridSearchCV.\n",
      "  warnings.warn(\n"
     ]
    },
    {
     "name": "stdout",
     "output_type": "stream",
     "text": [
      "[CV] END ..........................lambda=0, updater=shotgun; total time=   2.0s\n",
      "[CV] END ..........................lambda=0, updater=shotgun; total time=   1.7s\n",
      "[CV] END ..........................lambda=0, updater=shotgun; total time=   1.9s\n",
      "[CV] END ....................lambda=0, updater=coord_descent; total time=   2.0s\n",
      "[CV] END ....................lambda=0, updater=coord_descent; total time=   1.7s\n",
      "[CV] END ....................lambda=0, updater=coord_descent; total time=   1.7s\n",
      "[CV] END ..........................lambda=2, updater=shotgun; total time=   1.6s\n",
      "[CV] END ..........................lambda=2, updater=shotgun; total time=   1.5s\n",
      "[CV] END ..........................lambda=2, updater=shotgun; total time=   1.5s\n",
      "[CV] END ....................lambda=2, updater=coord_descent; total time=   1.6s\n",
      "[CV] END ....................lambda=2, updater=coord_descent; total time=   2.0s\n",
      "[CV] END ....................lambda=2, updater=coord_descent; total time=   1.7s\n",
      "[CV] END ..........................lambda=4, updater=shotgun; total time=   1.5s\n",
      "[CV] END ..........................lambda=4, updater=shotgun; total time=   1.6s\n",
      "[CV] END ..........................lambda=4, updater=shotgun; total time=   1.7s\n",
      "[CV] END ....................lambda=4, updater=coord_descent; total time=   1.9s\n",
      "[CV] END ....................lambda=4, updater=coord_descent; total time=   1.8s\n",
      "[CV] END ....................lambda=4, updater=coord_descent; total time=   2.0s\n",
      "[CV] END ..........................lambda=6, updater=shotgun; total time=   1.7s\n",
      "[CV] END ..........................lambda=6, updater=shotgun; total time=   1.4s\n",
      "[CV] END ..........................lambda=6, updater=shotgun; total time=   1.7s\n",
      "[CV] END ....................lambda=6, updater=coord_descent; total time=   2.2s\n",
      "[CV] END ....................lambda=6, updater=coord_descent; total time=   2.1s\n",
      "[CV] END ....................lambda=6, updater=coord_descent; total time=   1.5s\n",
      "RMSE 32.49854107477986\n",
      "параметры данных: lag=2, rolling_mean_size=1\n",
      "Fitting 3 folds for each of 8 candidates, totalling 24 fits\n"
     ]
    },
    {
     "name": "stderr",
     "output_type": "stream",
     "text": [
      "/opt/conda/lib/python3.9/site-packages/sklearn/model_selection/_search.py:285: UserWarning: The total space of parameters 8 is smaller than n_iter=10. Running 8 iterations. For exhaustive searches, use GridSearchCV.\n",
      "  warnings.warn(\n"
     ]
    },
    {
     "name": "stdout",
     "output_type": "stream",
     "text": [
      "[CV] END ..........................lambda=0, updater=shotgun; total time=   1.4s\n",
      "[CV] END ..........................lambda=0, updater=shotgun; total time=   1.7s\n",
      "[CV] END ..........................lambda=0, updater=shotgun; total time=   2.0s\n",
      "[CV] END ....................lambda=0, updater=coord_descent; total time=   1.7s\n",
      "[CV] END ....................lambda=0, updater=coord_descent; total time=   1.7s\n",
      "[CV] END ....................lambda=0, updater=coord_descent; total time=   2.8s\n",
      "[CV] END ..........................lambda=2, updater=shotgun; total time=   1.6s\n",
      "[CV] END ..........................lambda=2, updater=shotgun; total time=   1.7s\n",
      "[CV] END ..........................lambda=2, updater=shotgun; total time=   2.0s\n",
      "[CV] END ....................lambda=2, updater=coord_descent; total time=   2.5s\n",
      "[CV] END ....................lambda=2, updater=coord_descent; total time=   1.6s\n",
      "[CV] END ....................lambda=2, updater=coord_descent; total time=   1.9s\n",
      "[CV] END ..........................lambda=4, updater=shotgun; total time=   1.8s\n",
      "[CV] END ..........................lambda=4, updater=shotgun; total time=   3.2s\n",
      "[CV] END ..........................lambda=4, updater=shotgun; total time=   3.5s\n",
      "[CV] END ....................lambda=4, updater=coord_descent; total time=   1.6s\n",
      "[CV] END ....................lambda=4, updater=coord_descent; total time=   1.9s\n",
      "[CV] END ....................lambda=4, updater=coord_descent; total time=   1.7s\n",
      "[CV] END ..........................lambda=6, updater=shotgun; total time=   1.7s\n",
      "[CV] END ..........................lambda=6, updater=shotgun; total time=   2.3s\n",
      "[CV] END ..........................lambda=6, updater=shotgun; total time=   1.8s\n",
      "[CV] END ....................lambda=6, updater=coord_descent; total time=   2.9s\n",
      "[CV] END ....................lambda=6, updater=coord_descent; total time=   3.8s\n",
      "[CV] END ....................lambda=6, updater=coord_descent; total time=   3.1s\n",
      "RMSE 32.49637758964254\n",
      "параметры данных: lag=2, rolling_mean_size=2\n",
      "Fitting 3 folds for each of 8 candidates, totalling 24 fits\n"
     ]
    },
    {
     "name": "stderr",
     "output_type": "stream",
     "text": [
      "/opt/conda/lib/python3.9/site-packages/sklearn/model_selection/_search.py:285: UserWarning: The total space of parameters 8 is smaller than n_iter=10. Running 8 iterations. For exhaustive searches, use GridSearchCV.\n",
      "  warnings.warn(\n"
     ]
    },
    {
     "name": "stdout",
     "output_type": "stream",
     "text": [
      "[CV] END ..........................lambda=0, updater=shotgun; total time=   2.2s\n",
      "[CV] END ..........................lambda=0, updater=shotgun; total time=   1.6s\n",
      "[CV] END ..........................lambda=0, updater=shotgun; total time=   1.8s\n",
      "[CV] END ....................lambda=0, updater=coord_descent; total time=   1.6s\n",
      "[CV] END ....................lambda=0, updater=coord_descent; total time=   2.1s\n",
      "[CV] END ....................lambda=0, updater=coord_descent; total time=   1.7s\n",
      "[CV] END ..........................lambda=2, updater=shotgun; total time=   1.7s\n",
      "[CV] END ..........................lambda=2, updater=shotgun; total time=   1.5s\n",
      "[CV] END ..........................lambda=2, updater=shotgun; total time=   1.7s\n",
      "[CV] END ....................lambda=2, updater=coord_descent; total time=   2.3s\n",
      "[CV] END ....................lambda=2, updater=coord_descent; total time=   1.7s\n",
      "[CV] END ....................lambda=2, updater=coord_descent; total time=   2.4s\n",
      "[CV] END ..........................lambda=4, updater=shotgun; total time=   1.8s\n",
      "[CV] END ..........................lambda=4, updater=shotgun; total time=   1.7s\n",
      "[CV] END ..........................lambda=4, updater=shotgun; total time=   1.6s\n",
      "[CV] END ....................lambda=4, updater=coord_descent; total time=   1.8s\n",
      "[CV] END ....................lambda=4, updater=coord_descent; total time=   1.9s\n",
      "[CV] END ....................lambda=4, updater=coord_descent; total time=   1.5s\n",
      "[CV] END ..........................lambda=6, updater=shotgun; total time=   1.6s\n",
      "[CV] END ..........................lambda=6, updater=shotgun; total time=   1.5s\n",
      "[CV] END ..........................lambda=6, updater=shotgun; total time=   1.5s\n",
      "[CV] END ....................lambda=6, updater=coord_descent; total time=   1.8s\n",
      "[CV] END ....................lambda=6, updater=coord_descent; total time=   1.8s\n",
      "[CV] END ....................lambda=6, updater=coord_descent; total time=   1.7s\n",
      "RMSE 32.459802431515925\n",
      "параметры данных: lag=2, rolling_mean_size=3\n",
      "Fitting 3 folds for each of 8 candidates, totalling 24 fits\n"
     ]
    },
    {
     "name": "stderr",
     "output_type": "stream",
     "text": [
      "/opt/conda/lib/python3.9/site-packages/sklearn/model_selection/_search.py:285: UserWarning: The total space of parameters 8 is smaller than n_iter=10. Running 8 iterations. For exhaustive searches, use GridSearchCV.\n",
      "  warnings.warn(\n"
     ]
    },
    {
     "name": "stdout",
     "output_type": "stream",
     "text": [
      "[CV] END ..........................lambda=0, updater=shotgun; total time=   1.6s\n",
      "[CV] END ..........................lambda=0, updater=shotgun; total time=   1.8s\n",
      "[CV] END ..........................lambda=0, updater=shotgun; total time=   1.8s\n",
      "[CV] END ....................lambda=0, updater=coord_descent; total time=   1.8s\n",
      "[CV] END ....................lambda=0, updater=coord_descent; total time=   1.8s\n",
      "[CV] END ....................lambda=0, updater=coord_descent; total time=   1.7s\n",
      "[CV] END ..........................lambda=2, updater=shotgun; total time=   1.4s\n",
      "[CV] END ..........................lambda=2, updater=shotgun; total time=   1.8s\n",
      "[CV] END ..........................lambda=2, updater=shotgun; total time=   1.8s\n",
      "[CV] END ....................lambda=2, updater=coord_descent; total time=   1.7s\n",
      "[CV] END ....................lambda=2, updater=coord_descent; total time=   1.8s\n",
      "[CV] END ....................lambda=2, updater=coord_descent; total time=   1.8s\n",
      "[CV] END ..........................lambda=4, updater=shotgun; total time=   2.9s\n",
      "[CV] END ..........................lambda=4, updater=shotgun; total time=   5.7s\n",
      "[CV] END ..........................lambda=4, updater=shotgun; total time=   8.1s\n",
      "[CV] END ....................lambda=4, updater=coord_descent; total time=   2.4s\n",
      "[CV] END ....................lambda=4, updater=coord_descent; total time=   1.7s\n",
      "[CV] END ....................lambda=4, updater=coord_descent; total time=   1.8s\n",
      "[CV] END ..........................lambda=6, updater=shotgun; total time=   1.7s\n",
      "[CV] END ..........................lambda=6, updater=shotgun; total time=   1.6s\n",
      "[CV] END ..........................lambda=6, updater=shotgun; total time=   1.6s\n",
      "[CV] END ....................lambda=6, updater=coord_descent; total time=   1.5s\n",
      "[CV] END ....................lambda=6, updater=coord_descent; total time=   1.7s\n",
      "[CV] END ....................lambda=6, updater=coord_descent; total time=   1.7s\n",
      "RMSE 32.392272170069646\n",
      "параметры данных: lag=2, rolling_mean_size=4\n",
      "Fitting 3 folds for each of 8 candidates, totalling 24 fits\n"
     ]
    },
    {
     "name": "stderr",
     "output_type": "stream",
     "text": [
      "/opt/conda/lib/python3.9/site-packages/sklearn/model_selection/_search.py:285: UserWarning: The total space of parameters 8 is smaller than n_iter=10. Running 8 iterations. For exhaustive searches, use GridSearchCV.\n",
      "  warnings.warn(\n"
     ]
    },
    {
     "name": "stdout",
     "output_type": "stream",
     "text": [
      "[CV] END ..........................lambda=0, updater=shotgun; total time=   1.7s\n",
      "[CV] END ..........................lambda=0, updater=shotgun; total time=   1.6s\n",
      "[CV] END ..........................lambda=0, updater=shotgun; total time=   2.8s\n",
      "[CV] END ....................lambda=0, updater=coord_descent; total time=   1.6s\n",
      "[CV] END ....................lambda=0, updater=coord_descent; total time=   2.3s\n",
      "[CV] END ....................lambda=0, updater=coord_descent; total time=   2.9s\n",
      "[CV] END ..........................lambda=2, updater=shotgun; total time=   1.6s\n",
      "[CV] END ..........................lambda=2, updater=shotgun; total time=   4.1s\n",
      "[CV] END ..........................lambda=2, updater=shotgun; total time=   1.9s\n",
      "[CV] END ....................lambda=2, updater=coord_descent; total time=   4.5s\n",
      "[CV] END ....................lambda=2, updater=coord_descent; total time=   3.3s\n",
      "[CV] END ....................lambda=2, updater=coord_descent; total time=   1.8s\n",
      "[CV] END ..........................lambda=4, updater=shotgun; total time=   2.2s\n",
      "[CV] END ..........................lambda=4, updater=shotgun; total time=   1.5s\n",
      "[CV] END ..........................lambda=4, updater=shotgun; total time=   1.6s\n",
      "[CV] END ....................lambda=4, updater=coord_descent; total time=   2.7s\n",
      "[CV] END ....................lambda=4, updater=coord_descent; total time=   1.8s\n",
      "[CV] END ....................lambda=4, updater=coord_descent; total time=   2.0s\n",
      "[CV] END ..........................lambda=6, updater=shotgun; total time=   1.9s\n",
      "[CV] END ..........................lambda=6, updater=shotgun; total time=   2.0s\n",
      "[CV] END ..........................lambda=6, updater=shotgun; total time=   1.5s\n",
      "[CV] END ....................lambda=6, updater=coord_descent; total time=   2.0s\n",
      "[CV] END ....................lambda=6, updater=coord_descent; total time=   1.6s\n",
      "[CV] END ....................lambda=6, updater=coord_descent; total time=   1.8s\n",
      "RMSE 32.44564985337395\n",
      "параметры данных: lag=2, rolling_mean_size=5\n",
      "Fitting 3 folds for each of 8 candidates, totalling 24 fits\n"
     ]
    },
    {
     "name": "stderr",
     "output_type": "stream",
     "text": [
      "/opt/conda/lib/python3.9/site-packages/sklearn/model_selection/_search.py:285: UserWarning: The total space of parameters 8 is smaller than n_iter=10. Running 8 iterations. For exhaustive searches, use GridSearchCV.\n",
      "  warnings.warn(\n"
     ]
    },
    {
     "name": "stdout",
     "output_type": "stream",
     "text": [
      "[CV] END ..........................lambda=0, updater=shotgun; total time=   1.5s\n",
      "[CV] END ..........................lambda=0, updater=shotgun; total time=   1.5s\n",
      "[CV] END ..........................lambda=0, updater=shotgun; total time=   1.6s\n",
      "[CV] END ....................lambda=0, updater=coord_descent; total time=   3.5s\n",
      "[CV] END ....................lambda=0, updater=coord_descent; total time=   1.5s\n",
      "[CV] END ....................lambda=0, updater=coord_descent; total time=   1.7s\n",
      "[CV] END ..........................lambda=2, updater=shotgun; total time=   1.9s\n",
      "[CV] END ..........................lambda=2, updater=shotgun; total time=   2.0s\n",
      "[CV] END ..........................lambda=2, updater=shotgun; total time=   1.7s\n",
      "[CV] END ....................lambda=2, updater=coord_descent; total time=   4.6s\n",
      "[CV] END ....................lambda=2, updater=coord_descent; total time=   2.7s\n",
      "[CV] END ....................lambda=2, updater=coord_descent; total time=   1.8s\n",
      "[CV] END ..........................lambda=4, updater=shotgun; total time=   1.6s\n",
      "[CV] END ..........................lambda=4, updater=shotgun; total time=   1.7s\n",
      "[CV] END ..........................lambda=4, updater=shotgun; total time=   1.7s\n",
      "[CV] END ....................lambda=4, updater=coord_descent; total time=   1.6s\n",
      "[CV] END ....................lambda=4, updater=coord_descent; total time=   1.8s\n",
      "[CV] END ....................lambda=4, updater=coord_descent; total time=   2.0s\n",
      "[CV] END ..........................lambda=6, updater=shotgun; total time=   1.7s\n",
      "[CV] END ..........................lambda=6, updater=shotgun; total time=   2.8s\n",
      "[CV] END ..........................lambda=6, updater=shotgun; total time=   1.7s\n",
      "[CV] END ....................lambda=6, updater=coord_descent; total time=   2.0s\n",
      "[CV] END ....................lambda=6, updater=coord_descent; total time=   1.8s\n",
      "[CV] END ....................lambda=6, updater=coord_descent; total time=   2.2s\n",
      "RMSE 32.49386396524764\n",
      "параметры данных: lag=2, rolling_mean_size=6\n",
      "Fitting 3 folds for each of 8 candidates, totalling 24 fits\n"
     ]
    },
    {
     "name": "stderr",
     "output_type": "stream",
     "text": [
      "/opt/conda/lib/python3.9/site-packages/sklearn/model_selection/_search.py:285: UserWarning: The total space of parameters 8 is smaller than n_iter=10. Running 8 iterations. For exhaustive searches, use GridSearchCV.\n",
      "  warnings.warn(\n"
     ]
    },
    {
     "name": "stdout",
     "output_type": "stream",
     "text": [
      "[CV] END ..........................lambda=0, updater=shotgun; total time=   1.6s\n",
      "[CV] END ..........................lambda=0, updater=shotgun; total time=   1.8s\n",
      "[CV] END ..........................lambda=0, updater=shotgun; total time=   1.9s\n",
      "[CV] END ....................lambda=0, updater=coord_descent; total time=   1.7s\n",
      "[CV] END ....................lambda=0, updater=coord_descent; total time=   1.6s\n",
      "[CV] END ....................lambda=0, updater=coord_descent; total time=   1.7s\n",
      "[CV] END ..........................lambda=2, updater=shotgun; total time=   1.8s\n",
      "[CV] END ..........................lambda=2, updater=shotgun; total time=   1.5s\n",
      "[CV] END ..........................lambda=2, updater=shotgun; total time=   1.7s\n",
      "[CV] END ....................lambda=2, updater=coord_descent; total time=   2.2s\n",
      "[CV] END ....................lambda=2, updater=coord_descent; total time=   3.9s\n",
      "[CV] END ....................lambda=2, updater=coord_descent; total time=   1.8s\n",
      "[CV] END ..........................lambda=4, updater=shotgun; total time=   2.1s\n",
      "[CV] END ..........................lambda=4, updater=shotgun; total time=   1.7s\n",
      "[CV] END ..........................lambda=4, updater=shotgun; total time=   2.0s\n",
      "[CV] END ....................lambda=4, updater=coord_descent; total time=   1.6s\n",
      "[CV] END ....................lambda=4, updater=coord_descent; total time=   1.7s\n",
      "[CV] END ....................lambda=4, updater=coord_descent; total time=   1.8s\n",
      "[CV] END ..........................lambda=6, updater=shotgun; total time=   2.0s\n",
      "[CV] END ..........................lambda=6, updater=shotgun; total time=   1.7s\n",
      "[CV] END ..........................lambda=6, updater=shotgun; total time=   1.7s\n",
      "[CV] END ....................lambda=6, updater=coord_descent; total time=   2.2s\n",
      "[CV] END ....................lambda=6, updater=coord_descent; total time=   2.9s\n",
      "[CV] END ....................lambda=6, updater=coord_descent; total time=   1.8s\n",
      "RMSE 32.56460151503128\n",
      "параметры данных: lag=2, rolling_mean_size=7\n",
      "Fitting 3 folds for each of 8 candidates, totalling 24 fits\n"
     ]
    },
    {
     "name": "stderr",
     "output_type": "stream",
     "text": [
      "/opt/conda/lib/python3.9/site-packages/sklearn/model_selection/_search.py:285: UserWarning: The total space of parameters 8 is smaller than n_iter=10. Running 8 iterations. For exhaustive searches, use GridSearchCV.\n",
      "  warnings.warn(\n"
     ]
    },
    {
     "name": "stdout",
     "output_type": "stream",
     "text": [
      "[CV] END ..........................lambda=0, updater=shotgun; total time=   1.5s\n",
      "[CV] END ..........................lambda=0, updater=shotgun; total time=   1.6s\n",
      "[CV] END ..........................lambda=0, updater=shotgun; total time=   2.4s\n",
      "[CV] END ....................lambda=0, updater=coord_descent; total time=   4.3s\n",
      "[CV] END ....................lambda=0, updater=coord_descent; total time=   1.7s\n",
      "[CV] END ....................lambda=0, updater=coord_descent; total time=   1.9s\n",
      "[CV] END ..........................lambda=2, updater=shotgun; total time=   1.7s\n",
      "[CV] END ..........................lambda=2, updater=shotgun; total time=   1.7s\n",
      "[CV] END ..........................lambda=2, updater=shotgun; total time=   1.9s\n",
      "[CV] END ....................lambda=2, updater=coord_descent; total time=   1.6s\n",
      "[CV] END ....................lambda=2, updater=coord_descent; total time=   1.6s\n",
      "[CV] END ....................lambda=2, updater=coord_descent; total time=   1.7s\n",
      "[CV] END ..........................lambda=4, updater=shotgun; total time=   1.6s\n",
      "[CV] END ..........................lambda=4, updater=shotgun; total time=   2.8s\n",
      "[CV] END ..........................lambda=4, updater=shotgun; total time=   1.8s\n",
      "[CV] END ....................lambda=4, updater=coord_descent; total time=   1.6s\n",
      "[CV] END ....................lambda=4, updater=coord_descent; total time=   1.6s\n",
      "[CV] END ....................lambda=4, updater=coord_descent; total time=   1.8s\n",
      "[CV] END ..........................lambda=6, updater=shotgun; total time=   1.8s\n",
      "[CV] END ..........................lambda=6, updater=shotgun; total time=   1.7s\n",
      "[CV] END ..........................lambda=6, updater=shotgun; total time=   2.1s\n",
      "[CV] END ....................lambda=6, updater=coord_descent; total time=   1.6s\n",
      "[CV] END ....................lambda=6, updater=coord_descent; total time=   1.7s\n",
      "[CV] END ....................lambda=6, updater=coord_descent; total time=   1.8s\n",
      "RMSE 32.59811532623612\n",
      "параметры данных: lag=2, rolling_mean_size=8\n",
      "Fitting 3 folds for each of 8 candidates, totalling 24 fits\n"
     ]
    },
    {
     "name": "stderr",
     "output_type": "stream",
     "text": [
      "/opt/conda/lib/python3.9/site-packages/sklearn/model_selection/_search.py:285: UserWarning: The total space of parameters 8 is smaller than n_iter=10. Running 8 iterations. For exhaustive searches, use GridSearchCV.\n",
      "  warnings.warn(\n"
     ]
    },
    {
     "name": "stdout",
     "output_type": "stream",
     "text": [
      "[CV] END ..........................lambda=0, updater=shotgun; total time=   1.7s\n",
      "[CV] END ..........................lambda=0, updater=shotgun; total time=   1.7s\n",
      "[CV] END ..........................lambda=0, updater=shotgun; total time=   1.8s\n",
      "[CV] END ....................lambda=0, updater=coord_descent; total time=   2.2s\n",
      "[CV] END ....................lambda=0, updater=coord_descent; total time=   5.3s\n",
      "[CV] END ....................lambda=0, updater=coord_descent; total time=   1.8s\n",
      "[CV] END ..........................lambda=2, updater=shotgun; total time=   1.6s\n",
      "[CV] END ..........................lambda=2, updater=shotgun; total time=   1.6s\n",
      "[CV] END ..........................lambda=2, updater=shotgun; total time=   2.5s\n",
      "[CV] END ....................lambda=2, updater=coord_descent; total time=   2.3s\n",
      "[CV] END ....................lambda=2, updater=coord_descent; total time=   1.7s\n",
      "[CV] END ....................lambda=2, updater=coord_descent; total time=   1.6s\n",
      "[CV] END ..........................lambda=4, updater=shotgun; total time=   1.7s\n",
      "[CV] END ..........................lambda=4, updater=shotgun; total time=   2.1s\n",
      "[CV] END ..........................lambda=4, updater=shotgun; total time=   1.8s\n",
      "[CV] END ....................lambda=4, updater=coord_descent; total time=   1.8s\n",
      "[CV] END ....................lambda=4, updater=coord_descent; total time=   1.7s\n",
      "[CV] END ....................lambda=4, updater=coord_descent; total time=   1.8s\n",
      "[CV] END ..........................lambda=6, updater=shotgun; total time=   1.9s\n",
      "[CV] END ..........................lambda=6, updater=shotgun; total time=   1.5s\n",
      "[CV] END ..........................lambda=6, updater=shotgun; total time=   2.1s\n",
      "[CV] END ....................lambda=6, updater=coord_descent; total time=   1.6s\n",
      "[CV] END ....................lambda=6, updater=coord_descent; total time=   1.6s\n",
      "[CV] END ....................lambda=6, updater=coord_descent; total time=   2.4s\n",
      "RMSE 32.588448998917436\n",
      "параметры данных: lag=2, rolling_mean_size=9\n",
      "Fitting 3 folds for each of 8 candidates, totalling 24 fits\n"
     ]
    },
    {
     "name": "stderr",
     "output_type": "stream",
     "text": [
      "/opt/conda/lib/python3.9/site-packages/sklearn/model_selection/_search.py:285: UserWarning: The total space of parameters 8 is smaller than n_iter=10. Running 8 iterations. For exhaustive searches, use GridSearchCV.\n",
      "  warnings.warn(\n"
     ]
    },
    {
     "name": "stdout",
     "output_type": "stream",
     "text": [
      "[CV] END ..........................lambda=0, updater=shotgun; total time=   2.0s\n",
      "[CV] END ..........................lambda=0, updater=shotgun; total time=   2.1s\n",
      "[CV] END ..........................lambda=0, updater=shotgun; total time=   1.8s\n",
      "[CV] END ....................lambda=0, updater=coord_descent; total time=   1.9s\n",
      "[CV] END ....................lambda=0, updater=coord_descent; total time=   1.7s\n",
      "[CV] END ....................lambda=0, updater=coord_descent; total time=   1.8s\n",
      "[CV] END ..........................lambda=2, updater=shotgun; total time=   2.0s\n",
      "[CV] END ..........................lambda=2, updater=shotgun; total time=   1.9s\n",
      "[CV] END ..........................lambda=2, updater=shotgun; total time=   2.6s\n",
      "[CV] END ....................lambda=2, updater=coord_descent; total time=   1.8s\n",
      "[CV] END ....................lambda=2, updater=coord_descent; total time=   1.7s\n",
      "[CV] END ....................lambda=2, updater=coord_descent; total time=   2.6s\n",
      "[CV] END ..........................lambda=4, updater=shotgun; total time=   1.6s\n",
      "[CV] END ..........................lambda=4, updater=shotgun; total time=   1.9s\n",
      "[CV] END ..........................lambda=4, updater=shotgun; total time=   2.2s\n",
      "[CV] END ....................lambda=4, updater=coord_descent; total time=   2.1s\n",
      "[CV] END ....................lambda=4, updater=coord_descent; total time=  22.5s\n",
      "[CV] END ....................lambda=4, updater=coord_descent; total time=  38.4s\n",
      "[CV] END ..........................lambda=6, updater=shotgun; total time=  11.7s\n",
      "[CV] END ..........................lambda=6, updater=shotgun; total time=  10.0s\n",
      "[CV] END ..........................lambda=6, updater=shotgun; total time=   4.9s\n",
      "[CV] END ....................lambda=6, updater=coord_descent; total time=   1.9s\n",
      "[CV] END ....................lambda=6, updater=coord_descent; total time=   1.6s\n",
      "[CV] END ....................lambda=6, updater=coord_descent; total time=   1.8s\n"
     ]
    },
    {
     "name": "stderr",
     "output_type": "stream",
     "text": [
      " 20%|██        | 2/10 [17:28<1:11:06, 533.36s/it]"
     ]
    },
    {
     "name": "stdout",
     "output_type": "stream",
     "text": [
      "RMSE 32.60483781175885\n",
      "параметры данных: lag=2, rolling_mean_size=10\n",
      "Fitting 3 folds for each of 8 candidates, totalling 24 fits\n"
     ]
    },
    {
     "name": "stderr",
     "output_type": "stream",
     "text": [
      "/opt/conda/lib/python3.9/site-packages/sklearn/model_selection/_search.py:285: UserWarning: The total space of parameters 8 is smaller than n_iter=10. Running 8 iterations. For exhaustive searches, use GridSearchCV.\n",
      "  warnings.warn(\n"
     ]
    },
    {
     "name": "stdout",
     "output_type": "stream",
     "text": [
      "[CV] END ..........................lambda=0, updater=shotgun; total time=   1.5s\n",
      "[CV] END ..........................lambda=0, updater=shotgun; total time=   1.6s\n",
      "[CV] END ..........................lambda=0, updater=shotgun; total time=   1.5s\n",
      "[CV] END ....................lambda=0, updater=coord_descent; total time=   1.8s\n",
      "[CV] END ....................lambda=0, updater=coord_descent; total time=   1.7s\n",
      "[CV] END ....................lambda=0, updater=coord_descent; total time=   1.9s\n",
      "[CV] END ..........................lambda=2, updater=shotgun; total time=   1.7s\n",
      "[CV] END ..........................lambda=2, updater=shotgun; total time=   1.8s\n",
      "[CV] END ..........................lambda=2, updater=shotgun; total time=   1.6s\n",
      "[CV] END ....................lambda=2, updater=coord_descent; total time=   1.5s\n",
      "[CV] END ....................lambda=2, updater=coord_descent; total time=   1.7s\n",
      "[CV] END ....................lambda=2, updater=coord_descent; total time=   1.8s\n",
      "[CV] END ..........................lambda=4, updater=shotgun; total time=   1.7s\n",
      "[CV] END ..........................lambda=4, updater=shotgun; total time=   1.8s\n",
      "[CV] END ..........................lambda=4, updater=shotgun; total time=   2.0s\n",
      "[CV] END ....................lambda=4, updater=coord_descent; total time=   1.5s\n",
      "[CV] END ....................lambda=4, updater=coord_descent; total time=   1.6s\n",
      "[CV] END ....................lambda=4, updater=coord_descent; total time=   1.8s\n",
      "[CV] END ..........................lambda=6, updater=shotgun; total time=   1.7s\n",
      "[CV] END ..........................lambda=6, updater=shotgun; total time=   1.7s\n",
      "[CV] END ..........................lambda=6, updater=shotgun; total time=   1.6s\n",
      "[CV] END ....................lambda=6, updater=coord_descent; total time=   1.5s\n",
      "[CV] END ....................lambda=6, updater=coord_descent; total time=   1.6s\n",
      "[CV] END ....................lambda=6, updater=coord_descent; total time=   1.7s\n",
      "RMSE 32.41003056976716\n",
      "параметры данных: lag=3, rolling_mean_size=1\n",
      "Fitting 3 folds for each of 8 candidates, totalling 24 fits\n"
     ]
    },
    {
     "name": "stderr",
     "output_type": "stream",
     "text": [
      "/opt/conda/lib/python3.9/site-packages/sklearn/model_selection/_search.py:285: UserWarning: The total space of parameters 8 is smaller than n_iter=10. Running 8 iterations. For exhaustive searches, use GridSearchCV.\n",
      "  warnings.warn(\n"
     ]
    },
    {
     "name": "stdout",
     "output_type": "stream",
     "text": [
      "[CV] END ..........................lambda=0, updater=shotgun; total time=   1.8s\n",
      "[CV] END ..........................lambda=0, updater=shotgun; total time=   1.7s\n",
      "[CV] END ..........................lambda=0, updater=shotgun; total time=   1.6s\n",
      "[CV] END ....................lambda=0, updater=coord_descent; total time=   2.0s\n",
      "[CV] END ....................lambda=0, updater=coord_descent; total time=   1.9s\n",
      "[CV] END ....................lambda=0, updater=coord_descent; total time=   2.0s\n",
      "[CV] END ..........................lambda=2, updater=shotgun; total time=   1.4s\n",
      "[CV] END ..........................lambda=2, updater=shotgun; total time=   1.5s\n",
      "[CV] END ..........................lambda=2, updater=shotgun; total time=   1.8s\n",
      "[CV] END ....................lambda=2, updater=coord_descent; total time=   1.7s\n",
      "[CV] END ....................lambda=2, updater=coord_descent; total time=   1.7s\n",
      "[CV] END ....................lambda=2, updater=coord_descent; total time=   1.9s\n",
      "[CV] END ..........................lambda=4, updater=shotgun; total time=   1.7s\n",
      "[CV] END ..........................lambda=4, updater=shotgun; total time=   2.0s\n",
      "[CV] END ..........................lambda=4, updater=shotgun; total time=   2.6s\n",
      "[CV] END ....................lambda=4, updater=coord_descent; total time=   6.4s\n",
      "[CV] END ....................lambda=4, updater=coord_descent; total time=   2.8s\n",
      "[CV] END ....................lambda=4, updater=coord_descent; total time=   2.5s\n",
      "[CV] END ..........................lambda=6, updater=shotgun; total time=   1.7s\n",
      "[CV] END ..........................lambda=6, updater=shotgun; total time=   1.9s\n",
      "[CV] END ..........................lambda=6, updater=shotgun; total time=   1.7s\n",
      "[CV] END ....................lambda=6, updater=coord_descent; total time=   1.9s\n",
      "[CV] END ....................lambda=6, updater=coord_descent; total time=   2.0s\n",
      "[CV] END ....................lambda=6, updater=coord_descent; total time=   1.6s\n",
      "RMSE 32.40757181460568\n",
      "параметры данных: lag=3, rolling_mean_size=2\n",
      "Fitting 3 folds for each of 8 candidates, totalling 24 fits\n"
     ]
    },
    {
     "name": "stderr",
     "output_type": "stream",
     "text": [
      "/opt/conda/lib/python3.9/site-packages/sklearn/model_selection/_search.py:285: UserWarning: The total space of parameters 8 is smaller than n_iter=10. Running 8 iterations. For exhaustive searches, use GridSearchCV.\n",
      "  warnings.warn(\n"
     ]
    },
    {
     "name": "stdout",
     "output_type": "stream",
     "text": [
      "[CV] END ..........................lambda=0, updater=shotgun; total time=   1.6s\n",
      "[CV] END ..........................lambda=0, updater=shotgun; total time=   1.5s\n",
      "[CV] END ..........................lambda=0, updater=shotgun; total time=   1.7s\n",
      "[CV] END ....................lambda=0, updater=coord_descent; total time=   1.8s\n",
      "[CV] END ....................lambda=0, updater=coord_descent; total time=   1.7s\n",
      "[CV] END ....................lambda=0, updater=coord_descent; total time=   1.5s\n",
      "[CV] END ..........................lambda=2, updater=shotgun; total time=   1.8s\n",
      "[CV] END ..........................lambda=2, updater=shotgun; total time=   1.6s\n",
      "[CV] END ..........................lambda=2, updater=shotgun; total time=   2.0s\n",
      "[CV] END ....................lambda=2, updater=coord_descent; total time=   2.2s\n",
      "[CV] END ....................lambda=2, updater=coord_descent; total time=   2.0s\n",
      "[CV] END ....................lambda=2, updater=coord_descent; total time=   1.7s\n",
      "[CV] END ..........................lambda=4, updater=shotgun; total time=   1.5s\n",
      "[CV] END ..........................lambda=4, updater=shotgun; total time=   1.8s\n",
      "[CV] END ..........................lambda=4, updater=shotgun; total time=   1.5s\n",
      "[CV] END ....................lambda=4, updater=coord_descent; total time=   2.1s\n",
      "[CV] END ....................lambda=4, updater=coord_descent; total time=   1.8s\n",
      "[CV] END ....................lambda=4, updater=coord_descent; total time=   1.8s\n",
      "[CV] END ..........................lambda=6, updater=shotgun; total time=   1.8s\n",
      "[CV] END ..........................lambda=6, updater=shotgun; total time=   1.7s\n",
      "[CV] END ..........................lambda=6, updater=shotgun; total time=   1.7s\n",
      "[CV] END ....................lambda=6, updater=coord_descent; total time=   1.6s\n",
      "[CV] END ....................lambda=6, updater=coord_descent; total time=   1.6s\n",
      "[CV] END ....................lambda=6, updater=coord_descent; total time=   1.5s\n",
      "RMSE 32.405614893349025\n",
      "параметры данных: lag=3, rolling_mean_size=3\n",
      "Fitting 3 folds for each of 8 candidates, totalling 24 fits\n"
     ]
    },
    {
     "name": "stderr",
     "output_type": "stream",
     "text": [
      "/opt/conda/lib/python3.9/site-packages/sklearn/model_selection/_search.py:285: UserWarning: The total space of parameters 8 is smaller than n_iter=10. Running 8 iterations. For exhaustive searches, use GridSearchCV.\n",
      "  warnings.warn(\n"
     ]
    },
    {
     "name": "stdout",
     "output_type": "stream",
     "text": [
      "[CV] END ..........................lambda=0, updater=shotgun; total time=   1.8s\n",
      "[CV] END ..........................lambda=0, updater=shotgun; total time=   2.5s\n",
      "[CV] END ..........................lambda=0, updater=shotgun; total time=   1.7s\n",
      "[CV] END ....................lambda=0, updater=coord_descent; total time=   1.6s\n",
      "[CV] END ....................lambda=0, updater=coord_descent; total time=   1.8s\n",
      "[CV] END ....................lambda=0, updater=coord_descent; total time=   1.8s\n",
      "[CV] END ..........................lambda=2, updater=shotgun; total time=   1.5s\n",
      "[CV] END ..........................lambda=2, updater=shotgun; total time=   1.8s\n",
      "[CV] END ..........................lambda=2, updater=shotgun; total time=   1.8s\n",
      "[CV] END ....................lambda=2, updater=coord_descent; total time=   1.7s\n",
      "[CV] END ....................lambda=2, updater=coord_descent; total time=   1.7s\n",
      "[CV] END ....................lambda=2, updater=coord_descent; total time=   1.9s\n",
      "[CV] END ..........................lambda=4, updater=shotgun; total time=   2.3s\n",
      "[CV] END ..........................lambda=4, updater=shotgun; total time=   1.8s\n",
      "[CV] END ..........................lambda=4, updater=shotgun; total time=   1.6s\n",
      "[CV] END ....................lambda=4, updater=coord_descent; total time=   2.0s\n",
      "[CV] END ....................lambda=4, updater=coord_descent; total time=   2.0s\n",
      "[CV] END ....................lambda=4, updater=coord_descent; total time=   1.8s\n",
      "[CV] END ..........................lambda=6, updater=shotgun; total time=   2.1s\n",
      "[CV] END ..........................lambda=6, updater=shotgun; total time=   1.5s\n",
      "[CV] END ..........................lambda=6, updater=shotgun; total time=   1.7s\n",
      "[CV] END ....................lambda=6, updater=coord_descent; total time=   2.0s\n",
      "[CV] END ....................lambda=6, updater=coord_descent; total time=   1.7s\n",
      "[CV] END ....................lambda=6, updater=coord_descent; total time=   1.8s\n",
      "RMSE 32.367502533955395\n",
      "параметры данных: lag=3, rolling_mean_size=4\n",
      "Fitting 3 folds for each of 8 candidates, totalling 24 fits\n"
     ]
    },
    {
     "name": "stderr",
     "output_type": "stream",
     "text": [
      "/opt/conda/lib/python3.9/site-packages/sklearn/model_selection/_search.py:285: UserWarning: The total space of parameters 8 is smaller than n_iter=10. Running 8 iterations. For exhaustive searches, use GridSearchCV.\n",
      "  warnings.warn(\n"
     ]
    },
    {
     "name": "stdout",
     "output_type": "stream",
     "text": [
      "[CV] END ..........................lambda=0, updater=shotgun; total time=   1.6s\n",
      "[CV] END ..........................lambda=0, updater=shotgun; total time=   2.5s\n",
      "[CV] END ..........................lambda=0, updater=shotgun; total time=   1.8s\n",
      "[CV] END ....................lambda=0, updater=coord_descent; total time=   1.8s\n",
      "[CV] END ....................lambda=0, updater=coord_descent; total time=   2.0s\n",
      "[CV] END ....................lambda=0, updater=coord_descent; total time=   2.6s\n",
      "[CV] END ..........................lambda=2, updater=shotgun; total time=   1.8s\n",
      "[CV] END ..........................lambda=2, updater=shotgun; total time=   1.7s\n",
      "[CV] END ..........................lambda=2, updater=shotgun; total time=   1.9s\n",
      "[CV] END ....................lambda=2, updater=coord_descent; total time=   1.7s\n",
      "[CV] END ....................lambda=2, updater=coord_descent; total time=   1.5s\n",
      "[CV] END ....................lambda=2, updater=coord_descent; total time=   2.0s\n",
      "[CV] END ..........................lambda=4, updater=shotgun; total time=   1.6s\n",
      "[CV] END ..........................lambda=4, updater=shotgun; total time=   1.7s\n",
      "[CV] END ..........................lambda=4, updater=shotgun; total time=   1.8s\n",
      "[CV] END ....................lambda=4, updater=coord_descent; total time=   1.5s\n",
      "[CV] END ....................lambda=4, updater=coord_descent; total time=   2.1s\n",
      "[CV] END ....................lambda=4, updater=coord_descent; total time=   1.5s\n",
      "[CV] END ..........................lambda=6, updater=shotgun; total time=   1.8s\n",
      "[CV] END ..........................lambda=6, updater=shotgun; total time=   1.5s\n",
      "[CV] END ..........................lambda=6, updater=shotgun; total time=   1.7s\n",
      "[CV] END ....................lambda=6, updater=coord_descent; total time=   1.5s\n",
      "[CV] END ....................lambda=6, updater=coord_descent; total time=   1.8s\n",
      "[CV] END ....................lambda=6, updater=coord_descent; total time=   1.6s\n",
      "RMSE 32.43768599612388\n",
      "параметры данных: lag=3, rolling_mean_size=5\n",
      "Fitting 3 folds for each of 8 candidates, totalling 24 fits\n"
     ]
    },
    {
     "name": "stderr",
     "output_type": "stream",
     "text": [
      "/opt/conda/lib/python3.9/site-packages/sklearn/model_selection/_search.py:285: UserWarning: The total space of parameters 8 is smaller than n_iter=10. Running 8 iterations. For exhaustive searches, use GridSearchCV.\n",
      "  warnings.warn(\n"
     ]
    },
    {
     "name": "stdout",
     "output_type": "stream",
     "text": [
      "[CV] END ..........................lambda=0, updater=shotgun; total time=   1.7s\n",
      "[CV] END ..........................lambda=0, updater=shotgun; total time=   2.2s\n",
      "[CV] END ..........................lambda=0, updater=shotgun; total time=   1.7s\n",
      "[CV] END ....................lambda=0, updater=coord_descent; total time=   2.6s\n",
      "[CV] END ....................lambda=0, updater=coord_descent; total time=   2.4s\n",
      "[CV] END ....................lambda=0, updater=coord_descent; total time=   2.8s\n",
      "[CV] END ..........................lambda=2, updater=shotgun; total time=   1.7s\n",
      "[CV] END ..........................lambda=2, updater=shotgun; total time=   2.1s\n",
      "[CV] END ..........................lambda=2, updater=shotgun; total time=   2.2s\n",
      "[CV] END ....................lambda=2, updater=coord_descent; total time=   2.0s\n",
      "[CV] END ....................lambda=2, updater=coord_descent; total time=   1.8s\n",
      "[CV] END ....................lambda=2, updater=coord_descent; total time=   1.6s\n",
      "[CV] END ..........................lambda=4, updater=shotgun; total time=   1.7s\n",
      "[CV] END ..........................lambda=4, updater=shotgun; total time=   1.8s\n",
      "[CV] END ..........................lambda=4, updater=shotgun; total time=   2.4s\n",
      "[CV] END ....................lambda=4, updater=coord_descent; total time=   2.2s\n",
      "[CV] END ....................lambda=4, updater=coord_descent; total time=   2.0s\n",
      "[CV] END ....................lambda=4, updater=coord_descent; total time=   1.6s\n",
      "[CV] END ..........................lambda=6, updater=shotgun; total time=   1.8s\n",
      "[CV] END ..........................lambda=6, updater=shotgun; total time=   1.6s\n",
      "[CV] END ..........................lambda=6, updater=shotgun; total time=   1.5s\n",
      "[CV] END ....................lambda=6, updater=coord_descent; total time=   1.7s\n",
      "[CV] END ....................lambda=6, updater=coord_descent; total time=   1.6s\n",
      "[CV] END ....................lambda=6, updater=coord_descent; total time=   2.5s\n",
      "RMSE 32.50475255209732\n",
      "параметры данных: lag=3, rolling_mean_size=6\n",
      "Fitting 3 folds for each of 8 candidates, totalling 24 fits\n"
     ]
    },
    {
     "name": "stderr",
     "output_type": "stream",
     "text": [
      "/opt/conda/lib/python3.9/site-packages/sklearn/model_selection/_search.py:285: UserWarning: The total space of parameters 8 is smaller than n_iter=10. Running 8 iterations. For exhaustive searches, use GridSearchCV.\n",
      "  warnings.warn(\n"
     ]
    },
    {
     "name": "stdout",
     "output_type": "stream",
     "text": [
      "[CV] END ..........................lambda=0, updater=shotgun; total time=   2.1s\n",
      "[CV] END ..........................lambda=0, updater=shotgun; total time=   1.6s\n",
      "[CV] END ..........................lambda=0, updater=shotgun; total time=   1.6s\n",
      "[CV] END ....................lambda=0, updater=coord_descent; total time=   1.8s\n",
      "[CV] END ....................lambda=0, updater=coord_descent; total time=   1.9s\n",
      "[CV] END ....................lambda=0, updater=coord_descent; total time=   1.9s\n",
      "[CV] END ..........................lambda=2, updater=shotgun; total time=   1.8s\n",
      "[CV] END ..........................lambda=2, updater=shotgun; total time=   1.7s\n",
      "[CV] END ..........................lambda=2, updater=shotgun; total time=   1.6s\n",
      "[CV] END ....................lambda=2, updater=coord_descent; total time=   1.5s\n",
      "[CV] END ....................lambda=2, updater=coord_descent; total time=   2.1s\n",
      "[CV] END ....................lambda=2, updater=coord_descent; total time=   1.5s\n",
      "[CV] END ..........................lambda=4, updater=shotgun; total time=   1.6s\n",
      "[CV] END ..........................lambda=4, updater=shotgun; total time=   1.7s\n",
      "[CV] END ..........................lambda=4, updater=shotgun; total time=   1.9s\n",
      "[CV] END ....................lambda=4, updater=coord_descent; total time=   1.8s\n",
      "[CV] END ....................lambda=4, updater=coord_descent; total time=   1.9s\n",
      "[CV] END ....................lambda=4, updater=coord_descent; total time=   1.7s\n",
      "[CV] END ..........................lambda=6, updater=shotgun; total time=   1.5s\n",
      "[CV] END ..........................lambda=6, updater=shotgun; total time=   1.4s\n",
      "[CV] END ..........................lambda=6, updater=shotgun; total time=   1.7s\n",
      "[CV] END ....................lambda=6, updater=coord_descent; total time=   4.7s\n",
      "[CV] END ....................lambda=6, updater=coord_descent; total time=   2.3s\n",
      "[CV] END ....................lambda=6, updater=coord_descent; total time=   1.7s\n",
      "RMSE 32.54825365099871\n",
      "параметры данных: lag=3, rolling_mean_size=7\n",
      "Fitting 3 folds for each of 8 candidates, totalling 24 fits\n"
     ]
    },
    {
     "name": "stderr",
     "output_type": "stream",
     "text": [
      "/opt/conda/lib/python3.9/site-packages/sklearn/model_selection/_search.py:285: UserWarning: The total space of parameters 8 is smaller than n_iter=10. Running 8 iterations. For exhaustive searches, use GridSearchCV.\n",
      "  warnings.warn(\n"
     ]
    },
    {
     "name": "stdout",
     "output_type": "stream",
     "text": [
      "[CV] END ..........................lambda=0, updater=shotgun; total time=   1.8s\n",
      "[CV] END ..........................lambda=0, updater=shotgun; total time=   2.0s\n",
      "[CV] END ..........................lambda=0, updater=shotgun; total time=   1.7s\n",
      "[CV] END ....................lambda=0, updater=coord_descent; total time=   1.5s\n",
      "[CV] END ....................lambda=0, updater=coord_descent; total time=   1.7s\n",
      "[CV] END ....................lambda=0, updater=coord_descent; total time=   1.5s\n",
      "[CV] END ..........................lambda=2, updater=shotgun; total time=   1.4s\n",
      "[CV] END ..........................lambda=2, updater=shotgun; total time=   1.9s\n",
      "[CV] END ..........................lambda=2, updater=shotgun; total time=   1.5s\n",
      "[CV] END ....................lambda=2, updater=coord_descent; total time=   1.7s\n",
      "[CV] END ....................lambda=2, updater=coord_descent; total time=   1.7s\n",
      "[CV] END ....................lambda=2, updater=coord_descent; total time=   1.7s\n",
      "[CV] END ..........................lambda=4, updater=shotgun; total time=   1.6s\n",
      "[CV] END ..........................lambda=4, updater=shotgun; total time=   2.0s\n",
      "[CV] END ..........................lambda=4, updater=shotgun; total time=   2.4s\n",
      "[CV] END ....................lambda=4, updater=coord_descent; total time=   1.8s\n",
      "[CV] END ....................lambda=4, updater=coord_descent; total time=   1.7s\n",
      "[CV] END ....................lambda=4, updater=coord_descent; total time=   1.5s\n",
      "[CV] END ..........................lambda=6, updater=shotgun; total time=   2.0s\n",
      "[CV] END ..........................lambda=6, updater=shotgun; total time=   1.7s\n",
      "[CV] END ..........................lambda=6, updater=shotgun; total time=   1.7s\n",
      "[CV] END ....................lambda=6, updater=coord_descent; total time=   1.8s\n",
      "[CV] END ....................lambda=6, updater=coord_descent; total time=   1.8s\n",
      "[CV] END ....................lambda=6, updater=coord_descent; total time=   1.8s\n",
      "RMSE 32.5560947003758\n",
      "параметры данных: lag=3, rolling_mean_size=8\n",
      "Fitting 3 folds for each of 8 candidates, totalling 24 fits\n"
     ]
    },
    {
     "name": "stderr",
     "output_type": "stream",
     "text": [
      "/opt/conda/lib/python3.9/site-packages/sklearn/model_selection/_search.py:285: UserWarning: The total space of parameters 8 is smaller than n_iter=10. Running 8 iterations. For exhaustive searches, use GridSearchCV.\n",
      "  warnings.warn(\n"
     ]
    },
    {
     "name": "stdout",
     "output_type": "stream",
     "text": [
      "[CV] END ..........................lambda=0, updater=shotgun; total time=   1.9s\n",
      "[CV] END ..........................lambda=0, updater=shotgun; total time=   1.5s\n",
      "[CV] END ..........................lambda=0, updater=shotgun; total time=   1.5s\n",
      "[CV] END ....................lambda=0, updater=coord_descent; total time=   1.7s\n",
      "[CV] END ....................lambda=0, updater=coord_descent; total time=   1.5s\n",
      "[CV] END ....................lambda=0, updater=coord_descent; total time=   1.8s\n",
      "[CV] END ..........................lambda=2, updater=shotgun; total time=   1.9s\n",
      "[CV] END ..........................lambda=2, updater=shotgun; total time=   1.7s\n",
      "[CV] END ..........................lambda=2, updater=shotgun; total time=   1.6s\n",
      "[CV] END ....................lambda=2, updater=coord_descent; total time=   1.6s\n",
      "[CV] END ....................lambda=2, updater=coord_descent; total time=   1.7s\n",
      "[CV] END ....................lambda=2, updater=coord_descent; total time=   1.9s\n",
      "[CV] END ..........................lambda=4, updater=shotgun; total time=   1.8s\n",
      "[CV] END ..........................lambda=4, updater=shotgun; total time=   1.7s\n",
      "[CV] END ..........................lambda=4, updater=shotgun; total time=   1.5s\n",
      "[CV] END ....................lambda=4, updater=coord_descent; total time=   1.7s\n",
      "[CV] END ....................lambda=4, updater=coord_descent; total time=   1.9s\n",
      "[CV] END ....................lambda=4, updater=coord_descent; total time=   2.5s\n",
      "[CV] END ..........................lambda=6, updater=shotgun; total time=   1.6s\n",
      "[CV] END ..........................lambda=6, updater=shotgun; total time=   1.8s\n",
      "[CV] END ..........................lambda=6, updater=shotgun; total time=   1.5s\n",
      "[CV] END ....................lambda=6, updater=coord_descent; total time=   1.7s\n",
      "[CV] END ....................lambda=6, updater=coord_descent; total time=   1.8s\n",
      "[CV] END ....................lambda=6, updater=coord_descent; total time=   2.0s\n",
      "RMSE 32.548665292640095\n",
      "параметры данных: lag=3, rolling_mean_size=9\n",
      "Fitting 3 folds for each of 8 candidates, totalling 24 fits\n"
     ]
    },
    {
     "name": "stderr",
     "output_type": "stream",
     "text": [
      "/opt/conda/lib/python3.9/site-packages/sklearn/model_selection/_search.py:285: UserWarning: The total space of parameters 8 is smaller than n_iter=10. Running 8 iterations. For exhaustive searches, use GridSearchCV.\n",
      "  warnings.warn(\n"
     ]
    },
    {
     "name": "stdout",
     "output_type": "stream",
     "text": [
      "[CV] END ..........................lambda=0, updater=shotgun; total time=   1.6s\n",
      "[CV] END ..........................lambda=0, updater=shotgun; total time=   1.6s\n",
      "[CV] END ..........................lambda=0, updater=shotgun; total time=   1.5s\n",
      "[CV] END ....................lambda=0, updater=coord_descent; total time=   1.9s\n",
      "[CV] END ....................lambda=0, updater=coord_descent; total time=   1.9s\n",
      "[CV] END ....................lambda=0, updater=coord_descent; total time=   1.7s\n",
      "[CV] END ..........................lambda=2, updater=shotgun; total time=   1.7s\n",
      "[CV] END ..........................lambda=2, updater=shotgun; total time=   1.6s\n",
      "[CV] END ..........................lambda=2, updater=shotgun; total time=   1.9s\n",
      "[CV] END ....................lambda=2, updater=coord_descent; total time=   1.5s\n",
      "[CV] END ....................lambda=2, updater=coord_descent; total time=   3.3s\n",
      "[CV] END ....................lambda=2, updater=coord_descent; total time=   1.7s\n",
      "[CV] END ..........................lambda=4, updater=shotgun; total time=   1.6s\n",
      "[CV] END ..........................lambda=4, updater=shotgun; total time=   1.8s\n",
      "[CV] END ..........................lambda=4, updater=shotgun; total time=   2.3s\n",
      "[CV] END ....................lambda=4, updater=coord_descent; total time=   2.2s\n",
      "[CV] END ....................lambda=4, updater=coord_descent; total time=   1.6s\n",
      "[CV] END ....................lambda=4, updater=coord_descent; total time=   1.8s\n",
      "[CV] END ..........................lambda=6, updater=shotgun; total time=   1.5s\n",
      "[CV] END ..........................lambda=6, updater=shotgun; total time=   1.8s\n",
      "[CV] END ..........................lambda=6, updater=shotgun; total time=   1.7s\n",
      "[CV] END ....................lambda=6, updater=coord_descent; total time=   1.7s\n",
      "[CV] END ....................lambda=6, updater=coord_descent; total time=   1.6s\n",
      "[CV] END ....................lambda=6, updater=coord_descent; total time=   1.6s\n"
     ]
    },
    {
     "name": "stderr",
     "output_type": "stream",
     "text": [
      " 30%|███       | 3/10 [25:08<58:21, 500.27s/it]  "
     ]
    },
    {
     "name": "stdout",
     "output_type": "stream",
     "text": [
      "RMSE 32.558756558592705\n",
      "параметры данных: lag=3, rolling_mean_size=10\n",
      "Fitting 3 folds for each of 8 candidates, totalling 24 fits\n"
     ]
    },
    {
     "name": "stderr",
     "output_type": "stream",
     "text": [
      "/opt/conda/lib/python3.9/site-packages/sklearn/model_selection/_search.py:285: UserWarning: The total space of parameters 8 is smaller than n_iter=10. Running 8 iterations. For exhaustive searches, use GridSearchCV.\n",
      "  warnings.warn(\n"
     ]
    },
    {
     "name": "stdout",
     "output_type": "stream",
     "text": [
      "[CV] END ..........................lambda=0, updater=shotgun; total time=   1.6s\n",
      "[CV] END ..........................lambda=0, updater=shotgun; total time=   1.6s\n",
      "[CV] END ..........................lambda=0, updater=shotgun; total time=   1.8s\n",
      "[CV] END ....................lambda=0, updater=coord_descent; total time=   1.9s\n",
      "[CV] END ....................lambda=0, updater=coord_descent; total time=   1.7s\n",
      "[CV] END ....................lambda=0, updater=coord_descent; total time=   2.0s\n",
      "[CV] END ..........................lambda=2, updater=shotgun; total time=   1.6s\n",
      "[CV] END ..........................lambda=2, updater=shotgun; total time=   1.9s\n",
      "[CV] END ..........................lambda=2, updater=shotgun; total time=   1.5s\n",
      "[CV] END ....................lambda=2, updater=coord_descent; total time=   1.7s\n",
      "[CV] END ....................lambda=2, updater=coord_descent; total time=   1.6s\n",
      "[CV] END ....................lambda=2, updater=coord_descent; total time=   2.1s\n",
      "[CV] END ..........................lambda=4, updater=shotgun; total time=   1.6s\n",
      "[CV] END ..........................lambda=4, updater=shotgun; total time=   1.6s\n",
      "[CV] END ..........................lambda=4, updater=shotgun; total time=   1.8s\n",
      "[CV] END ....................lambda=4, updater=coord_descent; total time=   2.5s\n",
      "[CV] END ....................lambda=4, updater=coord_descent; total time=   2.0s\n",
      "[CV] END ....................lambda=4, updater=coord_descent; total time=   1.9s\n",
      "[CV] END ..........................lambda=6, updater=shotgun; total time=   1.8s\n",
      "[CV] END ..........................lambda=6, updater=shotgun; total time=   1.8s\n",
      "[CV] END ..........................lambda=6, updater=shotgun; total time=   1.6s\n",
      "[CV] END ....................lambda=6, updater=coord_descent; total time=   1.6s\n",
      "[CV] END ....................lambda=6, updater=coord_descent; total time=   1.8s\n",
      "[CV] END ....................lambda=6, updater=coord_descent; total time=   3.3s\n",
      "RMSE 32.49766782579523\n",
      "параметры данных: lag=4, rolling_mean_size=1\n",
      "Fitting 3 folds for each of 8 candidates, totalling 24 fits\n"
     ]
    },
    {
     "name": "stderr",
     "output_type": "stream",
     "text": [
      "/opt/conda/lib/python3.9/site-packages/sklearn/model_selection/_search.py:285: UserWarning: The total space of parameters 8 is smaller than n_iter=10. Running 8 iterations. For exhaustive searches, use GridSearchCV.\n",
      "  warnings.warn(\n"
     ]
    },
    {
     "name": "stdout",
     "output_type": "stream",
     "text": [
      "[CV] END ..........................lambda=0, updater=shotgun; total time=   1.6s\n",
      "[CV] END ..........................lambda=0, updater=shotgun; total time=   2.4s\n",
      "[CV] END ..........................lambda=0, updater=shotgun; total time=   2.0s\n",
      "[CV] END ....................lambda=0, updater=coord_descent; total time=   1.7s\n",
      "[CV] END ....................lambda=0, updater=coord_descent; total time=   4.5s\n",
      "[CV] END ....................lambda=0, updater=coord_descent; total time=   4.4s\n",
      "[CV] END ..........................lambda=2, updater=shotgun; total time=   2.5s\n",
      "[CV] END ..........................lambda=2, updater=shotgun; total time=   1.8s\n",
      "[CV] END ..........................lambda=2, updater=shotgun; total time=   1.8s\n",
      "[CV] END ....................lambda=2, updater=coord_descent; total time=   1.7s\n",
      "[CV] END ....................lambda=2, updater=coord_descent; total time=   1.7s\n",
      "[CV] END ....................lambda=2, updater=coord_descent; total time=   2.1s\n",
      "[CV] END ..........................lambda=4, updater=shotgun; total time=   1.5s\n",
      "[CV] END ..........................lambda=4, updater=shotgun; total time=   2.5s\n",
      "[CV] END ..........................lambda=4, updater=shotgun; total time=   3.4s\n",
      "[CV] END ....................lambda=4, updater=coord_descent; total time=   4.5s\n",
      "[CV] END ....................lambda=4, updater=coord_descent; total time=   2.1s\n",
      "[CV] END ....................lambda=4, updater=coord_descent; total time=   2.8s\n",
      "[CV] END ..........................lambda=6, updater=shotgun; total time=   2.1s\n",
      "[CV] END ..........................lambda=6, updater=shotgun; total time=   1.9s\n",
      "[CV] END ..........................lambda=6, updater=shotgun; total time=   1.6s\n",
      "[CV] END ....................lambda=6, updater=coord_descent; total time=   1.9s\n",
      "[CV] END ....................lambda=6, updater=coord_descent; total time=   1.9s\n",
      "[CV] END ....................lambda=6, updater=coord_descent; total time=   1.9s\n",
      "RMSE 32.49495376449671\n",
      "параметры данных: lag=4, rolling_mean_size=2\n",
      "Fitting 3 folds for each of 8 candidates, totalling 24 fits\n"
     ]
    },
    {
     "name": "stderr",
     "output_type": "stream",
     "text": [
      "/opt/conda/lib/python3.9/site-packages/sklearn/model_selection/_search.py:285: UserWarning: The total space of parameters 8 is smaller than n_iter=10. Running 8 iterations. For exhaustive searches, use GridSearchCV.\n",
      "  warnings.warn(\n"
     ]
    },
    {
     "name": "stdout",
     "output_type": "stream",
     "text": [
      "[CV] END ..........................lambda=0, updater=shotgun; total time=   6.1s\n",
      "[CV] END ..........................lambda=0, updater=shotgun; total time=   2.4s\n",
      "[CV] END ..........................lambda=0, updater=shotgun; total time=   2.6s\n",
      "[CV] END ....................lambda=0, updater=coord_descent; total time=   2.8s\n",
      "[CV] END ....................lambda=0, updater=coord_descent; total time=   1.9s\n",
      "[CV] END ....................lambda=0, updater=coord_descent; total time=   2.7s\n",
      "[CV] END ..........................lambda=2, updater=shotgun; total time=   2.0s\n",
      "[CV] END ..........................lambda=2, updater=shotgun; total time=   2.0s\n",
      "[CV] END ..........................lambda=2, updater=shotgun; total time=   2.2s\n",
      "[CV] END ....................lambda=2, updater=coord_descent; total time=   2.0s\n",
      "[CV] END ....................lambda=2, updater=coord_descent; total time=   2.3s\n",
      "[CV] END ....................lambda=2, updater=coord_descent; total time=   2.7s\n",
      "[CV] END ..........................lambda=4, updater=shotgun; total time=   1.5s\n",
      "[CV] END ..........................lambda=4, updater=shotgun; total time=   1.9s\n",
      "[CV] END ..........................lambda=4, updater=shotgun; total time=   1.8s\n",
      "[CV] END ....................lambda=4, updater=coord_descent; total time=   1.9s\n",
      "[CV] END ....................lambda=4, updater=coord_descent; total time=   1.7s\n",
      "[CV] END ....................lambda=4, updater=coord_descent; total time=   1.9s\n",
      "[CV] END ..........................lambda=6, updater=shotgun; total time=   1.6s\n",
      "[CV] END ..........................lambda=6, updater=shotgun; total time=   2.2s\n",
      "[CV] END ..........................lambda=6, updater=shotgun; total time=   1.6s\n",
      "[CV] END ....................lambda=6, updater=coord_descent; total time=   2.1s\n",
      "[CV] END ....................lambda=6, updater=coord_descent; total time=   1.8s\n",
      "[CV] END ....................lambda=6, updater=coord_descent; total time=   1.7s\n",
      "RMSE 32.49311204433823\n",
      "параметры данных: lag=4, rolling_mean_size=3\n",
      "Fitting 3 folds for each of 8 candidates, totalling 24 fits\n"
     ]
    },
    {
     "name": "stderr",
     "output_type": "stream",
     "text": [
      "/opt/conda/lib/python3.9/site-packages/sklearn/model_selection/_search.py:285: UserWarning: The total space of parameters 8 is smaller than n_iter=10. Running 8 iterations. For exhaustive searches, use GridSearchCV.\n",
      "  warnings.warn(\n"
     ]
    },
    {
     "name": "stdout",
     "output_type": "stream",
     "text": [
      "[CV] END ..........................lambda=0, updater=shotgun; total time=   1.8s\n",
      "[CV] END ..........................lambda=0, updater=shotgun; total time=   2.8s\n",
      "[CV] END ..........................lambda=0, updater=shotgun; total time=   1.5s\n",
      "[CV] END ....................lambda=0, updater=coord_descent; total time=   1.7s\n",
      "[CV] END ....................lambda=0, updater=coord_descent; total time=   2.3s\n",
      "[CV] END ....................lambda=0, updater=coord_descent; total time=   2.7s\n",
      "[CV] END ..........................lambda=2, updater=shotgun; total time=   1.6s\n",
      "[CV] END ..........................lambda=2, updater=shotgun; total time=   1.6s\n",
      "[CV] END ..........................lambda=2, updater=shotgun; total time=   1.6s\n",
      "[CV] END ....................lambda=2, updater=coord_descent; total time=   3.0s\n",
      "[CV] END ....................lambda=2, updater=coord_descent; total time=   2.7s\n",
      "[CV] END ....................lambda=2, updater=coord_descent; total time=   1.6s\n",
      "[CV] END ..........................lambda=4, updater=shotgun; total time=   2.5s\n",
      "[CV] END ..........................lambda=4, updater=shotgun; total time=   1.7s\n",
      "[CV] END ..........................lambda=4, updater=shotgun; total time=   2.8s\n",
      "[CV] END ....................lambda=4, updater=coord_descent; total time=   2.4s\n",
      "[CV] END ....................lambda=4, updater=coord_descent; total time=   2.2s\n",
      "[CV] END ....................lambda=4, updater=coord_descent; total time=   1.8s\n",
      "[CV] END ..........................lambda=6, updater=shotgun; total time=   1.6s\n",
      "[CV] END ..........................lambda=6, updater=shotgun; total time=   1.9s\n",
      "[CV] END ..........................lambda=6, updater=shotgun; total time=   1.7s\n",
      "[CV] END ....................lambda=6, updater=coord_descent; total time=   1.7s\n",
      "[CV] END ....................lambda=6, updater=coord_descent; total time=   1.7s\n",
      "[CV] END ....................lambda=6, updater=coord_descent; total time=   1.8s\n",
      "RMSE 32.49111616615496\n",
      "параметры данных: lag=4, rolling_mean_size=4\n",
      "Fitting 3 folds for each of 8 candidates, totalling 24 fits\n"
     ]
    },
    {
     "name": "stderr",
     "output_type": "stream",
     "text": [
      "/opt/conda/lib/python3.9/site-packages/sklearn/model_selection/_search.py:285: UserWarning: The total space of parameters 8 is smaller than n_iter=10. Running 8 iterations. For exhaustive searches, use GridSearchCV.\n",
      "  warnings.warn(\n"
     ]
    },
    {
     "name": "stdout",
     "output_type": "stream",
     "text": [
      "[CV] END ..........................lambda=0, updater=shotgun; total time=   1.7s\n",
      "[CV] END ..........................lambda=0, updater=shotgun; total time=   1.6s\n",
      "[CV] END ..........................lambda=0, updater=shotgun; total time=   1.6s\n",
      "[CV] END ....................lambda=0, updater=coord_descent; total time=   1.6s\n",
      "[CV] END ....................lambda=0, updater=coord_descent; total time=   1.7s\n",
      "[CV] END ....................lambda=0, updater=coord_descent; total time=   1.7s\n",
      "[CV] END ..........................lambda=2, updater=shotgun; total time=   1.9s\n",
      "[CV] END ..........................lambda=2, updater=shotgun; total time=   1.9s\n",
      "[CV] END ..........................lambda=2, updater=shotgun; total time=   1.6s\n",
      "[CV] END ....................lambda=2, updater=coord_descent; total time=   1.7s\n",
      "[CV] END ....................lambda=2, updater=coord_descent; total time=   1.8s\n",
      "[CV] END ....................lambda=2, updater=coord_descent; total time=   3.4s\n",
      "[CV] END ..........................lambda=4, updater=shotgun; total time=   1.8s\n",
      "[CV] END ..........................lambda=4, updater=shotgun; total time=   1.7s\n",
      "[CV] END ..........................lambda=4, updater=shotgun; total time=   1.7s\n",
      "[CV] END ....................lambda=4, updater=coord_descent; total time=   1.7s\n",
      "[CV] END ....................lambda=4, updater=coord_descent; total time=   1.9s\n",
      "[CV] END ....................lambda=4, updater=coord_descent; total time=   1.8s\n",
      "[CV] END ..........................lambda=6, updater=shotgun; total time=   1.6s\n",
      "[CV] END ..........................lambda=6, updater=shotgun; total time=   1.7s\n",
      "[CV] END ..........................lambda=6, updater=shotgun; total time=   1.8s\n",
      "[CV] END ....................lambda=6, updater=coord_descent; total time=   1.8s\n",
      "[CV] END ....................lambda=6, updater=coord_descent; total time=   1.9s\n",
      "[CV] END ....................lambda=6, updater=coord_descent; total time=   2.3s\n",
      "RMSE 32.500310685320166\n",
      "параметры данных: lag=4, rolling_mean_size=5\n",
      "Fitting 3 folds for each of 8 candidates, totalling 24 fits\n"
     ]
    },
    {
     "name": "stderr",
     "output_type": "stream",
     "text": [
      "/opt/conda/lib/python3.9/site-packages/sklearn/model_selection/_search.py:285: UserWarning: The total space of parameters 8 is smaller than n_iter=10. Running 8 iterations. For exhaustive searches, use GridSearchCV.\n",
      "  warnings.warn(\n"
     ]
    },
    {
     "name": "stdout",
     "output_type": "stream",
     "text": [
      "[CV] END ..........................lambda=0, updater=shotgun; total time=   1.5s\n",
      "[CV] END ..........................lambda=0, updater=shotgun; total time=   1.7s\n",
      "[CV] END ..........................lambda=0, updater=shotgun; total time=   1.8s\n",
      "[CV] END ....................lambda=0, updater=coord_descent; total time=   1.8s\n",
      "[CV] END ....................lambda=0, updater=coord_descent; total time=   1.8s\n",
      "[CV] END ....................lambda=0, updater=coord_descent; total time=   1.5s\n",
      "[CV] END ..........................lambda=2, updater=shotgun; total time=   1.6s\n",
      "[CV] END ..........................lambda=2, updater=shotgun; total time=   1.6s\n",
      "[CV] END ..........................lambda=2, updater=shotgun; total time=   1.9s\n",
      "[CV] END ....................lambda=2, updater=coord_descent; total time=   2.1s\n",
      "[CV] END ....................lambda=2, updater=coord_descent; total time=   1.8s\n",
      "[CV] END ....................lambda=2, updater=coord_descent; total time=   1.6s\n",
      "[CV] END ..........................lambda=4, updater=shotgun; total time=   1.5s\n",
      "[CV] END ..........................lambda=4, updater=shotgun; total time=   1.7s\n",
      "[CV] END ..........................lambda=4, updater=shotgun; total time=   1.6s\n",
      "[CV] END ....................lambda=4, updater=coord_descent; total time=   2.2s\n",
      "[CV] END ....................lambda=4, updater=coord_descent; total time=   1.9s\n",
      "[CV] END ....................lambda=4, updater=coord_descent; total time=   1.7s\n",
      "[CV] END ..........................lambda=6, updater=shotgun; total time=   1.7s\n",
      "[CV] END ..........................lambda=6, updater=shotgun; total time=   2.2s\n",
      "[CV] END ..........................lambda=6, updater=shotgun; total time=   1.6s\n",
      "[CV] END ....................lambda=6, updater=coord_descent; total time=   2.0s\n",
      "[CV] END ....................lambda=6, updater=coord_descent; total time=   1.6s\n",
      "[CV] END ....................lambda=6, updater=coord_descent; total time=   1.6s\n",
      "RMSE 32.47126271243233\n",
      "параметры данных: lag=4, rolling_mean_size=6\n",
      "Fitting 3 folds for each of 8 candidates, totalling 24 fits\n"
     ]
    },
    {
     "name": "stderr",
     "output_type": "stream",
     "text": [
      "/opt/conda/lib/python3.9/site-packages/sklearn/model_selection/_search.py:285: UserWarning: The total space of parameters 8 is smaller than n_iter=10. Running 8 iterations. For exhaustive searches, use GridSearchCV.\n",
      "  warnings.warn(\n"
     ]
    },
    {
     "name": "stdout",
     "output_type": "stream",
     "text": [
      "[CV] END ..........................lambda=0, updater=shotgun; total time=   2.5s\n",
      "[CV] END ..........................lambda=0, updater=shotgun; total time=   1.6s\n",
      "[CV] END ..........................lambda=0, updater=shotgun; total time=   1.7s\n",
      "[CV] END ....................lambda=0, updater=coord_descent; total time=   1.7s\n",
      "[CV] END ....................lambda=0, updater=coord_descent; total time=   1.7s\n",
      "[CV] END ....................lambda=0, updater=coord_descent; total time=  11.5s\n",
      "[CV] END ..........................lambda=2, updater=shotgun; total time=   3.1s\n",
      "[CV] END ..........................lambda=2, updater=shotgun; total time=   1.7s\n",
      "[CV] END ..........................lambda=2, updater=shotgun; total time=   1.7s\n",
      "[CV] END ....................lambda=2, updater=coord_descent; total time=   1.8s\n",
      "[CV] END ....................lambda=2, updater=coord_descent; total time=   2.0s\n",
      "[CV] END ....................lambda=2, updater=coord_descent; total time=   1.9s\n",
      "[CV] END ..........................lambda=4, updater=shotgun; total time=   1.8s\n",
      "[CV] END ..........................lambda=4, updater=shotgun; total time=   1.7s\n",
      "[CV] END ..........................lambda=4, updater=shotgun; total time=   1.6s\n",
      "[CV] END ....................lambda=4, updater=coord_descent; total time=   1.9s\n",
      "[CV] END ....................lambda=4, updater=coord_descent; total time=   1.6s\n",
      "[CV] END ....................lambda=4, updater=coord_descent; total time=   2.2s\n",
      "[CV] END ..........................lambda=6, updater=shotgun; total time=   2.2s\n",
      "[CV] END ..........................lambda=6, updater=shotgun; total time=   3.2s\n",
      "[CV] END ..........................lambda=6, updater=shotgun; total time=   2.0s\n",
      "[CV] END ....................lambda=6, updater=coord_descent; total time=   1.9s\n",
      "[CV] END ....................lambda=6, updater=coord_descent; total time=   2.3s\n",
      "[CV] END ....................lambda=6, updater=coord_descent; total time=   2.3s\n",
      "RMSE 32.54347193974463\n",
      "параметры данных: lag=4, rolling_mean_size=7\n",
      "Fitting 3 folds for each of 8 candidates, totalling 24 fits\n"
     ]
    },
    {
     "name": "stderr",
     "output_type": "stream",
     "text": [
      "/opt/conda/lib/python3.9/site-packages/sklearn/model_selection/_search.py:285: UserWarning: The total space of parameters 8 is smaller than n_iter=10. Running 8 iterations. For exhaustive searches, use GridSearchCV.\n",
      "  warnings.warn(\n"
     ]
    },
    {
     "name": "stdout",
     "output_type": "stream",
     "text": [
      "[CV] END ..........................lambda=0, updater=shotgun; total time=   1.9s\n",
      "[CV] END ..........................lambda=0, updater=shotgun; total time=   1.6s\n",
      "[CV] END ..........................lambda=0, updater=shotgun; total time=   1.6s\n",
      "[CV] END ....................lambda=0, updater=coord_descent; total time=   1.7s\n",
      "[CV] END ....................lambda=0, updater=coord_descent; total time=   2.1s\n",
      "[CV] END ....................lambda=0, updater=coord_descent; total time=   2.4s\n",
      "[CV] END ..........................lambda=2, updater=shotgun; total time=   1.7s\n",
      "[CV] END ..........................lambda=2, updater=shotgun; total time=   2.0s\n",
      "[CV] END ..........................lambda=2, updater=shotgun; total time=   1.5s\n",
      "[CV] END ....................lambda=2, updater=coord_descent; total time=   2.2s\n",
      "[CV] END ....................lambda=2, updater=coord_descent; total time=   1.6s\n",
      "[CV] END ....................lambda=2, updater=coord_descent; total time=   2.1s\n",
      "[CV] END ..........................lambda=4, updater=shotgun; total time=   1.6s\n",
      "[CV] END ..........................lambda=4, updater=shotgun; total time=   1.9s\n",
      "[CV] END ..........................lambda=4, updater=shotgun; total time=   3.1s\n",
      "[CV] END ....................lambda=4, updater=coord_descent; total time=   6.6s\n",
      "[CV] END ....................lambda=4, updater=coord_descent; total time=   1.9s\n",
      "[CV] END ....................lambda=4, updater=coord_descent; total time=   2.8s\n",
      "[CV] END ..........................lambda=6, updater=shotgun; total time=   1.8s\n",
      "[CV] END ..........................lambda=6, updater=shotgun; total time=   2.0s\n",
      "[CV] END ..........................lambda=6, updater=shotgun; total time=   1.7s\n",
      "[CV] END ....................lambda=6, updater=coord_descent; total time=   1.7s\n",
      "[CV] END ....................lambda=6, updater=coord_descent; total time=   1.8s\n",
      "[CV] END ....................lambda=6, updater=coord_descent; total time=   2.0s\n",
      "RMSE 32.42187451525362\n",
      "параметры данных: lag=4, rolling_mean_size=8\n",
      "Fitting 3 folds for each of 8 candidates, totalling 24 fits\n"
     ]
    },
    {
     "name": "stderr",
     "output_type": "stream",
     "text": [
      "/opt/conda/lib/python3.9/site-packages/sklearn/model_selection/_search.py:285: UserWarning: The total space of parameters 8 is smaller than n_iter=10. Running 8 iterations. For exhaustive searches, use GridSearchCV.\n",
      "  warnings.warn(\n"
     ]
    },
    {
     "name": "stdout",
     "output_type": "stream",
     "text": [
      "[CV] END ..........................lambda=0, updater=shotgun; total time=   1.6s\n",
      "[CV] END ..........................lambda=0, updater=shotgun; total time=   1.5s\n",
      "[CV] END ..........................lambda=0, updater=shotgun; total time=   1.6s\n",
      "[CV] END ....................lambda=0, updater=coord_descent; total time=   1.8s\n",
      "[CV] END ....................lambda=0, updater=coord_descent; total time=   1.9s\n",
      "[CV] END ....................lambda=0, updater=coord_descent; total time=   2.0s\n",
      "[CV] END ..........................lambda=2, updater=shotgun; total time=   1.5s\n",
      "[CV] END ..........................lambda=2, updater=shotgun; total time=   1.8s\n",
      "[CV] END ..........................lambda=2, updater=shotgun; total time=   1.9s\n",
      "[CV] END ....................lambda=2, updater=coord_descent; total time=   2.1s\n",
      "[CV] END ....................lambda=2, updater=coord_descent; total time=   2.1s\n",
      "[CV] END ....................lambda=2, updater=coord_descent; total time=   2.1s\n",
      "[CV] END ..........................lambda=4, updater=shotgun; total time=   1.6s\n",
      "[CV] END ..........................lambda=4, updater=shotgun; total time=   1.5s\n",
      "[CV] END ..........................lambda=4, updater=shotgun; total time=   1.7s\n",
      "[CV] END ....................lambda=4, updater=coord_descent; total time=   2.0s\n",
      "[CV] END ....................lambda=4, updater=coord_descent; total time=   1.9s\n",
      "[CV] END ....................lambda=4, updater=coord_descent; total time=   2.2s\n",
      "[CV] END ..........................lambda=6, updater=shotgun; total time=   1.6s\n",
      "[CV] END ..........................lambda=6, updater=shotgun; total time=   1.7s\n",
      "[CV] END ..........................lambda=6, updater=shotgun; total time=   2.4s\n",
      "[CV] END ....................lambda=6, updater=coord_descent; total time=   1.8s\n",
      "[CV] END ....................lambda=6, updater=coord_descent; total time=   1.8s\n",
      "[CV] END ....................lambda=6, updater=coord_descent; total time=   1.6s\n",
      "RMSE 32.558824894705545\n",
      "параметры данных: lag=4, rolling_mean_size=9\n",
      "Fitting 3 folds for each of 8 candidates, totalling 24 fits\n"
     ]
    },
    {
     "name": "stderr",
     "output_type": "stream",
     "text": [
      "/opt/conda/lib/python3.9/site-packages/sklearn/model_selection/_search.py:285: UserWarning: The total space of parameters 8 is smaller than n_iter=10. Running 8 iterations. For exhaustive searches, use GridSearchCV.\n",
      "  warnings.warn(\n"
     ]
    },
    {
     "name": "stdout",
     "output_type": "stream",
     "text": [
      "[CV] END ..........................lambda=0, updater=shotgun; total time=   1.7s\n",
      "[CV] END ..........................lambda=0, updater=shotgun; total time=   2.0s\n",
      "[CV] END ..........................lambda=0, updater=shotgun; total time=   2.0s\n",
      "[CV] END ....................lambda=0, updater=coord_descent; total time=   2.0s\n",
      "[CV] END ....................lambda=0, updater=coord_descent; total time=   1.6s\n",
      "[CV] END ....................lambda=0, updater=coord_descent; total time=   1.9s\n",
      "[CV] END ..........................lambda=2, updater=shotgun; total time=   1.8s\n",
      "[CV] END ..........................lambda=2, updater=shotgun; total time=   1.7s\n",
      "[CV] END ..........................lambda=2, updater=shotgun; total time=   1.5s\n",
      "[CV] END ....................lambda=2, updater=coord_descent; total time=   1.8s\n",
      "[CV] END ....................lambda=2, updater=coord_descent; total time=   1.7s\n",
      "[CV] END ....................lambda=2, updater=coord_descent; total time=   1.6s\n",
      "[CV] END ..........................lambda=4, updater=shotgun; total time=   2.4s\n",
      "[CV] END ..........................lambda=4, updater=shotgun; total time=   1.7s\n",
      "[CV] END ..........................lambda=4, updater=shotgun; total time=   1.7s\n",
      "[CV] END ....................lambda=4, updater=coord_descent; total time=   1.6s\n",
      "[CV] END ....................lambda=4, updater=coord_descent; total time=   1.9s\n",
      "[CV] END ....................lambda=4, updater=coord_descent; total time=   2.0s\n",
      "[CV] END ..........................lambda=6, updater=shotgun; total time=   2.9s\n",
      "[CV] END ..........................lambda=6, updater=shotgun; total time=   1.9s\n",
      "[CV] END ..........................lambda=6, updater=shotgun; total time=   1.6s\n",
      "[CV] END ....................lambda=6, updater=coord_descent; total time=   1.7s\n",
      "[CV] END ....................lambda=6, updater=coord_descent; total time=   1.9s\n",
      "[CV] END ....................lambda=6, updater=coord_descent; total time=   1.8s\n"
     ]
    },
    {
     "name": "stderr",
     "output_type": "stream",
     "text": [
      " 40%|████      | 4/10 [33:32<50:10, 501.70s/it]"
     ]
    },
    {
     "name": "stdout",
     "output_type": "stream",
     "text": [
      "RMSE 32.463164468479135\n",
      "параметры данных: lag=4, rolling_mean_size=10\n",
      "Fitting 3 folds for each of 8 candidates, totalling 24 fits\n"
     ]
    },
    {
     "name": "stderr",
     "output_type": "stream",
     "text": [
      "/opt/conda/lib/python3.9/site-packages/sklearn/model_selection/_search.py:285: UserWarning: The total space of parameters 8 is smaller than n_iter=10. Running 8 iterations. For exhaustive searches, use GridSearchCV.\n",
      "  warnings.warn(\n"
     ]
    },
    {
     "name": "stdout",
     "output_type": "stream",
     "text": [
      "[CV] END ..........................lambda=0, updater=shotgun; total time=   2.0s\n",
      "[CV] END ..........................lambda=0, updater=shotgun; total time=   1.6s\n",
      "[CV] END ..........................lambda=0, updater=shotgun; total time=   1.9s\n",
      "[CV] END ....................lambda=0, updater=coord_descent; total time=   1.9s\n",
      "[CV] END ....................lambda=0, updater=coord_descent; total time=   1.9s\n",
      "[CV] END ....................lambda=0, updater=coord_descent; total time=   1.7s\n",
      "[CV] END ..........................lambda=2, updater=shotgun; total time=   3.1s\n",
      "[CV] END ..........................lambda=2, updater=shotgun; total time=   1.6s\n",
      "[CV] END ..........................lambda=2, updater=shotgun; total time=   3.2s\n",
      "[CV] END ....................lambda=2, updater=coord_descent; total time=   1.9s\n",
      "[CV] END ....................lambda=2, updater=coord_descent; total time=   1.6s\n",
      "[CV] END ....................lambda=2, updater=coord_descent; total time=   1.8s\n",
      "[CV] END ..........................lambda=4, updater=shotgun; total time=   1.9s\n",
      "[CV] END ..........................lambda=4, updater=shotgun; total time=   1.8s\n",
      "[CV] END ..........................lambda=4, updater=shotgun; total time=   1.8s\n",
      "[CV] END ....................lambda=4, updater=coord_descent; total time=   1.7s\n",
      "[CV] END ....................lambda=4, updater=coord_descent; total time=   1.5s\n",
      "[CV] END ....................lambda=4, updater=coord_descent; total time=   1.8s\n",
      "[CV] END ..........................lambda=6, updater=shotgun; total time=   1.7s\n",
      "[CV] END ..........................lambda=6, updater=shotgun; total time=   1.9s\n",
      "[CV] END ..........................lambda=6, updater=shotgun; total time=   1.8s\n",
      "[CV] END ....................lambda=6, updater=coord_descent; total time=   2.2s\n",
      "[CV] END ....................lambda=6, updater=coord_descent; total time=   1.7s\n",
      "[CV] END ....................lambda=6, updater=coord_descent; total time=   2.0s\n",
      "RMSE 32.56326286416812\n",
      "параметры данных: lag=5, rolling_mean_size=1\n",
      "Fitting 3 folds for each of 8 candidates, totalling 24 fits\n"
     ]
    },
    {
     "name": "stderr",
     "output_type": "stream",
     "text": [
      "/opt/conda/lib/python3.9/site-packages/sklearn/model_selection/_search.py:285: UserWarning: The total space of parameters 8 is smaller than n_iter=10. Running 8 iterations. For exhaustive searches, use GridSearchCV.\n",
      "  warnings.warn(\n"
     ]
    },
    {
     "name": "stdout",
     "output_type": "stream",
     "text": [
      "[CV] END ..........................lambda=0, updater=shotgun; total time=   2.7s\n",
      "[CV] END ..........................lambda=0, updater=shotgun; total time=   1.7s\n",
      "[CV] END ..........................lambda=0, updater=shotgun; total time=   1.9s\n",
      "[CV] END ....................lambda=0, updater=coord_descent; total time=   1.7s\n",
      "[CV] END ....................lambda=0, updater=coord_descent; total time=   1.7s\n",
      "[CV] END ....................lambda=0, updater=coord_descent; total time=   1.8s\n",
      "[CV] END ..........................lambda=2, updater=shotgun; total time=   2.1s\n",
      "[CV] END ..........................lambda=2, updater=shotgun; total time=   5.7s\n",
      "[CV] END ..........................lambda=2, updater=shotgun; total time=   4.5s\n",
      "[CV] END ....................lambda=2, updater=coord_descent; total time=   2.5s\n",
      "[CV] END ....................lambda=2, updater=coord_descent; total time=   8.4s\n",
      "[CV] END ....................lambda=2, updater=coord_descent; total time=   1.9s\n",
      "[CV] END ..........................lambda=4, updater=shotgun; total time=   1.8s\n",
      "[CV] END ..........................lambda=4, updater=shotgun; total time=   1.7s\n",
      "[CV] END ..........................lambda=4, updater=shotgun; total time=   1.6s\n",
      "[CV] END ....................lambda=4, updater=coord_descent; total time=   1.7s\n",
      "[CV] END ....................lambda=4, updater=coord_descent; total time=   1.8s\n",
      "[CV] END ....................lambda=4, updater=coord_descent; total time=   1.7s\n",
      "[CV] END ..........................lambda=6, updater=shotgun; total time=   1.9s\n",
      "[CV] END ..........................lambda=6, updater=shotgun; total time=   1.7s\n",
      "[CV] END ..........................lambda=6, updater=shotgun; total time=   1.8s\n",
      "[CV] END ....................lambda=6, updater=coord_descent; total time=   1.8s\n",
      "[CV] END ....................lambda=6, updater=coord_descent; total time=   1.8s\n",
      "[CV] END ....................lambda=6, updater=coord_descent; total time=   1.8s\n",
      "RMSE 32.55983122751246\n",
      "параметры данных: lag=5, rolling_mean_size=2\n",
      "Fitting 3 folds for each of 8 candidates, totalling 24 fits\n"
     ]
    },
    {
     "name": "stderr",
     "output_type": "stream",
     "text": [
      "/opt/conda/lib/python3.9/site-packages/sklearn/model_selection/_search.py:285: UserWarning: The total space of parameters 8 is smaller than n_iter=10. Running 8 iterations. For exhaustive searches, use GridSearchCV.\n",
      "  warnings.warn(\n"
     ]
    },
    {
     "name": "stdout",
     "output_type": "stream",
     "text": [
      "[CV] END ..........................lambda=0, updater=shotgun; total time=   2.1s\n",
      "[CV] END ..........................lambda=0, updater=shotgun; total time=   6.7s\n",
      "[CV] END ..........................lambda=0, updater=shotgun; total time=   1.6s\n",
      "[CV] END ....................lambda=0, updater=coord_descent; total time=   1.7s\n",
      "[CV] END ....................lambda=0, updater=coord_descent; total time=   2.6s\n",
      "[CV] END ....................lambda=0, updater=coord_descent; total time=   1.9s\n",
      "[CV] END ..........................lambda=2, updater=shotgun; total time=   2.3s\n",
      "[CV] END ..........................lambda=2, updater=shotgun; total time=   1.7s\n",
      "[CV] END ..........................lambda=2, updater=shotgun; total time=   3.3s\n",
      "[CV] END ....................lambda=2, updater=coord_descent; total time=   3.1s\n",
      "[CV] END ....................lambda=2, updater=coord_descent; total time=   2.0s\n",
      "[CV] END ....................lambda=2, updater=coord_descent; total time=   2.9s\n",
      "[CV] END ..........................lambda=4, updater=shotgun; total time=   2.1s\n",
      "[CV] END ..........................lambda=4, updater=shotgun; total time=   1.6s\n",
      "[CV] END ..........................lambda=4, updater=shotgun; total time=   1.9s\n",
      "[CV] END ....................lambda=4, updater=coord_descent; total time=   1.6s\n",
      "[CV] END ....................lambda=4, updater=coord_descent; total time=   1.7s\n",
      "[CV] END ....................lambda=4, updater=coord_descent; total time=   2.8s\n",
      "[CV] END ..........................lambda=6, updater=shotgun; total time=   1.6s\n",
      "[CV] END ..........................lambda=6, updater=shotgun; total time=   1.8s\n",
      "[CV] END ..........................lambda=6, updater=shotgun; total time=   2.5s\n",
      "[CV] END ....................lambda=6, updater=coord_descent; total time=   1.9s\n",
      "[CV] END ....................lambda=6, updater=coord_descent; total time=   1.7s\n",
      "[CV] END ....................lambda=6, updater=coord_descent; total time=   1.8s\n",
      "RMSE 32.55707653282428\n",
      "параметры данных: lag=5, rolling_mean_size=3\n",
      "Fitting 3 folds for each of 8 candidates, totalling 24 fits\n"
     ]
    },
    {
     "name": "stderr",
     "output_type": "stream",
     "text": [
      "/opt/conda/lib/python3.9/site-packages/sklearn/model_selection/_search.py:285: UserWarning: The total space of parameters 8 is smaller than n_iter=10. Running 8 iterations. For exhaustive searches, use GridSearchCV.\n",
      "  warnings.warn(\n"
     ]
    },
    {
     "name": "stdout",
     "output_type": "stream",
     "text": [
      "[CV] END ..........................lambda=0, updater=shotgun; total time=   2.5s\n",
      "[CV] END ..........................lambda=0, updater=shotgun; total time=   2.0s\n",
      "[CV] END ..........................lambda=0, updater=shotgun; total time=   2.1s\n",
      "[CV] END ....................lambda=0, updater=coord_descent; total time=   1.5s\n",
      "[CV] END ....................lambda=0, updater=coord_descent; total time=   2.1s\n",
      "[CV] END ....................lambda=0, updater=coord_descent; total time=   1.8s\n",
      "[CV] END ..........................lambda=2, updater=shotgun; total time=   1.7s\n",
      "[CV] END ..........................lambda=2, updater=shotgun; total time=   1.5s\n",
      "[CV] END ..........................lambda=2, updater=shotgun; total time=   1.8s\n",
      "[CV] END ....................lambda=2, updater=coord_descent; total time=   1.9s\n",
      "[CV] END ....................lambda=2, updater=coord_descent; total time=   2.8s\n",
      "[CV] END ....................lambda=2, updater=coord_descent; total time=   1.8s\n",
      "[CV] END ..........................lambda=4, updater=shotgun; total time=   1.5s\n",
      "[CV] END ..........................lambda=4, updater=shotgun; total time=   2.2s\n",
      "[CV] END ..........................lambda=4, updater=shotgun; total time=   4.1s\n",
      "[CV] END ....................lambda=4, updater=coord_descent; total time=   1.8s\n",
      "[CV] END ....................lambda=4, updater=coord_descent; total time=   4.6s\n",
      "[CV] END ....................lambda=4, updater=coord_descent; total time=   2.6s\n",
      "[CV] END ..........................lambda=6, updater=shotgun; total time=   1.7s\n",
      "[CV] END ..........................lambda=6, updater=shotgun; total time=   1.6s\n",
      "[CV] END ..........................lambda=6, updater=shotgun; total time=   1.6s\n",
      "[CV] END ....................lambda=6, updater=coord_descent; total time=   1.9s\n",
      "[CV] END ....................lambda=6, updater=coord_descent; total time=   1.9s\n",
      "[CV] END ....................lambda=6, updater=coord_descent; total time=   2.1s\n",
      "RMSE 32.554280569112514\n",
      "параметры данных: lag=5, rolling_mean_size=4\n",
      "Fitting 3 folds for each of 8 candidates, totalling 24 fits\n"
     ]
    },
    {
     "name": "stderr",
     "output_type": "stream",
     "text": [
      "/opt/conda/lib/python3.9/site-packages/sklearn/model_selection/_search.py:285: UserWarning: The total space of parameters 8 is smaller than n_iter=10. Running 8 iterations. For exhaustive searches, use GridSearchCV.\n",
      "  warnings.warn(\n"
     ]
    },
    {
     "name": "stdout",
     "output_type": "stream",
     "text": [
      "[CV] END ..........................lambda=0, updater=shotgun; total time=   7.8s\n",
      "[CV] END ..........................lambda=0, updater=shotgun; total time=  11.8s\n",
      "[CV] END ..........................lambda=0, updater=shotgun; total time=  12.2s\n",
      "[CV] END ....................lambda=0, updater=coord_descent; total time=  13.3s\n",
      "[CV] END ....................lambda=0, updater=coord_descent; total time=   1.9s\n",
      "[CV] END ....................lambda=0, updater=coord_descent; total time=   2.1s\n",
      "[CV] END ..........................lambda=2, updater=shotgun; total time=   1.6s\n",
      "[CV] END ..........................lambda=2, updater=shotgun; total time=   1.6s\n",
      "[CV] END ..........................lambda=2, updater=shotgun; total time=   1.7s\n",
      "[CV] END ....................lambda=2, updater=coord_descent; total time=   1.5s\n",
      "[CV] END ....................lambda=2, updater=coord_descent; total time=   1.6s\n",
      "[CV] END ....................lambda=2, updater=coord_descent; total time=   2.1s\n",
      "[CV] END ..........................lambda=4, updater=shotgun; total time=   1.7s\n",
      "[CV] END ..........................lambda=4, updater=shotgun; total time=   1.6s\n",
      "[CV] END ..........................lambda=4, updater=shotgun; total time=   1.8s\n",
      "[CV] END ....................lambda=4, updater=coord_descent; total time=   1.8s\n",
      "[CV] END ....................lambda=4, updater=coord_descent; total time=   2.7s\n",
      "[CV] END ....................lambda=4, updater=coord_descent; total time=   2.1s\n",
      "[CV] END ..........................lambda=6, updater=shotgun; total time=   1.8s\n",
      "[CV] END ..........................lambda=6, updater=shotgun; total time=   1.7s\n",
      "[CV] END ..........................lambda=6, updater=shotgun; total time=   1.7s\n",
      "[CV] END ....................lambda=6, updater=coord_descent; total time=   1.8s\n",
      "[CV] END ....................lambda=6, updater=coord_descent; total time=   1.7s\n",
      "[CV] END ....................lambda=6, updater=coord_descent; total time=   1.8s\n",
      "RMSE 32.55366972303716\n",
      "параметры данных: lag=5, rolling_mean_size=5\n",
      "Fitting 3 folds for each of 8 candidates, totalling 24 fits\n"
     ]
    },
    {
     "name": "stderr",
     "output_type": "stream",
     "text": [
      "/opt/conda/lib/python3.9/site-packages/sklearn/model_selection/_search.py:285: UserWarning: The total space of parameters 8 is smaller than n_iter=10. Running 8 iterations. For exhaustive searches, use GridSearchCV.\n",
      "  warnings.warn(\n"
     ]
    },
    {
     "name": "stdout",
     "output_type": "stream",
     "text": [
      "[CV] END ..........................lambda=0, updater=shotgun; total time=   1.6s\n",
      "[CV] END ..........................lambda=0, updater=shotgun; total time=   1.7s\n",
      "[CV] END ..........................lambda=0, updater=shotgun; total time=   2.0s\n",
      "[CV] END ....................lambda=0, updater=coord_descent; total time=   1.8s\n",
      "[CV] END ....................lambda=0, updater=coord_descent; total time=   2.6s\n",
      "[CV] END ....................lambda=0, updater=coord_descent; total time=   1.8s\n",
      "[CV] END ..........................lambda=2, updater=shotgun; total time=   1.8s\n",
      "[CV] END ..........................lambda=2, updater=shotgun; total time=   1.8s\n",
      "[CV] END ..........................lambda=2, updater=shotgun; total time=   1.9s\n",
      "[CV] END ....................lambda=2, updater=coord_descent; total time=   2.0s\n",
      "[CV] END ....................lambda=2, updater=coord_descent; total time=   1.8s\n",
      "[CV] END ....................lambda=2, updater=coord_descent; total time=   1.7s\n",
      "[CV] END ..........................lambda=4, updater=shotgun; total time=   1.7s\n",
      "[CV] END ..........................lambda=4, updater=shotgun; total time=   1.5s\n",
      "[CV] END ..........................lambda=4, updater=shotgun; total time=   1.9s\n",
      "[CV] END ....................lambda=4, updater=coord_descent; total time=   1.5s\n",
      "[CV] END ....................lambda=4, updater=coord_descent; total time=   1.7s\n",
      "[CV] END ....................lambda=4, updater=coord_descent; total time=   1.5s\n",
      "[CV] END ..........................lambda=6, updater=shotgun; total time=   1.9s\n",
      "[CV] END ..........................lambda=6, updater=shotgun; total time=   1.5s\n",
      "[CV] END ..........................lambda=6, updater=shotgun; total time=   1.9s\n",
      "[CV] END ....................lambda=6, updater=coord_descent; total time=   1.7s\n",
      "[CV] END ....................lambda=6, updater=coord_descent; total time=   1.7s\n",
      "[CV] END ....................lambda=6, updater=coord_descent; total time=   1.7s\n",
      "RMSE 32.562181385644095\n",
      "параметры данных: lag=5, rolling_mean_size=6\n",
      "Fitting 3 folds for each of 8 candidates, totalling 24 fits\n"
     ]
    },
    {
     "name": "stderr",
     "output_type": "stream",
     "text": [
      "/opt/conda/lib/python3.9/site-packages/sklearn/model_selection/_search.py:285: UserWarning: The total space of parameters 8 is smaller than n_iter=10. Running 8 iterations. For exhaustive searches, use GridSearchCV.\n",
      "  warnings.warn(\n"
     ]
    },
    {
     "name": "stdout",
     "output_type": "stream",
     "text": [
      "[CV] END ..........................lambda=0, updater=shotgun; total time=   2.1s\n",
      "[CV] END ..........................lambda=0, updater=shotgun; total time=   1.8s\n",
      "[CV] END ..........................lambda=0, updater=shotgun; total time=   1.7s\n",
      "[CV] END ....................lambda=0, updater=coord_descent; total time=   1.6s\n",
      "[CV] END ....................lambda=0, updater=coord_descent; total time=  10.0s\n",
      "[CV] END ....................lambda=0, updater=coord_descent; total time=  16.7s\n",
      "[CV] END ..........................lambda=2, updater=shotgun; total time=   1.5s\n",
      "[CV] END ..........................lambda=2, updater=shotgun; total time=   2.1s\n",
      "[CV] END ..........................lambda=2, updater=shotgun; total time=   2.0s\n",
      "[CV] END ....................lambda=2, updater=coord_descent; total time=   7.8s\n",
      "[CV] END ....................lambda=2, updater=coord_descent; total time=   1.8s\n",
      "[CV] END ....................lambda=2, updater=coord_descent; total time=   2.1s\n",
      "[CV] END ..........................lambda=4, updater=shotgun; total time=   1.5s\n",
      "[CV] END ..........................lambda=4, updater=shotgun; total time=   1.7s\n",
      "[CV] END ..........................lambda=4, updater=shotgun; total time=   2.4s\n",
      "[CV] END ....................lambda=4, updater=coord_descent; total time=   2.8s\n",
      "[CV] END ....................lambda=4, updater=coord_descent; total time=   3.2s\n",
      "[CV] END ....................lambda=4, updater=coord_descent; total time=   2.6s\n",
      "[CV] END ..........................lambda=6, updater=shotgun; total time=   2.4s\n",
      "[CV] END ..........................lambda=6, updater=shotgun; total time=   1.5s\n",
      "[CV] END ..........................lambda=6, updater=shotgun; total time=   1.7s\n",
      "[CV] END ....................lambda=6, updater=coord_descent; total time=   1.8s\n",
      "[CV] END ....................lambda=6, updater=coord_descent; total time=   2.2s\n",
      "[CV] END ....................lambda=6, updater=coord_descent; total time=   2.0s\n",
      "RMSE 32.5659116621817\n",
      "параметры данных: lag=5, rolling_mean_size=7\n",
      "Fitting 3 folds for each of 8 candidates, totalling 24 fits\n"
     ]
    },
    {
     "name": "stderr",
     "output_type": "stream",
     "text": [
      "/opt/conda/lib/python3.9/site-packages/sklearn/model_selection/_search.py:285: UserWarning: The total space of parameters 8 is smaller than n_iter=10. Running 8 iterations. For exhaustive searches, use GridSearchCV.\n",
      "  warnings.warn(\n"
     ]
    },
    {
     "name": "stdout",
     "output_type": "stream",
     "text": [
      "[CV] END ..........................lambda=0, updater=shotgun; total time=   1.7s\n",
      "[CV] END ..........................lambda=0, updater=shotgun; total time=   1.5s\n",
      "[CV] END ..........................lambda=0, updater=shotgun; total time=   1.7s\n",
      "[CV] END ....................lambda=0, updater=coord_descent; total time=   1.9s\n",
      "[CV] END ....................lambda=0, updater=coord_descent; total time=   2.4s\n",
      "[CV] END ....................lambda=0, updater=coord_descent; total time=   1.7s\n",
      "[CV] END ..........................lambda=2, updater=shotgun; total time=   2.8s\n",
      "[CV] END ..........................lambda=2, updater=shotgun; total time=   1.9s\n",
      "[CV] END ..........................lambda=2, updater=shotgun; total time=   1.9s\n",
      "[CV] END ....................lambda=2, updater=coord_descent; total time=   2.0s\n",
      "[CV] END ....................lambda=2, updater=coord_descent; total time=   1.6s\n",
      "[CV] END ....................lambda=2, updater=coord_descent; total time=   1.7s\n",
      "[CV] END ..........................lambda=4, updater=shotgun; total time=   1.5s\n",
      "[CV] END ..........................lambda=4, updater=shotgun; total time=   1.7s\n",
      "[CV] END ..........................lambda=4, updater=shotgun; total time=   1.7s\n",
      "[CV] END ....................lambda=4, updater=coord_descent; total time=   1.8s\n",
      "[CV] END ....................lambda=4, updater=coord_descent; total time=   2.5s\n",
      "[CV] END ....................lambda=4, updater=coord_descent; total time=   1.6s\n",
      "[CV] END ..........................lambda=6, updater=shotgun; total time=   1.6s\n",
      "[CV] END ..........................lambda=6, updater=shotgun; total time=   1.9s\n",
      "[CV] END ..........................lambda=6, updater=shotgun; total time=   1.7s\n",
      "[CV] END ....................lambda=6, updater=coord_descent; total time=   1.8s\n",
      "[CV] END ....................lambda=6, updater=coord_descent; total time=   3.0s\n",
      "[CV] END ....................lambda=6, updater=coord_descent; total time=   1.6s\n",
      "RMSE 32.565740697952855\n",
      "параметры данных: lag=5, rolling_mean_size=8\n",
      "Fitting 3 folds for each of 8 candidates, totalling 24 fits\n"
     ]
    },
    {
     "name": "stderr",
     "output_type": "stream",
     "text": [
      "/opt/conda/lib/python3.9/site-packages/sklearn/model_selection/_search.py:285: UserWarning: The total space of parameters 8 is smaller than n_iter=10. Running 8 iterations. For exhaustive searches, use GridSearchCV.\n",
      "  warnings.warn(\n"
     ]
    },
    {
     "name": "stdout",
     "output_type": "stream",
     "text": [
      "[CV] END ..........................lambda=0, updater=shotgun; total time=   2.0s\n",
      "[CV] END ..........................lambda=0, updater=shotgun; total time=   2.0s\n",
      "[CV] END ..........................lambda=0, updater=shotgun; total time=   1.5s\n",
      "[CV] END ....................lambda=0, updater=coord_descent; total time=   1.9s\n",
      "[CV] END ....................lambda=0, updater=coord_descent; total time=   1.8s\n",
      "[CV] END ....................lambda=0, updater=coord_descent; total time=   2.1s\n",
      "[CV] END ..........................lambda=2, updater=shotgun; total time=   1.9s\n",
      "[CV] END ..........................lambda=2, updater=shotgun; total time=   1.9s\n",
      "[CV] END ..........................lambda=2, updater=shotgun; total time=   1.8s\n",
      "[CV] END ....................lambda=2, updater=coord_descent; total time=   1.7s\n",
      "[CV] END ....................lambda=2, updater=coord_descent; total time=   2.7s\n",
      "[CV] END ....................lambda=2, updater=coord_descent; total time=   1.8s\n",
      "[CV] END ..........................lambda=4, updater=shotgun; total time=   2.0s\n",
      "[CV] END ..........................lambda=4, updater=shotgun; total time=   2.0s\n",
      "[CV] END ..........................lambda=4, updater=shotgun; total time=   1.6s\n",
      "[CV] END ....................lambda=4, updater=coord_descent; total time=   1.8s\n",
      "[CV] END ....................lambda=4, updater=coord_descent; total time=   2.0s\n",
      "[CV] END ....................lambda=4, updater=coord_descent; total time=   1.6s\n",
      "[CV] END ..........................lambda=6, updater=shotgun; total time=   1.6s\n",
      "[CV] END ..........................lambda=6, updater=shotgun; total time=   1.6s\n",
      "[CV] END ..........................lambda=6, updater=shotgun; total time=   1.6s\n",
      "[CV] END ....................lambda=6, updater=coord_descent; total time=   1.8s\n",
      "[CV] END ....................lambda=6, updater=coord_descent; total time=   2.2s\n",
      "[CV] END ....................lambda=6, updater=coord_descent; total time=   2.0s\n",
      "RMSE 32.556762775668055\n",
      "параметры данных: lag=5, rolling_mean_size=9\n",
      "Fitting 3 folds for each of 8 candidates, totalling 24 fits\n"
     ]
    },
    {
     "name": "stderr",
     "output_type": "stream",
     "text": [
      "/opt/conda/lib/python3.9/site-packages/sklearn/model_selection/_search.py:285: UserWarning: The total space of parameters 8 is smaller than n_iter=10. Running 8 iterations. For exhaustive searches, use GridSearchCV.\n",
      "  warnings.warn(\n"
     ]
    },
    {
     "name": "stdout",
     "output_type": "stream",
     "text": [
      "[CV] END ..........................lambda=0, updater=shotgun; total time=   1.6s\n",
      "[CV] END ..........................lambda=0, updater=shotgun; total time=   1.9s\n",
      "[CV] END ..........................lambda=0, updater=shotgun; total time=   2.1s\n",
      "[CV] END ....................lambda=0, updater=coord_descent; total time=   1.8s\n",
      "[CV] END ....................lambda=0, updater=coord_descent; total time=   2.1s\n",
      "[CV] END ....................lambda=0, updater=coord_descent; total time=   2.4s\n",
      "[CV] END ..........................lambda=2, updater=shotgun; total time=   1.6s\n",
      "[CV] END ..........................lambda=2, updater=shotgun; total time=   1.6s\n",
      "[CV] END ..........................lambda=2, updater=shotgun; total time=   1.9s\n",
      "[CV] END ....................lambda=2, updater=coord_descent; total time=   1.6s\n",
      "[CV] END ....................lambda=2, updater=coord_descent; total time=   1.7s\n",
      "[CV] END ....................lambda=2, updater=coord_descent; total time=   1.9s\n",
      "[CV] END ..........................lambda=4, updater=shotgun; total time=   1.7s\n",
      "[CV] END ..........................lambda=4, updater=shotgun; total time=   2.2s\n",
      "[CV] END ..........................lambda=4, updater=shotgun; total time=   2.0s\n",
      "[CV] END ....................lambda=4, updater=coord_descent; total time=   1.5s\n",
      "[CV] END ....................lambda=4, updater=coord_descent; total time=   1.8s\n",
      "[CV] END ....................lambda=4, updater=coord_descent; total time=   1.7s\n",
      "[CV] END ..........................lambda=6, updater=shotgun; total time=   2.2s\n",
      "[CV] END ..........................lambda=6, updater=shotgun; total time=   1.7s\n",
      "[CV] END ..........................lambda=6, updater=shotgun; total time=   2.0s\n",
      "[CV] END ....................lambda=6, updater=coord_descent; total time=   1.8s\n",
      "[CV] END ....................lambda=6, updater=coord_descent; total time=  17.5s\n",
      "[CV] END ....................lambda=6, updater=coord_descent; total time=  28.8s\n"
     ]
    },
    {
     "name": "stderr",
     "output_type": "stream",
     "text": [
      " 50%|█████     | 5/10 [43:43<45:04, 540.94s/it]"
     ]
    },
    {
     "name": "stdout",
     "output_type": "stream",
     "text": [
      "RMSE 32.60444138509026\n",
      "параметры данных: lag=5, rolling_mean_size=10\n",
      "Fitting 3 folds for each of 8 candidates, totalling 24 fits\n"
     ]
    },
    {
     "name": "stderr",
     "output_type": "stream",
     "text": [
      "/opt/conda/lib/python3.9/site-packages/sklearn/model_selection/_search.py:285: UserWarning: The total space of parameters 8 is smaller than n_iter=10. Running 8 iterations. For exhaustive searches, use GridSearchCV.\n",
      "  warnings.warn(\n"
     ]
    },
    {
     "name": "stdout",
     "output_type": "stream",
     "text": [
      "[CV] END ..........................lambda=0, updater=shotgun; total time=   1.9s\n",
      "[CV] END ..........................lambda=0, updater=shotgun; total time=   2.9s\n",
      "[CV] END ..........................lambda=0, updater=shotgun; total time=   4.5s\n",
      "[CV] END ....................lambda=0, updater=coord_descent; total time=  10.8s\n",
      "[CV] END ....................lambda=0, updater=coord_descent; total time=  20.0s\n",
      "[CV] END ....................lambda=0, updater=coord_descent; total time=   6.7s\n",
      "[CV] END ..........................lambda=2, updater=shotgun; total time=   1.9s\n",
      "[CV] END ..........................lambda=2, updater=shotgun; total time=   1.8s\n",
      "[CV] END ..........................lambda=2, updater=shotgun; total time=   1.9s\n",
      "[CV] END ....................lambda=2, updater=coord_descent; total time=   1.9s\n",
      "[CV] END ....................lambda=2, updater=coord_descent; total time=   2.0s\n",
      "[CV] END ....................lambda=2, updater=coord_descent; total time=   1.9s\n",
      "[CV] END ..........................lambda=4, updater=shotgun; total time=   1.4s\n",
      "[CV] END ..........................lambda=4, updater=shotgun; total time=   1.9s\n",
      "[CV] END ..........................lambda=4, updater=shotgun; total time=   1.7s\n",
      "[CV] END ....................lambda=4, updater=coord_descent; total time=   1.7s\n",
      "[CV] END ....................lambda=4, updater=coord_descent; total time=   1.8s\n",
      "[CV] END ....................lambda=4, updater=coord_descent; total time=   2.2s\n",
      "[CV] END ..........................lambda=6, updater=shotgun; total time=   1.9s\n",
      "[CV] END ..........................lambda=6, updater=shotgun; total time=   1.6s\n",
      "[CV] END ..........................lambda=6, updater=shotgun; total time=   2.0s\n",
      "[CV] END ....................lambda=6, updater=coord_descent; total time=   1.8s\n",
      "[CV] END ....................lambda=6, updater=coord_descent; total time=   1.8s\n",
      "[CV] END ....................lambda=6, updater=coord_descent; total time=   1.6s\n",
      "RMSE 32.599781072810835\n",
      "параметры данных: lag=6, rolling_mean_size=1\n",
      "Fitting 3 folds for each of 8 candidates, totalling 24 fits\n"
     ]
    },
    {
     "name": "stderr",
     "output_type": "stream",
     "text": [
      "/opt/conda/lib/python3.9/site-packages/sklearn/model_selection/_search.py:285: UserWarning: The total space of parameters 8 is smaller than n_iter=10. Running 8 iterations. For exhaustive searches, use GridSearchCV.\n",
      "  warnings.warn(\n"
     ]
    },
    {
     "name": "stdout",
     "output_type": "stream",
     "text": [
      "[CV] END ..........................lambda=0, updater=shotgun; total time=   1.7s\n",
      "[CV] END ..........................lambda=0, updater=shotgun; total time=   1.6s\n",
      "[CV] END ..........................lambda=0, updater=shotgun; total time=   1.8s\n",
      "[CV] END ....................lambda=0, updater=coord_descent; total time=   1.7s\n",
      "[CV] END ....................lambda=0, updater=coord_descent; total time=   1.9s\n",
      "[CV] END ....................lambda=0, updater=coord_descent; total time=   2.2s\n",
      "[CV] END ..........................lambda=2, updater=shotgun; total time=   1.6s\n",
      "[CV] END ..........................lambda=2, updater=shotgun; total time=   2.0s\n",
      "[CV] END ..........................lambda=2, updater=shotgun; total time=   1.8s\n",
      "[CV] END ....................lambda=2, updater=coord_descent; total time=   2.4s\n",
      "[CV] END ....................lambda=2, updater=coord_descent; total time=   2.3s\n",
      "[CV] END ....................lambda=2, updater=coord_descent; total time=   3.0s\n",
      "[CV] END ..........................lambda=4, updater=shotgun; total time=   1.6s\n",
      "[CV] END ..........................lambda=4, updater=shotgun; total time=   1.7s\n",
      "[CV] END ..........................lambda=4, updater=shotgun; total time=   1.7s\n",
      "[CV] END ....................lambda=4, updater=coord_descent; total time=   1.9s\n",
      "[CV] END ....................lambda=4, updater=coord_descent; total time=   1.6s\n",
      "[CV] END ....................lambda=4, updater=coord_descent; total time=   2.0s\n",
      "[CV] END ..........................lambda=6, updater=shotgun; total time=   1.7s\n",
      "[CV] END ..........................lambda=6, updater=shotgun; total time=   1.8s\n",
      "[CV] END ..........................lambda=6, updater=shotgun; total time=   1.6s\n",
      "[CV] END ....................lambda=6, updater=coord_descent; total time=   2.8s\n",
      "[CV] END ....................lambda=6, updater=coord_descent; total time=   1.8s\n",
      "[CV] END ....................lambda=6, updater=coord_descent; total time=   1.8s\n",
      "RMSE 32.59619738733133\n",
      "параметры данных: lag=6, rolling_mean_size=2\n",
      "Fitting 3 folds for each of 8 candidates, totalling 24 fits\n"
     ]
    },
    {
     "name": "stderr",
     "output_type": "stream",
     "text": [
      "/opt/conda/lib/python3.9/site-packages/sklearn/model_selection/_search.py:285: UserWarning: The total space of parameters 8 is smaller than n_iter=10. Running 8 iterations. For exhaustive searches, use GridSearchCV.\n",
      "  warnings.warn(\n"
     ]
    },
    {
     "name": "stdout",
     "output_type": "stream",
     "text": [
      "[CV] END ..........................lambda=0, updater=shotgun; total time=   1.5s\n",
      "[CV] END ..........................lambda=0, updater=shotgun; total time=   1.8s\n",
      "[CV] END ..........................lambda=0, updater=shotgun; total time=   1.9s\n",
      "[CV] END ....................lambda=0, updater=coord_descent; total time=   1.7s\n",
      "[CV] END ....................lambda=0, updater=coord_descent; total time=   1.9s\n",
      "[CV] END ....................lambda=0, updater=coord_descent; total time=   1.9s\n",
      "[CV] END ..........................lambda=2, updater=shotgun; total time=   1.9s\n",
      "[CV] END ..........................lambda=2, updater=shotgun; total time=   1.7s\n",
      "[CV] END ..........................lambda=2, updater=shotgun; total time=   2.0s\n",
      "[CV] END ....................lambda=2, updater=coord_descent; total time=   2.0s\n",
      "[CV] END ....................lambda=2, updater=coord_descent; total time=   1.7s\n",
      "[CV] END ....................lambda=2, updater=coord_descent; total time=   1.7s\n",
      "[CV] END ..........................lambda=4, updater=shotgun; total time=   1.8s\n",
      "[CV] END ..........................lambda=4, updater=shotgun; total time=   1.8s\n",
      "[CV] END ..........................lambda=4, updater=shotgun; total time=   1.9s\n",
      "[CV] END ....................lambda=4, updater=coord_descent; total time=   2.1s\n",
      "[CV] END ....................lambda=4, updater=coord_descent; total time=   1.9s\n",
      "[CV] END ....................lambda=4, updater=coord_descent; total time=   1.8s\n",
      "[CV] END ..........................lambda=6, updater=shotgun; total time=   1.7s\n",
      "[CV] END ..........................lambda=6, updater=shotgun; total time=   1.9s\n",
      "[CV] END ..........................lambda=6, updater=shotgun; total time=   1.8s\n",
      "[CV] END ....................lambda=6, updater=coord_descent; total time=   1.6s\n",
      "[CV] END ....................lambda=6, updater=coord_descent; total time=   1.8s\n",
      "[CV] END ....................lambda=6, updater=coord_descent; total time=   1.7s\n",
      "RMSE 32.59272760325535\n",
      "параметры данных: lag=6, rolling_mean_size=3\n",
      "Fitting 3 folds for each of 8 candidates, totalling 24 fits\n"
     ]
    },
    {
     "name": "stderr",
     "output_type": "stream",
     "text": [
      "/opt/conda/lib/python3.9/site-packages/sklearn/model_selection/_search.py:285: UserWarning: The total space of parameters 8 is smaller than n_iter=10. Running 8 iterations. For exhaustive searches, use GridSearchCV.\n",
      "  warnings.warn(\n"
     ]
    },
    {
     "name": "stdout",
     "output_type": "stream",
     "text": [
      "[CV] END ..........................lambda=0, updater=shotgun; total time=   1.5s\n",
      "[CV] END ..........................lambda=0, updater=shotgun; total time=   1.8s\n",
      "[CV] END ..........................lambda=0, updater=shotgun; total time=   1.5s\n",
      "[CV] END ....................lambda=0, updater=coord_descent; total time=   1.6s\n",
      "[CV] END ....................lambda=0, updater=coord_descent; total time=   1.7s\n",
      "[CV] END ....................lambda=0, updater=coord_descent; total time=   2.0s\n",
      "[CV] END ..........................lambda=2, updater=shotgun; total time=   1.7s\n",
      "[CV] END ..........................lambda=2, updater=shotgun; total time=   2.7s\n",
      "[CV] END ..........................lambda=2, updater=shotgun; total time=   1.8s\n",
      "[CV] END ....................lambda=2, updater=coord_descent; total time=   2.5s\n",
      "[CV] END ....................lambda=2, updater=coord_descent; total time=   3.2s\n",
      "[CV] END ....................lambda=2, updater=coord_descent; total time=   1.8s\n",
      "[CV] END ..........................lambda=4, updater=shotgun; total time=   1.9s\n",
      "[CV] END ..........................lambda=4, updater=shotgun; total time=   8.6s\n",
      "[CV] END ..........................lambda=4, updater=shotgun; total time=   1.8s\n",
      "[CV] END ....................lambda=4, updater=coord_descent; total time=   1.8s\n",
      "[CV] END ....................lambda=4, updater=coord_descent; total time=   2.0s\n",
      "[CV] END ....................lambda=4, updater=coord_descent; total time=   1.7s\n",
      "[CV] END ..........................lambda=6, updater=shotgun; total time=   2.1s\n",
      "[CV] END ..........................lambda=6, updater=shotgun; total time=   1.6s\n",
      "[CV] END ..........................lambda=6, updater=shotgun; total time=   1.9s\n",
      "[CV] END ....................lambda=6, updater=coord_descent; total time=   1.6s\n",
      "[CV] END ....................lambda=6, updater=coord_descent; total time=   1.9s\n",
      "[CV] END ....................lambda=6, updater=coord_descent; total time=   2.4s\n",
      "RMSE 32.58928150270762\n",
      "параметры данных: lag=6, rolling_mean_size=4\n",
      "Fitting 3 folds for each of 8 candidates, totalling 24 fits\n"
     ]
    },
    {
     "name": "stderr",
     "output_type": "stream",
     "text": [
      "/opt/conda/lib/python3.9/site-packages/sklearn/model_selection/_search.py:285: UserWarning: The total space of parameters 8 is smaller than n_iter=10. Running 8 iterations. For exhaustive searches, use GridSearchCV.\n",
      "  warnings.warn(\n"
     ]
    },
    {
     "name": "stdout",
     "output_type": "stream",
     "text": [
      "[CV] END ..........................lambda=0, updater=shotgun; total time=   1.6s\n",
      "[CV] END ..........................lambda=0, updater=shotgun; total time=   1.8s\n",
      "[CV] END ..........................lambda=0, updater=shotgun; total time=   3.0s\n",
      "[CV] END ....................lambda=0, updater=coord_descent; total time=   2.0s\n",
      "[CV] END ....................lambda=0, updater=coord_descent; total time=   2.2s\n",
      "[CV] END ....................lambda=0, updater=coord_descent; total time=   4.6s\n",
      "[CV] END ..........................lambda=2, updater=shotgun; total time=   1.7s\n",
      "[CV] END ..........................lambda=2, updater=shotgun; total time=   2.8s\n",
      "[CV] END ..........................lambda=2, updater=shotgun; total time=   1.7s\n",
      "[CV] END ....................lambda=2, updater=coord_descent; total time=   1.6s\n",
      "[CV] END ....................lambda=2, updater=coord_descent; total time=   1.6s\n",
      "[CV] END ....................lambda=2, updater=coord_descent; total time=   2.1s\n",
      "[CV] END ..........................lambda=4, updater=shotgun; total time=   2.3s\n",
      "[CV] END ..........................lambda=4, updater=shotgun; total time=   1.6s\n",
      "[CV] END ..........................lambda=4, updater=shotgun; total time=   1.7s\n",
      "[CV] END ....................lambda=4, updater=coord_descent; total time=   1.7s\n",
      "[CV] END ....................lambda=4, updater=coord_descent; total time=   3.4s\n",
      "[CV] END ....................lambda=4, updater=coord_descent; total time=   1.9s\n",
      "[CV] END ..........................lambda=6, updater=shotgun; total time=   2.7s\n",
      "[CV] END ..........................lambda=6, updater=shotgun; total time=   2.0s\n",
      "[CV] END ..........................lambda=6, updater=shotgun; total time=   1.6s\n",
      "[CV] END ....................lambda=6, updater=coord_descent; total time=   2.0s\n",
      "[CV] END ....................lambda=6, updater=coord_descent; total time=   1.7s\n",
      "[CV] END ....................lambda=6, updater=coord_descent; total time=   2.5s\n",
      "RMSE 32.588714104382355\n",
      "параметры данных: lag=6, rolling_mean_size=5\n",
      "Fitting 3 folds for each of 8 candidates, totalling 24 fits\n"
     ]
    },
    {
     "name": "stderr",
     "output_type": "stream",
     "text": [
      "/opt/conda/lib/python3.9/site-packages/sklearn/model_selection/_search.py:285: UserWarning: The total space of parameters 8 is smaller than n_iter=10. Running 8 iterations. For exhaustive searches, use GridSearchCV.\n",
      "  warnings.warn(\n"
     ]
    },
    {
     "name": "stdout",
     "output_type": "stream",
     "text": [
      "[CV] END ..........................lambda=0, updater=shotgun; total time=   2.1s\n",
      "[CV] END ..........................lambda=0, updater=shotgun; total time=   6.3s\n",
      "[CV] END ..........................lambda=0, updater=shotgun; total time=   6.3s\n",
      "[CV] END ....................lambda=0, updater=coord_descent; total time=   1.9s\n",
      "[CV] END ....................lambda=0, updater=coord_descent; total time=   1.7s\n",
      "[CV] END ....................lambda=0, updater=coord_descent; total time=   4.5s\n",
      "[CV] END ..........................lambda=2, updater=shotgun; total time=   7.9s\n",
      "[CV] END ..........................lambda=2, updater=shotgun; total time=   1.9s\n",
      "[CV] END ..........................lambda=2, updater=shotgun; total time=   1.7s\n",
      "[CV] END ....................lambda=2, updater=coord_descent; total time=   2.0s\n",
      "[CV] END ....................lambda=2, updater=coord_descent; total time=   1.7s\n",
      "[CV] END ....................lambda=2, updater=coord_descent; total time=   2.6s\n",
      "[CV] END ..........................lambda=4, updater=shotgun; total time=   2.0s\n",
      "[CV] END ..........................lambda=4, updater=shotgun; total time=   2.2s\n",
      "[CV] END ..........................lambda=4, updater=shotgun; total time=   2.1s\n",
      "[CV] END ....................lambda=4, updater=coord_descent; total time=   1.8s\n",
      "[CV] END ....................lambda=4, updater=coord_descent; total time=   1.7s\n",
      "[CV] END ....................lambda=4, updater=coord_descent; total time=   2.0s\n",
      "[CV] END ..........................lambda=6, updater=shotgun; total time=   1.6s\n",
      "[CV] END ..........................lambda=6, updater=shotgun; total time=   1.7s\n",
      "[CV] END ..........................lambda=6, updater=shotgun; total time=   2.2s\n",
      "[CV] END ....................lambda=6, updater=coord_descent; total time=   1.9s\n",
      "[CV] END ....................lambda=6, updater=coord_descent; total time=   2.2s\n",
      "[CV] END ....................lambda=6, updater=coord_descent; total time=   2.0s\n",
      "RMSE 32.477114385195414\n",
      "параметры данных: lag=6, rolling_mean_size=6\n",
      "Fitting 3 folds for each of 8 candidates, totalling 24 fits\n"
     ]
    },
    {
     "name": "stderr",
     "output_type": "stream",
     "text": [
      "/opt/conda/lib/python3.9/site-packages/sklearn/model_selection/_search.py:285: UserWarning: The total space of parameters 8 is smaller than n_iter=10. Running 8 iterations. For exhaustive searches, use GridSearchCV.\n",
      "  warnings.warn(\n"
     ]
    },
    {
     "name": "stdout",
     "output_type": "stream",
     "text": [
      "[CV] END ..........................lambda=0, updater=shotgun; total time=   1.7s\n",
      "[CV] END ..........................lambda=0, updater=shotgun; total time=   2.7s\n",
      "[CV] END ..........................lambda=0, updater=shotgun; total time=   1.9s\n",
      "[CV] END ....................lambda=0, updater=coord_descent; total time=   2.2s\n",
      "[CV] END ....................lambda=0, updater=coord_descent; total time=   1.9s\n",
      "[CV] END ....................lambda=0, updater=coord_descent; total time=   1.6s\n",
      "[CV] END ..........................lambda=2, updater=shotgun; total time=   1.7s\n",
      "[CV] END ..........................lambda=2, updater=shotgun; total time=   1.7s\n",
      "[CV] END ..........................lambda=2, updater=shotgun; total time=   2.1s\n",
      "[CV] END ....................lambda=2, updater=coord_descent; total time=   1.6s\n",
      "[CV] END ....................lambda=2, updater=coord_descent; total time=   1.8s\n",
      "[CV] END ....................lambda=2, updater=coord_descent; total time=   1.7s\n",
      "[CV] END ..........................lambda=4, updater=shotgun; total time=   2.0s\n",
      "[CV] END ..........................lambda=4, updater=shotgun; total time=   7.1s\n",
      "[CV] END ..........................lambda=4, updater=shotgun; total time=   5.8s\n",
      "[CV] END ....................lambda=4, updater=coord_descent; total time=   2.1s\n",
      "[CV] END ....................lambda=4, updater=coord_descent; total time=   1.7s\n",
      "[CV] END ....................lambda=4, updater=coord_descent; total time=   1.7s\n",
      "[CV] END ..........................lambda=6, updater=shotgun; total time=   1.6s\n",
      "[CV] END ..........................lambda=6, updater=shotgun; total time=   2.0s\n",
      "[CV] END ..........................lambda=6, updater=shotgun; total time=   1.6s\n",
      "[CV] END ....................lambda=6, updater=coord_descent; total time=   1.7s\n",
      "[CV] END ....................lambda=6, updater=coord_descent; total time=   1.9s\n",
      "[CV] END ....................lambda=6, updater=coord_descent; total time=   2.1s\n",
      "RMSE 32.52926951832775\n",
      "параметры данных: lag=6, rolling_mean_size=7\n",
      "Fitting 3 folds for each of 8 candidates, totalling 24 fits\n"
     ]
    },
    {
     "name": "stderr",
     "output_type": "stream",
     "text": [
      "/opt/conda/lib/python3.9/site-packages/sklearn/model_selection/_search.py:285: UserWarning: The total space of parameters 8 is smaller than n_iter=10. Running 8 iterations. For exhaustive searches, use GridSearchCV.\n",
      "  warnings.warn(\n"
     ]
    },
    {
     "name": "stdout",
     "output_type": "stream",
     "text": [
      "[CV] END ..........................lambda=0, updater=shotgun; total time=   1.8s\n",
      "[CV] END ..........................lambda=0, updater=shotgun; total time=   1.6s\n",
      "[CV] END ..........................lambda=0, updater=shotgun; total time=   1.7s\n",
      "[CV] END ....................lambda=0, updater=coord_descent; total time=   1.8s\n",
      "[CV] END ....................lambda=0, updater=coord_descent; total time=   1.7s\n",
      "[CV] END ....................lambda=0, updater=coord_descent; total time=   1.7s\n",
      "[CV] END ..........................lambda=2, updater=shotgun; total time=   2.3s\n",
      "[CV] END ..........................lambda=2, updater=shotgun; total time=   1.8s\n",
      "[CV] END ..........................lambda=2, updater=shotgun; total time=   1.8s\n",
      "[CV] END ....................lambda=2, updater=coord_descent; total time=   1.8s\n",
      "[CV] END ....................lambda=2, updater=coord_descent; total time=   1.9s\n",
      "[CV] END ....................lambda=2, updater=coord_descent; total time=   1.8s\n",
      "[CV] END ..........................lambda=4, updater=shotgun; total time=   1.7s\n",
      "[CV] END ..........................lambda=4, updater=shotgun; total time=   1.7s\n",
      "[CV] END ..........................lambda=4, updater=shotgun; total time=   1.8s\n",
      "[CV] END ....................lambda=4, updater=coord_descent; total time=   1.9s\n",
      "[CV] END ....................lambda=4, updater=coord_descent; total time=   1.7s\n",
      "[CV] END ....................lambda=4, updater=coord_descent; total time=   1.7s\n",
      "[CV] END ..........................lambda=6, updater=shotgun; total time=   1.5s\n",
      "[CV] END ..........................lambda=6, updater=shotgun; total time=   1.7s\n",
      "[CV] END ..........................lambda=6, updater=shotgun; total time=   1.9s\n",
      "[CV] END ....................lambda=6, updater=coord_descent; total time=   1.7s\n",
      "[CV] END ....................lambda=6, updater=coord_descent; total time=   2.7s\n",
      "[CV] END ....................lambda=6, updater=coord_descent; total time=   2.4s\n",
      "RMSE 32.54421491269944\n",
      "параметры данных: lag=6, rolling_mean_size=8\n",
      "Fitting 3 folds for each of 8 candidates, totalling 24 fits\n"
     ]
    },
    {
     "name": "stderr",
     "output_type": "stream",
     "text": [
      "/opt/conda/lib/python3.9/site-packages/sklearn/model_selection/_search.py:285: UserWarning: The total space of parameters 8 is smaller than n_iter=10. Running 8 iterations. For exhaustive searches, use GridSearchCV.\n",
      "  warnings.warn(\n"
     ]
    },
    {
     "name": "stdout",
     "output_type": "stream",
     "text": [
      "[CV] END ..........................lambda=0, updater=shotgun; total time=   1.8s\n",
      "[CV] END ..........................lambda=0, updater=shotgun; total time=   1.8s\n",
      "[CV] END ..........................lambda=0, updater=shotgun; total time=   1.8s\n",
      "[CV] END ....................lambda=0, updater=coord_descent; total time=   1.6s\n",
      "[CV] END ....................lambda=0, updater=coord_descent; total time=   1.7s\n",
      "[CV] END ....................lambda=0, updater=coord_descent; total time=   2.0s\n",
      "[CV] END ..........................lambda=2, updater=shotgun; total time=   1.9s\n",
      "[CV] END ..........................lambda=2, updater=shotgun; total time=   1.7s\n",
      "[CV] END ..........................lambda=2, updater=shotgun; total time=   1.9s\n",
      "[CV] END ....................lambda=2, updater=coord_descent; total time=   1.6s\n",
      "[CV] END ....................lambda=2, updater=coord_descent; total time=   2.7s\n",
      "[CV] END ....................lambda=2, updater=coord_descent; total time=   2.3s\n",
      "[CV] END ..........................lambda=4, updater=shotgun; total time=   1.7s\n",
      "[CV] END ..........................lambda=4, updater=shotgun; total time=   2.1s\n",
      "[CV] END ..........................lambda=4, updater=shotgun; total time=   1.8s\n",
      "[CV] END ....................lambda=4, updater=coord_descent; total time=   1.6s\n",
      "[CV] END ....................lambda=4, updater=coord_descent; total time=   1.8s\n",
      "[CV] END ....................lambda=4, updater=coord_descent; total time=   2.0s\n",
      "[CV] END ..........................lambda=6, updater=shotgun; total time=   1.6s\n",
      "[CV] END ..........................lambda=6, updater=shotgun; total time=   1.6s\n",
      "[CV] END ..........................lambda=6, updater=shotgun; total time=   1.7s\n",
      "[CV] END ....................lambda=6, updater=coord_descent; total time=   1.6s\n",
      "[CV] END ....................lambda=6, updater=coord_descent; total time=   1.7s\n",
      "[CV] END ....................lambda=6, updater=coord_descent; total time=   2.7s\n",
      "RMSE 32.60470241270004\n",
      "параметры данных: lag=6, rolling_mean_size=9\n",
      "Fitting 3 folds for each of 8 candidates, totalling 24 fits\n"
     ]
    },
    {
     "name": "stderr",
     "output_type": "stream",
     "text": [
      "/opt/conda/lib/python3.9/site-packages/sklearn/model_selection/_search.py:285: UserWarning: The total space of parameters 8 is smaller than n_iter=10. Running 8 iterations. For exhaustive searches, use GridSearchCV.\n",
      "  warnings.warn(\n"
     ]
    },
    {
     "name": "stdout",
     "output_type": "stream",
     "text": [
      "[CV] END ..........................lambda=0, updater=shotgun; total time=   1.7s\n",
      "[CV] END ..........................lambda=0, updater=shotgun; total time=   1.6s\n",
      "[CV] END ..........................lambda=0, updater=shotgun; total time=   1.8s\n",
      "[CV] END ....................lambda=0, updater=coord_descent; total time=   1.9s\n",
      "[CV] END ....................lambda=0, updater=coord_descent; total time=   1.9s\n",
      "[CV] END ....................lambda=0, updater=coord_descent; total time=   2.1s\n",
      "[CV] END ..........................lambda=2, updater=shotgun; total time=   1.9s\n",
      "[CV] END ..........................lambda=2, updater=shotgun; total time=   1.6s\n",
      "[CV] END ..........................lambda=2, updater=shotgun; total time=   1.7s\n",
      "[CV] END ....................lambda=2, updater=coord_descent; total time=   2.1s\n",
      "[CV] END ....................lambda=2, updater=coord_descent; total time=   1.8s\n",
      "[CV] END ....................lambda=2, updater=coord_descent; total time=   1.8s\n",
      "[CV] END ..........................lambda=4, updater=shotgun; total time=   2.2s\n",
      "[CV] END ..........................lambda=4, updater=shotgun; total time=   1.9s\n",
      "[CV] END ..........................lambda=4, updater=shotgun; total time=   2.0s\n",
      "[CV] END ....................lambda=4, updater=coord_descent; total time=   1.6s\n",
      "[CV] END ....................lambda=4, updater=coord_descent; total time=   1.6s\n",
      "[CV] END ....................lambda=4, updater=coord_descent; total time=   2.4s\n",
      "[CV] END ..........................lambda=6, updater=shotgun; total time=   1.7s\n",
      "[CV] END ..........................lambda=6, updater=shotgun; total time=   2.5s\n",
      "[CV] END ..........................lambda=6, updater=shotgun; total time=   2.2s\n",
      "[CV] END ....................lambda=6, updater=coord_descent; total time=   2.1s\n",
      "[CV] END ....................lambda=6, updater=coord_descent; total time=   1.8s\n",
      "[CV] END ....................lambda=6, updater=coord_descent; total time=   1.9s\n"
     ]
    },
    {
     "name": "stderr",
     "output_type": "stream",
     "text": [
      " 60%|██████    | 6/10 [52:59<36:24, 546.23s/it]"
     ]
    },
    {
     "name": "stdout",
     "output_type": "stream",
     "text": [
      "RMSE 32.60949316554292\n",
      "параметры данных: lag=6, rolling_mean_size=10\n",
      "Fitting 3 folds for each of 8 candidates, totalling 24 fits\n"
     ]
    },
    {
     "name": "stderr",
     "output_type": "stream",
     "text": [
      "/opt/conda/lib/python3.9/site-packages/sklearn/model_selection/_search.py:285: UserWarning: The total space of parameters 8 is smaller than n_iter=10. Running 8 iterations. For exhaustive searches, use GridSearchCV.\n",
      "  warnings.warn(\n"
     ]
    },
    {
     "name": "stdout",
     "output_type": "stream",
     "text": [
      "[CV] END ..........................lambda=0, updater=shotgun; total time=   1.8s\n",
      "[CV] END ..........................lambda=0, updater=shotgun; total time=   1.6s\n",
      "[CV] END ..........................lambda=0, updater=shotgun; total time=   1.6s\n",
      "[CV] END ....................lambda=0, updater=coord_descent; total time=   1.7s\n",
      "[CV] END ....................lambda=0, updater=coord_descent; total time=   1.6s\n",
      "[CV] END ....................lambda=0, updater=coord_descent; total time=   1.9s\n",
      "[CV] END ..........................lambda=2, updater=shotgun; total time=   1.9s\n",
      "[CV] END ..........................lambda=2, updater=shotgun; total time=   1.5s\n",
      "[CV] END ..........................lambda=2, updater=shotgun; total time=   1.6s\n",
      "[CV] END ....................lambda=2, updater=coord_descent; total time=   1.8s\n",
      "[CV] END ....................lambda=2, updater=coord_descent; total time=   2.1s\n",
      "[CV] END ....................lambda=2, updater=coord_descent; total time=   2.0s\n",
      "[CV] END ..........................lambda=4, updater=shotgun; total time=   2.0s\n",
      "[CV] END ..........................lambda=4, updater=shotgun; total time=   2.3s\n",
      "[CV] END ..........................lambda=4, updater=shotgun; total time=   2.5s\n",
      "[CV] END ....................lambda=4, updater=coord_descent; total time=   1.8s\n",
      "[CV] END ....................lambda=4, updater=coord_descent; total time=   2.6s\n",
      "[CV] END ....................lambda=4, updater=coord_descent; total time=   1.9s\n",
      "[CV] END ..........................lambda=6, updater=shotgun; total time=   2.0s\n",
      "[CV] END ..........................lambda=6, updater=shotgun; total time=   1.8s\n",
      "[CV] END ..........................lambda=6, updater=shotgun; total time=   1.9s\n",
      "[CV] END ....................lambda=6, updater=coord_descent; total time=   2.0s\n",
      "[CV] END ....................lambda=6, updater=coord_descent; total time=   1.7s\n",
      "[CV] END ....................lambda=6, updater=coord_descent; total time=   2.0s\n",
      "RMSE 32.579897938477274\n",
      "параметры данных: lag=7, rolling_mean_size=1\n",
      "Fitting 3 folds for each of 8 candidates, totalling 24 fits\n"
     ]
    },
    {
     "name": "stderr",
     "output_type": "stream",
     "text": [
      "/opt/conda/lib/python3.9/site-packages/sklearn/model_selection/_search.py:285: UserWarning: The total space of parameters 8 is smaller than n_iter=10. Running 8 iterations. For exhaustive searches, use GridSearchCV.\n",
      "  warnings.warn(\n"
     ]
    },
    {
     "name": "stdout",
     "output_type": "stream",
     "text": [
      "[CV] END ..........................lambda=0, updater=shotgun; total time=   1.8s\n",
      "[CV] END ..........................lambda=0, updater=shotgun; total time=   2.6s\n",
      "[CV] END ..........................lambda=0, updater=shotgun; total time=   1.8s\n",
      "[CV] END ....................lambda=0, updater=coord_descent; total time=   1.8s\n",
      "[CV] END ....................lambda=0, updater=coord_descent; total time=   2.2s\n",
      "[CV] END ....................lambda=0, updater=coord_descent; total time=   1.9s\n",
      "[CV] END ..........................lambda=2, updater=shotgun; total time=   1.7s\n",
      "[CV] END ..........................lambda=2, updater=shotgun; total time=   1.6s\n",
      "[CV] END ..........................lambda=2, updater=shotgun; total time=   1.6s\n",
      "[CV] END ....................lambda=2, updater=coord_descent; total time=   2.4s\n",
      "[CV] END ....................lambda=2, updater=coord_descent; total time=   1.7s\n",
      "[CV] END ....................lambda=2, updater=coord_descent; total time=   1.8s\n",
      "[CV] END ..........................lambda=4, updater=shotgun; total time=   1.9s\n",
      "[CV] END ..........................lambda=4, updater=shotgun; total time=   1.9s\n",
      "[CV] END ..........................lambda=4, updater=shotgun; total time=   1.7s\n",
      "[CV] END ....................lambda=4, updater=coord_descent; total time=   1.9s\n",
      "[CV] END ....................lambda=4, updater=coord_descent; total time=   1.9s\n",
      "[CV] END ....................lambda=4, updater=coord_descent; total time=   2.4s\n",
      "[CV] END ..........................lambda=6, updater=shotgun; total time=   1.8s\n",
      "[CV] END ..........................lambda=6, updater=shotgun; total time=   1.6s\n",
      "[CV] END ..........................lambda=6, updater=shotgun; total time=   1.8s\n",
      "[CV] END ....................lambda=6, updater=coord_descent; total time=   1.6s\n",
      "[CV] END ....................lambda=6, updater=coord_descent; total time=   1.7s\n",
      "[CV] END ....................lambda=6, updater=coord_descent; total time=   2.0s\n",
      "RMSE 32.57633377705451\n",
      "параметры данных: lag=7, rolling_mean_size=2\n",
      "Fitting 3 folds for each of 8 candidates, totalling 24 fits\n"
     ]
    },
    {
     "name": "stderr",
     "output_type": "stream",
     "text": [
      "/opt/conda/lib/python3.9/site-packages/sklearn/model_selection/_search.py:285: UserWarning: The total space of parameters 8 is smaller than n_iter=10. Running 8 iterations. For exhaustive searches, use GridSearchCV.\n",
      "  warnings.warn(\n"
     ]
    },
    {
     "name": "stdout",
     "output_type": "stream",
     "text": [
      "[CV] END ..........................lambda=0, updater=shotgun; total time=   4.9s\n",
      "[CV] END ..........................lambda=0, updater=shotgun; total time=   5.0s\n",
      "[CV] END ..........................lambda=0, updater=shotgun; total time=   1.7s\n",
      "[CV] END ....................lambda=0, updater=coord_descent; total time=   1.8s\n",
      "[CV] END ....................lambda=0, updater=coord_descent; total time=   1.8s\n",
      "[CV] END ....................lambda=0, updater=coord_descent; total time=   2.2s\n",
      "[CV] END ..........................lambda=2, updater=shotgun; total time=   1.7s\n",
      "[CV] END ..........................lambda=2, updater=shotgun; total time=   1.7s\n",
      "[CV] END ..........................lambda=2, updater=shotgun; total time=   1.7s\n",
      "[CV] END ....................lambda=2, updater=coord_descent; total time=   1.9s\n",
      "[CV] END ....................lambda=2, updater=coord_descent; total time=   2.5s\n",
      "[CV] END ....................lambda=2, updater=coord_descent; total time=   1.8s\n",
      "[CV] END ..........................lambda=4, updater=shotgun; total time=   1.7s\n",
      "[CV] END ..........................lambda=4, updater=shotgun; total time=   1.7s\n",
      "[CV] END ..........................lambda=4, updater=shotgun; total time=   1.8s\n",
      "[CV] END ....................lambda=4, updater=coord_descent; total time=   1.8s\n",
      "[CV] END ....................lambda=4, updater=coord_descent; total time=   1.8s\n",
      "[CV] END ....................lambda=4, updater=coord_descent; total time=   1.9s\n",
      "[CV] END ..........................lambda=6, updater=shotgun; total time=   1.6s\n",
      "[CV] END ..........................lambda=6, updater=shotgun; total time=   2.0s\n",
      "[CV] END ..........................lambda=6, updater=shotgun; total time=   1.6s\n",
      "[CV] END ....................lambda=6, updater=coord_descent; total time=   2.2s\n",
      "[CV] END ....................lambda=6, updater=coord_descent; total time=   1.8s\n",
      "[CV] END ....................lambda=6, updater=coord_descent; total time=   1.9s\n",
      "RMSE 32.57283605652609\n",
      "параметры данных: lag=7, rolling_mean_size=3\n",
      "Fitting 3 folds for each of 8 candidates, totalling 24 fits\n"
     ]
    },
    {
     "name": "stderr",
     "output_type": "stream",
     "text": [
      "/opt/conda/lib/python3.9/site-packages/sklearn/model_selection/_search.py:285: UserWarning: The total space of parameters 8 is smaller than n_iter=10. Running 8 iterations. For exhaustive searches, use GridSearchCV.\n",
      "  warnings.warn(\n"
     ]
    },
    {
     "name": "stdout",
     "output_type": "stream",
     "text": [
      "[CV] END ..........................lambda=0, updater=shotgun; total time=   1.7s\n",
      "[CV] END ..........................lambda=0, updater=shotgun; total time=   1.7s\n",
      "[CV] END ..........................lambda=0, updater=shotgun; total time=   1.7s\n",
      "[CV] END ....................lambda=0, updater=coord_descent; total time=   2.0s\n",
      "[CV] END ....................lambda=0, updater=coord_descent; total time=   1.9s\n",
      "[CV] END ....................lambda=0, updater=coord_descent; total time=   2.0s\n",
      "[CV] END ..........................lambda=2, updater=shotgun; total time=   1.7s\n",
      "[CV] END ..........................lambda=2, updater=shotgun; total time=   1.6s\n",
      "[CV] END ..........................lambda=2, updater=shotgun; total time=   1.8s\n",
      "[CV] END ....................lambda=2, updater=coord_descent; total time=   1.9s\n",
      "[CV] END ....................lambda=2, updater=coord_descent; total time=   3.1s\n",
      "[CV] END ....................lambda=2, updater=coord_descent; total time=   1.8s\n",
      "[CV] END ..........................lambda=4, updater=shotgun; total time=   2.0s\n",
      "[CV] END ..........................lambda=4, updater=shotgun; total time=   1.8s\n",
      "[CV] END ..........................lambda=4, updater=shotgun; total time=   1.8s\n",
      "[CV] END ....................lambda=4, updater=coord_descent; total time=   2.1s\n",
      "[CV] END ....................lambda=4, updater=coord_descent; total time=   1.6s\n",
      "[CV] END ....................lambda=4, updater=coord_descent; total time=   1.8s\n",
      "[CV] END ..........................lambda=6, updater=shotgun; total time=   1.6s\n",
      "[CV] END ..........................lambda=6, updater=shotgun; total time=   1.7s\n",
      "[CV] END ..........................lambda=6, updater=shotgun; total time=   1.9s\n",
      "[CV] END ....................lambda=6, updater=coord_descent; total time=   2.0s\n",
      "[CV] END ....................lambda=6, updater=coord_descent; total time=   2.1s\n",
      "[CV] END ....................lambda=6, updater=coord_descent; total time=   1.7s\n",
      "RMSE 32.569318027502014\n",
      "параметры данных: lag=7, rolling_mean_size=4\n",
      "Fitting 3 folds for each of 8 candidates, totalling 24 fits\n"
     ]
    },
    {
     "name": "stderr",
     "output_type": "stream",
     "text": [
      "/opt/conda/lib/python3.9/site-packages/sklearn/model_selection/_search.py:285: UserWarning: The total space of parameters 8 is smaller than n_iter=10. Running 8 iterations. For exhaustive searches, use GridSearchCV.\n",
      "  warnings.warn(\n"
     ]
    },
    {
     "name": "stdout",
     "output_type": "stream",
     "text": [
      "[CV] END ..........................lambda=0, updater=shotgun; total time=   1.7s\n",
      "[CV] END ..........................lambda=0, updater=shotgun; total time=   2.1s\n",
      "[CV] END ..........................lambda=0, updater=shotgun; total time=   1.7s\n",
      "[CV] END ....................lambda=0, updater=coord_descent; total time=   2.2s\n",
      "[CV] END ....................lambda=0, updater=coord_descent; total time=   1.6s\n",
      "[CV] END ....................lambda=0, updater=coord_descent; total time=   1.7s\n",
      "[CV] END ..........................lambda=2, updater=shotgun; total time=   2.9s\n",
      "[CV] END ..........................lambda=2, updater=shotgun; total time=   3.2s\n",
      "[CV] END ..........................lambda=2, updater=shotgun; total time=   2.8s\n",
      "[CV] END ....................lambda=2, updater=coord_descent; total time=   1.5s\n",
      "[CV] END ....................lambda=2, updater=coord_descent; total time=   2.3s\n",
      "[CV] END ....................lambda=2, updater=coord_descent; total time=   1.8s\n",
      "[CV] END ..........................lambda=4, updater=shotgun; total time=   1.6s\n",
      "[CV] END ..........................lambda=4, updater=shotgun; total time=   1.6s\n",
      "[CV] END ..........................lambda=4, updater=shotgun; total time=   2.1s\n",
      "[CV] END ....................lambda=4, updater=coord_descent; total time=   1.8s\n",
      "[CV] END ....................lambda=4, updater=coord_descent; total time=   1.9s\n",
      "[CV] END ....................lambda=4, updater=coord_descent; total time=   1.8s\n",
      "[CV] END ..........................lambda=6, updater=shotgun; total time=   1.9s\n",
      "[CV] END ..........................lambda=6, updater=shotgun; total time=   1.6s\n",
      "[CV] END ..........................lambda=6, updater=shotgun; total time=   1.6s\n",
      "[CV] END ....................lambda=6, updater=coord_descent; total time=   3.7s\n",
      "[CV] END ....................lambda=6, updater=coord_descent; total time=   1.9s\n",
      "[CV] END ....................lambda=6, updater=coord_descent; total time=   1.6s\n",
      "RMSE 32.56821486608357\n",
      "параметры данных: lag=7, rolling_mean_size=5\n",
      "Fitting 3 folds for each of 8 candidates, totalling 24 fits\n"
     ]
    },
    {
     "name": "stderr",
     "output_type": "stream",
     "text": [
      "/opt/conda/lib/python3.9/site-packages/sklearn/model_selection/_search.py:285: UserWarning: The total space of parameters 8 is smaller than n_iter=10. Running 8 iterations. For exhaustive searches, use GridSearchCV.\n",
      "  warnings.warn(\n"
     ]
    },
    {
     "name": "stdout",
     "output_type": "stream",
     "text": [
      "[CV] END ..........................lambda=0, updater=shotgun; total time=   1.5s\n",
      "[CV] END ..........................lambda=0, updater=shotgun; total time=   2.4s\n",
      "[CV] END ..........................lambda=0, updater=shotgun; total time=   2.9s\n",
      "[CV] END ....................lambda=0, updater=coord_descent; total time=   1.7s\n",
      "[CV] END ....................lambda=0, updater=coord_descent; total time=   1.6s\n",
      "[CV] END ....................lambda=0, updater=coord_descent; total time=   2.0s\n",
      "[CV] END ..........................lambda=2, updater=shotgun; total time=   2.3s\n",
      "[CV] END ..........................lambda=2, updater=shotgun; total time=   2.4s\n",
      "[CV] END ..........................lambda=2, updater=shotgun; total time=   1.9s\n",
      "[CV] END ....................lambda=2, updater=coord_descent; total time=   1.9s\n",
      "[CV] END ....................lambda=2, updater=coord_descent; total time=   1.8s\n",
      "[CV] END ....................lambda=2, updater=coord_descent; total time=   2.0s\n",
      "[CV] END ..........................lambda=4, updater=shotgun; total time=   1.6s\n",
      "[CV] END ..........................lambda=4, updater=shotgun; total time=   1.8s\n",
      "[CV] END ..........................lambda=4, updater=shotgun; total time=   1.6s\n",
      "[CV] END ....................lambda=4, updater=coord_descent; total time=   1.9s\n",
      "[CV] END ....................lambda=4, updater=coord_descent; total time=   1.9s\n",
      "[CV] END ....................lambda=4, updater=coord_descent; total time=   1.8s\n",
      "[CV] END ..........................lambda=6, updater=shotgun; total time=   1.6s\n",
      "[CV] END ..........................lambda=6, updater=shotgun; total time=   1.8s\n",
      "[CV] END ..........................lambda=6, updater=shotgun; total time=   2.8s\n",
      "[CV] END ....................lambda=6, updater=coord_descent; total time=   1.6s\n",
      "[CV] END ....................lambda=6, updater=coord_descent; total time=   2.2s\n",
      "[CV] END ....................lambda=6, updater=coord_descent; total time=   2.2s\n",
      "RMSE 32.56655443839167\n",
      "параметры данных: lag=7, rolling_mean_size=6\n",
      "Fitting 3 folds for each of 8 candidates, totalling 24 fits\n"
     ]
    },
    {
     "name": "stderr",
     "output_type": "stream",
     "text": [
      "/opt/conda/lib/python3.9/site-packages/sklearn/model_selection/_search.py:285: UserWarning: The total space of parameters 8 is smaller than n_iter=10. Running 8 iterations. For exhaustive searches, use GridSearchCV.\n",
      "  warnings.warn(\n"
     ]
    },
    {
     "name": "stdout",
     "output_type": "stream",
     "text": [
      "[CV] END ..........................lambda=0, updater=shotgun; total time=   1.5s\n",
      "[CV] END ..........................lambda=0, updater=shotgun; total time=   1.8s\n",
      "[CV] END ..........................lambda=0, updater=shotgun; total time=   1.8s\n",
      "[CV] END ....................lambda=0, updater=coord_descent; total time=   1.8s\n",
      "[CV] END ....................lambda=0, updater=coord_descent; total time=   1.6s\n",
      "[CV] END ....................lambda=0, updater=coord_descent; total time=   1.7s\n",
      "[CV] END ..........................lambda=2, updater=shotgun; total time=   1.7s\n",
      "[CV] END ..........................lambda=2, updater=shotgun; total time=   1.7s\n",
      "[CV] END ..........................lambda=2, updater=shotgun; total time=   1.8s\n",
      "[CV] END ....................lambda=2, updater=coord_descent; total time=   1.9s\n",
      "[CV] END ....................lambda=2, updater=coord_descent; total time=   1.6s\n",
      "[CV] END ....................lambda=2, updater=coord_descent; total time=   1.8s\n",
      "[CV] END ..........................lambda=4, updater=shotgun; total time=   2.6s\n",
      "[CV] END ..........................lambda=4, updater=shotgun; total time=   1.9s\n",
      "[CV] END ..........................lambda=4, updater=shotgun; total time=   2.2s\n",
      "[CV] END ....................lambda=4, updater=coord_descent; total time=   2.1s\n",
      "[CV] END ....................lambda=4, updater=coord_descent; total time=   1.7s\n",
      "[CV] END ....................lambda=4, updater=coord_descent; total time=   1.7s\n",
      "[CV] END ..........................lambda=6, updater=shotgun; total time=   1.8s\n",
      "[CV] END ..........................lambda=6, updater=shotgun; total time=   1.7s\n",
      "[CV] END ..........................lambda=6, updater=shotgun; total time=   1.9s\n",
      "[CV] END ....................lambda=6, updater=coord_descent; total time=   2.1s\n",
      "[CV] END ....................lambda=6, updater=coord_descent; total time=   1.8s\n",
      "[CV] END ....................lambda=6, updater=coord_descent; total time=   3.9s\n",
      "RMSE 32.56593043985819\n",
      "параметры данных: lag=7, rolling_mean_size=7\n",
      "Fitting 3 folds for each of 8 candidates, totalling 24 fits\n"
     ]
    },
    {
     "name": "stderr",
     "output_type": "stream",
     "text": [
      "/opt/conda/lib/python3.9/site-packages/sklearn/model_selection/_search.py:285: UserWarning: The total space of parameters 8 is smaller than n_iter=10. Running 8 iterations. For exhaustive searches, use GridSearchCV.\n",
      "  warnings.warn(\n"
     ]
    },
    {
     "name": "stdout",
     "output_type": "stream",
     "text": [
      "[CV] END ..........................lambda=0, updater=shotgun; total time=   1.7s\n",
      "[CV] END ..........................lambda=0, updater=shotgun; total time=   1.5s\n",
      "[CV] END ..........................lambda=0, updater=shotgun; total time=   1.6s\n",
      "[CV] END ....................lambda=0, updater=coord_descent; total time=   1.9s\n",
      "[CV] END ....................lambda=0, updater=coord_descent; total time=   1.8s\n",
      "[CV] END ....................lambda=0, updater=coord_descent; total time=   2.3s\n",
      "[CV] END ..........................lambda=2, updater=shotgun; total time=   1.7s\n",
      "[CV] END ..........................lambda=2, updater=shotgun; total time=   1.6s\n",
      "[CV] END ..........................lambda=2, updater=shotgun; total time=   1.8s\n",
      "[CV] END ....................lambda=2, updater=coord_descent; total time=   1.9s\n",
      "[CV] END ....................lambda=2, updater=coord_descent; total time=   2.0s\n",
      "[CV] END ....................lambda=2, updater=coord_descent; total time=   1.6s\n",
      "[CV] END ..........................lambda=4, updater=shotgun; total time=   1.8s\n",
      "[CV] END ..........................lambda=4, updater=shotgun; total time=   1.6s\n",
      "[CV] END ..........................lambda=4, updater=shotgun; total time=   2.0s\n",
      "[CV] END ....................lambda=4, updater=coord_descent; total time=   2.0s\n",
      "[CV] END ....................lambda=4, updater=coord_descent; total time=   1.8s\n",
      "[CV] END ....................lambda=4, updater=coord_descent; total time=   1.7s\n",
      "[CV] END ..........................lambda=6, updater=shotgun; total time=   1.7s\n",
      "[CV] END ..........................lambda=6, updater=shotgun; total time=   1.7s\n",
      "[CV] END ..........................lambda=6, updater=shotgun; total time=   3.3s\n",
      "[CV] END ....................lambda=6, updater=coord_descent; total time=   1.9s\n",
      "[CV] END ....................lambda=6, updater=coord_descent; total time=   1.9s\n",
      "[CV] END ....................lambda=6, updater=coord_descent; total time=   1.9s\n",
      "RMSE 32.5604271143377\n",
      "параметры данных: lag=7, rolling_mean_size=8\n",
      "Fitting 3 folds for each of 8 candidates, totalling 24 fits\n"
     ]
    },
    {
     "name": "stderr",
     "output_type": "stream",
     "text": [
      "/opt/conda/lib/python3.9/site-packages/sklearn/model_selection/_search.py:285: UserWarning: The total space of parameters 8 is smaller than n_iter=10. Running 8 iterations. For exhaustive searches, use GridSearchCV.\n",
      "  warnings.warn(\n"
     ]
    },
    {
     "name": "stdout",
     "output_type": "stream",
     "text": [
      "[CV] END ..........................lambda=0, updater=shotgun; total time=   1.7s\n",
      "[CV] END ..........................lambda=0, updater=shotgun; total time=   1.6s\n",
      "[CV] END ..........................lambda=0, updater=shotgun; total time=   1.7s\n",
      "[CV] END ....................lambda=0, updater=coord_descent; total time=   1.7s\n",
      "[CV] END ....................lambda=0, updater=coord_descent; total time=   1.7s\n",
      "[CV] END ....................lambda=0, updater=coord_descent; total time=   1.9s\n",
      "[CV] END ..........................lambda=2, updater=shotgun; total time=   1.6s\n",
      "[CV] END ..........................lambda=2, updater=shotgun; total time=   1.6s\n",
      "[CV] END ..........................lambda=2, updater=shotgun; total time=   2.0s\n",
      "[CV] END ....................lambda=2, updater=coord_descent; total time=   2.9s\n",
      "[CV] END ....................lambda=2, updater=coord_descent; total time=   1.7s\n",
      "[CV] END ....................lambda=2, updater=coord_descent; total time=   1.9s\n",
      "[CV] END ..........................lambda=4, updater=shotgun; total time=   2.7s\n",
      "[CV] END ..........................lambda=4, updater=shotgun; total time=   1.7s\n",
      "[CV] END ..........................lambda=4, updater=shotgun; total time=   1.7s\n",
      "[CV] END ....................lambda=4, updater=coord_descent; total time=   1.8s\n",
      "[CV] END ....................lambda=4, updater=coord_descent; total time=   1.8s\n",
      "[CV] END ....................lambda=4, updater=coord_descent; total time=   2.0s\n",
      "[CV] END ..........................lambda=6, updater=shotgun; total time=   1.9s\n",
      "[CV] END ..........................lambda=6, updater=shotgun; total time=   2.0s\n",
      "[CV] END ..........................lambda=6, updater=shotgun; total time=   2.0s\n",
      "[CV] END ....................lambda=6, updater=coord_descent; total time=   1.6s\n",
      "[CV] END ....................lambda=6, updater=coord_descent; total time=   1.7s\n",
      "[CV] END ....................lambda=6, updater=coord_descent; total time=   1.6s\n",
      "RMSE 32.56459191227295\n",
      "параметры данных: lag=7, rolling_mean_size=9\n",
      "Fitting 3 folds for each of 8 candidates, totalling 24 fits\n"
     ]
    },
    {
     "name": "stderr",
     "output_type": "stream",
     "text": [
      "/opt/conda/lib/python3.9/site-packages/sklearn/model_selection/_search.py:285: UserWarning: The total space of parameters 8 is smaller than n_iter=10. Running 8 iterations. For exhaustive searches, use GridSearchCV.\n",
      "  warnings.warn(\n"
     ]
    },
    {
     "name": "stdout",
     "output_type": "stream",
     "text": [
      "[CV] END ..........................lambda=0, updater=shotgun; total time=   1.6s\n",
      "[CV] END ..........................lambda=0, updater=shotgun; total time=   1.9s\n",
      "[CV] END ..........................lambda=0, updater=shotgun; total time=   2.9s\n",
      "[CV] END ....................lambda=0, updater=coord_descent; total time=   8.5s\n",
      "[CV] END ....................lambda=0, updater=coord_descent; total time=   1.8s\n",
      "[CV] END ....................lambda=0, updater=coord_descent; total time=   1.7s\n",
      "[CV] END ..........................lambda=2, updater=shotgun; total time=   1.9s\n",
      "[CV] END ..........................lambda=2, updater=shotgun; total time=   1.8s\n",
      "[CV] END ..........................lambda=2, updater=shotgun; total time=   1.9s\n",
      "[CV] END ....................lambda=2, updater=coord_descent; total time=   1.7s\n",
      "[CV] END ....................lambda=2, updater=coord_descent; total time=   1.7s\n",
      "[CV] END ....................lambda=2, updater=coord_descent; total time=   1.8s\n",
      "[CV] END ..........................lambda=4, updater=shotgun; total time=   1.5s\n",
      "[CV] END ..........................lambda=4, updater=shotgun; total time=   2.1s\n",
      "[CV] END ..........................lambda=4, updater=shotgun; total time=   2.7s\n",
      "[CV] END ....................lambda=4, updater=coord_descent; total time=   1.8s\n",
      "[CV] END ....................lambda=4, updater=coord_descent; total time=   1.7s\n",
      "[CV] END ....................lambda=4, updater=coord_descent; total time=   4.1s\n",
      "[CV] END ..........................lambda=6, updater=shotgun; total time=   1.5s\n",
      "[CV] END ..........................lambda=6, updater=shotgun; total time=   1.8s\n",
      "[CV] END ..........................lambda=6, updater=shotgun; total time=   1.6s\n",
      "[CV] END ....................lambda=6, updater=coord_descent; total time=   1.8s\n",
      "[CV] END ....................lambda=6, updater=coord_descent; total time=   1.8s\n",
      "[CV] END ....................lambda=6, updater=coord_descent; total time=   1.9s\n"
     ]
    },
    {
     "name": "stderr",
     "output_type": "stream",
     "text": [
      " 70%|███████   | 7/10 [1:01:11<26:25, 528.34s/it]"
     ]
    },
    {
     "name": "stdout",
     "output_type": "stream",
     "text": [
      "RMSE 32.566333339820346\n",
      "параметры данных: lag=7, rolling_mean_size=10\n",
      "Fitting 3 folds for each of 8 candidates, totalling 24 fits\n"
     ]
    },
    {
     "name": "stderr",
     "output_type": "stream",
     "text": [
      "/opt/conda/lib/python3.9/site-packages/sklearn/model_selection/_search.py:285: UserWarning: The total space of parameters 8 is smaller than n_iter=10. Running 8 iterations. For exhaustive searches, use GridSearchCV.\n",
      "  warnings.warn(\n"
     ]
    },
    {
     "name": "stdout",
     "output_type": "stream",
     "text": [
      "[CV] END ..........................lambda=0, updater=shotgun; total time=   1.7s\n",
      "[CV] END ..........................lambda=0, updater=shotgun; total time=   1.5s\n",
      "[CV] END ..........................lambda=0, updater=shotgun; total time=   1.7s\n",
      "[CV] END ....................lambda=0, updater=coord_descent; total time=   1.9s\n",
      "[CV] END ....................lambda=0, updater=coord_descent; total time=   2.0s\n",
      "[CV] END ....................lambda=0, updater=coord_descent; total time=   2.2s\n",
      "[CV] END ..........................lambda=2, updater=shotgun; total time=   1.7s\n",
      "[CV] END ..........................lambda=2, updater=shotgun; total time=   1.9s\n",
      "[CV] END ..........................lambda=2, updater=shotgun; total time=   1.7s\n",
      "[CV] END ....................lambda=2, updater=coord_descent; total time=   1.9s\n",
      "[CV] END ....................lambda=2, updater=coord_descent; total time=   1.7s\n",
      "[CV] END ....................lambda=2, updater=coord_descent; total time=   1.6s\n",
      "[CV] END ..........................lambda=4, updater=shotgun; total time=   1.8s\n",
      "[CV] END ..........................lambda=4, updater=shotgun; total time=   1.5s\n",
      "[CV] END ..........................lambda=4, updater=shotgun; total time=   1.9s\n",
      "[CV] END ....................lambda=4, updater=coord_descent; total time=   2.0s\n",
      "[CV] END ....................lambda=4, updater=coord_descent; total time=   1.6s\n",
      "[CV] END ....................lambda=4, updater=coord_descent; total time=   1.7s\n",
      "[CV] END ..........................lambda=6, updater=shotgun; total time=   1.8s\n",
      "[CV] END ..........................lambda=6, updater=shotgun; total time=   2.4s\n",
      "[CV] END ..........................lambda=6, updater=shotgun; total time=   2.1s\n",
      "[CV] END ....................lambda=6, updater=coord_descent; total time=   2.0s\n",
      "[CV] END ....................lambda=6, updater=coord_descent; total time=   2.0s\n",
      "[CV] END ....................lambda=6, updater=coord_descent; total time=   1.7s\n",
      "RMSE 32.5789624213387\n",
      "параметры данных: lag=8, rolling_mean_size=1\n",
      "Fitting 3 folds for each of 8 candidates, totalling 24 fits\n"
     ]
    },
    {
     "name": "stderr",
     "output_type": "stream",
     "text": [
      "/opt/conda/lib/python3.9/site-packages/sklearn/model_selection/_search.py:285: UserWarning: The total space of parameters 8 is smaller than n_iter=10. Running 8 iterations. For exhaustive searches, use GridSearchCV.\n",
      "  warnings.warn(\n"
     ]
    },
    {
     "name": "stdout",
     "output_type": "stream",
     "text": [
      "[CV] END ..........................lambda=0, updater=shotgun; total time=   1.7s\n",
      "[CV] END ..........................lambda=0, updater=shotgun; total time=   1.8s\n",
      "[CV] END ..........................lambda=0, updater=shotgun; total time=   1.6s\n",
      "[CV] END ....................lambda=0, updater=coord_descent; total time=   1.6s\n",
      "[CV] END ....................lambda=0, updater=coord_descent; total time=   1.7s\n",
      "[CV] END ....................lambda=0, updater=coord_descent; total time=   1.6s\n",
      "[CV] END ..........................lambda=2, updater=shotgun; total time=   1.9s\n",
      "[CV] END ..........................lambda=2, updater=shotgun; total time=   2.0s\n",
      "[CV] END ..........................lambda=2, updater=shotgun; total time=   1.5s\n",
      "[CV] END ....................lambda=2, updater=coord_descent; total time=   1.7s\n",
      "[CV] END ....................lambda=2, updater=coord_descent; total time=   1.9s\n",
      "[CV] END ....................lambda=2, updater=coord_descent; total time=   1.9s\n",
      "[CV] END ..........................lambda=4, updater=shotgun; total time=   2.1s\n",
      "[CV] END ..........................lambda=4, updater=shotgun; total time=   2.1s\n",
      "[CV] END ..........................lambda=4, updater=shotgun; total time=   1.7s\n",
      "[CV] END ....................lambda=4, updater=coord_descent; total time=   1.9s\n",
      "[CV] END ....................lambda=4, updater=coord_descent; total time=   1.7s\n",
      "[CV] END ....................lambda=4, updater=coord_descent; total time=   2.1s\n",
      "[CV] END ..........................lambda=6, updater=shotgun; total time=   1.8s\n",
      "[CV] END ..........................lambda=6, updater=shotgun; total time=   1.6s\n",
      "[CV] END ..........................lambda=6, updater=shotgun; total time=   1.8s\n",
      "[CV] END ....................lambda=6, updater=coord_descent; total time=   1.7s\n",
      "[CV] END ....................lambda=6, updater=coord_descent; total time=   1.8s\n",
      "[CV] END ....................lambda=6, updater=coord_descent; total time=   1.9s\n",
      "RMSE 32.57541239950127\n",
      "параметры данных: lag=8, rolling_mean_size=2\n",
      "Fitting 3 folds for each of 8 candidates, totalling 24 fits\n"
     ]
    },
    {
     "name": "stderr",
     "output_type": "stream",
     "text": [
      "/opt/conda/lib/python3.9/site-packages/sklearn/model_selection/_search.py:285: UserWarning: The total space of parameters 8 is smaller than n_iter=10. Running 8 iterations. For exhaustive searches, use GridSearchCV.\n",
      "  warnings.warn(\n"
     ]
    },
    {
     "name": "stdout",
     "output_type": "stream",
     "text": [
      "[CV] END ..........................lambda=0, updater=shotgun; total time=   1.6s\n",
      "[CV] END ..........................lambda=0, updater=shotgun; total time=   1.7s\n",
      "[CV] END ..........................lambda=0, updater=shotgun; total time=   1.7s\n",
      "[CV] END ....................lambda=0, updater=coord_descent; total time=   1.6s\n",
      "[CV] END ....................lambda=0, updater=coord_descent; total time=   1.9s\n",
      "[CV] END ....................lambda=0, updater=coord_descent; total time=   1.9s\n",
      "[CV] END ..........................lambda=2, updater=shotgun; total time=   1.6s\n",
      "[CV] END ..........................lambda=2, updater=shotgun; total time=   1.8s\n",
      "[CV] END ..........................lambda=2, updater=shotgun; total time=   1.7s\n",
      "[CV] END ....................lambda=2, updater=coord_descent; total time=   1.9s\n",
      "[CV] END ....................lambda=2, updater=coord_descent; total time=   1.8s\n",
      "[CV] END ....................lambda=2, updater=coord_descent; total time=   1.9s\n",
      "[CV] END ..........................lambda=4, updater=shotgun; total time=   1.6s\n",
      "[CV] END ..........................lambda=4, updater=shotgun; total time=   1.6s\n",
      "[CV] END ..........................lambda=4, updater=shotgun; total time=   1.6s\n",
      "[CV] END ....................lambda=4, updater=coord_descent; total time=   1.8s\n",
      "[CV] END ....................lambda=4, updater=coord_descent; total time=   2.0s\n",
      "[CV] END ....................lambda=4, updater=coord_descent; total time=   1.7s\n",
      "[CV] END ..........................lambda=6, updater=shotgun; total time=   1.6s\n",
      "[CV] END ..........................lambda=6, updater=shotgun; total time=   2.6s\n",
      "[CV] END ..........................lambda=6, updater=shotgun; total time=   2.2s\n",
      "[CV] END ....................lambda=6, updater=coord_descent; total time=   2.3s\n",
      "[CV] END ....................lambda=6, updater=coord_descent; total time=   2.4s\n",
      "[CV] END ....................lambda=6, updater=coord_descent; total time=   2.5s\n",
      "RMSE 32.57130063348552\n",
      "параметры данных: lag=8, rolling_mean_size=3\n",
      "Fitting 3 folds for each of 8 candidates, totalling 24 fits\n"
     ]
    },
    {
     "name": "stderr",
     "output_type": "stream",
     "text": [
      "/opt/conda/lib/python3.9/site-packages/sklearn/model_selection/_search.py:285: UserWarning: The total space of parameters 8 is smaller than n_iter=10. Running 8 iterations. For exhaustive searches, use GridSearchCV.\n",
      "  warnings.warn(\n"
     ]
    },
    {
     "name": "stdout",
     "output_type": "stream",
     "text": [
      "[CV] END ..........................lambda=0, updater=shotgun; total time=   1.7s\n",
      "[CV] END ..........................lambda=0, updater=shotgun; total time=   1.9s\n",
      "[CV] END ..........................lambda=0, updater=shotgun; total time=   1.7s\n",
      "[CV] END ....................lambda=0, updater=coord_descent; total time=   1.9s\n",
      "[CV] END ....................lambda=0, updater=coord_descent; total time=   3.7s\n",
      "[CV] END ....................lambda=0, updater=coord_descent; total time=   2.6s\n",
      "[CV] END ..........................lambda=2, updater=shotgun; total time=   1.6s\n",
      "[CV] END ..........................lambda=2, updater=shotgun; total time=   3.0s\n",
      "[CV] END ..........................lambda=2, updater=shotgun; total time=   2.0s\n",
      "[CV] END ....................lambda=2, updater=coord_descent; total time=   1.9s\n",
      "[CV] END ....................lambda=2, updater=coord_descent; total time=   2.2s\n",
      "[CV] END ....................lambda=2, updater=coord_descent; total time=   1.7s\n",
      "[CV] END ..........................lambda=4, updater=shotgun; total time=   1.6s\n",
      "[CV] END ..........................lambda=4, updater=shotgun; total time=   1.7s\n",
      "[CV] END ..........................lambda=4, updater=shotgun; total time=   1.9s\n",
      "[CV] END ....................lambda=4, updater=coord_descent; total time=   2.0s\n",
      "[CV] END ....................lambda=4, updater=coord_descent; total time=   1.6s\n",
      "[CV] END ....................lambda=4, updater=coord_descent; total time=   1.6s\n",
      "[CV] END ..........................lambda=6, updater=shotgun; total time=   1.7s\n",
      "[CV] END ..........................lambda=6, updater=shotgun; total time=   1.6s\n",
      "[CV] END ..........................lambda=6, updater=shotgun; total time=   1.8s\n",
      "[CV] END ....................lambda=6, updater=coord_descent; total time=   1.6s\n",
      "[CV] END ....................lambda=6, updater=coord_descent; total time=   1.7s\n",
      "[CV] END ....................lambda=6, updater=coord_descent; total time=   1.7s\n",
      "RMSE 32.56770600569954\n",
      "параметры данных: lag=8, rolling_mean_size=4\n",
      "Fitting 3 folds for each of 8 candidates, totalling 24 fits\n"
     ]
    },
    {
     "name": "stderr",
     "output_type": "stream",
     "text": [
      "/opt/conda/lib/python3.9/site-packages/sklearn/model_selection/_search.py:285: UserWarning: The total space of parameters 8 is smaller than n_iter=10. Running 8 iterations. For exhaustive searches, use GridSearchCV.\n",
      "  warnings.warn(\n"
     ]
    },
    {
     "name": "stdout",
     "output_type": "stream",
     "text": [
      "[CV] END ..........................lambda=0, updater=shotgun; total time=   1.8s\n",
      "[CV] END ..........................lambda=0, updater=shotgun; total time=   1.8s\n",
      "[CV] END ..........................lambda=0, updater=shotgun; total time=   2.8s\n",
      "[CV] END ....................lambda=0, updater=coord_descent; total time=   1.6s\n",
      "[CV] END ....................lambda=0, updater=coord_descent; total time=   1.8s\n",
      "[CV] END ....................lambda=0, updater=coord_descent; total time=   1.8s\n",
      "[CV] END ..........................lambda=2, updater=shotgun; total time=   1.8s\n",
      "[CV] END ..........................lambda=2, updater=shotgun; total time=   1.5s\n",
      "[CV] END ..........................lambda=2, updater=shotgun; total time=   2.6s\n",
      "[CV] END ....................lambda=2, updater=coord_descent; total time=   2.8s\n",
      "[CV] END ....................lambda=2, updater=coord_descent; total time=   2.0s\n",
      "[CV] END ....................lambda=2, updater=coord_descent; total time=   1.8s\n",
      "[CV] END ..........................lambda=4, updater=shotgun; total time=   1.7s\n",
      "[CV] END ..........................lambda=4, updater=shotgun; total time=   1.7s\n",
      "[CV] END ..........................lambda=4, updater=shotgun; total time=   1.8s\n",
      "[CV] END ....................lambda=4, updater=coord_descent; total time=   1.6s\n",
      "[CV] END ....................lambda=4, updater=coord_descent; total time=   3.0s\n",
      "[CV] END ....................lambda=4, updater=coord_descent; total time=   2.4s\n",
      "[CV] END ..........................lambda=6, updater=shotgun; total time=   1.7s\n",
      "[CV] END ..........................lambda=6, updater=shotgun; total time=   1.7s\n",
      "[CV] END ..........................lambda=6, updater=shotgun; total time=   1.9s\n",
      "[CV] END ....................lambda=6, updater=coord_descent; total time=   1.8s\n",
      "[CV] END ....................lambda=6, updater=coord_descent; total time=   1.7s\n",
      "[CV] END ....................lambda=6, updater=coord_descent; total time=   2.1s\n",
      "RMSE 32.5663496627898\n",
      "параметры данных: lag=8, rolling_mean_size=5\n",
      "Fitting 3 folds for each of 8 candidates, totalling 24 fits\n"
     ]
    },
    {
     "name": "stderr",
     "output_type": "stream",
     "text": [
      "/opt/conda/lib/python3.9/site-packages/sklearn/model_selection/_search.py:285: UserWarning: The total space of parameters 8 is smaller than n_iter=10. Running 8 iterations. For exhaustive searches, use GridSearchCV.\n",
      "  warnings.warn(\n"
     ]
    },
    {
     "name": "stdout",
     "output_type": "stream",
     "text": [
      "[CV] END ..........................lambda=0, updater=shotgun; total time=   1.7s\n",
      "[CV] END ..........................lambda=0, updater=shotgun; total time=   2.0s\n",
      "[CV] END ..........................lambda=0, updater=shotgun; total time=   1.8s\n",
      "[CV] END ....................lambda=0, updater=coord_descent; total time=   1.6s\n",
      "[CV] END ....................lambda=0, updater=coord_descent; total time=   1.8s\n",
      "[CV] END ....................lambda=0, updater=coord_descent; total time=   1.9s\n",
      "[CV] END ..........................lambda=2, updater=shotgun; total time=   2.0s\n",
      "[CV] END ..........................lambda=2, updater=shotgun; total time=   1.7s\n",
      "[CV] END ..........................lambda=2, updater=shotgun; total time=   2.3s\n",
      "[CV] END ....................lambda=2, updater=coord_descent; total time=   1.8s\n",
      "[CV] END ....................lambda=2, updater=coord_descent; total time=   1.8s\n",
      "[CV] END ....................lambda=2, updater=coord_descent; total time=   1.9s\n",
      "[CV] END ..........................lambda=4, updater=shotgun; total time=   1.9s\n",
      "[CV] END ..........................lambda=4, updater=shotgun; total time=   1.6s\n",
      "[CV] END ..........................lambda=4, updater=shotgun; total time=   1.9s\n",
      "[CV] END ....................lambda=4, updater=coord_descent; total time=   2.1s\n",
      "[CV] END ....................lambda=4, updater=coord_descent; total time=   2.1s\n",
      "[CV] END ....................lambda=4, updater=coord_descent; total time=   2.0s\n",
      "[CV] END ..........................lambda=6, updater=shotgun; total time=   1.7s\n",
      "[CV] END ..........................lambda=6, updater=shotgun; total time=   1.6s\n",
      "[CV] END ..........................lambda=6, updater=shotgun; total time=   2.8s\n",
      "[CV] END ....................lambda=6, updater=coord_descent; total time=   1.9s\n",
      "[CV] END ....................lambda=6, updater=coord_descent; total time=   1.9s\n",
      "[CV] END ....................lambda=6, updater=coord_descent; total time=   3.2s\n",
      "RMSE 32.564348725713465\n",
      "параметры данных: lag=8, rolling_mean_size=6\n",
      "Fitting 3 folds for each of 8 candidates, totalling 24 fits\n"
     ]
    },
    {
     "name": "stderr",
     "output_type": "stream",
     "text": [
      "/opt/conda/lib/python3.9/site-packages/sklearn/model_selection/_search.py:285: UserWarning: The total space of parameters 8 is smaller than n_iter=10. Running 8 iterations. For exhaustive searches, use GridSearchCV.\n",
      "  warnings.warn(\n"
     ]
    },
    {
     "name": "stdout",
     "output_type": "stream",
     "text": [
      "[CV] END ..........................lambda=0, updater=shotgun; total time=   1.9s\n",
      "[CV] END ..........................lambda=0, updater=shotgun; total time=   2.0s\n",
      "[CV] END ..........................lambda=0, updater=shotgun; total time=   1.8s\n",
      "[CV] END ....................lambda=0, updater=coord_descent; total time=   2.6s\n",
      "[CV] END ....................lambda=0, updater=coord_descent; total time=   1.9s\n",
      "[CV] END ....................lambda=0, updater=coord_descent; total time=   1.9s\n",
      "[CV] END ..........................lambda=2, updater=shotgun; total time=   2.0s\n",
      "[CV] END ..........................lambda=2, updater=shotgun; total time=   1.7s\n",
      "[CV] END ..........................lambda=2, updater=shotgun; total time=   1.8s\n",
      "[CV] END ....................lambda=2, updater=coord_descent; total time=   1.9s\n",
      "[CV] END ....................lambda=2, updater=coord_descent; total time=   3.7s\n",
      "[CV] END ....................lambda=2, updater=coord_descent; total time=   2.0s\n",
      "[CV] END ..........................lambda=4, updater=shotgun; total time=   2.8s\n",
      "[CV] END ..........................lambda=4, updater=shotgun; total time=   6.6s\n",
      "[CV] END ..........................lambda=4, updater=shotgun; total time=   2.4s\n",
      "[CV] END ....................lambda=4, updater=coord_descent; total time=   2.0s\n",
      "[CV] END ....................lambda=4, updater=coord_descent; total time=   3.6s\n",
      "[CV] END ....................lambda=4, updater=coord_descent; total time=   2.8s\n",
      "[CV] END ..........................lambda=6, updater=shotgun; total time=   1.6s\n",
      "[CV] END ..........................lambda=6, updater=shotgun; total time=   1.6s\n",
      "[CV] END ..........................lambda=6, updater=shotgun; total time=   1.6s\n",
      "[CV] END ....................lambda=6, updater=coord_descent; total time=   1.6s\n",
      "[CV] END ....................lambda=6, updater=coord_descent; total time=   2.1s\n",
      "[CV] END ....................lambda=6, updater=coord_descent; total time=   2.2s\n",
      "RMSE 32.56359867237448\n",
      "параметры данных: lag=8, rolling_mean_size=7\n",
      "Fitting 3 folds for each of 8 candidates, totalling 24 fits\n"
     ]
    },
    {
     "name": "stderr",
     "output_type": "stream",
     "text": [
      "/opt/conda/lib/python3.9/site-packages/sklearn/model_selection/_search.py:285: UserWarning: The total space of parameters 8 is smaller than n_iter=10. Running 8 iterations. For exhaustive searches, use GridSearchCV.\n",
      "  warnings.warn(\n"
     ]
    },
    {
     "name": "stdout",
     "output_type": "stream",
     "text": [
      "[CV] END ..........................lambda=0, updater=shotgun; total time=   1.7s\n",
      "[CV] END ..........................lambda=0, updater=shotgun; total time=   1.7s\n",
      "[CV] END ..........................lambda=0, updater=shotgun; total time=   2.0s\n",
      "[CV] END ....................lambda=0, updater=coord_descent; total time=   1.6s\n",
      "[CV] END ....................lambda=0, updater=coord_descent; total time=   1.8s\n",
      "[CV] END ....................lambda=0, updater=coord_descent; total time=   1.6s\n",
      "[CV] END ..........................lambda=2, updater=shotgun; total time=   1.5s\n",
      "[CV] END ..........................lambda=2, updater=shotgun; total time=   1.6s\n",
      "[CV] END ..........................lambda=2, updater=shotgun; total time=   1.9s\n",
      "[CV] END ....................lambda=2, updater=coord_descent; total time=   1.6s\n",
      "[CV] END ....................lambda=2, updater=coord_descent; total time=   1.8s\n",
      "[CV] END ....................lambda=2, updater=coord_descent; total time=   1.6s\n",
      "[CV] END ..........................lambda=4, updater=shotgun; total time=   1.6s\n",
      "[CV] END ..........................lambda=4, updater=shotgun; total time=   1.6s\n",
      "[CV] END ..........................lambda=4, updater=shotgun; total time=   2.0s\n",
      "[CV] END ....................lambda=4, updater=coord_descent; total time=   1.8s\n",
      "[CV] END ....................lambda=4, updater=coord_descent; total time=   2.4s\n",
      "[CV] END ....................lambda=4, updater=coord_descent; total time=   1.8s\n",
      "[CV] END ..........................lambda=6, updater=shotgun; total time=   2.9s\n",
      "[CV] END ..........................lambda=6, updater=shotgun; total time=   1.9s\n",
      "[CV] END ..........................lambda=6, updater=shotgun; total time=   1.8s\n",
      "[CV] END ....................lambda=6, updater=coord_descent; total time=   1.7s\n",
      "[CV] END ....................lambda=6, updater=coord_descent; total time=   1.8s\n",
      "[CV] END ....................lambda=6, updater=coord_descent; total time=   2.0s\n",
      "RMSE 32.562889701448015\n",
      "параметры данных: lag=8, rolling_mean_size=8\n",
      "Fitting 3 folds for each of 8 candidates, totalling 24 fits\n"
     ]
    },
    {
     "name": "stderr",
     "output_type": "stream",
     "text": [
      "/opt/conda/lib/python3.9/site-packages/sklearn/model_selection/_search.py:285: UserWarning: The total space of parameters 8 is smaller than n_iter=10. Running 8 iterations. For exhaustive searches, use GridSearchCV.\n",
      "  warnings.warn(\n"
     ]
    },
    {
     "name": "stdout",
     "output_type": "stream",
     "text": [
      "[CV] END ..........................lambda=0, updater=shotgun; total time=   1.9s\n",
      "[CV] END ..........................lambda=0, updater=shotgun; total time=   1.8s\n",
      "[CV] END ..........................lambda=0, updater=shotgun; total time=   2.0s\n",
      "[CV] END ....................lambda=0, updater=coord_descent; total time=   3.1s\n",
      "[CV] END ....................lambda=0, updater=coord_descent; total time=   1.9s\n",
      "[CV] END ....................lambda=0, updater=coord_descent; total time=   2.3s\n",
      "[CV] END ..........................lambda=2, updater=shotgun; total time=   1.7s\n",
      "[CV] END ..........................lambda=2, updater=shotgun; total time=   1.6s\n",
      "[CV] END ..........................lambda=2, updater=shotgun; total time=   1.7s\n",
      "[CV] END ....................lambda=2, updater=coord_descent; total time=   2.0s\n",
      "[CV] END ....................lambda=2, updater=coord_descent; total time=   1.9s\n",
      "[CV] END ....................lambda=2, updater=coord_descent; total time=   1.8s\n",
      "[CV] END ..........................lambda=4, updater=shotgun; total time=   1.5s\n",
      "[CV] END ..........................lambda=4, updater=shotgun; total time=   2.0s\n",
      "[CV] END ..........................lambda=4, updater=shotgun; total time=   1.6s\n",
      "[CV] END ....................lambda=4, updater=coord_descent; total time=   2.2s\n",
      "[CV] END ....................lambda=4, updater=coord_descent; total time=   1.8s\n",
      "[CV] END ....................lambda=4, updater=coord_descent; total time=   1.7s\n",
      "[CV] END ..........................lambda=6, updater=shotgun; total time=   1.5s\n",
      "[CV] END ..........................lambda=6, updater=shotgun; total time=   1.7s\n",
      "[CV] END ..........................lambda=6, updater=shotgun; total time=   2.3s\n",
      "[CV] END ....................lambda=6, updater=coord_descent; total time=   2.3s\n",
      "[CV] END ....................lambda=6, updater=coord_descent; total time=   3.8s\n",
      "[CV] END ....................lambda=6, updater=coord_descent; total time=   1.9s\n",
      "RMSE 32.54838786510264\n",
      "параметры данных: lag=8, rolling_mean_size=9\n",
      "Fitting 3 folds for each of 8 candidates, totalling 24 fits\n"
     ]
    },
    {
     "name": "stderr",
     "output_type": "stream",
     "text": [
      "/opt/conda/lib/python3.9/site-packages/sklearn/model_selection/_search.py:285: UserWarning: The total space of parameters 8 is smaller than n_iter=10. Running 8 iterations. For exhaustive searches, use GridSearchCV.\n",
      "  warnings.warn(\n"
     ]
    },
    {
     "name": "stdout",
     "output_type": "stream",
     "text": [
      "[CV] END ..........................lambda=0, updater=shotgun; total time=   1.7s\n",
      "[CV] END ..........................lambda=0, updater=shotgun; total time=   1.6s\n",
      "[CV] END ..........................lambda=0, updater=shotgun; total time=   1.8s\n",
      "[CV] END ....................lambda=0, updater=coord_descent; total time=   2.0s\n",
      "[CV] END ....................lambda=0, updater=coord_descent; total time=   2.0s\n",
      "[CV] END ....................lambda=0, updater=coord_descent; total time=   1.5s\n",
      "[CV] END ..........................lambda=2, updater=shotgun; total time=   1.7s\n",
      "[CV] END ..........................lambda=2, updater=shotgun; total time=   1.5s\n",
      "[CV] END ..........................lambda=2, updater=shotgun; total time=   1.6s\n",
      "[CV] END ....................lambda=2, updater=coord_descent; total time=   1.9s\n",
      "[CV] END ....................lambda=2, updater=coord_descent; total time=   2.3s\n",
      "[CV] END ....................lambda=2, updater=coord_descent; total time=   2.0s\n",
      "[CV] END ..........................lambda=4, updater=shotgun; total time=   1.7s\n",
      "[CV] END ..........................lambda=4, updater=shotgun; total time=   1.8s\n",
      "[CV] END ..........................lambda=4, updater=shotgun; total time=   2.2s\n",
      "[CV] END ....................lambda=4, updater=coord_descent; total time=   3.4s\n",
      "[CV] END ....................lambda=4, updater=coord_descent; total time=   2.7s\n",
      "[CV] END ....................lambda=4, updater=coord_descent; total time=   2.3s\n",
      "[CV] END ..........................lambda=6, updater=shotgun; total time=   1.8s\n",
      "[CV] END ..........................lambda=6, updater=shotgun; total time=   2.0s\n",
      "[CV] END ..........................lambda=6, updater=shotgun; total time=   1.9s\n",
      "[CV] END ....................lambda=6, updater=coord_descent; total time=   3.7s\n",
      "[CV] END ....................lambda=6, updater=coord_descent; total time=   3.8s\n",
      "[CV] END ....................lambda=6, updater=coord_descent; total time=   2.4s\n"
     ]
    },
    {
     "name": "stderr",
     "output_type": "stream",
     "text": [
      " 80%|████████  | 8/10 [1:09:26<17:15, 517.92s/it]"
     ]
    },
    {
     "name": "stdout",
     "output_type": "stream",
     "text": [
      "RMSE 32.536281262415905\n",
      "параметры данных: lag=8, rolling_mean_size=10\n",
      "Fitting 3 folds for each of 8 candidates, totalling 24 fits\n"
     ]
    },
    {
     "name": "stderr",
     "output_type": "stream",
     "text": [
      "/opt/conda/lib/python3.9/site-packages/sklearn/model_selection/_search.py:285: UserWarning: The total space of parameters 8 is smaller than n_iter=10. Running 8 iterations. For exhaustive searches, use GridSearchCV.\n",
      "  warnings.warn(\n"
     ]
    },
    {
     "name": "stdout",
     "output_type": "stream",
     "text": [
      "[CV] END ..........................lambda=0, updater=shotgun; total time=   1.9s\n",
      "[CV] END ..........................lambda=0, updater=shotgun; total time=   1.7s\n",
      "[CV] END ..........................lambda=0, updater=shotgun; total time=   1.7s\n",
      "[CV] END ....................lambda=0, updater=coord_descent; total time=   2.4s\n",
      "[CV] END ....................lambda=0, updater=coord_descent; total time=   3.1s\n",
      "[CV] END ....................lambda=0, updater=coord_descent; total time=   2.3s\n",
      "[CV] END ..........................lambda=2, updater=shotgun; total time=   2.0s\n",
      "[CV] END ..........................lambda=2, updater=shotgun; total time=   1.8s\n",
      "[CV] END ..........................lambda=2, updater=shotgun; total time=   3.1s\n",
      "[CV] END ....................lambda=2, updater=coord_descent; total time=   2.6s\n",
      "[CV] END ....................lambda=2, updater=coord_descent; total time=   6.9s\n",
      "[CV] END ....................lambda=2, updater=coord_descent; total time=   1.9s\n",
      "[CV] END ..........................lambda=4, updater=shotgun; total time=   1.9s\n",
      "[CV] END ..........................lambda=4, updater=shotgun; total time=   1.6s\n",
      "[CV] END ..........................lambda=4, updater=shotgun; total time=   1.6s\n",
      "[CV] END ....................lambda=4, updater=coord_descent; total time=   1.9s\n",
      "[CV] END ....................lambda=4, updater=coord_descent; total time=   1.9s\n",
      "[CV] END ....................lambda=4, updater=coord_descent; total time=   1.8s\n",
      "[CV] END ..........................lambda=6, updater=shotgun; total time=   1.7s\n",
      "[CV] END ..........................lambda=6, updater=shotgun; total time=   1.6s\n",
      "[CV] END ..........................lambda=6, updater=shotgun; total time=   1.7s\n",
      "[CV] END ....................lambda=6, updater=coord_descent; total time=   1.9s\n",
      "[CV] END ....................lambda=6, updater=coord_descent; total time=   1.9s\n",
      "[CV] END ....................lambda=6, updater=coord_descent; total time=   2.0s\n",
      "RMSE 32.46163549637375\n",
      "параметры данных: lag=9, rolling_mean_size=1\n",
      "Fitting 3 folds for each of 8 candidates, totalling 24 fits\n"
     ]
    },
    {
     "name": "stderr",
     "output_type": "stream",
     "text": [
      "/opt/conda/lib/python3.9/site-packages/sklearn/model_selection/_search.py:285: UserWarning: The total space of parameters 8 is smaller than n_iter=10. Running 8 iterations. For exhaustive searches, use GridSearchCV.\n",
      "  warnings.warn(\n"
     ]
    },
    {
     "name": "stdout",
     "output_type": "stream",
     "text": [
      "[CV] END ..........................lambda=0, updater=shotgun; total time=   1.7s\n",
      "[CV] END ..........................lambda=0, updater=shotgun; total time=   2.4s\n",
      "[CV] END ..........................lambda=0, updater=shotgun; total time=   1.9s\n",
      "[CV] END ....................lambda=0, updater=coord_descent; total time=   2.9s\n",
      "[CV] END ....................lambda=0, updater=coord_descent; total time=   1.8s\n",
      "[CV] END ....................lambda=0, updater=coord_descent; total time=   1.7s\n",
      "[CV] END ..........................lambda=2, updater=shotgun; total time=   1.8s\n",
      "[CV] END ..........................lambda=2, updater=shotgun; total time=   1.9s\n",
      "[CV] END ..........................lambda=2, updater=shotgun; total time=   2.0s\n",
      "[CV] END ....................lambda=2, updater=coord_descent; total time=   1.7s\n",
      "[CV] END ....................lambda=2, updater=coord_descent; total time=   1.6s\n",
      "[CV] END ....................lambda=2, updater=coord_descent; total time=   1.7s\n",
      "[CV] END ..........................lambda=4, updater=shotgun; total time=   1.7s\n",
      "[CV] END ..........................lambda=4, updater=shotgun; total time=   1.5s\n",
      "[CV] END ..........................lambda=4, updater=shotgun; total time=   1.7s\n",
      "[CV] END ....................lambda=4, updater=coord_descent; total time=   2.0s\n",
      "[CV] END ....................lambda=4, updater=coord_descent; total time=   2.1s\n",
      "[CV] END ....................lambda=4, updater=coord_descent; total time=   1.7s\n",
      "[CV] END ..........................lambda=6, updater=shotgun; total time=   1.8s\n",
      "[CV] END ..........................lambda=6, updater=shotgun; total time=   1.7s\n",
      "[CV] END ..........................lambda=6, updater=shotgun; total time=   1.7s\n",
      "[CV] END ....................lambda=6, updater=coord_descent; total time=   3.4s\n",
      "[CV] END ....................lambda=6, updater=coord_descent; total time=   1.9s\n",
      "[CV] END ....................lambda=6, updater=coord_descent; total time=   1.7s\n",
      "RMSE 32.4588368668774\n",
      "параметры данных: lag=9, rolling_mean_size=2\n",
      "Fitting 3 folds for each of 8 candidates, totalling 24 fits\n"
     ]
    },
    {
     "name": "stderr",
     "output_type": "stream",
     "text": [
      "/opt/conda/lib/python3.9/site-packages/sklearn/model_selection/_search.py:285: UserWarning: The total space of parameters 8 is smaller than n_iter=10. Running 8 iterations. For exhaustive searches, use GridSearchCV.\n",
      "  warnings.warn(\n"
     ]
    },
    {
     "name": "stdout",
     "output_type": "stream",
     "text": [
      "[CV] END ..........................lambda=0, updater=shotgun; total time=   1.7s\n",
      "[CV] END ..........................lambda=0, updater=shotgun; total time=   1.6s\n",
      "[CV] END ..........................lambda=0, updater=shotgun; total time=   1.7s\n",
      "[CV] END ....................lambda=0, updater=coord_descent; total time=   1.8s\n",
      "[CV] END ....................lambda=0, updater=coord_descent; total time=   2.2s\n",
      "[CV] END ....................lambda=0, updater=coord_descent; total time=   2.1s\n",
      "[CV] END ..........................lambda=2, updater=shotgun; total time=   2.3s\n",
      "[CV] END ..........................lambda=2, updater=shotgun; total time=   1.6s\n",
      "[CV] END ..........................lambda=2, updater=shotgun; total time=   1.7s\n",
      "[CV] END ....................lambda=2, updater=coord_descent; total time=   1.9s\n",
      "[CV] END ....................lambda=2, updater=coord_descent; total time=   2.1s\n",
      "[CV] END ....................lambda=2, updater=coord_descent; total time=   3.5s\n",
      "[CV] END ..........................lambda=4, updater=shotgun; total time=   1.8s\n",
      "[CV] END ..........................lambda=4, updater=shotgun; total time=   2.2s\n",
      "[CV] END ..........................lambda=4, updater=shotgun; total time=   1.8s\n",
      "[CV] END ....................lambda=4, updater=coord_descent; total time=   1.9s\n",
      "[CV] END ....................lambda=4, updater=coord_descent; total time=   1.8s\n",
      "[CV] END ....................lambda=4, updater=coord_descent; total time=   1.8s\n",
      "[CV] END ..........................lambda=6, updater=shotgun; total time=   2.6s\n",
      "[CV] END ..........................lambda=6, updater=shotgun; total time=   1.7s\n",
      "[CV] END ..........................lambda=6, updater=shotgun; total time=   2.2s\n",
      "[CV] END ....................lambda=6, updater=coord_descent; total time=   1.8s\n",
      "[CV] END ....................lambda=6, updater=coord_descent; total time=   1.7s\n",
      "[CV] END ....................lambda=6, updater=coord_descent; total time=   1.8s\n",
      "RMSE 32.4542487429818\n",
      "параметры данных: lag=9, rolling_mean_size=3\n",
      "Fitting 3 folds for each of 8 candidates, totalling 24 fits\n"
     ]
    },
    {
     "name": "stderr",
     "output_type": "stream",
     "text": [
      "/opt/conda/lib/python3.9/site-packages/sklearn/model_selection/_search.py:285: UserWarning: The total space of parameters 8 is smaller than n_iter=10. Running 8 iterations. For exhaustive searches, use GridSearchCV.\n",
      "  warnings.warn(\n"
     ]
    },
    {
     "name": "stdout",
     "output_type": "stream",
     "text": [
      "[CV] END ..........................lambda=0, updater=shotgun; total time=   1.7s\n",
      "[CV] END ..........................lambda=0, updater=shotgun; total time=   1.7s\n",
      "[CV] END ..........................lambda=0, updater=shotgun; total time=   1.6s\n",
      "[CV] END ....................lambda=0, updater=coord_descent; total time=   3.1s\n",
      "[CV] END ....................lambda=0, updater=coord_descent; total time=   2.0s\n",
      "[CV] END ....................lambda=0, updater=coord_descent; total time=   1.8s\n",
      "[CV] END ..........................lambda=2, updater=shotgun; total time=   1.5s\n",
      "[CV] END ..........................lambda=2, updater=shotgun; total time=   1.6s\n",
      "[CV] END ..........................lambda=2, updater=shotgun; total time=   1.6s\n",
      "[CV] END ....................lambda=2, updater=coord_descent; total time=   1.8s\n",
      "[CV] END ....................lambda=2, updater=coord_descent; total time=   2.2s\n",
      "[CV] END ....................lambda=2, updater=coord_descent; total time=   2.1s\n",
      "[CV] END ..........................lambda=4, updater=shotgun; total time=   1.8s\n",
      "[CV] END ..........................lambda=4, updater=shotgun; total time=   1.6s\n",
      "[CV] END ..........................lambda=4, updater=shotgun; total time=   1.7s\n",
      "[CV] END ....................lambda=4, updater=coord_descent; total time=   1.9s\n",
      "[CV] END ....................lambda=4, updater=coord_descent; total time=   2.9s\n",
      "[CV] END ....................lambda=4, updater=coord_descent; total time=   1.9s\n",
      "[CV] END ..........................lambda=6, updater=shotgun; total time=   1.6s\n",
      "[CV] END ..........................lambda=6, updater=shotgun; total time=   1.9s\n",
      "[CV] END ..........................lambda=6, updater=shotgun; total time=   1.9s\n",
      "[CV] END ....................lambda=6, updater=coord_descent; total time=   1.8s\n",
      "[CV] END ....................lambda=6, updater=coord_descent; total time=   1.8s\n",
      "[CV] END ....................lambda=6, updater=coord_descent; total time=   1.9s\n",
      "RMSE 32.44951391713012\n",
      "параметры данных: lag=9, rolling_mean_size=4\n",
      "Fitting 3 folds for each of 8 candidates, totalling 24 fits\n"
     ]
    },
    {
     "name": "stderr",
     "output_type": "stream",
     "text": [
      "/opt/conda/lib/python3.9/site-packages/sklearn/model_selection/_search.py:285: UserWarning: The total space of parameters 8 is smaller than n_iter=10. Running 8 iterations. For exhaustive searches, use GridSearchCV.\n",
      "  warnings.warn(\n"
     ]
    },
    {
     "name": "stdout",
     "output_type": "stream",
     "text": [
      "[CV] END ..........................lambda=0, updater=shotgun; total time=   1.6s\n",
      "[CV] END ..........................lambda=0, updater=shotgun; total time=   1.9s\n",
      "[CV] END ..........................lambda=0, updater=shotgun; total time=   2.2s\n",
      "[CV] END ....................lambda=0, updater=coord_descent; total time=   1.7s\n",
      "[CV] END ....................lambda=0, updater=coord_descent; total time=   1.7s\n",
      "[CV] END ....................lambda=0, updater=coord_descent; total time=   1.9s\n",
      "[CV] END ..........................lambda=2, updater=shotgun; total time=   1.8s\n",
      "[CV] END ..........................lambda=2, updater=shotgun; total time=   2.1s\n",
      "[CV] END ..........................lambda=2, updater=shotgun; total time=   1.6s\n",
      "[CV] END ....................lambda=2, updater=coord_descent; total time=   3.2s\n",
      "[CV] END ....................lambda=2, updater=coord_descent; total time=   1.7s\n",
      "[CV] END ....................lambda=2, updater=coord_descent; total time=   1.9s\n",
      "[CV] END ..........................lambda=4, updater=shotgun; total time=   1.9s\n",
      "[CV] END ..........................lambda=4, updater=shotgun; total time=   1.6s\n",
      "[CV] END ..........................lambda=4, updater=shotgun; total time=   1.6s\n",
      "[CV] END ....................lambda=4, updater=coord_descent; total time=   1.7s\n",
      "[CV] END ....................lambda=4, updater=coord_descent; total time=   2.2s\n",
      "[CV] END ....................lambda=4, updater=coord_descent; total time=   1.7s\n",
      "[CV] END ..........................lambda=6, updater=shotgun; total time=   2.4s\n",
      "[CV] END ..........................lambda=6, updater=shotgun; total time=   1.7s\n",
      "[CV] END ..........................lambda=6, updater=shotgun; total time=   1.6s\n",
      "[CV] END ....................lambda=6, updater=coord_descent; total time=   1.7s\n",
      "[CV] END ....................lambda=6, updater=coord_descent; total time=   1.9s\n",
      "[CV] END ....................lambda=6, updater=coord_descent; total time=   1.9s\n",
      "RMSE 32.44740643967062\n",
      "параметры данных: lag=9, rolling_mean_size=5\n",
      "Fitting 3 folds for each of 8 candidates, totalling 24 fits\n"
     ]
    },
    {
     "name": "stderr",
     "output_type": "stream",
     "text": [
      "/opt/conda/lib/python3.9/site-packages/sklearn/model_selection/_search.py:285: UserWarning: The total space of parameters 8 is smaller than n_iter=10. Running 8 iterations. For exhaustive searches, use GridSearchCV.\n",
      "  warnings.warn(\n"
     ]
    },
    {
     "name": "stdout",
     "output_type": "stream",
     "text": [
      "[CV] END ..........................lambda=0, updater=shotgun; total time=   1.9s\n",
      "[CV] END ..........................lambda=0, updater=shotgun; total time=   2.1s\n",
      "[CV] END ..........................lambda=0, updater=shotgun; total time=   2.0s\n",
      "[CV] END ....................lambda=0, updater=coord_descent; total time=   4.8s\n",
      "[CV] END ....................lambda=0, updater=coord_descent; total time=  13.9s\n",
      "[CV] END ....................lambda=0, updater=coord_descent; total time=   2.4s\n",
      "[CV] END ..........................lambda=2, updater=shotgun; total time=   1.7s\n",
      "[CV] END ..........................lambda=2, updater=shotgun; total time=   1.7s\n",
      "[CV] END ..........................lambda=2, updater=shotgun; total time=   1.9s\n",
      "[CV] END ....................lambda=2, updater=coord_descent; total time=   1.8s\n",
      "[CV] END ....................lambda=2, updater=coord_descent; total time=   1.9s\n",
      "[CV] END ....................lambda=2, updater=coord_descent; total time=   1.8s\n",
      "[CV] END ..........................lambda=4, updater=shotgun; total time=   1.7s\n",
      "[CV] END ..........................lambda=4, updater=shotgun; total time=   1.8s\n",
      "[CV] END ..........................lambda=4, updater=shotgun; total time=   1.7s\n",
      "[CV] END ....................lambda=4, updater=coord_descent; total time=   2.0s\n",
      "[CV] END ....................lambda=4, updater=coord_descent; total time=   1.9s\n",
      "[CV] END ....................lambda=4, updater=coord_descent; total time=   3.2s\n",
      "[CV] END ..........................lambda=6, updater=shotgun; total time=   2.6s\n",
      "[CV] END ..........................lambda=6, updater=shotgun; total time=   1.6s\n",
      "[CV] END ..........................lambda=6, updater=shotgun; total time=   1.9s\n",
      "[CV] END ....................lambda=6, updater=coord_descent; total time=   1.9s\n",
      "[CV] END ....................lambda=6, updater=coord_descent; total time=   2.1s\n",
      "[CV] END ....................lambda=6, updater=coord_descent; total time=   2.7s\n",
      "RMSE 32.44424110524434\n",
      "параметры данных: lag=9, rolling_mean_size=6\n",
      "Fitting 3 folds for each of 8 candidates, totalling 24 fits\n"
     ]
    },
    {
     "name": "stderr",
     "output_type": "stream",
     "text": [
      "/opt/conda/lib/python3.9/site-packages/sklearn/model_selection/_search.py:285: UserWarning: The total space of parameters 8 is smaller than n_iter=10. Running 8 iterations. For exhaustive searches, use GridSearchCV.\n",
      "  warnings.warn(\n"
     ]
    },
    {
     "name": "stdout",
     "output_type": "stream",
     "text": [
      "[CV] END ..........................lambda=0, updater=shotgun; total time=   1.6s\n",
      "[CV] END ..........................lambda=0, updater=shotgun; total time=   1.6s\n",
      "[CV] END ..........................lambda=0, updater=shotgun; total time=   1.9s\n",
      "[CV] END ....................lambda=0, updater=coord_descent; total time=   1.7s\n",
      "[CV] END ....................lambda=0, updater=coord_descent; total time=   1.8s\n",
      "[CV] END ....................lambda=0, updater=coord_descent; total time=   1.9s\n",
      "[CV] END ..........................lambda=2, updater=shotgun; total time=   1.9s\n",
      "[CV] END ..........................lambda=2, updater=shotgun; total time=   2.1s\n",
      "[CV] END ..........................lambda=2, updater=shotgun; total time=   1.9s\n",
      "[CV] END ....................lambda=2, updater=coord_descent; total time=   1.9s\n",
      "[CV] END ....................lambda=2, updater=coord_descent; total time=   1.9s\n",
      "[CV] END ....................lambda=2, updater=coord_descent; total time=   1.9s\n",
      "[CV] END ..........................lambda=4, updater=shotgun; total time=   1.5s\n",
      "[CV] END ..........................lambda=4, updater=shotgun; total time=   1.9s\n",
      "[CV] END ..........................lambda=4, updater=shotgun; total time=   1.7s\n",
      "[CV] END ....................lambda=4, updater=coord_descent; total time=   1.5s\n",
      "[CV] END ....................lambda=4, updater=coord_descent; total time=   1.9s\n",
      "[CV] END ....................lambda=4, updater=coord_descent; total time=   1.8s\n",
      "[CV] END ..........................lambda=6, updater=shotgun; total time=   1.6s\n",
      "[CV] END ..........................lambda=6, updater=shotgun; total time=   1.9s\n",
      "[CV] END ..........................lambda=6, updater=shotgun; total time=   1.7s\n",
      "[CV] END ....................lambda=6, updater=coord_descent; total time=   2.1s\n",
      "[CV] END ....................lambda=6, updater=coord_descent; total time=   2.0s\n",
      "[CV] END ....................lambda=6, updater=coord_descent; total time=   2.5s\n",
      "RMSE 32.44323737342156\n",
      "параметры данных: lag=9, rolling_mean_size=7\n",
      "Fitting 3 folds for each of 8 candidates, totalling 24 fits\n"
     ]
    },
    {
     "name": "stderr",
     "output_type": "stream",
     "text": [
      "/opt/conda/lib/python3.9/site-packages/sklearn/model_selection/_search.py:285: UserWarning: The total space of parameters 8 is smaller than n_iter=10. Running 8 iterations. For exhaustive searches, use GridSearchCV.\n",
      "  warnings.warn(\n"
     ]
    },
    {
     "name": "stdout",
     "output_type": "stream",
     "text": [
      "[CV] END ..........................lambda=0, updater=shotgun; total time=   2.3s\n",
      "[CV] END ..........................lambda=0, updater=shotgun; total time=   1.8s\n",
      "[CV] END ..........................lambda=0, updater=shotgun; total time=   1.9s\n",
      "[CV] END ....................lambda=0, updater=coord_descent; total time=   1.7s\n",
      "[CV] END ....................lambda=0, updater=coord_descent; total time=   2.7s\n",
      "[CV] END ....................lambda=0, updater=coord_descent; total time=   2.0s\n",
      "[CV] END ..........................lambda=2, updater=shotgun; total time=   2.0s\n",
      "[CV] END ..........................lambda=2, updater=shotgun; total time=   1.8s\n",
      "[CV] END ..........................lambda=2, updater=shotgun; total time=   1.7s\n",
      "[CV] END ....................lambda=2, updater=coord_descent; total time=   2.0s\n",
      "[CV] END ....................lambda=2, updater=coord_descent; total time=   3.0s\n",
      "[CV] END ....................lambda=2, updater=coord_descent; total time=   1.9s\n",
      "[CV] END ..........................lambda=4, updater=shotgun; total time=   2.1s\n",
      "[CV] END ..........................lambda=4, updater=shotgun; total time=   2.1s\n",
      "[CV] END ..........................lambda=4, updater=shotgun; total time=   1.7s\n",
      "[CV] END ....................lambda=4, updater=coord_descent; total time=   2.0s\n",
      "[CV] END ....................lambda=4, updater=coord_descent; total time=   1.7s\n",
      "[CV] END ....................lambda=4, updater=coord_descent; total time=   2.8s\n",
      "[CV] END ..........................lambda=6, updater=shotgun; total time=   1.7s\n",
      "[CV] END ..........................lambda=6, updater=shotgun; total time=   3.3s\n",
      "[CV] END ..........................lambda=6, updater=shotgun; total time=   1.8s\n",
      "[CV] END ....................lambda=6, updater=coord_descent; total time=   4.0s\n",
      "[CV] END ....................lambda=6, updater=coord_descent; total time=   2.5s\n",
      "[CV] END ....................lambda=6, updater=coord_descent; total time=   2.4s\n",
      "RMSE 32.443313749132585\n",
      "параметры данных: lag=9, rolling_mean_size=8\n",
      "Fitting 3 folds for each of 8 candidates, totalling 24 fits\n"
     ]
    },
    {
     "name": "stderr",
     "output_type": "stream",
     "text": [
      "/opt/conda/lib/python3.9/site-packages/sklearn/model_selection/_search.py:285: UserWarning: The total space of parameters 8 is smaller than n_iter=10. Running 8 iterations. For exhaustive searches, use GridSearchCV.\n",
      "  warnings.warn(\n"
     ]
    },
    {
     "name": "stdout",
     "output_type": "stream",
     "text": [
      "[CV] END ..........................lambda=0, updater=shotgun; total time=   1.9s\n",
      "[CV] END ..........................lambda=0, updater=shotgun; total time=   1.7s\n",
      "[CV] END ..........................lambda=0, updater=shotgun; total time=   1.8s\n",
      "[CV] END ....................lambda=0, updater=coord_descent; total time=   1.8s\n",
      "[CV] END ....................lambda=0, updater=coord_descent; total time=   2.1s\n",
      "[CV] END ....................lambda=0, updater=coord_descent; total time=   1.8s\n",
      "[CV] END ..........................lambda=2, updater=shotgun; total time=   1.7s\n",
      "[CV] END ..........................lambda=2, updater=shotgun; total time=   7.2s\n",
      "[CV] END ..........................lambda=2, updater=shotgun; total time=  11.0s\n",
      "[CV] END ....................lambda=2, updater=coord_descent; total time=  11.9s\n",
      "[CV] END ....................lambda=2, updater=coord_descent; total time=   1.6s\n",
      "[CV] END ....................lambda=2, updater=coord_descent; total time=   1.6s\n",
      "[CV] END ..........................lambda=4, updater=shotgun; total time=   1.7s\n",
      "[CV] END ..........................lambda=4, updater=shotgun; total time=   2.6s\n",
      "[CV] END ..........................lambda=4, updater=shotgun; total time=   1.5s\n",
      "[CV] END ....................lambda=4, updater=coord_descent; total time=   1.7s\n",
      "[CV] END ....................lambda=4, updater=coord_descent; total time=   1.7s\n",
      "[CV] END ....................lambda=4, updater=coord_descent; total time=   1.9s\n",
      "[CV] END ..........................lambda=6, updater=shotgun; total time=   2.0s\n",
      "[CV] END ..........................lambda=6, updater=shotgun; total time=   2.7s\n",
      "[CV] END ..........................lambda=6, updater=shotgun; total time=   1.8s\n",
      "[CV] END ....................lambda=6, updater=coord_descent; total time=   1.8s\n",
      "[CV] END ....................lambda=6, updater=coord_descent; total time=   1.8s\n",
      "[CV] END ....................lambda=6, updater=coord_descent; total time=   1.9s\n",
      "RMSE 32.44054930086991\n",
      "параметры данных: lag=9, rolling_mean_size=9\n",
      "Fitting 3 folds for each of 8 candidates, totalling 24 fits\n"
     ]
    },
    {
     "name": "stderr",
     "output_type": "stream",
     "text": [
      "/opt/conda/lib/python3.9/site-packages/sklearn/model_selection/_search.py:285: UserWarning: The total space of parameters 8 is smaller than n_iter=10. Running 8 iterations. For exhaustive searches, use GridSearchCV.\n",
      "  warnings.warn(\n"
     ]
    },
    {
     "name": "stdout",
     "output_type": "stream",
     "text": [
      "[CV] END ..........................lambda=0, updater=shotgun; total time=   1.7s\n",
      "[CV] END ..........................lambda=0, updater=shotgun; total time=   2.1s\n",
      "[CV] END ..........................lambda=0, updater=shotgun; total time=   2.1s\n",
      "[CV] END ....................lambda=0, updater=coord_descent; total time=   2.8s\n",
      "[CV] END ....................lambda=0, updater=coord_descent; total time=   1.7s\n",
      "[CV] END ....................lambda=0, updater=coord_descent; total time=   1.7s\n",
      "[CV] END ..........................lambda=2, updater=shotgun; total time=   1.8s\n",
      "[CV] END ..........................lambda=2, updater=shotgun; total time=   2.8s\n",
      "[CV] END ..........................lambda=2, updater=shotgun; total time=   1.9s\n",
      "[CV] END ....................lambda=2, updater=coord_descent; total time=   2.5s\n",
      "[CV] END ....................lambda=2, updater=coord_descent; total time=   1.9s\n",
      "[CV] END ....................lambda=2, updater=coord_descent; total time=   1.8s\n",
      "[CV] END ..........................lambda=4, updater=shotgun; total time=   1.6s\n",
      "[CV] END ..........................lambda=4, updater=shotgun; total time=   1.8s\n",
      "[CV] END ..........................lambda=4, updater=shotgun; total time=   2.1s\n",
      "[CV] END ....................lambda=4, updater=coord_descent; total time=   1.6s\n",
      "[CV] END ....................lambda=4, updater=coord_descent; total time=   2.6s\n",
      "[CV] END ....................lambda=4, updater=coord_descent; total time=   2.1s\n",
      "[CV] END ..........................lambda=6, updater=shotgun; total time=   1.9s\n",
      "[CV] END ..........................lambda=6, updater=shotgun; total time=   1.8s\n",
      "[CV] END ..........................lambda=6, updater=shotgun; total time=   1.8s\n",
      "[CV] END ....................lambda=6, updater=coord_descent; total time=   1.6s\n",
      "[CV] END ....................lambda=6, updater=coord_descent; total time=   2.1s\n",
      "[CV] END ....................lambda=6, updater=coord_descent; total time=   2.0s\n"
     ]
    },
    {
     "name": "stderr",
     "output_type": "stream",
     "text": [
      " 90%|█████████ | 9/10 [1:18:21<08:43, 523.22s/it]"
     ]
    },
    {
     "name": "stdout",
     "output_type": "stream",
     "text": [
      "RMSE 32.42980657848971\n",
      "параметры данных: lag=9, rolling_mean_size=10\n",
      "Fitting 3 folds for each of 8 candidates, totalling 24 fits\n"
     ]
    },
    {
     "name": "stderr",
     "output_type": "stream",
     "text": [
      "/opt/conda/lib/python3.9/site-packages/sklearn/model_selection/_search.py:285: UserWarning: The total space of parameters 8 is smaller than n_iter=10. Running 8 iterations. For exhaustive searches, use GridSearchCV.\n",
      "  warnings.warn(\n"
     ]
    },
    {
     "name": "stdout",
     "output_type": "stream",
     "text": [
      "[CV] END ..........................lambda=0, updater=shotgun; total time=   2.0s\n",
      "[CV] END ..........................lambda=0, updater=shotgun; total time=   1.5s\n",
      "[CV] END ..........................lambda=0, updater=shotgun; total time=   1.7s\n",
      "[CV] END ....................lambda=0, updater=coord_descent; total time=   4.3s\n",
      "[CV] END ....................lambda=0, updater=coord_descent; total time=   6.8s\n",
      "[CV] END ....................lambda=0, updater=coord_descent; total time=   2.1s\n",
      "[CV] END ..........................lambda=2, updater=shotgun; total time=   1.7s\n",
      "[CV] END ..........................lambda=2, updater=shotgun; total time=   1.7s\n",
      "[CV] END ..........................lambda=2, updater=shotgun; total time=   1.7s\n",
      "[CV] END ....................lambda=2, updater=coord_descent; total time=   1.7s\n",
      "[CV] END ....................lambda=2, updater=coord_descent; total time=   2.0s\n",
      "[CV] END ....................lambda=2, updater=coord_descent; total time=   1.9s\n",
      "[CV] END ..........................lambda=4, updater=shotgun; total time=   2.2s\n",
      "[CV] END ..........................lambda=4, updater=shotgun; total time=   1.9s\n",
      "[CV] END ..........................lambda=4, updater=shotgun; total time=   1.8s\n",
      "[CV] END ....................lambda=4, updater=coord_descent; total time=   2.6s\n",
      "[CV] END ....................lambda=4, updater=coord_descent; total time=   2.2s\n",
      "[CV] END ....................lambda=4, updater=coord_descent; total time=   1.8s\n",
      "[CV] END ..........................lambda=6, updater=shotgun; total time=   1.6s\n",
      "[CV] END ..........................lambda=6, updater=shotgun; total time=   1.8s\n",
      "[CV] END ..........................lambda=6, updater=shotgun; total time=   1.6s\n",
      "[CV] END ....................lambda=6, updater=coord_descent; total time=   1.9s\n",
      "[CV] END ....................lambda=6, updater=coord_descent; total time=   1.8s\n",
      "[CV] END ....................lambda=6, updater=coord_descent; total time=   2.1s\n",
      "RMSE 32.50926504953622\n",
      "параметры данных: lag=10, rolling_mean_size=1\n",
      "Fitting 3 folds for each of 8 candidates, totalling 24 fits\n"
     ]
    },
    {
     "name": "stderr",
     "output_type": "stream",
     "text": [
      "/opt/conda/lib/python3.9/site-packages/sklearn/model_selection/_search.py:285: UserWarning: The total space of parameters 8 is smaller than n_iter=10. Running 8 iterations. For exhaustive searches, use GridSearchCV.\n",
      "  warnings.warn(\n"
     ]
    },
    {
     "name": "stdout",
     "output_type": "stream",
     "text": [
      "[CV] END ..........................lambda=0, updater=shotgun; total time=   1.7s\n",
      "[CV] END ..........................lambda=0, updater=shotgun; total time=   2.0s\n",
      "[CV] END ..........................lambda=0, updater=shotgun; total time=   2.1s\n",
      "[CV] END ....................lambda=0, updater=coord_descent; total time=   2.9s\n",
      "[CV] END ....................lambda=0, updater=coord_descent; total time=   2.0s\n",
      "[CV] END ....................lambda=0, updater=coord_descent; total time=   2.0s\n",
      "[CV] END ..........................lambda=2, updater=shotgun; total time=   1.7s\n",
      "[CV] END ..........................lambda=2, updater=shotgun; total time=   1.7s\n",
      "[CV] END ..........................lambda=2, updater=shotgun; total time=   2.0s\n",
      "[CV] END ....................lambda=2, updater=coord_descent; total time=   1.7s\n",
      "[CV] END ....................lambda=2, updater=coord_descent; total time=   1.8s\n",
      "[CV] END ....................lambda=2, updater=coord_descent; total time=   2.1s\n",
      "[CV] END ..........................lambda=4, updater=shotgun; total time=   1.7s\n",
      "[CV] END ..........................lambda=4, updater=shotgun; total time=   1.7s\n",
      "[CV] END ..........................lambda=4, updater=shotgun; total time=   1.9s\n",
      "[CV] END ....................lambda=4, updater=coord_descent; total time=   3.0s\n",
      "[CV] END ....................lambda=4, updater=coord_descent; total time=   1.9s\n",
      "[CV] END ....................lambda=4, updater=coord_descent; total time=   2.5s\n",
      "[CV] END ..........................lambda=6, updater=shotgun; total time=   2.5s\n",
      "[CV] END ..........................lambda=6, updater=shotgun; total time=   1.6s\n",
      "[CV] END ..........................lambda=6, updater=shotgun; total time=   1.9s\n",
      "[CV] END ....................lambda=6, updater=coord_descent; total time=   2.1s\n",
      "[CV] END ....................lambda=6, updater=coord_descent; total time=   2.0s\n",
      "[CV] END ....................lambda=6, updater=coord_descent; total time=   1.9s\n",
      "RMSE 32.50560926043491\n",
      "параметры данных: lag=10, rolling_mean_size=2\n",
      "Fitting 3 folds for each of 8 candidates, totalling 24 fits\n"
     ]
    },
    {
     "name": "stderr",
     "output_type": "stream",
     "text": [
      "/opt/conda/lib/python3.9/site-packages/sklearn/model_selection/_search.py:285: UserWarning: The total space of parameters 8 is smaller than n_iter=10. Running 8 iterations. For exhaustive searches, use GridSearchCV.\n",
      "  warnings.warn(\n"
     ]
    },
    {
     "name": "stdout",
     "output_type": "stream",
     "text": [
      "[CV] END ..........................lambda=0, updater=shotgun; total time=   1.6s\n",
      "[CV] END ..........................lambda=0, updater=shotgun; total time=   1.8s\n",
      "[CV] END ..........................lambda=0, updater=shotgun; total time=   1.7s\n",
      "[CV] END ....................lambda=0, updater=coord_descent; total time=   1.6s\n",
      "[CV] END ....................lambda=0, updater=coord_descent; total time=   2.0s\n",
      "[CV] END ....................lambda=0, updater=coord_descent; total time=   1.8s\n",
      "[CV] END ..........................lambda=2, updater=shotgun; total time=   1.8s\n",
      "[CV] END ..........................lambda=2, updater=shotgun; total time=   1.9s\n",
      "[CV] END ..........................lambda=2, updater=shotgun; total time=   1.8s\n",
      "[CV] END ....................lambda=2, updater=coord_descent; total time=   2.2s\n",
      "[CV] END ....................lambda=2, updater=coord_descent; total time=   1.8s\n",
      "[CV] END ....................lambda=2, updater=coord_descent; total time=   2.5s\n",
      "[CV] END ..........................lambda=4, updater=shotgun; total time=   1.6s\n",
      "[CV] END ..........................lambda=4, updater=shotgun; total time=   1.7s\n",
      "[CV] END ..........................lambda=4, updater=shotgun; total time=   1.8s\n",
      "[CV] END ....................lambda=4, updater=coord_descent; total time=   1.9s\n",
      "[CV] END ....................lambda=4, updater=coord_descent; total time=   1.8s\n",
      "[CV] END ....................lambda=4, updater=coord_descent; total time=  37.6s\n",
      "[CV] END ..........................lambda=6, updater=shotgun; total time=  11.1s\n",
      "[CV] END ..........................lambda=6, updater=shotgun; total time=  11.5s\n",
      "[CV] END ..........................lambda=6, updater=shotgun; total time=   6.3s\n",
      "[CV] END ....................lambda=6, updater=coord_descent; total time=   3.0s\n",
      "[CV] END ....................lambda=6, updater=coord_descent; total time=   2.0s\n",
      "[CV] END ....................lambda=6, updater=coord_descent; total time=   1.6s\n",
      "RMSE 32.50058773637989\n",
      "параметры данных: lag=10, rolling_mean_size=3\n",
      "Fitting 3 folds for each of 8 candidates, totalling 24 fits\n"
     ]
    },
    {
     "name": "stderr",
     "output_type": "stream",
     "text": [
      "/opt/conda/lib/python3.9/site-packages/sklearn/model_selection/_search.py:285: UserWarning: The total space of parameters 8 is smaller than n_iter=10. Running 8 iterations. For exhaustive searches, use GridSearchCV.\n",
      "  warnings.warn(\n"
     ]
    },
    {
     "name": "stdout",
     "output_type": "stream",
     "text": [
      "[CV] END ..........................lambda=0, updater=shotgun; total time=   1.6s\n",
      "[CV] END ..........................lambda=0, updater=shotgun; total time=   1.6s\n",
      "[CV] END ..........................lambda=0, updater=shotgun; total time=   1.7s\n",
      "[CV] END ....................lambda=0, updater=coord_descent; total time=   2.1s\n",
      "[CV] END ....................lambda=0, updater=coord_descent; total time=   1.7s\n",
      "[CV] END ....................lambda=0, updater=coord_descent; total time=   1.6s\n",
      "[CV] END ..........................lambda=2, updater=shotgun; total time=   1.7s\n",
      "[CV] END ..........................lambda=2, updater=shotgun; total time=   1.7s\n",
      "[CV] END ..........................lambda=2, updater=shotgun; total time=   1.6s\n",
      "[CV] END ....................lambda=2, updater=coord_descent; total time=   2.0s\n",
      "[CV] END ....................lambda=2, updater=coord_descent; total time=   1.7s\n",
      "[CV] END ....................lambda=2, updater=coord_descent; total time=   1.7s\n",
      "[CV] END ..........................lambda=4, updater=shotgun; total time=   1.5s\n",
      "[CV] END ..........................lambda=4, updater=shotgun; total time=   2.7s\n",
      "[CV] END ..........................lambda=4, updater=shotgun; total time=   2.6s\n",
      "[CV] END ....................lambda=4, updater=coord_descent; total time=   5.4s\n",
      "[CV] END ....................lambda=4, updater=coord_descent; total time=   1.7s\n",
      "[CV] END ....................lambda=4, updater=coord_descent; total time=   4.2s\n",
      "[CV] END ..........................lambda=6, updater=shotgun; total time=   2.5s\n",
      "[CV] END ..........................lambda=6, updater=shotgun; total time=   4.8s\n",
      "[CV] END ..........................lambda=6, updater=shotgun; total time=   2.1s\n",
      "[CV] END ....................lambda=6, updater=coord_descent; total time=   1.9s\n",
      "[CV] END ....................lambda=6, updater=coord_descent; total time=   2.4s\n",
      "[CV] END ....................lambda=6, updater=coord_descent; total time=   2.2s\n",
      "RMSE 32.49630606973659\n",
      "параметры данных: lag=10, rolling_mean_size=4\n",
      "Fitting 3 folds for each of 8 candidates, totalling 24 fits\n"
     ]
    },
    {
     "name": "stderr",
     "output_type": "stream",
     "text": [
      "/opt/conda/lib/python3.9/site-packages/sklearn/model_selection/_search.py:285: UserWarning: The total space of parameters 8 is smaller than n_iter=10. Running 8 iterations. For exhaustive searches, use GridSearchCV.\n",
      "  warnings.warn(\n"
     ]
    },
    {
     "name": "stdout",
     "output_type": "stream",
     "text": [
      "[CV] END ..........................lambda=0, updater=shotgun; total time=   1.9s\n",
      "[CV] END ..........................lambda=0, updater=shotgun; total time=   1.9s\n",
      "[CV] END ..........................lambda=0, updater=shotgun; total time=   1.8s\n",
      "[CV] END ....................lambda=0, updater=coord_descent; total time=   1.7s\n",
      "[CV] END ....................lambda=0, updater=coord_descent; total time=   1.7s\n",
      "[CV] END ....................lambda=0, updater=coord_descent; total time=   1.8s\n",
      "[CV] END ..........................lambda=2, updater=shotgun; total time=   1.8s\n",
      "[CV] END ..........................lambda=2, updater=shotgun; total time=   1.7s\n",
      "[CV] END ..........................lambda=2, updater=shotgun; total time=   1.7s\n",
      "[CV] END ....................lambda=2, updater=coord_descent; total time=   1.6s\n",
      "[CV] END ....................lambda=2, updater=coord_descent; total time=   2.0s\n",
      "[CV] END ....................lambda=2, updater=coord_descent; total time=   1.9s\n",
      "[CV] END ..........................lambda=4, updater=shotgun; total time=   1.6s\n",
      "[CV] END ..........................lambda=4, updater=shotgun; total time=   1.6s\n",
      "[CV] END ..........................lambda=4, updater=shotgun; total time=   2.0s\n",
      "[CV] END ....................lambda=4, updater=coord_descent; total time=   1.7s\n",
      "[CV] END ....................lambda=4, updater=coord_descent; total time=   2.0s\n",
      "[CV] END ....................lambda=4, updater=coord_descent; total time=   2.3s\n",
      "[CV] END ..........................lambda=6, updater=shotgun; total time=   1.8s\n",
      "[CV] END ..........................lambda=6, updater=shotgun; total time=   2.4s\n",
      "[CV] END ..........................lambda=6, updater=shotgun; total time=   1.8s\n",
      "[CV] END ....................lambda=6, updater=coord_descent; total time=   1.9s\n",
      "[CV] END ....................lambda=6, updater=coord_descent; total time=   1.8s\n",
      "[CV] END ....................lambda=6, updater=coord_descent; total time=   1.9s\n",
      "RMSE 32.49413475350835\n",
      "параметры данных: lag=10, rolling_mean_size=5\n",
      "Fitting 3 folds for each of 8 candidates, totalling 24 fits\n"
     ]
    },
    {
     "name": "stderr",
     "output_type": "stream",
     "text": [
      "/opt/conda/lib/python3.9/site-packages/sklearn/model_selection/_search.py:285: UserWarning: The total space of parameters 8 is smaller than n_iter=10. Running 8 iterations. For exhaustive searches, use GridSearchCV.\n",
      "  warnings.warn(\n"
     ]
    },
    {
     "name": "stdout",
     "output_type": "stream",
     "text": [
      "[CV] END ..........................lambda=0, updater=shotgun; total time=   1.5s\n",
      "[CV] END ..........................lambda=0, updater=shotgun; total time=   2.6s\n",
      "[CV] END ..........................lambda=0, updater=shotgun; total time=   4.6s\n",
      "[CV] END ....................lambda=0, updater=coord_descent; total time=   3.3s\n",
      "[CV] END ....................lambda=0, updater=coord_descent; total time=   2.0s\n",
      "[CV] END ....................lambda=0, updater=coord_descent; total time=   1.9s\n",
      "[CV] END ..........................lambda=2, updater=shotgun; total time=   1.8s\n",
      "[CV] END ..........................lambda=2, updater=shotgun; total time=   1.7s\n",
      "[CV] END ..........................lambda=2, updater=shotgun; total time=   2.5s\n",
      "[CV] END ....................lambda=2, updater=coord_descent; total time=   2.1s\n",
      "[CV] END ....................lambda=2, updater=coord_descent; total time=   3.6s\n",
      "[CV] END ....................lambda=2, updater=coord_descent; total time=   1.8s\n",
      "[CV] END ..........................lambda=4, updater=shotgun; total time=   1.6s\n",
      "[CV] END ..........................lambda=4, updater=shotgun; total time=   1.9s\n",
      "[CV] END ..........................lambda=4, updater=shotgun; total time=   1.6s\n",
      "[CV] END ....................lambda=4, updater=coord_descent; total time=   1.8s\n",
      "[CV] END ....................lambda=4, updater=coord_descent; total time=   1.7s\n",
      "[CV] END ....................lambda=4, updater=coord_descent; total time=   2.6s\n",
      "[CV] END ..........................lambda=6, updater=shotgun; total time=   1.7s\n",
      "[CV] END ..........................lambda=6, updater=shotgun; total time=   1.9s\n",
      "[CV] END ..........................lambda=6, updater=shotgun; total time=   2.1s\n",
      "[CV] END ....................lambda=6, updater=coord_descent; total time=   2.8s\n",
      "[CV] END ....................lambda=6, updater=coord_descent; total time=   1.8s\n",
      "[CV] END ....................lambda=6, updater=coord_descent; total time=   2.4s\n",
      "RMSE 32.49095450616639\n",
      "параметры данных: lag=10, rolling_mean_size=6\n",
      "Fitting 3 folds for each of 8 candidates, totalling 24 fits\n"
     ]
    },
    {
     "name": "stderr",
     "output_type": "stream",
     "text": [
      "/opt/conda/lib/python3.9/site-packages/sklearn/model_selection/_search.py:285: UserWarning: The total space of parameters 8 is smaller than n_iter=10. Running 8 iterations. For exhaustive searches, use GridSearchCV.\n",
      "  warnings.warn(\n"
     ]
    },
    {
     "name": "stdout",
     "output_type": "stream",
     "text": [
      "[CV] END ..........................lambda=0, updater=shotgun; total time=   1.8s\n",
      "[CV] END ..........................lambda=0, updater=shotgun; total time=   1.7s\n",
      "[CV] END ..........................lambda=0, updater=shotgun; total time=   1.7s\n",
      "[CV] END ....................lambda=0, updater=coord_descent; total time=   1.9s\n",
      "[CV] END ....................lambda=0, updater=coord_descent; total time=   2.0s\n",
      "[CV] END ....................lambda=0, updater=coord_descent; total time=   1.8s\n",
      "[CV] END ..........................lambda=2, updater=shotgun; total time=   3.9s\n",
      "[CV] END ..........................lambda=2, updater=shotgun; total time=   1.6s\n",
      "[CV] END ..........................lambda=2, updater=shotgun; total time=   1.7s\n",
      "[CV] END ....................lambda=2, updater=coord_descent; total time=   1.8s\n",
      "[CV] END ....................lambda=2, updater=coord_descent; total time=   2.1s\n",
      "[CV] END ....................lambda=2, updater=coord_descent; total time=   4.5s\n",
      "[CV] END ..........................lambda=4, updater=shotgun; total time=   2.5s\n",
      "[CV] END ..........................lambda=4, updater=shotgun; total time=   2.3s\n",
      "[CV] END ..........................lambda=4, updater=shotgun; total time=   1.8s\n",
      "[CV] END ....................lambda=4, updater=coord_descent; total time=   1.7s\n",
      "[CV] END ....................lambda=4, updater=coord_descent; total time=   1.8s\n",
      "[CV] END ....................lambda=4, updater=coord_descent; total time=   2.1s\n",
      "[CV] END ..........................lambda=6, updater=shotgun; total time=   1.6s\n",
      "[CV] END ..........................lambda=6, updater=shotgun; total time=   1.6s\n",
      "[CV] END ..........................lambda=6, updater=shotgun; total time=   1.9s\n",
      "[CV] END ....................lambda=6, updater=coord_descent; total time=   1.8s\n",
      "[CV] END ....................lambda=6, updater=coord_descent; total time=   2.0s\n",
      "[CV] END ....................lambda=6, updater=coord_descent; total time=   1.8s\n",
      "RMSE 32.48962566582802\n",
      "параметры данных: lag=10, rolling_mean_size=7\n",
      "Fitting 3 folds for each of 8 candidates, totalling 24 fits\n"
     ]
    },
    {
     "name": "stderr",
     "output_type": "stream",
     "text": [
      "/opt/conda/lib/python3.9/site-packages/sklearn/model_selection/_search.py:285: UserWarning: The total space of parameters 8 is smaller than n_iter=10. Running 8 iterations. For exhaustive searches, use GridSearchCV.\n",
      "  warnings.warn(\n"
     ]
    },
    {
     "name": "stdout",
     "output_type": "stream",
     "text": [
      "[CV] END ..........................lambda=0, updater=shotgun; total time=   1.8s\n",
      "[CV] END ..........................lambda=0, updater=shotgun; total time=   2.2s\n",
      "[CV] END ..........................lambda=0, updater=shotgun; total time=   1.6s\n",
      "[CV] END ....................lambda=0, updater=coord_descent; total time=   1.7s\n",
      "[CV] END ....................lambda=0, updater=coord_descent; total time=   1.9s\n",
      "[CV] END ....................lambda=0, updater=coord_descent; total time=   2.0s\n",
      "[CV] END ..........................lambda=2, updater=shotgun; total time=   2.1s\n",
      "[CV] END ..........................lambda=2, updater=shotgun; total time=   1.8s\n",
      "[CV] END ..........................lambda=2, updater=shotgun; total time=   1.8s\n",
      "[CV] END ....................lambda=2, updater=coord_descent; total time=   2.0s\n",
      "[CV] END ....................lambda=2, updater=coord_descent; total time=   1.7s\n",
      "[CV] END ....................lambda=2, updater=coord_descent; total time=   2.0s\n",
      "[CV] END ..........................lambda=4, updater=shotgun; total time=   2.7s\n",
      "[CV] END ..........................lambda=4, updater=shotgun; total time=   1.7s\n",
      "[CV] END ..........................lambda=4, updater=shotgun; total time=   3.2s\n",
      "[CV] END ....................lambda=4, updater=coord_descent; total time=  22.9s\n",
      "[CV] END ....................lambda=4, updater=coord_descent; total time=   2.1s\n",
      "[CV] END ....................lambda=4, updater=coord_descent; total time=   2.2s\n",
      "[CV] END ..........................lambda=6, updater=shotgun; total time=   2.1s\n",
      "[CV] END ..........................lambda=6, updater=shotgun; total time=   2.8s\n",
      "[CV] END ..........................lambda=6, updater=shotgun; total time=  12.4s\n",
      "[CV] END ....................lambda=6, updater=coord_descent; total time=  29.3s\n",
      "[CV] END ....................lambda=6, updater=coord_descent; total time=   2.4s\n",
      "[CV] END ....................lambda=6, updater=coord_descent; total time=   1.8s\n",
      "RMSE 32.489299451847835\n",
      "параметры данных: lag=10, rolling_mean_size=8\n",
      "Fitting 3 folds for each of 8 candidates, totalling 24 fits\n"
     ]
    },
    {
     "name": "stderr",
     "output_type": "stream",
     "text": [
      "/opt/conda/lib/python3.9/site-packages/sklearn/model_selection/_search.py:285: UserWarning: The total space of parameters 8 is smaller than n_iter=10. Running 8 iterations. For exhaustive searches, use GridSearchCV.\n",
      "  warnings.warn(\n"
     ]
    },
    {
     "name": "stdout",
     "output_type": "stream",
     "text": [
      "[CV] END ..........................lambda=0, updater=shotgun; total time=   1.5s\n",
      "[CV] END ..........................lambda=0, updater=shotgun; total time=   1.7s\n",
      "[CV] END ..........................lambda=0, updater=shotgun; total time=   1.8s\n",
      "[CV] END ....................lambda=0, updater=coord_descent; total time=   2.2s\n",
      "[CV] END ....................lambda=0, updater=coord_descent; total time=   2.1s\n",
      "[CV] END ....................lambda=0, updater=coord_descent; total time=   2.1s\n",
      "[CV] END ..........................lambda=2, updater=shotgun; total time=   1.7s\n",
      "[CV] END ..........................lambda=2, updater=shotgun; total time=   1.7s\n",
      "[CV] END ..........................lambda=2, updater=shotgun; total time=   1.8s\n",
      "[CV] END ....................lambda=2, updater=coord_descent; total time=   1.8s\n",
      "[CV] END ....................lambda=2, updater=coord_descent; total time=   1.7s\n",
      "[CV] END ....................lambda=2, updater=coord_descent; total time=   2.0s\n",
      "[CV] END ..........................lambda=4, updater=shotgun; total time=   1.8s\n",
      "[CV] END ..........................lambda=4, updater=shotgun; total time=   1.6s\n",
      "[CV] END ..........................lambda=4, updater=shotgun; total time=   2.0s\n",
      "[CV] END ....................lambda=4, updater=coord_descent; total time=   1.8s\n",
      "[CV] END ....................lambda=4, updater=coord_descent; total time=   1.7s\n",
      "[CV] END ....................lambda=4, updater=coord_descent; total time=   2.1s\n",
      "[CV] END ..........................lambda=6, updater=shotgun; total time=   3.0s\n",
      "[CV] END ..........................lambda=6, updater=shotgun; total time=   1.7s\n",
      "[CV] END ..........................lambda=6, updater=shotgun; total time=   2.3s\n",
      "[CV] END ....................lambda=6, updater=coord_descent; total time=   1.7s\n",
      "[CV] END ....................lambda=6, updater=coord_descent; total time=   1.8s\n",
      "[CV] END ....................lambda=6, updater=coord_descent; total time=   2.2s\n",
      "RMSE 32.486234417379166\n",
      "параметры данных: lag=10, rolling_mean_size=9\n",
      "Fitting 3 folds for each of 8 candidates, totalling 24 fits\n"
     ]
    },
    {
     "name": "stderr",
     "output_type": "stream",
     "text": [
      "/opt/conda/lib/python3.9/site-packages/sklearn/model_selection/_search.py:285: UserWarning: The total space of parameters 8 is smaller than n_iter=10. Running 8 iterations. For exhaustive searches, use GridSearchCV.\n",
      "  warnings.warn(\n"
     ]
    },
    {
     "name": "stdout",
     "output_type": "stream",
     "text": [
      "[CV] END ..........................lambda=0, updater=shotgun; total time=   1.8s\n",
      "[CV] END ..........................lambda=0, updater=shotgun; total time=   1.7s\n",
      "[CV] END ..........................lambda=0, updater=shotgun; total time=   1.7s\n",
      "[CV] END ....................lambda=0, updater=coord_descent; total time=   1.6s\n",
      "[CV] END ....................lambda=0, updater=coord_descent; total time=   4.2s\n",
      "[CV] END ....................lambda=0, updater=coord_descent; total time=   1.8s\n",
      "[CV] END ..........................lambda=2, updater=shotgun; total time=   1.6s\n",
      "[CV] END ..........................lambda=2, updater=shotgun; total time=   1.8s\n",
      "[CV] END ..........................lambda=2, updater=shotgun; total time=   2.0s\n",
      "[CV] END ....................lambda=2, updater=coord_descent; total time=   1.7s\n",
      "[CV] END ....................lambda=2, updater=coord_descent; total time=   2.5s\n",
      "[CV] END ....................lambda=2, updater=coord_descent; total time=   2.0s\n",
      "[CV] END ..........................lambda=4, updater=shotgun; total time=   1.6s\n",
      "[CV] END ..........................lambda=4, updater=shotgun; total time=   1.5s\n",
      "[CV] END ..........................lambda=4, updater=shotgun; total time=   1.8s\n",
      "[CV] END ....................lambda=4, updater=coord_descent; total time=   1.9s\n",
      "[CV] END ....................lambda=4, updater=coord_descent; total time=   1.9s\n",
      "[CV] END ....................lambda=4, updater=coord_descent; total time=   1.6s\n",
      "[CV] END ..........................lambda=6, updater=shotgun; total time=   1.9s\n",
      "[CV] END ..........................lambda=6, updater=shotgun; total time=   1.8s\n",
      "[CV] END ..........................lambda=6, updater=shotgun; total time=   1.7s\n",
      "[CV] END ....................lambda=6, updater=coord_descent; total time=   1.7s\n",
      "[CV] END ....................lambda=6, updater=coord_descent; total time=   1.8s\n",
      "[CV] END ....................lambda=6, updater=coord_descent; total time=   1.7s\n"
     ]
    },
    {
     "name": "stderr",
     "output_type": "stream",
     "text": [
      "100%|██████████| 10/10 [1:28:47<00:00, 532.79s/it]"
     ]
    },
    {
     "name": "stdout",
     "output_type": "stream",
     "text": [
      "RMSE 32.48477161153432\n",
      "параметры данных: lag=10, rolling_mean_size=10\n",
      "Лучшая метрика 32.367502533955395\n",
      "Лучшие параметры модели: lag=3, rolling_mean_size=4\n"
     ]
    },
    {
     "name": "stderr",
     "output_type": "stream",
     "text": [
      "\n"
     ]
    },
    {
     "data": {
      "text/plain": [
       "XGBRegressor(base_score=0.5, booster='gblinear', colsample_bylevel=None,\n",
       "             colsample_bynode=None, colsample_bytree=None,\n",
       "             enable_categorical=False, gamma=None, gpu_id=-1,\n",
       "             importance_type=None, interaction_constraints=None, lambda=0,\n",
       "             learning_rate=0.5, max_delta_step=None, max_depth=None,\n",
       "             min_child_weight=None, missing=nan, monotone_constraints=None,\n",
       "             n_estimators=100, n_jobs=8, num_parallel_tree=None, predictor=None,\n",
       "             random_state=0, reg_alpha=0, reg_lambda=0, scale_pos_weight=1,\n",
       "             subsample=None, tree_method=None, updater='coord_descent',\n",
       "             validate_parameters=1, verbosity=None)"
      ]
     },
     "execution_count": 97,
     "metadata": {},
     "output_type": "execute_result"
    }
   ],
   "source": [
    "print('XGBRegressor')\n",
    "model_test(df, XGBRegressor(booster='gblinear'), param_dict, 10, 10)"
   ]
  },
  {
   "cell_type": "markdown",
   "metadata": {},
   "source": [
    "вариант1:\n",
    "\n",
    "до этого был lag=1, rolling_mean_size=8 для XGBRegressor"
   ]
  },
  {
   "cell_type": "markdown",
   "metadata": {},
   "source": [
    "вариант2:\n",
    "\n",
    "это после 4 часового обучения (вроде)\n",
    "\n",
    "параметры модели: lag=1, rolling_mean_size=1\n",
    "XGBRegressor(gamma=2, max_depth=2, min_child_weight=2)"
   ]
  },
  {
   "cell_type": "markdown",
   "metadata": {},
   "source": [
    "<div class=\"alert alert-block alert-warning\">\n",
    "<b>Изменения:</b> Были внесены следующие изменения\n",
    "    \n",
    "один прогон функции занял 4 часа, после которого не было найдена оптимального решения (RMSE было больше 48)\n",
    "</div>"
   ]
  },
  {
   "cell_type": "markdown",
   "metadata": {},
   "source": [
    "<div class=\"alert alert-block alert-warning\">\n",
    "<b>Изменения:</b> Были внесены следующие изменения\n",
    "    \n",
    "я пробовал подбор параметров для XGBRegressor для лучшего варианта lag и rolling mean window, но результаты на тестовой выборке все равно были больше 48\n",
    "</div>"
   ]
  },
  {
   "cell_type": "markdown",
   "metadata": {},
   "source": [
    "<div class=\"alert alert-block alert-warning\">\n",
    "<b>Изменения:</b> Были внесены следующие изменения\n",
    "\n",
    "убрал старый код\n",
    "    \n",
    "еще раз прогнал по полному проходу с каждым параметром lag и rolling window, после чего проверил эту модель на тестовой выборке\n",
    "</div>"
   ]
  },
  {
   "cell_type": "markdown",
   "metadata": {},
   "source": [
    "- для XGBRegressor(booster='gblinear')\n",
    "    - Лучшая метрика 32.367502533955395\n",
    "    - Лучшие параметры модели: lag=3, rolling_mean_size=4"
   ]
  },
  {
   "cell_type": "markdown",
   "metadata": {},
   "source": [
    "#### Проверка подобранных параметров"
   ]
  },
  {
   "cell_type": "code",
   "execution_count": 10,
   "metadata": {},
   "outputs": [
    {
     "name": "stdout",
     "output_type": "stream",
     "text": [
      "RMSE модели на тестовых данных 52.69943679130737\n"
     ]
    }
   ],
   "source": [
    "final_test(df, XGBRegressor(booster='gblinear'), lag=3, rolling_window=4)"
   ]
  },
  {
   "cell_type": "code",
   "execution_count": 14,
   "metadata": {},
   "outputs": [
    {
     "name": "stdout",
     "output_type": "stream",
     "text": [
      "RMSE модели на тестовых данных 46.49396391930412\n"
     ]
    }
   ],
   "source": [
    "# проверка признаков, которые получили\n",
    "final_test(df, LinearRegression(), lag=25, rolling_window=28)"
   ]
  },
  {
   "cell_type": "code",
   "execution_count": 45,
   "metadata": {},
   "outputs": [
    {
     "name": "stdout",
     "output_type": "stream",
     "text": [
      "RMSE модели на тестовых данных 45.45216183152175\n"
     ]
    }
   ],
   "source": [
    "# проверка параметров lag и rolling_window которые были получены для LinearRegression\n",
    "final_test(df, XGBRegressor(booster='gblinear'), lag=25, rolling_window=28)"
   ]
  },
  {
   "cell_type": "code",
   "execution_count": 46,
   "metadata": {},
   "outputs": [
    {
     "name": "stdout",
     "output_type": "stream",
     "text": [
      "RMSE модели на тестовых данных 43.19086206418627\n"
     ]
    }
   ],
   "source": [
    "# проверка новых подобранных признаков\n",
    "final_test(df, LinearRegression(), lag=49, rolling_window=32)"
   ]
  },
  {
   "cell_type": "code",
   "execution_count": 7,
   "metadata": {},
   "outputs": [
    {
     "name": "stdout",
     "output_type": "stream",
     "text": [
      "RMSE модели на тестовых данных 42.87390721924521\n"
     ]
    }
   ],
   "source": [
    "# проверка новых подобранных признаков\n",
    "final_test(df, XGBRegressor(booster='gblinear'), lag=49, rolling_window=32)"
   ]
  },
  {
   "cell_type": "code",
   "execution_count": 8,
   "metadata": {},
   "outputs": [
    {
     "name": "stdout",
     "output_type": "stream",
     "text": [
      "RMSE модели на тестовых данных 43.637603912547306\n"
     ]
    }
   ],
   "source": [
    "# проверка новых подобранных признаков на дереве от XGB\n",
    "final_test(df, XGBRegressor(), lag=49, rolling_window=32)"
   ]
  },
  {
   "cell_type": "markdown",
   "metadata": {},
   "source": [
    "### Проба добавление стационарного ряда"
   ]
  },
  {
   "cell_type": "markdown",
   "metadata": {},
   "source": [
    "<div class=\"alert alert-block alert-warning\">\n",
    "<b>Комментарий студента:</b>\n",
    "    \n",
    "Слушайте, да я сверхразум, забыл обо всем. В общем, когда посмотрел на этот замечательный график, вспомнил, что я совершено забыл о стационарных рядах\n",
    "    \n",
    "и они как раз все и исправили...\n",
    "    \n",
    "прошу прощения за мою глупость\n",
    "</div>"
   ]
  },
  {
   "cell_type": "markdown",
   "metadata": {},
   "source": [
    "<div class=\"alert alert-block alert-danger\">\n",
    "<b>Ошибка (ревью 2):</b> В коде ниже допущена утечка данных. Для создания признаков ты используешь текущее значение без сдвига.\n",
    "</div>\n",
    "\n",
    "<div class=\"alert alert-block alert-info\">\n",
    "<b>Совет (ревью 2): </b> Ты делаешь какие-то странные манипуляции с разными датасетами и я не очень понимаю зачем? В коде нижы ты изменяешь test, df. Обучаем модель на train. Пожалуйста, расскажи, что ты хочешь сделать и что значит добавление \"стационарного ряда\", а то я не уловил идею. \n",
    "    \n",
    "Важн понимать, что заказчик хочет от тебя предсказания количества заказов и RMSE ему нужно именно в этой задаче.\n",
    "</div>"
   ]
  },
  {
   "cell_type": "markdown",
   "metadata": {},
   "source": [
    "<div class=\"alert alert-block alert-warning\">\n",
    "<b>Комментарий студента:</b>\n",
    "    \n",
    "\"Поэтому стационарные временные ряды (англ. stationary time series) — это ряды, у которых среднее и стандартное отклонение не меняются. Когда среднее и стандартное отклонение первого ряда меняется медленнее второго, то первый ряд «более стационарный», чем второй.\"\n",
    "    \n",
    "\"Чтобы ряд сделать стационарным, найдём разности его значений.\n",
    "Разности временного ряда (англ. time series difference) — это набор разностей между соседними элементами временного ряда, т. е. из каждого значения вычитается предыдущее.\"\n",
    "    \n",
    "как я понимаю, num_orders сложно предсказывать, так как параметры данного столбца быстро меняются, то есть он являются нестационарным рядом, чтобы улучшить качество, нам нужно добавить стационарный ряд, чьи параметры, как я понимаю, легче уловить, чтобы делать прогнозы.\n",
    "</div>"
   ]
  },
  {
   "cell_type": "markdown",
   "metadata": {},
   "source": [
    "<div class=\"alert alert-block alert-warning\">\n",
    "<b>Комментарий студента:</b>\n",
    "    \n",
    "здесь я хотел проверить как повлияет на обучение добавление стационарного ряда\n",
    "\n",
    "- сначала использовал одни параметры lag и rolling window, которые до этого находил как хороший вариант\n",
    "- потом, из за того, что тест был удачным, решил проверить вторые лучшие параметры lag и rolling window\n",
    "- и в третьем варианте я хотел проверить параметры модели XGB, которые вроде бы были с 4 часового прогона (который оказался провальным)\n",
    "</div>"
   ]
  },
  {
   "cell_type": "markdown",
   "metadata": {},
   "source": [
    "<div class=\"alert alert-block alert-info\">\n",
    "<b>Совет (реваью 3): </b> Переход к стационарному ряды = изменение num_orders. Однако, в конце нужно будет сделать обратное преобразование перед измерением rmse:\n",
    "</div>"
   ]
  },
  {
   "cell_type": "code",
   "execution_count": 54,
   "metadata": {},
   "outputs": [
    {
     "name": "stdout",
     "output_type": "stream",
     "text": [
      "0    1\n",
      "1    5\n",
      "2   -3\n",
      "3    4\n",
      "4   -5\n",
      "5    5\n",
      "dtype: int64\n",
      "0    1\n",
      "1    6\n",
      "2    3\n",
      "3    7\n",
      "4    2\n",
      "5    7\n",
      "dtype: int64\n"
     ]
    }
   ],
   "source": [
    "import pandas as pd\n",
    "\n",
    "arr = pd.Series([1, 6, 3, 7, 2, 7])\n",
    "diff = arr - arr.shift(fill_value=0)\n",
    "print(diff)\n",
    "print(np.cumsum(diff))"
   ]
  },
  {
   "cell_type": "markdown",
   "metadata": {},
   "source": [
    "#### Вариант 1"
   ]
  },
  {
   "cell_type": "markdown",
   "metadata": {},
   "source": [
    "добавление стационарного ряда и проверка модели"
   ]
  },
  {
   "cell_type": "raw",
   "metadata": {},
   "source": [
    "# формирую стационарный ряд, то есть разность временных рядов со сдвигом\n",
    "df['stat_row'] = df['num_orders'] - df['num_orders'].shift(1)"
   ]
  },
  {
   "cell_type": "markdown",
   "metadata": {},
   "source": [
    "<div class=\"alert alert-block alert-warning\">\n",
    "<b>Комментарий студента:</b>\n",
    "    \n",
    "ты имеешь ввиду, что я здесь использовал `df['num_orders']` без сдвига?\n",
    "    \n",
    "но ведь я беру разность? это не считается как видоизменение данных из за того, что это изменение основывается на истинных данных?\n",
    "    \n",
    "UPD:\n",
    "\n",
    "да, похоже именно так, так как теперь метрика снова не входит в нужный интервал...\n",
    "</div>"
   ]
  },
  {
   "cell_type": "markdown",
   "metadata": {},
   "source": [
    "<div class=\"alert alert-block alert-info\">\n",
    "<b>Совет (ревью 3): </b> Это нельзя засунуть в признак.\n",
    "</div>"
   ]
  },
  {
   "cell_type": "markdown",
   "metadata": {},
   "source": [
    "<div class=\"alert alert-block alert-warning\">\n",
    "<b>Комментарий студента:</b>\n",
    "    \n",
    "почему?\n",
    "</div>"
   ]
  },
  {
   "cell_type": "markdown",
   "metadata": {},
   "source": [
    "<div class=\"alert alert-block alert-info\">\n",
    "<b>Совет (ревью 4): </b> Так как признаки нельзя осздавать на основе текущего значения без сдвига.\n",
    "</div>"
   ]
  },
  {
   "cell_type": "code",
   "execution_count": 22,
   "metadata": {},
   "outputs": [],
   "source": [
    "train, test = features_for_model(lag=25, rolling_window=28, shift=True)"
   ]
  },
  {
   "cell_type": "code",
   "execution_count": 23,
   "metadata": {},
   "outputs": [],
   "source": [
    "test_model = LinearRegression()"
   ]
  },
  {
   "cell_type": "code",
   "execution_count": 24,
   "metadata": {},
   "outputs": [
    {
     "data": {
      "text/plain": [
       "LinearRegression()"
      ]
     },
     "execution_count": 24,
     "metadata": {},
     "output_type": "execute_result"
    }
   ],
   "source": [
    "test_model.fit(train.drop(columns='num_orders'), train['num_orders'])"
   ]
  },
  {
   "cell_type": "code",
   "execution_count": 25,
   "metadata": {},
   "outputs": [],
   "source": [
    "test_pred = test_model.predict(test.drop(columns='num_orders'))"
   ]
  },
  {
   "cell_type": "code",
   "execution_count": 26,
   "metadata": {},
   "outputs": [
    {
     "data": {
      "text/plain": [
       "169.34218526305034"
      ]
     },
     "execution_count": 26,
     "metadata": {},
     "output_type": "execute_result"
    }
   ],
   "source": [
    "mean_squared_error(test['num_orders'], test_pred, squared=False)"
   ]
  },
  {
   "cell_type": "markdown",
   "metadata": {},
   "source": [
    "<div class=\"alert alert-block alert-warning\">\n",
    "<b>Комментарий студента:</b>\n",
    "    \n",
    "либо я что то не так сделал, либо здесь этот метод не работает\n",
    "</div>"
   ]
  },
  {
   "cell_type": "markdown",
   "metadata": {},
   "source": [
    "#### Вариант 2"
   ]
  },
  {
   "cell_type": "markdown",
   "metadata": {},
   "source": [
    "проверка модели, которую получили в процессе последнего подбора гиперпараметров"
   ]
  },
  {
   "cell_type": "code",
   "execution_count": 27,
   "metadata": {},
   "outputs": [],
   "source": [
    "test_model = XGBRegressor(n_estimators=140, max_depth=1)"
   ]
  },
  {
   "cell_type": "code",
   "execution_count": 28,
   "metadata": {},
   "outputs": [
    {
     "data": {
      "text/plain": [
       "XGBRegressor(base_score=0.5, booster='gbtree', colsample_bylevel=1,\n",
       "             colsample_bynode=1, colsample_bytree=1, enable_categorical=False,\n",
       "             gamma=0, gpu_id=-1, importance_type=None,\n",
       "             interaction_constraints='', learning_rate=0.300000012,\n",
       "             max_delta_step=0, max_depth=1, min_child_weight=1, missing=nan,\n",
       "             monotone_constraints='()', n_estimators=140, n_jobs=8,\n",
       "             num_parallel_tree=1, predictor='auto', random_state=0, reg_alpha=0,\n",
       "             reg_lambda=1, scale_pos_weight=1, subsample=1, tree_method='exact',\n",
       "             validate_parameters=1, verbosity=None)"
      ]
     },
     "execution_count": 28,
     "metadata": {},
     "output_type": "execute_result"
    }
   ],
   "source": [
    "test_model.fit(train.drop(columns='num_orders'), train['num_orders'])"
   ]
  },
  {
   "cell_type": "code",
   "execution_count": 29,
   "metadata": {},
   "outputs": [],
   "source": [
    "test_pred = test_model.predict(test.drop(columns='num_orders'))"
   ]
  },
  {
   "cell_type": "code",
   "execution_count": 30,
   "metadata": {},
   "outputs": [
    {
     "data": {
      "text/plain": [
       "167.02233255619836"
      ]
     },
     "execution_count": 30,
     "metadata": {},
     "output_type": "execute_result"
    }
   ],
   "source": [
    "mean_squared_error(test['num_orders'], test_pred, squared=False)"
   ]
  },
  {
   "cell_type": "markdown",
   "metadata": {},
   "source": [
    "#### Вариант 3"
   ]
  },
  {
   "cell_type": "markdown",
   "metadata": {},
   "source": [
    "проверка модели, которую получили в процессе подбора гиперпараметров, который длился 4 часа (но я ресетал кернел, потому что была проблема с платформой, которая не отвечала, поэтому я случайно ресетнул все оутпуты, возможно это не с того обучения)"
   ]
  },
  {
   "cell_type": "code",
   "execution_count": 31,
   "metadata": {},
   "outputs": [],
   "source": [
    "train, test = features_for_model(lag=49, rolling_window=32)"
   ]
  },
  {
   "cell_type": "code",
   "execution_count": 32,
   "metadata": {},
   "outputs": [],
   "source": [
    "last_model = XGBRegressor(gamma=2, max_depth=2, min_child_weight=2)"
   ]
  },
  {
   "cell_type": "code",
   "execution_count": 33,
   "metadata": {},
   "outputs": [
    {
     "data": {
      "text/plain": [
       "XGBRegressor(base_score=0.5, booster='gbtree', colsample_bylevel=1,\n",
       "             colsample_bynode=1, colsample_bytree=1, enable_categorical=False,\n",
       "             gamma=2, gpu_id=-1, importance_type=None,\n",
       "             interaction_constraints='', learning_rate=0.300000012,\n",
       "             max_delta_step=0, max_depth=2, min_child_weight=2, missing=nan,\n",
       "             monotone_constraints='()', n_estimators=100, n_jobs=8,\n",
       "             num_parallel_tree=1, predictor='auto', random_state=0, reg_alpha=0,\n",
       "             reg_lambda=1, scale_pos_weight=1, subsample=1, tree_method='exact',\n",
       "             validate_parameters=1, verbosity=None)"
      ]
     },
     "execution_count": 33,
     "metadata": {},
     "output_type": "execute_result"
    }
   ],
   "source": [
    "last_model.fit(train.drop(columns='num_orders'), train['num_orders'])"
   ]
  },
  {
   "cell_type": "code",
   "execution_count": 34,
   "metadata": {},
   "outputs": [],
   "source": [
    "last_pred = last_model.predict(test.drop(columns='num_orders'))"
   ]
  },
  {
   "cell_type": "code",
   "execution_count": 35,
   "metadata": {},
   "outputs": [
    {
     "data": {
      "text/plain": [
       "43.0390603817905"
      ]
     },
     "execution_count": 35,
     "metadata": {},
     "output_type": "execute_result"
    }
   ],
   "source": [
    "mean_squared_error(test['num_orders'], last_pred, squared=False)"
   ]
  },
  {
   "cell_type": "markdown",
   "metadata": {},
   "source": [
    "<div class=\"alert alert-block alert-danger\">\n",
    "<b>Ошибка:</b> Пожалуйста, настрой параметры, хотя бы, для одной из моделей.\n",
    "</div>"
   ]
  },
  {
   "cell_type": "markdown",
   "metadata": {},
   "source": [
    "<div class=\"alert alert-block alert-info\">\n",
    "<b>Совет: </b> Финальные предсказания можно было визуализирвоать: графики исходного и предсказанных рядов.\n",
    "</div>"
   ]
  },
  {
   "cell_type": "markdown",
   "metadata": {},
   "source": [
    "### Пробую CatBoost"
   ]
  },
  {
   "cell_type": "markdown",
   "metadata": {},
   "source": [
    "просто catboost"
   ]
  },
  {
   "cell_type": "code",
   "execution_count": 128,
   "metadata": {},
   "outputs": [],
   "source": [
    "train, test = features_for_model(lag=3, rolling_window=4)"
   ]
  },
  {
   "cell_type": "code",
   "execution_count": 129,
   "metadata": {},
   "outputs": [
    {
     "name": "stdout",
     "output_type": "stream",
     "text": [
      "Learning rate set to 0.050908\n",
      "0:\tlearn: 38.0228027\ttotal: 3.69ms\tremaining: 3.68s\n",
      "1:\tlearn: 37.4054945\ttotal: 7.5ms\tremaining: 3.74s\n",
      "2:\tlearn: 36.8423446\ttotal: 11.4ms\tremaining: 3.77s\n",
      "3:\tlearn: 36.3079527\ttotal: 15.7ms\tremaining: 3.92s\n",
      "4:\tlearn: 35.7930494\ttotal: 19.5ms\tremaining: 3.89s\n",
      "5:\tlearn: 35.3448322\ttotal: 23.2ms\tremaining: 3.84s\n",
      "6:\tlearn: 34.9141626\ttotal: 27ms\tremaining: 3.84s\n",
      "7:\tlearn: 34.5047179\ttotal: 30.6ms\tremaining: 3.79s\n",
      "8:\tlearn: 34.1422303\ttotal: 34.3ms\tremaining: 3.77s\n",
      "9:\tlearn: 33.7936547\ttotal: 37.6ms\tremaining: 3.72s\n",
      "10:\tlearn: 33.4837918\ttotal: 41.5ms\tremaining: 3.73s\n",
      "11:\tlearn: 33.1698231\ttotal: 45.2ms\tremaining: 3.72s\n",
      "12:\tlearn: 32.8850489\ttotal: 48.9ms\tremaining: 3.71s\n",
      "13:\tlearn: 32.6132168\ttotal: 52.4ms\tremaining: 3.69s\n",
      "14:\tlearn: 32.3683784\ttotal: 56.1ms\tremaining: 3.68s\n",
      "15:\tlearn: 32.1455467\ttotal: 59.6ms\tremaining: 3.67s\n",
      "16:\tlearn: 31.9449716\ttotal: 63ms\tremaining: 3.64s\n",
      "17:\tlearn: 31.7596981\ttotal: 66.4ms\tremaining: 3.62s\n",
      "18:\tlearn: 31.5561456\ttotal: 70.1ms\tremaining: 3.62s\n",
      "19:\tlearn: 31.3747841\ttotal: 73.7ms\tremaining: 3.61s\n",
      "20:\tlearn: 31.2145561\ttotal: 77.2ms\tremaining: 3.6s\n",
      "21:\tlearn: 31.0671155\ttotal: 80.7ms\tremaining: 3.59s\n",
      "22:\tlearn: 30.9308433\ttotal: 84.5ms\tremaining: 3.59s\n",
      "23:\tlearn: 30.7875879\ttotal: 88.2ms\tremaining: 3.58s\n",
      "24:\tlearn: 30.6630059\ttotal: 92.2ms\tremaining: 3.59s\n",
      "25:\tlearn: 30.5485216\ttotal: 95.7ms\tremaining: 3.58s\n",
      "26:\tlearn: 30.4380955\ttotal: 99.5ms\tremaining: 3.58s\n",
      "27:\tlearn: 30.3232026\ttotal: 103ms\tremaining: 3.58s\n",
      "28:\tlearn: 30.2433723\ttotal: 107ms\tremaining: 3.57s\n",
      "29:\tlearn: 30.1579025\ttotal: 110ms\tremaining: 3.56s\n",
      "30:\tlearn: 30.0557714\ttotal: 114ms\tremaining: 3.55s\n",
      "31:\tlearn: 29.9780729\ttotal: 118ms\tremaining: 3.56s\n",
      "32:\tlearn: 29.8989694\ttotal: 121ms\tremaining: 3.55s\n",
      "33:\tlearn: 29.8238495\ttotal: 125ms\tremaining: 3.54s\n",
      "34:\tlearn: 29.7530620\ttotal: 128ms\tremaining: 3.53s\n",
      "35:\tlearn: 29.6799998\ttotal: 131ms\tremaining: 3.51s\n",
      "36:\tlearn: 29.5913948\ttotal: 135ms\tremaining: 3.5s\n",
      "37:\tlearn: 29.5289179\ttotal: 138ms\tremaining: 3.49s\n",
      "38:\tlearn: 29.4721334\ttotal: 142ms\tremaining: 3.49s\n",
      "39:\tlearn: 29.4021948\ttotal: 145ms\tremaining: 3.48s\n",
      "40:\tlearn: 29.3395566\ttotal: 148ms\tremaining: 3.47s\n",
      "41:\tlearn: 29.2784766\ttotal: 152ms\tremaining: 3.46s\n",
      "42:\tlearn: 29.2337652\ttotal: 155ms\tremaining: 3.45s\n",
      "43:\tlearn: 29.1828841\ttotal: 158ms\tremaining: 3.44s\n",
      "44:\tlearn: 29.1255779\ttotal: 162ms\tremaining: 3.43s\n",
      "45:\tlearn: 29.0786720\ttotal: 165ms\tremaining: 3.42s\n",
      "46:\tlearn: 29.0169107\ttotal: 168ms\tremaining: 3.41s\n",
      "47:\tlearn: 28.9593653\ttotal: 172ms\tremaining: 3.4s\n",
      "48:\tlearn: 28.9147339\ttotal: 175ms\tremaining: 3.39s\n",
      "49:\tlearn: 28.8661443\ttotal: 178ms\tremaining: 3.39s\n",
      "50:\tlearn: 28.8268670\ttotal: 181ms\tremaining: 3.38s\n",
      "51:\tlearn: 28.7900630\ttotal: 185ms\tremaining: 3.37s\n",
      "52:\tlearn: 28.7493806\ttotal: 188ms\tremaining: 3.36s\n",
      "53:\tlearn: 28.7115294\ttotal: 191ms\tremaining: 3.35s\n",
      "54:\tlearn: 28.6856016\ttotal: 194ms\tremaining: 3.33s\n",
      "55:\tlearn: 28.6446212\ttotal: 197ms\tremaining: 3.33s\n",
      "56:\tlearn: 28.6154032\ttotal: 200ms\tremaining: 3.32s\n",
      "57:\tlearn: 28.5814438\ttotal: 204ms\tremaining: 3.31s\n",
      "58:\tlearn: 28.5436963\ttotal: 207ms\tremaining: 3.3s\n",
      "59:\tlearn: 28.5065699\ttotal: 211ms\tremaining: 3.3s\n",
      "60:\tlearn: 28.4661548\ttotal: 215ms\tremaining: 3.31s\n",
      "61:\tlearn: 28.4321233\ttotal: 219ms\tremaining: 3.31s\n",
      "62:\tlearn: 28.4158056\ttotal: 222ms\tremaining: 3.3s\n",
      "63:\tlearn: 28.3854111\ttotal: 226ms\tremaining: 3.3s\n",
      "64:\tlearn: 28.3515249\ttotal: 229ms\tremaining: 3.29s\n",
      "65:\tlearn: 28.3151090\ttotal: 233ms\tremaining: 3.29s\n",
      "66:\tlearn: 28.2859005\ttotal: 236ms\tremaining: 3.29s\n",
      "67:\tlearn: 28.2504402\ttotal: 240ms\tremaining: 3.28s\n",
      "68:\tlearn: 28.2231982\ttotal: 243ms\tremaining: 3.28s\n",
      "69:\tlearn: 28.1863539\ttotal: 247ms\tremaining: 3.28s\n",
      "70:\tlearn: 28.1529539\ttotal: 251ms\tremaining: 3.29s\n",
      "71:\tlearn: 28.1246022\ttotal: 255ms\tremaining: 3.28s\n",
      "72:\tlearn: 28.0942404\ttotal: 258ms\tremaining: 3.28s\n",
      "73:\tlearn: 28.0544079\ttotal: 262ms\tremaining: 3.28s\n",
      "74:\tlearn: 28.0368823\ttotal: 265ms\tremaining: 3.27s\n",
      "75:\tlearn: 28.0096644\ttotal: 269ms\tremaining: 3.27s\n",
      "76:\tlearn: 27.9788978\ttotal: 273ms\tremaining: 3.27s\n",
      "77:\tlearn: 27.9403473\ttotal: 277ms\tremaining: 3.28s\n",
      "78:\tlearn: 27.9200641\ttotal: 281ms\tremaining: 3.27s\n",
      "79:\tlearn: 27.8954206\ttotal: 284ms\tremaining: 3.27s\n",
      "80:\tlearn: 27.8722394\ttotal: 288ms\tremaining: 3.27s\n",
      "81:\tlearn: 27.8513361\ttotal: 291ms\tremaining: 3.26s\n",
      "82:\tlearn: 27.8358024\ttotal: 295ms\tremaining: 3.26s\n",
      "83:\tlearn: 27.8019540\ttotal: 298ms\tremaining: 3.25s\n",
      "84:\tlearn: 27.7797639\ttotal: 302ms\tremaining: 3.25s\n",
      "85:\tlearn: 27.7553282\ttotal: 305ms\tremaining: 3.24s\n",
      "86:\tlearn: 27.7375556\ttotal: 309ms\tremaining: 3.24s\n",
      "87:\tlearn: 27.7131649\ttotal: 312ms\tremaining: 3.23s\n",
      "88:\tlearn: 27.6863976\ttotal: 315ms\tremaining: 3.23s\n",
      "89:\tlearn: 27.6695160\ttotal: 318ms\tremaining: 3.22s\n",
      "90:\tlearn: 27.6466480\ttotal: 322ms\tremaining: 3.22s\n",
      "91:\tlearn: 27.6247657\ttotal: 326ms\tremaining: 3.21s\n",
      "92:\tlearn: 27.6084122\ttotal: 329ms\tremaining: 3.21s\n",
      "93:\tlearn: 27.5983453\ttotal: 332ms\tremaining: 3.2s\n",
      "94:\tlearn: 27.5772396\ttotal: 336ms\tremaining: 3.2s\n",
      "95:\tlearn: 27.5455979\ttotal: 339ms\tremaining: 3.19s\n",
      "96:\tlearn: 27.5173378\ttotal: 342ms\tremaining: 3.19s\n",
      "97:\tlearn: 27.4969647\ttotal: 346ms\tremaining: 3.18s\n",
      "98:\tlearn: 27.4767188\ttotal: 349ms\tremaining: 3.18s\n",
      "99:\tlearn: 27.4597935\ttotal: 352ms\tremaining: 3.17s\n",
      "100:\tlearn: 27.4463217\ttotal: 355ms\tremaining: 3.16s\n",
      "101:\tlearn: 27.4380068\ttotal: 360ms\tremaining: 3.17s\n",
      "102:\tlearn: 27.4157663\ttotal: 363ms\tremaining: 3.16s\n",
      "103:\tlearn: 27.3942748\ttotal: 368ms\tremaining: 3.17s\n",
      "104:\tlearn: 27.3748650\ttotal: 372ms\tremaining: 3.17s\n",
      "105:\tlearn: 27.3557723\ttotal: 376ms\tremaining: 3.17s\n",
      "106:\tlearn: 27.3314847\ttotal: 380ms\tremaining: 3.17s\n",
      "107:\tlearn: 27.3169534\ttotal: 384ms\tremaining: 3.17s\n",
      "108:\tlearn: 27.3032608\ttotal: 387ms\tremaining: 3.17s\n",
      "109:\tlearn: 27.2850176\ttotal: 391ms\tremaining: 3.16s\n",
      "110:\tlearn: 27.2746530\ttotal: 395ms\tremaining: 3.16s\n",
      "111:\tlearn: 27.2609698\ttotal: 399ms\tremaining: 3.16s\n",
      "112:\tlearn: 27.2408660\ttotal: 402ms\tremaining: 3.15s\n",
      "113:\tlearn: 27.2270760\ttotal: 405ms\tremaining: 3.15s\n",
      "114:\tlearn: 27.2172390\ttotal: 409ms\tremaining: 3.15s\n",
      "115:\tlearn: 27.2078524\ttotal: 412ms\tremaining: 3.14s\n",
      "116:\tlearn: 27.1831120\ttotal: 416ms\tremaining: 3.14s\n",
      "117:\tlearn: 27.1626492\ttotal: 420ms\tremaining: 3.14s\n",
      "118:\tlearn: 27.1503693\ttotal: 423ms\tremaining: 3.13s\n",
      "119:\tlearn: 27.1245092\ttotal: 427ms\tremaining: 3.13s\n",
      "120:\tlearn: 27.1074901\ttotal: 430ms\tremaining: 3.12s\n",
      "121:\tlearn: 27.0906930\ttotal: 433ms\tremaining: 3.12s\n",
      "122:\tlearn: 27.0816823\ttotal: 436ms\tremaining: 3.11s\n",
      "123:\tlearn: 27.0618282\ttotal: 439ms\tremaining: 3.1s\n",
      "124:\tlearn: 27.0492754\ttotal: 443ms\tremaining: 3.1s\n",
      "125:\tlearn: 27.0295220\ttotal: 446ms\tremaining: 3.1s\n",
      "126:\tlearn: 27.0030736\ttotal: 450ms\tremaining: 3.1s\n",
      "127:\tlearn: 26.9883114\ttotal: 454ms\tremaining: 3.09s\n",
      "128:\tlearn: 26.9668950\ttotal: 458ms\tremaining: 3.09s\n",
      "129:\tlearn: 26.9424685\ttotal: 461ms\tremaining: 3.09s\n",
      "130:\tlearn: 26.9269733\ttotal: 465ms\tremaining: 3.08s\n",
      "131:\tlearn: 26.9130375\ttotal: 468ms\tremaining: 3.08s\n",
      "132:\tlearn: 26.8997574\ttotal: 472ms\tremaining: 3.07s\n",
      "133:\tlearn: 26.8826532\ttotal: 476ms\tremaining: 3.07s\n",
      "134:\tlearn: 26.8683799\ttotal: 479ms\tremaining: 3.07s\n",
      "135:\tlearn: 26.8560535\ttotal: 482ms\tremaining: 3.06s\n",
      "136:\tlearn: 26.8406795\ttotal: 485ms\tremaining: 3.06s\n",
      "137:\tlearn: 26.8211685\ttotal: 489ms\tremaining: 3.05s\n",
      "138:\tlearn: 26.8033025\ttotal: 493ms\tremaining: 3.05s\n",
      "139:\tlearn: 26.7842498\ttotal: 496ms\tremaining: 3.05s\n",
      "140:\tlearn: 26.7682969\ttotal: 500ms\tremaining: 3.05s\n",
      "141:\tlearn: 26.7405860\ttotal: 504ms\tremaining: 3.04s\n",
      "142:\tlearn: 26.7163637\ttotal: 507ms\tremaining: 3.04s\n",
      "143:\tlearn: 26.6976217\ttotal: 511ms\tremaining: 3.04s\n",
      "144:\tlearn: 26.6785485\ttotal: 514ms\tremaining: 3.03s\n",
      "145:\tlearn: 26.6601153\ttotal: 518ms\tremaining: 3.03s\n",
      "146:\tlearn: 26.6333879\ttotal: 521ms\tremaining: 3.02s\n",
      "147:\tlearn: 26.6204356\ttotal: 524ms\tremaining: 3.02s\n",
      "148:\tlearn: 26.5978826\ttotal: 528ms\tremaining: 3.02s\n",
      "149:\tlearn: 26.5685563\ttotal: 532ms\tremaining: 3.01s\n",
      "150:\tlearn: 26.5552412\ttotal: 535ms\tremaining: 3.01s\n",
      "151:\tlearn: 26.5350580\ttotal: 539ms\tremaining: 3.01s\n",
      "152:\tlearn: 26.5134707\ttotal: 543ms\tremaining: 3s\n",
      "153:\tlearn: 26.4987341\ttotal: 546ms\tremaining: 3s\n",
      "154:\tlearn: 26.4854842\ttotal: 550ms\tremaining: 3s\n",
      "155:\tlearn: 26.4759547\ttotal: 553ms\tremaining: 2.99s\n",
      "156:\tlearn: 26.4407780\ttotal: 556ms\tremaining: 2.99s\n",
      "157:\tlearn: 26.4120046\ttotal: 560ms\tremaining: 2.98s\n",
      "158:\tlearn: 26.3881328\ttotal: 563ms\tremaining: 2.98s\n",
      "159:\tlearn: 26.3818755\ttotal: 566ms\tremaining: 2.97s\n",
      "160:\tlearn: 26.3475287\ttotal: 570ms\tremaining: 2.97s\n",
      "161:\tlearn: 26.3376536\ttotal: 573ms\tremaining: 2.96s\n",
      "162:\tlearn: 26.3172620\ttotal: 577ms\tremaining: 2.96s\n",
      "163:\tlearn: 26.3119939\ttotal: 580ms\tremaining: 2.96s\n",
      "164:\tlearn: 26.2713100\ttotal: 584ms\tremaining: 2.96s\n",
      "165:\tlearn: 26.2438880\ttotal: 588ms\tremaining: 2.95s\n",
      "166:\tlearn: 26.2357912\ttotal: 591ms\tremaining: 2.95s\n",
      "167:\tlearn: 26.2262097\ttotal: 595ms\tremaining: 2.94s\n",
      "168:\tlearn: 26.2035252\ttotal: 598ms\tremaining: 2.94s\n",
      "169:\tlearn: 26.1585881\ttotal: 602ms\tremaining: 2.94s\n",
      "170:\tlearn: 26.1264604\ttotal: 606ms\tremaining: 2.94s\n",
      "171:\tlearn: 26.0909433\ttotal: 610ms\tremaining: 2.94s\n",
      "172:\tlearn: 26.0531770\ttotal: 614ms\tremaining: 2.93s\n",
      "173:\tlearn: 26.0477258\ttotal: 616ms\tremaining: 2.93s\n",
      "174:\tlearn: 26.0285510\ttotal: 620ms\tremaining: 2.92s\n",
      "175:\tlearn: 26.0061459\ttotal: 623ms\tremaining: 2.92s\n",
      "176:\tlearn: 25.9946250\ttotal: 627ms\tremaining: 2.92s\n",
      "177:\tlearn: 25.9799589\ttotal: 631ms\tremaining: 2.91s\n",
      "178:\tlearn: 25.9654429\ttotal: 634ms\tremaining: 2.91s\n",
      "179:\tlearn: 25.9488444\ttotal: 638ms\tremaining: 2.91s\n",
      "180:\tlearn: 25.9422604\ttotal: 641ms\tremaining: 2.9s\n",
      "181:\tlearn: 25.9081047\ttotal: 646ms\tremaining: 2.9s\n",
      "182:\tlearn: 25.8984795\ttotal: 649ms\tremaining: 2.9s\n",
      "183:\tlearn: 25.8921325\ttotal: 653ms\tremaining: 2.89s\n",
      "184:\tlearn: 25.8687013\ttotal: 656ms\tremaining: 2.89s\n",
      "185:\tlearn: 25.8608746\ttotal: 659ms\tremaining: 2.88s\n",
      "186:\tlearn: 25.8394232\ttotal: 663ms\tremaining: 2.88s\n",
      "187:\tlearn: 25.8090156\ttotal: 666ms\tremaining: 2.88s\n",
      "188:\tlearn: 25.8014798\ttotal: 670ms\tremaining: 2.87s\n",
      "189:\tlearn: 25.7958048\ttotal: 673ms\tremaining: 2.87s\n",
      "190:\tlearn: 25.7910117\ttotal: 676ms\tremaining: 2.86s\n",
      "191:\tlearn: 25.7635152\ttotal: 680ms\tremaining: 2.86s\n",
      "192:\tlearn: 25.7309736\ttotal: 683ms\tremaining: 2.86s\n",
      "193:\tlearn: 25.7008131\ttotal: 687ms\tremaining: 2.85s\n",
      "194:\tlearn: 25.6872393\ttotal: 690ms\tremaining: 2.85s\n",
      "195:\tlearn: 25.6820770\ttotal: 694ms\tremaining: 2.85s\n",
      "196:\tlearn: 25.6648710\ttotal: 697ms\tremaining: 2.84s\n",
      "197:\tlearn: 25.6533209\ttotal: 700ms\tremaining: 2.83s\n",
      "198:\tlearn: 25.6343346\ttotal: 704ms\tremaining: 2.83s\n",
      "199:\tlearn: 25.6018651\ttotal: 709ms\tremaining: 2.83s\n",
      "200:\tlearn: 25.5895734\ttotal: 712ms\tremaining: 2.83s\n",
      "201:\tlearn: 25.5821872\ttotal: 714ms\tremaining: 2.82s\n",
      "202:\tlearn: 25.5657955\ttotal: 719ms\tremaining: 2.82s\n",
      "203:\tlearn: 25.5246635\ttotal: 724ms\tremaining: 2.83s\n",
      "204:\tlearn: 25.5119564\ttotal: 728ms\tremaining: 2.82s\n",
      "205:\tlearn: 25.5061601\ttotal: 731ms\tremaining: 2.82s\n",
      "206:\tlearn: 25.4915401\ttotal: 736ms\tremaining: 2.82s\n",
      "207:\tlearn: 25.4731182\ttotal: 741ms\tremaining: 2.82s\n",
      "208:\tlearn: 25.4635489\ttotal: 747ms\tremaining: 2.83s\n",
      "209:\tlearn: 25.4212580\ttotal: 751ms\tremaining: 2.83s\n",
      "210:\tlearn: 25.3981111\ttotal: 757ms\tremaining: 2.83s\n",
      "211:\tlearn: 25.3716851\ttotal: 761ms\tremaining: 2.83s\n",
      "212:\tlearn: 25.3547957\ttotal: 766ms\tremaining: 2.83s\n",
      "213:\tlearn: 25.3147108\ttotal: 770ms\tremaining: 2.83s\n",
      "214:\tlearn: 25.2690058\ttotal: 775ms\tremaining: 2.83s\n",
      "215:\tlearn: 25.2498073\ttotal: 779ms\tremaining: 2.83s\n",
      "216:\tlearn: 25.2483184\ttotal: 782ms\tremaining: 2.82s\n",
      "217:\tlearn: 25.2121662\ttotal: 787ms\tremaining: 2.82s\n",
      "218:\tlearn: 25.1919378\ttotal: 791ms\tremaining: 2.82s\n",
      "219:\tlearn: 25.1768784\ttotal: 795ms\tremaining: 2.82s\n",
      "220:\tlearn: 25.1736717\ttotal: 799ms\tremaining: 2.81s\n",
      "221:\tlearn: 25.1672772\ttotal: 802ms\tremaining: 2.81s\n",
      "222:\tlearn: 25.1452346\ttotal: 806ms\tremaining: 2.81s\n",
      "223:\tlearn: 25.1360882\ttotal: 810ms\tremaining: 2.81s\n",
      "224:\tlearn: 25.1113197\ttotal: 815ms\tremaining: 2.81s\n",
      "225:\tlearn: 25.1087962\ttotal: 819ms\tremaining: 2.81s\n",
      "226:\tlearn: 25.0736852\ttotal: 824ms\tremaining: 2.81s\n",
      "227:\tlearn: 25.0434322\ttotal: 828ms\tremaining: 2.8s\n",
      "228:\tlearn: 25.0290396\ttotal: 833ms\tremaining: 2.8s\n",
      "229:\tlearn: 24.9887550\ttotal: 838ms\tremaining: 2.8s\n",
      "230:\tlearn: 24.9746638\ttotal: 842ms\tremaining: 2.8s\n",
      "231:\tlearn: 24.9325932\ttotal: 848ms\tremaining: 2.81s\n",
      "232:\tlearn: 24.9131318\ttotal: 852ms\tremaining: 2.81s\n",
      "233:\tlearn: 24.8803230\ttotal: 857ms\tremaining: 2.8s\n",
      "234:\tlearn: 24.8578597\ttotal: 862ms\tremaining: 2.81s\n",
      "235:\tlearn: 24.8264454\ttotal: 867ms\tremaining: 2.81s\n",
      "236:\tlearn: 24.8019427\ttotal: 872ms\tremaining: 2.81s\n",
      "237:\tlearn: 24.7842981\ttotal: 876ms\tremaining: 2.81s\n",
      "238:\tlearn: 24.7650491\ttotal: 881ms\tremaining: 2.81s\n",
      "239:\tlearn: 24.7405474\ttotal: 888ms\tremaining: 2.81s\n",
      "240:\tlearn: 24.7046566\ttotal: 892ms\tremaining: 2.81s\n",
      "241:\tlearn: 24.6723434\ttotal: 898ms\tremaining: 2.81s\n",
      "242:\tlearn: 24.6678256\ttotal: 903ms\tremaining: 2.81s\n",
      "243:\tlearn: 24.6302153\ttotal: 908ms\tremaining: 2.81s\n",
      "244:\tlearn: 24.6063342\ttotal: 913ms\tremaining: 2.81s\n",
      "245:\tlearn: 24.5871714\ttotal: 917ms\tremaining: 2.81s\n",
      "246:\tlearn: 24.5830766\ttotal: 922ms\tremaining: 2.81s\n",
      "247:\tlearn: 24.5611885\ttotal: 928ms\tremaining: 2.81s\n",
      "248:\tlearn: 24.5369655\ttotal: 934ms\tremaining: 2.82s\n",
      "249:\tlearn: 24.5128257\ttotal: 939ms\tremaining: 2.82s\n",
      "250:\tlearn: 24.4964931\ttotal: 945ms\tremaining: 2.82s\n",
      "251:\tlearn: 24.4805075\ttotal: 948ms\tremaining: 2.81s\n",
      "252:\tlearn: 24.4610159\ttotal: 954ms\tremaining: 2.82s\n",
      "253:\tlearn: 24.4439416\ttotal: 959ms\tremaining: 2.82s\n",
      "254:\tlearn: 24.4262097\ttotal: 965ms\tremaining: 2.82s\n",
      "255:\tlearn: 24.3878471\ttotal: 969ms\tremaining: 2.81s\n",
      "256:\tlearn: 24.3675208\ttotal: 973ms\tremaining: 2.81s\n",
      "257:\tlearn: 24.3520255\ttotal: 977ms\tremaining: 2.81s\n",
      "258:\tlearn: 24.3237272\ttotal: 981ms\tremaining: 2.81s\n",
      "259:\tlearn: 24.2915372\ttotal: 985ms\tremaining: 2.8s\n",
      "260:\tlearn: 24.2531079\ttotal: 989ms\tremaining: 2.8s\n",
      "261:\tlearn: 24.2358295\ttotal: 993ms\tremaining: 2.8s\n",
      "262:\tlearn: 24.2103803\ttotal: 997ms\tremaining: 2.79s\n",
      "263:\tlearn: 24.2059752\ttotal: 1s\tremaining: 2.79s\n",
      "264:\tlearn: 24.1824508\ttotal: 1s\tremaining: 2.79s\n",
      "265:\tlearn: 24.1685359\ttotal: 1.01s\tremaining: 2.78s\n",
      "266:\tlearn: 24.1313781\ttotal: 1.01s\tremaining: 2.78s\n",
      "267:\tlearn: 24.0984982\ttotal: 1.02s\tremaining: 2.77s\n",
      "268:\tlearn: 24.0662635\ttotal: 1.02s\tremaining: 2.77s\n",
      "269:\tlearn: 24.0192792\ttotal: 1.02s\tremaining: 2.77s\n",
      "270:\tlearn: 23.9945629\ttotal: 1.03s\tremaining: 2.76s\n",
      "271:\tlearn: 23.9792618\ttotal: 1.03s\tremaining: 2.76s\n",
      "272:\tlearn: 23.9702641\ttotal: 1.03s\tremaining: 2.76s\n",
      "273:\tlearn: 23.9437192\ttotal: 1.04s\tremaining: 2.75s\n",
      "274:\tlearn: 23.9380721\ttotal: 1.04s\tremaining: 2.75s\n",
      "275:\tlearn: 23.9339565\ttotal: 1.05s\tremaining: 2.74s\n",
      "276:\tlearn: 23.9177675\ttotal: 1.05s\tremaining: 2.75s\n",
      "277:\tlearn: 23.8958382\ttotal: 1.06s\tremaining: 2.75s\n",
      "278:\tlearn: 23.8809124\ttotal: 1.06s\tremaining: 2.75s\n",
      "279:\tlearn: 23.8635921\ttotal: 1.07s\tremaining: 2.75s\n",
      "280:\tlearn: 23.8246617\ttotal: 1.07s\tremaining: 2.75s\n",
      "281:\tlearn: 23.8018487\ttotal: 1.08s\tremaining: 2.74s\n",
      "282:\tlearn: 23.7707675\ttotal: 1.08s\tremaining: 2.74s\n",
      "283:\tlearn: 23.7407620\ttotal: 1.08s\tremaining: 2.74s\n",
      "284:\tlearn: 23.7373062\ttotal: 1.09s\tremaining: 2.73s\n",
      "285:\tlearn: 23.7097031\ttotal: 1.09s\tremaining: 2.73s\n",
      "286:\tlearn: 23.6830344\ttotal: 1.1s\tremaining: 2.72s\n",
      "287:\tlearn: 23.6671240\ttotal: 1.1s\tremaining: 2.72s\n",
      "288:\tlearn: 23.6569719\ttotal: 1.1s\tremaining: 2.72s\n",
      "289:\tlearn: 23.6188544\ttotal: 1.11s\tremaining: 2.71s\n",
      "290:\tlearn: 23.6103610\ttotal: 1.11s\tremaining: 2.71s\n",
      "291:\tlearn: 23.5891530\ttotal: 1.12s\tremaining: 2.71s\n",
      "292:\tlearn: 23.5589504\ttotal: 1.12s\tremaining: 2.7s\n",
      "293:\tlearn: 23.5430835\ttotal: 1.12s\tremaining: 2.7s\n",
      "294:\tlearn: 23.5300941\ttotal: 1.13s\tremaining: 2.7s\n",
      "295:\tlearn: 23.5265696\ttotal: 1.13s\tremaining: 2.69s\n",
      "296:\tlearn: 23.5167548\ttotal: 1.14s\tremaining: 2.69s\n",
      "297:\tlearn: 23.4994885\ttotal: 1.14s\tremaining: 2.69s\n",
      "298:\tlearn: 23.4870146\ttotal: 1.15s\tremaining: 2.69s\n",
      "299:\tlearn: 23.4713206\ttotal: 1.15s\tremaining: 2.68s\n",
      "300:\tlearn: 23.4461880\ttotal: 1.15s\tremaining: 2.68s\n",
      "301:\tlearn: 23.4217464\ttotal: 1.16s\tremaining: 2.67s\n",
      "302:\tlearn: 23.4053102\ttotal: 1.16s\tremaining: 2.67s\n",
      "303:\tlearn: 23.3816447\ttotal: 1.16s\tremaining: 2.67s\n",
      "304:\tlearn: 23.3481069\ttotal: 1.17s\tremaining: 2.66s\n",
      "305:\tlearn: 23.3197328\ttotal: 1.17s\tremaining: 2.66s\n",
      "306:\tlearn: 23.3107603\ttotal: 1.18s\tremaining: 2.65s\n",
      "307:\tlearn: 23.3074569\ttotal: 1.18s\tremaining: 2.65s\n",
      "308:\tlearn: 23.3014647\ttotal: 1.18s\tremaining: 2.64s\n",
      "309:\tlearn: 23.2731144\ttotal: 1.19s\tremaining: 2.64s\n",
      "310:\tlearn: 23.2690996\ttotal: 1.19s\tremaining: 2.64s\n",
      "311:\tlearn: 23.2477779\ttotal: 1.19s\tremaining: 2.63s\n",
      "312:\tlearn: 23.2270568\ttotal: 1.2s\tremaining: 2.63s\n",
      "313:\tlearn: 23.2156498\ttotal: 1.2s\tremaining: 2.63s\n",
      "314:\tlearn: 23.2111832\ttotal: 1.21s\tremaining: 2.62s\n",
      "315:\tlearn: 23.1835149\ttotal: 1.21s\tremaining: 2.62s\n",
      "316:\tlearn: 23.1688029\ttotal: 1.22s\tremaining: 2.62s\n",
      "317:\tlearn: 23.1591613\ttotal: 1.22s\tremaining: 2.61s\n",
      "318:\tlearn: 23.1558885\ttotal: 1.22s\tremaining: 2.61s\n",
      "319:\tlearn: 23.1342419\ttotal: 1.23s\tremaining: 2.61s\n",
      "320:\tlearn: 23.1168001\ttotal: 1.23s\tremaining: 2.6s\n",
      "321:\tlearn: 23.0991346\ttotal: 1.23s\tremaining: 2.6s\n",
      "322:\tlearn: 23.0865856\ttotal: 1.24s\tremaining: 2.59s\n",
      "323:\tlearn: 23.0636873\ttotal: 1.24s\tremaining: 2.59s\n",
      "324:\tlearn: 23.0439401\ttotal: 1.25s\tremaining: 2.59s\n",
      "325:\tlearn: 23.0311841\ttotal: 1.25s\tremaining: 2.58s\n",
      "326:\tlearn: 23.0128101\ttotal: 1.25s\tremaining: 2.58s\n",
      "327:\tlearn: 23.0021100\ttotal: 1.26s\tremaining: 2.58s\n",
      "328:\tlearn: 22.9852998\ttotal: 1.26s\tremaining: 2.57s\n",
      "329:\tlearn: 22.9825290\ttotal: 1.26s\tremaining: 2.57s\n",
      "330:\tlearn: 22.9577429\ttotal: 1.27s\tremaining: 2.56s\n",
      "331:\tlearn: 22.9410367\ttotal: 1.27s\tremaining: 2.56s\n",
      "332:\tlearn: 22.9364466\ttotal: 1.28s\tremaining: 2.56s\n",
      "333:\tlearn: 22.9064063\ttotal: 1.28s\tremaining: 2.55s\n",
      "334:\tlearn: 22.8726595\ttotal: 1.28s\tremaining: 2.55s\n",
      "335:\tlearn: 22.8699217\ttotal: 1.29s\tremaining: 2.54s\n",
      "336:\tlearn: 22.8673012\ttotal: 1.29s\tremaining: 2.54s\n",
      "337:\tlearn: 22.8493356\ttotal: 1.29s\tremaining: 2.53s\n",
      "338:\tlearn: 22.8466183\ttotal: 1.3s\tremaining: 2.53s\n",
      "339:\tlearn: 22.8151206\ttotal: 1.3s\tremaining: 2.53s\n",
      "340:\tlearn: 22.8106797\ttotal: 1.31s\tremaining: 2.52s\n",
      "341:\tlearn: 22.7877522\ttotal: 1.31s\tremaining: 2.52s\n",
      "342:\tlearn: 22.7574095\ttotal: 1.31s\tremaining: 2.52s\n",
      "343:\tlearn: 22.7471106\ttotal: 1.32s\tremaining: 2.51s\n",
      "344:\tlearn: 22.7287995\ttotal: 1.32s\tremaining: 2.51s\n",
      "345:\tlearn: 22.7041624\ttotal: 1.32s\tremaining: 2.5s\n",
      "346:\tlearn: 22.7018586\ttotal: 1.33s\tremaining: 2.5s\n",
      "347:\tlearn: 22.6812925\ttotal: 1.33s\tremaining: 2.5s\n",
      "348:\tlearn: 22.6746517\ttotal: 1.33s\tremaining: 2.49s\n",
      "349:\tlearn: 22.6510012\ttotal: 1.34s\tremaining: 2.49s\n",
      "350:\tlearn: 22.6237614\ttotal: 1.34s\tremaining: 2.48s\n",
      "351:\tlearn: 22.6118474\ttotal: 1.35s\tremaining: 2.48s\n",
      "352:\tlearn: 22.5812765\ttotal: 1.35s\tremaining: 2.48s\n",
      "353:\tlearn: 22.5798588\ttotal: 1.35s\tremaining: 2.47s\n",
      "354:\tlearn: 22.5628031\ttotal: 1.36s\tremaining: 2.47s\n",
      "355:\tlearn: 22.5341040\ttotal: 1.36s\tremaining: 2.46s\n",
      "356:\tlearn: 22.5031841\ttotal: 1.36s\tremaining: 2.46s\n",
      "357:\tlearn: 22.4836959\ttotal: 1.37s\tremaining: 2.46s\n",
      "358:\tlearn: 22.4745297\ttotal: 1.37s\tremaining: 2.45s\n",
      "359:\tlearn: 22.4611860\ttotal: 1.38s\tremaining: 2.45s\n",
      "360:\tlearn: 22.4592469\ttotal: 1.38s\tremaining: 2.44s\n",
      "361:\tlearn: 22.4394220\ttotal: 1.38s\tremaining: 2.44s\n",
      "362:\tlearn: 22.4371233\ttotal: 1.39s\tremaining: 2.44s\n",
      "363:\tlearn: 22.4085917\ttotal: 1.39s\tremaining: 2.43s\n",
      "364:\tlearn: 22.3925434\ttotal: 1.4s\tremaining: 2.43s\n",
      "365:\tlearn: 22.3667476\ttotal: 1.4s\tremaining: 2.43s\n",
      "366:\tlearn: 22.3360064\ttotal: 1.4s\tremaining: 2.42s\n",
      "367:\tlearn: 22.3271943\ttotal: 1.41s\tremaining: 2.42s\n",
      "368:\tlearn: 22.3024438\ttotal: 1.41s\tremaining: 2.41s\n",
      "369:\tlearn: 22.2732130\ttotal: 1.42s\tremaining: 2.41s\n",
      "370:\tlearn: 22.2648983\ttotal: 1.42s\tremaining: 2.4s\n",
      "371:\tlearn: 22.2628996\ttotal: 1.42s\tremaining: 2.4s\n",
      "372:\tlearn: 22.2324136\ttotal: 1.43s\tremaining: 2.4s\n",
      "373:\tlearn: 22.2305397\ttotal: 1.43s\tremaining: 2.39s\n",
      "374:\tlearn: 22.2104131\ttotal: 1.43s\tremaining: 2.39s\n",
      "375:\tlearn: 22.1898336\ttotal: 1.44s\tremaining: 2.38s\n",
      "376:\tlearn: 22.1728855\ttotal: 1.44s\tremaining: 2.38s\n",
      "377:\tlearn: 22.1512540\ttotal: 1.45s\tremaining: 2.38s\n",
      "378:\tlearn: 22.1212589\ttotal: 1.45s\tremaining: 2.38s\n",
      "379:\tlearn: 22.1191613\ttotal: 1.45s\tremaining: 2.37s\n",
      "380:\tlearn: 22.1169412\ttotal: 1.46s\tremaining: 2.37s\n",
      "381:\tlearn: 22.0884367\ttotal: 1.46s\tremaining: 2.36s\n",
      "382:\tlearn: 22.0850131\ttotal: 1.47s\tremaining: 2.36s\n",
      "383:\tlearn: 22.0731903\ttotal: 1.47s\tremaining: 2.36s\n",
      "384:\tlearn: 22.0566432\ttotal: 1.48s\tremaining: 2.36s\n",
      "385:\tlearn: 22.0554130\ttotal: 1.48s\tremaining: 2.35s\n",
      "386:\tlearn: 22.0330079\ttotal: 1.48s\tremaining: 2.35s\n",
      "387:\tlearn: 22.0277004\ttotal: 1.49s\tremaining: 2.34s\n",
      "388:\tlearn: 22.0028459\ttotal: 1.49s\tremaining: 2.34s\n",
      "389:\tlearn: 21.9858134\ttotal: 1.49s\tremaining: 2.34s\n",
      "390:\tlearn: 21.9740418\ttotal: 1.5s\tremaining: 2.33s\n",
      "391:\tlearn: 21.9551710\ttotal: 1.5s\tremaining: 2.33s\n",
      "392:\tlearn: 21.9524992\ttotal: 1.5s\tremaining: 2.33s\n",
      "393:\tlearn: 21.9377712\ttotal: 1.51s\tremaining: 2.32s\n",
      "394:\tlearn: 21.9224928\ttotal: 1.51s\tremaining: 2.32s\n",
      "395:\tlearn: 21.8999497\ttotal: 1.52s\tremaining: 2.31s\n",
      "396:\tlearn: 21.8751618\ttotal: 1.52s\tremaining: 2.31s\n",
      "397:\tlearn: 21.8541069\ttotal: 1.53s\tremaining: 2.31s\n",
      "398:\tlearn: 21.8403966\ttotal: 1.53s\tremaining: 2.31s\n",
      "399:\tlearn: 21.8261796\ttotal: 1.53s\tremaining: 2.3s\n",
      "400:\tlearn: 21.7994753\ttotal: 1.54s\tremaining: 2.3s\n",
      "401:\tlearn: 21.7868737\ttotal: 1.54s\tremaining: 2.3s\n",
      "402:\tlearn: 21.7613971\ttotal: 1.55s\tremaining: 2.29s\n",
      "403:\tlearn: 21.7451672\ttotal: 1.55s\tremaining: 2.29s\n",
      "404:\tlearn: 21.7402491\ttotal: 1.56s\tremaining: 2.29s\n",
      "405:\tlearn: 21.7387597\ttotal: 1.56s\tremaining: 2.29s\n",
      "406:\tlearn: 21.7213517\ttotal: 1.57s\tremaining: 2.29s\n",
      "407:\tlearn: 21.7156250\ttotal: 1.57s\tremaining: 2.28s\n",
      "408:\tlearn: 21.7029752\ttotal: 1.58s\tremaining: 2.28s\n",
      "409:\tlearn: 21.7014461\ttotal: 1.58s\tremaining: 2.27s\n",
      "410:\tlearn: 21.6997795\ttotal: 1.58s\tremaining: 2.27s\n",
      "411:\tlearn: 21.6822604\ttotal: 1.59s\tremaining: 2.27s\n",
      "412:\tlearn: 21.6690970\ttotal: 1.59s\tremaining: 2.26s\n",
      "413:\tlearn: 21.6617294\ttotal: 1.6s\tremaining: 2.26s\n",
      "414:\tlearn: 21.6344824\ttotal: 1.6s\tremaining: 2.26s\n",
      "415:\tlearn: 21.6144805\ttotal: 1.6s\tremaining: 2.25s\n",
      "416:\tlearn: 21.6066096\ttotal: 1.61s\tremaining: 2.25s\n",
      "417:\tlearn: 21.6028651\ttotal: 1.61s\tremaining: 2.25s\n",
      "418:\tlearn: 21.5819404\ttotal: 1.62s\tremaining: 2.24s\n",
      "419:\tlearn: 21.5804455\ttotal: 1.62s\tremaining: 2.24s\n",
      "420:\tlearn: 21.5787039\ttotal: 1.63s\tremaining: 2.23s\n",
      "421:\tlearn: 21.5781982\ttotal: 1.63s\tremaining: 2.23s\n",
      "422:\tlearn: 21.5768507\ttotal: 1.63s\tremaining: 2.23s\n",
      "423:\tlearn: 21.5745349\ttotal: 1.64s\tremaining: 2.22s\n",
      "424:\tlearn: 21.5696842\ttotal: 1.64s\tremaining: 2.22s\n",
      "425:\tlearn: 21.5422521\ttotal: 1.64s\tremaining: 2.22s\n",
      "426:\tlearn: 21.5219139\ttotal: 1.65s\tremaining: 2.21s\n",
      "427:\tlearn: 21.5206743\ttotal: 1.65s\tremaining: 2.21s\n",
      "428:\tlearn: 21.5075831\ttotal: 1.66s\tremaining: 2.2s\n",
      "429:\tlearn: 21.5001243\ttotal: 1.66s\tremaining: 2.2s\n",
      "430:\tlearn: 21.4723940\ttotal: 1.66s\tremaining: 2.2s\n",
      "431:\tlearn: 21.4551332\ttotal: 1.67s\tremaining: 2.19s\n",
      "432:\tlearn: 21.4490806\ttotal: 1.67s\tremaining: 2.19s\n",
      "433:\tlearn: 21.4228451\ttotal: 1.68s\tremaining: 2.18s\n",
      "434:\tlearn: 21.3928500\ttotal: 1.68s\tremaining: 2.18s\n",
      "435:\tlearn: 21.3692344\ttotal: 1.68s\tremaining: 2.18s\n",
      "436:\tlearn: 21.3520299\ttotal: 1.69s\tremaining: 2.17s\n",
      "437:\tlearn: 21.3397485\ttotal: 1.69s\tremaining: 2.17s\n",
      "438:\tlearn: 21.3179383\ttotal: 1.69s\tremaining: 2.17s\n",
      "439:\tlearn: 21.3167568\ttotal: 1.7s\tremaining: 2.16s\n",
      "440:\tlearn: 21.2963944\ttotal: 1.7s\tremaining: 2.16s\n",
      "441:\tlearn: 21.2667800\ttotal: 1.71s\tremaining: 2.15s\n",
      "442:\tlearn: 21.2367573\ttotal: 1.71s\tremaining: 2.15s\n",
      "443:\tlearn: 21.2125972\ttotal: 1.71s\tremaining: 2.15s\n",
      "444:\tlearn: 21.2114707\ttotal: 1.72s\tremaining: 2.14s\n",
      "445:\tlearn: 21.1868800\ttotal: 1.72s\tremaining: 2.14s\n",
      "446:\tlearn: 21.1682918\ttotal: 1.72s\tremaining: 2.13s\n",
      "447:\tlearn: 21.1649975\ttotal: 1.73s\tremaining: 2.13s\n",
      "448:\tlearn: 21.1574803\ttotal: 1.73s\tremaining: 2.13s\n",
      "449:\tlearn: 21.1550266\ttotal: 1.74s\tremaining: 2.12s\n",
      "450:\tlearn: 21.1490890\ttotal: 1.74s\tremaining: 2.12s\n",
      "451:\tlearn: 21.1348503\ttotal: 1.74s\tremaining: 2.11s\n",
      "452:\tlearn: 21.1180258\ttotal: 1.75s\tremaining: 2.11s\n",
      "453:\tlearn: 21.0943031\ttotal: 1.75s\tremaining: 2.1s\n",
      "454:\tlearn: 21.0794023\ttotal: 1.75s\tremaining: 2.1s\n",
      "455:\tlearn: 21.0782022\ttotal: 1.76s\tremaining: 2.1s\n",
      "456:\tlearn: 21.0758494\ttotal: 1.76s\tremaining: 2.09s\n",
      "457:\tlearn: 21.0623022\ttotal: 1.77s\tremaining: 2.09s\n",
      "458:\tlearn: 21.0607090\ttotal: 1.77s\tremaining: 2.09s\n",
      "459:\tlearn: 21.0546352\ttotal: 1.77s\tremaining: 2.08s\n",
      "460:\tlearn: 21.0535223\ttotal: 1.78s\tremaining: 2.08s\n",
      "461:\tlearn: 21.0487689\ttotal: 1.78s\tremaining: 2.08s\n",
      "462:\tlearn: 21.0304087\ttotal: 1.79s\tremaining: 2.07s\n",
      "463:\tlearn: 21.0247764\ttotal: 1.79s\tremaining: 2.07s\n",
      "464:\tlearn: 21.0230195\ttotal: 1.79s\tremaining: 2.06s\n",
      "465:\tlearn: 21.0144604\ttotal: 1.8s\tremaining: 2.06s\n",
      "466:\tlearn: 20.9927611\ttotal: 1.8s\tremaining: 2.06s\n",
      "467:\tlearn: 20.9858973\ttotal: 1.8s\tremaining: 2.05s\n",
      "468:\tlearn: 20.9810138\ttotal: 1.81s\tremaining: 2.05s\n",
      "469:\tlearn: 20.9616285\ttotal: 1.81s\tremaining: 2.04s\n",
      "470:\tlearn: 20.9444767\ttotal: 1.82s\tremaining: 2.04s\n",
      "471:\tlearn: 20.9424893\ttotal: 1.82s\tremaining: 2.04s\n",
      "472:\tlearn: 20.9279224\ttotal: 1.82s\tremaining: 2.03s\n",
      "473:\tlearn: 20.9075959\ttotal: 1.83s\tremaining: 2.03s\n",
      "474:\tlearn: 20.8978191\ttotal: 1.83s\tremaining: 2.02s\n",
      "475:\tlearn: 20.8740383\ttotal: 1.83s\tremaining: 2.02s\n",
      "476:\tlearn: 20.8607316\ttotal: 1.84s\tremaining: 2.02s\n",
      "477:\tlearn: 20.8359982\ttotal: 1.84s\tremaining: 2.01s\n",
      "478:\tlearn: 20.8353098\ttotal: 1.85s\tremaining: 2.01s\n",
      "479:\tlearn: 20.8134824\ttotal: 1.85s\tremaining: 2s\n",
      "480:\tlearn: 20.7901516\ttotal: 1.85s\tremaining: 2s\n",
      "481:\tlearn: 20.7772514\ttotal: 1.86s\tremaining: 2s\n",
      "482:\tlearn: 20.7674741\ttotal: 1.86s\tremaining: 1.99s\n",
      "483:\tlearn: 20.7659806\ttotal: 1.86s\tremaining: 1.99s\n",
      "484:\tlearn: 20.7568909\ttotal: 1.87s\tremaining: 1.98s\n",
      "485:\tlearn: 20.7457396\ttotal: 1.87s\tremaining: 1.98s\n",
      "486:\tlearn: 20.7260949\ttotal: 1.88s\tremaining: 1.98s\n",
      "487:\tlearn: 20.7175473\ttotal: 1.88s\tremaining: 1.97s\n",
      "488:\tlearn: 20.6969488\ttotal: 1.88s\tremaining: 1.97s\n",
      "489:\tlearn: 20.6950141\ttotal: 1.89s\tremaining: 1.96s\n",
      "490:\tlearn: 20.6743802\ttotal: 1.89s\tremaining: 1.96s\n",
      "491:\tlearn: 20.6636044\ttotal: 1.9s\tremaining: 1.96s\n",
      "492:\tlearn: 20.6414714\ttotal: 1.9s\tremaining: 1.95s\n",
      "493:\tlearn: 20.6183733\ttotal: 1.9s\tremaining: 1.95s\n",
      "494:\tlearn: 20.5957125\ttotal: 1.91s\tremaining: 1.95s\n",
      "495:\tlearn: 20.5734953\ttotal: 1.91s\tremaining: 1.94s\n",
      "496:\tlearn: 20.5606365\ttotal: 1.92s\tremaining: 1.94s\n",
      "497:\tlearn: 20.5510796\ttotal: 1.92s\tremaining: 1.94s\n",
      "498:\tlearn: 20.5412872\ttotal: 1.92s\tremaining: 1.93s\n",
      "499:\tlearn: 20.5401964\ttotal: 1.93s\tremaining: 1.93s\n",
      "500:\tlearn: 20.5373419\ttotal: 1.93s\tremaining: 1.92s\n",
      "501:\tlearn: 20.5103732\ttotal: 1.94s\tremaining: 1.92s\n",
      "502:\tlearn: 20.4913027\ttotal: 1.94s\tremaining: 1.92s\n",
      "503:\tlearn: 20.4809413\ttotal: 1.94s\tremaining: 1.91s\n",
      "504:\tlearn: 20.4586714\ttotal: 1.95s\tremaining: 1.91s\n",
      "505:\tlearn: 20.4392979\ttotal: 1.95s\tremaining: 1.9s\n",
      "506:\tlearn: 20.4246940\ttotal: 1.96s\tremaining: 1.9s\n",
      "507:\tlearn: 20.4136063\ttotal: 1.96s\tremaining: 1.9s\n",
      "508:\tlearn: 20.4012723\ttotal: 1.96s\tremaining: 1.89s\n",
      "509:\tlearn: 20.3820658\ttotal: 1.97s\tremaining: 1.89s\n",
      "510:\tlearn: 20.3717235\ttotal: 1.97s\tremaining: 1.89s\n",
      "511:\tlearn: 20.3669341\ttotal: 1.97s\tremaining: 1.88s\n",
      "512:\tlearn: 20.3607053\ttotal: 1.98s\tremaining: 1.88s\n",
      "513:\tlearn: 20.3418904\ttotal: 1.98s\tremaining: 1.87s\n",
      "514:\tlearn: 20.3239690\ttotal: 1.99s\tremaining: 1.87s\n",
      "515:\tlearn: 20.3132655\ttotal: 1.99s\tremaining: 1.87s\n",
      "516:\tlearn: 20.2987756\ttotal: 1.99s\tremaining: 1.86s\n",
      "517:\tlearn: 20.2873993\ttotal: 2s\tremaining: 1.86s\n",
      "518:\tlearn: 20.2861456\ttotal: 2s\tremaining: 1.85s\n",
      "519:\tlearn: 20.2810517\ttotal: 2s\tremaining: 1.85s\n",
      "520:\tlearn: 20.2806995\ttotal: 2.01s\tremaining: 1.85s\n",
      "521:\tlearn: 20.2760181\ttotal: 2.01s\tremaining: 1.84s\n",
      "522:\tlearn: 20.2750746\ttotal: 2.02s\tremaining: 1.84s\n",
      "523:\tlearn: 20.2509527\ttotal: 2.02s\tremaining: 1.83s\n",
      "524:\tlearn: 20.2298183\ttotal: 2.02s\tremaining: 1.83s\n",
      "525:\tlearn: 20.2219083\ttotal: 2.03s\tremaining: 1.83s\n",
      "526:\tlearn: 20.2178228\ttotal: 2.03s\tremaining: 1.82s\n",
      "527:\tlearn: 20.2108911\ttotal: 2.03s\tremaining: 1.82s\n",
      "528:\tlearn: 20.2074489\ttotal: 2.04s\tremaining: 1.81s\n",
      "529:\tlearn: 20.1963624\ttotal: 2.04s\tremaining: 1.81s\n",
      "530:\tlearn: 20.1807557\ttotal: 2.04s\tremaining: 1.81s\n",
      "531:\tlearn: 20.1715836\ttotal: 2.05s\tremaining: 1.8s\n",
      "532:\tlearn: 20.1571463\ttotal: 2.05s\tremaining: 1.8s\n",
      "533:\tlearn: 20.1525514\ttotal: 2.06s\tremaining: 1.79s\n",
      "534:\tlearn: 20.1461962\ttotal: 2.06s\tremaining: 1.79s\n",
      "535:\tlearn: 20.1409802\ttotal: 2.06s\tremaining: 1.79s\n",
      "536:\tlearn: 20.1348852\ttotal: 2.07s\tremaining: 1.78s\n",
      "537:\tlearn: 20.1212034\ttotal: 2.07s\tremaining: 1.78s\n",
      "538:\tlearn: 20.0925577\ttotal: 2.07s\tremaining: 1.77s\n",
      "539:\tlearn: 20.0901046\ttotal: 2.08s\tremaining: 1.77s\n",
      "540:\tlearn: 20.0710683\ttotal: 2.08s\tremaining: 1.77s\n",
      "541:\tlearn: 20.0555767\ttotal: 2.08s\tremaining: 1.76s\n",
      "542:\tlearn: 20.0298893\ttotal: 2.09s\tremaining: 1.76s\n",
      "543:\tlearn: 20.0152383\ttotal: 2.09s\tremaining: 1.75s\n",
      "544:\tlearn: 20.0060384\ttotal: 2.1s\tremaining: 1.75s\n",
      "545:\tlearn: 19.9787998\ttotal: 2.1s\tremaining: 1.75s\n",
      "546:\tlearn: 19.9490506\ttotal: 2.1s\tremaining: 1.74s\n",
      "547:\tlearn: 19.9413849\ttotal: 2.11s\tremaining: 1.74s\n",
      "548:\tlearn: 19.9366684\ttotal: 2.11s\tremaining: 1.73s\n",
      "549:\tlearn: 19.9348941\ttotal: 2.12s\tremaining: 1.73s\n",
      "550:\tlearn: 19.9162885\ttotal: 2.12s\tremaining: 1.73s\n",
      "551:\tlearn: 19.8960840\ttotal: 2.12s\tremaining: 1.72s\n",
      "552:\tlearn: 19.8659087\ttotal: 2.13s\tremaining: 1.72s\n",
      "553:\tlearn: 19.8648999\ttotal: 2.13s\tremaining: 1.72s\n",
      "554:\tlearn: 19.8601438\ttotal: 2.13s\tremaining: 1.71s\n",
      "555:\tlearn: 19.8575685\ttotal: 2.14s\tremaining: 1.71s\n",
      "556:\tlearn: 19.8516836\ttotal: 2.14s\tremaining: 1.7s\n",
      "557:\tlearn: 19.8297244\ttotal: 2.15s\tremaining: 1.7s\n",
      "558:\tlearn: 19.8139409\ttotal: 2.15s\tremaining: 1.7s\n",
      "559:\tlearn: 19.8026155\ttotal: 2.15s\tremaining: 1.69s\n",
      "560:\tlearn: 19.7984710\ttotal: 2.16s\tremaining: 1.69s\n",
      "561:\tlearn: 19.7917220\ttotal: 2.16s\tremaining: 1.68s\n",
      "562:\tlearn: 19.7733380\ttotal: 2.17s\tremaining: 1.68s\n",
      "563:\tlearn: 19.7542221\ttotal: 2.17s\tremaining: 1.68s\n",
      "564:\tlearn: 19.7316699\ttotal: 2.17s\tremaining: 1.67s\n",
      "565:\tlearn: 19.7230531\ttotal: 2.18s\tremaining: 1.67s\n",
      "566:\tlearn: 19.7053499\ttotal: 2.18s\tremaining: 1.67s\n",
      "567:\tlearn: 19.6995376\ttotal: 2.18s\tremaining: 1.66s\n",
      "568:\tlearn: 19.6984775\ttotal: 2.19s\tremaining: 1.66s\n",
      "569:\tlearn: 19.6833611\ttotal: 2.19s\tremaining: 1.65s\n",
      "570:\tlearn: 19.6676753\ttotal: 2.19s\tremaining: 1.65s\n",
      "571:\tlearn: 19.6511683\ttotal: 2.2s\tremaining: 1.64s\n",
      "572:\tlearn: 19.6434513\ttotal: 2.2s\tremaining: 1.64s\n",
      "573:\tlearn: 19.6421811\ttotal: 2.21s\tremaining: 1.64s\n",
      "574:\tlearn: 19.6391587\ttotal: 2.21s\tremaining: 1.63s\n",
      "575:\tlearn: 19.6132820\ttotal: 2.21s\tremaining: 1.63s\n",
      "576:\tlearn: 19.6033835\ttotal: 2.22s\tremaining: 1.63s\n",
      "577:\tlearn: 19.5911918\ttotal: 2.22s\tremaining: 1.62s\n",
      "578:\tlearn: 19.5694424\ttotal: 2.22s\tremaining: 1.62s\n",
      "579:\tlearn: 19.5625168\ttotal: 2.23s\tremaining: 1.61s\n",
      "580:\tlearn: 19.5557907\ttotal: 2.23s\tremaining: 1.61s\n",
      "581:\tlearn: 19.5539817\ttotal: 2.23s\tremaining: 1.6s\n",
      "582:\tlearn: 19.5473560\ttotal: 2.24s\tremaining: 1.6s\n",
      "583:\tlearn: 19.5395207\ttotal: 2.24s\tremaining: 1.6s\n",
      "584:\tlearn: 19.5248359\ttotal: 2.25s\tremaining: 1.59s\n",
      "585:\tlearn: 19.5005971\ttotal: 2.25s\tremaining: 1.59s\n",
      "586:\tlearn: 19.4904842\ttotal: 2.25s\tremaining: 1.58s\n",
      "587:\tlearn: 19.4870191\ttotal: 2.26s\tremaining: 1.58s\n",
      "588:\tlearn: 19.4861208\ttotal: 2.26s\tremaining: 1.58s\n",
      "589:\tlearn: 19.4842609\ttotal: 2.26s\tremaining: 1.57s\n",
      "590:\tlearn: 19.4836928\ttotal: 2.27s\tremaining: 1.57s\n",
      "591:\tlearn: 19.4717664\ttotal: 2.27s\tremaining: 1.56s\n",
      "592:\tlearn: 19.4546852\ttotal: 2.27s\tremaining: 1.56s\n",
      "593:\tlearn: 19.4460887\ttotal: 2.28s\tremaining: 1.56s\n",
      "594:\tlearn: 19.4404800\ttotal: 2.28s\tremaining: 1.55s\n",
      "595:\tlearn: 19.4241567\ttotal: 2.28s\tremaining: 1.55s\n",
      "596:\tlearn: 19.4228714\ttotal: 2.29s\tremaining: 1.54s\n",
      "597:\tlearn: 19.4204884\ttotal: 2.29s\tremaining: 1.54s\n",
      "598:\tlearn: 19.4177885\ttotal: 2.29s\tremaining: 1.54s\n",
      "599:\tlearn: 19.4108784\ttotal: 2.3s\tremaining: 1.53s\n",
      "600:\tlearn: 19.4093947\ttotal: 2.3s\tremaining: 1.53s\n",
      "601:\tlearn: 19.4074028\ttotal: 2.31s\tremaining: 1.52s\n",
      "602:\tlearn: 19.4034088\ttotal: 2.31s\tremaining: 1.52s\n",
      "603:\tlearn: 19.4006750\ttotal: 2.31s\tremaining: 1.52s\n",
      "604:\tlearn: 19.3960221\ttotal: 2.32s\tremaining: 1.51s\n",
      "605:\tlearn: 19.3787506\ttotal: 2.32s\tremaining: 1.51s\n",
      "606:\tlearn: 19.3720181\ttotal: 2.32s\tremaining: 1.5s\n",
      "607:\tlearn: 19.3626592\ttotal: 2.33s\tremaining: 1.5s\n",
      "608:\tlearn: 19.3601247\ttotal: 2.33s\tremaining: 1.5s\n",
      "609:\tlearn: 19.3459688\ttotal: 2.33s\tremaining: 1.49s\n",
      "610:\tlearn: 19.3285445\ttotal: 2.34s\tremaining: 1.49s\n",
      "611:\tlearn: 19.3144508\ttotal: 2.34s\tremaining: 1.48s\n",
      "612:\tlearn: 19.3120465\ttotal: 2.35s\tremaining: 1.48s\n",
      "613:\tlearn: 19.2943097\ttotal: 2.35s\tremaining: 1.48s\n",
      "614:\tlearn: 19.2835639\ttotal: 2.35s\tremaining: 1.47s\n",
      "615:\tlearn: 19.2829681\ttotal: 2.35s\tremaining: 1.47s\n",
      "616:\tlearn: 19.2654699\ttotal: 2.36s\tremaining: 1.46s\n",
      "617:\tlearn: 19.2439681\ttotal: 2.36s\tremaining: 1.46s\n",
      "618:\tlearn: 19.2304627\ttotal: 2.37s\tremaining: 1.46s\n",
      "619:\tlearn: 19.2147213\ttotal: 2.37s\tremaining: 1.45s\n",
      "620:\tlearn: 19.1966054\ttotal: 2.37s\tremaining: 1.45s\n",
      "621:\tlearn: 19.1727121\ttotal: 2.38s\tremaining: 1.44s\n",
      "622:\tlearn: 19.1684743\ttotal: 2.38s\tremaining: 1.44s\n",
      "623:\tlearn: 19.1454100\ttotal: 2.38s\tremaining: 1.44s\n",
      "624:\tlearn: 19.1356133\ttotal: 2.39s\tremaining: 1.43s\n",
      "625:\tlearn: 19.1195816\ttotal: 2.39s\tremaining: 1.43s\n",
      "626:\tlearn: 19.1105641\ttotal: 2.4s\tremaining: 1.43s\n",
      "627:\tlearn: 19.1008216\ttotal: 2.4s\tremaining: 1.42s\n",
      "628:\tlearn: 19.0800728\ttotal: 2.4s\tremaining: 1.42s\n",
      "629:\tlearn: 19.0662420\ttotal: 2.41s\tremaining: 1.41s\n",
      "630:\tlearn: 19.0505783\ttotal: 2.41s\tremaining: 1.41s\n",
      "631:\tlearn: 19.0391444\ttotal: 2.42s\tremaining: 1.41s\n",
      "632:\tlearn: 19.0369931\ttotal: 2.42s\tremaining: 1.4s\n",
      "633:\tlearn: 19.0178467\ttotal: 2.42s\tremaining: 1.4s\n",
      "634:\tlearn: 19.0158576\ttotal: 2.43s\tremaining: 1.39s\n",
      "635:\tlearn: 19.0152422\ttotal: 2.43s\tremaining: 1.39s\n",
      "636:\tlearn: 19.0125951\ttotal: 2.43s\tremaining: 1.39s\n",
      "637:\tlearn: 19.0108190\ttotal: 2.44s\tremaining: 1.38s\n",
      "638:\tlearn: 18.9918578\ttotal: 2.44s\tremaining: 1.38s\n",
      "639:\tlearn: 18.9806662\ttotal: 2.45s\tremaining: 1.38s\n",
      "640:\tlearn: 18.9592462\ttotal: 2.45s\tremaining: 1.37s\n",
      "641:\tlearn: 18.9581248\ttotal: 2.45s\tremaining: 1.37s\n",
      "642:\tlearn: 18.9571824\ttotal: 2.46s\tremaining: 1.36s\n",
      "643:\tlearn: 18.9329237\ttotal: 2.46s\tremaining: 1.36s\n",
      "644:\tlearn: 18.9225861\ttotal: 2.47s\tremaining: 1.36s\n",
      "645:\tlearn: 18.8903513\ttotal: 2.47s\tremaining: 1.35s\n",
      "646:\tlearn: 18.8772037\ttotal: 2.47s\tremaining: 1.35s\n",
      "647:\tlearn: 18.8599085\ttotal: 2.48s\tremaining: 1.35s\n",
      "648:\tlearn: 18.8446985\ttotal: 2.48s\tremaining: 1.34s\n",
      "649:\tlearn: 18.8286765\ttotal: 2.49s\tremaining: 1.34s\n",
      "650:\tlearn: 18.8251464\ttotal: 2.49s\tremaining: 1.33s\n",
      "651:\tlearn: 18.8158721\ttotal: 2.49s\tremaining: 1.33s\n",
      "652:\tlearn: 18.7905453\ttotal: 2.5s\tremaining: 1.33s\n",
      "653:\tlearn: 18.7859313\ttotal: 2.5s\tremaining: 1.32s\n",
      "654:\tlearn: 18.7847418\ttotal: 2.51s\tremaining: 1.32s\n",
      "655:\tlearn: 18.7752109\ttotal: 2.51s\tremaining: 1.32s\n",
      "656:\tlearn: 18.7737769\ttotal: 2.52s\tremaining: 1.31s\n",
      "657:\tlearn: 18.7683407\ttotal: 2.52s\tremaining: 1.31s\n",
      "658:\tlearn: 18.7674266\ttotal: 2.52s\tremaining: 1.3s\n",
      "659:\tlearn: 18.7664461\ttotal: 2.53s\tremaining: 1.3s\n",
      "660:\tlearn: 18.7467108\ttotal: 2.53s\tremaining: 1.3s\n",
      "661:\tlearn: 18.7362092\ttotal: 2.53s\tremaining: 1.29s\n",
      "662:\tlearn: 18.7214231\ttotal: 2.54s\tremaining: 1.29s\n",
      "663:\tlearn: 18.7010341\ttotal: 2.54s\tremaining: 1.29s\n",
      "664:\tlearn: 18.6934805\ttotal: 2.55s\tremaining: 1.28s\n",
      "665:\tlearn: 18.6809095\ttotal: 2.55s\tremaining: 1.28s\n",
      "666:\tlearn: 18.6697053\ttotal: 2.55s\tremaining: 1.27s\n",
      "667:\tlearn: 18.6683290\ttotal: 2.56s\tremaining: 1.27s\n",
      "668:\tlearn: 18.6511986\ttotal: 2.56s\tremaining: 1.27s\n",
      "669:\tlearn: 18.6370114\ttotal: 2.56s\tremaining: 1.26s\n",
      "670:\tlearn: 18.6239823\ttotal: 2.57s\tremaining: 1.26s\n",
      "671:\tlearn: 18.6201331\ttotal: 2.57s\tremaining: 1.25s\n",
      "672:\tlearn: 18.6103477\ttotal: 2.58s\tremaining: 1.25s\n",
      "673:\tlearn: 18.6011474\ttotal: 2.58s\tremaining: 1.25s\n",
      "674:\tlearn: 18.6004203\ttotal: 2.58s\tremaining: 1.24s\n",
      "675:\tlearn: 18.5987327\ttotal: 2.59s\tremaining: 1.24s\n",
      "676:\tlearn: 18.5933429\ttotal: 2.59s\tremaining: 1.24s\n",
      "677:\tlearn: 18.5838991\ttotal: 2.59s\tremaining: 1.23s\n",
      "678:\tlearn: 18.5830938\ttotal: 2.6s\tremaining: 1.23s\n",
      "679:\tlearn: 18.5767583\ttotal: 2.6s\tremaining: 1.22s\n",
      "680:\tlearn: 18.5739375\ttotal: 2.6s\tremaining: 1.22s\n",
      "681:\tlearn: 18.5686635\ttotal: 2.61s\tremaining: 1.22s\n",
      "682:\tlearn: 18.5468326\ttotal: 2.61s\tremaining: 1.21s\n",
      "683:\tlearn: 18.5306416\ttotal: 2.61s\tremaining: 1.21s\n",
      "684:\tlearn: 18.5125689\ttotal: 2.62s\tremaining: 1.2s\n",
      "685:\tlearn: 18.4971773\ttotal: 2.62s\tremaining: 1.2s\n",
      "686:\tlearn: 18.4961045\ttotal: 2.63s\tremaining: 1.2s\n",
      "687:\tlearn: 18.4945234\ttotal: 2.63s\tremaining: 1.19s\n",
      "688:\tlearn: 18.4858741\ttotal: 2.63s\tremaining: 1.19s\n",
      "689:\tlearn: 18.4807762\ttotal: 2.64s\tremaining: 1.18s\n",
      "690:\tlearn: 18.4575204\ttotal: 2.64s\tremaining: 1.18s\n",
      "691:\tlearn: 18.4434346\ttotal: 2.64s\tremaining: 1.18s\n",
      "692:\tlearn: 18.4360702\ttotal: 2.65s\tremaining: 1.17s\n",
      "693:\tlearn: 18.4165320\ttotal: 2.65s\tremaining: 1.17s\n",
      "694:\tlearn: 18.4087559\ttotal: 2.65s\tremaining: 1.17s\n",
      "695:\tlearn: 18.3997191\ttotal: 2.66s\tremaining: 1.16s\n",
      "696:\tlearn: 18.3982387\ttotal: 2.66s\tremaining: 1.16s\n",
      "697:\tlearn: 18.3974621\ttotal: 2.67s\tremaining: 1.15s\n",
      "698:\tlearn: 18.3805810\ttotal: 2.67s\tremaining: 1.15s\n",
      "699:\tlearn: 18.3598355\ttotal: 2.67s\tremaining: 1.15s\n",
      "700:\tlearn: 18.3382666\ttotal: 2.68s\tremaining: 1.14s\n",
      "701:\tlearn: 18.3208010\ttotal: 2.68s\tremaining: 1.14s\n",
      "702:\tlearn: 18.3059070\ttotal: 2.69s\tremaining: 1.14s\n",
      "703:\tlearn: 18.2857795\ttotal: 2.69s\tremaining: 1.13s\n",
      "704:\tlearn: 18.2791744\ttotal: 2.7s\tremaining: 1.13s\n",
      "705:\tlearn: 18.2772353\ttotal: 2.7s\tremaining: 1.13s\n",
      "706:\tlearn: 18.2712147\ttotal: 2.71s\tremaining: 1.12s\n",
      "707:\tlearn: 18.2632422\ttotal: 2.71s\tremaining: 1.12s\n",
      "708:\tlearn: 18.2482086\ttotal: 2.71s\tremaining: 1.11s\n",
      "709:\tlearn: 18.2353091\ttotal: 2.72s\tremaining: 1.11s\n",
      "710:\tlearn: 18.2193544\ttotal: 2.72s\tremaining: 1.11s\n",
      "711:\tlearn: 18.2058816\ttotal: 2.72s\tremaining: 1.1s\n",
      "712:\tlearn: 18.1983859\ttotal: 2.73s\tremaining: 1.1s\n",
      "713:\tlearn: 18.1775807\ttotal: 2.73s\tremaining: 1.09s\n",
      "714:\tlearn: 18.1561825\ttotal: 2.74s\tremaining: 1.09s\n",
      "715:\tlearn: 18.1427367\ttotal: 2.74s\tremaining: 1.09s\n",
      "716:\tlearn: 18.1220678\ttotal: 2.74s\tremaining: 1.08s\n",
      "717:\tlearn: 18.1214402\ttotal: 2.75s\tremaining: 1.08s\n",
      "718:\tlearn: 18.1046714\ttotal: 2.75s\tremaining: 1.07s\n",
      "719:\tlearn: 18.0959232\ttotal: 2.75s\tremaining: 1.07s\n",
      "720:\tlearn: 18.0762713\ttotal: 2.76s\tremaining: 1.07s\n",
      "721:\tlearn: 18.0740743\ttotal: 2.76s\tremaining: 1.06s\n",
      "722:\tlearn: 18.0599526\ttotal: 2.77s\tremaining: 1.06s\n",
      "723:\tlearn: 18.0465397\ttotal: 2.77s\tremaining: 1.06s\n",
      "724:\tlearn: 18.0427815\ttotal: 2.77s\tremaining: 1.05s\n",
      "725:\tlearn: 18.0418795\ttotal: 2.78s\tremaining: 1.05s\n",
      "726:\tlearn: 18.0252063\ttotal: 2.78s\tremaining: 1.04s\n",
      "727:\tlearn: 18.0157981\ttotal: 2.79s\tremaining: 1.04s\n",
      "728:\tlearn: 18.0076809\ttotal: 2.79s\tremaining: 1.04s\n",
      "729:\tlearn: 17.9975692\ttotal: 2.79s\tremaining: 1.03s\n",
      "730:\tlearn: 17.9762745\ttotal: 2.8s\tremaining: 1.03s\n",
      "731:\tlearn: 17.9761147\ttotal: 2.8s\tremaining: 1.02s\n",
      "732:\tlearn: 17.9651810\ttotal: 2.81s\tremaining: 1.02s\n",
      "733:\tlearn: 17.9527372\ttotal: 2.81s\tremaining: 1.02s\n",
      "734:\tlearn: 17.9344875\ttotal: 2.81s\tremaining: 1.01s\n",
      "735:\tlearn: 17.9301857\ttotal: 2.82s\tremaining: 1.01s\n",
      "736:\tlearn: 17.9293688\ttotal: 2.82s\tremaining: 1.01s\n",
      "737:\tlearn: 17.9122429\ttotal: 2.82s\tremaining: 1s\n",
      "738:\tlearn: 17.9063327\ttotal: 2.83s\tremaining: 999ms\n",
      "739:\tlearn: 17.9058873\ttotal: 2.83s\tremaining: 995ms\n",
      "740:\tlearn: 17.8887311\ttotal: 2.83s\tremaining: 991ms\n",
      "741:\tlearn: 17.8873598\ttotal: 2.84s\tremaining: 987ms\n",
      "742:\tlearn: 17.8863698\ttotal: 2.84s\tremaining: 983ms\n",
      "743:\tlearn: 17.8786956\ttotal: 2.85s\tremaining: 979ms\n",
      "744:\tlearn: 17.8774309\ttotal: 2.85s\tremaining: 976ms\n",
      "745:\tlearn: 17.8657655\ttotal: 2.85s\tremaining: 972ms\n",
      "746:\tlearn: 17.8519523\ttotal: 2.86s\tremaining: 968ms\n",
      "747:\tlearn: 17.8510595\ttotal: 2.86s\tremaining: 964ms\n",
      "748:\tlearn: 17.8502487\ttotal: 2.86s\tremaining: 960ms\n",
      "749:\tlearn: 17.8458635\ttotal: 2.87s\tremaining: 956ms\n",
      "750:\tlearn: 17.8406949\ttotal: 2.87s\tremaining: 952ms\n",
      "751:\tlearn: 17.8305157\ttotal: 2.88s\tremaining: 948ms\n",
      "752:\tlearn: 17.8136590\ttotal: 2.88s\tremaining: 944ms\n",
      "753:\tlearn: 17.7942809\ttotal: 2.88s\tremaining: 940ms\n",
      "754:\tlearn: 17.7818273\ttotal: 2.88s\tremaining: 936ms\n",
      "755:\tlearn: 17.7749545\ttotal: 2.89s\tremaining: 933ms\n",
      "756:\tlearn: 17.7725901\ttotal: 2.89s\tremaining: 929ms\n",
      "757:\tlearn: 17.7540203\ttotal: 2.9s\tremaining: 925ms\n",
      "758:\tlearn: 17.7393106\ttotal: 2.9s\tremaining: 921ms\n",
      "759:\tlearn: 17.7383954\ttotal: 2.9s\tremaining: 917ms\n",
      "760:\tlearn: 17.7278100\ttotal: 2.91s\tremaining: 913ms\n",
      "761:\tlearn: 17.7269395\ttotal: 2.91s\tremaining: 909ms\n",
      "762:\tlearn: 17.7115535\ttotal: 2.92s\tremaining: 906ms\n",
      "763:\tlearn: 17.7109815\ttotal: 2.92s\tremaining: 902ms\n",
      "764:\tlearn: 17.7044985\ttotal: 2.92s\tremaining: 898ms\n",
      "765:\tlearn: 17.7020985\ttotal: 2.92s\tremaining: 894ms\n",
      "766:\tlearn: 17.6962387\ttotal: 2.93s\tremaining: 890ms\n",
      "767:\tlearn: 17.6892004\ttotal: 2.93s\tremaining: 886ms\n",
      "768:\tlearn: 17.6700788\ttotal: 2.94s\tremaining: 882ms\n",
      "769:\tlearn: 17.6487380\ttotal: 2.94s\tremaining: 879ms\n",
      "770:\tlearn: 17.6301694\ttotal: 2.95s\tremaining: 875ms\n",
      "771:\tlearn: 17.6243128\ttotal: 2.95s\tremaining: 872ms\n",
      "772:\tlearn: 17.6092484\ttotal: 2.95s\tremaining: 868ms\n",
      "773:\tlearn: 17.5966230\ttotal: 2.96s\tremaining: 864ms\n",
      "774:\tlearn: 17.5864806\ttotal: 2.96s\tremaining: 861ms\n",
      "775:\tlearn: 17.5784062\ttotal: 2.97s\tremaining: 857ms\n",
      "776:\tlearn: 17.5582655\ttotal: 2.98s\tremaining: 854ms\n",
      "777:\tlearn: 17.5523013\ttotal: 2.98s\tremaining: 850ms\n",
      "778:\tlearn: 17.5515924\ttotal: 2.98s\tremaining: 846ms\n",
      "779:\tlearn: 17.5381277\ttotal: 2.99s\tremaining: 842ms\n",
      "780:\tlearn: 17.5352370\ttotal: 2.99s\tremaining: 838ms\n",
      "781:\tlearn: 17.5335099\ttotal: 2.99s\tremaining: 835ms\n",
      "782:\tlearn: 17.5292236\ttotal: 3s\tremaining: 831ms\n",
      "783:\tlearn: 17.5138158\ttotal: 3s\tremaining: 827ms\n",
      "784:\tlearn: 17.4984236\ttotal: 3.01s\tremaining: 823ms\n",
      "785:\tlearn: 17.4862445\ttotal: 3.01s\tremaining: 820ms\n",
      "786:\tlearn: 17.4855441\ttotal: 3.01s\tremaining: 816ms\n",
      "787:\tlearn: 17.4766844\ttotal: 3.02s\tremaining: 812ms\n",
      "788:\tlearn: 17.4720282\ttotal: 3.02s\tremaining: 808ms\n",
      "789:\tlearn: 17.4590123\ttotal: 3.02s\tremaining: 804ms\n",
      "790:\tlearn: 17.4373108\ttotal: 3.03s\tremaining: 800ms\n",
      "791:\tlearn: 17.4224694\ttotal: 3.03s\tremaining: 796ms\n",
      "792:\tlearn: 17.4220341\ttotal: 3.04s\tremaining: 792ms\n",
      "793:\tlearn: 17.4111564\ttotal: 3.04s\tremaining: 788ms\n",
      "794:\tlearn: 17.4038831\ttotal: 3.04s\tremaining: 785ms\n",
      "795:\tlearn: 17.3893856\ttotal: 3.04s\tremaining: 781ms\n",
      "796:\tlearn: 17.3879203\ttotal: 3.05s\tremaining: 777ms\n",
      "797:\tlearn: 17.3767964\ttotal: 3.05s\tremaining: 773ms\n",
      "798:\tlearn: 17.3607371\ttotal: 3.06s\tremaining: 769ms\n",
      "799:\tlearn: 17.3593821\ttotal: 3.06s\tremaining: 765ms\n",
      "800:\tlearn: 17.3578229\ttotal: 3.06s\tremaining: 761ms\n",
      "801:\tlearn: 17.3413205\ttotal: 3.07s\tremaining: 757ms\n",
      "802:\tlearn: 17.3248193\ttotal: 3.07s\tremaining: 754ms\n",
      "803:\tlearn: 17.3177433\ttotal: 3.07s\tremaining: 750ms\n",
      "804:\tlearn: 17.3032474\ttotal: 3.08s\tremaining: 746ms\n",
      "805:\tlearn: 17.2923335\ttotal: 3.08s\tremaining: 742ms\n",
      "806:\tlearn: 17.2768221\ttotal: 3.09s\tremaining: 738ms\n",
      "807:\tlearn: 17.2584100\ttotal: 3.09s\tremaining: 734ms\n",
      "808:\tlearn: 17.2484660\ttotal: 3.09s\tremaining: 730ms\n",
      "809:\tlearn: 17.2442959\ttotal: 3.1s\tremaining: 726ms\n",
      "810:\tlearn: 17.2422954\ttotal: 3.1s\tremaining: 723ms\n",
      "811:\tlearn: 17.2312912\ttotal: 3.1s\tremaining: 719ms\n",
      "812:\tlearn: 17.2230467\ttotal: 3.11s\tremaining: 715ms\n",
      "813:\tlearn: 17.2057154\ttotal: 3.11s\tremaining: 711ms\n",
      "814:\tlearn: 17.1992909\ttotal: 3.12s\tremaining: 708ms\n",
      "815:\tlearn: 17.1965157\ttotal: 3.12s\tremaining: 704ms\n",
      "816:\tlearn: 17.1903289\ttotal: 3.13s\tremaining: 700ms\n",
      "817:\tlearn: 17.1756399\ttotal: 3.13s\tremaining: 696ms\n",
      "818:\tlearn: 17.1627244\ttotal: 3.13s\tremaining: 693ms\n",
      "819:\tlearn: 17.1536335\ttotal: 3.14s\tremaining: 689ms\n",
      "820:\tlearn: 17.1494021\ttotal: 3.14s\tremaining: 685ms\n",
      "821:\tlearn: 17.1433451\ttotal: 3.15s\tremaining: 681ms\n",
      "822:\tlearn: 17.1281292\ttotal: 3.15s\tremaining: 677ms\n",
      "823:\tlearn: 17.1269308\ttotal: 3.15s\tremaining: 673ms\n",
      "824:\tlearn: 17.1147337\ttotal: 3.16s\tremaining: 669ms\n",
      "825:\tlearn: 17.1031640\ttotal: 3.16s\tremaining: 666ms\n",
      "826:\tlearn: 17.0925832\ttotal: 3.16s\tremaining: 662ms\n",
      "827:\tlearn: 17.0663993\ttotal: 3.17s\tremaining: 658ms\n",
      "828:\tlearn: 17.0488904\ttotal: 3.17s\tremaining: 654ms\n",
      "829:\tlearn: 17.0461975\ttotal: 3.17s\tremaining: 650ms\n",
      "830:\tlearn: 17.0301655\ttotal: 3.18s\tremaining: 647ms\n",
      "831:\tlearn: 17.0267164\ttotal: 3.18s\tremaining: 643ms\n",
      "832:\tlearn: 17.0256168\ttotal: 3.19s\tremaining: 639ms\n",
      "833:\tlearn: 17.0251417\ttotal: 3.19s\tremaining: 635ms\n",
      "834:\tlearn: 17.0050139\ttotal: 3.19s\tremaining: 631ms\n",
      "835:\tlearn: 17.0029441\ttotal: 3.2s\tremaining: 628ms\n",
      "836:\tlearn: 17.0024051\ttotal: 3.2s\tremaining: 624ms\n",
      "837:\tlearn: 16.9999606\ttotal: 3.2s\tremaining: 620ms\n",
      "838:\tlearn: 16.9941244\ttotal: 3.21s\tremaining: 616ms\n",
      "839:\tlearn: 16.9877461\ttotal: 3.21s\tremaining: 612ms\n",
      "840:\tlearn: 16.9866437\ttotal: 3.21s\tremaining: 608ms\n",
      "841:\tlearn: 16.9838008\ttotal: 3.22s\tremaining: 604ms\n",
      "842:\tlearn: 16.9814766\ttotal: 3.22s\tremaining: 600ms\n",
      "843:\tlearn: 16.9758578\ttotal: 3.23s\tremaining: 596ms\n",
      "844:\tlearn: 16.9716313\ttotal: 3.23s\tremaining: 593ms\n",
      "845:\tlearn: 16.9594644\ttotal: 3.23s\tremaining: 589ms\n",
      "846:\tlearn: 16.9504705\ttotal: 3.24s\tremaining: 585ms\n",
      "847:\tlearn: 16.9437323\ttotal: 3.24s\tremaining: 581ms\n",
      "848:\tlearn: 16.9429342\ttotal: 3.25s\tremaining: 577ms\n",
      "849:\tlearn: 16.9281773\ttotal: 3.25s\tremaining: 573ms\n",
      "850:\tlearn: 16.9122406\ttotal: 3.25s\tremaining: 570ms\n",
      "851:\tlearn: 16.9028046\ttotal: 3.26s\tremaining: 566ms\n",
      "852:\tlearn: 16.9015088\ttotal: 3.26s\tremaining: 562ms\n",
      "853:\tlearn: 16.8995725\ttotal: 3.27s\tremaining: 558ms\n",
      "854:\tlearn: 16.8900820\ttotal: 3.27s\tremaining: 555ms\n",
      "855:\tlearn: 16.8841898\ttotal: 3.28s\tremaining: 551ms\n",
      "856:\tlearn: 16.8607962\ttotal: 3.28s\tremaining: 548ms\n",
      "857:\tlearn: 16.8573107\ttotal: 3.29s\tremaining: 544ms\n",
      "858:\tlearn: 16.8473775\ttotal: 3.29s\tremaining: 541ms\n",
      "859:\tlearn: 16.8470228\ttotal: 3.3s\tremaining: 537ms\n",
      "860:\tlearn: 16.8307426\ttotal: 3.3s\tremaining: 533ms\n",
      "861:\tlearn: 16.8273056\ttotal: 3.31s\tremaining: 529ms\n",
      "862:\tlearn: 16.8207562\ttotal: 3.31s\tremaining: 526ms\n",
      "863:\tlearn: 16.8162247\ttotal: 3.32s\tremaining: 522ms\n",
      "864:\tlearn: 16.7999213\ttotal: 3.32s\tremaining: 518ms\n",
      "865:\tlearn: 16.7952736\ttotal: 3.32s\tremaining: 514ms\n",
      "866:\tlearn: 16.7938487\ttotal: 3.33s\tremaining: 511ms\n",
      "867:\tlearn: 16.7897654\ttotal: 3.33s\tremaining: 507ms\n",
      "868:\tlearn: 16.7879490\ttotal: 3.34s\tremaining: 503ms\n",
      "869:\tlearn: 16.7864932\ttotal: 3.34s\tremaining: 499ms\n",
      "870:\tlearn: 16.7849116\ttotal: 3.35s\tremaining: 496ms\n",
      "871:\tlearn: 16.7721810\ttotal: 3.35s\tremaining: 492ms\n",
      "872:\tlearn: 16.7560760\ttotal: 3.35s\tremaining: 488ms\n",
      "873:\tlearn: 16.7533701\ttotal: 3.36s\tremaining: 484ms\n",
      "874:\tlearn: 16.7527088\ttotal: 3.36s\tremaining: 480ms\n",
      "875:\tlearn: 16.7482307\ttotal: 3.37s\tremaining: 477ms\n",
      "876:\tlearn: 16.7465044\ttotal: 3.37s\tremaining: 473ms\n",
      "877:\tlearn: 16.7460584\ttotal: 3.38s\tremaining: 469ms\n",
      "878:\tlearn: 16.7364175\ttotal: 3.38s\tremaining: 465ms\n",
      "879:\tlearn: 16.7273163\ttotal: 3.38s\tremaining: 461ms\n",
      "880:\tlearn: 16.7268346\ttotal: 3.39s\tremaining: 458ms\n",
      "881:\tlearn: 16.7257905\ttotal: 3.39s\tremaining: 454ms\n",
      "882:\tlearn: 16.7176825\ttotal: 3.4s\tremaining: 450ms\n",
      "883:\tlearn: 16.7161979\ttotal: 3.4s\tremaining: 446ms\n",
      "884:\tlearn: 16.6999621\ttotal: 3.4s\tremaining: 442ms\n",
      "885:\tlearn: 16.6965665\ttotal: 3.41s\tremaining: 439ms\n",
      "886:\tlearn: 16.6955887\ttotal: 3.41s\tremaining: 435ms\n",
      "887:\tlearn: 16.6741416\ttotal: 3.42s\tremaining: 431ms\n",
      "888:\tlearn: 16.6732908\ttotal: 3.42s\tremaining: 427ms\n",
      "889:\tlearn: 16.6651858\ttotal: 3.42s\tremaining: 423ms\n",
      "890:\tlearn: 16.6622576\ttotal: 3.43s\tremaining: 419ms\n",
      "891:\tlearn: 16.6498992\ttotal: 3.43s\tremaining: 416ms\n",
      "892:\tlearn: 16.6495271\ttotal: 3.44s\tremaining: 412ms\n",
      "893:\tlearn: 16.6479880\ttotal: 3.44s\tremaining: 408ms\n",
      "894:\tlearn: 16.6475254\ttotal: 3.44s\tremaining: 404ms\n",
      "895:\tlearn: 16.6324325\ttotal: 3.45s\tremaining: 400ms\n",
      "896:\tlearn: 16.6214607\ttotal: 3.45s\tremaining: 396ms\n",
      "897:\tlearn: 16.6156989\ttotal: 3.45s\tremaining: 392ms\n",
      "898:\tlearn: 16.5967167\ttotal: 3.46s\tremaining: 389ms\n",
      "899:\tlearn: 16.5921466\ttotal: 3.46s\tremaining: 385ms\n",
      "900:\tlearn: 16.5770501\ttotal: 3.47s\tremaining: 381ms\n",
      "901:\tlearn: 16.5625773\ttotal: 3.47s\tremaining: 377ms\n",
      "902:\tlearn: 16.5497281\ttotal: 3.48s\tremaining: 374ms\n",
      "903:\tlearn: 16.5484110\ttotal: 3.48s\tremaining: 370ms\n",
      "904:\tlearn: 16.5404700\ttotal: 3.49s\tremaining: 366ms\n",
      "905:\tlearn: 16.5352477\ttotal: 3.49s\tremaining: 362ms\n",
      "906:\tlearn: 16.5344139\ttotal: 3.5s\tremaining: 358ms\n",
      "907:\tlearn: 16.5306140\ttotal: 3.5s\tremaining: 355ms\n",
      "908:\tlearn: 16.5211326\ttotal: 3.5s\tremaining: 351ms\n",
      "909:\tlearn: 16.5157997\ttotal: 3.51s\tremaining: 347ms\n",
      "910:\tlearn: 16.5026610\ttotal: 3.51s\tremaining: 343ms\n",
      "911:\tlearn: 16.4894839\ttotal: 3.52s\tremaining: 339ms\n",
      "912:\tlearn: 16.4849323\ttotal: 3.52s\tremaining: 336ms\n",
      "913:\tlearn: 16.4747152\ttotal: 3.52s\tremaining: 332ms\n",
      "914:\tlearn: 16.4698782\ttotal: 3.53s\tremaining: 328ms\n",
      "915:\tlearn: 16.4660554\ttotal: 3.54s\tremaining: 324ms\n",
      "916:\tlearn: 16.4609036\ttotal: 3.54s\tremaining: 320ms\n",
      "917:\tlearn: 16.4512788\ttotal: 3.54s\tremaining: 317ms\n",
      "918:\tlearn: 16.4510322\ttotal: 3.55s\tremaining: 313ms\n",
      "919:\tlearn: 16.4501531\ttotal: 3.55s\tremaining: 309ms\n",
      "920:\tlearn: 16.4438644\ttotal: 3.56s\tremaining: 305ms\n",
      "921:\tlearn: 16.4399315\ttotal: 3.56s\tremaining: 301ms\n",
      "922:\tlearn: 16.4384603\ttotal: 3.56s\tremaining: 297ms\n",
      "923:\tlearn: 16.4358223\ttotal: 3.56s\tremaining: 293ms\n",
      "924:\tlearn: 16.4347046\ttotal: 3.57s\tremaining: 289ms\n",
      "925:\tlearn: 16.4337260\ttotal: 3.57s\tremaining: 286ms\n",
      "926:\tlearn: 16.4195236\ttotal: 3.58s\tremaining: 282ms\n",
      "927:\tlearn: 16.4127147\ttotal: 3.58s\tremaining: 278ms\n",
      "928:\tlearn: 16.4114004\ttotal: 3.58s\tremaining: 274ms\n",
      "929:\tlearn: 16.3994137\ttotal: 3.59s\tremaining: 270ms\n",
      "930:\tlearn: 16.3923377\ttotal: 3.59s\tremaining: 266ms\n",
      "931:\tlearn: 16.3903713\ttotal: 3.6s\tremaining: 262ms\n",
      "932:\tlearn: 16.3820920\ttotal: 3.6s\tremaining: 258ms\n",
      "933:\tlearn: 16.3689329\ttotal: 3.6s\tremaining: 255ms\n",
      "934:\tlearn: 16.3660517\ttotal: 3.61s\tremaining: 251ms\n",
      "935:\tlearn: 16.3491477\ttotal: 3.61s\tremaining: 247ms\n",
      "936:\tlearn: 16.3357930\ttotal: 3.62s\tremaining: 243ms\n",
      "937:\tlearn: 16.3187596\ttotal: 3.62s\tremaining: 239ms\n",
      "938:\tlearn: 16.3180153\ttotal: 3.62s\tremaining: 235ms\n",
      "939:\tlearn: 16.3113681\ttotal: 3.63s\tremaining: 232ms\n",
      "940:\tlearn: 16.2972296\ttotal: 3.63s\tremaining: 228ms\n",
      "941:\tlearn: 16.2935702\ttotal: 3.63s\tremaining: 224ms\n",
      "942:\tlearn: 16.2913151\ttotal: 3.64s\tremaining: 220ms\n",
      "943:\tlearn: 16.2825770\ttotal: 3.64s\tremaining: 216ms\n",
      "944:\tlearn: 16.2632462\ttotal: 3.64s\tremaining: 212ms\n",
      "945:\tlearn: 16.2541548\ttotal: 3.65s\tremaining: 208ms\n",
      "946:\tlearn: 16.2492451\ttotal: 3.65s\tremaining: 204ms\n",
      "947:\tlearn: 16.2435803\ttotal: 3.65s\tremaining: 200ms\n",
      "948:\tlearn: 16.2414835\ttotal: 3.66s\tremaining: 197ms\n",
      "949:\tlearn: 16.2339067\ttotal: 3.66s\tremaining: 193ms\n",
      "950:\tlearn: 16.2274044\ttotal: 3.67s\tremaining: 189ms\n",
      "951:\tlearn: 16.2197343\ttotal: 3.67s\tremaining: 185ms\n",
      "952:\tlearn: 16.2137279\ttotal: 3.67s\tremaining: 181ms\n",
      "953:\tlearn: 16.2054126\ttotal: 3.67s\tremaining: 177ms\n",
      "954:\tlearn: 16.1972087\ttotal: 3.68s\tremaining: 173ms\n",
      "955:\tlearn: 16.1903116\ttotal: 3.68s\tremaining: 169ms\n",
      "956:\tlearn: 16.1772326\ttotal: 3.69s\tremaining: 166ms\n",
      "957:\tlearn: 16.1760003\ttotal: 3.69s\tremaining: 162ms\n",
      "958:\tlearn: 16.1647597\ttotal: 3.7s\tremaining: 158ms\n",
      "959:\tlearn: 16.1636640\ttotal: 3.7s\tremaining: 154ms\n",
      "960:\tlearn: 16.1493496\ttotal: 3.71s\tremaining: 150ms\n",
      "961:\tlearn: 16.1405315\ttotal: 3.71s\tremaining: 147ms\n",
      "962:\tlearn: 16.1321587\ttotal: 3.72s\tremaining: 143ms\n",
      "963:\tlearn: 16.1303216\ttotal: 3.72s\tremaining: 139ms\n",
      "964:\tlearn: 16.1211945\ttotal: 3.73s\tremaining: 135ms\n",
      "965:\tlearn: 16.1088189\ttotal: 3.73s\tremaining: 131ms\n",
      "966:\tlearn: 16.1051743\ttotal: 3.73s\tremaining: 127ms\n",
      "967:\tlearn: 16.0986365\ttotal: 3.74s\tremaining: 124ms\n",
      "968:\tlearn: 16.0826345\ttotal: 3.74s\tremaining: 120ms\n",
      "969:\tlearn: 16.0684353\ttotal: 3.74s\tremaining: 116ms\n",
      "970:\tlearn: 16.0637755\ttotal: 3.75s\tremaining: 112ms\n",
      "971:\tlearn: 16.0551553\ttotal: 3.75s\tremaining: 108ms\n",
      "972:\tlearn: 16.0491531\ttotal: 3.76s\tremaining: 104ms\n",
      "973:\tlearn: 16.0483750\ttotal: 3.76s\tremaining: 100ms\n",
      "974:\tlearn: 16.0457339\ttotal: 3.76s\tremaining: 96.5ms\n",
      "975:\tlearn: 16.0380113\ttotal: 3.77s\tremaining: 92.6ms\n",
      "976:\tlearn: 16.0225849\ttotal: 3.77s\tremaining: 88.8ms\n",
      "977:\tlearn: 16.0075031\ttotal: 3.78s\tremaining: 85.1ms\n",
      "978:\tlearn: 16.0037384\ttotal: 3.79s\tremaining: 81.2ms\n",
      "979:\tlearn: 15.9909722\ttotal: 3.79s\tremaining: 77.3ms\n",
      "980:\tlearn: 15.9802763\ttotal: 3.79s\tremaining: 73.5ms\n",
      "981:\tlearn: 15.9774397\ttotal: 3.8s\tremaining: 69.6ms\n",
      "982:\tlearn: 15.9752537\ttotal: 3.8s\tremaining: 65.7ms\n",
      "983:\tlearn: 15.9750111\ttotal: 3.8s\tremaining: 61.8ms\n",
      "984:\tlearn: 15.9737685\ttotal: 3.81s\tremaining: 58ms\n",
      "985:\tlearn: 15.9639362\ttotal: 3.81s\tremaining: 54.1ms\n",
      "986:\tlearn: 15.9533862\ttotal: 3.81s\tremaining: 50.3ms\n",
      "987:\tlearn: 15.9429634\ttotal: 3.82s\tremaining: 46.4ms\n",
      "988:\tlearn: 15.9387034\ttotal: 3.82s\tremaining: 42.5ms\n",
      "989:\tlearn: 15.9239604\ttotal: 3.83s\tremaining: 38.7ms\n",
      "990:\tlearn: 15.9172997\ttotal: 3.83s\tremaining: 34.8ms\n",
      "991:\tlearn: 15.9012750\ttotal: 3.83s\tremaining: 30.9ms\n",
      "992:\tlearn: 15.8895369\ttotal: 3.84s\tremaining: 27.1ms\n",
      "993:\tlearn: 15.8892815\ttotal: 3.84s\tremaining: 23.2ms\n",
      "994:\tlearn: 15.8786296\ttotal: 3.85s\tremaining: 19.3ms\n",
      "995:\tlearn: 15.8735741\ttotal: 3.85s\tremaining: 15.5ms\n",
      "996:\tlearn: 15.8624382\ttotal: 3.85s\tremaining: 11.6ms\n",
      "997:\tlearn: 15.8614382\ttotal: 3.86s\tremaining: 7.73ms\n",
      "998:\tlearn: 15.8603259\ttotal: 3.86s\tremaining: 3.86ms\n",
      "999:\tlearn: 15.8576599\ttotal: 3.86s\tremaining: 0us\n"
     ]
    }
   ],
   "source": [
    "# initialize data\n",
    "train_data = train.drop(columns=['num_orders'])\n",
    "train_label = train['num_orders']\n",
    "\n",
    "test_data = test.drop(columns=['num_orders'])\n",
    "\n",
    "# initialize Pool\n",
    "train_pool = Pool(train_data, \n",
    "                  train_label)\n",
    "test_pool = Pool(test_data) \n",
    "\n",
    "# specify the training parameters \n",
    "CatBR = CatBoostRegressor(iterations=1000, \n",
    "                          best_model_min_trees=20,\n",
    "                          grow_policy='Lossguide',\n",
    "                          loss_function='RMSE')\n",
    "#train the model\n",
    "CatBR.fit(train_pool)\n",
    "# make the prediction using the resulting model\n",
    "cat_preds = CatBR.predict(test_pool)"
   ]
  },
  {
   "cell_type": "code",
   "execution_count": 130,
   "metadata": {},
   "outputs": [
    {
     "data": {
      "text/plain": [
       "54.47886819570118"
      ]
     },
     "execution_count": 130,
     "metadata": {},
     "output_type": "execute_result"
    }
   ],
   "source": [
    "mean_squared_error(test['num_orders'], cat_preds, squared=False)"
   ]
  },
  {
   "cell_type": "markdown",
   "metadata": {},
   "source": [
    "#### c поправкой выпадающих значений"
   ]
  },
  {
   "cell_type": "code",
   "execution_count": 131,
   "metadata": {},
   "outputs": [],
   "source": [
    "# обновляю\n",
    "df_with_stat = pd.read_csv('/datasets/taxi.csv', parse_dates=[0], index_col=[0])\n",
    "df_with_stat = df_with_stat.resample('1H').sum()"
   ]
  },
  {
   "cell_type": "code",
   "execution_count": 255,
   "metadata": {},
   "outputs": [],
   "source": [
    "# формирование параметров для обучения\n",
    "df_with_stat['year'] = df_with_stat.index.year\n",
    "df_with_stat['month'] = df_with_stat.index.month\n",
    "df_with_stat['day'] = df_with_stat.index.day\n",
    "df_with_stat['dayofweek'] = df_with_stat.index.dayofweek\n",
    "\n",
    "for i in range(1, 3 + 1):\n",
    "    df_with_stat[f'lag_{i}'] = df_with_stat['num_orders'].shift(i)\n",
    "    \n",
    "df_with_stat['rolling_mean'] = df_with_stat['num_orders'].shift().rolling(4).mean()"
   ]
  },
  {
   "cell_type": "code",
   "execution_count": 256,
   "metadata": {},
   "outputs": [],
   "source": [
    "train, test = train_test_split(df_with_stat, shuffle=False, test_size=0.1, random_state=123)\n",
    "train = train.dropna()"
   ]
  },
  {
   "cell_type": "code",
   "execution_count": 257,
   "metadata": {},
   "outputs": [
    {
     "name": "stdout",
     "output_type": "stream",
     "text": [
      "Learning rate set to 0.050862\n",
      "0:\tlearn: 37.0122730\ttotal: 3.73ms\tremaining: 3.72s\n",
      "1:\tlearn: 36.4089656\ttotal: 7.26ms\tremaining: 3.62s\n",
      "2:\tlearn: 35.8602030\ttotal: 11.1ms\tremaining: 3.69s\n",
      "3:\tlearn: 35.3468425\ttotal: 14.6ms\tremaining: 3.64s\n",
      "4:\tlearn: 34.8845650\ttotal: 18ms\tremaining: 3.57s\n",
      "5:\tlearn: 34.4109389\ttotal: 21.6ms\tremaining: 3.57s\n",
      "6:\tlearn: 33.9804249\ttotal: 24.9ms\tremaining: 3.53s\n",
      "7:\tlearn: 33.5705689\ttotal: 28.4ms\tremaining: 3.52s\n",
      "8:\tlearn: 33.2105233\ttotal: 31.8ms\tremaining: 3.5s\n",
      "9:\tlearn: 32.8527340\ttotal: 36.1ms\tremaining: 3.57s\n",
      "10:\tlearn: 32.5350112\ttotal: 39.6ms\tremaining: 3.56s\n",
      "11:\tlearn: 32.2414903\ttotal: 43.1ms\tremaining: 3.55s\n",
      "12:\tlearn: 31.9624733\ttotal: 47.3ms\tremaining: 3.59s\n",
      "13:\tlearn: 31.7257021\ttotal: 51ms\tremaining: 3.59s\n",
      "14:\tlearn: 31.5154667\ttotal: 55.5ms\tremaining: 3.64s\n",
      "15:\tlearn: 31.2966539\ttotal: 59.1ms\tremaining: 3.63s\n",
      "16:\tlearn: 31.0892263\ttotal: 62.6ms\tremaining: 3.62s\n",
      "17:\tlearn: 30.9104039\ttotal: 66.2ms\tremaining: 3.61s\n",
      "18:\tlearn: 30.7238142\ttotal: 70.7ms\tremaining: 3.65s\n",
      "19:\tlearn: 30.5579479\ttotal: 74.9ms\tremaining: 3.67s\n",
      "20:\tlearn: 30.4017708\ttotal: 78.6ms\tremaining: 3.66s\n",
      "21:\tlearn: 30.2427199\ttotal: 81.6ms\tremaining: 3.63s\n",
      "22:\tlearn: 30.1135306\ttotal: 84.8ms\tremaining: 3.6s\n",
      "23:\tlearn: 29.9997790\ttotal: 88.1ms\tremaining: 3.58s\n",
      "24:\tlearn: 29.8801806\ttotal: 91.4ms\tremaining: 3.56s\n",
      "25:\tlearn: 29.7792485\ttotal: 95ms\tremaining: 3.56s\n",
      "26:\tlearn: 29.6662773\ttotal: 98.5ms\tremaining: 3.55s\n",
      "27:\tlearn: 29.5679640\ttotal: 102ms\tremaining: 3.53s\n",
      "28:\tlearn: 29.4784569\ttotal: 105ms\tremaining: 3.52s\n",
      "29:\tlearn: 29.4006783\ttotal: 109ms\tremaining: 3.51s\n",
      "30:\tlearn: 29.3148668\ttotal: 112ms\tremaining: 3.5s\n",
      "31:\tlearn: 29.2354432\ttotal: 116ms\tremaining: 3.5s\n",
      "32:\tlearn: 29.1579660\ttotal: 119ms\tremaining: 3.49s\n",
      "33:\tlearn: 29.0877557\ttotal: 123ms\tremaining: 3.48s\n",
      "34:\tlearn: 29.0243454\ttotal: 126ms\tremaining: 3.48s\n",
      "35:\tlearn: 28.9478937\ttotal: 130ms\tremaining: 3.47s\n",
      "36:\tlearn: 28.8838690\ttotal: 133ms\tremaining: 3.47s\n",
      "37:\tlearn: 28.8312927\ttotal: 137ms\tremaining: 3.46s\n",
      "38:\tlearn: 28.7748036\ttotal: 140ms\tremaining: 3.46s\n",
      "39:\tlearn: 28.7305471\ttotal: 144ms\tremaining: 3.45s\n",
      "40:\tlearn: 28.6775665\ttotal: 147ms\tremaining: 3.44s\n",
      "41:\tlearn: 28.6127599\ttotal: 151ms\tremaining: 3.44s\n",
      "42:\tlearn: 28.5578899\ttotal: 154ms\tremaining: 3.42s\n",
      "43:\tlearn: 28.5014175\ttotal: 157ms\tremaining: 3.41s\n",
      "44:\tlearn: 28.4477118\ttotal: 160ms\tremaining: 3.4s\n",
      "45:\tlearn: 28.4162506\ttotal: 164ms\tremaining: 3.4s\n",
      "46:\tlearn: 28.3685642\ttotal: 167ms\tremaining: 3.39s\n",
      "47:\tlearn: 28.3257616\ttotal: 170ms\tremaining: 3.38s\n",
      "48:\tlearn: 28.2759258\ttotal: 174ms\tremaining: 3.38s\n",
      "49:\tlearn: 28.2358783\ttotal: 178ms\tremaining: 3.37s\n",
      "50:\tlearn: 28.2039211\ttotal: 181ms\tremaining: 3.37s\n",
      "51:\tlearn: 28.1590083\ttotal: 184ms\tremaining: 3.35s\n",
      "52:\tlearn: 28.1175051\ttotal: 188ms\tremaining: 3.36s\n",
      "53:\tlearn: 28.0757251\ttotal: 191ms\tremaining: 3.35s\n",
      "54:\tlearn: 28.0333456\ttotal: 195ms\tremaining: 3.34s\n",
      "55:\tlearn: 27.9855468\ttotal: 198ms\tremaining: 3.34s\n",
      "56:\tlearn: 27.9451079\ttotal: 201ms\tremaining: 3.33s\n",
      "57:\tlearn: 27.9277668\ttotal: 205ms\tremaining: 3.33s\n",
      "58:\tlearn: 27.9025460\ttotal: 208ms\tremaining: 3.32s\n",
      "59:\tlearn: 27.8745403\ttotal: 212ms\tremaining: 3.31s\n",
      "60:\tlearn: 27.8268266\ttotal: 215ms\tremaining: 3.31s\n",
      "61:\tlearn: 27.7885112\ttotal: 219ms\tremaining: 3.31s\n",
      "62:\tlearn: 27.7599528\ttotal: 222ms\tremaining: 3.31s\n",
      "63:\tlearn: 27.7254669\ttotal: 226ms\tremaining: 3.31s\n",
      "64:\tlearn: 27.6964580\ttotal: 230ms\tremaining: 3.31s\n",
      "65:\tlearn: 27.6698809\ttotal: 234ms\tremaining: 3.31s\n",
      "66:\tlearn: 27.6339200\ttotal: 238ms\tremaining: 3.31s\n",
      "67:\tlearn: 27.6090023\ttotal: 242ms\tremaining: 3.31s\n",
      "68:\tlearn: 27.5833195\ttotal: 246ms\tremaining: 3.31s\n",
      "69:\tlearn: 27.5575995\ttotal: 249ms\tremaining: 3.31s\n",
      "70:\tlearn: 27.5398055\ttotal: 253ms\tremaining: 3.31s\n",
      "71:\tlearn: 27.5139837\ttotal: 257ms\tremaining: 3.31s\n",
      "72:\tlearn: 27.4852978\ttotal: 260ms\tremaining: 3.3s\n",
      "73:\tlearn: 27.4640626\ttotal: 266ms\tremaining: 3.33s\n",
      "74:\tlearn: 27.4404158\ttotal: 269ms\tremaining: 3.32s\n",
      "75:\tlearn: 27.4135703\ttotal: 273ms\tremaining: 3.32s\n",
      "76:\tlearn: 27.3845965\ttotal: 277ms\tremaining: 3.32s\n",
      "77:\tlearn: 27.3677441\ttotal: 281ms\tremaining: 3.32s\n",
      "78:\tlearn: 27.3500027\ttotal: 284ms\tremaining: 3.31s\n",
      "79:\tlearn: 27.3287132\ttotal: 288ms\tremaining: 3.31s\n",
      "80:\tlearn: 27.3059315\ttotal: 291ms\tremaining: 3.31s\n",
      "81:\tlearn: 27.2757646\ttotal: 295ms\tremaining: 3.31s\n",
      "82:\tlearn: 27.2518038\ttotal: 299ms\tremaining: 3.3s\n",
      "83:\tlearn: 27.2046406\ttotal: 302ms\tremaining: 3.3s\n",
      "84:\tlearn: 27.1823377\ttotal: 306ms\tremaining: 3.29s\n",
      "85:\tlearn: 27.1607844\ttotal: 310ms\tremaining: 3.29s\n",
      "86:\tlearn: 27.1353550\ttotal: 314ms\tremaining: 3.29s\n",
      "87:\tlearn: 27.1111675\ttotal: 317ms\tremaining: 3.29s\n",
      "88:\tlearn: 27.0965602\ttotal: 321ms\tremaining: 3.28s\n",
      "89:\tlearn: 27.0724390\ttotal: 324ms\tremaining: 3.28s\n",
      "90:\tlearn: 27.0467583\ttotal: 327ms\tremaining: 3.27s\n",
      "91:\tlearn: 27.0246045\ttotal: 331ms\tremaining: 3.27s\n",
      "92:\tlearn: 27.0091074\ttotal: 335ms\tremaining: 3.26s\n",
      "93:\tlearn: 26.9766908\ttotal: 338ms\tremaining: 3.26s\n",
      "94:\tlearn: 26.9451212\ttotal: 341ms\tremaining: 3.25s\n",
      "95:\tlearn: 26.9293865\ttotal: 345ms\tremaining: 3.25s\n",
      "96:\tlearn: 26.9141553\ttotal: 349ms\tremaining: 3.25s\n",
      "97:\tlearn: 26.8941316\ttotal: 352ms\tremaining: 3.24s\n",
      "98:\tlearn: 26.8767574\ttotal: 356ms\tremaining: 3.23s\n",
      "99:\tlearn: 26.8573434\ttotal: 359ms\tremaining: 3.23s\n",
      "100:\tlearn: 26.8279505\ttotal: 362ms\tremaining: 3.22s\n",
      "101:\tlearn: 26.8149265\ttotal: 366ms\tremaining: 3.22s\n",
      "102:\tlearn: 26.7862327\ttotal: 370ms\tremaining: 3.22s\n",
      "103:\tlearn: 26.7673267\ttotal: 374ms\tremaining: 3.22s\n",
      "104:\tlearn: 26.7477284\ttotal: 377ms\tremaining: 3.22s\n",
      "105:\tlearn: 26.7303518\ttotal: 381ms\tremaining: 3.21s\n",
      "106:\tlearn: 26.7093815\ttotal: 384ms\tremaining: 3.21s\n",
      "107:\tlearn: 26.6909376\ttotal: 388ms\tremaining: 3.2s\n",
      "108:\tlearn: 26.6750726\ttotal: 391ms\tremaining: 3.2s\n",
      "109:\tlearn: 26.6627704\ttotal: 394ms\tremaining: 3.19s\n",
      "110:\tlearn: 26.6455426\ttotal: 398ms\tremaining: 3.19s\n",
      "111:\tlearn: 26.6243828\ttotal: 401ms\tremaining: 3.18s\n",
      "112:\tlearn: 26.6095632\ttotal: 405ms\tremaining: 3.18s\n",
      "113:\tlearn: 26.5843872\ttotal: 408ms\tremaining: 3.17s\n",
      "114:\tlearn: 26.5720680\ttotal: 412ms\tremaining: 3.17s\n",
      "115:\tlearn: 26.5582758\ttotal: 415ms\tremaining: 3.17s\n",
      "116:\tlearn: 26.5455258\ttotal: 419ms\tremaining: 3.16s\n",
      "117:\tlearn: 26.5238997\ttotal: 423ms\tremaining: 3.16s\n",
      "118:\tlearn: 26.5018268\ttotal: 426ms\tremaining: 3.15s\n",
      "119:\tlearn: 26.4743430\ttotal: 430ms\tremaining: 3.15s\n",
      "120:\tlearn: 26.4542046\ttotal: 433ms\tremaining: 3.15s\n",
      "121:\tlearn: 26.4413122\ttotal: 436ms\tremaining: 3.14s\n",
      "122:\tlearn: 26.4267676\ttotal: 440ms\tremaining: 3.13s\n",
      "123:\tlearn: 26.4033386\ttotal: 443ms\tremaining: 3.13s\n",
      "124:\tlearn: 26.3770084\ttotal: 447ms\tremaining: 3.13s\n",
      "125:\tlearn: 26.3541236\ttotal: 451ms\tremaining: 3.13s\n",
      "126:\tlearn: 26.3360443\ttotal: 454ms\tremaining: 3.12s\n",
      "127:\tlearn: 26.3101248\ttotal: 458ms\tremaining: 3.12s\n",
      "128:\tlearn: 26.2903069\ttotal: 461ms\tremaining: 3.12s\n",
      "129:\tlearn: 26.2813420\ttotal: 465ms\tremaining: 3.11s\n",
      "130:\tlearn: 26.2568419\ttotal: 468ms\tremaining: 3.1s\n",
      "131:\tlearn: 26.2456585\ttotal: 471ms\tremaining: 3.1s\n",
      "132:\tlearn: 26.2374656\ttotal: 475ms\tremaining: 3.1s\n",
      "133:\tlearn: 26.2173562\ttotal: 478ms\tremaining: 3.09s\n",
      "134:\tlearn: 26.1990934\ttotal: 482ms\tremaining: 3.08s\n",
      "135:\tlearn: 26.1854402\ttotal: 485ms\tremaining: 3.08s\n",
      "136:\tlearn: 26.1608864\ttotal: 489ms\tremaining: 3.08s\n",
      "137:\tlearn: 26.1451015\ttotal: 493ms\tremaining: 3.08s\n",
      "138:\tlearn: 26.1283064\ttotal: 496ms\tremaining: 3.07s\n",
      "139:\tlearn: 26.1077771\ttotal: 500ms\tremaining: 3.07s\n",
      "140:\tlearn: 26.0919015\ttotal: 503ms\tremaining: 3.06s\n",
      "141:\tlearn: 26.0768884\ttotal: 506ms\tremaining: 3.06s\n",
      "142:\tlearn: 26.0692105\ttotal: 509ms\tremaining: 3.05s\n",
      "143:\tlearn: 26.0414448\ttotal: 513ms\tremaining: 3.05s\n",
      "144:\tlearn: 26.0109096\ttotal: 517ms\tremaining: 3.05s\n",
      "145:\tlearn: 25.9888320\ttotal: 521ms\tremaining: 3.04s\n",
      "146:\tlearn: 25.9628163\ttotal: 524ms\tremaining: 3.04s\n",
      "147:\tlearn: 25.9376525\ttotal: 528ms\tremaining: 3.04s\n",
      "148:\tlearn: 25.9164457\ttotal: 531ms\tremaining: 3.03s\n",
      "149:\tlearn: 25.9072228\ttotal: 534ms\tremaining: 3.03s\n",
      "150:\tlearn: 25.8861596\ttotal: 538ms\tremaining: 3.02s\n",
      "151:\tlearn: 25.8584915\ttotal: 541ms\tremaining: 3.02s\n",
      "152:\tlearn: 25.8501649\ttotal: 544ms\tremaining: 3.01s\n",
      "153:\tlearn: 25.8348754\ttotal: 548ms\tremaining: 3.01s\n",
      "154:\tlearn: 25.8081586\ttotal: 551ms\tremaining: 3s\n",
      "155:\tlearn: 25.7904493\ttotal: 554ms\tremaining: 3s\n",
      "156:\tlearn: 25.7671506\ttotal: 557ms\tremaining: 2.99s\n",
      "157:\tlearn: 25.7542466\ttotal: 561ms\tremaining: 2.99s\n",
      "158:\tlearn: 25.7368373\ttotal: 564ms\tremaining: 2.98s\n",
      "159:\tlearn: 25.7003500\ttotal: 568ms\tremaining: 2.98s\n",
      "160:\tlearn: 25.6874430\ttotal: 571ms\tremaining: 2.98s\n",
      "161:\tlearn: 25.6566079\ttotal: 575ms\tremaining: 2.97s\n",
      "162:\tlearn: 25.6432071\ttotal: 578ms\tremaining: 2.97s\n",
      "163:\tlearn: 25.6168104\ttotal: 582ms\tremaining: 2.97s\n",
      "164:\tlearn: 25.5981586\ttotal: 585ms\tremaining: 2.96s\n",
      "165:\tlearn: 25.5785001\ttotal: 588ms\tremaining: 2.96s\n",
      "166:\tlearn: 25.5458899\ttotal: 592ms\tremaining: 2.95s\n",
      "167:\tlearn: 25.5400688\ttotal: 595ms\tremaining: 2.95s\n",
      "168:\tlearn: 25.5176633\ttotal: 599ms\tremaining: 2.94s\n",
      "169:\tlearn: 25.5000793\ttotal: 602ms\tremaining: 2.94s\n",
      "170:\tlearn: 25.4925969\ttotal: 605ms\tremaining: 2.93s\n",
      "171:\tlearn: 25.4636616\ttotal: 608ms\tremaining: 2.93s\n",
      "172:\tlearn: 25.4359624\ttotal: 612ms\tremaining: 2.93s\n",
      "173:\tlearn: 25.4171188\ttotal: 615ms\tremaining: 2.92s\n",
      "174:\tlearn: 25.3998978\ttotal: 619ms\tremaining: 2.92s\n",
      "175:\tlearn: 25.3652661\ttotal: 622ms\tremaining: 2.91s\n",
      "176:\tlearn: 25.3343684\ttotal: 626ms\tremaining: 2.91s\n",
      "177:\tlearn: 25.3094451\ttotal: 630ms\tremaining: 2.91s\n",
      "178:\tlearn: 25.2971941\ttotal: 635ms\tremaining: 2.91s\n",
      "179:\tlearn: 25.2605990\ttotal: 639ms\tremaining: 2.91s\n",
      "180:\tlearn: 25.2262671\ttotal: 642ms\tremaining: 2.9s\n",
      "181:\tlearn: 25.1940209\ttotal: 648ms\tremaining: 2.91s\n",
      "182:\tlearn: 25.1840391\ttotal: 653ms\tremaining: 2.91s\n",
      "183:\tlearn: 25.1606799\ttotal: 656ms\tremaining: 2.91s\n",
      "184:\tlearn: 25.1563667\ttotal: 660ms\tremaining: 2.91s\n",
      "185:\tlearn: 25.1171657\ttotal: 664ms\tremaining: 2.9s\n",
      "186:\tlearn: 25.0856341\ttotal: 667ms\tremaining: 2.9s\n",
      "187:\tlearn: 25.0616019\ttotal: 671ms\tremaining: 2.9s\n",
      "188:\tlearn: 25.0486475\ttotal: 675ms\tremaining: 2.9s\n",
      "189:\tlearn: 25.0070382\ttotal: 679ms\tremaining: 2.9s\n",
      "190:\tlearn: 24.9951622\ttotal: 683ms\tremaining: 2.89s\n",
      "191:\tlearn: 24.9686466\ttotal: 686ms\tremaining: 2.89s\n",
      "192:\tlearn: 24.9348388\ttotal: 690ms\tremaining: 2.88s\n",
      "193:\tlearn: 24.8908933\ttotal: 694ms\tremaining: 2.88s\n",
      "194:\tlearn: 24.8591840\ttotal: 697ms\tremaining: 2.88s\n",
      "195:\tlearn: 24.8514506\ttotal: 701ms\tremaining: 2.87s\n",
      "196:\tlearn: 24.8188687\ttotal: 704ms\tremaining: 2.87s\n",
      "197:\tlearn: 24.7788987\ttotal: 707ms\tremaining: 2.86s\n",
      "198:\tlearn: 24.7694873\ttotal: 710ms\tremaining: 2.86s\n",
      "199:\tlearn: 24.7410114\ttotal: 714ms\tremaining: 2.85s\n",
      "200:\tlearn: 24.7335779\ttotal: 717ms\tremaining: 2.85s\n",
      "201:\tlearn: 24.7007412\ttotal: 721ms\tremaining: 2.85s\n",
      "202:\tlearn: 24.6903125\ttotal: 725ms\tremaining: 2.84s\n",
      "203:\tlearn: 24.6739432\ttotal: 728ms\tremaining: 2.84s\n",
      "204:\tlearn: 24.6493245\ttotal: 732ms\tremaining: 2.84s\n",
      "205:\tlearn: 24.6436758\ttotal: 736ms\tremaining: 2.83s\n",
      "206:\tlearn: 24.6330030\ttotal: 739ms\tremaining: 2.83s\n",
      "207:\tlearn: 24.6120437\ttotal: 743ms\tremaining: 2.83s\n",
      "208:\tlearn: 24.6065841\ttotal: 746ms\tremaining: 2.82s\n",
      "209:\tlearn: 24.5855149\ttotal: 750ms\tremaining: 2.82s\n",
      "210:\tlearn: 24.5509635\ttotal: 753ms\tremaining: 2.82s\n",
      "211:\tlearn: 24.5461874\ttotal: 757ms\tremaining: 2.81s\n",
      "212:\tlearn: 24.5105260\ttotal: 760ms\tremaining: 2.81s\n",
      "213:\tlearn: 24.4770489\ttotal: 764ms\tremaining: 2.81s\n",
      "214:\tlearn: 24.4694471\ttotal: 768ms\tremaining: 2.8s\n",
      "215:\tlearn: 24.4510458\ttotal: 771ms\tremaining: 2.8s\n",
      "216:\tlearn: 24.4433702\ttotal: 775ms\tremaining: 2.79s\n",
      "217:\tlearn: 24.4357958\ttotal: 779ms\tremaining: 2.79s\n",
      "218:\tlearn: 24.4002582\ttotal: 782ms\tremaining: 2.79s\n",
      "219:\tlearn: 24.3737412\ttotal: 786ms\tremaining: 2.79s\n",
      "220:\tlearn: 24.3551404\ttotal: 789ms\tremaining: 2.78s\n",
      "221:\tlearn: 24.3451846\ttotal: 793ms\tremaining: 2.78s\n",
      "222:\tlearn: 24.3292225\ttotal: 797ms\tremaining: 2.78s\n",
      "223:\tlearn: 24.3150512\ttotal: 800ms\tremaining: 2.77s\n",
      "224:\tlearn: 24.3052402\ttotal: 803ms\tremaining: 2.77s\n",
      "225:\tlearn: 24.2818033\ttotal: 807ms\tremaining: 2.76s\n",
      "226:\tlearn: 24.2777858\ttotal: 810ms\tremaining: 2.76s\n",
      "227:\tlearn: 24.2682694\ttotal: 814ms\tremaining: 2.76s\n",
      "228:\tlearn: 24.2602540\ttotal: 818ms\tremaining: 2.75s\n",
      "229:\tlearn: 24.2552780\ttotal: 822ms\tremaining: 2.75s\n",
      "230:\tlearn: 24.2439120\ttotal: 826ms\tremaining: 2.75s\n",
      "231:\tlearn: 24.2229087\ttotal: 830ms\tremaining: 2.75s\n",
      "232:\tlearn: 24.2189499\ttotal: 833ms\tremaining: 2.74s\n",
      "233:\tlearn: 24.1993398\ttotal: 840ms\tremaining: 2.75s\n",
      "234:\tlearn: 24.1880508\ttotal: 845ms\tremaining: 2.75s\n",
      "235:\tlearn: 24.1641513\ttotal: 849ms\tremaining: 2.75s\n",
      "236:\tlearn: 24.1612675\ttotal: 853ms\tremaining: 2.75s\n",
      "237:\tlearn: 24.1258386\ttotal: 857ms\tremaining: 2.74s\n",
      "238:\tlearn: 24.1222903\ttotal: 860ms\tremaining: 2.74s\n",
      "239:\tlearn: 24.0895318\ttotal: 864ms\tremaining: 2.73s\n",
      "240:\tlearn: 24.0509307\ttotal: 868ms\tremaining: 2.73s\n",
      "241:\tlearn: 24.0472254\ttotal: 871ms\tremaining: 2.73s\n",
      "242:\tlearn: 24.0115082\ttotal: 875ms\tremaining: 2.73s\n",
      "243:\tlearn: 23.9856916\ttotal: 879ms\tremaining: 2.72s\n",
      "244:\tlearn: 23.9518133\ttotal: 882ms\tremaining: 2.72s\n",
      "245:\tlearn: 23.9480463\ttotal: 886ms\tremaining: 2.71s\n",
      "246:\tlearn: 23.9199838\ttotal: 889ms\tremaining: 2.71s\n",
      "247:\tlearn: 23.9163333\ttotal: 893ms\tremaining: 2.71s\n",
      "248:\tlearn: 23.8970562\ttotal: 896ms\tremaining: 2.7s\n",
      "249:\tlearn: 23.8916548\ttotal: 900ms\tremaining: 2.7s\n",
      "250:\tlearn: 23.8868335\ttotal: 904ms\tremaining: 2.7s\n",
      "251:\tlearn: 23.8545423\ttotal: 908ms\tremaining: 2.69s\n",
      "252:\tlearn: 23.8258046\ttotal: 912ms\tremaining: 2.69s\n",
      "253:\tlearn: 23.8211827\ttotal: 915ms\tremaining: 2.69s\n",
      "254:\tlearn: 23.7804272\ttotal: 919ms\tremaining: 2.68s\n",
      "255:\tlearn: 23.7573967\ttotal: 922ms\tremaining: 2.68s\n",
      "256:\tlearn: 23.7298338\ttotal: 926ms\tremaining: 2.67s\n",
      "257:\tlearn: 23.7195659\ttotal: 930ms\tremaining: 2.67s\n",
      "258:\tlearn: 23.6996810\ttotal: 934ms\tremaining: 2.67s\n",
      "259:\tlearn: 23.6738715\ttotal: 938ms\tremaining: 2.67s\n",
      "260:\tlearn: 23.6608119\ttotal: 941ms\tremaining: 2.67s\n",
      "261:\tlearn: 23.6572780\ttotal: 945ms\tremaining: 2.66s\n",
      "262:\tlearn: 23.6190460\ttotal: 948ms\tremaining: 2.66s\n",
      "263:\tlearn: 23.5917189\ttotal: 952ms\tremaining: 2.65s\n",
      "264:\tlearn: 23.5877164\ttotal: 956ms\tremaining: 2.65s\n",
      "265:\tlearn: 23.5620805\ttotal: 960ms\tremaining: 2.65s\n",
      "266:\tlearn: 23.5260221\ttotal: 964ms\tremaining: 2.65s\n",
      "267:\tlearn: 23.5115317\ttotal: 967ms\tremaining: 2.64s\n",
      "268:\tlearn: 23.4756240\ttotal: 971ms\tremaining: 2.64s\n",
      "269:\tlearn: 23.4725734\ttotal: 974ms\tremaining: 2.63s\n",
      "270:\tlearn: 23.4500690\ttotal: 978ms\tremaining: 2.63s\n",
      "271:\tlearn: 23.4322616\ttotal: 981ms\tremaining: 2.63s\n",
      "272:\tlearn: 23.3991424\ttotal: 985ms\tremaining: 2.62s\n",
      "273:\tlearn: 23.3967680\ttotal: 989ms\tremaining: 2.62s\n",
      "274:\tlearn: 23.3596779\ttotal: 993ms\tremaining: 2.62s\n",
      "275:\tlearn: 23.3411638\ttotal: 996ms\tremaining: 2.61s\n",
      "276:\tlearn: 23.3386029\ttotal: 1000ms\tremaining: 2.61s\n",
      "277:\tlearn: 23.3359143\ttotal: 1s\tremaining: 2.6s\n",
      "278:\tlearn: 23.2945392\ttotal: 1.01s\tremaining: 2.6s\n",
      "279:\tlearn: 23.2601226\ttotal: 1.01s\tremaining: 2.6s\n",
      "280:\tlearn: 23.2267332\ttotal: 1.01s\tremaining: 2.59s\n",
      "281:\tlearn: 23.1972382\ttotal: 1.02s\tremaining: 2.59s\n",
      "282:\tlearn: 23.1654570\ttotal: 1.02s\tremaining: 2.59s\n",
      "283:\tlearn: 23.1628577\ttotal: 1.02s\tremaining: 2.58s\n",
      "284:\tlearn: 23.1464989\ttotal: 1.03s\tremaining: 2.58s\n",
      "285:\tlearn: 23.1214505\ttotal: 1.03s\tremaining: 2.58s\n",
      "286:\tlearn: 23.1175705\ttotal: 1.04s\tremaining: 2.58s\n",
      "287:\tlearn: 23.1113258\ttotal: 1.04s\tremaining: 2.57s\n",
      "288:\tlearn: 23.0824271\ttotal: 1.04s\tremaining: 2.57s\n",
      "289:\tlearn: 23.0538188\ttotal: 1.05s\tremaining: 2.57s\n",
      "290:\tlearn: 23.0515031\ttotal: 1.05s\tremaining: 2.56s\n",
      "291:\tlearn: 23.0455283\ttotal: 1.05s\tremaining: 2.56s\n",
      "292:\tlearn: 23.0391769\ttotal: 1.06s\tremaining: 2.55s\n",
      "293:\tlearn: 23.0095787\ttotal: 1.06s\tremaining: 2.55s\n",
      "294:\tlearn: 23.0010194\ttotal: 1.07s\tremaining: 2.55s\n",
      "295:\tlearn: 22.9765944\ttotal: 1.07s\tremaining: 2.54s\n",
      "296:\tlearn: 22.9561342\ttotal: 1.07s\tremaining: 2.54s\n",
      "297:\tlearn: 22.9328397\ttotal: 1.08s\tremaining: 2.54s\n",
      "298:\tlearn: 22.9089257\ttotal: 1.08s\tremaining: 2.53s\n",
      "299:\tlearn: 22.9066845\ttotal: 1.08s\tremaining: 2.53s\n",
      "300:\tlearn: 22.8785003\ttotal: 1.09s\tremaining: 2.52s\n",
      "301:\tlearn: 22.8762726\ttotal: 1.09s\tremaining: 2.52s\n",
      "302:\tlearn: 22.8603168\ttotal: 1.09s\tremaining: 2.52s\n",
      "303:\tlearn: 22.8383976\ttotal: 1.1s\tremaining: 2.51s\n",
      "304:\tlearn: 22.8325556\ttotal: 1.1s\tremaining: 2.51s\n",
      "305:\tlearn: 22.8025333\ttotal: 1.1s\tremaining: 2.5s\n",
      "306:\tlearn: 22.7683117\ttotal: 1.11s\tremaining: 2.5s\n",
      "307:\tlearn: 22.7657582\ttotal: 1.11s\tremaining: 2.5s\n",
      "308:\tlearn: 22.7290686\ttotal: 1.11s\tremaining: 2.49s\n",
      "309:\tlearn: 22.7270940\ttotal: 1.12s\tremaining: 2.49s\n",
      "310:\tlearn: 22.6986139\ttotal: 1.12s\tremaining: 2.49s\n",
      "311:\tlearn: 22.6825168\ttotal: 1.13s\tremaining: 2.48s\n",
      "312:\tlearn: 22.6606525\ttotal: 1.13s\tremaining: 2.48s\n",
      "313:\tlearn: 22.6202561\ttotal: 1.13s\tremaining: 2.48s\n",
      "314:\tlearn: 22.6019847\ttotal: 1.14s\tremaining: 2.47s\n",
      "315:\tlearn: 22.5941171\ttotal: 1.14s\tremaining: 2.47s\n",
      "316:\tlearn: 22.5790854\ttotal: 1.14s\tremaining: 2.46s\n",
      "317:\tlearn: 22.5682389\ttotal: 1.15s\tremaining: 2.46s\n",
      "318:\tlearn: 22.5661936\ttotal: 1.15s\tremaining: 2.46s\n",
      "319:\tlearn: 22.5380792\ttotal: 1.16s\tremaining: 2.46s\n",
      "320:\tlearn: 22.5095145\ttotal: 1.16s\tremaining: 2.45s\n",
      "321:\tlearn: 22.4808951\ttotal: 1.16s\tremaining: 2.45s\n",
      "322:\tlearn: 22.4625234\ttotal: 1.17s\tremaining: 2.44s\n",
      "323:\tlearn: 22.4380486\ttotal: 1.17s\tremaining: 2.44s\n",
      "324:\tlearn: 22.4317796\ttotal: 1.17s\tremaining: 2.44s\n",
      "325:\tlearn: 22.4032724\ttotal: 1.18s\tremaining: 2.43s\n",
      "326:\tlearn: 22.3941273\ttotal: 1.18s\tremaining: 2.43s\n",
      "327:\tlearn: 22.3743316\ttotal: 1.18s\tremaining: 2.42s\n",
      "328:\tlearn: 22.3633713\ttotal: 1.19s\tremaining: 2.42s\n",
      "329:\tlearn: 22.3396188\ttotal: 1.19s\tremaining: 2.42s\n",
      "330:\tlearn: 22.3333523\ttotal: 1.19s\tremaining: 2.41s\n",
      "331:\tlearn: 22.3071843\ttotal: 1.2s\tremaining: 2.41s\n",
      "332:\tlearn: 22.3062089\ttotal: 1.2s\tremaining: 2.4s\n",
      "333:\tlearn: 22.2871437\ttotal: 1.2s\tremaining: 2.4s\n",
      "334:\tlearn: 22.2540469\ttotal: 1.21s\tremaining: 2.4s\n",
      "335:\tlearn: 22.2505213\ttotal: 1.21s\tremaining: 2.39s\n",
      "336:\tlearn: 22.2412481\ttotal: 1.21s\tremaining: 2.39s\n",
      "337:\tlearn: 22.2078577\ttotal: 1.22s\tremaining: 2.39s\n",
      "338:\tlearn: 22.2053665\ttotal: 1.22s\tremaining: 2.38s\n",
      "339:\tlearn: 22.1748921\ttotal: 1.23s\tremaining: 2.38s\n",
      "340:\tlearn: 22.1645632\ttotal: 1.23s\tremaining: 2.38s\n",
      "341:\tlearn: 22.1403351\ttotal: 1.23s\tremaining: 2.37s\n",
      "342:\tlearn: 22.1158718\ttotal: 1.24s\tremaining: 2.37s\n",
      "343:\tlearn: 22.1151930\ttotal: 1.24s\tremaining: 2.36s\n",
      "344:\tlearn: 22.1030872\ttotal: 1.24s\tremaining: 2.36s\n",
      "345:\tlearn: 22.1003105\ttotal: 1.25s\tremaining: 2.36s\n",
      "346:\tlearn: 22.0863852\ttotal: 1.25s\tremaining: 2.35s\n",
      "347:\tlearn: 22.0693934\ttotal: 1.25s\tremaining: 2.35s\n",
      "348:\tlearn: 22.0424637\ttotal: 1.26s\tremaining: 2.35s\n",
      "349:\tlearn: 22.0298408\ttotal: 1.26s\tremaining: 2.34s\n",
      "350:\tlearn: 22.0214268\ttotal: 1.26s\tremaining: 2.34s\n",
      "351:\tlearn: 21.9944304\ttotal: 1.27s\tremaining: 2.34s\n",
      "352:\tlearn: 21.9680605\ttotal: 1.27s\tremaining: 2.33s\n",
      "353:\tlearn: 21.9390550\ttotal: 1.28s\tremaining: 2.33s\n",
      "354:\tlearn: 21.9168068\ttotal: 1.28s\tremaining: 2.33s\n",
      "355:\tlearn: 21.8974550\ttotal: 1.28s\tremaining: 2.32s\n",
      "356:\tlearn: 21.8807628\ttotal: 1.29s\tremaining: 2.32s\n",
      "357:\tlearn: 21.8787459\ttotal: 1.29s\tremaining: 2.31s\n",
      "358:\tlearn: 21.8776579\ttotal: 1.29s\tremaining: 2.31s\n",
      "359:\tlearn: 21.8583012\ttotal: 1.3s\tremaining: 2.31s\n",
      "360:\tlearn: 21.8357666\ttotal: 1.3s\tremaining: 2.31s\n",
      "361:\tlearn: 21.8175445\ttotal: 1.31s\tremaining: 2.3s\n",
      "362:\tlearn: 21.8036618\ttotal: 1.31s\tremaining: 2.3s\n",
      "363:\tlearn: 21.7759273\ttotal: 1.31s\tremaining: 2.29s\n",
      "364:\tlearn: 21.7744698\ttotal: 1.32s\tremaining: 2.29s\n",
      "365:\tlearn: 21.7604920\ttotal: 1.32s\tremaining: 2.29s\n",
      "366:\tlearn: 21.7552652\ttotal: 1.32s\tremaining: 2.28s\n",
      "367:\tlearn: 21.7334070\ttotal: 1.33s\tremaining: 2.28s\n",
      "368:\tlearn: 21.7257026\ttotal: 1.33s\tremaining: 2.27s\n",
      "369:\tlearn: 21.7227175\ttotal: 1.33s\tremaining: 2.27s\n",
      "370:\tlearn: 21.7060340\ttotal: 1.34s\tremaining: 2.27s\n",
      "371:\tlearn: 21.6755199\ttotal: 1.34s\tremaining: 2.27s\n",
      "372:\tlearn: 21.6630157\ttotal: 1.34s\tremaining: 2.26s\n",
      "373:\tlearn: 21.6449041\ttotal: 1.35s\tremaining: 2.26s\n",
      "374:\tlearn: 21.6431173\ttotal: 1.35s\tremaining: 2.25s\n",
      "375:\tlearn: 21.6119229\ttotal: 1.36s\tremaining: 2.25s\n",
      "376:\tlearn: 21.6089243\ttotal: 1.36s\tremaining: 2.25s\n",
      "377:\tlearn: 21.5988673\ttotal: 1.36s\tremaining: 2.24s\n",
      "378:\tlearn: 21.5952205\ttotal: 1.37s\tremaining: 2.24s\n",
      "379:\tlearn: 21.5766505\ttotal: 1.37s\tremaining: 2.23s\n",
      "380:\tlearn: 21.5645137\ttotal: 1.37s\tremaining: 2.23s\n",
      "381:\tlearn: 21.5468899\ttotal: 1.38s\tremaining: 2.23s\n",
      "382:\tlearn: 21.5429261\ttotal: 1.38s\tremaining: 2.22s\n",
      "383:\tlearn: 21.5219425\ttotal: 1.38s\tremaining: 2.22s\n",
      "384:\tlearn: 21.5113839\ttotal: 1.39s\tremaining: 2.22s\n",
      "385:\tlearn: 21.4952638\ttotal: 1.39s\tremaining: 2.22s\n",
      "386:\tlearn: 21.4677031\ttotal: 1.4s\tremaining: 2.21s\n",
      "387:\tlearn: 21.4502232\ttotal: 1.4s\tremaining: 2.21s\n",
      "388:\tlearn: 21.4492659\ttotal: 1.41s\tremaining: 2.21s\n",
      "389:\tlearn: 21.4200722\ttotal: 1.41s\tremaining: 2.2s\n",
      "390:\tlearn: 21.3953992\ttotal: 1.41s\tremaining: 2.2s\n",
      "391:\tlearn: 21.3944369\ttotal: 1.42s\tremaining: 2.2s\n",
      "392:\tlearn: 21.3843256\ttotal: 1.42s\tremaining: 2.19s\n",
      "393:\tlearn: 21.3667704\ttotal: 1.42s\tremaining: 2.19s\n",
      "394:\tlearn: 21.3603968\ttotal: 1.43s\tremaining: 2.19s\n",
      "395:\tlearn: 21.3444078\ttotal: 1.43s\tremaining: 2.18s\n",
      "396:\tlearn: 21.3378406\ttotal: 1.43s\tremaining: 2.18s\n",
      "397:\tlearn: 21.3207608\ttotal: 1.44s\tremaining: 2.17s\n",
      "398:\tlearn: 21.3002204\ttotal: 1.44s\tremaining: 2.17s\n",
      "399:\tlearn: 21.2967451\ttotal: 1.44s\tremaining: 2.17s\n",
      "400:\tlearn: 21.2744568\ttotal: 1.45s\tremaining: 2.16s\n",
      "401:\tlearn: 21.2590033\ttotal: 1.45s\tremaining: 2.16s\n",
      "402:\tlearn: 21.2454505\ttotal: 1.46s\tremaining: 2.16s\n",
      "403:\tlearn: 21.2382135\ttotal: 1.46s\tremaining: 2.15s\n",
      "404:\tlearn: 21.2298826\ttotal: 1.46s\tremaining: 2.15s\n",
      "405:\tlearn: 21.2237441\ttotal: 1.47s\tremaining: 2.15s\n",
      "406:\tlearn: 21.2197578\ttotal: 1.47s\tremaining: 2.14s\n",
      "407:\tlearn: 21.1903960\ttotal: 1.47s\tremaining: 2.14s\n",
      "408:\tlearn: 21.1775031\ttotal: 1.48s\tremaining: 2.13s\n",
      "409:\tlearn: 21.1718600\ttotal: 1.48s\tremaining: 2.13s\n",
      "410:\tlearn: 21.1547690\ttotal: 1.49s\tremaining: 2.13s\n",
      "411:\tlearn: 21.1510890\ttotal: 1.49s\tremaining: 2.13s\n",
      "412:\tlearn: 21.1345567\ttotal: 1.49s\tremaining: 2.12s\n",
      "413:\tlearn: 21.1306247\ttotal: 1.5s\tremaining: 2.12s\n",
      "414:\tlearn: 21.1134570\ttotal: 1.5s\tremaining: 2.12s\n",
      "415:\tlearn: 21.0923209\ttotal: 1.5s\tremaining: 2.11s\n",
      "416:\tlearn: 21.0641518\ttotal: 1.51s\tremaining: 2.11s\n",
      "417:\tlearn: 21.0636043\ttotal: 1.51s\tremaining: 2.1s\n",
      "418:\tlearn: 21.0504255\ttotal: 1.51s\tremaining: 2.1s\n",
      "419:\tlearn: 21.0457358\ttotal: 1.52s\tremaining: 2.1s\n",
      "420:\tlearn: 21.0150927\ttotal: 1.52s\tremaining: 2.09s\n",
      "421:\tlearn: 21.0116405\ttotal: 1.53s\tremaining: 2.09s\n",
      "422:\tlearn: 20.9817442\ttotal: 1.53s\tremaining: 2.09s\n",
      "423:\tlearn: 20.9678804\ttotal: 1.53s\tremaining: 2.08s\n",
      "424:\tlearn: 20.9539115\ttotal: 1.54s\tremaining: 2.08s\n",
      "425:\tlearn: 20.9370056\ttotal: 1.54s\tremaining: 2.08s\n",
      "426:\tlearn: 20.9202761\ttotal: 1.54s\tremaining: 2.07s\n",
      "427:\tlearn: 20.8970845\ttotal: 1.55s\tremaining: 2.07s\n",
      "428:\tlearn: 20.8942390\ttotal: 1.55s\tremaining: 2.06s\n",
      "429:\tlearn: 20.8860809\ttotal: 1.55s\tremaining: 2.06s\n",
      "430:\tlearn: 20.8695038\ttotal: 1.56s\tremaining: 2.06s\n",
      "431:\tlearn: 20.8674363\ttotal: 1.56s\tremaining: 2.05s\n",
      "432:\tlearn: 20.8567844\ttotal: 1.57s\tremaining: 2.05s\n",
      "433:\tlearn: 20.8558560\ttotal: 1.57s\tremaining: 2.05s\n",
      "434:\tlearn: 20.8546487\ttotal: 1.57s\tremaining: 2.04s\n",
      "435:\tlearn: 20.8453974\ttotal: 1.58s\tremaining: 2.04s\n",
      "436:\tlearn: 20.8265940\ttotal: 1.58s\tremaining: 2.04s\n",
      "437:\tlearn: 20.8062507\ttotal: 1.59s\tremaining: 2.04s\n",
      "438:\tlearn: 20.7792772\ttotal: 1.59s\tremaining: 2.03s\n",
      "439:\tlearn: 20.7598340\ttotal: 1.59s\tremaining: 2.03s\n",
      "440:\tlearn: 20.7392597\ttotal: 1.6s\tremaining: 2.02s\n",
      "441:\tlearn: 20.7336540\ttotal: 1.6s\tremaining: 2.02s\n",
      "442:\tlearn: 20.7238831\ttotal: 1.6s\tremaining: 2.02s\n",
      "443:\tlearn: 20.7069547\ttotal: 1.61s\tremaining: 2.01s\n",
      "444:\tlearn: 20.6878611\ttotal: 1.61s\tremaining: 2.01s\n",
      "445:\tlearn: 20.6600520\ttotal: 1.61s\tremaining: 2.01s\n",
      "446:\tlearn: 20.6443230\ttotal: 1.62s\tremaining: 2s\n",
      "447:\tlearn: 20.6361263\ttotal: 1.62s\tremaining: 2s\n",
      "448:\tlearn: 20.6133898\ttotal: 1.63s\tremaining: 2s\n",
      "449:\tlearn: 20.5992396\ttotal: 1.63s\tremaining: 1.99s\n",
      "450:\tlearn: 20.5924510\ttotal: 1.63s\tremaining: 1.99s\n",
      "451:\tlearn: 20.5828842\ttotal: 1.64s\tremaining: 1.99s\n",
      "452:\tlearn: 20.5605909\ttotal: 1.64s\tremaining: 1.98s\n",
      "453:\tlearn: 20.5492191\ttotal: 1.65s\tremaining: 1.98s\n",
      "454:\tlearn: 20.5270807\ttotal: 1.65s\tremaining: 1.98s\n",
      "455:\tlearn: 20.5154149\ttotal: 1.65s\tremaining: 1.97s\n",
      "456:\tlearn: 20.4995095\ttotal: 1.66s\tremaining: 1.97s\n",
      "457:\tlearn: 20.4854402\ttotal: 1.66s\tremaining: 1.97s\n",
      "458:\tlearn: 20.4728116\ttotal: 1.67s\tremaining: 1.96s\n",
      "459:\tlearn: 20.4705909\ttotal: 1.67s\tremaining: 1.96s\n",
      "460:\tlearn: 20.4453880\ttotal: 1.67s\tremaining: 1.96s\n",
      "461:\tlearn: 20.4180938\ttotal: 1.68s\tremaining: 1.95s\n",
      "462:\tlearn: 20.3897440\ttotal: 1.68s\tremaining: 1.95s\n",
      "463:\tlearn: 20.3608300\ttotal: 1.68s\tremaining: 1.94s\n",
      "464:\tlearn: 20.3494459\ttotal: 1.69s\tremaining: 1.94s\n",
      "465:\tlearn: 20.3490084\ttotal: 1.69s\tremaining: 1.94s\n",
      "466:\tlearn: 20.3283892\ttotal: 1.69s\tremaining: 1.93s\n",
      "467:\tlearn: 20.3157750\ttotal: 1.7s\tremaining: 1.93s\n",
      "468:\tlearn: 20.2920948\ttotal: 1.7s\tremaining: 1.93s\n",
      "469:\tlearn: 20.2674611\ttotal: 1.7s\tremaining: 1.92s\n",
      "470:\tlearn: 20.2617307\ttotal: 1.71s\tremaining: 1.92s\n",
      "471:\tlearn: 20.2566751\ttotal: 1.71s\tremaining: 1.92s\n",
      "472:\tlearn: 20.2416768\ttotal: 1.72s\tremaining: 1.91s\n",
      "473:\tlearn: 20.2319434\ttotal: 1.72s\tremaining: 1.91s\n",
      "474:\tlearn: 20.2306929\ttotal: 1.73s\tremaining: 1.91s\n",
      "475:\tlearn: 20.2035498\ttotal: 1.73s\tremaining: 1.9s\n",
      "476:\tlearn: 20.1878505\ttotal: 1.73s\tremaining: 1.9s\n",
      "477:\tlearn: 20.1720445\ttotal: 1.74s\tremaining: 1.9s\n",
      "478:\tlearn: 20.1645612\ttotal: 1.74s\tremaining: 1.89s\n",
      "479:\tlearn: 20.1581233\ttotal: 1.74s\tremaining: 1.89s\n",
      "480:\tlearn: 20.1552660\ttotal: 1.75s\tremaining: 1.89s\n",
      "481:\tlearn: 20.1475940\ttotal: 1.75s\tremaining: 1.88s\n",
      "482:\tlearn: 20.1271704\ttotal: 1.76s\tremaining: 1.88s\n",
      "483:\tlearn: 20.0971052\ttotal: 1.76s\tremaining: 1.88s\n",
      "484:\tlearn: 20.0940260\ttotal: 1.76s\tremaining: 1.87s\n",
      "485:\tlearn: 20.0903252\ttotal: 1.77s\tremaining: 1.87s\n",
      "486:\tlearn: 20.0809473\ttotal: 1.77s\tremaining: 1.87s\n",
      "487:\tlearn: 20.0592299\ttotal: 1.77s\tremaining: 1.86s\n",
      "488:\tlearn: 20.0497231\ttotal: 1.78s\tremaining: 1.86s\n",
      "489:\tlearn: 20.0305539\ttotal: 1.78s\tremaining: 1.85s\n",
      "490:\tlearn: 20.0101403\ttotal: 1.79s\tremaining: 1.85s\n",
      "491:\tlearn: 20.0083266\ttotal: 1.79s\tremaining: 1.85s\n",
      "492:\tlearn: 20.0070852\ttotal: 1.79s\tremaining: 1.84s\n",
      "493:\tlearn: 20.0037860\ttotal: 1.8s\tremaining: 1.84s\n",
      "494:\tlearn: 19.9994959\ttotal: 1.8s\tremaining: 1.84s\n",
      "495:\tlearn: 19.9749644\ttotal: 1.8s\tremaining: 1.83s\n",
      "496:\tlearn: 19.9598794\ttotal: 1.81s\tremaining: 1.83s\n",
      "497:\tlearn: 19.9563018\ttotal: 1.81s\tremaining: 1.83s\n",
      "498:\tlearn: 19.9526806\ttotal: 1.81s\tremaining: 1.82s\n",
      "499:\tlearn: 19.9348885\ttotal: 1.82s\tremaining: 1.82s\n",
      "500:\tlearn: 19.9147244\ttotal: 1.82s\tremaining: 1.81s\n",
      "501:\tlearn: 19.9137552\ttotal: 1.82s\tremaining: 1.81s\n",
      "502:\tlearn: 19.9071194\ttotal: 1.83s\tremaining: 1.81s\n",
      "503:\tlearn: 19.9042556\ttotal: 1.83s\tremaining: 1.8s\n",
      "504:\tlearn: 19.8842112\ttotal: 1.84s\tremaining: 1.8s\n",
      "505:\tlearn: 19.8656263\ttotal: 1.84s\tremaining: 1.8s\n",
      "506:\tlearn: 19.8387204\ttotal: 1.84s\tremaining: 1.79s\n",
      "507:\tlearn: 19.8129801\ttotal: 1.85s\tremaining: 1.79s\n",
      "508:\tlearn: 19.8076842\ttotal: 1.85s\tremaining: 1.79s\n",
      "509:\tlearn: 19.7924518\ttotal: 1.86s\tremaining: 1.78s\n",
      "510:\tlearn: 19.7682461\ttotal: 1.86s\tremaining: 1.78s\n",
      "511:\tlearn: 19.7574393\ttotal: 1.86s\tremaining: 1.78s\n",
      "512:\tlearn: 19.7492565\ttotal: 1.87s\tremaining: 1.77s\n",
      "513:\tlearn: 19.7474257\ttotal: 1.87s\tremaining: 1.77s\n",
      "514:\tlearn: 19.7378354\ttotal: 1.88s\tremaining: 1.76s\n",
      "515:\tlearn: 19.7273772\ttotal: 1.88s\tremaining: 1.76s\n",
      "516:\tlearn: 19.7258413\ttotal: 1.88s\tremaining: 1.76s\n",
      "517:\tlearn: 19.7028974\ttotal: 1.89s\tremaining: 1.75s\n",
      "518:\tlearn: 19.6831141\ttotal: 1.89s\tremaining: 1.75s\n",
      "519:\tlearn: 19.6776867\ttotal: 1.89s\tremaining: 1.75s\n",
      "520:\tlearn: 19.6556219\ttotal: 1.9s\tremaining: 1.74s\n",
      "521:\tlearn: 19.6511799\ttotal: 1.9s\tremaining: 1.74s\n",
      "522:\tlearn: 19.6409614\ttotal: 1.9s\tremaining: 1.74s\n",
      "523:\tlearn: 19.6401227\ttotal: 1.91s\tremaining: 1.73s\n",
      "524:\tlearn: 19.6186794\ttotal: 1.91s\tremaining: 1.73s\n",
      "525:\tlearn: 19.6107254\ttotal: 1.91s\tremaining: 1.72s\n",
      "526:\tlearn: 19.6099414\ttotal: 1.92s\tremaining: 1.72s\n",
      "527:\tlearn: 19.6015481\ttotal: 1.92s\tremaining: 1.72s\n",
      "528:\tlearn: 19.5995922\ttotal: 1.92s\tremaining: 1.71s\n",
      "529:\tlearn: 19.5705476\ttotal: 1.93s\tremaining: 1.71s\n",
      "530:\tlearn: 19.5655077\ttotal: 1.93s\tremaining: 1.71s\n",
      "531:\tlearn: 19.5578454\ttotal: 1.94s\tremaining: 1.7s\n",
      "532:\tlearn: 19.5496614\ttotal: 1.94s\tremaining: 1.7s\n",
      "533:\tlearn: 19.5358848\ttotal: 1.94s\tremaining: 1.69s\n",
      "534:\tlearn: 19.5340822\ttotal: 1.95s\tremaining: 1.69s\n",
      "535:\tlearn: 19.5132019\ttotal: 1.95s\tremaining: 1.69s\n",
      "536:\tlearn: 19.4990604\ttotal: 1.95s\tremaining: 1.68s\n",
      "537:\tlearn: 19.4834623\ttotal: 1.96s\tremaining: 1.68s\n",
      "538:\tlearn: 19.4826597\ttotal: 1.96s\tremaining: 1.68s\n",
      "539:\tlearn: 19.4793688\ttotal: 1.96s\tremaining: 1.67s\n",
      "540:\tlearn: 19.4703659\ttotal: 1.97s\tremaining: 1.67s\n",
      "541:\tlearn: 19.4691414\ttotal: 1.97s\tremaining: 1.66s\n",
      "542:\tlearn: 19.4481747\ttotal: 1.97s\tremaining: 1.66s\n",
      "543:\tlearn: 19.4384098\ttotal: 1.98s\tremaining: 1.66s\n",
      "544:\tlearn: 19.4228658\ttotal: 1.98s\tremaining: 1.65s\n",
      "545:\tlearn: 19.4157961\ttotal: 1.98s\tremaining: 1.65s\n",
      "546:\tlearn: 19.4113970\ttotal: 1.99s\tremaining: 1.65s\n",
      "547:\tlearn: 19.4012816\ttotal: 1.99s\tremaining: 1.64s\n",
      "548:\tlearn: 19.3964829\ttotal: 2s\tremaining: 1.64s\n",
      "549:\tlearn: 19.3833568\ttotal: 2s\tremaining: 1.64s\n",
      "550:\tlearn: 19.3818394\ttotal: 2s\tremaining: 1.63s\n",
      "551:\tlearn: 19.3788736\ttotal: 2s\tremaining: 1.63s\n",
      "552:\tlearn: 19.3559577\ttotal: 2.01s\tremaining: 1.62s\n",
      "553:\tlearn: 19.3520990\ttotal: 2.01s\tremaining: 1.62s\n",
      "554:\tlearn: 19.3291335\ttotal: 2.02s\tremaining: 1.62s\n",
      "555:\tlearn: 19.3281698\ttotal: 2.02s\tremaining: 1.61s\n",
      "556:\tlearn: 19.3266507\ttotal: 2.02s\tremaining: 1.61s\n",
      "557:\tlearn: 19.3222663\ttotal: 2.03s\tremaining: 1.6s\n",
      "558:\tlearn: 19.3216822\ttotal: 2.03s\tremaining: 1.6s\n",
      "559:\tlearn: 19.3155761\ttotal: 2.03s\tremaining: 1.6s\n",
      "560:\tlearn: 19.3110987\ttotal: 2.04s\tremaining: 1.59s\n",
      "561:\tlearn: 19.2970623\ttotal: 2.04s\tremaining: 1.59s\n",
      "562:\tlearn: 19.2954709\ttotal: 2.04s\tremaining: 1.59s\n",
      "563:\tlearn: 19.2928900\ttotal: 2.05s\tremaining: 1.58s\n",
      "564:\tlearn: 19.2774998\ttotal: 2.05s\tremaining: 1.58s\n",
      "565:\tlearn: 19.2753511\ttotal: 2.06s\tremaining: 1.58s\n",
      "566:\tlearn: 19.2589576\ttotal: 2.06s\tremaining: 1.57s\n",
      "567:\tlearn: 19.2532550\ttotal: 2.06s\tremaining: 1.57s\n",
      "568:\tlearn: 19.2496657\ttotal: 2.07s\tremaining: 1.56s\n",
      "569:\tlearn: 19.2276845\ttotal: 2.07s\tremaining: 1.56s\n",
      "570:\tlearn: 19.2212869\ttotal: 2.07s\tremaining: 1.56s\n",
      "571:\tlearn: 19.2085792\ttotal: 2.08s\tremaining: 1.55s\n",
      "572:\tlearn: 19.1853694\ttotal: 2.08s\tremaining: 1.55s\n",
      "573:\tlearn: 19.1675986\ttotal: 2.08s\tremaining: 1.55s\n",
      "574:\tlearn: 19.1626794\ttotal: 2.09s\tremaining: 1.54s\n",
      "575:\tlearn: 19.1477804\ttotal: 2.09s\tremaining: 1.54s\n",
      "576:\tlearn: 19.1324922\ttotal: 2.1s\tremaining: 1.54s\n",
      "577:\tlearn: 19.1283734\ttotal: 2.1s\tremaining: 1.53s\n",
      "578:\tlearn: 19.1258582\ttotal: 2.1s\tremaining: 1.53s\n",
      "579:\tlearn: 19.1169202\ttotal: 2.11s\tremaining: 1.53s\n",
      "580:\tlearn: 19.1158343\ttotal: 2.11s\tremaining: 1.52s\n",
      "581:\tlearn: 19.1031782\ttotal: 2.11s\tremaining: 1.52s\n",
      "582:\tlearn: 19.0808089\ttotal: 2.12s\tremaining: 1.51s\n",
      "583:\tlearn: 19.0684628\ttotal: 2.12s\tremaining: 1.51s\n",
      "584:\tlearn: 19.0662586\ttotal: 2.13s\tremaining: 1.51s\n",
      "585:\tlearn: 19.0468814\ttotal: 2.13s\tremaining: 1.5s\n",
      "586:\tlearn: 19.0425470\ttotal: 2.13s\tremaining: 1.5s\n",
      "587:\tlearn: 19.0413629\ttotal: 2.14s\tremaining: 1.5s\n",
      "588:\tlearn: 19.0210752\ttotal: 2.14s\tremaining: 1.49s\n",
      "589:\tlearn: 19.0155737\ttotal: 2.14s\tremaining: 1.49s\n",
      "590:\tlearn: 19.0131313\ttotal: 2.15s\tremaining: 1.49s\n",
      "591:\tlearn: 19.0110552\ttotal: 2.15s\tremaining: 1.48s\n",
      "592:\tlearn: 18.9971496\ttotal: 2.16s\tremaining: 1.48s\n",
      "593:\tlearn: 18.9896620\ttotal: 2.16s\tremaining: 1.48s\n",
      "594:\tlearn: 18.9776218\ttotal: 2.17s\tremaining: 1.48s\n",
      "595:\tlearn: 18.9715891\ttotal: 2.17s\tremaining: 1.47s\n",
      "596:\tlearn: 18.9700532\ttotal: 2.18s\tremaining: 1.47s\n",
      "597:\tlearn: 18.9697996\ttotal: 2.18s\tremaining: 1.47s\n",
      "598:\tlearn: 18.9689707\ttotal: 2.19s\tremaining: 1.46s\n",
      "599:\tlearn: 18.9553080\ttotal: 2.19s\tremaining: 1.46s\n",
      "600:\tlearn: 18.9357535\ttotal: 2.2s\tremaining: 1.46s\n",
      "601:\tlearn: 18.9261120\ttotal: 2.2s\tremaining: 1.46s\n",
      "602:\tlearn: 18.9038535\ttotal: 2.21s\tremaining: 1.45s\n",
      "603:\tlearn: 18.8997222\ttotal: 2.21s\tremaining: 1.45s\n",
      "604:\tlearn: 18.8788472\ttotal: 2.22s\tremaining: 1.45s\n",
      "605:\tlearn: 18.8702696\ttotal: 2.22s\tremaining: 1.45s\n",
      "606:\tlearn: 18.8687830\ttotal: 2.23s\tremaining: 1.44s\n",
      "607:\tlearn: 18.8586691\ttotal: 2.23s\tremaining: 1.44s\n",
      "608:\tlearn: 18.8528054\ttotal: 2.24s\tremaining: 1.44s\n",
      "609:\tlearn: 18.8311884\ttotal: 2.24s\tremaining: 1.43s\n",
      "610:\tlearn: 18.8222000\ttotal: 2.24s\tremaining: 1.43s\n",
      "611:\tlearn: 18.8195150\ttotal: 2.25s\tremaining: 1.42s\n",
      "612:\tlearn: 18.7930054\ttotal: 2.25s\tremaining: 1.42s\n",
      "613:\tlearn: 18.7676269\ttotal: 2.25s\tremaining: 1.42s\n",
      "614:\tlearn: 18.7464976\ttotal: 2.26s\tremaining: 1.41s\n",
      "615:\tlearn: 18.7430715\ttotal: 2.26s\tremaining: 1.41s\n",
      "616:\tlearn: 18.7220550\ttotal: 2.26s\tremaining: 1.41s\n",
      "617:\tlearn: 18.7209509\ttotal: 2.27s\tremaining: 1.4s\n",
      "618:\tlearn: 18.7013433\ttotal: 2.27s\tremaining: 1.4s\n",
      "619:\tlearn: 18.6842938\ttotal: 2.27s\tremaining: 1.39s\n",
      "620:\tlearn: 18.6756186\ttotal: 2.28s\tremaining: 1.39s\n",
      "621:\tlearn: 18.6587011\ttotal: 2.28s\tremaining: 1.39s\n",
      "622:\tlearn: 18.6398795\ttotal: 2.29s\tremaining: 1.38s\n",
      "623:\tlearn: 18.6395499\ttotal: 2.29s\tremaining: 1.38s\n",
      "624:\tlearn: 18.6327988\ttotal: 2.29s\tremaining: 1.37s\n",
      "625:\tlearn: 18.6091374\ttotal: 2.29s\tremaining: 1.37s\n",
      "626:\tlearn: 18.5863326\ttotal: 2.3s\tremaining: 1.37s\n",
      "627:\tlearn: 18.5851891\ttotal: 2.3s\tremaining: 1.36s\n",
      "628:\tlearn: 18.5619731\ttotal: 2.31s\tremaining: 1.36s\n",
      "629:\tlearn: 18.5540798\ttotal: 2.31s\tremaining: 1.36s\n",
      "630:\tlearn: 18.5536768\ttotal: 2.31s\tremaining: 1.35s\n",
      "631:\tlearn: 18.5493757\ttotal: 2.31s\tremaining: 1.35s\n",
      "632:\tlearn: 18.5415441\ttotal: 2.32s\tremaining: 1.34s\n",
      "633:\tlearn: 18.5353252\ttotal: 2.32s\tremaining: 1.34s\n",
      "634:\tlearn: 18.5269708\ttotal: 2.33s\tremaining: 1.34s\n",
      "635:\tlearn: 18.5199141\ttotal: 2.33s\tremaining: 1.33s\n",
      "636:\tlearn: 18.5168707\ttotal: 2.33s\tremaining: 1.33s\n",
      "637:\tlearn: 18.5155749\ttotal: 2.34s\tremaining: 1.32s\n",
      "638:\tlearn: 18.5149682\ttotal: 2.34s\tremaining: 1.32s\n",
      "639:\tlearn: 18.4953821\ttotal: 2.34s\tremaining: 1.32s\n",
      "640:\tlearn: 18.4916021\ttotal: 2.35s\tremaining: 1.31s\n",
      "641:\tlearn: 18.4746584\ttotal: 2.35s\tremaining: 1.31s\n",
      "642:\tlearn: 18.4570008\ttotal: 2.35s\tremaining: 1.31s\n",
      "643:\tlearn: 18.4358127\ttotal: 2.36s\tremaining: 1.3s\n",
      "644:\tlearn: 18.4289529\ttotal: 2.36s\tremaining: 1.3s\n",
      "645:\tlearn: 18.4107557\ttotal: 2.37s\tremaining: 1.3s\n",
      "646:\tlearn: 18.4094646\ttotal: 2.37s\tremaining: 1.29s\n",
      "647:\tlearn: 18.4002559\ttotal: 2.37s\tremaining: 1.29s\n",
      "648:\tlearn: 18.3967051\ttotal: 2.38s\tremaining: 1.28s\n",
      "649:\tlearn: 18.3938632\ttotal: 2.38s\tremaining: 1.28s\n",
      "650:\tlearn: 18.3875225\ttotal: 2.38s\tremaining: 1.28s\n",
      "651:\tlearn: 18.3836480\ttotal: 2.39s\tremaining: 1.27s\n",
      "652:\tlearn: 18.3745842\ttotal: 2.39s\tremaining: 1.27s\n",
      "653:\tlearn: 18.3621822\ttotal: 2.39s\tremaining: 1.27s\n",
      "654:\tlearn: 18.3595694\ttotal: 2.4s\tremaining: 1.26s\n",
      "655:\tlearn: 18.3558610\ttotal: 2.4s\tremaining: 1.26s\n",
      "656:\tlearn: 18.3414390\ttotal: 2.41s\tremaining: 1.26s\n",
      "657:\tlearn: 18.3405921\ttotal: 2.41s\tremaining: 1.25s\n",
      "658:\tlearn: 18.3358097\ttotal: 2.41s\tremaining: 1.25s\n",
      "659:\tlearn: 18.3329898\ttotal: 2.42s\tremaining: 1.24s\n",
      "660:\tlearn: 18.3326865\ttotal: 2.42s\tremaining: 1.24s\n",
      "661:\tlearn: 18.3240715\ttotal: 2.42s\tremaining: 1.24s\n",
      "662:\tlearn: 18.3002716\ttotal: 2.43s\tremaining: 1.23s\n",
      "663:\tlearn: 18.2722997\ttotal: 2.43s\tremaining: 1.23s\n",
      "664:\tlearn: 18.2625554\ttotal: 2.43s\tremaining: 1.23s\n",
      "665:\tlearn: 18.2425889\ttotal: 2.44s\tremaining: 1.22s\n",
      "666:\tlearn: 18.2260942\ttotal: 2.44s\tremaining: 1.22s\n",
      "667:\tlearn: 18.2171688\ttotal: 2.44s\tremaining: 1.21s\n",
      "668:\tlearn: 18.2120480\ttotal: 2.45s\tremaining: 1.21s\n",
      "669:\tlearn: 18.2115412\ttotal: 2.45s\tremaining: 1.21s\n",
      "670:\tlearn: 18.2080681\ttotal: 2.45s\tremaining: 1.2s\n",
      "671:\tlearn: 18.1957840\ttotal: 2.46s\tremaining: 1.2s\n",
      "672:\tlearn: 18.1925715\ttotal: 2.46s\tremaining: 1.2s\n",
      "673:\tlearn: 18.1773868\ttotal: 2.46s\tremaining: 1.19s\n",
      "674:\tlearn: 18.1738691\ttotal: 2.47s\tremaining: 1.19s\n",
      "675:\tlearn: 18.1555823\ttotal: 2.47s\tremaining: 1.18s\n",
      "676:\tlearn: 18.1541180\ttotal: 2.47s\tremaining: 1.18s\n",
      "677:\tlearn: 18.1433577\ttotal: 2.48s\tremaining: 1.18s\n",
      "678:\tlearn: 18.1384589\ttotal: 2.48s\tremaining: 1.17s\n",
      "679:\tlearn: 18.1336011\ttotal: 2.48s\tremaining: 1.17s\n",
      "680:\tlearn: 18.1322474\ttotal: 2.48s\tremaining: 1.16s\n",
      "681:\tlearn: 18.1130447\ttotal: 2.49s\tremaining: 1.16s\n",
      "682:\tlearn: 18.1102728\ttotal: 2.49s\tremaining: 1.16s\n",
      "683:\tlearn: 18.0919539\ttotal: 2.5s\tremaining: 1.15s\n",
      "684:\tlearn: 18.0865051\ttotal: 2.5s\tremaining: 1.15s\n",
      "685:\tlearn: 18.0775046\ttotal: 2.5s\tremaining: 1.15s\n",
      "686:\tlearn: 18.0597853\ttotal: 2.51s\tremaining: 1.14s\n",
      "687:\tlearn: 18.0583906\ttotal: 2.51s\tremaining: 1.14s\n",
      "688:\tlearn: 18.0508854\ttotal: 2.52s\tremaining: 1.14s\n",
      "689:\tlearn: 18.0385037\ttotal: 2.52s\tremaining: 1.13s\n",
      "690:\tlearn: 18.0363335\ttotal: 2.52s\tremaining: 1.13s\n",
      "691:\tlearn: 18.0271666\ttotal: 2.53s\tremaining: 1.13s\n",
      "692:\tlearn: 18.0171313\ttotal: 2.53s\tremaining: 1.12s\n",
      "693:\tlearn: 18.0034490\ttotal: 2.54s\tremaining: 1.12s\n",
      "694:\tlearn: 17.9994138\ttotal: 2.54s\tremaining: 1.11s\n",
      "695:\tlearn: 17.9868093\ttotal: 2.54s\tremaining: 1.11s\n",
      "696:\tlearn: 17.9632391\ttotal: 2.55s\tremaining: 1.11s\n",
      "697:\tlearn: 17.9532523\ttotal: 2.55s\tremaining: 1.1s\n",
      "698:\tlearn: 17.9514032\ttotal: 2.56s\tremaining: 1.1s\n",
      "699:\tlearn: 17.9384731\ttotal: 2.56s\tremaining: 1.1s\n",
      "700:\tlearn: 17.9141303\ttotal: 2.56s\tremaining: 1.09s\n",
      "701:\tlearn: 17.8902839\ttotal: 2.56s\tremaining: 1.09s\n",
      "702:\tlearn: 17.8878870\ttotal: 2.57s\tremaining: 1.08s\n",
      "703:\tlearn: 17.8785665\ttotal: 2.57s\tremaining: 1.08s\n",
      "704:\tlearn: 17.8776422\ttotal: 2.58s\tremaining: 1.08s\n",
      "705:\tlearn: 17.8759626\ttotal: 2.58s\tremaining: 1.07s\n",
      "706:\tlearn: 17.8662417\ttotal: 2.58s\tremaining: 1.07s\n",
      "707:\tlearn: 17.8581722\ttotal: 2.58s\tremaining: 1.07s\n",
      "708:\tlearn: 17.8575806\ttotal: 2.59s\tremaining: 1.06s\n",
      "709:\tlearn: 17.8462739\ttotal: 2.59s\tremaining: 1.06s\n",
      "710:\tlearn: 17.8323429\ttotal: 2.59s\tremaining: 1.05s\n",
      "711:\tlearn: 17.8308563\ttotal: 2.6s\tremaining: 1.05s\n",
      "712:\tlearn: 17.8169005\ttotal: 2.6s\tremaining: 1.05s\n",
      "713:\tlearn: 17.7992282\ttotal: 2.6s\tremaining: 1.04s\n",
      "714:\tlearn: 17.7940634\ttotal: 2.61s\tremaining: 1.04s\n",
      "715:\tlearn: 17.7778909\ttotal: 2.61s\tremaining: 1.03s\n",
      "716:\tlearn: 17.7577956\ttotal: 2.62s\tremaining: 1.03s\n",
      "717:\tlearn: 17.7507792\ttotal: 2.62s\tremaining: 1.03s\n",
      "718:\tlearn: 17.7451483\ttotal: 2.62s\tremaining: 1.02s\n",
      "719:\tlearn: 17.7406570\ttotal: 2.63s\tremaining: 1.02s\n",
      "720:\tlearn: 17.7255265\ttotal: 2.63s\tremaining: 1.02s\n",
      "721:\tlearn: 17.7187592\ttotal: 2.63s\tremaining: 1.01s\n",
      "722:\tlearn: 17.7129671\ttotal: 2.63s\tremaining: 1.01s\n",
      "723:\tlearn: 17.7091091\ttotal: 2.64s\tremaining: 1.01s\n",
      "724:\tlearn: 17.7075238\ttotal: 2.64s\tremaining: 1s\n",
      "725:\tlearn: 17.6960133\ttotal: 2.65s\tremaining: 999ms\n",
      "726:\tlearn: 17.6741422\ttotal: 2.65s\tremaining: 995ms\n",
      "727:\tlearn: 17.6681950\ttotal: 2.65s\tremaining: 992ms\n",
      "728:\tlearn: 17.6484991\ttotal: 2.66s\tremaining: 988ms\n",
      "729:\tlearn: 17.6424766\ttotal: 2.66s\tremaining: 985ms\n",
      "730:\tlearn: 17.6403045\ttotal: 2.67s\tremaining: 981ms\n",
      "731:\tlearn: 17.6336383\ttotal: 2.67s\tremaining: 978ms\n",
      "732:\tlearn: 17.6331404\ttotal: 2.67s\tremaining: 974ms\n",
      "733:\tlearn: 17.6168122\ttotal: 2.68s\tremaining: 970ms\n",
      "734:\tlearn: 17.6131096\ttotal: 2.68s\tremaining: 967ms\n",
      "735:\tlearn: 17.6055927\ttotal: 2.68s\tremaining: 963ms\n",
      "736:\tlearn: 17.5986671\ttotal: 2.69s\tremaining: 960ms\n",
      "737:\tlearn: 17.5976722\ttotal: 2.69s\tremaining: 956ms\n",
      "738:\tlearn: 17.5799886\ttotal: 2.69s\tremaining: 952ms\n",
      "739:\tlearn: 17.5731086\ttotal: 2.7s\tremaining: 948ms\n",
      "740:\tlearn: 17.5610656\ttotal: 2.7s\tremaining: 944ms\n",
      "741:\tlearn: 17.5588001\ttotal: 2.71s\tremaining: 941ms\n",
      "742:\tlearn: 17.5408058\ttotal: 2.71s\tremaining: 938ms\n",
      "743:\tlearn: 17.5214180\ttotal: 2.71s\tremaining: 934ms\n",
      "744:\tlearn: 17.5161472\ttotal: 2.72s\tremaining: 931ms\n",
      "745:\tlearn: 17.5148410\ttotal: 2.72s\tremaining: 927ms\n",
      "746:\tlearn: 17.5095614\ttotal: 2.73s\tremaining: 924ms\n",
      "747:\tlearn: 17.5044503\ttotal: 2.73s\tremaining: 920ms\n",
      "748:\tlearn: 17.4998903\ttotal: 2.73s\tremaining: 916ms\n",
      "749:\tlearn: 17.4854450\ttotal: 2.74s\tremaining: 913ms\n",
      "750:\tlearn: 17.4853762\ttotal: 2.74s\tremaining: 909ms\n",
      "751:\tlearn: 17.4840477\ttotal: 2.74s\tremaining: 905ms\n",
      "752:\tlearn: 17.4817394\ttotal: 2.75s\tremaining: 901ms\n",
      "753:\tlearn: 17.4690077\ttotal: 2.75s\tremaining: 898ms\n",
      "754:\tlearn: 17.4670814\ttotal: 2.75s\tremaining: 894ms\n",
      "755:\tlearn: 17.4520230\ttotal: 2.76s\tremaining: 890ms\n",
      "756:\tlearn: 17.4340919\ttotal: 2.76s\tremaining: 887ms\n",
      "757:\tlearn: 17.4292706\ttotal: 2.77s\tremaining: 883ms\n",
      "758:\tlearn: 17.4148112\ttotal: 2.77s\tremaining: 879ms\n",
      "759:\tlearn: 17.4108312\ttotal: 2.77s\tremaining: 876ms\n",
      "760:\tlearn: 17.4054520\ttotal: 2.78s\tremaining: 872ms\n",
      "761:\tlearn: 17.4040979\ttotal: 2.78s\tremaining: 868ms\n",
      "762:\tlearn: 17.3937469\ttotal: 2.78s\tremaining: 865ms\n",
      "763:\tlearn: 17.3926842\ttotal: 2.79s\tremaining: 861ms\n",
      "764:\tlearn: 17.3829981\ttotal: 2.79s\tremaining: 857ms\n",
      "765:\tlearn: 17.3659536\ttotal: 2.79s\tremaining: 854ms\n",
      "766:\tlearn: 17.3642505\ttotal: 2.8s\tremaining: 850ms\n",
      "767:\tlearn: 17.3639192\ttotal: 2.8s\tremaining: 846ms\n",
      "768:\tlearn: 17.3539347\ttotal: 2.8s\tremaining: 842ms\n",
      "769:\tlearn: 17.3489874\ttotal: 2.81s\tremaining: 838ms\n",
      "770:\tlearn: 17.3424774\ttotal: 2.81s\tremaining: 835ms\n",
      "771:\tlearn: 17.3416480\ttotal: 2.81s\tremaining: 831ms\n",
      "772:\tlearn: 17.3329491\ttotal: 2.82s\tremaining: 828ms\n",
      "773:\tlearn: 17.3148637\ttotal: 2.82s\tremaining: 824ms\n",
      "774:\tlearn: 17.3095910\ttotal: 2.83s\tremaining: 821ms\n",
      "775:\tlearn: 17.2955478\ttotal: 2.83s\tremaining: 817ms\n",
      "776:\tlearn: 17.2762691\ttotal: 2.83s\tremaining: 813ms\n",
      "777:\tlearn: 17.2718868\ttotal: 2.84s\tremaining: 810ms\n",
      "778:\tlearn: 17.2597441\ttotal: 2.84s\tremaining: 806ms\n",
      "779:\tlearn: 17.2556286\ttotal: 2.85s\tremaining: 803ms\n",
      "780:\tlearn: 17.2550364\ttotal: 2.85s\tremaining: 799ms\n",
      "781:\tlearn: 17.2461671\ttotal: 2.85s\tremaining: 796ms\n",
      "782:\tlearn: 17.2371796\ttotal: 2.86s\tremaining: 792ms\n",
      "783:\tlearn: 17.2325923\ttotal: 2.86s\tremaining: 788ms\n",
      "784:\tlearn: 17.2273989\ttotal: 2.86s\tremaining: 784ms\n",
      "785:\tlearn: 17.2092354\ttotal: 2.87s\tremaining: 781ms\n",
      "786:\tlearn: 17.1988193\ttotal: 2.87s\tremaining: 777ms\n",
      "787:\tlearn: 17.1838074\ttotal: 2.88s\tremaining: 774ms\n",
      "788:\tlearn: 17.1810205\ttotal: 2.88s\tremaining: 770ms\n",
      "789:\tlearn: 17.1681789\ttotal: 2.88s\tremaining: 766ms\n",
      "790:\tlearn: 17.1611295\ttotal: 2.89s\tremaining: 763ms\n",
      "791:\tlearn: 17.1567146\ttotal: 2.89s\tremaining: 759ms\n",
      "792:\tlearn: 17.1469159\ttotal: 2.89s\tremaining: 755ms\n",
      "793:\tlearn: 17.1407853\ttotal: 2.9s\tremaining: 752ms\n",
      "794:\tlearn: 17.1370809\ttotal: 2.9s\tremaining: 748ms\n",
      "795:\tlearn: 17.1359662\ttotal: 2.9s\tremaining: 744ms\n",
      "796:\tlearn: 17.1263896\ttotal: 2.91s\tremaining: 741ms\n",
      "797:\tlearn: 17.1182096\ttotal: 2.91s\tremaining: 737ms\n",
      "798:\tlearn: 17.1033732\ttotal: 2.92s\tremaining: 734ms\n",
      "799:\tlearn: 17.1023981\ttotal: 2.92s\tremaining: 730ms\n",
      "800:\tlearn: 17.0806530\ttotal: 2.92s\tremaining: 726ms\n",
      "801:\tlearn: 17.0799612\ttotal: 2.93s\tremaining: 723ms\n",
      "802:\tlearn: 17.0658545\ttotal: 2.93s\tremaining: 719ms\n",
      "803:\tlearn: 17.0478037\ttotal: 2.93s\tremaining: 715ms\n",
      "804:\tlearn: 17.0259373\ttotal: 2.94s\tremaining: 712ms\n",
      "805:\tlearn: 17.0197627\ttotal: 2.94s\tremaining: 708ms\n",
      "806:\tlearn: 17.0036207\ttotal: 2.94s\tremaining: 704ms\n",
      "807:\tlearn: 17.0029289\ttotal: 2.95s\tremaining: 701ms\n",
      "808:\tlearn: 16.9998840\ttotal: 2.95s\tremaining: 697ms\n",
      "809:\tlearn: 16.9903293\ttotal: 2.96s\tremaining: 693ms\n",
      "810:\tlearn: 16.9822850\ttotal: 2.96s\tremaining: 690ms\n",
      "811:\tlearn: 16.9769335\ttotal: 2.96s\tremaining: 686ms\n",
      "812:\tlearn: 16.9722996\ttotal: 2.97s\tremaining: 683ms\n",
      "813:\tlearn: 16.9707938\ttotal: 2.97s\tremaining: 679ms\n",
      "814:\tlearn: 16.9594005\ttotal: 2.98s\tremaining: 675ms\n",
      "815:\tlearn: 16.9580446\ttotal: 2.98s\tremaining: 672ms\n",
      "816:\tlearn: 16.9570487\ttotal: 2.98s\tremaining: 668ms\n",
      "817:\tlearn: 16.9537441\ttotal: 2.98s\tremaining: 664ms\n",
      "818:\tlearn: 16.9453533\ttotal: 2.99s\tremaining: 661ms\n",
      "819:\tlearn: 16.9224244\ttotal: 2.99s\tremaining: 657ms\n",
      "820:\tlearn: 16.9099744\ttotal: 3s\tremaining: 653ms\n",
      "821:\tlearn: 16.9019183\ttotal: 3s\tremaining: 650ms\n",
      "822:\tlearn: 16.9012039\ttotal: 3s\tremaining: 646ms\n",
      "823:\tlearn: 16.8839470\ttotal: 3.01s\tremaining: 642ms\n",
      "824:\tlearn: 16.8816690\ttotal: 3.01s\tremaining: 639ms\n",
      "825:\tlearn: 16.8798249\ttotal: 3.01s\tremaining: 635ms\n",
      "826:\tlearn: 16.8680270\ttotal: 3.02s\tremaining: 631ms\n",
      "827:\tlearn: 16.8658973\ttotal: 3.02s\tremaining: 628ms\n",
      "828:\tlearn: 16.8476983\ttotal: 3.02s\tremaining: 624ms\n",
      "829:\tlearn: 16.8306894\ttotal: 3.03s\tremaining: 620ms\n",
      "830:\tlearn: 16.8220721\ttotal: 3.03s\tremaining: 617ms\n",
      "831:\tlearn: 16.8124315\ttotal: 3.04s\tremaining: 613ms\n",
      "832:\tlearn: 16.8119681\ttotal: 3.04s\tremaining: 609ms\n",
      "833:\tlearn: 16.7904567\ttotal: 3.04s\tremaining: 606ms\n",
      "834:\tlearn: 16.7767256\ttotal: 3.04s\tremaining: 602ms\n",
      "835:\tlearn: 16.7753092\ttotal: 3.05s\tremaining: 598ms\n",
      "836:\tlearn: 16.7512626\ttotal: 3.05s\tremaining: 594ms\n",
      "837:\tlearn: 16.7450342\ttotal: 3.06s\tremaining: 591ms\n",
      "838:\tlearn: 16.7292355\ttotal: 3.06s\tremaining: 587ms\n",
      "839:\tlearn: 16.7142029\ttotal: 3.06s\tremaining: 583ms\n",
      "840:\tlearn: 16.6990953\ttotal: 3.07s\tremaining: 580ms\n",
      "841:\tlearn: 16.6821812\ttotal: 3.07s\tremaining: 576ms\n",
      "842:\tlearn: 16.6816564\ttotal: 3.07s\tremaining: 573ms\n",
      "843:\tlearn: 16.6668869\ttotal: 3.08s\tremaining: 569ms\n",
      "844:\tlearn: 16.6510574\ttotal: 3.08s\tremaining: 565ms\n",
      "845:\tlearn: 16.6347988\ttotal: 3.08s\tremaining: 562ms\n",
      "846:\tlearn: 16.6307405\ttotal: 3.09s\tremaining: 558ms\n",
      "847:\tlearn: 16.6160102\ttotal: 3.09s\tremaining: 554ms\n",
      "848:\tlearn: 16.6037887\ttotal: 3.1s\tremaining: 551ms\n",
      "849:\tlearn: 16.6018711\ttotal: 3.1s\tremaining: 547ms\n",
      "850:\tlearn: 16.5806162\ttotal: 3.1s\tremaining: 543ms\n",
      "851:\tlearn: 16.5729425\ttotal: 3.11s\tremaining: 540ms\n",
      "852:\tlearn: 16.5723425\ttotal: 3.11s\tremaining: 536ms\n",
      "853:\tlearn: 16.5708650\ttotal: 3.11s\tremaining: 532ms\n",
      "854:\tlearn: 16.5589120\ttotal: 3.12s\tremaining: 529ms\n",
      "855:\tlearn: 16.5562920\ttotal: 3.12s\tremaining: 525ms\n",
      "856:\tlearn: 16.5526357\ttotal: 3.12s\tremaining: 521ms\n",
      "857:\tlearn: 16.5518740\ttotal: 3.13s\tremaining: 518ms\n",
      "858:\tlearn: 16.5327359\ttotal: 3.13s\tremaining: 514ms\n",
      "859:\tlearn: 16.5305238\ttotal: 3.13s\tremaining: 510ms\n",
      "860:\tlearn: 16.5127327\ttotal: 3.14s\tremaining: 507ms\n",
      "861:\tlearn: 16.5082296\ttotal: 3.14s\tremaining: 503ms\n",
      "862:\tlearn: 16.4950989\ttotal: 3.15s\tremaining: 499ms\n",
      "863:\tlearn: 16.4910797\ttotal: 3.15s\tremaining: 496ms\n",
      "864:\tlearn: 16.4834286\ttotal: 3.15s\tremaining: 492ms\n",
      "865:\tlearn: 16.4697059\ttotal: 3.16s\tremaining: 489ms\n",
      "866:\tlearn: 16.4536346\ttotal: 3.16s\tremaining: 485ms\n",
      "867:\tlearn: 16.4426094\ttotal: 3.16s\tremaining: 481ms\n",
      "868:\tlearn: 16.4403856\ttotal: 3.17s\tremaining: 478ms\n",
      "869:\tlearn: 16.4382691\ttotal: 3.17s\tremaining: 474ms\n",
      "870:\tlearn: 16.4252955\ttotal: 3.17s\tremaining: 470ms\n",
      "871:\tlearn: 16.4182682\ttotal: 3.18s\tremaining: 467ms\n",
      "872:\tlearn: 16.4106445\ttotal: 3.18s\tremaining: 463ms\n",
      "873:\tlearn: 16.4029470\ttotal: 3.19s\tremaining: 459ms\n",
      "874:\tlearn: 16.3921937\ttotal: 3.19s\tremaining: 456ms\n",
      "875:\tlearn: 16.3890600\ttotal: 3.19s\tremaining: 452ms\n",
      "876:\tlearn: 16.3795279\ttotal: 3.2s\tremaining: 448ms\n",
      "877:\tlearn: 16.3650223\ttotal: 3.2s\tremaining: 445ms\n",
      "878:\tlearn: 16.3561888\ttotal: 3.21s\tremaining: 441ms\n",
      "879:\tlearn: 16.3473497\ttotal: 3.21s\tremaining: 438ms\n",
      "880:\tlearn: 16.3454079\ttotal: 3.21s\tremaining: 434ms\n",
      "881:\tlearn: 16.3351089\ttotal: 3.22s\tremaining: 430ms\n",
      "882:\tlearn: 16.3193029\ttotal: 3.22s\tremaining: 427ms\n",
      "883:\tlearn: 16.3186033\ttotal: 3.22s\tremaining: 423ms\n",
      "884:\tlearn: 16.3120099\ttotal: 3.23s\tremaining: 419ms\n",
      "885:\tlearn: 16.3114710\ttotal: 3.23s\tremaining: 416ms\n",
      "886:\tlearn: 16.3112324\ttotal: 3.23s\tremaining: 412ms\n",
      "887:\tlearn: 16.3037232\ttotal: 3.24s\tremaining: 409ms\n",
      "888:\tlearn: 16.2896800\ttotal: 3.24s\tremaining: 405ms\n",
      "889:\tlearn: 16.2862796\ttotal: 3.25s\tremaining: 401ms\n",
      "890:\tlearn: 16.2861112\ttotal: 3.25s\tremaining: 398ms\n",
      "891:\tlearn: 16.2687236\ttotal: 3.25s\tremaining: 394ms\n",
      "892:\tlearn: 16.2516759\ttotal: 3.26s\tremaining: 390ms\n",
      "893:\tlearn: 16.2367061\ttotal: 3.26s\tremaining: 387ms\n",
      "894:\tlearn: 16.2234085\ttotal: 3.27s\tremaining: 383ms\n",
      "895:\tlearn: 16.2227164\ttotal: 3.27s\tremaining: 379ms\n",
      "896:\tlearn: 16.2106482\ttotal: 3.27s\tremaining: 376ms\n",
      "897:\tlearn: 16.1934329\ttotal: 3.27s\tremaining: 372ms\n",
      "898:\tlearn: 16.1909589\ttotal: 3.28s\tremaining: 368ms\n",
      "899:\tlearn: 16.1850914\ttotal: 3.28s\tremaining: 365ms\n",
      "900:\tlearn: 16.1749681\ttotal: 3.29s\tremaining: 361ms\n",
      "901:\tlearn: 16.1739460\ttotal: 3.29s\tremaining: 357ms\n",
      "902:\tlearn: 16.1700936\ttotal: 3.29s\tremaining: 354ms\n",
      "903:\tlearn: 16.1669265\ttotal: 3.29s\tremaining: 350ms\n",
      "904:\tlearn: 16.1627543\ttotal: 3.3s\tremaining: 346ms\n",
      "905:\tlearn: 16.1597010\ttotal: 3.3s\tremaining: 343ms\n",
      "906:\tlearn: 16.1481864\ttotal: 3.31s\tremaining: 339ms\n",
      "907:\tlearn: 16.1430847\ttotal: 3.31s\tremaining: 335ms\n",
      "908:\tlearn: 16.1426474\ttotal: 3.31s\tremaining: 332ms\n",
      "909:\tlearn: 16.1410745\ttotal: 3.32s\tremaining: 328ms\n",
      "910:\tlearn: 16.1408547\ttotal: 3.32s\tremaining: 325ms\n",
      "911:\tlearn: 16.1312724\ttotal: 3.33s\tremaining: 321ms\n",
      "912:\tlearn: 16.1279418\ttotal: 3.33s\tremaining: 317ms\n",
      "913:\tlearn: 16.1244371\ttotal: 3.33s\tremaining: 314ms\n",
      "914:\tlearn: 16.1163435\ttotal: 3.34s\tremaining: 310ms\n",
      "915:\tlearn: 16.1135831\ttotal: 3.34s\tremaining: 306ms\n",
      "916:\tlearn: 16.1124259\ttotal: 3.34s\tremaining: 303ms\n",
      "917:\tlearn: 16.1096357\ttotal: 3.35s\tremaining: 299ms\n",
      "918:\tlearn: 16.0975775\ttotal: 3.35s\tremaining: 295ms\n",
      "919:\tlearn: 16.0932801\ttotal: 3.36s\tremaining: 292ms\n",
      "920:\tlearn: 16.0736912\ttotal: 3.36s\tremaining: 288ms\n",
      "921:\tlearn: 16.0706506\ttotal: 3.36s\tremaining: 285ms\n",
      "922:\tlearn: 16.0607534\ttotal: 3.37s\tremaining: 281ms\n",
      "923:\tlearn: 16.0539467\ttotal: 3.37s\tremaining: 277ms\n",
      "924:\tlearn: 16.0498279\ttotal: 3.37s\tremaining: 274ms\n",
      "925:\tlearn: 16.0452293\ttotal: 3.38s\tremaining: 270ms\n",
      "926:\tlearn: 16.0404461\ttotal: 3.38s\tremaining: 266ms\n",
      "927:\tlearn: 16.0332352\ttotal: 3.38s\tremaining: 263ms\n",
      "928:\tlearn: 16.0306851\ttotal: 3.39s\tremaining: 259ms\n",
      "929:\tlearn: 16.0299669\ttotal: 3.39s\tremaining: 255ms\n",
      "930:\tlearn: 16.0073033\ttotal: 3.4s\tremaining: 252ms\n",
      "931:\tlearn: 15.9947464\ttotal: 3.4s\tremaining: 248ms\n",
      "932:\tlearn: 15.9919871\ttotal: 3.4s\tremaining: 244ms\n",
      "933:\tlearn: 15.9827009\ttotal: 3.41s\tremaining: 241ms\n",
      "934:\tlearn: 15.9758958\ttotal: 3.41s\tremaining: 237ms\n",
      "935:\tlearn: 15.9632014\ttotal: 3.41s\tremaining: 233ms\n",
      "936:\tlearn: 15.9603537\ttotal: 3.42s\tremaining: 230ms\n",
      "937:\tlearn: 15.9436015\ttotal: 3.42s\tremaining: 226ms\n",
      "938:\tlearn: 15.9409758\ttotal: 3.42s\tremaining: 223ms\n",
      "939:\tlearn: 15.9261396\ttotal: 3.43s\tremaining: 219ms\n",
      "940:\tlearn: 15.9138737\ttotal: 3.43s\tremaining: 215ms\n",
      "941:\tlearn: 15.9127664\ttotal: 3.44s\tremaining: 212ms\n",
      "942:\tlearn: 15.8940812\ttotal: 3.44s\tremaining: 208ms\n",
      "943:\tlearn: 15.8747659\ttotal: 3.44s\tremaining: 204ms\n",
      "944:\tlearn: 15.8654811\ttotal: 3.45s\tremaining: 201ms\n",
      "945:\tlearn: 15.8538287\ttotal: 3.45s\tremaining: 197ms\n",
      "946:\tlearn: 15.8456043\ttotal: 3.46s\tremaining: 193ms\n",
      "947:\tlearn: 15.8348200\ttotal: 3.46s\tremaining: 190ms\n",
      "948:\tlearn: 15.8256559\ttotal: 3.46s\tremaining: 186ms\n",
      "949:\tlearn: 15.8232557\ttotal: 3.47s\tremaining: 183ms\n",
      "950:\tlearn: 15.8225996\ttotal: 3.47s\tremaining: 179ms\n",
      "951:\tlearn: 15.8108580\ttotal: 3.48s\tremaining: 175ms\n",
      "952:\tlearn: 15.7905804\ttotal: 3.48s\tremaining: 172ms\n",
      "953:\tlearn: 15.7871520\ttotal: 3.48s\tremaining: 168ms\n",
      "954:\tlearn: 15.7789536\ttotal: 3.49s\tremaining: 164ms\n",
      "955:\tlearn: 15.7645736\ttotal: 3.49s\tremaining: 161ms\n",
      "956:\tlearn: 15.7556020\ttotal: 3.49s\tremaining: 157ms\n",
      "957:\tlearn: 15.7533036\ttotal: 3.5s\tremaining: 153ms\n",
      "958:\tlearn: 15.7400603\ttotal: 3.5s\tremaining: 150ms\n",
      "959:\tlearn: 15.7383969\ttotal: 3.5s\tremaining: 146ms\n",
      "960:\tlearn: 15.7355849\ttotal: 3.51s\tremaining: 142ms\n",
      "961:\tlearn: 15.7329493\ttotal: 3.51s\tremaining: 139ms\n",
      "962:\tlearn: 15.7065203\ttotal: 3.51s\tremaining: 135ms\n",
      "963:\tlearn: 15.6976020\ttotal: 3.52s\tremaining: 131ms\n",
      "964:\tlearn: 15.6969979\ttotal: 3.52s\tremaining: 128ms\n",
      "965:\tlearn: 15.6959705\ttotal: 3.52s\tremaining: 124ms\n",
      "966:\tlearn: 15.6945616\ttotal: 3.53s\tremaining: 120ms\n",
      "967:\tlearn: 15.6906105\ttotal: 3.53s\tremaining: 117ms\n",
      "968:\tlearn: 15.6898376\ttotal: 3.53s\tremaining: 113ms\n",
      "969:\tlearn: 15.6757254\ttotal: 3.54s\tremaining: 109ms\n",
      "970:\tlearn: 15.6733060\ttotal: 3.54s\tremaining: 106ms\n",
      "971:\tlearn: 15.6554717\ttotal: 3.54s\tremaining: 102ms\n",
      "972:\tlearn: 15.6542160\ttotal: 3.55s\tremaining: 98.5ms\n",
      "973:\tlearn: 15.6389125\ttotal: 3.55s\tremaining: 94.8ms\n",
      "974:\tlearn: 15.6270196\ttotal: 3.56s\tremaining: 91.2ms\n",
      "975:\tlearn: 15.6266741\ttotal: 3.56s\tremaining: 87.5ms\n",
      "976:\tlearn: 15.6150407\ttotal: 3.56s\tremaining: 83.9ms\n",
      "977:\tlearn: 15.6111090\ttotal: 3.57s\tremaining: 80.2ms\n",
      "978:\tlearn: 15.6084541\ttotal: 3.57s\tremaining: 76.6ms\n",
      "979:\tlearn: 15.6035248\ttotal: 3.57s\tremaining: 72.9ms\n",
      "980:\tlearn: 15.6010266\ttotal: 3.58s\tremaining: 69.3ms\n",
      "981:\tlearn: 15.5821064\ttotal: 3.58s\tremaining: 65.6ms\n",
      "982:\tlearn: 15.5817319\ttotal: 3.58s\tremaining: 62ms\n",
      "983:\tlearn: 15.5796118\ttotal: 3.59s\tremaining: 58.3ms\n",
      "984:\tlearn: 15.5730193\ttotal: 3.59s\tremaining: 54.7ms\n",
      "985:\tlearn: 15.5700009\ttotal: 3.59s\tremaining: 51ms\n",
      "986:\tlearn: 15.5663662\ttotal: 3.6s\tremaining: 47.4ms\n",
      "987:\tlearn: 15.5621154\ttotal: 3.6s\tremaining: 43.7ms\n",
      "988:\tlearn: 15.5599887\ttotal: 3.6s\tremaining: 40.1ms\n",
      "989:\tlearn: 15.5513646\ttotal: 3.61s\tremaining: 36.4ms\n",
      "990:\tlearn: 15.5382917\ttotal: 3.61s\tremaining: 32.8ms\n",
      "991:\tlearn: 15.5229785\ttotal: 3.61s\tremaining: 29.1ms\n",
      "992:\tlearn: 15.5215092\ttotal: 3.62s\tremaining: 25.5ms\n",
      "993:\tlearn: 15.5111597\ttotal: 3.62s\tremaining: 21.9ms\n",
      "994:\tlearn: 15.5088276\ttotal: 3.62s\tremaining: 18.2ms\n",
      "995:\tlearn: 15.5073655\ttotal: 3.63s\tremaining: 14.6ms\n",
      "996:\tlearn: 15.5006250\ttotal: 3.63s\tremaining: 10.9ms\n",
      "997:\tlearn: 15.4841292\ttotal: 3.63s\tremaining: 7.29ms\n",
      "998:\tlearn: 15.4746199\ttotal: 3.64s\tremaining: 3.64ms\n",
      "999:\tlearn: 15.4636914\ttotal: 3.64s\tremaining: 0us\n"
     ]
    }
   ],
   "source": [
    "# initialize data\n",
    "train_data = train.drop(columns=['num_orders'])\n",
    "train_label = train['num_orders']\n",
    "\n",
    "test_data = test.drop(columns=['num_orders'])\n",
    "\n",
    "# initialize Pool\n",
    "train_pool = Pool(train_data, \n",
    "                  train_label)\n",
    "test_pool = Pool(test_data) \n",
    "\n",
    "# specify the training parameters \n",
    "CatBR = CatBoostRegressor(iterations=1000, \n",
    "                          best_model_min_trees=20,\n",
    "                          grow_policy='Lossguide',\n",
    "                          loss_function='RMSE')\n",
    "#train the model\n",
    "CatBR.fit(train_pool)\n",
    "# make the prediction using the resulting model\n",
    "cat_preds = CatBR.predict(test_pool)"
   ]
  },
  {
   "cell_type": "code",
   "execution_count": 258,
   "metadata": {},
   "outputs": [
    {
     "data": {
      "text/plain": [
       "45.515724237881074"
      ]
     },
     "execution_count": 258,
     "metadata": {},
     "output_type": "execute_result"
    }
   ],
   "source": [
    "mean_squared_error(test['num_orders'], cat_preds, squared=False)"
   ]
  },
  {
   "cell_type": "markdown",
   "metadata": {},
   "source": [
    "я абсолютно не имею никакого понятия как улучшить метрику, чтобы я не пробовал, она не опускается ниже 52, кроме фильтрования выпадающих значений, что единственное сработало, с целью получить метрику ниже 48"
   ]
  },
  {
   "cell_type": "markdown",
   "metadata": {},
   "source": [
    "#### c большим значением lag и rolling_window"
   ]
  },
  {
   "cell_type": "code",
   "execution_count": 145,
   "metadata": {},
   "outputs": [],
   "source": [
    "train, test = features_for_model(lag=25, rolling_window=28)"
   ]
  },
  {
   "cell_type": "code",
   "execution_count": 146,
   "metadata": {},
   "outputs": [
    {
     "name": "stdout",
     "output_type": "stream",
     "text": [
      "Learning rate set to 0.05086\n",
      "0:\tlearn: 37.7648172\ttotal: 16ms\tremaining: 16s\n",
      "1:\tlearn: 36.8884086\ttotal: 30.1ms\tremaining: 15s\n",
      "2:\tlearn: 36.0346068\ttotal: 45ms\tremaining: 15s\n",
      "3:\tlearn: 35.2890318\ttotal: 60.1ms\tremaining: 15s\n",
      "4:\tlearn: 34.5517486\ttotal: 76.7ms\tremaining: 15.3s\n",
      "5:\tlearn: 33.8499195\ttotal: 93.2ms\tremaining: 15.4s\n",
      "6:\tlearn: 33.2144097\ttotal: 108ms\tremaining: 15.3s\n",
      "7:\tlearn: 32.6263278\ttotal: 124ms\tremaining: 15.4s\n",
      "8:\tlearn: 32.0936200\ttotal: 137ms\tremaining: 15.1s\n",
      "9:\tlearn: 31.5248724\ttotal: 154ms\tremaining: 15.2s\n",
      "10:\tlearn: 31.0303462\ttotal: 168ms\tremaining: 15.1s\n",
      "11:\tlearn: 30.5743974\ttotal: 184ms\tremaining: 15.1s\n",
      "12:\tlearn: 30.1364988\ttotal: 198ms\tremaining: 15s\n",
      "13:\tlearn: 29.6962304\ttotal: 213ms\tremaining: 15s\n",
      "14:\tlearn: 29.2972133\ttotal: 229ms\tremaining: 15s\n",
      "15:\tlearn: 28.9499269\ttotal: 247ms\tremaining: 15.2s\n",
      "16:\tlearn: 28.5830959\ttotal: 262ms\tremaining: 15.2s\n",
      "17:\tlearn: 28.2438333\ttotal: 278ms\tremaining: 15.1s\n",
      "18:\tlearn: 27.9218665\ttotal: 301ms\tremaining: 15.5s\n",
      "19:\tlearn: 27.6387495\ttotal: 315ms\tremaining: 15.4s\n",
      "20:\tlearn: 27.3559657\ttotal: 333ms\tremaining: 15.5s\n",
      "21:\tlearn: 27.0919816\ttotal: 348ms\tremaining: 15.5s\n",
      "22:\tlearn: 26.8340318\ttotal: 364ms\tremaining: 15.4s\n",
      "23:\tlearn: 26.5883622\ttotal: 378ms\tremaining: 15.4s\n",
      "24:\tlearn: 26.3374860\ttotal: 394ms\tremaining: 15.4s\n",
      "25:\tlearn: 26.1178648\ttotal: 410ms\tremaining: 15.3s\n",
      "26:\tlearn: 25.9083904\ttotal: 425ms\tremaining: 15.3s\n",
      "27:\tlearn: 25.6924364\ttotal: 440ms\tremaining: 15.3s\n",
      "28:\tlearn: 25.5111135\ttotal: 454ms\tremaining: 15.2s\n",
      "29:\tlearn: 25.3448047\ttotal: 469ms\tremaining: 15.1s\n",
      "30:\tlearn: 25.1879429\ttotal: 483ms\tremaining: 15.1s\n",
      "31:\tlearn: 25.0274109\ttotal: 499ms\tremaining: 15.1s\n",
      "32:\tlearn: 24.8527809\ttotal: 515ms\tremaining: 15.1s\n",
      "33:\tlearn: 24.6936878\ttotal: 530ms\tremaining: 15.1s\n",
      "34:\tlearn: 24.5062735\ttotal: 546ms\tremaining: 15.1s\n",
      "35:\tlearn: 24.3862477\ttotal: 561ms\tremaining: 15s\n",
      "36:\tlearn: 24.2295948\ttotal: 577ms\tremaining: 15s\n",
      "37:\tlearn: 24.1054154\ttotal: 592ms\tremaining: 15s\n",
      "38:\tlearn: 23.9893761\ttotal: 607ms\tremaining: 15s\n",
      "39:\tlearn: 23.8862852\ttotal: 625ms\tremaining: 15s\n",
      "40:\tlearn: 23.7902485\ttotal: 641ms\tremaining: 15s\n",
      "41:\tlearn: 23.7015297\ttotal: 655ms\tremaining: 14.9s\n",
      "42:\tlearn: 23.5868925\ttotal: 669ms\tremaining: 14.9s\n",
      "43:\tlearn: 23.4995959\ttotal: 684ms\tremaining: 14.9s\n",
      "44:\tlearn: 23.3850295\ttotal: 699ms\tremaining: 14.8s\n",
      "45:\tlearn: 23.2976333\ttotal: 713ms\tremaining: 14.8s\n",
      "46:\tlearn: 23.1987981\ttotal: 730ms\tremaining: 14.8s\n",
      "47:\tlearn: 23.0888627\ttotal: 745ms\tremaining: 14.8s\n",
      "48:\tlearn: 23.0030911\ttotal: 759ms\tremaining: 14.7s\n",
      "49:\tlearn: 22.9367819\ttotal: 773ms\tremaining: 14.7s\n",
      "50:\tlearn: 22.8517059\ttotal: 785ms\tremaining: 14.6s\n",
      "51:\tlearn: 22.7558464\ttotal: 800ms\tremaining: 14.6s\n",
      "52:\tlearn: 22.7023159\ttotal: 813ms\tremaining: 14.5s\n",
      "53:\tlearn: 22.6460643\ttotal: 826ms\tremaining: 14.5s\n",
      "54:\tlearn: 22.5648520\ttotal: 841ms\tremaining: 14.5s\n",
      "55:\tlearn: 22.5001459\ttotal: 857ms\tremaining: 14.4s\n",
      "56:\tlearn: 22.4415718\ttotal: 871ms\tremaining: 14.4s\n",
      "57:\tlearn: 22.3948986\ttotal: 886ms\tremaining: 14.4s\n",
      "58:\tlearn: 22.3288153\ttotal: 902ms\tremaining: 14.4s\n",
      "59:\tlearn: 22.2618062\ttotal: 916ms\tremaining: 14.4s\n",
      "60:\tlearn: 22.1763310\ttotal: 931ms\tremaining: 14.3s\n",
      "61:\tlearn: 22.1300424\ttotal: 944ms\tremaining: 14.3s\n",
      "62:\tlearn: 22.0524544\ttotal: 959ms\tremaining: 14.3s\n",
      "63:\tlearn: 21.9683604\ttotal: 974ms\tremaining: 14.2s\n",
      "64:\tlearn: 21.9113808\ttotal: 990ms\tremaining: 14.2s\n",
      "65:\tlearn: 21.8598579\ttotal: 1.01s\tremaining: 14.2s\n",
      "66:\tlearn: 21.8037728\ttotal: 1.02s\tremaining: 14.2s\n",
      "67:\tlearn: 21.7552313\ttotal: 1.03s\tremaining: 14.2s\n",
      "68:\tlearn: 21.7194036\ttotal: 1.05s\tremaining: 14.2s\n",
      "69:\tlearn: 21.6722830\ttotal: 1.06s\tremaining: 14.2s\n",
      "70:\tlearn: 21.6320122\ttotal: 1.08s\tremaining: 14.1s\n",
      "71:\tlearn: 21.5589114\ttotal: 1.09s\tremaining: 14.1s\n",
      "72:\tlearn: 21.5197081\ttotal: 1.11s\tremaining: 14.1s\n",
      "73:\tlearn: 21.4772749\ttotal: 1.13s\tremaining: 14.1s\n",
      "74:\tlearn: 21.4158594\ttotal: 1.14s\tremaining: 14.1s\n",
      "75:\tlearn: 21.3685211\ttotal: 1.15s\tremaining: 14s\n",
      "76:\tlearn: 21.3230468\ttotal: 1.17s\tremaining: 14s\n",
      "77:\tlearn: 21.2775050\ttotal: 1.19s\tremaining: 14s\n",
      "78:\tlearn: 21.2399872\ttotal: 1.2s\tremaining: 14s\n",
      "79:\tlearn: 21.1682362\ttotal: 1.22s\tremaining: 14s\n",
      "80:\tlearn: 21.1234634\ttotal: 1.23s\tremaining: 13.9s\n",
      "81:\tlearn: 21.0767108\ttotal: 1.24s\tremaining: 13.9s\n",
      "82:\tlearn: 21.0350498\ttotal: 1.26s\tremaining: 13.9s\n",
      "83:\tlearn: 20.9806274\ttotal: 1.27s\tremaining: 13.9s\n",
      "84:\tlearn: 20.9351999\ttotal: 1.29s\tremaining: 13.9s\n",
      "85:\tlearn: 20.8908089\ttotal: 1.31s\tremaining: 13.9s\n",
      "86:\tlearn: 20.8477812\ttotal: 1.32s\tremaining: 13.9s\n",
      "87:\tlearn: 20.8034997\ttotal: 1.34s\tremaining: 13.9s\n",
      "88:\tlearn: 20.7476233\ttotal: 1.36s\tremaining: 13.9s\n",
      "89:\tlearn: 20.7213577\ttotal: 1.37s\tremaining: 13.9s\n",
      "90:\tlearn: 20.6918909\ttotal: 1.39s\tremaining: 13.9s\n",
      "91:\tlearn: 20.6358282\ttotal: 1.41s\tremaining: 13.9s\n",
      "92:\tlearn: 20.5780834\ttotal: 1.42s\tremaining: 13.9s\n",
      "93:\tlearn: 20.5523655\ttotal: 1.44s\tremaining: 13.8s\n",
      "94:\tlearn: 20.5071316\ttotal: 1.45s\tremaining: 13.8s\n",
      "95:\tlearn: 20.4806475\ttotal: 1.46s\tremaining: 13.8s\n",
      "96:\tlearn: 20.4548113\ttotal: 1.48s\tremaining: 13.8s\n",
      "97:\tlearn: 20.4209855\ttotal: 1.49s\tremaining: 13.7s\n",
      "98:\tlearn: 20.3725614\ttotal: 1.51s\tremaining: 13.7s\n",
      "99:\tlearn: 20.3347029\ttotal: 1.52s\tremaining: 13.7s\n",
      "100:\tlearn: 20.3238101\ttotal: 1.54s\tremaining: 13.7s\n",
      "101:\tlearn: 20.2926116\ttotal: 1.55s\tremaining: 13.7s\n",
      "102:\tlearn: 20.2662020\ttotal: 1.56s\tremaining: 13.6s\n",
      "103:\tlearn: 20.2373625\ttotal: 1.58s\tremaining: 13.6s\n",
      "104:\tlearn: 20.1957365\ttotal: 1.59s\tremaining: 13.6s\n",
      "105:\tlearn: 20.1562931\ttotal: 1.61s\tremaining: 13.6s\n",
      "106:\tlearn: 20.1250085\ttotal: 1.62s\tremaining: 13.6s\n",
      "107:\tlearn: 20.0815595\ttotal: 1.64s\tremaining: 13.5s\n",
      "108:\tlearn: 20.0671252\ttotal: 1.65s\tremaining: 13.5s\n",
      "109:\tlearn: 20.0314424\ttotal: 1.67s\tremaining: 13.5s\n",
      "110:\tlearn: 20.0072234\ttotal: 1.68s\tremaining: 13.5s\n",
      "111:\tlearn: 19.9796334\ttotal: 1.69s\tremaining: 13.4s\n",
      "112:\tlearn: 19.9519859\ttotal: 1.71s\tremaining: 13.4s\n",
      "113:\tlearn: 19.9246703\ttotal: 1.72s\tremaining: 13.4s\n",
      "114:\tlearn: 19.9002367\ttotal: 1.73s\tremaining: 13.3s\n",
      "115:\tlearn: 19.8651638\ttotal: 1.75s\tremaining: 13.3s\n",
      "116:\tlearn: 19.8368843\ttotal: 1.76s\tremaining: 13.3s\n",
      "117:\tlearn: 19.8138341\ttotal: 1.78s\tremaining: 13.3s\n",
      "118:\tlearn: 19.7814078\ttotal: 1.79s\tremaining: 13.3s\n",
      "119:\tlearn: 19.7722344\ttotal: 1.8s\tremaining: 13.2s\n",
      "120:\tlearn: 19.7256448\ttotal: 1.82s\tremaining: 13.2s\n",
      "121:\tlearn: 19.6946122\ttotal: 1.83s\tremaining: 13.2s\n",
      "122:\tlearn: 19.6581349\ttotal: 1.85s\tremaining: 13.2s\n",
      "123:\tlearn: 19.6362043\ttotal: 1.86s\tremaining: 13.2s\n",
      "124:\tlearn: 19.6155847\ttotal: 1.88s\tremaining: 13.2s\n",
      "125:\tlearn: 19.5807443\ttotal: 1.9s\tremaining: 13.2s\n",
      "126:\tlearn: 19.5371414\ttotal: 1.91s\tremaining: 13.1s\n",
      "127:\tlearn: 19.5117466\ttotal: 1.92s\tremaining: 13.1s\n",
      "128:\tlearn: 19.4808176\ttotal: 1.94s\tremaining: 13.1s\n",
      "129:\tlearn: 19.4431687\ttotal: 1.95s\tremaining: 13.1s\n",
      "130:\tlearn: 19.4283492\ttotal: 1.97s\tremaining: 13.1s\n",
      "131:\tlearn: 19.4039767\ttotal: 1.98s\tremaining: 13s\n",
      "132:\tlearn: 19.3761604\ttotal: 2s\tremaining: 13s\n",
      "133:\tlearn: 19.3308980\ttotal: 2.01s\tremaining: 13s\n",
      "134:\tlearn: 19.3019874\ttotal: 2.02s\tremaining: 13s\n",
      "135:\tlearn: 19.2629356\ttotal: 2.04s\tremaining: 13s\n",
      "136:\tlearn: 19.2325770\ttotal: 2.05s\tremaining: 12.9s\n",
      "137:\tlearn: 19.2030194\ttotal: 2.07s\tremaining: 12.9s\n",
      "138:\tlearn: 19.1775030\ttotal: 2.09s\tremaining: 12.9s\n",
      "139:\tlearn: 19.1332648\ttotal: 2.1s\tremaining: 12.9s\n",
      "140:\tlearn: 19.1026970\ttotal: 2.12s\tremaining: 12.9s\n",
      "141:\tlearn: 19.0670446\ttotal: 2.14s\tremaining: 12.9s\n",
      "142:\tlearn: 19.0209924\ttotal: 2.15s\tremaining: 12.9s\n",
      "143:\tlearn: 19.0014431\ttotal: 2.17s\tremaining: 12.9s\n",
      "144:\tlearn: 18.9861203\ttotal: 2.19s\tremaining: 12.9s\n",
      "145:\tlearn: 18.9552243\ttotal: 2.2s\tremaining: 12.9s\n",
      "146:\tlearn: 18.9420002\ttotal: 2.21s\tremaining: 12.9s\n",
      "147:\tlearn: 18.9128285\ttotal: 2.23s\tremaining: 12.8s\n",
      "148:\tlearn: 18.8956729\ttotal: 2.25s\tremaining: 12.8s\n",
      "149:\tlearn: 18.8759714\ttotal: 2.27s\tremaining: 12.9s\n",
      "150:\tlearn: 18.8494501\ttotal: 2.28s\tremaining: 12.8s\n",
      "151:\tlearn: 18.8137733\ttotal: 2.3s\tremaining: 12.8s\n",
      "152:\tlearn: 18.8010282\ttotal: 2.31s\tremaining: 12.8s\n",
      "153:\tlearn: 18.7865752\ttotal: 2.33s\tremaining: 12.8s\n",
      "154:\tlearn: 18.7530855\ttotal: 2.34s\tremaining: 12.8s\n",
      "155:\tlearn: 18.7341727\ttotal: 2.36s\tremaining: 12.7s\n",
      "156:\tlearn: 18.6868173\ttotal: 2.37s\tremaining: 12.7s\n",
      "157:\tlearn: 18.6746794\ttotal: 2.38s\tremaining: 12.7s\n",
      "158:\tlearn: 18.6416700\ttotal: 2.4s\tremaining: 12.7s\n",
      "159:\tlearn: 18.6024240\ttotal: 2.41s\tremaining: 12.7s\n",
      "160:\tlearn: 18.5759052\ttotal: 2.43s\tremaining: 12.6s\n",
      "161:\tlearn: 18.5345586\ttotal: 2.44s\tremaining: 12.6s\n",
      "162:\tlearn: 18.5192649\ttotal: 2.46s\tremaining: 12.6s\n",
      "163:\tlearn: 18.4999894\ttotal: 2.47s\tremaining: 12.6s\n",
      "164:\tlearn: 18.4741564\ttotal: 2.48s\tremaining: 12.6s\n",
      "165:\tlearn: 18.4478729\ttotal: 2.5s\tremaining: 12.5s\n",
      "166:\tlearn: 18.4261275\ttotal: 2.51s\tremaining: 12.5s\n",
      "167:\tlearn: 18.3873931\ttotal: 2.53s\tremaining: 12.5s\n",
      "168:\tlearn: 18.3638808\ttotal: 2.54s\tremaining: 12.5s\n",
      "169:\tlearn: 18.3283165\ttotal: 2.56s\tremaining: 12.5s\n",
      "170:\tlearn: 18.3200809\ttotal: 2.57s\tremaining: 12.4s\n",
      "171:\tlearn: 18.2863852\ttotal: 2.58s\tremaining: 12.4s\n",
      "172:\tlearn: 18.2642469\ttotal: 2.6s\tremaining: 12.4s\n",
      "173:\tlearn: 18.2491006\ttotal: 2.61s\tremaining: 12.4s\n",
      "174:\tlearn: 18.2172944\ttotal: 2.63s\tremaining: 12.4s\n",
      "175:\tlearn: 18.1632516\ttotal: 2.64s\tremaining: 12.4s\n",
      "176:\tlearn: 18.1439253\ttotal: 2.66s\tremaining: 12.4s\n",
      "177:\tlearn: 18.1279312\ttotal: 2.67s\tremaining: 12.3s\n",
      "178:\tlearn: 18.0905769\ttotal: 2.69s\tremaining: 12.3s\n",
      "179:\tlearn: 18.0807745\ttotal: 2.7s\tremaining: 12.3s\n",
      "180:\tlearn: 18.0447474\ttotal: 2.71s\tremaining: 12.3s\n",
      "181:\tlearn: 18.0304799\ttotal: 2.73s\tremaining: 12.3s\n",
      "182:\tlearn: 17.9891742\ttotal: 2.75s\tremaining: 12.3s\n",
      "183:\tlearn: 17.9628048\ttotal: 2.76s\tremaining: 12.2s\n",
      "184:\tlearn: 17.9561203\ttotal: 2.77s\tremaining: 12.2s\n",
      "185:\tlearn: 17.9441154\ttotal: 2.78s\tremaining: 12.2s\n",
      "186:\tlearn: 17.9234174\ttotal: 2.8s\tremaining: 12.2s\n",
      "187:\tlearn: 17.9121416\ttotal: 2.81s\tremaining: 12.2s\n",
      "188:\tlearn: 17.8623278\ttotal: 2.83s\tremaining: 12.1s\n",
      "189:\tlearn: 17.8237881\ttotal: 2.84s\tremaining: 12.1s\n",
      "190:\tlearn: 17.7864595\ttotal: 2.86s\tremaining: 12.1s\n",
      "191:\tlearn: 17.7678363\ttotal: 2.87s\tremaining: 12.1s\n",
      "192:\tlearn: 17.7598954\ttotal: 2.88s\tremaining: 12.1s\n",
      "193:\tlearn: 17.7433812\ttotal: 2.9s\tremaining: 12s\n",
      "194:\tlearn: 17.6865543\ttotal: 2.91s\tremaining: 12s\n",
      "195:\tlearn: 17.6746577\ttotal: 2.92s\tremaining: 12s\n",
      "196:\tlearn: 17.6621211\ttotal: 2.94s\tremaining: 12s\n",
      "197:\tlearn: 17.6520851\ttotal: 2.94s\tremaining: 11.9s\n",
      "198:\tlearn: 17.6049582\ttotal: 2.96s\tremaining: 11.9s\n",
      "199:\tlearn: 17.5928461\ttotal: 2.98s\tremaining: 11.9s\n",
      "200:\tlearn: 17.5838183\ttotal: 2.99s\tremaining: 11.9s\n",
      "201:\tlearn: 17.5399306\ttotal: 3s\tremaining: 11.9s\n",
      "202:\tlearn: 17.5234533\ttotal: 3.02s\tremaining: 11.9s\n",
      "203:\tlearn: 17.5060361\ttotal: 3.04s\tremaining: 11.8s\n",
      "204:\tlearn: 17.4675046\ttotal: 3.05s\tremaining: 11.8s\n",
      "205:\tlearn: 17.4535613\ttotal: 3.06s\tremaining: 11.8s\n",
      "206:\tlearn: 17.4487701\ttotal: 3.08s\tremaining: 11.8s\n",
      "207:\tlearn: 17.4415197\ttotal: 3.09s\tremaining: 11.8s\n",
      "208:\tlearn: 17.4033852\ttotal: 3.11s\tremaining: 11.8s\n",
      "209:\tlearn: 17.3934609\ttotal: 3.12s\tremaining: 11.7s\n",
      "210:\tlearn: 17.3873030\ttotal: 3.13s\tremaining: 11.7s\n",
      "211:\tlearn: 17.3756913\ttotal: 3.15s\tremaining: 11.7s\n",
      "212:\tlearn: 17.3494880\ttotal: 3.16s\tremaining: 11.7s\n",
      "213:\tlearn: 17.3348303\ttotal: 3.17s\tremaining: 11.7s\n",
      "214:\tlearn: 17.3083332\ttotal: 3.19s\tremaining: 11.6s\n",
      "215:\tlearn: 17.2899764\ttotal: 3.2s\tremaining: 11.6s\n",
      "216:\tlearn: 17.2640182\ttotal: 3.22s\tremaining: 11.6s\n",
      "217:\tlearn: 17.2448152\ttotal: 3.23s\tremaining: 11.6s\n",
      "218:\tlearn: 17.2326689\ttotal: 3.24s\tremaining: 11.6s\n",
      "219:\tlearn: 17.1831058\ttotal: 3.26s\tremaining: 11.6s\n",
      "220:\tlearn: 17.1596901\ttotal: 3.28s\tremaining: 11.5s\n",
      "221:\tlearn: 17.1398853\ttotal: 3.29s\tremaining: 11.5s\n",
      "222:\tlearn: 17.1268432\ttotal: 3.31s\tremaining: 11.5s\n",
      "223:\tlearn: 17.1100485\ttotal: 3.32s\tremaining: 11.5s\n",
      "224:\tlearn: 17.0937635\ttotal: 3.33s\tremaining: 11.5s\n",
      "225:\tlearn: 17.0415621\ttotal: 3.35s\tremaining: 11.5s\n",
      "226:\tlearn: 17.0361647\ttotal: 3.36s\tremaining: 11.4s\n",
      "227:\tlearn: 16.9897927\ttotal: 3.38s\tremaining: 11.4s\n",
      "228:\tlearn: 16.9804652\ttotal: 3.39s\tremaining: 11.4s\n",
      "229:\tlearn: 16.9588483\ttotal: 3.4s\tremaining: 11.4s\n",
      "230:\tlearn: 16.9477511\ttotal: 3.42s\tremaining: 11.4s\n",
      "231:\tlearn: 16.9260407\ttotal: 3.43s\tremaining: 11.3s\n",
      "232:\tlearn: 16.8941090\ttotal: 3.44s\tremaining: 11.3s\n",
      "233:\tlearn: 16.8765884\ttotal: 3.46s\tremaining: 11.3s\n",
      "234:\tlearn: 16.8418498\ttotal: 3.47s\tremaining: 11.3s\n",
      "235:\tlearn: 16.8296392\ttotal: 3.49s\tremaining: 11.3s\n",
      "236:\tlearn: 16.7872694\ttotal: 3.51s\tremaining: 11.3s\n",
      "237:\tlearn: 16.7851383\ttotal: 3.52s\tremaining: 11.3s\n",
      "238:\tlearn: 16.7526002\ttotal: 3.54s\tremaining: 11.3s\n",
      "239:\tlearn: 16.7451525\ttotal: 3.55s\tremaining: 11.2s\n",
      "240:\tlearn: 16.7389486\ttotal: 3.56s\tremaining: 11.2s\n",
      "241:\tlearn: 16.7063925\ttotal: 3.58s\tremaining: 11.2s\n",
      "242:\tlearn: 16.6809715\ttotal: 3.59s\tremaining: 11.2s\n",
      "243:\tlearn: 16.6784642\ttotal: 3.6s\tremaining: 11.2s\n",
      "244:\tlearn: 16.6428770\ttotal: 3.62s\tremaining: 11.2s\n",
      "245:\tlearn: 16.6138320\ttotal: 3.64s\tremaining: 11.1s\n",
      "246:\tlearn: 16.5924303\ttotal: 3.65s\tremaining: 11.1s\n",
      "247:\tlearn: 16.5616954\ttotal: 3.67s\tremaining: 11.1s\n",
      "248:\tlearn: 16.5225596\ttotal: 3.69s\tremaining: 11.1s\n",
      "249:\tlearn: 16.5024110\ttotal: 3.71s\tremaining: 11.1s\n",
      "250:\tlearn: 16.4896363\ttotal: 3.72s\tremaining: 11.1s\n",
      "251:\tlearn: 16.4808937\ttotal: 3.74s\tremaining: 11.1s\n",
      "252:\tlearn: 16.4436580\ttotal: 3.75s\tremaining: 11.1s\n",
      "253:\tlearn: 16.4295334\ttotal: 3.77s\tremaining: 11.1s\n",
      "254:\tlearn: 16.4122193\ttotal: 3.79s\tremaining: 11.1s\n",
      "255:\tlearn: 16.3656018\ttotal: 3.81s\tremaining: 11.1s\n",
      "256:\tlearn: 16.3484900\ttotal: 3.82s\tremaining: 11s\n",
      "257:\tlearn: 16.3433358\ttotal: 3.83s\tremaining: 11s\n",
      "258:\tlearn: 16.3201012\ttotal: 3.85s\tremaining: 11s\n",
      "259:\tlearn: 16.2961280\ttotal: 3.87s\tremaining: 11s\n",
      "260:\tlearn: 16.2836000\ttotal: 3.89s\tremaining: 11s\n",
      "261:\tlearn: 16.2713552\ttotal: 3.9s\tremaining: 11s\n",
      "262:\tlearn: 16.2383525\ttotal: 3.92s\tremaining: 11s\n",
      "263:\tlearn: 16.2310096\ttotal: 3.94s\tremaining: 11s\n",
      "264:\tlearn: 16.2166147\ttotal: 3.95s\tremaining: 11s\n",
      "265:\tlearn: 16.1815546\ttotal: 3.96s\tremaining: 10.9s\n",
      "266:\tlearn: 16.1763344\ttotal: 3.98s\tremaining: 10.9s\n",
      "267:\tlearn: 16.1610509\ttotal: 3.99s\tremaining: 10.9s\n",
      "268:\tlearn: 16.1451185\ttotal: 4.01s\tremaining: 10.9s\n",
      "269:\tlearn: 16.1387351\ttotal: 4.02s\tremaining: 10.9s\n",
      "270:\tlearn: 16.1317259\ttotal: 4.04s\tremaining: 10.9s\n",
      "271:\tlearn: 16.1136919\ttotal: 4.05s\tremaining: 10.8s\n",
      "272:\tlearn: 16.1102623\ttotal: 4.07s\tremaining: 10.8s\n",
      "273:\tlearn: 16.1065185\ttotal: 4.08s\tremaining: 10.8s\n",
      "274:\tlearn: 16.0960764\ttotal: 4.09s\tremaining: 10.8s\n",
      "275:\tlearn: 16.0707048\ttotal: 4.11s\tremaining: 10.8s\n",
      "276:\tlearn: 16.0465248\ttotal: 4.13s\tremaining: 10.8s\n",
      "277:\tlearn: 16.0361274\ttotal: 4.14s\tremaining: 10.8s\n",
      "278:\tlearn: 16.0320130\ttotal: 4.16s\tremaining: 10.8s\n",
      "279:\tlearn: 16.0246015\ttotal: 4.17s\tremaining: 10.7s\n",
      "280:\tlearn: 16.0084814\ttotal: 4.19s\tremaining: 10.7s\n",
      "281:\tlearn: 15.9957886\ttotal: 4.2s\tremaining: 10.7s\n",
      "282:\tlearn: 15.9848318\ttotal: 4.21s\tremaining: 10.7s\n",
      "283:\tlearn: 15.9836736\ttotal: 4.22s\tremaining: 10.7s\n",
      "284:\tlearn: 15.9639073\ttotal: 4.24s\tremaining: 10.6s\n",
      "285:\tlearn: 15.9269405\ttotal: 4.26s\tremaining: 10.6s\n",
      "286:\tlearn: 15.9119274\ttotal: 4.27s\tremaining: 10.6s\n",
      "287:\tlearn: 15.8793127\ttotal: 4.29s\tremaining: 10.6s\n",
      "288:\tlearn: 15.8759855\ttotal: 4.3s\tremaining: 10.6s\n",
      "289:\tlearn: 15.8657528\ttotal: 4.32s\tremaining: 10.6s\n",
      "290:\tlearn: 15.8615684\ttotal: 4.34s\tremaining: 10.6s\n",
      "291:\tlearn: 15.8446283\ttotal: 4.35s\tremaining: 10.6s\n",
      "292:\tlearn: 15.8384122\ttotal: 4.37s\tremaining: 10.5s\n",
      "293:\tlearn: 15.8372625\ttotal: 4.38s\tremaining: 10.5s\n",
      "294:\tlearn: 15.8179691\ttotal: 4.4s\tremaining: 10.5s\n",
      "295:\tlearn: 15.7950752\ttotal: 4.41s\tremaining: 10.5s\n",
      "296:\tlearn: 15.7714171\ttotal: 4.43s\tremaining: 10.5s\n",
      "297:\tlearn: 15.7628417\ttotal: 4.44s\tremaining: 10.5s\n",
      "298:\tlearn: 15.7479471\ttotal: 4.46s\tremaining: 10.5s\n",
      "299:\tlearn: 15.7244831\ttotal: 4.47s\tremaining: 10.4s\n",
      "300:\tlearn: 15.7219162\ttotal: 4.49s\tremaining: 10.4s\n",
      "301:\tlearn: 15.7031218\ttotal: 4.5s\tremaining: 10.4s\n",
      "302:\tlearn: 15.6869964\ttotal: 4.52s\tremaining: 10.4s\n",
      "303:\tlearn: 15.6706743\ttotal: 4.54s\tremaining: 10.4s\n",
      "304:\tlearn: 15.6691734\ttotal: 4.55s\tremaining: 10.4s\n",
      "305:\tlearn: 15.6655252\ttotal: 4.56s\tremaining: 10.3s\n",
      "306:\tlearn: 15.6634605\ttotal: 4.58s\tremaining: 10.3s\n",
      "307:\tlearn: 15.6439559\ttotal: 4.6s\tremaining: 10.3s\n",
      "308:\tlearn: 15.6135677\ttotal: 4.61s\tremaining: 10.3s\n",
      "309:\tlearn: 15.6115062\ttotal: 4.63s\tremaining: 10.3s\n",
      "310:\tlearn: 15.5802729\ttotal: 4.64s\tremaining: 10.3s\n",
      "311:\tlearn: 15.5531695\ttotal: 4.66s\tremaining: 10.3s\n",
      "312:\tlearn: 15.5199213\ttotal: 4.68s\tremaining: 10.3s\n",
      "313:\tlearn: 15.5131314\ttotal: 4.69s\tremaining: 10.3s\n",
      "314:\tlearn: 15.4853652\ttotal: 4.71s\tremaining: 10.2s\n",
      "315:\tlearn: 15.4500403\ttotal: 4.73s\tremaining: 10.2s\n",
      "316:\tlearn: 15.4326248\ttotal: 4.74s\tremaining: 10.2s\n",
      "317:\tlearn: 15.4222978\ttotal: 4.76s\tremaining: 10.2s\n",
      "318:\tlearn: 15.3730374\ttotal: 4.77s\tremaining: 10.2s\n",
      "319:\tlearn: 15.3597367\ttotal: 4.79s\tremaining: 10.2s\n",
      "320:\tlearn: 15.3564059\ttotal: 4.8s\tremaining: 10.2s\n",
      "321:\tlearn: 15.3456002\ttotal: 4.82s\tremaining: 10.1s\n",
      "322:\tlearn: 15.3309384\ttotal: 4.84s\tremaining: 10.1s\n",
      "323:\tlearn: 15.3155379\ttotal: 4.85s\tremaining: 10.1s\n",
      "324:\tlearn: 15.3072592\ttotal: 4.87s\tremaining: 10.1s\n",
      "325:\tlearn: 15.2884034\ttotal: 4.88s\tremaining: 10.1s\n",
      "326:\tlearn: 15.2655870\ttotal: 4.9s\tremaining: 10.1s\n",
      "327:\tlearn: 15.2313197\ttotal: 4.92s\tremaining: 10.1s\n",
      "328:\tlearn: 15.2006300\ttotal: 4.93s\tremaining: 10.1s\n",
      "329:\tlearn: 15.1814544\ttotal: 4.95s\tremaining: 10s\n",
      "330:\tlearn: 15.1687530\ttotal: 4.96s\tremaining: 10s\n",
      "331:\tlearn: 15.1647325\ttotal: 4.97s\tremaining: 10s\n",
      "332:\tlearn: 15.1383503\ttotal: 4.99s\tremaining: 10s\n",
      "333:\tlearn: 15.1184067\ttotal: 5.01s\tremaining: 9.98s\n",
      "334:\tlearn: 15.1125008\ttotal: 5.02s\tremaining: 9.97s\n",
      "335:\tlearn: 15.0829094\ttotal: 5.04s\tremaining: 9.95s\n",
      "336:\tlearn: 15.0513861\ttotal: 5.05s\tremaining: 9.94s\n",
      "337:\tlearn: 15.0216368\ttotal: 5.07s\tremaining: 9.93s\n",
      "338:\tlearn: 14.9922108\ttotal: 5.08s\tremaining: 9.91s\n",
      "339:\tlearn: 14.9668921\ttotal: 5.1s\tremaining: 9.9s\n",
      "340:\tlearn: 14.9483302\ttotal: 5.12s\tremaining: 9.89s\n",
      "341:\tlearn: 14.9062122\ttotal: 5.13s\tremaining: 9.88s\n",
      "342:\tlearn: 14.8835003\ttotal: 5.15s\tremaining: 9.86s\n",
      "343:\tlearn: 14.8576630\ttotal: 5.16s\tremaining: 9.85s\n",
      "344:\tlearn: 14.8458045\ttotal: 5.17s\tremaining: 9.82s\n",
      "345:\tlearn: 14.8145495\ttotal: 5.19s\tremaining: 9.81s\n",
      "346:\tlearn: 14.8126221\ttotal: 5.21s\tremaining: 9.8s\n",
      "347:\tlearn: 14.7814262\ttotal: 5.22s\tremaining: 9.78s\n",
      "348:\tlearn: 14.7502944\ttotal: 5.24s\tremaining: 9.77s\n",
      "349:\tlearn: 14.7463312\ttotal: 5.25s\tremaining: 9.75s\n",
      "350:\tlearn: 14.7095174\ttotal: 5.26s\tremaining: 9.74s\n",
      "351:\tlearn: 14.6731850\ttotal: 5.28s\tremaining: 9.72s\n",
      "352:\tlearn: 14.6557965\ttotal: 5.29s\tremaining: 9.7s\n",
      "353:\tlearn: 14.6272787\ttotal: 5.31s\tremaining: 9.68s\n",
      "354:\tlearn: 14.5917690\ttotal: 5.32s\tremaining: 9.67s\n",
      "355:\tlearn: 14.5718999\ttotal: 5.34s\tremaining: 9.65s\n",
      "356:\tlearn: 14.5349139\ttotal: 5.35s\tremaining: 9.64s\n",
      "357:\tlearn: 14.5083250\ttotal: 5.37s\tremaining: 9.63s\n",
      "358:\tlearn: 14.4875111\ttotal: 5.38s\tremaining: 9.62s\n",
      "359:\tlearn: 14.4629646\ttotal: 5.4s\tremaining: 9.6s\n",
      "360:\tlearn: 14.4210811\ttotal: 5.42s\tremaining: 9.59s\n",
      "361:\tlearn: 14.3999416\ttotal: 5.43s\tremaining: 9.58s\n",
      "362:\tlearn: 14.3843848\ttotal: 5.45s\tremaining: 9.56s\n",
      "363:\tlearn: 14.3645146\ttotal: 5.46s\tremaining: 9.54s\n",
      "364:\tlearn: 14.3366482\ttotal: 5.48s\tremaining: 9.53s\n",
      "365:\tlearn: 14.3190425\ttotal: 5.49s\tremaining: 9.51s\n",
      "366:\tlearn: 14.3180219\ttotal: 5.5s\tremaining: 9.49s\n",
      "367:\tlearn: 14.2837093\ttotal: 5.52s\tremaining: 9.48s\n",
      "368:\tlearn: 14.2787468\ttotal: 5.53s\tremaining: 9.46s\n",
      "369:\tlearn: 14.2552775\ttotal: 5.55s\tremaining: 9.45s\n",
      "370:\tlearn: 14.2440757\ttotal: 5.57s\tremaining: 9.44s\n",
      "371:\tlearn: 14.2371673\ttotal: 5.57s\tremaining: 9.41s\n",
      "372:\tlearn: 14.2292261\ttotal: 5.59s\tremaining: 9.39s\n",
      "373:\tlearn: 14.2134604\ttotal: 5.6s\tremaining: 9.38s\n",
      "374:\tlearn: 14.1792276\ttotal: 5.62s\tremaining: 9.36s\n",
      "375:\tlearn: 14.1638207\ttotal: 5.63s\tremaining: 9.35s\n",
      "376:\tlearn: 14.1569399\ttotal: 5.65s\tremaining: 9.34s\n",
      "377:\tlearn: 14.1282029\ttotal: 5.67s\tremaining: 9.33s\n",
      "378:\tlearn: 14.1044436\ttotal: 5.68s\tremaining: 9.31s\n",
      "379:\tlearn: 14.0966211\ttotal: 5.7s\tremaining: 9.3s\n",
      "380:\tlearn: 14.0869089\ttotal: 5.72s\tremaining: 9.29s\n",
      "381:\tlearn: 14.0750042\ttotal: 5.73s\tremaining: 9.28s\n",
      "382:\tlearn: 14.0635685\ttotal: 5.75s\tremaining: 9.27s\n",
      "383:\tlearn: 14.0386581\ttotal: 5.77s\tremaining: 9.25s\n",
      "384:\tlearn: 14.0203860\ttotal: 5.78s\tremaining: 9.24s\n",
      "385:\tlearn: 14.0173288\ttotal: 5.8s\tremaining: 9.23s\n",
      "386:\tlearn: 14.0014270\ttotal: 5.82s\tremaining: 9.22s\n",
      "387:\tlearn: 13.9713961\ttotal: 5.83s\tremaining: 9.2s\n",
      "388:\tlearn: 13.9696521\ttotal: 5.85s\tremaining: 9.19s\n",
      "389:\tlearn: 13.9588791\ttotal: 5.87s\tremaining: 9.17s\n",
      "390:\tlearn: 13.9440062\ttotal: 5.88s\tremaining: 9.16s\n",
      "391:\tlearn: 13.9395643\ttotal: 5.9s\tremaining: 9.15s\n",
      "392:\tlearn: 13.9327629\ttotal: 5.91s\tremaining: 9.13s\n",
      "393:\tlearn: 13.9041518\ttotal: 5.93s\tremaining: 9.12s\n",
      "394:\tlearn: 13.8724583\ttotal: 5.94s\tremaining: 9.1s\n",
      "395:\tlearn: 13.8431108\ttotal: 5.96s\tremaining: 9.09s\n",
      "396:\tlearn: 13.8378612\ttotal: 5.97s\tremaining: 9.06s\n",
      "397:\tlearn: 13.8280555\ttotal: 5.98s\tremaining: 9.05s\n",
      "398:\tlearn: 13.8100949\ttotal: 6s\tremaining: 9.03s\n",
      "399:\tlearn: 13.8081788\ttotal: 6.01s\tremaining: 9.01s\n",
      "400:\tlearn: 13.7960549\ttotal: 6.02s\tremaining: 8.99s\n",
      "401:\tlearn: 13.7706187\ttotal: 6.04s\tremaining: 8.98s\n",
      "402:\tlearn: 13.7587910\ttotal: 6.05s\tremaining: 8.96s\n",
      "403:\tlearn: 13.7496129\ttotal: 6.07s\tremaining: 8.95s\n",
      "404:\tlearn: 13.7461342\ttotal: 6.09s\tremaining: 8.94s\n",
      "405:\tlearn: 13.7337834\ttotal: 6.1s\tremaining: 8.93s\n",
      "406:\tlearn: 13.7199614\ttotal: 6.12s\tremaining: 8.91s\n",
      "407:\tlearn: 13.7029751\ttotal: 6.13s\tremaining: 8.9s\n",
      "408:\tlearn: 13.6902660\ttotal: 6.16s\tremaining: 8.89s\n",
      "409:\tlearn: 13.6865218\ttotal: 6.17s\tremaining: 8.88s\n",
      "410:\tlearn: 13.6755724\ttotal: 6.18s\tremaining: 8.86s\n",
      "411:\tlearn: 13.6478200\ttotal: 6.2s\tremaining: 8.85s\n",
      "412:\tlearn: 13.6283820\ttotal: 6.22s\tremaining: 8.84s\n",
      "413:\tlearn: 13.6090717\ttotal: 6.23s\tremaining: 8.82s\n",
      "414:\tlearn: 13.5935229\ttotal: 6.25s\tremaining: 8.81s\n",
      "415:\tlearn: 13.5920696\ttotal: 6.26s\tremaining: 8.79s\n",
      "416:\tlearn: 13.5801495\ttotal: 6.28s\tremaining: 8.78s\n",
      "417:\tlearn: 13.5556023\ttotal: 6.29s\tremaining: 8.76s\n",
      "418:\tlearn: 13.5408989\ttotal: 6.31s\tremaining: 8.75s\n",
      "419:\tlearn: 13.5378231\ttotal: 6.32s\tremaining: 8.73s\n",
      "420:\tlearn: 13.5130474\ttotal: 6.34s\tremaining: 8.72s\n",
      "421:\tlearn: 13.4971382\ttotal: 6.35s\tremaining: 8.7s\n",
      "422:\tlearn: 13.4655433\ttotal: 6.37s\tremaining: 8.69s\n",
      "423:\tlearn: 13.4471042\ttotal: 6.38s\tremaining: 8.67s\n",
      "424:\tlearn: 13.4448082\ttotal: 6.4s\tremaining: 8.66s\n",
      "425:\tlearn: 13.4386404\ttotal: 6.41s\tremaining: 8.64s\n",
      "426:\tlearn: 13.4290683\ttotal: 6.43s\tremaining: 8.63s\n",
      "427:\tlearn: 13.4064426\ttotal: 6.45s\tremaining: 8.62s\n",
      "428:\tlearn: 13.4046763\ttotal: 6.46s\tremaining: 8.6s\n",
      "429:\tlearn: 13.3978406\ttotal: 6.48s\tremaining: 8.59s\n",
      "430:\tlearn: 13.3750193\ttotal: 6.49s\tremaining: 8.57s\n",
      "431:\tlearn: 13.3496978\ttotal: 6.51s\tremaining: 8.56s\n",
      "432:\tlearn: 13.3270978\ttotal: 6.53s\tremaining: 8.54s\n",
      "433:\tlearn: 13.2947276\ttotal: 6.54s\tremaining: 8.53s\n",
      "434:\tlearn: 13.2754939\ttotal: 6.55s\tremaining: 8.52s\n",
      "435:\tlearn: 13.2739684\ttotal: 6.57s\tremaining: 8.5s\n",
      "436:\tlearn: 13.2442736\ttotal: 6.58s\tremaining: 8.48s\n",
      "437:\tlearn: 13.2329763\ttotal: 6.6s\tremaining: 8.46s\n",
      "438:\tlearn: 13.2030819\ttotal: 6.61s\tremaining: 8.45s\n",
      "439:\tlearn: 13.1884541\ttotal: 6.63s\tremaining: 8.44s\n",
      "440:\tlearn: 13.1775037\ttotal: 6.64s\tremaining: 8.42s\n",
      "441:\tlearn: 13.1757130\ttotal: 6.66s\tremaining: 8.41s\n",
      "442:\tlearn: 13.1590620\ttotal: 6.68s\tremaining: 8.4s\n",
      "443:\tlearn: 13.1378525\ttotal: 6.69s\tremaining: 8.38s\n",
      "444:\tlearn: 13.1282133\ttotal: 6.71s\tremaining: 8.37s\n",
      "445:\tlearn: 13.1112446\ttotal: 6.72s\tremaining: 8.35s\n",
      "446:\tlearn: 13.1096861\ttotal: 6.74s\tremaining: 8.34s\n",
      "447:\tlearn: 13.0893612\ttotal: 6.75s\tremaining: 8.32s\n",
      "448:\tlearn: 13.0864183\ttotal: 6.77s\tremaining: 8.3s\n",
      "449:\tlearn: 13.0706987\ttotal: 6.78s\tremaining: 8.29s\n",
      "450:\tlearn: 13.0650823\ttotal: 6.79s\tremaining: 8.27s\n",
      "451:\tlearn: 13.0621351\ttotal: 6.81s\tremaining: 8.25s\n",
      "452:\tlearn: 13.0593696\ttotal: 6.82s\tremaining: 8.24s\n",
      "453:\tlearn: 13.0381097\ttotal: 6.83s\tremaining: 8.22s\n",
      "454:\tlearn: 13.0299962\ttotal: 6.85s\tremaining: 8.2s\n",
      "455:\tlearn: 13.0234939\ttotal: 6.86s\tremaining: 8.19s\n",
      "456:\tlearn: 12.9985687\ttotal: 6.88s\tremaining: 8.17s\n",
      "457:\tlearn: 12.9918726\ttotal: 6.89s\tremaining: 8.16s\n",
      "458:\tlearn: 12.9682045\ttotal: 6.91s\tremaining: 8.15s\n",
      "459:\tlearn: 12.9567480\ttotal: 6.93s\tremaining: 8.13s\n",
      "460:\tlearn: 12.9462984\ttotal: 6.95s\tremaining: 8.12s\n",
      "461:\tlearn: 12.9133339\ttotal: 6.96s\tremaining: 8.11s\n",
      "462:\tlearn: 12.8933570\ttotal: 6.98s\tremaining: 8.09s\n",
      "463:\tlearn: 12.8717965\ttotal: 6.99s\tremaining: 8.08s\n",
      "464:\tlearn: 12.8614866\ttotal: 7.01s\tremaining: 8.06s\n",
      "465:\tlearn: 12.8594875\ttotal: 7.03s\tremaining: 8.05s\n",
      "466:\tlearn: 12.8515152\ttotal: 7.04s\tremaining: 8.04s\n",
      "467:\tlearn: 12.8436322\ttotal: 7.05s\tremaining: 8.02s\n",
      "468:\tlearn: 12.8166905\ttotal: 7.07s\tremaining: 8.01s\n",
      "469:\tlearn: 12.8080147\ttotal: 7.09s\tremaining: 8s\n",
      "470:\tlearn: 12.7846522\ttotal: 7.11s\tremaining: 7.98s\n",
      "471:\tlearn: 12.7763045\ttotal: 7.12s\tremaining: 7.97s\n",
      "472:\tlearn: 12.7747300\ttotal: 7.14s\tremaining: 7.95s\n",
      "473:\tlearn: 12.7499064\ttotal: 7.15s\tremaining: 7.94s\n",
      "474:\tlearn: 12.7443627\ttotal: 7.17s\tremaining: 7.92s\n",
      "475:\tlearn: 12.7425269\ttotal: 7.18s\tremaining: 7.91s\n",
      "476:\tlearn: 12.7273666\ttotal: 7.21s\tremaining: 7.9s\n",
      "477:\tlearn: 12.7131848\ttotal: 7.23s\tremaining: 7.89s\n",
      "478:\tlearn: 12.6975898\ttotal: 7.25s\tremaining: 7.88s\n",
      "479:\tlearn: 12.6830051\ttotal: 7.26s\tremaining: 7.87s\n",
      "480:\tlearn: 12.6812298\ttotal: 7.28s\tremaining: 7.85s\n",
      "481:\tlearn: 12.6694050\ttotal: 7.29s\tremaining: 7.84s\n",
      "482:\tlearn: 12.6601760\ttotal: 7.31s\tremaining: 7.83s\n",
      "483:\tlearn: 12.6541055\ttotal: 7.33s\tremaining: 7.81s\n",
      "484:\tlearn: 12.6476318\ttotal: 7.34s\tremaining: 7.79s\n",
      "485:\tlearn: 12.6426450\ttotal: 7.36s\tremaining: 7.78s\n",
      "486:\tlearn: 12.6251168\ttotal: 7.37s\tremaining: 7.76s\n",
      "487:\tlearn: 12.6150187\ttotal: 7.38s\tremaining: 7.75s\n",
      "488:\tlearn: 12.6030720\ttotal: 7.4s\tremaining: 7.73s\n",
      "489:\tlearn: 12.5879201\ttotal: 7.41s\tremaining: 7.71s\n",
      "490:\tlearn: 12.5807906\ttotal: 7.43s\tremaining: 7.7s\n",
      "491:\tlearn: 12.5597518\ttotal: 7.44s\tremaining: 7.68s\n",
      "492:\tlearn: 12.5535795\ttotal: 7.45s\tremaining: 7.67s\n",
      "493:\tlearn: 12.5382552\ttotal: 7.47s\tremaining: 7.65s\n",
      "494:\tlearn: 12.5180792\ttotal: 7.48s\tremaining: 7.63s\n",
      "495:\tlearn: 12.5075914\ttotal: 7.5s\tremaining: 7.62s\n",
      "496:\tlearn: 12.4971630\ttotal: 7.51s\tremaining: 7.6s\n",
      "497:\tlearn: 12.4710627\ttotal: 7.53s\tremaining: 7.59s\n",
      "498:\tlearn: 12.4432938\ttotal: 7.55s\tremaining: 7.58s\n",
      "499:\tlearn: 12.4233743\ttotal: 7.56s\tremaining: 7.56s\n",
      "500:\tlearn: 12.4151828\ttotal: 7.58s\tremaining: 7.54s\n",
      "501:\tlearn: 12.4085143\ttotal: 7.59s\tremaining: 7.53s\n",
      "502:\tlearn: 12.3787730\ttotal: 7.61s\tremaining: 7.51s\n",
      "503:\tlearn: 12.3703703\ttotal: 7.62s\tremaining: 7.5s\n",
      "504:\tlearn: 12.3391683\ttotal: 7.64s\tremaining: 7.49s\n",
      "505:\tlearn: 12.3206852\ttotal: 7.65s\tremaining: 7.47s\n",
      "506:\tlearn: 12.3195726\ttotal: 7.67s\tremaining: 7.46s\n",
      "507:\tlearn: 12.3174386\ttotal: 7.68s\tremaining: 7.44s\n",
      "508:\tlearn: 12.3158127\ttotal: 7.7s\tremaining: 7.42s\n",
      "509:\tlearn: 12.3148867\ttotal: 7.71s\tremaining: 7.41s\n",
      "510:\tlearn: 12.3044687\ttotal: 7.72s\tremaining: 7.39s\n",
      "511:\tlearn: 12.2902567\ttotal: 7.74s\tremaining: 7.38s\n",
      "512:\tlearn: 12.2895101\ttotal: 7.76s\tremaining: 7.37s\n",
      "513:\tlearn: 12.2591198\ttotal: 7.78s\tremaining: 7.35s\n",
      "514:\tlearn: 12.2527262\ttotal: 7.79s\tremaining: 7.34s\n",
      "515:\tlearn: 12.2364433\ttotal: 7.81s\tremaining: 7.32s\n",
      "516:\tlearn: 12.2345867\ttotal: 7.83s\tremaining: 7.31s\n",
      "517:\tlearn: 12.2113020\ttotal: 7.84s\tremaining: 7.29s\n",
      "518:\tlearn: 12.2054524\ttotal: 7.85s\tremaining: 7.28s\n",
      "519:\tlearn: 12.1867234\ttotal: 7.87s\tremaining: 7.26s\n",
      "520:\tlearn: 12.1705607\ttotal: 7.89s\tremaining: 7.25s\n",
      "521:\tlearn: 12.1687222\ttotal: 7.9s\tremaining: 7.23s\n",
      "522:\tlearn: 12.1454627\ttotal: 7.92s\tremaining: 7.22s\n",
      "523:\tlearn: 12.1288268\ttotal: 7.93s\tremaining: 7.2s\n",
      "524:\tlearn: 12.1042694\ttotal: 7.95s\tremaining: 7.19s\n",
      "525:\tlearn: 12.0783576\ttotal: 7.96s\tremaining: 7.18s\n",
      "526:\tlearn: 12.0576358\ttotal: 7.98s\tremaining: 7.16s\n",
      "527:\tlearn: 12.0503111\ttotal: 7.99s\tremaining: 7.15s\n",
      "528:\tlearn: 12.0442953\ttotal: 8.01s\tremaining: 7.13s\n",
      "529:\tlearn: 12.0407580\ttotal: 8.03s\tremaining: 7.12s\n",
      "530:\tlearn: 12.0367310\ttotal: 8.04s\tremaining: 7.1s\n",
      "531:\tlearn: 12.0232604\ttotal: 8.05s\tremaining: 7.08s\n",
      "532:\tlearn: 12.0041986\ttotal: 8.07s\tremaining: 7.07s\n",
      "533:\tlearn: 11.9879646\ttotal: 8.09s\tremaining: 7.06s\n",
      "534:\tlearn: 11.9776191\ttotal: 8.1s\tremaining: 7.04s\n",
      "535:\tlearn: 11.9715774\ttotal: 8.12s\tremaining: 7.03s\n",
      "536:\tlearn: 11.9586434\ttotal: 8.13s\tremaining: 7.01s\n",
      "537:\tlearn: 11.9530204\ttotal: 8.14s\tremaining: 7s\n",
      "538:\tlearn: 11.9387131\ttotal: 8.16s\tremaining: 6.98s\n",
      "539:\tlearn: 11.9277707\ttotal: 8.17s\tremaining: 6.96s\n",
      "540:\tlearn: 11.9152553\ttotal: 8.19s\tremaining: 6.95s\n",
      "541:\tlearn: 11.9104457\ttotal: 8.2s\tremaining: 6.93s\n",
      "542:\tlearn: 11.8923381\ttotal: 8.21s\tremaining: 6.91s\n",
      "543:\tlearn: 11.8895885\ttotal: 8.23s\tremaining: 6.9s\n",
      "544:\tlearn: 11.8781671\ttotal: 8.24s\tremaining: 6.88s\n",
      "545:\tlearn: 11.8739940\ttotal: 8.26s\tremaining: 6.87s\n",
      "546:\tlearn: 11.8447320\ttotal: 8.28s\tremaining: 6.85s\n",
      "547:\tlearn: 11.8394881\ttotal: 8.29s\tremaining: 6.84s\n",
      "548:\tlearn: 11.8323072\ttotal: 8.3s\tremaining: 6.82s\n",
      "549:\tlearn: 11.8229865\ttotal: 8.31s\tremaining: 6.8s\n",
      "550:\tlearn: 11.8219799\ttotal: 8.33s\tremaining: 6.79s\n",
      "551:\tlearn: 11.8168054\ttotal: 8.35s\tremaining: 6.78s\n",
      "552:\tlearn: 11.7904587\ttotal: 8.37s\tremaining: 6.76s\n",
      "553:\tlearn: 11.7714017\ttotal: 8.39s\tremaining: 6.75s\n",
      "554:\tlearn: 11.7565853\ttotal: 8.41s\tremaining: 6.74s\n",
      "555:\tlearn: 11.7536503\ttotal: 8.43s\tremaining: 6.73s\n",
      "556:\tlearn: 11.7521386\ttotal: 8.45s\tremaining: 6.72s\n",
      "557:\tlearn: 11.7469670\ttotal: 8.47s\tremaining: 6.71s\n",
      "558:\tlearn: 11.7452667\ttotal: 8.49s\tremaining: 6.7s\n",
      "559:\tlearn: 11.7328280\ttotal: 8.51s\tremaining: 6.68s\n",
      "560:\tlearn: 11.7274270\ttotal: 8.53s\tremaining: 6.67s\n",
      "561:\tlearn: 11.7195265\ttotal: 8.55s\tremaining: 6.66s\n",
      "562:\tlearn: 11.7002772\ttotal: 8.56s\tremaining: 6.65s\n",
      "563:\tlearn: 11.6904549\ttotal: 8.58s\tremaining: 6.63s\n",
      "564:\tlearn: 11.6820116\ttotal: 8.6s\tremaining: 6.62s\n",
      "565:\tlearn: 11.6802312\ttotal: 8.61s\tremaining: 6.6s\n",
      "566:\tlearn: 11.6578722\ttotal: 8.63s\tremaining: 6.59s\n",
      "567:\tlearn: 11.6340572\ttotal: 8.64s\tremaining: 6.57s\n",
      "568:\tlearn: 11.6246564\ttotal: 8.66s\tremaining: 6.56s\n",
      "569:\tlearn: 11.6168529\ttotal: 8.67s\tremaining: 6.54s\n",
      "570:\tlearn: 11.5964429\ttotal: 8.69s\tremaining: 6.53s\n",
      "571:\tlearn: 11.5884577\ttotal: 8.7s\tremaining: 6.51s\n",
      "572:\tlearn: 11.5805173\ttotal: 8.72s\tremaining: 6.5s\n",
      "573:\tlearn: 11.5630228\ttotal: 8.73s\tremaining: 6.48s\n",
      "574:\tlearn: 11.5571405\ttotal: 8.75s\tremaining: 6.46s\n",
      "575:\tlearn: 11.5358135\ttotal: 8.76s\tremaining: 6.45s\n",
      "576:\tlearn: 11.5153064\ttotal: 8.78s\tremaining: 6.43s\n",
      "577:\tlearn: 11.5111668\ttotal: 8.79s\tremaining: 6.42s\n",
      "578:\tlearn: 11.5058997\ttotal: 8.8s\tremaining: 6.4s\n",
      "579:\tlearn: 11.5036502\ttotal: 8.82s\tremaining: 6.38s\n",
      "580:\tlearn: 11.4918968\ttotal: 8.83s\tremaining: 6.37s\n",
      "581:\tlearn: 11.4771224\ttotal: 8.85s\tremaining: 6.35s\n",
      "582:\tlearn: 11.4685228\ttotal: 8.86s\tremaining: 6.34s\n",
      "583:\tlearn: 11.4504792\ttotal: 8.88s\tremaining: 6.32s\n",
      "584:\tlearn: 11.4396254\ttotal: 8.89s\tremaining: 6.31s\n",
      "585:\tlearn: 11.4366413\ttotal: 8.9s\tremaining: 6.29s\n",
      "586:\tlearn: 11.4301241\ttotal: 8.92s\tremaining: 6.27s\n",
      "587:\tlearn: 11.4294084\ttotal: 8.93s\tremaining: 6.26s\n",
      "588:\tlearn: 11.4181951\ttotal: 8.95s\tremaining: 6.24s\n",
      "589:\tlearn: 11.4026150\ttotal: 8.96s\tremaining: 6.23s\n",
      "590:\tlearn: 11.3925814\ttotal: 8.97s\tremaining: 6.21s\n",
      "591:\tlearn: 11.3859947\ttotal: 8.99s\tremaining: 6.2s\n",
      "592:\tlearn: 11.3842181\ttotal: 9s\tremaining: 6.18s\n",
      "593:\tlearn: 11.3784355\ttotal: 9.02s\tremaining: 6.16s\n",
      "594:\tlearn: 11.3747600\ttotal: 9.03s\tremaining: 6.15s\n",
      "595:\tlearn: 11.3665153\ttotal: 9.05s\tremaining: 6.13s\n",
      "596:\tlearn: 11.3568968\ttotal: 9.07s\tremaining: 6.12s\n",
      "597:\tlearn: 11.3414982\ttotal: 9.09s\tremaining: 6.11s\n",
      "598:\tlearn: 11.3407880\ttotal: 9.1s\tremaining: 6.09s\n",
      "599:\tlearn: 11.3361407\ttotal: 9.13s\tremaining: 6.08s\n",
      "600:\tlearn: 11.3067677\ttotal: 9.14s\tremaining: 6.07s\n",
      "601:\tlearn: 11.2866279\ttotal: 9.15s\tremaining: 6.05s\n",
      "602:\tlearn: 11.2772118\ttotal: 9.17s\tremaining: 6.04s\n",
      "603:\tlearn: 11.2721540\ttotal: 9.19s\tremaining: 6.02s\n",
      "604:\tlearn: 11.2713584\ttotal: 9.2s\tremaining: 6s\n",
      "605:\tlearn: 11.2698077\ttotal: 9.21s\tremaining: 5.99s\n",
      "606:\tlearn: 11.2693620\ttotal: 9.22s\tremaining: 5.97s\n",
      "607:\tlearn: 11.2554802\ttotal: 9.24s\tremaining: 5.96s\n",
      "608:\tlearn: 11.2490253\ttotal: 9.26s\tremaining: 5.94s\n",
      "609:\tlearn: 11.2261693\ttotal: 9.27s\tremaining: 5.92s\n",
      "610:\tlearn: 11.2070682\ttotal: 9.28s\tremaining: 5.91s\n",
      "611:\tlearn: 11.2010259\ttotal: 9.29s\tremaining: 5.89s\n",
      "612:\tlearn: 11.1829836\ttotal: 9.31s\tremaining: 5.88s\n",
      "613:\tlearn: 11.1731422\ttotal: 9.32s\tremaining: 5.86s\n",
      "614:\tlearn: 11.1513020\ttotal: 9.34s\tremaining: 5.85s\n",
      "615:\tlearn: 11.1478999\ttotal: 9.35s\tremaining: 5.83s\n",
      "616:\tlearn: 11.1389984\ttotal: 9.37s\tremaining: 5.82s\n",
      "617:\tlearn: 11.1363005\ttotal: 9.38s\tremaining: 5.8s\n",
      "618:\tlearn: 11.1159335\ttotal: 9.4s\tremaining: 5.79s\n",
      "619:\tlearn: 11.1136539\ttotal: 9.41s\tremaining: 5.77s\n",
      "620:\tlearn: 11.0944243\ttotal: 9.43s\tremaining: 5.75s\n",
      "621:\tlearn: 11.0843707\ttotal: 9.44s\tremaining: 5.74s\n",
      "622:\tlearn: 11.0762186\ttotal: 9.46s\tremaining: 5.72s\n",
      "623:\tlearn: 11.0753570\ttotal: 9.47s\tremaining: 5.71s\n",
      "624:\tlearn: 11.0588600\ttotal: 9.49s\tremaining: 5.69s\n",
      "625:\tlearn: 11.0351444\ttotal: 9.5s\tremaining: 5.68s\n",
      "626:\tlearn: 11.0290405\ttotal: 9.52s\tremaining: 5.66s\n",
      "627:\tlearn: 11.0238935\ttotal: 9.54s\tremaining: 5.65s\n",
      "628:\tlearn: 11.0159243\ttotal: 9.55s\tremaining: 5.63s\n",
      "629:\tlearn: 10.9912774\ttotal: 9.57s\tremaining: 5.62s\n",
      "630:\tlearn: 10.9748662\ttotal: 9.58s\tremaining: 5.6s\n",
      "631:\tlearn: 10.9704035\ttotal: 9.6s\tremaining: 5.59s\n",
      "632:\tlearn: 10.9491451\ttotal: 9.61s\tremaining: 5.57s\n",
      "633:\tlearn: 10.9368519\ttotal: 9.63s\tremaining: 5.56s\n",
      "634:\tlearn: 10.9210442\ttotal: 9.64s\tremaining: 5.54s\n",
      "635:\tlearn: 10.9195726\ttotal: 9.66s\tremaining: 5.53s\n",
      "636:\tlearn: 10.9056463\ttotal: 9.68s\tremaining: 5.51s\n",
      "637:\tlearn: 10.9010572\ttotal: 9.69s\tremaining: 5.5s\n",
      "638:\tlearn: 10.8989037\ttotal: 9.7s\tremaining: 5.48s\n",
      "639:\tlearn: 10.8922865\ttotal: 9.72s\tremaining: 5.47s\n",
      "640:\tlearn: 10.8863634\ttotal: 9.73s\tremaining: 5.45s\n",
      "641:\tlearn: 10.8634506\ttotal: 9.75s\tremaining: 5.44s\n",
      "642:\tlearn: 10.8558030\ttotal: 9.77s\tremaining: 5.42s\n",
      "643:\tlearn: 10.8492593\ttotal: 9.78s\tremaining: 5.41s\n",
      "644:\tlearn: 10.8295070\ttotal: 9.8s\tremaining: 5.39s\n",
      "645:\tlearn: 10.8127082\ttotal: 9.81s\tremaining: 5.38s\n",
      "646:\tlearn: 10.8028650\ttotal: 9.83s\tremaining: 5.36s\n",
      "647:\tlearn: 10.7986345\ttotal: 9.84s\tremaining: 5.34s\n",
      "648:\tlearn: 10.7775266\ttotal: 9.86s\tremaining: 5.33s\n",
      "649:\tlearn: 10.7770581\ttotal: 9.87s\tremaining: 5.31s\n",
      "650:\tlearn: 10.7576763\ttotal: 9.88s\tremaining: 5.3s\n",
      "651:\tlearn: 10.7490447\ttotal: 9.9s\tremaining: 5.28s\n",
      "652:\tlearn: 10.7310713\ttotal: 9.91s\tremaining: 5.27s\n",
      "653:\tlearn: 10.7270161\ttotal: 9.93s\tremaining: 5.25s\n",
      "654:\tlearn: 10.7233897\ttotal: 9.94s\tremaining: 5.23s\n",
      "655:\tlearn: 10.7081929\ttotal: 9.95s\tremaining: 5.22s\n",
      "656:\tlearn: 10.6921213\ttotal: 9.97s\tremaining: 5.2s\n",
      "657:\tlearn: 10.6909673\ttotal: 9.98s\tremaining: 5.18s\n",
      "658:\tlearn: 10.6707883\ttotal: 9.99s\tremaining: 5.17s\n",
      "659:\tlearn: 10.6459021\ttotal: 10s\tremaining: 5.16s\n",
      "660:\tlearn: 10.6238171\ttotal: 10s\tremaining: 5.14s\n",
      "661:\tlearn: 10.6062909\ttotal: 10s\tremaining: 5.12s\n",
      "662:\tlearn: 10.6052461\ttotal: 10s\tremaining: 5.11s\n",
      "663:\tlearn: 10.6037324\ttotal: 10.1s\tremaining: 5.09s\n",
      "664:\tlearn: 10.6021311\ttotal: 10.1s\tremaining: 5.07s\n",
      "665:\tlearn: 10.5848699\ttotal: 10.1s\tremaining: 5.06s\n",
      "666:\tlearn: 10.5745224\ttotal: 10.1s\tremaining: 5.04s\n",
      "667:\tlearn: 10.5672206\ttotal: 10.1s\tremaining: 5.03s\n",
      "668:\tlearn: 10.5643565\ttotal: 10.1s\tremaining: 5.01s\n",
      "669:\tlearn: 10.5631475\ttotal: 10.1s\tremaining: 5s\n",
      "670:\tlearn: 10.5619967\ttotal: 10.2s\tremaining: 4.98s\n",
      "671:\tlearn: 10.5525267\ttotal: 10.2s\tremaining: 4.96s\n",
      "672:\tlearn: 10.5380289\ttotal: 10.2s\tremaining: 4.95s\n",
      "673:\tlearn: 10.5332307\ttotal: 10.2s\tremaining: 4.93s\n",
      "674:\tlearn: 10.5326736\ttotal: 10.2s\tremaining: 4.91s\n",
      "675:\tlearn: 10.5267809\ttotal: 10.2s\tremaining: 4.9s\n",
      "676:\tlearn: 10.5081601\ttotal: 10.2s\tremaining: 4.88s\n",
      "677:\tlearn: 10.5020215\ttotal: 10.3s\tremaining: 4.87s\n",
      "678:\tlearn: 10.4974429\ttotal: 10.3s\tremaining: 4.85s\n",
      "679:\tlearn: 10.4970630\ttotal: 10.3s\tremaining: 4.83s\n",
      "680:\tlearn: 10.4942795\ttotal: 10.3s\tremaining: 4.82s\n",
      "681:\tlearn: 10.4929028\ttotal: 10.3s\tremaining: 4.8s\n",
      "682:\tlearn: 10.4906992\ttotal: 10.3s\tremaining: 4.79s\n",
      "683:\tlearn: 10.4739692\ttotal: 10.3s\tremaining: 4.77s\n",
      "684:\tlearn: 10.4689178\ttotal: 10.3s\tremaining: 4.75s\n",
      "685:\tlearn: 10.4502777\ttotal: 10.4s\tremaining: 4.74s\n",
      "686:\tlearn: 10.4338673\ttotal: 10.4s\tremaining: 4.72s\n",
      "687:\tlearn: 10.4188673\ttotal: 10.4s\tremaining: 4.71s\n",
      "688:\tlearn: 10.4086284\ttotal: 10.4s\tremaining: 4.69s\n",
      "689:\tlearn: 10.4051195\ttotal: 10.4s\tremaining: 4.68s\n",
      "690:\tlearn: 10.3911220\ttotal: 10.4s\tremaining: 4.66s\n",
      "691:\tlearn: 10.3796001\ttotal: 10.4s\tremaining: 4.65s\n",
      "692:\tlearn: 10.3758552\ttotal: 10.5s\tremaining: 4.63s\n",
      "693:\tlearn: 10.3727097\ttotal: 10.5s\tremaining: 4.62s\n",
      "694:\tlearn: 10.3702680\ttotal: 10.5s\tremaining: 4.6s\n",
      "695:\tlearn: 10.3633664\ttotal: 10.5s\tremaining: 4.59s\n",
      "696:\tlearn: 10.3562849\ttotal: 10.5s\tremaining: 4.57s\n",
      "697:\tlearn: 10.3552418\ttotal: 10.5s\tremaining: 4.56s\n",
      "698:\tlearn: 10.3387523\ttotal: 10.6s\tremaining: 4.55s\n",
      "699:\tlearn: 10.3313744\ttotal: 10.6s\tremaining: 4.53s\n",
      "700:\tlearn: 10.3160241\ttotal: 10.6s\tremaining: 4.52s\n",
      "701:\tlearn: 10.3154545\ttotal: 10.6s\tremaining: 4.5s\n",
      "702:\tlearn: 10.3147796\ttotal: 10.6s\tremaining: 4.48s\n",
      "703:\tlearn: 10.2990584\ttotal: 10.6s\tremaining: 4.47s\n",
      "704:\tlearn: 10.2756030\ttotal: 10.6s\tremaining: 4.45s\n",
      "705:\tlearn: 10.2681249\ttotal: 10.7s\tremaining: 4.44s\n",
      "706:\tlearn: 10.2669071\ttotal: 10.7s\tremaining: 4.42s\n",
      "707:\tlearn: 10.2628578\ttotal: 10.7s\tremaining: 4.41s\n",
      "708:\tlearn: 10.2507092\ttotal: 10.7s\tremaining: 4.39s\n",
      "709:\tlearn: 10.2491589\ttotal: 10.7s\tremaining: 4.38s\n",
      "710:\tlearn: 10.2417294\ttotal: 10.7s\tremaining: 4.36s\n",
      "711:\tlearn: 10.2234356\ttotal: 10.8s\tremaining: 4.35s\n",
      "712:\tlearn: 10.2133379\ttotal: 10.8s\tremaining: 4.33s\n",
      "713:\tlearn: 10.1928693\ttotal: 10.8s\tremaining: 4.32s\n",
      "714:\tlearn: 10.1910972\ttotal: 10.8s\tremaining: 4.3s\n",
      "715:\tlearn: 10.1858671\ttotal: 10.8s\tremaining: 4.29s\n",
      "716:\tlearn: 10.1844854\ttotal: 10.8s\tremaining: 4.27s\n",
      "717:\tlearn: 10.1646363\ttotal: 10.8s\tremaining: 4.25s\n",
      "718:\tlearn: 10.1613012\ttotal: 10.8s\tremaining: 4.24s\n",
      "719:\tlearn: 10.1468671\ttotal: 10.9s\tremaining: 4.22s\n",
      "720:\tlearn: 10.1463035\ttotal: 10.9s\tremaining: 4.21s\n",
      "721:\tlearn: 10.1426009\ttotal: 10.9s\tremaining: 4.19s\n",
      "722:\tlearn: 10.1338438\ttotal: 10.9s\tremaining: 4.18s\n",
      "723:\tlearn: 10.1283806\ttotal: 10.9s\tremaining: 4.16s\n",
      "724:\tlearn: 10.1241675\ttotal: 10.9s\tremaining: 4.15s\n",
      "725:\tlearn: 10.1145855\ttotal: 11s\tremaining: 4.13s\n",
      "726:\tlearn: 10.1102214\ttotal: 11s\tremaining: 4.12s\n",
      "727:\tlearn: 10.1024121\ttotal: 11s\tremaining: 4.11s\n",
      "728:\tlearn: 10.0933133\ttotal: 11s\tremaining: 4.09s\n",
      "729:\tlearn: 10.0885056\ttotal: 11s\tremaining: 4.08s\n",
      "730:\tlearn: 10.0678253\ttotal: 11s\tremaining: 4.06s\n",
      "731:\tlearn: 10.0594351\ttotal: 11.1s\tremaining: 4.05s\n",
      "732:\tlearn: 10.0524783\ttotal: 11.1s\tremaining: 4.03s\n",
      "733:\tlearn: 10.0400745\ttotal: 11.1s\tremaining: 4.02s\n",
      "734:\tlearn: 10.0371096\ttotal: 11.1s\tremaining: 4s\n",
      "735:\tlearn: 10.0243307\ttotal: 11.1s\tremaining: 3.99s\n",
      "736:\tlearn: 10.0156443\ttotal: 11.1s\tremaining: 3.97s\n",
      "737:\tlearn: 10.0144628\ttotal: 11.1s\tremaining: 3.95s\n",
      "738:\tlearn: 9.9969818\ttotal: 11.2s\tremaining: 3.94s\n",
      "739:\tlearn: 9.9768478\ttotal: 11.2s\tremaining: 3.92s\n",
      "740:\tlearn: 9.9651839\ttotal: 11.2s\tremaining: 3.91s\n",
      "741:\tlearn: 9.9577590\ttotal: 11.2s\tremaining: 3.9s\n",
      "742:\tlearn: 9.9440800\ttotal: 11.2s\tremaining: 3.88s\n",
      "743:\tlearn: 9.9277323\ttotal: 11.2s\tremaining: 3.86s\n",
      "744:\tlearn: 9.9099126\ttotal: 11.2s\tremaining: 3.85s\n",
      "745:\tlearn: 9.9053291\ttotal: 11.3s\tremaining: 3.83s\n",
      "746:\tlearn: 9.8917132\ttotal: 11.3s\tremaining: 3.82s\n",
      "747:\tlearn: 9.8854415\ttotal: 11.3s\tremaining: 3.8s\n",
      "748:\tlearn: 9.8781726\ttotal: 11.3s\tremaining: 3.79s\n",
      "749:\tlearn: 9.8670310\ttotal: 11.3s\tremaining: 3.77s\n",
      "750:\tlearn: 9.8615285\ttotal: 11.3s\tremaining: 3.76s\n",
      "751:\tlearn: 9.8514729\ttotal: 11.3s\tremaining: 3.74s\n",
      "752:\tlearn: 9.8454643\ttotal: 11.4s\tremaining: 3.73s\n",
      "753:\tlearn: 9.8383251\ttotal: 11.4s\tremaining: 3.71s\n",
      "754:\tlearn: 9.8371301\ttotal: 11.4s\tremaining: 3.69s\n",
      "755:\tlearn: 9.8290370\ttotal: 11.4s\tremaining: 3.68s\n",
      "756:\tlearn: 9.8222876\ttotal: 11.4s\tremaining: 3.67s\n",
      "757:\tlearn: 9.8131082\ttotal: 11.4s\tremaining: 3.65s\n",
      "758:\tlearn: 9.7941561\ttotal: 11.5s\tremaining: 3.64s\n",
      "759:\tlearn: 9.7935431\ttotal: 11.5s\tremaining: 3.62s\n",
      "760:\tlearn: 9.7878521\ttotal: 11.5s\tremaining: 3.6s\n",
      "761:\tlearn: 9.7745340\ttotal: 11.5s\tremaining: 3.59s\n",
      "762:\tlearn: 9.7738677\ttotal: 11.5s\tremaining: 3.57s\n",
      "763:\tlearn: 9.7646684\ttotal: 11.5s\tremaining: 3.56s\n",
      "764:\tlearn: 9.7604347\ttotal: 11.5s\tremaining: 3.54s\n",
      "765:\tlearn: 9.7458215\ttotal: 11.6s\tremaining: 3.53s\n",
      "766:\tlearn: 9.7376344\ttotal: 11.6s\tremaining: 3.51s\n",
      "767:\tlearn: 9.7336705\ttotal: 11.6s\tremaining: 3.5s\n",
      "768:\tlearn: 9.7202141\ttotal: 11.6s\tremaining: 3.48s\n",
      "769:\tlearn: 9.7033445\ttotal: 11.6s\tremaining: 3.47s\n",
      "770:\tlearn: 9.7029337\ttotal: 11.6s\tremaining: 3.45s\n",
      "771:\tlearn: 9.6977703\ttotal: 11.6s\tremaining: 3.44s\n",
      "772:\tlearn: 9.6956820\ttotal: 11.7s\tremaining: 3.42s\n",
      "773:\tlearn: 9.6794544\ttotal: 11.7s\tremaining: 3.41s\n",
      "774:\tlearn: 9.6607392\ttotal: 11.7s\tremaining: 3.39s\n",
      "775:\tlearn: 9.6532105\ttotal: 11.7s\tremaining: 3.38s\n",
      "776:\tlearn: 9.6502268\ttotal: 11.7s\tremaining: 3.36s\n",
      "777:\tlearn: 9.6439686\ttotal: 11.7s\tremaining: 3.35s\n",
      "778:\tlearn: 9.6298873\ttotal: 11.7s\tremaining: 3.33s\n",
      "779:\tlearn: 9.6159238\ttotal: 11.8s\tremaining: 3.32s\n",
      "780:\tlearn: 9.6077518\ttotal: 11.8s\tremaining: 3.3s\n",
      "781:\tlearn: 9.5948982\ttotal: 11.8s\tremaining: 3.29s\n",
      "782:\tlearn: 9.5847698\ttotal: 11.8s\tremaining: 3.27s\n",
      "783:\tlearn: 9.5795974\ttotal: 11.8s\tremaining: 3.26s\n",
      "784:\tlearn: 9.5706064\ttotal: 11.9s\tremaining: 3.25s\n",
      "785:\tlearn: 9.5701832\ttotal: 11.9s\tremaining: 3.23s\n",
      "786:\tlearn: 9.5542794\ttotal: 11.9s\tremaining: 3.21s\n",
      "787:\tlearn: 9.5470256\ttotal: 11.9s\tremaining: 3.2s\n",
      "788:\tlearn: 9.5459718\ttotal: 11.9s\tremaining: 3.18s\n",
      "789:\tlearn: 9.5352730\ttotal: 11.9s\tremaining: 3.17s\n",
      "790:\tlearn: 9.5234124\ttotal: 11.9s\tremaining: 3.15s\n",
      "791:\tlearn: 9.5049923\ttotal: 12s\tremaining: 3.14s\n",
      "792:\tlearn: 9.4920383\ttotal: 12s\tremaining: 3.12s\n",
      "793:\tlearn: 9.4838554\ttotal: 12s\tremaining: 3.11s\n",
      "794:\tlearn: 9.4667340\ttotal: 12s\tremaining: 3.09s\n",
      "795:\tlearn: 9.4509684\ttotal: 12s\tremaining: 3.08s\n",
      "796:\tlearn: 9.4471643\ttotal: 12s\tremaining: 3.06s\n",
      "797:\tlearn: 9.4347391\ttotal: 12s\tremaining: 3.05s\n",
      "798:\tlearn: 9.4338298\ttotal: 12s\tremaining: 3.03s\n",
      "799:\tlearn: 9.4330392\ttotal: 12.1s\tremaining: 3.01s\n",
      "800:\tlearn: 9.4197998\ttotal: 12.1s\tremaining: 3s\n",
      "801:\tlearn: 9.4134693\ttotal: 12.1s\tremaining: 2.98s\n",
      "802:\tlearn: 9.4038498\ttotal: 12.1s\tremaining: 2.97s\n",
      "803:\tlearn: 9.3948472\ttotal: 12.1s\tremaining: 2.95s\n",
      "804:\tlearn: 9.3907631\ttotal: 12.1s\tremaining: 2.94s\n",
      "805:\tlearn: 9.3807728\ttotal: 12.1s\tremaining: 2.92s\n",
      "806:\tlearn: 9.3759780\ttotal: 12.2s\tremaining: 2.91s\n",
      "807:\tlearn: 9.3689356\ttotal: 12.2s\tremaining: 2.89s\n",
      "808:\tlearn: 9.3589594\ttotal: 12.2s\tremaining: 2.88s\n",
      "809:\tlearn: 9.3398399\ttotal: 12.2s\tremaining: 2.86s\n",
      "810:\tlearn: 9.3385909\ttotal: 12.2s\tremaining: 2.85s\n",
      "811:\tlearn: 9.3351537\ttotal: 12.2s\tremaining: 2.83s\n",
      "812:\tlearn: 9.3329767\ttotal: 12.2s\tremaining: 2.81s\n",
      "813:\tlearn: 9.3253387\ttotal: 12.3s\tremaining: 2.8s\n",
      "814:\tlearn: 9.3069070\ttotal: 12.3s\tremaining: 2.78s\n",
      "815:\tlearn: 9.3036471\ttotal: 12.3s\tremaining: 2.77s\n",
      "816:\tlearn: 9.2963631\ttotal: 12.3s\tremaining: 2.75s\n",
      "817:\tlearn: 9.2772985\ttotal: 12.3s\tremaining: 2.74s\n",
      "818:\tlearn: 9.2588066\ttotal: 12.3s\tremaining: 2.73s\n",
      "819:\tlearn: 9.2584204\ttotal: 12.3s\tremaining: 2.71s\n",
      "820:\tlearn: 9.2490620\ttotal: 12.4s\tremaining: 2.69s\n",
      "821:\tlearn: 9.2385475\ttotal: 12.4s\tremaining: 2.68s\n",
      "822:\tlearn: 9.2340670\ttotal: 12.4s\tremaining: 2.66s\n",
      "823:\tlearn: 9.2170995\ttotal: 12.4s\tremaining: 2.65s\n",
      "824:\tlearn: 9.2025354\ttotal: 12.4s\tremaining: 2.63s\n",
      "825:\tlearn: 9.1993489\ttotal: 12.4s\tremaining: 2.62s\n",
      "826:\tlearn: 9.1807148\ttotal: 12.4s\tremaining: 2.6s\n",
      "827:\tlearn: 9.1803865\ttotal: 12.5s\tremaining: 2.59s\n",
      "828:\tlearn: 9.1670425\ttotal: 12.5s\tremaining: 2.57s\n",
      "829:\tlearn: 9.1519690\ttotal: 12.5s\tremaining: 2.56s\n",
      "830:\tlearn: 9.1448962\ttotal: 12.5s\tremaining: 2.54s\n",
      "831:\tlearn: 9.1388855\ttotal: 12.5s\tremaining: 2.53s\n",
      "832:\tlearn: 9.1313811\ttotal: 12.5s\tremaining: 2.51s\n",
      "833:\tlearn: 9.1290289\ttotal: 12.6s\tremaining: 2.5s\n",
      "834:\tlearn: 9.1201081\ttotal: 12.6s\tremaining: 2.48s\n",
      "835:\tlearn: 9.1126341\ttotal: 12.6s\tremaining: 2.47s\n",
      "836:\tlearn: 9.1032749\ttotal: 12.6s\tremaining: 2.45s\n",
      "837:\tlearn: 9.0994146\ttotal: 12.6s\tremaining: 2.44s\n",
      "838:\tlearn: 9.0892169\ttotal: 12.6s\tremaining: 2.42s\n",
      "839:\tlearn: 9.0760473\ttotal: 12.6s\tremaining: 2.41s\n",
      "840:\tlearn: 9.0738010\ttotal: 12.7s\tremaining: 2.39s\n",
      "841:\tlearn: 9.0589548\ttotal: 12.7s\tremaining: 2.38s\n",
      "842:\tlearn: 9.0534310\ttotal: 12.7s\tremaining: 2.36s\n",
      "843:\tlearn: 9.0437137\ttotal: 12.7s\tremaining: 2.35s\n",
      "844:\tlearn: 9.0432841\ttotal: 12.7s\tremaining: 2.33s\n",
      "845:\tlearn: 9.0399726\ttotal: 12.7s\tremaining: 2.32s\n",
      "846:\tlearn: 9.0272818\ttotal: 12.7s\tremaining: 2.3s\n",
      "847:\tlearn: 9.0203866\ttotal: 12.8s\tremaining: 2.29s\n",
      "848:\tlearn: 8.9996567\ttotal: 12.8s\tremaining: 2.27s\n",
      "849:\tlearn: 8.9923494\ttotal: 12.8s\tremaining: 2.26s\n",
      "850:\tlearn: 8.9909851\ttotal: 12.8s\tremaining: 2.24s\n",
      "851:\tlearn: 8.9848678\ttotal: 12.8s\tremaining: 2.23s\n",
      "852:\tlearn: 8.9807787\ttotal: 12.8s\tremaining: 2.21s\n",
      "853:\tlearn: 8.9788491\ttotal: 12.8s\tremaining: 2.2s\n",
      "854:\tlearn: 8.9785365\ttotal: 12.9s\tremaining: 2.18s\n",
      "855:\tlearn: 8.9772321\ttotal: 12.9s\tremaining: 2.17s\n",
      "856:\tlearn: 8.9592148\ttotal: 12.9s\tremaining: 2.15s\n",
      "857:\tlearn: 8.9474633\ttotal: 12.9s\tremaining: 2.14s\n",
      "858:\tlearn: 8.9428154\ttotal: 12.9s\tremaining: 2.12s\n",
      "859:\tlearn: 8.9379656\ttotal: 13s\tremaining: 2.11s\n",
      "860:\tlearn: 8.9242997\ttotal: 13s\tremaining: 2.09s\n",
      "861:\tlearn: 8.9043896\ttotal: 13s\tremaining: 2.08s\n",
      "862:\tlearn: 8.8857329\ttotal: 13s\tremaining: 2.06s\n",
      "863:\tlearn: 8.8814443\ttotal: 13s\tremaining: 2.05s\n",
      "864:\tlearn: 8.8636260\ttotal: 13s\tremaining: 2.03s\n",
      "865:\tlearn: 8.8584310\ttotal: 13s\tremaining: 2.02s\n",
      "866:\tlearn: 8.8473574\ttotal: 13.1s\tremaining: 2s\n",
      "867:\tlearn: 8.8358653\ttotal: 13.1s\tremaining: 1.99s\n",
      "868:\tlearn: 8.8232685\ttotal: 13.1s\tremaining: 1.97s\n",
      "869:\tlearn: 8.8169755\ttotal: 13.1s\tremaining: 1.96s\n",
      "870:\tlearn: 8.8160570\ttotal: 13.1s\tremaining: 1.94s\n",
      "871:\tlearn: 8.8122796\ttotal: 13.1s\tremaining: 1.93s\n",
      "872:\tlearn: 8.8105538\ttotal: 13.1s\tremaining: 1.91s\n",
      "873:\tlearn: 8.8040450\ttotal: 13.2s\tremaining: 1.9s\n",
      "874:\tlearn: 8.8013323\ttotal: 13.2s\tremaining: 1.88s\n",
      "875:\tlearn: 8.7979564\ttotal: 13.2s\tremaining: 1.86s\n",
      "876:\tlearn: 8.7948831\ttotal: 13.2s\tremaining: 1.85s\n",
      "877:\tlearn: 8.7808432\ttotal: 13.2s\tremaining: 1.83s\n",
      "878:\tlearn: 8.7688054\ttotal: 13.2s\tremaining: 1.82s\n",
      "879:\tlearn: 8.7625126\ttotal: 13.2s\tremaining: 1.8s\n",
      "880:\tlearn: 8.7565065\ttotal: 13.3s\tremaining: 1.79s\n",
      "881:\tlearn: 8.7466766\ttotal: 13.3s\tremaining: 1.77s\n",
      "882:\tlearn: 8.7364976\ttotal: 13.3s\tremaining: 1.76s\n",
      "883:\tlearn: 8.7347871\ttotal: 13.3s\tremaining: 1.74s\n",
      "884:\tlearn: 8.7284044\ttotal: 13.3s\tremaining: 1.73s\n",
      "885:\tlearn: 8.7119571\ttotal: 13.3s\tremaining: 1.71s\n",
      "886:\tlearn: 8.7115338\ttotal: 13.3s\tremaining: 1.7s\n",
      "887:\tlearn: 8.7026833\ttotal: 13.4s\tremaining: 1.68s\n",
      "888:\tlearn: 8.6853610\ttotal: 13.4s\tremaining: 1.67s\n",
      "889:\tlearn: 8.6697672\ttotal: 13.4s\tremaining: 1.65s\n",
      "890:\tlearn: 8.6649802\ttotal: 13.4s\tremaining: 1.64s\n",
      "891:\tlearn: 8.6594846\ttotal: 13.4s\tremaining: 1.62s\n",
      "892:\tlearn: 8.6591260\ttotal: 13.4s\tremaining: 1.61s\n",
      "893:\tlearn: 8.6574827\ttotal: 13.4s\tremaining: 1.59s\n",
      "894:\tlearn: 8.6417493\ttotal: 13.5s\tremaining: 1.58s\n",
      "895:\tlearn: 8.6313025\ttotal: 13.5s\tremaining: 1.56s\n",
      "896:\tlearn: 8.6263729\ttotal: 13.5s\tremaining: 1.55s\n",
      "897:\tlearn: 8.6223941\ttotal: 13.5s\tremaining: 1.53s\n",
      "898:\tlearn: 8.6155454\ttotal: 13.5s\tremaining: 1.52s\n",
      "899:\tlearn: 8.6058938\ttotal: 13.5s\tremaining: 1.5s\n",
      "900:\tlearn: 8.5899840\ttotal: 13.6s\tremaining: 1.49s\n",
      "901:\tlearn: 8.5835544\ttotal: 13.6s\tremaining: 1.47s\n",
      "902:\tlearn: 8.5821505\ttotal: 13.6s\tremaining: 1.46s\n",
      "903:\tlearn: 8.5684978\ttotal: 13.6s\tremaining: 1.44s\n",
      "904:\tlearn: 8.5679642\ttotal: 13.6s\tremaining: 1.43s\n",
      "905:\tlearn: 8.5653460\ttotal: 13.6s\tremaining: 1.42s\n",
      "906:\tlearn: 8.5469103\ttotal: 13.7s\tremaining: 1.4s\n",
      "907:\tlearn: 8.5411733\ttotal: 13.7s\tremaining: 1.39s\n",
      "908:\tlearn: 8.5206242\ttotal: 13.7s\tremaining: 1.37s\n",
      "909:\tlearn: 8.5184569\ttotal: 13.7s\tremaining: 1.36s\n",
      "910:\tlearn: 8.5110898\ttotal: 13.7s\tremaining: 1.34s\n",
      "911:\tlearn: 8.4896654\ttotal: 13.7s\tremaining: 1.33s\n",
      "912:\tlearn: 8.4749524\ttotal: 13.8s\tremaining: 1.31s\n",
      "913:\tlearn: 8.4745575\ttotal: 13.8s\tremaining: 1.29s\n",
      "914:\tlearn: 8.4705996\ttotal: 13.8s\tremaining: 1.28s\n",
      "915:\tlearn: 8.4512467\ttotal: 13.8s\tremaining: 1.26s\n",
      "916:\tlearn: 8.4495339\ttotal: 13.8s\tremaining: 1.25s\n",
      "917:\tlearn: 8.4404914\ttotal: 13.8s\tremaining: 1.23s\n",
      "918:\tlearn: 8.4374259\ttotal: 13.8s\tremaining: 1.22s\n",
      "919:\tlearn: 8.4240497\ttotal: 13.9s\tremaining: 1.2s\n",
      "920:\tlearn: 8.4156226\ttotal: 13.9s\tremaining: 1.19s\n",
      "921:\tlearn: 8.4079404\ttotal: 13.9s\tremaining: 1.17s\n",
      "922:\tlearn: 8.3920958\ttotal: 13.9s\tremaining: 1.16s\n",
      "923:\tlearn: 8.3844034\ttotal: 13.9s\tremaining: 1.14s\n",
      "924:\tlearn: 8.3840021\ttotal: 13.9s\tremaining: 1.13s\n",
      "925:\tlearn: 8.3755496\ttotal: 13.9s\tremaining: 1.11s\n",
      "926:\tlearn: 8.3705308\ttotal: 13.9s\tremaining: 1.1s\n",
      "927:\tlearn: 8.3685241\ttotal: 14s\tremaining: 1.08s\n",
      "928:\tlearn: 8.3674938\ttotal: 14s\tremaining: 1.07s\n",
      "929:\tlearn: 8.3638365\ttotal: 14s\tremaining: 1.05s\n",
      "930:\tlearn: 8.3507062\ttotal: 14s\tremaining: 1.04s\n",
      "931:\tlearn: 8.3372276\ttotal: 14s\tremaining: 1.02s\n",
      "932:\tlearn: 8.3177282\ttotal: 14s\tremaining: 1.01s\n",
      "933:\tlearn: 8.3003738\ttotal: 14s\tremaining: 993ms\n",
      "934:\tlearn: 8.2978152\ttotal: 14.1s\tremaining: 978ms\n",
      "935:\tlearn: 8.2830869\ttotal: 14.1s\tremaining: 963ms\n",
      "936:\tlearn: 8.2795900\ttotal: 14.1s\tremaining: 948ms\n",
      "937:\tlearn: 8.2780903\ttotal: 14.1s\tremaining: 933ms\n",
      "938:\tlearn: 8.2728228\ttotal: 14.1s\tremaining: 917ms\n",
      "939:\tlearn: 8.2667298\ttotal: 14.1s\tremaining: 902ms\n",
      "940:\tlearn: 8.2551728\ttotal: 14.2s\tremaining: 887ms\n",
      "941:\tlearn: 8.2534106\ttotal: 14.2s\tremaining: 872ms\n",
      "942:\tlearn: 8.2441425\ttotal: 14.2s\tremaining: 857ms\n",
      "943:\tlearn: 8.2404272\ttotal: 14.2s\tremaining: 842ms\n",
      "944:\tlearn: 8.2341432\ttotal: 14.2s\tremaining: 827ms\n",
      "945:\tlearn: 8.2288889\ttotal: 14.2s\tremaining: 812ms\n",
      "946:\tlearn: 8.2211323\ttotal: 14.2s\tremaining: 797ms\n",
      "947:\tlearn: 8.2057194\ttotal: 14.3s\tremaining: 782ms\n",
      "948:\tlearn: 8.1929490\ttotal: 14.3s\tremaining: 767ms\n",
      "949:\tlearn: 8.1854722\ttotal: 14.3s\tremaining: 752ms\n",
      "950:\tlearn: 8.1747089\ttotal: 14.3s\tremaining: 737ms\n",
      "951:\tlearn: 8.1716952\ttotal: 14.3s\tremaining: 722ms\n",
      "952:\tlearn: 8.1694723\ttotal: 14.3s\tremaining: 707ms\n",
      "953:\tlearn: 8.1681746\ttotal: 14.3s\tremaining: 692ms\n",
      "954:\tlearn: 8.1663204\ttotal: 14.4s\tremaining: 677ms\n",
      "955:\tlearn: 8.1660627\ttotal: 14.4s\tremaining: 661ms\n",
      "956:\tlearn: 8.1619312\ttotal: 14.4s\tremaining: 646ms\n",
      "957:\tlearn: 8.1615210\ttotal: 14.4s\tremaining: 631ms\n",
      "958:\tlearn: 8.1589841\ttotal: 14.4s\tremaining: 616ms\n",
      "959:\tlearn: 8.1566322\ttotal: 14.4s\tremaining: 601ms\n",
      "960:\tlearn: 8.1517033\ttotal: 14.4s\tremaining: 585ms\n",
      "961:\tlearn: 8.1433253\ttotal: 14.4s\tremaining: 570ms\n",
      "962:\tlearn: 8.1401528\ttotal: 14.4s\tremaining: 555ms\n",
      "963:\tlearn: 8.1344536\ttotal: 14.5s\tremaining: 540ms\n",
      "964:\tlearn: 8.1273017\ttotal: 14.5s\tremaining: 525ms\n",
      "965:\tlearn: 8.1245253\ttotal: 14.5s\tremaining: 510ms\n",
      "966:\tlearn: 8.1193138\ttotal: 14.5s\tremaining: 495ms\n",
      "967:\tlearn: 8.1148719\ttotal: 14.5s\tremaining: 480ms\n",
      "968:\tlearn: 8.1072599\ttotal: 14.5s\tremaining: 465ms\n",
      "969:\tlearn: 8.1065566\ttotal: 14.6s\tremaining: 450ms\n",
      "970:\tlearn: 8.1007781\ttotal: 14.6s\tremaining: 435ms\n",
      "971:\tlearn: 8.0893112\ttotal: 14.6s\tremaining: 420ms\n",
      "972:\tlearn: 8.0852875\ttotal: 14.6s\tremaining: 405ms\n",
      "973:\tlearn: 8.0773542\ttotal: 14.6s\tremaining: 390ms\n",
      "974:\tlearn: 8.0740381\ttotal: 14.6s\tremaining: 375ms\n",
      "975:\tlearn: 8.0737711\ttotal: 14.6s\tremaining: 360ms\n",
      "976:\tlearn: 8.0630074\ttotal: 14.7s\tremaining: 345ms\n",
      "977:\tlearn: 8.0621009\ttotal: 14.7s\tremaining: 330ms\n",
      "978:\tlearn: 8.0537633\ttotal: 14.7s\tremaining: 315ms\n",
      "979:\tlearn: 8.0514446\ttotal: 14.7s\tremaining: 300ms\n",
      "980:\tlearn: 8.0506629\ttotal: 14.7s\tremaining: 285ms\n",
      "981:\tlearn: 8.0447270\ttotal: 14.7s\tremaining: 270ms\n",
      "982:\tlearn: 8.0409696\ttotal: 14.7s\tremaining: 255ms\n",
      "983:\tlearn: 8.0324226\ttotal: 14.8s\tremaining: 240ms\n",
      "984:\tlearn: 8.0212526\ttotal: 14.8s\tremaining: 225ms\n",
      "985:\tlearn: 8.0105725\ttotal: 14.8s\tremaining: 210ms\n",
      "986:\tlearn: 8.0035174\ttotal: 14.8s\tremaining: 195ms\n",
      "987:\tlearn: 7.9990736\ttotal: 14.8s\tremaining: 180ms\n",
      "988:\tlearn: 7.9853899\ttotal: 14.8s\tremaining: 165ms\n",
      "989:\tlearn: 7.9812176\ttotal: 14.8s\tremaining: 150ms\n",
      "990:\tlearn: 7.9788356\ttotal: 14.9s\tremaining: 135ms\n",
      "991:\tlearn: 7.9688943\ttotal: 14.9s\tremaining: 120ms\n",
      "992:\tlearn: 7.9593650\ttotal: 14.9s\tremaining: 105ms\n",
      "993:\tlearn: 7.9506394\ttotal: 14.9s\tremaining: 89.9ms\n",
      "994:\tlearn: 7.9444763\ttotal: 14.9s\tremaining: 74.9ms\n",
      "995:\tlearn: 7.9320974\ttotal: 14.9s\tremaining: 59.9ms\n",
      "996:\tlearn: 7.9251892\ttotal: 14.9s\tremaining: 45ms\n",
      "997:\tlearn: 7.9221912\ttotal: 15s\tremaining: 30ms\n",
      "998:\tlearn: 7.9084021\ttotal: 15s\tremaining: 15ms\n",
      "999:\tlearn: 7.9074017\ttotal: 15s\tremaining: 0us\n"
     ]
    }
   ],
   "source": [
    "# initialize data\n",
    "train_data = train.drop(columns=['num_orders'])\n",
    "train_label = train['num_orders']\n",
    "\n",
    "test_data = test.drop(columns=['num_orders'])\n",
    "\n",
    "# initialize Pool\n",
    "train_pool = Pool(train_data, \n",
    "                  train_label)\n",
    "test_pool = Pool(test_data) \n",
    "\n",
    "# specify the training parameters \n",
    "CatBR = CatBoostRegressor(iterations=1000, \n",
    "                          best_model_min_trees=20,\n",
    "                          grow_policy='Lossguide',\n",
    "                          loss_function='RMSE')\n",
    "#train the model\n",
    "CatBR.fit(train_pool)\n",
    "# make the prediction using the resulting model\n",
    "cat_preds = CatBR.predict(test_pool)"
   ]
  },
  {
   "cell_type": "code",
   "execution_count": 147,
   "metadata": {},
   "outputs": [
    {
     "data": {
      "text/plain": [
       "40.76303647797777"
      ]
     },
     "execution_count": 147,
     "metadata": {},
     "output_type": "execute_result"
    }
   ],
   "source": [
    "mean_squared_error(test['num_orders'], cat_preds, squared=False)"
   ]
  },
  {
   "cell_type": "markdown",
   "metadata": {},
   "source": [
    "##### если убрать все гиперпараметры для модели"
   ]
  },
  {
   "cell_type": "code",
   "execution_count": 51,
   "metadata": {},
   "outputs": [
    {
     "name": "stdout",
     "output_type": "stream",
     "text": [
      "Learning rate set to 0.05086\n",
      "0:\tlearn: 37.7780969\ttotal: 7.86ms\tremaining: 7.85s\n",
      "1:\tlearn: 36.9689814\ttotal: 15.5ms\tremaining: 7.76s\n",
      "2:\tlearn: 36.1895324\ttotal: 23.3ms\tremaining: 7.75s\n",
      "3:\tlearn: 35.4478653\ttotal: 31ms\tremaining: 7.72s\n",
      "4:\tlearn: 34.7818317\ttotal: 38.6ms\tremaining: 7.68s\n",
      "5:\tlearn: 34.1512828\ttotal: 46.4ms\tremaining: 7.68s\n",
      "6:\tlearn: 33.5756955\ttotal: 54.1ms\tremaining: 7.68s\n",
      "7:\tlearn: 32.9849814\ttotal: 61.7ms\tremaining: 7.66s\n",
      "8:\tlearn: 32.4915243\ttotal: 69.1ms\tremaining: 7.6s\n",
      "9:\tlearn: 31.9925606\ttotal: 76.5ms\tremaining: 7.57s\n",
      "10:\tlearn: 31.5452515\ttotal: 83.9ms\tremaining: 7.55s\n",
      "11:\tlearn: 31.0959535\ttotal: 91.3ms\tremaining: 7.52s\n",
      "12:\tlearn: 30.6825095\ttotal: 98.8ms\tremaining: 7.5s\n",
      "13:\tlearn: 30.2791176\ttotal: 107ms\tremaining: 7.53s\n",
      "14:\tlearn: 29.9277810\ttotal: 114ms\tremaining: 7.51s\n",
      "15:\tlearn: 29.5886889\ttotal: 122ms\tremaining: 7.51s\n",
      "16:\tlearn: 29.2613459\ttotal: 129ms\tremaining: 7.48s\n",
      "17:\tlearn: 28.9358979\ttotal: 137ms\tremaining: 7.49s\n",
      "18:\tlearn: 28.6413199\ttotal: 145ms\tremaining: 7.48s\n",
      "19:\tlearn: 28.3762765\ttotal: 152ms\tremaining: 7.46s\n",
      "20:\tlearn: 28.1102318\ttotal: 160ms\tremaining: 7.44s\n",
      "21:\tlearn: 27.8391614\ttotal: 167ms\tremaining: 7.44s\n",
      "22:\tlearn: 27.6293727\ttotal: 175ms\tremaining: 7.44s\n",
      "23:\tlearn: 27.4135617\ttotal: 183ms\tremaining: 7.44s\n",
      "24:\tlearn: 27.2092448\ttotal: 190ms\tremaining: 7.43s\n",
      "25:\tlearn: 27.0092771\ttotal: 200ms\tremaining: 7.47s\n",
      "26:\tlearn: 26.8222307\ttotal: 207ms\tremaining: 7.46s\n",
      "27:\tlearn: 26.6440883\ttotal: 215ms\tremaining: 7.45s\n",
      "28:\tlearn: 26.4712084\ttotal: 222ms\tremaining: 7.43s\n",
      "29:\tlearn: 26.3130213\ttotal: 230ms\tremaining: 7.43s\n",
      "30:\tlearn: 26.1632409\ttotal: 237ms\tremaining: 7.42s\n",
      "31:\tlearn: 26.0212422\ttotal: 245ms\tremaining: 7.41s\n",
      "32:\tlearn: 25.8738205\ttotal: 253ms\tremaining: 7.42s\n",
      "33:\tlearn: 25.7266486\ttotal: 261ms\tremaining: 7.4s\n",
      "34:\tlearn: 25.5949272\ttotal: 273ms\tremaining: 7.53s\n",
      "35:\tlearn: 25.4859348\ttotal: 286ms\tremaining: 7.65s\n",
      "36:\tlearn: 25.3741665\ttotal: 298ms\tremaining: 7.76s\n",
      "37:\tlearn: 25.2604258\ttotal: 308ms\tremaining: 7.78s\n",
      "38:\tlearn: 25.1708823\ttotal: 315ms\tremaining: 7.76s\n",
      "39:\tlearn: 25.0733087\ttotal: 323ms\tremaining: 7.74s\n",
      "40:\tlearn: 24.9776469\ttotal: 330ms\tremaining: 7.72s\n",
      "41:\tlearn: 24.8934435\ttotal: 338ms\tremaining: 7.7s\n",
      "42:\tlearn: 24.8230116\ttotal: 345ms\tremaining: 7.68s\n",
      "43:\tlearn: 24.7445699\ttotal: 353ms\tremaining: 7.67s\n",
      "44:\tlearn: 24.6735423\ttotal: 361ms\tremaining: 7.65s\n",
      "45:\tlearn: 24.6127580\ttotal: 368ms\tremaining: 7.63s\n",
      "46:\tlearn: 24.5280207\ttotal: 375ms\tremaining: 7.61s\n",
      "47:\tlearn: 24.4400905\ttotal: 382ms\tremaining: 7.58s\n",
      "48:\tlearn: 24.3741148\ttotal: 391ms\tremaining: 7.59s\n",
      "49:\tlearn: 24.3133809\ttotal: 399ms\tremaining: 7.58s\n",
      "50:\tlearn: 24.2417200\ttotal: 408ms\tremaining: 7.59s\n",
      "51:\tlearn: 24.1910015\ttotal: 415ms\tremaining: 7.57s\n",
      "52:\tlearn: 24.1225783\ttotal: 423ms\tremaining: 7.55s\n",
      "53:\tlearn: 24.0737001\ttotal: 430ms\tremaining: 7.53s\n",
      "54:\tlearn: 24.0024933\ttotal: 437ms\tremaining: 7.51s\n",
      "55:\tlearn: 23.9341514\ttotal: 445ms\tremaining: 7.49s\n",
      "56:\tlearn: 23.9069488\ttotal: 452ms\tremaining: 7.47s\n",
      "57:\tlearn: 23.8943106\ttotal: 459ms\tremaining: 7.46s\n",
      "58:\tlearn: 23.8638115\ttotal: 467ms\tremaining: 7.44s\n",
      "59:\tlearn: 23.8356666\ttotal: 475ms\tremaining: 7.45s\n",
      "60:\tlearn: 23.7862594\ttotal: 482ms\tremaining: 7.43s\n",
      "61:\tlearn: 23.7494606\ttotal: 490ms\tremaining: 7.41s\n",
      "62:\tlearn: 23.7185490\ttotal: 497ms\tremaining: 7.39s\n",
      "63:\tlearn: 23.6582450\ttotal: 504ms\tremaining: 7.38s\n",
      "64:\tlearn: 23.6413288\ttotal: 512ms\tremaining: 7.36s\n",
      "65:\tlearn: 23.5856001\ttotal: 519ms\tremaining: 7.34s\n",
      "66:\tlearn: 23.5347686\ttotal: 527ms\tremaining: 7.33s\n",
      "67:\tlearn: 23.4920414\ttotal: 534ms\tremaining: 7.32s\n",
      "68:\tlearn: 23.4825629\ttotal: 541ms\tremaining: 7.3s\n",
      "69:\tlearn: 23.4230518\ttotal: 549ms\tremaining: 7.29s\n",
      "70:\tlearn: 23.4137132\ttotal: 556ms\tremaining: 7.28s\n",
      "71:\tlearn: 23.3903354\ttotal: 563ms\tremaining: 7.26s\n",
      "72:\tlearn: 23.3485237\ttotal: 572ms\tremaining: 7.26s\n",
      "73:\tlearn: 23.3288253\ttotal: 581ms\tremaining: 7.27s\n",
      "74:\tlearn: 23.2873869\ttotal: 588ms\tremaining: 7.25s\n",
      "75:\tlearn: 23.2494500\ttotal: 595ms\tremaining: 7.24s\n",
      "76:\tlearn: 23.2131974\ttotal: 602ms\tremaining: 7.22s\n",
      "77:\tlearn: 23.1869870\ttotal: 610ms\tremaining: 7.21s\n",
      "78:\tlearn: 23.1411737\ttotal: 618ms\tremaining: 7.21s\n",
      "79:\tlearn: 23.0945784\ttotal: 626ms\tremaining: 7.19s\n",
      "80:\tlearn: 23.0803767\ttotal: 632ms\tremaining: 7.17s\n",
      "81:\tlearn: 23.0732877\ttotal: 639ms\tremaining: 7.16s\n",
      "82:\tlearn: 23.0577102\ttotal: 647ms\tremaining: 7.14s\n",
      "83:\tlearn: 23.0227812\ttotal: 654ms\tremaining: 7.13s\n",
      "84:\tlearn: 22.9909854\ttotal: 661ms\tremaining: 7.12s\n",
      "85:\tlearn: 22.9469446\ttotal: 669ms\tremaining: 7.11s\n",
      "86:\tlearn: 22.9034890\ttotal: 676ms\tremaining: 7.1s\n",
      "87:\tlearn: 22.8695296\ttotal: 684ms\tremaining: 7.08s\n",
      "88:\tlearn: 22.8342850\ttotal: 691ms\tremaining: 7.07s\n",
      "89:\tlearn: 22.8174923\ttotal: 698ms\tremaining: 7.05s\n",
      "90:\tlearn: 22.8075495\ttotal: 705ms\tremaining: 7.04s\n",
      "91:\tlearn: 22.7702236\ttotal: 712ms\tremaining: 7.03s\n",
      "92:\tlearn: 22.7279205\ttotal: 720ms\tremaining: 7.02s\n",
      "93:\tlearn: 22.7118495\ttotal: 727ms\tremaining: 7.01s\n",
      "94:\tlearn: 22.6985201\ttotal: 735ms\tremaining: 7s\n",
      "95:\tlearn: 22.6690737\ttotal: 742ms\tremaining: 6.99s\n",
      "96:\tlearn: 22.6430718\ttotal: 750ms\tremaining: 6.98s\n",
      "97:\tlearn: 22.6281286\ttotal: 757ms\tremaining: 6.97s\n",
      "98:\tlearn: 22.5961184\ttotal: 765ms\tremaining: 6.96s\n",
      "99:\tlearn: 22.5831146\ttotal: 777ms\tremaining: 6.99s\n",
      "100:\tlearn: 22.5665182\ttotal: 789ms\tremaining: 7.02s\n",
      "101:\tlearn: 22.5563966\ttotal: 801ms\tremaining: 7.05s\n",
      "102:\tlearn: 22.5497175\ttotal: 813ms\tremaining: 7.08s\n",
      "103:\tlearn: 22.5372234\ttotal: 824ms\tremaining: 7.09s\n",
      "104:\tlearn: 22.5251418\ttotal: 831ms\tremaining: 7.09s\n",
      "105:\tlearn: 22.5086544\ttotal: 839ms\tremaining: 7.08s\n",
      "106:\tlearn: 22.4679298\ttotal: 846ms\tremaining: 7.06s\n",
      "107:\tlearn: 22.4228494\ttotal: 855ms\tremaining: 7.06s\n",
      "108:\tlearn: 22.3846435\ttotal: 863ms\tremaining: 7.06s\n",
      "109:\tlearn: 22.3479065\ttotal: 870ms\tremaining: 7.04s\n",
      "110:\tlearn: 22.3382296\ttotal: 877ms\tremaining: 7.02s\n",
      "111:\tlearn: 22.3156609\ttotal: 884ms\tremaining: 7.01s\n",
      "112:\tlearn: 22.2722379\ttotal: 890ms\tremaining: 6.99s\n",
      "113:\tlearn: 22.2290043\ttotal: 896ms\tremaining: 6.97s\n",
      "114:\tlearn: 22.2087433\ttotal: 903ms\tremaining: 6.95s\n",
      "115:\tlearn: 22.2013959\ttotal: 910ms\tremaining: 6.93s\n",
      "116:\tlearn: 22.1622394\ttotal: 917ms\tremaining: 6.92s\n",
      "117:\tlearn: 22.1385258\ttotal: 924ms\tremaining: 6.91s\n",
      "118:\tlearn: 22.1093310\ttotal: 931ms\tremaining: 6.89s\n",
      "119:\tlearn: 22.0923367\ttotal: 938ms\tremaining: 6.88s\n",
      "120:\tlearn: 22.0778861\ttotal: 945ms\tremaining: 6.86s\n",
      "121:\tlearn: 22.0501299\ttotal: 951ms\tremaining: 6.85s\n",
      "122:\tlearn: 22.0070439\ttotal: 959ms\tremaining: 6.83s\n",
      "123:\tlearn: 21.9717838\ttotal: 965ms\tremaining: 6.82s\n",
      "124:\tlearn: 21.9630659\ttotal: 972ms\tremaining: 6.8s\n",
      "125:\tlearn: 21.9363620\ttotal: 979ms\tremaining: 6.79s\n",
      "126:\tlearn: 21.9128060\ttotal: 986ms\tremaining: 6.78s\n",
      "127:\tlearn: 21.9026037\ttotal: 993ms\tremaining: 6.77s\n",
      "128:\tlearn: 21.8614326\ttotal: 1s\tremaining: 6.75s\n",
      "129:\tlearn: 21.8401370\ttotal: 1.01s\tremaining: 6.74s\n",
      "130:\tlearn: 21.8368555\ttotal: 1.01s\tremaining: 6.72s\n",
      "131:\tlearn: 21.7959322\ttotal: 1.02s\tremaining: 6.71s\n",
      "132:\tlearn: 21.7742195\ttotal: 1.03s\tremaining: 6.69s\n",
      "133:\tlearn: 21.7296284\ttotal: 1.03s\tremaining: 6.68s\n",
      "134:\tlearn: 21.7131944\ttotal: 1.04s\tremaining: 6.67s\n",
      "135:\tlearn: 21.6883775\ttotal: 1.05s\tremaining: 6.65s\n",
      "136:\tlearn: 21.6466360\ttotal: 1.05s\tremaining: 6.64s\n",
      "137:\tlearn: 21.6147530\ttotal: 1.06s\tremaining: 6.63s\n",
      "138:\tlearn: 21.6008133\ttotal: 1.07s\tremaining: 6.61s\n",
      "139:\tlearn: 21.5623142\ttotal: 1.07s\tremaining: 6.59s\n",
      "140:\tlearn: 21.5578941\ttotal: 1.08s\tremaining: 6.58s\n",
      "141:\tlearn: 21.5154713\ttotal: 1.09s\tremaining: 6.57s\n",
      "142:\tlearn: 21.4951346\ttotal: 1.09s\tremaining: 6.55s\n",
      "143:\tlearn: 21.4733313\ttotal: 1.1s\tremaining: 6.54s\n",
      "144:\tlearn: 21.4481157\ttotal: 1.11s\tremaining: 6.53s\n",
      "145:\tlearn: 21.4278098\ttotal: 1.11s\tremaining: 6.52s\n",
      "146:\tlearn: 21.3992995\ttotal: 1.12s\tremaining: 6.51s\n",
      "147:\tlearn: 21.3800447\ttotal: 1.13s\tremaining: 6.5s\n",
      "148:\tlearn: 21.3450293\ttotal: 1.14s\tremaining: 6.49s\n",
      "149:\tlearn: 21.3305726\ttotal: 1.14s\tremaining: 6.49s\n",
      "150:\tlearn: 21.3129752\ttotal: 1.15s\tremaining: 6.48s\n",
      "151:\tlearn: 21.2811238\ttotal: 1.16s\tremaining: 6.47s\n",
      "152:\tlearn: 21.2657336\ttotal: 1.17s\tremaining: 6.48s\n",
      "153:\tlearn: 21.2395194\ttotal: 1.18s\tremaining: 6.49s\n",
      "154:\tlearn: 21.2280510\ttotal: 1.19s\tremaining: 6.5s\n",
      "155:\tlearn: 21.1864793\ttotal: 1.2s\tremaining: 6.49s\n",
      "156:\tlearn: 21.1715640\ttotal: 1.21s\tremaining: 6.47s\n",
      "157:\tlearn: 21.1323879\ttotal: 1.21s\tremaining: 6.46s\n",
      "158:\tlearn: 21.1031298\ttotal: 1.22s\tremaining: 6.45s\n",
      "159:\tlearn: 21.0676432\ttotal: 1.23s\tremaining: 6.43s\n",
      "160:\tlearn: 21.0495877\ttotal: 1.23s\tremaining: 6.42s\n",
      "161:\tlearn: 21.0182457\ttotal: 1.24s\tremaining: 6.41s\n",
      "162:\tlearn: 20.9827622\ttotal: 1.25s\tremaining: 6.39s\n",
      "163:\tlearn: 20.9607359\ttotal: 1.25s\tremaining: 6.38s\n",
      "164:\tlearn: 20.9418270\ttotal: 1.26s\tremaining: 6.37s\n",
      "165:\tlearn: 20.9384550\ttotal: 1.26s\tremaining: 6.34s\n",
      "166:\tlearn: 20.9119211\ttotal: 1.27s\tremaining: 6.33s\n",
      "167:\tlearn: 20.8873432\ttotal: 1.27s\tremaining: 6.31s\n",
      "168:\tlearn: 20.8617272\ttotal: 1.28s\tremaining: 6.3s\n",
      "169:\tlearn: 20.8347714\ttotal: 1.29s\tremaining: 6.29s\n",
      "170:\tlearn: 20.7948762\ttotal: 1.29s\tremaining: 6.27s\n",
      "171:\tlearn: 20.7596378\ttotal: 1.3s\tremaining: 6.26s\n",
      "172:\tlearn: 20.7420734\ttotal: 1.31s\tremaining: 6.25s\n",
      "173:\tlearn: 20.7227638\ttotal: 1.31s\tremaining: 6.24s\n",
      "174:\tlearn: 20.7021996\ttotal: 1.32s\tremaining: 6.22s\n",
      "175:\tlearn: 20.6912834\ttotal: 1.33s\tremaining: 6.21s\n",
      "176:\tlearn: 20.6693531\ttotal: 1.33s\tremaining: 6.2s\n",
      "177:\tlearn: 20.6496882\ttotal: 1.34s\tremaining: 6.21s\n",
      "178:\tlearn: 20.6151632\ttotal: 1.35s\tremaining: 6.2s\n",
      "179:\tlearn: 20.5948114\ttotal: 1.36s\tremaining: 6.2s\n",
      "180:\tlearn: 20.5810912\ttotal: 1.37s\tremaining: 6.21s\n",
      "181:\tlearn: 20.5478951\ttotal: 1.38s\tremaining: 6.22s\n",
      "182:\tlearn: 20.5231462\ttotal: 1.39s\tremaining: 6.21s\n",
      "183:\tlearn: 20.4946983\ttotal: 1.4s\tremaining: 6.19s\n",
      "184:\tlearn: 20.4676626\ttotal: 1.4s\tremaining: 6.18s\n",
      "185:\tlearn: 20.4414858\ttotal: 1.41s\tremaining: 6.17s\n",
      "186:\tlearn: 20.4170661\ttotal: 1.42s\tremaining: 6.16s\n",
      "187:\tlearn: 20.3815059\ttotal: 1.42s\tremaining: 6.14s\n",
      "188:\tlearn: 20.3639135\ttotal: 1.43s\tremaining: 6.13s\n",
      "189:\tlearn: 20.3606344\ttotal: 1.43s\tremaining: 6.12s\n",
      "190:\tlearn: 20.3494966\ttotal: 1.44s\tremaining: 6.1s\n",
      "191:\tlearn: 20.3461070\ttotal: 1.45s\tremaining: 6.09s\n",
      "192:\tlearn: 20.3062444\ttotal: 1.45s\tremaining: 6.08s\n",
      "193:\tlearn: 20.2762087\ttotal: 1.46s\tremaining: 6.07s\n",
      "194:\tlearn: 20.2518227\ttotal: 1.47s\tremaining: 6.06s\n",
      "195:\tlearn: 20.2366149\ttotal: 1.47s\tremaining: 6.04s\n",
      "196:\tlearn: 20.2138089\ttotal: 1.48s\tremaining: 6.03s\n",
      "197:\tlearn: 20.2042265\ttotal: 1.49s\tremaining: 6.02s\n",
      "198:\tlearn: 20.1892127\ttotal: 1.49s\tremaining: 6.01s\n",
      "199:\tlearn: 20.1635136\ttotal: 1.5s\tremaining: 6s\n",
      "200:\tlearn: 20.1355606\ttotal: 1.51s\tremaining: 6s\n",
      "201:\tlearn: 20.1169054\ttotal: 1.51s\tremaining: 5.99s\n",
      "202:\tlearn: 20.0906950\ttotal: 1.52s\tremaining: 5.97s\n",
      "203:\tlearn: 20.0594781\ttotal: 1.53s\tremaining: 5.96s\n",
      "204:\tlearn: 20.0297356\ttotal: 1.54s\tremaining: 5.97s\n",
      "205:\tlearn: 20.0009299\ttotal: 1.55s\tremaining: 5.96s\n",
      "206:\tlearn: 19.9714518\ttotal: 1.56s\tremaining: 5.97s\n",
      "207:\tlearn: 19.9471653\ttotal: 1.57s\tremaining: 5.97s\n",
      "208:\tlearn: 19.9283792\ttotal: 1.58s\tremaining: 5.96s\n",
      "209:\tlearn: 19.9249543\ttotal: 1.58s\tremaining: 5.95s\n",
      "210:\tlearn: 19.9050340\ttotal: 1.59s\tremaining: 5.94s\n",
      "211:\tlearn: 19.9028942\ttotal: 1.59s\tremaining: 5.92s\n",
      "212:\tlearn: 19.8886316\ttotal: 1.6s\tremaining: 5.92s\n",
      "213:\tlearn: 19.8862316\ttotal: 1.61s\tremaining: 5.9s\n",
      "214:\tlearn: 19.8547350\ttotal: 1.61s\tremaining: 5.89s\n",
      "215:\tlearn: 19.8405927\ttotal: 1.62s\tremaining: 5.88s\n",
      "216:\tlearn: 19.8220540\ttotal: 1.63s\tremaining: 5.87s\n",
      "217:\tlearn: 19.7982387\ttotal: 1.63s\tremaining: 5.86s\n",
      "218:\tlearn: 19.7962324\ttotal: 1.64s\tremaining: 5.85s\n",
      "219:\tlearn: 19.7692040\ttotal: 1.65s\tremaining: 5.84s\n",
      "220:\tlearn: 19.7545574\ttotal: 1.65s\tremaining: 5.83s\n",
      "221:\tlearn: 19.7210179\ttotal: 1.66s\tremaining: 5.82s\n",
      "222:\tlearn: 19.7054322\ttotal: 1.67s\tremaining: 5.8s\n",
      "223:\tlearn: 19.6768124\ttotal: 1.67s\tremaining: 5.79s\n",
      "224:\tlearn: 19.6502926\ttotal: 1.68s\tremaining: 5.78s\n",
      "225:\tlearn: 19.6345564\ttotal: 1.68s\tremaining: 5.77s\n",
      "226:\tlearn: 19.6090359\ttotal: 1.7s\tremaining: 5.78s\n",
      "227:\tlearn: 19.5844764\ttotal: 1.71s\tremaining: 5.78s\n",
      "228:\tlearn: 19.5717921\ttotal: 1.72s\tremaining: 5.79s\n",
      "229:\tlearn: 19.5547052\ttotal: 1.73s\tremaining: 5.78s\n",
      "230:\tlearn: 19.5342147\ttotal: 1.73s\tremaining: 5.77s\n",
      "231:\tlearn: 19.5068921\ttotal: 1.74s\tremaining: 5.76s\n",
      "232:\tlearn: 19.4742952\ttotal: 1.75s\tremaining: 5.75s\n",
      "233:\tlearn: 19.4504535\ttotal: 1.75s\tremaining: 5.74s\n",
      "234:\tlearn: 19.4307777\ttotal: 1.76s\tremaining: 5.73s\n",
      "235:\tlearn: 19.4155201\ttotal: 1.77s\tremaining: 5.72s\n",
      "236:\tlearn: 19.3935828\ttotal: 1.77s\tremaining: 5.71s\n",
      "237:\tlearn: 19.3832586\ttotal: 1.78s\tremaining: 5.71s\n",
      "238:\tlearn: 19.3758784\ttotal: 1.79s\tremaining: 5.7s\n",
      "239:\tlearn: 19.3568875\ttotal: 1.79s\tremaining: 5.68s\n",
      "240:\tlearn: 19.3290551\ttotal: 1.8s\tremaining: 5.67s\n",
      "241:\tlearn: 19.3041550\ttotal: 1.81s\tremaining: 5.66s\n",
      "242:\tlearn: 19.2942003\ttotal: 1.81s\tremaining: 5.65s\n",
      "243:\tlearn: 19.2596843\ttotal: 1.82s\tremaining: 5.64s\n",
      "244:\tlearn: 19.2489038\ttotal: 1.83s\tremaining: 5.63s\n",
      "245:\tlearn: 19.2475680\ttotal: 1.83s\tremaining: 5.62s\n",
      "246:\tlearn: 19.2275139\ttotal: 1.84s\tremaining: 5.61s\n",
      "247:\tlearn: 19.2091291\ttotal: 1.85s\tremaining: 5.6s\n",
      "248:\tlearn: 19.1772521\ttotal: 1.85s\tremaining: 5.59s\n",
      "249:\tlearn: 19.1628182\ttotal: 1.86s\tremaining: 5.58s\n",
      "250:\tlearn: 19.1358736\ttotal: 1.87s\tremaining: 5.57s\n",
      "251:\tlearn: 19.1195100\ttotal: 1.87s\tremaining: 5.56s\n",
      "252:\tlearn: 19.0840586\ttotal: 1.88s\tremaining: 5.55s\n",
      "253:\tlearn: 19.0825516\ttotal: 1.89s\tremaining: 5.54s\n",
      "254:\tlearn: 19.0629564\ttotal: 1.89s\tremaining: 5.53s\n",
      "255:\tlearn: 19.0326955\ttotal: 1.9s\tremaining: 5.53s\n",
      "256:\tlearn: 19.0024356\ttotal: 1.91s\tremaining: 5.52s\n",
      "257:\tlearn: 18.9804788\ttotal: 1.92s\tremaining: 5.52s\n",
      "258:\tlearn: 18.9547836\ttotal: 1.93s\tremaining: 5.52s\n",
      "259:\tlearn: 18.9473941\ttotal: 1.94s\tremaining: 5.51s\n",
      "260:\tlearn: 18.9169507\ttotal: 1.95s\tremaining: 5.51s\n",
      "261:\tlearn: 18.9011850\ttotal: 1.96s\tremaining: 5.51s\n",
      "262:\tlearn: 18.8939114\ttotal: 1.96s\tremaining: 5.5s\n",
      "263:\tlearn: 18.8643476\ttotal: 1.97s\tremaining: 5.49s\n",
      "264:\tlearn: 18.8503865\ttotal: 1.98s\tremaining: 5.49s\n",
      "265:\tlearn: 18.8227327\ttotal: 1.99s\tremaining: 5.49s\n",
      "266:\tlearn: 18.7996999\ttotal: 2s\tremaining: 5.48s\n",
      "267:\tlearn: 18.7845086\ttotal: 2.01s\tremaining: 5.48s\n",
      "268:\tlearn: 18.7613970\ttotal: 2.02s\tremaining: 5.48s\n",
      "269:\tlearn: 18.7502914\ttotal: 2.03s\tremaining: 5.48s\n",
      "270:\tlearn: 18.7289931\ttotal: 2.04s\tremaining: 5.48s\n",
      "271:\tlearn: 18.7162482\ttotal: 2.04s\tremaining: 5.47s\n",
      "272:\tlearn: 18.6853190\ttotal: 2.05s\tremaining: 5.47s\n",
      "273:\tlearn: 18.6789176\ttotal: 2.06s\tremaining: 5.47s\n",
      "274:\tlearn: 18.6637207\ttotal: 2.07s\tremaining: 5.46s\n",
      "275:\tlearn: 18.6310997\ttotal: 2.08s\tremaining: 5.46s\n",
      "276:\tlearn: 18.6005943\ttotal: 2.09s\tremaining: 5.45s\n",
      "277:\tlearn: 18.5737721\ttotal: 2.1s\tremaining: 5.44s\n",
      "278:\tlearn: 18.5508047\ttotal: 2.1s\tremaining: 5.44s\n",
      "279:\tlearn: 18.5299380\ttotal: 2.12s\tremaining: 5.44s\n",
      "280:\tlearn: 18.5117999\ttotal: 2.12s\tremaining: 5.43s\n",
      "281:\tlearn: 18.4906520\ttotal: 2.13s\tremaining: 5.43s\n",
      "282:\tlearn: 18.4680737\ttotal: 2.14s\tremaining: 5.43s\n",
      "283:\tlearn: 18.4451763\ttotal: 2.15s\tremaining: 5.42s\n",
      "284:\tlearn: 18.4243951\ttotal: 2.16s\tremaining: 5.42s\n",
      "285:\tlearn: 18.4047002\ttotal: 2.17s\tremaining: 5.41s\n",
      "286:\tlearn: 18.3811822\ttotal: 2.17s\tremaining: 5.4s\n",
      "287:\tlearn: 18.3643668\ttotal: 2.18s\tremaining: 5.39s\n",
      "288:\tlearn: 18.3400722\ttotal: 2.19s\tremaining: 5.38s\n",
      "289:\tlearn: 18.3188283\ttotal: 2.19s\tremaining: 5.37s\n",
      "290:\tlearn: 18.3118290\ttotal: 2.2s\tremaining: 5.36s\n",
      "291:\tlearn: 18.3002709\ttotal: 2.21s\tremaining: 5.35s\n",
      "292:\tlearn: 18.2806202\ttotal: 2.21s\tremaining: 5.35s\n",
      "293:\tlearn: 18.2535353\ttotal: 2.22s\tremaining: 5.34s\n",
      "294:\tlearn: 18.2303748\ttotal: 2.23s\tremaining: 5.33s\n",
      "295:\tlearn: 18.2042290\ttotal: 2.23s\tremaining: 5.32s\n",
      "296:\tlearn: 18.1811451\ttotal: 2.24s\tremaining: 5.31s\n",
      "297:\tlearn: 18.1687517\ttotal: 2.25s\tremaining: 5.3s\n",
      "298:\tlearn: 18.1540936\ttotal: 2.25s\tremaining: 5.29s\n",
      "299:\tlearn: 18.1380096\ttotal: 2.26s\tremaining: 5.28s\n",
      "300:\tlearn: 18.1368732\ttotal: 2.27s\tremaining: 5.27s\n",
      "301:\tlearn: 18.1355497\ttotal: 2.27s\tremaining: 5.26s\n",
      "302:\tlearn: 18.1167488\ttotal: 2.28s\tremaining: 5.25s\n",
      "303:\tlearn: 18.0991509\ttotal: 2.29s\tremaining: 5.24s\n",
      "304:\tlearn: 18.0828525\ttotal: 2.29s\tremaining: 5.23s\n",
      "305:\tlearn: 18.0591520\ttotal: 2.3s\tremaining: 5.23s\n",
      "306:\tlearn: 18.0419369\ttotal: 2.31s\tremaining: 5.22s\n",
      "307:\tlearn: 18.0234901\ttotal: 2.32s\tremaining: 5.21s\n",
      "308:\tlearn: 18.0225896\ttotal: 2.33s\tremaining: 5.2s\n",
      "309:\tlearn: 17.9982041\ttotal: 2.33s\tremaining: 5.2s\n",
      "310:\tlearn: 17.9805448\ttotal: 2.34s\tremaining: 5.19s\n",
      "311:\tlearn: 17.9533849\ttotal: 2.35s\tremaining: 5.18s\n",
      "312:\tlearn: 17.9320199\ttotal: 2.35s\tremaining: 5.17s\n",
      "313:\tlearn: 17.9248426\ttotal: 2.36s\tremaining: 5.16s\n",
      "314:\tlearn: 17.9094712\ttotal: 2.37s\tremaining: 5.15s\n",
      "315:\tlearn: 17.8896886\ttotal: 2.37s\tremaining: 5.14s\n",
      "316:\tlearn: 17.8741756\ttotal: 2.38s\tremaining: 5.13s\n",
      "317:\tlearn: 17.8543048\ttotal: 2.39s\tremaining: 5.12s\n",
      "318:\tlearn: 17.8312183\ttotal: 2.39s\tremaining: 5.11s\n",
      "319:\tlearn: 17.8175209\ttotal: 2.4s\tremaining: 5.1s\n",
      "320:\tlearn: 17.7929357\ttotal: 2.41s\tremaining: 5.09s\n",
      "321:\tlearn: 17.7745797\ttotal: 2.42s\tremaining: 5.08s\n",
      "322:\tlearn: 17.7520676\ttotal: 2.42s\tremaining: 5.08s\n",
      "323:\tlearn: 17.7363887\ttotal: 2.43s\tremaining: 5.07s\n",
      "324:\tlearn: 17.7208893\ttotal: 2.44s\tremaining: 5.06s\n",
      "325:\tlearn: 17.6958845\ttotal: 2.44s\tremaining: 5.05s\n",
      "326:\tlearn: 17.6799837\ttotal: 2.45s\tremaining: 5.04s\n",
      "327:\tlearn: 17.6675749\ttotal: 2.46s\tremaining: 5.03s\n",
      "328:\tlearn: 17.6531363\ttotal: 2.46s\tremaining: 5.02s\n",
      "329:\tlearn: 17.6322305\ttotal: 2.47s\tremaining: 5.01s\n",
      "330:\tlearn: 17.6152256\ttotal: 2.48s\tremaining: 5s\n",
      "331:\tlearn: 17.5997896\ttotal: 2.48s\tremaining: 4.99s\n",
      "332:\tlearn: 17.5803103\ttotal: 2.49s\tremaining: 4.98s\n",
      "333:\tlearn: 17.5707341\ttotal: 2.5s\tremaining: 4.98s\n",
      "334:\tlearn: 17.5517760\ttotal: 2.5s\tremaining: 4.97s\n",
      "335:\tlearn: 17.5280905\ttotal: 2.51s\tremaining: 4.96s\n",
      "336:\tlearn: 17.5104343\ttotal: 2.51s\tremaining: 4.95s\n",
      "337:\tlearn: 17.4942961\ttotal: 2.52s\tremaining: 4.93s\n",
      "338:\tlearn: 17.4836812\ttotal: 2.52s\tremaining: 4.92s\n",
      "339:\tlearn: 17.4645216\ttotal: 2.53s\tremaining: 4.92s\n",
      "340:\tlearn: 17.4515933\ttotal: 2.54s\tremaining: 4.91s\n",
      "341:\tlearn: 17.4404049\ttotal: 2.54s\tremaining: 4.89s\n",
      "342:\tlearn: 17.4264095\ttotal: 2.55s\tremaining: 4.89s\n",
      "343:\tlearn: 17.4096574\ttotal: 2.56s\tremaining: 4.88s\n",
      "344:\tlearn: 17.3963593\ttotal: 2.56s\tremaining: 4.87s\n",
      "345:\tlearn: 17.3692569\ttotal: 2.57s\tremaining: 4.86s\n",
      "346:\tlearn: 17.3545638\ttotal: 2.58s\tremaining: 4.85s\n",
      "347:\tlearn: 17.3401993\ttotal: 2.58s\tremaining: 4.84s\n",
      "348:\tlearn: 17.3393527\ttotal: 2.59s\tremaining: 4.83s\n",
      "349:\tlearn: 17.3208675\ttotal: 2.6s\tremaining: 4.82s\n",
      "350:\tlearn: 17.3036375\ttotal: 2.6s\tremaining: 4.81s\n",
      "351:\tlearn: 17.2846820\ttotal: 2.61s\tremaining: 4.8s\n",
      "352:\tlearn: 17.2763286\ttotal: 2.61s\tremaining: 4.79s\n",
      "353:\tlearn: 17.2690095\ttotal: 2.62s\tremaining: 4.78s\n",
      "354:\tlearn: 17.2514071\ttotal: 2.63s\tremaining: 4.77s\n",
      "355:\tlearn: 17.2349998\ttotal: 2.63s\tremaining: 4.76s\n",
      "356:\tlearn: 17.2138269\ttotal: 2.64s\tremaining: 4.75s\n",
      "357:\tlearn: 17.2117070\ttotal: 2.65s\tremaining: 4.74s\n",
      "358:\tlearn: 17.1940707\ttotal: 2.65s\tremaining: 4.74s\n",
      "359:\tlearn: 17.1815240\ttotal: 2.66s\tremaining: 4.73s\n",
      "360:\tlearn: 17.1566659\ttotal: 2.67s\tremaining: 4.72s\n",
      "361:\tlearn: 17.1443795\ttotal: 2.67s\tremaining: 4.71s\n",
      "362:\tlearn: 17.1176029\ttotal: 2.68s\tremaining: 4.7s\n",
      "363:\tlearn: 17.1045631\ttotal: 2.69s\tremaining: 4.69s\n",
      "364:\tlearn: 17.0955337\ttotal: 2.69s\tremaining: 4.68s\n",
      "365:\tlearn: 17.0792802\ttotal: 2.7s\tremaining: 4.68s\n",
      "366:\tlearn: 17.0573153\ttotal: 2.71s\tremaining: 4.67s\n",
      "367:\tlearn: 17.0408012\ttotal: 2.71s\tremaining: 4.66s\n",
      "368:\tlearn: 17.0243923\ttotal: 2.72s\tremaining: 4.65s\n",
      "369:\tlearn: 17.0035901\ttotal: 2.73s\tremaining: 4.64s\n",
      "370:\tlearn: 16.9938741\ttotal: 2.73s\tremaining: 4.63s\n",
      "371:\tlearn: 16.9752534\ttotal: 2.74s\tremaining: 4.62s\n",
      "372:\tlearn: 16.9514291\ttotal: 2.75s\tremaining: 4.61s\n",
      "373:\tlearn: 16.9426286\ttotal: 2.76s\tremaining: 4.61s\n",
      "374:\tlearn: 16.9260300\ttotal: 2.77s\tremaining: 4.61s\n",
      "375:\tlearn: 16.9115511\ttotal: 2.77s\tremaining: 4.61s\n",
      "376:\tlearn: 16.8952352\ttotal: 2.78s\tremaining: 4.6s\n",
      "377:\tlearn: 16.8757910\ttotal: 2.79s\tremaining: 4.59s\n",
      "378:\tlearn: 16.8517550\ttotal: 2.79s\tremaining: 4.58s\n",
      "379:\tlearn: 16.8355649\ttotal: 2.8s\tremaining: 4.57s\n",
      "380:\tlearn: 16.8172442\ttotal: 2.81s\tremaining: 4.56s\n",
      "381:\tlearn: 16.7926134\ttotal: 2.81s\tremaining: 4.55s\n",
      "382:\tlearn: 16.7808765\ttotal: 2.82s\tremaining: 4.55s\n",
      "383:\tlearn: 16.7676259\ttotal: 2.83s\tremaining: 4.54s\n",
      "384:\tlearn: 16.7523602\ttotal: 2.83s\tremaining: 4.53s\n",
      "385:\tlearn: 16.7373933\ttotal: 2.84s\tremaining: 4.52s\n",
      "386:\tlearn: 16.7240091\ttotal: 2.85s\tremaining: 4.51s\n",
      "387:\tlearn: 16.7046929\ttotal: 2.86s\tremaining: 4.5s\n",
      "388:\tlearn: 16.7022591\ttotal: 2.86s\tremaining: 4.5s\n",
      "389:\tlearn: 16.6947695\ttotal: 2.87s\tremaining: 4.49s\n",
      "390:\tlearn: 16.6775750\ttotal: 2.88s\tremaining: 4.48s\n",
      "391:\tlearn: 16.6585509\ttotal: 2.88s\tremaining: 4.47s\n",
      "392:\tlearn: 16.6477854\ttotal: 2.89s\tremaining: 4.46s\n",
      "393:\tlearn: 16.6328176\ttotal: 2.9s\tremaining: 4.45s\n",
      "394:\tlearn: 16.6182090\ttotal: 2.9s\tremaining: 4.45s\n",
      "395:\tlearn: 16.6053932\ttotal: 2.91s\tremaining: 4.44s\n",
      "396:\tlearn: 16.5919254\ttotal: 2.92s\tremaining: 4.43s\n",
      "397:\tlearn: 16.5811899\ttotal: 2.92s\tremaining: 4.42s\n",
      "398:\tlearn: 16.5684985\ttotal: 2.93s\tremaining: 4.41s\n",
      "399:\tlearn: 16.5604806\ttotal: 2.93s\tremaining: 4.4s\n",
      "400:\tlearn: 16.5462152\ttotal: 2.94s\tremaining: 4.39s\n",
      "401:\tlearn: 16.5265016\ttotal: 2.95s\tremaining: 4.38s\n",
      "402:\tlearn: 16.5131252\ttotal: 2.95s\tremaining: 4.38s\n",
      "403:\tlearn: 16.4990280\ttotal: 2.96s\tremaining: 4.37s\n",
      "404:\tlearn: 16.4811508\ttotal: 2.97s\tremaining: 4.36s\n",
      "405:\tlearn: 16.4697068\ttotal: 2.98s\tremaining: 4.35s\n",
      "406:\tlearn: 16.4559209\ttotal: 2.98s\tremaining: 4.34s\n",
      "407:\tlearn: 16.4433997\ttotal: 2.99s\tremaining: 4.33s\n",
      "408:\tlearn: 16.4296140\ttotal: 2.99s\tremaining: 4.33s\n",
      "409:\tlearn: 16.4148426\ttotal: 3s\tremaining: 4.32s\n",
      "410:\tlearn: 16.3962136\ttotal: 3.01s\tremaining: 4.31s\n",
      "411:\tlearn: 16.3765635\ttotal: 3.01s\tremaining: 4.3s\n",
      "412:\tlearn: 16.3711021\ttotal: 3.02s\tremaining: 4.29s\n",
      "413:\tlearn: 16.3567006\ttotal: 3.03s\tremaining: 4.29s\n",
      "414:\tlearn: 16.3441108\ttotal: 3.03s\tremaining: 4.28s\n",
      "415:\tlearn: 16.3283683\ttotal: 3.04s\tremaining: 4.27s\n",
      "416:\tlearn: 16.3177825\ttotal: 3.05s\tremaining: 4.26s\n",
      "417:\tlearn: 16.2971842\ttotal: 3.05s\tremaining: 4.25s\n",
      "418:\tlearn: 16.2874053\ttotal: 3.06s\tremaining: 4.24s\n",
      "419:\tlearn: 16.2641020\ttotal: 3.07s\tremaining: 4.24s\n",
      "420:\tlearn: 16.2523583\ttotal: 3.07s\tremaining: 4.23s\n",
      "421:\tlearn: 16.2515669\ttotal: 3.08s\tremaining: 4.22s\n",
      "422:\tlearn: 16.2354967\ttotal: 3.08s\tremaining: 4.21s\n",
      "423:\tlearn: 16.2217335\ttotal: 3.09s\tremaining: 4.2s\n",
      "424:\tlearn: 16.2130928\ttotal: 3.1s\tremaining: 4.19s\n",
      "425:\tlearn: 16.1943126\ttotal: 3.1s\tremaining: 4.18s\n",
      "426:\tlearn: 16.1780793\ttotal: 3.11s\tremaining: 4.17s\n",
      "427:\tlearn: 16.1568297\ttotal: 3.12s\tremaining: 4.17s\n",
      "428:\tlearn: 16.1416549\ttotal: 3.12s\tremaining: 4.16s\n",
      "429:\tlearn: 16.1286054\ttotal: 3.13s\tremaining: 4.15s\n",
      "430:\tlearn: 16.1104294\ttotal: 3.13s\tremaining: 4.14s\n",
      "431:\tlearn: 16.0934873\ttotal: 3.14s\tremaining: 4.13s\n",
      "432:\tlearn: 16.0790583\ttotal: 3.15s\tremaining: 4.12s\n",
      "433:\tlearn: 16.0659938\ttotal: 3.15s\tremaining: 4.11s\n",
      "434:\tlearn: 16.0561300\ttotal: 3.16s\tremaining: 4.11s\n",
      "435:\tlearn: 16.0373134\ttotal: 3.17s\tremaining: 4.1s\n",
      "436:\tlearn: 16.0264364\ttotal: 3.17s\tremaining: 4.09s\n",
      "437:\tlearn: 16.0257219\ttotal: 3.18s\tremaining: 4.08s\n",
      "438:\tlearn: 16.0018001\ttotal: 3.19s\tremaining: 4.07s\n",
      "439:\tlearn: 15.9896490\ttotal: 3.19s\tremaining: 4.06s\n",
      "440:\tlearn: 15.9803004\ttotal: 3.2s\tremaining: 4.05s\n",
      "441:\tlearn: 15.9648637\ttotal: 3.21s\tremaining: 4.05s\n",
      "442:\tlearn: 15.9522570\ttotal: 3.21s\tremaining: 4.04s\n",
      "443:\tlearn: 15.9386359\ttotal: 3.22s\tremaining: 4.03s\n",
      "444:\tlearn: 15.9283059\ttotal: 3.23s\tremaining: 4.02s\n",
      "445:\tlearn: 15.9142465\ttotal: 3.23s\tremaining: 4.01s\n",
      "446:\tlearn: 15.8999586\ttotal: 3.24s\tremaining: 4.01s\n",
      "447:\tlearn: 15.8844613\ttotal: 3.25s\tremaining: 4s\n",
      "448:\tlearn: 15.8721576\ttotal: 3.25s\tremaining: 3.99s\n",
      "449:\tlearn: 15.8587054\ttotal: 3.26s\tremaining: 3.98s\n",
      "450:\tlearn: 15.8447609\ttotal: 3.27s\tremaining: 3.98s\n",
      "451:\tlearn: 15.8296316\ttotal: 3.27s\tremaining: 3.97s\n",
      "452:\tlearn: 15.8288697\ttotal: 3.28s\tremaining: 3.96s\n",
      "453:\tlearn: 15.8147209\ttotal: 3.29s\tremaining: 3.95s\n",
      "454:\tlearn: 15.8140498\ttotal: 3.29s\tremaining: 3.94s\n",
      "455:\tlearn: 15.8020332\ttotal: 3.3s\tremaining: 3.93s\n",
      "456:\tlearn: 15.7937028\ttotal: 3.3s\tremaining: 3.92s\n",
      "457:\tlearn: 15.7765941\ttotal: 3.31s\tremaining: 3.92s\n",
      "458:\tlearn: 15.7627103\ttotal: 3.32s\tremaining: 3.91s\n",
      "459:\tlearn: 15.7515322\ttotal: 3.32s\tremaining: 3.9s\n",
      "460:\tlearn: 15.7508078\ttotal: 3.33s\tremaining: 3.89s\n",
      "461:\tlearn: 15.7343245\ttotal: 3.33s\tremaining: 3.88s\n",
      "462:\tlearn: 15.7232919\ttotal: 3.34s\tremaining: 3.87s\n",
      "463:\tlearn: 15.7104281\ttotal: 3.35s\tremaining: 3.87s\n",
      "464:\tlearn: 15.6982311\ttotal: 3.35s\tremaining: 3.86s\n",
      "465:\tlearn: 15.6807387\ttotal: 3.37s\tremaining: 3.86s\n",
      "466:\tlearn: 15.6742131\ttotal: 3.38s\tremaining: 3.85s\n",
      "467:\tlearn: 15.6621382\ttotal: 3.38s\tremaining: 3.85s\n",
      "468:\tlearn: 15.6448671\ttotal: 3.39s\tremaining: 3.84s\n",
      "469:\tlearn: 15.6288982\ttotal: 3.4s\tremaining: 3.83s\n",
      "470:\tlearn: 15.6204349\ttotal: 3.41s\tremaining: 3.83s\n",
      "471:\tlearn: 15.6101182\ttotal: 3.42s\tremaining: 3.82s\n",
      "472:\tlearn: 15.5955660\ttotal: 3.42s\tremaining: 3.81s\n",
      "473:\tlearn: 15.5765003\ttotal: 3.43s\tremaining: 3.81s\n",
      "474:\tlearn: 15.5583113\ttotal: 3.44s\tremaining: 3.8s\n",
      "475:\tlearn: 15.5483717\ttotal: 3.44s\tremaining: 3.79s\n",
      "476:\tlearn: 15.5365792\ttotal: 3.45s\tremaining: 3.78s\n",
      "477:\tlearn: 15.5227205\ttotal: 3.45s\tremaining: 3.77s\n",
      "478:\tlearn: 15.5120683\ttotal: 3.46s\tremaining: 3.76s\n",
      "479:\tlearn: 15.4936199\ttotal: 3.47s\tremaining: 3.76s\n",
      "480:\tlearn: 15.4817347\ttotal: 3.47s\tremaining: 3.75s\n",
      "481:\tlearn: 15.4735133\ttotal: 3.48s\tremaining: 3.74s\n",
      "482:\tlearn: 15.4671924\ttotal: 3.49s\tremaining: 3.73s\n",
      "483:\tlearn: 15.4576508\ttotal: 3.49s\tremaining: 3.72s\n",
      "484:\tlearn: 15.4407713\ttotal: 3.5s\tremaining: 3.71s\n",
      "485:\tlearn: 15.4274455\ttotal: 3.5s\tremaining: 3.71s\n",
      "486:\tlearn: 15.4149308\ttotal: 3.51s\tremaining: 3.7s\n",
      "487:\tlearn: 15.4063633\ttotal: 3.52s\tremaining: 3.69s\n",
      "488:\tlearn: 15.3943799\ttotal: 3.52s\tremaining: 3.68s\n",
      "489:\tlearn: 15.3867741\ttotal: 3.53s\tremaining: 3.67s\n",
      "490:\tlearn: 15.3780598\ttotal: 3.54s\tremaining: 3.67s\n",
      "491:\tlearn: 15.3694448\ttotal: 3.54s\tremaining: 3.66s\n",
      "492:\tlearn: 15.3607893\ttotal: 3.55s\tremaining: 3.65s\n",
      "493:\tlearn: 15.3506979\ttotal: 3.55s\tremaining: 3.64s\n",
      "494:\tlearn: 15.3363864\ttotal: 3.56s\tremaining: 3.63s\n",
      "495:\tlearn: 15.3214634\ttotal: 3.57s\tremaining: 3.62s\n",
      "496:\tlearn: 15.3034498\ttotal: 3.57s\tremaining: 3.62s\n",
      "497:\tlearn: 15.2962157\ttotal: 3.58s\tremaining: 3.61s\n",
      "498:\tlearn: 15.2841130\ttotal: 3.59s\tremaining: 3.6s\n",
      "499:\tlearn: 15.2803876\ttotal: 3.59s\tremaining: 3.59s\n",
      "500:\tlearn: 15.2665243\ttotal: 3.6s\tremaining: 3.58s\n",
      "501:\tlearn: 15.2480156\ttotal: 3.61s\tremaining: 3.58s\n",
      "502:\tlearn: 15.2391587\ttotal: 3.61s\tremaining: 3.57s\n",
      "503:\tlearn: 15.2377466\ttotal: 3.62s\tremaining: 3.56s\n",
      "504:\tlearn: 15.2151720\ttotal: 3.63s\tremaining: 3.55s\n",
      "505:\tlearn: 15.2050368\ttotal: 3.63s\tremaining: 3.55s\n",
      "506:\tlearn: 15.1876701\ttotal: 3.64s\tremaining: 3.54s\n",
      "507:\tlearn: 15.1768567\ttotal: 3.64s\tremaining: 3.53s\n",
      "508:\tlearn: 15.1699155\ttotal: 3.65s\tremaining: 3.52s\n",
      "509:\tlearn: 15.1581969\ttotal: 3.66s\tremaining: 3.51s\n",
      "510:\tlearn: 15.1575828\ttotal: 3.66s\tremaining: 3.51s\n",
      "511:\tlearn: 15.1482429\ttotal: 3.67s\tremaining: 3.5s\n",
      "512:\tlearn: 15.1290482\ttotal: 3.68s\tremaining: 3.49s\n",
      "513:\tlearn: 15.1197131\ttotal: 3.68s\tremaining: 3.48s\n",
      "514:\tlearn: 15.1051097\ttotal: 3.69s\tremaining: 3.48s\n",
      "515:\tlearn: 15.1031695\ttotal: 3.7s\tremaining: 3.47s\n",
      "516:\tlearn: 15.0922745\ttotal: 3.7s\tremaining: 3.46s\n",
      "517:\tlearn: 15.0800869\ttotal: 3.71s\tremaining: 3.45s\n",
      "518:\tlearn: 15.0678586\ttotal: 3.72s\tremaining: 3.44s\n",
      "519:\tlearn: 15.0491134\ttotal: 3.72s\tremaining: 3.44s\n",
      "520:\tlearn: 15.0366061\ttotal: 3.73s\tremaining: 3.43s\n",
      "521:\tlearn: 15.0276758\ttotal: 3.74s\tremaining: 3.42s\n",
      "522:\tlearn: 15.0129796\ttotal: 3.74s\tremaining: 3.42s\n",
      "523:\tlearn: 14.9978272\ttotal: 3.75s\tremaining: 3.41s\n",
      "524:\tlearn: 14.9831782\ttotal: 3.76s\tremaining: 3.4s\n",
      "525:\tlearn: 14.9717204\ttotal: 3.76s\tremaining: 3.39s\n",
      "526:\tlearn: 14.9614480\ttotal: 3.77s\tremaining: 3.38s\n",
      "527:\tlearn: 14.9463809\ttotal: 3.77s\tremaining: 3.38s\n",
      "528:\tlearn: 14.9367094\ttotal: 3.78s\tremaining: 3.37s\n",
      "529:\tlearn: 14.9281817\ttotal: 3.79s\tremaining: 3.36s\n",
      "530:\tlearn: 14.9070590\ttotal: 3.79s\tremaining: 3.35s\n",
      "531:\tlearn: 14.8955979\ttotal: 3.8s\tremaining: 3.34s\n",
      "532:\tlearn: 14.8860975\ttotal: 3.81s\tremaining: 3.34s\n",
      "533:\tlearn: 14.8727357\ttotal: 3.81s\tremaining: 3.33s\n",
      "534:\tlearn: 14.8544346\ttotal: 3.82s\tremaining: 3.32s\n",
      "535:\tlearn: 14.8421311\ttotal: 3.83s\tremaining: 3.31s\n",
      "536:\tlearn: 14.8288741\ttotal: 3.83s\tremaining: 3.3s\n",
      "537:\tlearn: 14.8135889\ttotal: 3.84s\tremaining: 3.3s\n",
      "538:\tlearn: 14.8014098\ttotal: 3.84s\tremaining: 3.29s\n",
      "539:\tlearn: 14.8007960\ttotal: 3.85s\tremaining: 3.28s\n",
      "540:\tlearn: 14.7835690\ttotal: 3.86s\tremaining: 3.27s\n",
      "541:\tlearn: 14.7712330\ttotal: 3.86s\tremaining: 3.26s\n",
      "542:\tlearn: 14.7603328\ttotal: 3.87s\tremaining: 3.26s\n",
      "543:\tlearn: 14.7523515\ttotal: 3.88s\tremaining: 3.25s\n",
      "544:\tlearn: 14.7377752\ttotal: 3.88s\tremaining: 3.24s\n",
      "545:\tlearn: 14.7372014\ttotal: 3.89s\tremaining: 3.23s\n",
      "546:\tlearn: 14.7258305\ttotal: 3.9s\tremaining: 3.23s\n",
      "547:\tlearn: 14.7112476\ttotal: 3.9s\tremaining: 3.22s\n",
      "548:\tlearn: 14.6999898\ttotal: 3.91s\tremaining: 3.21s\n",
      "549:\tlearn: 14.6914326\ttotal: 3.92s\tremaining: 3.2s\n",
      "550:\tlearn: 14.6797793\ttotal: 3.92s\tremaining: 3.19s\n",
      "551:\tlearn: 14.6650519\ttotal: 3.93s\tremaining: 3.19s\n",
      "552:\tlearn: 14.6585654\ttotal: 3.93s\tremaining: 3.18s\n",
      "553:\tlearn: 14.6425642\ttotal: 3.94s\tremaining: 3.17s\n",
      "554:\tlearn: 14.6350116\ttotal: 3.94s\tremaining: 3.16s\n",
      "555:\tlearn: 14.6274911\ttotal: 3.95s\tremaining: 3.15s\n",
      "556:\tlearn: 14.6116338\ttotal: 3.96s\tremaining: 3.15s\n",
      "557:\tlearn: 14.6044279\ttotal: 3.96s\tremaining: 3.14s\n",
      "558:\tlearn: 14.5896656\ttotal: 3.97s\tremaining: 3.13s\n",
      "559:\tlearn: 14.5817793\ttotal: 3.98s\tremaining: 3.12s\n",
      "560:\tlearn: 14.5706971\ttotal: 3.98s\tremaining: 3.12s\n",
      "561:\tlearn: 14.5616763\ttotal: 3.99s\tremaining: 3.11s\n",
      "562:\tlearn: 14.5498014\ttotal: 3.99s\tremaining: 3.1s\n",
      "563:\tlearn: 14.5419579\ttotal: 4s\tremaining: 3.09s\n",
      "564:\tlearn: 14.5371312\ttotal: 4.01s\tremaining: 3.08s\n",
      "565:\tlearn: 14.5292730\ttotal: 4.01s\tremaining: 3.08s\n",
      "566:\tlearn: 14.5195202\ttotal: 4.02s\tremaining: 3.07s\n",
      "567:\tlearn: 14.5090967\ttotal: 4.03s\tremaining: 3.06s\n",
      "568:\tlearn: 14.4939853\ttotal: 4.03s\tremaining: 3.06s\n",
      "569:\tlearn: 14.4869629\ttotal: 4.04s\tremaining: 3.05s\n",
      "570:\tlearn: 14.4791566\ttotal: 4.04s\tremaining: 3.04s\n",
      "571:\tlearn: 14.4701885\ttotal: 4.05s\tremaining: 3.03s\n",
      "572:\tlearn: 14.4582578\ttotal: 4.06s\tremaining: 3.02s\n",
      "573:\tlearn: 14.4470662\ttotal: 4.07s\tremaining: 3.02s\n",
      "574:\tlearn: 14.4294787\ttotal: 4.07s\tremaining: 3.01s\n",
      "575:\tlearn: 14.4193493\ttotal: 4.08s\tremaining: 3s\n",
      "576:\tlearn: 14.4122775\ttotal: 4.08s\tremaining: 2.99s\n",
      "577:\tlearn: 14.4025421\ttotal: 4.09s\tremaining: 2.99s\n",
      "578:\tlearn: 14.3955289\ttotal: 4.1s\tremaining: 2.98s\n",
      "579:\tlearn: 14.3808873\ttotal: 4.1s\tremaining: 2.97s\n",
      "580:\tlearn: 14.3684567\ttotal: 4.11s\tremaining: 2.96s\n",
      "581:\tlearn: 14.3603897\ttotal: 4.12s\tremaining: 2.96s\n",
      "582:\tlearn: 14.3598406\ttotal: 4.12s\tremaining: 2.95s\n",
      "583:\tlearn: 14.3466080\ttotal: 4.13s\tremaining: 2.94s\n",
      "584:\tlearn: 14.3357895\ttotal: 4.13s\tremaining: 2.93s\n",
      "585:\tlearn: 14.3199823\ttotal: 4.14s\tremaining: 2.93s\n",
      "586:\tlearn: 14.3054545\ttotal: 4.15s\tremaining: 2.92s\n",
      "587:\tlearn: 14.2977269\ttotal: 4.15s\tremaining: 2.91s\n",
      "588:\tlearn: 14.2894308\ttotal: 4.16s\tremaining: 2.9s\n",
      "589:\tlearn: 14.2749899\ttotal: 4.17s\tremaining: 2.9s\n",
      "590:\tlearn: 14.2652985\ttotal: 4.17s\tremaining: 2.89s\n",
      "591:\tlearn: 14.2580952\ttotal: 4.18s\tremaining: 2.88s\n",
      "592:\tlearn: 14.2418525\ttotal: 4.18s\tremaining: 2.87s\n",
      "593:\tlearn: 14.2272382\ttotal: 4.19s\tremaining: 2.87s\n",
      "594:\tlearn: 14.2149711\ttotal: 4.2s\tremaining: 2.86s\n",
      "595:\tlearn: 14.2020892\ttotal: 4.21s\tremaining: 2.85s\n",
      "596:\tlearn: 14.1922886\ttotal: 4.21s\tremaining: 2.84s\n",
      "597:\tlearn: 14.1832309\ttotal: 4.22s\tremaining: 2.84s\n",
      "598:\tlearn: 14.1729585\ttotal: 4.22s\tremaining: 2.83s\n",
      "599:\tlearn: 14.1578204\ttotal: 4.23s\tremaining: 2.82s\n",
      "600:\tlearn: 14.1426301\ttotal: 4.24s\tremaining: 2.81s\n",
      "601:\tlearn: 14.1332705\ttotal: 4.24s\tremaining: 2.81s\n",
      "602:\tlearn: 14.1251345\ttotal: 4.25s\tremaining: 2.8s\n",
      "603:\tlearn: 14.1135554\ttotal: 4.25s\tremaining: 2.79s\n",
      "604:\tlearn: 14.0995379\ttotal: 4.26s\tremaining: 2.78s\n",
      "605:\tlearn: 14.0869842\ttotal: 4.27s\tremaining: 2.77s\n",
      "606:\tlearn: 14.0851942\ttotal: 4.27s\tremaining: 2.77s\n",
      "607:\tlearn: 14.0720654\ttotal: 4.28s\tremaining: 2.76s\n",
      "608:\tlearn: 14.0527878\ttotal: 4.29s\tremaining: 2.75s\n",
      "609:\tlearn: 14.0378711\ttotal: 4.29s\tremaining: 2.74s\n",
      "610:\tlearn: 14.0301898\ttotal: 4.3s\tremaining: 2.74s\n",
      "611:\tlearn: 14.0241226\ttotal: 4.3s\tremaining: 2.73s\n",
      "612:\tlearn: 14.0111765\ttotal: 4.31s\tremaining: 2.72s\n",
      "613:\tlearn: 13.9976952\ttotal: 4.32s\tremaining: 2.72s\n",
      "614:\tlearn: 13.9841053\ttotal: 4.33s\tremaining: 2.71s\n",
      "615:\tlearn: 13.9759448\ttotal: 4.34s\tremaining: 2.71s\n",
      "616:\tlearn: 13.9703715\ttotal: 4.34s\tremaining: 2.7s\n",
      "617:\tlearn: 13.9635963\ttotal: 4.35s\tremaining: 2.69s\n",
      "618:\tlearn: 13.9547081\ttotal: 4.36s\tremaining: 2.68s\n",
      "619:\tlearn: 13.9429994\ttotal: 4.36s\tremaining: 2.67s\n",
      "620:\tlearn: 13.9323272\ttotal: 4.37s\tremaining: 2.67s\n",
      "621:\tlearn: 13.9170320\ttotal: 4.38s\tremaining: 2.66s\n",
      "622:\tlearn: 13.8976527\ttotal: 4.38s\tremaining: 2.65s\n",
      "623:\tlearn: 13.8826455\ttotal: 4.39s\tremaining: 2.64s\n",
      "624:\tlearn: 13.8715458\ttotal: 4.39s\tremaining: 2.64s\n",
      "625:\tlearn: 13.8596860\ttotal: 4.4s\tremaining: 2.63s\n",
      "626:\tlearn: 13.8452301\ttotal: 4.41s\tremaining: 2.62s\n",
      "627:\tlearn: 13.8334735\ttotal: 4.41s\tremaining: 2.61s\n",
      "628:\tlearn: 13.8205978\ttotal: 4.42s\tremaining: 2.61s\n",
      "629:\tlearn: 13.8146375\ttotal: 4.42s\tremaining: 2.6s\n",
      "630:\tlearn: 13.8022126\ttotal: 4.43s\tremaining: 2.59s\n",
      "631:\tlearn: 13.7891344\ttotal: 4.44s\tremaining: 2.58s\n",
      "632:\tlearn: 13.7878910\ttotal: 4.44s\tremaining: 2.58s\n",
      "633:\tlearn: 13.7792273\ttotal: 4.45s\tremaining: 2.57s\n",
      "634:\tlearn: 13.7709518\ttotal: 4.46s\tremaining: 2.56s\n",
      "635:\tlearn: 13.7638196\ttotal: 4.46s\tremaining: 2.55s\n",
      "636:\tlearn: 13.7493946\ttotal: 4.47s\tremaining: 2.55s\n",
      "637:\tlearn: 13.7411413\ttotal: 4.47s\tremaining: 2.54s\n",
      "638:\tlearn: 13.7321975\ttotal: 4.48s\tremaining: 2.53s\n",
      "639:\tlearn: 13.7184205\ttotal: 4.49s\tremaining: 2.52s\n",
      "640:\tlearn: 13.7102235\ttotal: 4.49s\tremaining: 2.52s\n",
      "641:\tlearn: 13.6972518\ttotal: 4.5s\tremaining: 2.51s\n",
      "642:\tlearn: 13.6828193\ttotal: 4.5s\tremaining: 2.5s\n",
      "643:\tlearn: 13.6743260\ttotal: 4.51s\tremaining: 2.49s\n",
      "644:\tlearn: 13.6662796\ttotal: 4.51s\tremaining: 2.48s\n",
      "645:\tlearn: 13.6657614\ttotal: 4.52s\tremaining: 2.48s\n",
      "646:\tlearn: 13.6529023\ttotal: 4.53s\tremaining: 2.47s\n",
      "647:\tlearn: 13.6460519\ttotal: 4.53s\tremaining: 2.46s\n",
      "648:\tlearn: 13.6362951\ttotal: 4.54s\tremaining: 2.46s\n",
      "649:\tlearn: 13.6273263\ttotal: 4.55s\tremaining: 2.45s\n",
      "650:\tlearn: 13.6189273\ttotal: 4.55s\tremaining: 2.44s\n",
      "651:\tlearn: 13.6069104\ttotal: 4.56s\tremaining: 2.43s\n",
      "652:\tlearn: 13.5964459\ttotal: 4.56s\tremaining: 2.42s\n",
      "653:\tlearn: 13.5911659\ttotal: 4.57s\tremaining: 2.42s\n",
      "654:\tlearn: 13.5906601\ttotal: 4.58s\tremaining: 2.41s\n",
      "655:\tlearn: 13.5837440\ttotal: 4.58s\tremaining: 2.4s\n",
      "656:\tlearn: 13.5651421\ttotal: 4.59s\tremaining: 2.4s\n",
      "657:\tlearn: 13.5611490\ttotal: 4.6s\tremaining: 2.39s\n",
      "658:\tlearn: 13.5523741\ttotal: 4.6s\tremaining: 2.38s\n",
      "659:\tlearn: 13.5421631\ttotal: 4.61s\tremaining: 2.37s\n",
      "660:\tlearn: 13.5315275\ttotal: 4.62s\tremaining: 2.37s\n",
      "661:\tlearn: 13.5259082\ttotal: 4.62s\tremaining: 2.36s\n",
      "662:\tlearn: 13.5183012\ttotal: 4.63s\tremaining: 2.35s\n",
      "663:\tlearn: 13.5058827\ttotal: 4.63s\tremaining: 2.34s\n",
      "664:\tlearn: 13.4964880\ttotal: 4.64s\tremaining: 2.34s\n",
      "665:\tlearn: 13.4848599\ttotal: 4.64s\tremaining: 2.33s\n",
      "666:\tlearn: 13.4843645\ttotal: 4.65s\tremaining: 2.32s\n",
      "667:\tlearn: 13.4834979\ttotal: 4.66s\tremaining: 2.31s\n",
      "668:\tlearn: 13.4767199\ttotal: 4.66s\tremaining: 2.31s\n",
      "669:\tlearn: 13.4722459\ttotal: 4.67s\tremaining: 2.3s\n",
      "670:\tlearn: 13.4625967\ttotal: 4.67s\tremaining: 2.29s\n",
      "671:\tlearn: 13.4521474\ttotal: 4.68s\tremaining: 2.29s\n",
      "672:\tlearn: 13.4439214\ttotal: 4.69s\tremaining: 2.28s\n",
      "673:\tlearn: 13.4434411\ttotal: 4.69s\tremaining: 2.27s\n",
      "674:\tlearn: 13.4372391\ttotal: 4.7s\tremaining: 2.26s\n",
      "675:\tlearn: 13.4289977\ttotal: 4.71s\tremaining: 2.25s\n",
      "676:\tlearn: 13.4185183\ttotal: 4.71s\tremaining: 2.25s\n",
      "677:\tlearn: 13.4110820\ttotal: 4.72s\tremaining: 2.24s\n",
      "678:\tlearn: 13.4009835\ttotal: 4.72s\tremaining: 2.23s\n",
      "679:\tlearn: 13.3921882\ttotal: 4.73s\tremaining: 2.23s\n",
      "680:\tlearn: 13.3774896\ttotal: 4.74s\tremaining: 2.22s\n",
      "681:\tlearn: 13.3712413\ttotal: 4.74s\tremaining: 2.21s\n",
      "682:\tlearn: 13.3600809\ttotal: 4.75s\tremaining: 2.2s\n",
      "683:\tlearn: 13.3522630\ttotal: 4.75s\tremaining: 2.2s\n",
      "684:\tlearn: 13.3477642\ttotal: 4.76s\tremaining: 2.19s\n",
      "685:\tlearn: 13.3472935\ttotal: 4.77s\tremaining: 2.18s\n",
      "686:\tlearn: 13.3374305\ttotal: 4.77s\tremaining: 2.17s\n",
      "687:\tlearn: 13.3273101\ttotal: 4.78s\tremaining: 2.17s\n",
      "688:\tlearn: 13.3210877\ttotal: 4.79s\tremaining: 2.16s\n",
      "689:\tlearn: 13.3205902\ttotal: 4.79s\tremaining: 2.15s\n",
      "690:\tlearn: 13.3083563\ttotal: 4.8s\tremaining: 2.15s\n",
      "691:\tlearn: 13.2969543\ttotal: 4.8s\tremaining: 2.14s\n",
      "692:\tlearn: 13.2872387\ttotal: 4.81s\tremaining: 2.13s\n",
      "693:\tlearn: 13.2836220\ttotal: 4.82s\tremaining: 2.12s\n",
      "694:\tlearn: 13.2715892\ttotal: 4.82s\tremaining: 2.12s\n",
      "695:\tlearn: 13.2711607\ttotal: 4.83s\tremaining: 2.11s\n",
      "696:\tlearn: 13.2600484\ttotal: 4.83s\tremaining: 2.1s\n",
      "697:\tlearn: 13.2475159\ttotal: 4.84s\tremaining: 2.09s\n",
      "698:\tlearn: 13.2329012\ttotal: 4.85s\tremaining: 2.09s\n",
      "699:\tlearn: 13.2247175\ttotal: 4.86s\tremaining: 2.08s\n",
      "700:\tlearn: 13.2139595\ttotal: 4.86s\tremaining: 2.07s\n",
      "701:\tlearn: 13.2072075\ttotal: 4.87s\tremaining: 2.07s\n",
      "702:\tlearn: 13.1985976\ttotal: 4.87s\tremaining: 2.06s\n",
      "703:\tlearn: 13.1922487\ttotal: 4.88s\tremaining: 2.05s\n",
      "704:\tlearn: 13.1847068\ttotal: 4.89s\tremaining: 2.04s\n",
      "705:\tlearn: 13.1743411\ttotal: 4.89s\tremaining: 2.04s\n",
      "706:\tlearn: 13.1668428\ttotal: 4.9s\tremaining: 2.03s\n",
      "707:\tlearn: 13.1603588\ttotal: 4.91s\tremaining: 2.02s\n",
      "708:\tlearn: 13.1533318\ttotal: 4.91s\tremaining: 2.02s\n",
      "709:\tlearn: 13.1415994\ttotal: 4.92s\tremaining: 2.01s\n",
      "710:\tlearn: 13.1355288\ttotal: 4.92s\tremaining: 2s\n",
      "711:\tlearn: 13.1351104\ttotal: 4.93s\tremaining: 1.99s\n",
      "712:\tlearn: 13.1216368\ttotal: 4.93s\tremaining: 1.99s\n",
      "713:\tlearn: 13.1196872\ttotal: 4.94s\tremaining: 1.98s\n",
      "714:\tlearn: 13.1135052\ttotal: 4.95s\tremaining: 1.97s\n",
      "715:\tlearn: 13.1025660\ttotal: 4.95s\tremaining: 1.96s\n",
      "716:\tlearn: 13.0950897\ttotal: 4.96s\tremaining: 1.96s\n",
      "717:\tlearn: 13.0897527\ttotal: 4.97s\tremaining: 1.95s\n",
      "718:\tlearn: 13.0800998\ttotal: 4.97s\tremaining: 1.94s\n",
      "719:\tlearn: 13.0716134\ttotal: 4.98s\tremaining: 1.94s\n",
      "720:\tlearn: 13.0622109\ttotal: 4.99s\tremaining: 1.93s\n",
      "721:\tlearn: 13.0531768\ttotal: 4.99s\tremaining: 1.92s\n",
      "722:\tlearn: 13.0465696\ttotal: 5s\tremaining: 1.92s\n",
      "723:\tlearn: 13.0427102\ttotal: 5s\tremaining: 1.91s\n",
      "724:\tlearn: 13.0323251\ttotal: 5.01s\tremaining: 1.9s\n",
      "725:\tlearn: 13.0219615\ttotal: 5.02s\tremaining: 1.89s\n",
      "726:\tlearn: 13.0130940\ttotal: 5.02s\tremaining: 1.89s\n",
      "727:\tlearn: 13.0003743\ttotal: 5.03s\tremaining: 1.88s\n",
      "728:\tlearn: 12.9871255\ttotal: 5.04s\tremaining: 1.87s\n",
      "729:\tlearn: 12.9806131\ttotal: 5.04s\tremaining: 1.86s\n",
      "730:\tlearn: 12.9696476\ttotal: 5.05s\tremaining: 1.86s\n",
      "731:\tlearn: 12.9634577\ttotal: 5.05s\tremaining: 1.85s\n",
      "732:\tlearn: 12.9570522\ttotal: 5.06s\tremaining: 1.84s\n",
      "733:\tlearn: 12.9490460\ttotal: 5.07s\tremaining: 1.84s\n",
      "734:\tlearn: 12.9383999\ttotal: 5.07s\tremaining: 1.83s\n",
      "735:\tlearn: 12.9283167\ttotal: 5.08s\tremaining: 1.82s\n",
      "736:\tlearn: 12.9200107\ttotal: 5.09s\tremaining: 1.81s\n",
      "737:\tlearn: 12.9146575\ttotal: 5.1s\tremaining: 1.81s\n",
      "738:\tlearn: 12.9142176\ttotal: 5.1s\tremaining: 1.8s\n",
      "739:\tlearn: 12.9092015\ttotal: 5.11s\tremaining: 1.79s\n",
      "740:\tlearn: 12.9020803\ttotal: 5.12s\tremaining: 1.79s\n",
      "741:\tlearn: 12.8922799\ttotal: 5.12s\tremaining: 1.78s\n",
      "742:\tlearn: 12.8787671\ttotal: 5.13s\tremaining: 1.77s\n",
      "743:\tlearn: 12.8716947\ttotal: 5.14s\tremaining: 1.77s\n",
      "744:\tlearn: 12.8638963\ttotal: 5.15s\tremaining: 1.76s\n",
      "745:\tlearn: 12.8515956\ttotal: 5.16s\tremaining: 1.75s\n",
      "746:\tlearn: 12.8427500\ttotal: 5.16s\tremaining: 1.75s\n",
      "747:\tlearn: 12.8356786\ttotal: 5.17s\tremaining: 1.74s\n",
      "748:\tlearn: 12.8207305\ttotal: 5.18s\tremaining: 1.74s\n",
      "749:\tlearn: 12.8143004\ttotal: 5.18s\tremaining: 1.73s\n",
      "750:\tlearn: 12.8058950\ttotal: 5.2s\tremaining: 1.72s\n",
      "751:\tlearn: 12.7945110\ttotal: 5.21s\tremaining: 1.72s\n",
      "752:\tlearn: 12.7905009\ttotal: 5.22s\tremaining: 1.71s\n",
      "753:\tlearn: 12.7847697\ttotal: 5.23s\tremaining: 1.71s\n",
      "754:\tlearn: 12.7821146\ttotal: 5.24s\tremaining: 1.7s\n",
      "755:\tlearn: 12.7707386\ttotal: 5.25s\tremaining: 1.69s\n",
      "756:\tlearn: 12.7595557\ttotal: 5.26s\tremaining: 1.69s\n",
      "757:\tlearn: 12.7479087\ttotal: 5.27s\tremaining: 1.68s\n",
      "758:\tlearn: 12.7429684\ttotal: 5.28s\tremaining: 1.68s\n",
      "759:\tlearn: 12.7301841\ttotal: 5.28s\tremaining: 1.67s\n",
      "760:\tlearn: 12.7224252\ttotal: 5.29s\tremaining: 1.66s\n",
      "761:\tlearn: 12.7159315\ttotal: 5.3s\tremaining: 1.65s\n",
      "762:\tlearn: 12.7058640\ttotal: 5.3s\tremaining: 1.65s\n",
      "763:\tlearn: 12.6967276\ttotal: 5.31s\tremaining: 1.64s\n",
      "764:\tlearn: 12.6892593\ttotal: 5.32s\tremaining: 1.63s\n",
      "765:\tlearn: 12.6747181\ttotal: 5.32s\tremaining: 1.63s\n",
      "766:\tlearn: 12.6610039\ttotal: 5.33s\tremaining: 1.62s\n",
      "767:\tlearn: 12.6448993\ttotal: 5.33s\tremaining: 1.61s\n",
      "768:\tlearn: 12.6378796\ttotal: 5.34s\tremaining: 1.6s\n",
      "769:\tlearn: 12.6266943\ttotal: 5.35s\tremaining: 1.6s\n",
      "770:\tlearn: 12.6169446\ttotal: 5.35s\tremaining: 1.59s\n",
      "771:\tlearn: 12.6106934\ttotal: 5.36s\tremaining: 1.58s\n",
      "772:\tlearn: 12.6019972\ttotal: 5.37s\tremaining: 1.58s\n",
      "773:\tlearn: 12.5924734\ttotal: 5.37s\tremaining: 1.57s\n",
      "774:\tlearn: 12.5841404\ttotal: 5.38s\tremaining: 1.56s\n",
      "775:\tlearn: 12.5741848\ttotal: 5.38s\tremaining: 1.55s\n",
      "776:\tlearn: 12.5645974\ttotal: 5.39s\tremaining: 1.55s\n",
      "777:\tlearn: 12.5560268\ttotal: 5.4s\tremaining: 1.54s\n",
      "778:\tlearn: 12.5479170\ttotal: 5.41s\tremaining: 1.53s\n",
      "779:\tlearn: 12.5396911\ttotal: 5.42s\tremaining: 1.53s\n",
      "780:\tlearn: 12.5333555\ttotal: 5.43s\tremaining: 1.52s\n",
      "781:\tlearn: 12.5175474\ttotal: 5.44s\tremaining: 1.51s\n",
      "782:\tlearn: 12.5121068\ttotal: 5.45s\tremaining: 1.51s\n",
      "783:\tlearn: 12.5043240\ttotal: 5.46s\tremaining: 1.5s\n",
      "784:\tlearn: 12.4973045\ttotal: 5.46s\tremaining: 1.5s\n",
      "785:\tlearn: 12.4888380\ttotal: 5.47s\tremaining: 1.49s\n",
      "786:\tlearn: 12.4786795\ttotal: 5.48s\tremaining: 1.48s\n",
      "787:\tlearn: 12.4701468\ttotal: 5.48s\tremaining: 1.47s\n",
      "788:\tlearn: 12.4647469\ttotal: 5.49s\tremaining: 1.47s\n",
      "789:\tlearn: 12.4552339\ttotal: 5.49s\tremaining: 1.46s\n",
      "790:\tlearn: 12.4446784\ttotal: 5.5s\tremaining: 1.45s\n",
      "791:\tlearn: 12.4387704\ttotal: 5.51s\tremaining: 1.45s\n",
      "792:\tlearn: 12.4273887\ttotal: 5.51s\tremaining: 1.44s\n",
      "793:\tlearn: 12.4192806\ttotal: 5.52s\tremaining: 1.43s\n",
      "794:\tlearn: 12.4099217\ttotal: 5.53s\tremaining: 1.43s\n",
      "795:\tlearn: 12.3987661\ttotal: 5.53s\tremaining: 1.42s\n",
      "796:\tlearn: 12.3894412\ttotal: 5.54s\tremaining: 1.41s\n",
      "797:\tlearn: 12.3890541\ttotal: 5.55s\tremaining: 1.4s\n",
      "798:\tlearn: 12.3782994\ttotal: 5.55s\tremaining: 1.4s\n",
      "799:\tlearn: 12.3724921\ttotal: 5.56s\tremaining: 1.39s\n",
      "800:\tlearn: 12.3666454\ttotal: 5.57s\tremaining: 1.38s\n",
      "801:\tlearn: 12.3603543\ttotal: 5.58s\tremaining: 1.38s\n",
      "802:\tlearn: 12.3540341\ttotal: 5.58s\tremaining: 1.37s\n",
      "803:\tlearn: 12.3417686\ttotal: 5.59s\tremaining: 1.36s\n",
      "804:\tlearn: 12.3363907\ttotal: 5.59s\tremaining: 1.35s\n",
      "805:\tlearn: 12.3286663\ttotal: 5.6s\tremaining: 1.35s\n",
      "806:\tlearn: 12.3185916\ttotal: 5.61s\tremaining: 1.34s\n",
      "807:\tlearn: 12.3062539\ttotal: 5.62s\tremaining: 1.33s\n",
      "808:\tlearn: 12.3000293\ttotal: 5.62s\tremaining: 1.33s\n",
      "809:\tlearn: 12.2891814\ttotal: 5.63s\tremaining: 1.32s\n",
      "810:\tlearn: 12.2802251\ttotal: 5.64s\tremaining: 1.31s\n",
      "811:\tlearn: 12.2736167\ttotal: 5.64s\tremaining: 1.31s\n",
      "812:\tlearn: 12.2642990\ttotal: 5.65s\tremaining: 1.3s\n",
      "813:\tlearn: 12.2600196\ttotal: 5.66s\tremaining: 1.29s\n",
      "814:\tlearn: 12.2522991\ttotal: 5.66s\tremaining: 1.28s\n",
      "815:\tlearn: 12.2489397\ttotal: 5.67s\tremaining: 1.28s\n",
      "816:\tlearn: 12.2409581\ttotal: 5.67s\tremaining: 1.27s\n",
      "817:\tlearn: 12.2330011\ttotal: 5.68s\tremaining: 1.26s\n",
      "818:\tlearn: 12.2244855\ttotal: 5.69s\tremaining: 1.26s\n",
      "819:\tlearn: 12.2195133\ttotal: 5.69s\tremaining: 1.25s\n",
      "820:\tlearn: 12.2040689\ttotal: 5.7s\tremaining: 1.24s\n",
      "821:\tlearn: 12.1952857\ttotal: 5.71s\tremaining: 1.24s\n",
      "822:\tlearn: 12.1948948\ttotal: 5.71s\tremaining: 1.23s\n",
      "823:\tlearn: 12.1882166\ttotal: 5.72s\tremaining: 1.22s\n",
      "824:\tlearn: 12.1798054\ttotal: 5.73s\tremaining: 1.21s\n",
      "825:\tlearn: 12.1692329\ttotal: 5.73s\tremaining: 1.21s\n",
      "826:\tlearn: 12.1615020\ttotal: 5.74s\tremaining: 1.2s\n",
      "827:\tlearn: 12.1516727\ttotal: 5.75s\tremaining: 1.19s\n",
      "828:\tlearn: 12.1438659\ttotal: 5.75s\tremaining: 1.19s\n",
      "829:\tlearn: 12.1344282\ttotal: 5.76s\tremaining: 1.18s\n",
      "830:\tlearn: 12.1285532\ttotal: 5.76s\tremaining: 1.17s\n",
      "831:\tlearn: 12.1184909\ttotal: 5.77s\tremaining: 1.17s\n",
      "832:\tlearn: 12.1156797\ttotal: 5.78s\tremaining: 1.16s\n",
      "833:\tlearn: 12.1035130\ttotal: 5.78s\tremaining: 1.15s\n",
      "834:\tlearn: 12.0933341\ttotal: 5.79s\tremaining: 1.14s\n",
      "835:\tlearn: 12.0816344\ttotal: 5.79s\tremaining: 1.14s\n",
      "836:\tlearn: 12.0712497\ttotal: 5.8s\tremaining: 1.13s\n",
      "837:\tlearn: 12.0677046\ttotal: 5.81s\tremaining: 1.12s\n",
      "838:\tlearn: 12.0552972\ttotal: 5.81s\tremaining: 1.11s\n",
      "839:\tlearn: 12.0419404\ttotal: 5.82s\tremaining: 1.11s\n",
      "840:\tlearn: 12.0340324\ttotal: 5.83s\tremaining: 1.1s\n",
      "841:\tlearn: 12.0280670\ttotal: 5.83s\tremaining: 1.09s\n",
      "842:\tlearn: 12.0212284\ttotal: 5.84s\tremaining: 1.09s\n",
      "843:\tlearn: 12.0148173\ttotal: 5.84s\tremaining: 1.08s\n",
      "844:\tlearn: 12.0092275\ttotal: 5.85s\tremaining: 1.07s\n",
      "845:\tlearn: 11.9973041\ttotal: 5.86s\tremaining: 1.07s\n",
      "846:\tlearn: 11.9941009\ttotal: 5.86s\tremaining: 1.06s\n",
      "847:\tlearn: 11.9854005\ttotal: 5.87s\tremaining: 1.05s\n",
      "848:\tlearn: 11.9773373\ttotal: 5.87s\tremaining: 1.04s\n",
      "849:\tlearn: 11.9738604\ttotal: 5.88s\tremaining: 1.04s\n",
      "850:\tlearn: 11.9707186\ttotal: 5.89s\tremaining: 1.03s\n",
      "851:\tlearn: 11.9633674\ttotal: 5.89s\tremaining: 1.02s\n",
      "852:\tlearn: 11.9582930\ttotal: 5.9s\tremaining: 1.02s\n",
      "853:\tlearn: 11.9499921\ttotal: 5.91s\tremaining: 1.01s\n",
      "854:\tlearn: 11.9338709\ttotal: 5.91s\tremaining: 1s\n",
      "855:\tlearn: 11.9282850\ttotal: 5.92s\tremaining: 995ms\n",
      "856:\tlearn: 11.9216494\ttotal: 5.92s\tremaining: 988ms\n",
      "857:\tlearn: 11.9114837\ttotal: 5.93s\tremaining: 981ms\n",
      "858:\tlearn: 11.9030026\ttotal: 5.93s\tremaining: 974ms\n",
      "859:\tlearn: 11.8965339\ttotal: 5.94s\tremaining: 967ms\n",
      "860:\tlearn: 11.8961051\ttotal: 5.95s\tremaining: 960ms\n",
      "861:\tlearn: 11.8890743\ttotal: 5.95s\tremaining: 953ms\n",
      "862:\tlearn: 11.8843879\ttotal: 5.96s\tremaining: 946ms\n",
      "863:\tlearn: 11.8840323\ttotal: 5.97s\tremaining: 939ms\n",
      "864:\tlearn: 11.8767693\ttotal: 5.97s\tremaining: 932ms\n",
      "865:\tlearn: 11.8653947\ttotal: 5.98s\tremaining: 925ms\n",
      "866:\tlearn: 11.8579314\ttotal: 5.99s\tremaining: 918ms\n",
      "867:\tlearn: 11.8507809\ttotal: 5.99s\tremaining: 911ms\n",
      "868:\tlearn: 11.8437190\ttotal: 6s\tremaining: 904ms\n",
      "869:\tlearn: 11.8363443\ttotal: 6.01s\tremaining: 898ms\n",
      "870:\tlearn: 11.8282623\ttotal: 6.01s\tremaining: 891ms\n",
      "871:\tlearn: 11.8184978\ttotal: 6.02s\tremaining: 884ms\n",
      "872:\tlearn: 11.8085426\ttotal: 6.03s\tremaining: 877ms\n",
      "873:\tlearn: 11.7988970\ttotal: 6.03s\tremaining: 870ms\n",
      "874:\tlearn: 11.7949568\ttotal: 6.04s\tremaining: 863ms\n",
      "875:\tlearn: 11.7880199\ttotal: 6.05s\tremaining: 856ms\n",
      "876:\tlearn: 11.7777158\ttotal: 6.06s\tremaining: 850ms\n",
      "877:\tlearn: 11.7773731\ttotal: 6.07s\tremaining: 843ms\n",
      "878:\tlearn: 11.7668838\ttotal: 6.07s\tremaining: 836ms\n",
      "879:\tlearn: 11.7584203\ttotal: 6.08s\tremaining: 829ms\n",
      "880:\tlearn: 11.7523575\ttotal: 6.09s\tremaining: 822ms\n",
      "881:\tlearn: 11.7442014\ttotal: 6.09s\tremaining: 815ms\n",
      "882:\tlearn: 11.7361306\ttotal: 6.1s\tremaining: 808ms\n",
      "883:\tlearn: 11.7306506\ttotal: 6.11s\tremaining: 801ms\n",
      "884:\tlearn: 11.7224792\ttotal: 6.11s\tremaining: 794ms\n",
      "885:\tlearn: 11.7149985\ttotal: 6.12s\tremaining: 787ms\n",
      "886:\tlearn: 11.7069762\ttotal: 6.13s\tremaining: 780ms\n",
      "887:\tlearn: 11.6959531\ttotal: 6.13s\tremaining: 773ms\n",
      "888:\tlearn: 11.6818337\ttotal: 6.14s\tremaining: 766ms\n",
      "889:\tlearn: 11.6793377\ttotal: 6.14s\tremaining: 760ms\n",
      "890:\tlearn: 11.6739597\ttotal: 6.15s\tremaining: 753ms\n",
      "891:\tlearn: 11.6632435\ttotal: 6.16s\tremaining: 746ms\n",
      "892:\tlearn: 11.6508196\ttotal: 6.16s\tremaining: 739ms\n",
      "893:\tlearn: 11.6504780\ttotal: 6.17s\tremaining: 732ms\n",
      "894:\tlearn: 11.6411255\ttotal: 6.17s\tremaining: 724ms\n",
      "895:\tlearn: 11.6366817\ttotal: 6.18s\tremaining: 717ms\n",
      "896:\tlearn: 11.6277423\ttotal: 6.19s\tremaining: 710ms\n",
      "897:\tlearn: 11.6187843\ttotal: 6.19s\tremaining: 704ms\n",
      "898:\tlearn: 11.6118142\ttotal: 6.2s\tremaining: 697ms\n",
      "899:\tlearn: 11.6068958\ttotal: 6.21s\tremaining: 690ms\n",
      "900:\tlearn: 11.6037294\ttotal: 6.21s\tremaining: 683ms\n",
      "901:\tlearn: 11.6034030\ttotal: 6.22s\tremaining: 676ms\n",
      "902:\tlearn: 11.5939285\ttotal: 6.23s\tremaining: 669ms\n",
      "903:\tlearn: 11.5860898\ttotal: 6.23s\tremaining: 662ms\n",
      "904:\tlearn: 11.5801475\ttotal: 6.24s\tremaining: 655ms\n",
      "905:\tlearn: 11.5694433\ttotal: 6.25s\tremaining: 648ms\n",
      "906:\tlearn: 11.5614182\ttotal: 6.25s\tremaining: 641ms\n",
      "907:\tlearn: 11.5611054\ttotal: 6.26s\tremaining: 634ms\n",
      "908:\tlearn: 11.5571193\ttotal: 6.27s\tremaining: 627ms\n",
      "909:\tlearn: 11.5535112\ttotal: 6.27s\tremaining: 620ms\n",
      "910:\tlearn: 11.5465369\ttotal: 6.28s\tremaining: 613ms\n",
      "911:\tlearn: 11.5394163\ttotal: 6.29s\tremaining: 607ms\n",
      "912:\tlearn: 11.5322176\ttotal: 6.29s\tremaining: 600ms\n",
      "913:\tlearn: 11.5234160\ttotal: 6.3s\tremaining: 593ms\n",
      "914:\tlearn: 11.5145307\ttotal: 6.3s\tremaining: 586ms\n",
      "915:\tlearn: 11.5106387\ttotal: 6.31s\tremaining: 579ms\n",
      "916:\tlearn: 11.5056925\ttotal: 6.32s\tremaining: 572ms\n",
      "917:\tlearn: 11.4987906\ttotal: 6.32s\tremaining: 565ms\n",
      "918:\tlearn: 11.4924362\ttotal: 6.33s\tremaining: 558ms\n",
      "919:\tlearn: 11.4910338\ttotal: 6.34s\tremaining: 551ms\n",
      "920:\tlearn: 11.4819657\ttotal: 6.34s\tremaining: 544ms\n",
      "921:\tlearn: 11.4742322\ttotal: 6.35s\tremaining: 537ms\n",
      "922:\tlearn: 11.4670144\ttotal: 6.36s\tremaining: 530ms\n",
      "923:\tlearn: 11.4603718\ttotal: 6.36s\tremaining: 523ms\n",
      "924:\tlearn: 11.4540134\ttotal: 6.37s\tremaining: 516ms\n",
      "925:\tlearn: 11.4449952\ttotal: 6.38s\tremaining: 509ms\n",
      "926:\tlearn: 11.4378306\ttotal: 6.38s\tremaining: 503ms\n",
      "927:\tlearn: 11.4306167\ttotal: 6.39s\tremaining: 496ms\n",
      "928:\tlearn: 11.4185658\ttotal: 6.39s\tremaining: 489ms\n",
      "929:\tlearn: 11.4123666\ttotal: 6.4s\tremaining: 482ms\n",
      "930:\tlearn: 11.4039306\ttotal: 6.41s\tremaining: 475ms\n",
      "931:\tlearn: 11.3921872\ttotal: 6.41s\tremaining: 468ms\n",
      "932:\tlearn: 11.3867778\ttotal: 6.42s\tremaining: 461ms\n",
      "933:\tlearn: 11.3760392\ttotal: 6.42s\tremaining: 454ms\n",
      "934:\tlearn: 11.3709566\ttotal: 6.43s\tremaining: 447ms\n",
      "935:\tlearn: 11.3641015\ttotal: 6.44s\tremaining: 440ms\n",
      "936:\tlearn: 11.3566965\ttotal: 6.44s\tremaining: 433ms\n",
      "937:\tlearn: 11.3483422\ttotal: 6.45s\tremaining: 426ms\n",
      "938:\tlearn: 11.3421884\ttotal: 6.45s\tremaining: 419ms\n",
      "939:\tlearn: 11.3340956\ttotal: 6.46s\tremaining: 412ms\n",
      "940:\tlearn: 11.3266745\ttotal: 6.47s\tremaining: 406ms\n",
      "941:\tlearn: 11.3189376\ttotal: 6.47s\tremaining: 399ms\n",
      "942:\tlearn: 11.3146402\ttotal: 6.48s\tremaining: 392ms\n",
      "943:\tlearn: 11.3077995\ttotal: 6.49s\tremaining: 385ms\n",
      "944:\tlearn: 11.3006261\ttotal: 6.49s\tremaining: 378ms\n",
      "945:\tlearn: 11.2983130\ttotal: 6.5s\tremaining: 371ms\n",
      "946:\tlearn: 11.2895711\ttotal: 6.5s\tremaining: 364ms\n",
      "947:\tlearn: 11.2831193\ttotal: 6.51s\tremaining: 357ms\n",
      "948:\tlearn: 11.2765890\ttotal: 6.52s\tremaining: 350ms\n",
      "949:\tlearn: 11.2686328\ttotal: 6.52s\tremaining: 343ms\n",
      "950:\tlearn: 11.2602528\ttotal: 6.53s\tremaining: 336ms\n",
      "951:\tlearn: 11.2532328\ttotal: 6.54s\tremaining: 330ms\n",
      "952:\tlearn: 11.2465005\ttotal: 6.54s\tremaining: 323ms\n",
      "953:\tlearn: 11.2462313\ttotal: 6.55s\tremaining: 316ms\n",
      "954:\tlearn: 11.2323381\ttotal: 6.55s\tremaining: 309ms\n",
      "955:\tlearn: 11.2215858\ttotal: 6.56s\tremaining: 302ms\n",
      "956:\tlearn: 11.2212960\ttotal: 6.57s\tremaining: 295ms\n",
      "957:\tlearn: 11.2156717\ttotal: 6.57s\tremaining: 288ms\n",
      "958:\tlearn: 11.2087598\ttotal: 6.58s\tremaining: 281ms\n",
      "959:\tlearn: 11.1954914\ttotal: 6.58s\tremaining: 274ms\n",
      "960:\tlearn: 11.1889127\ttotal: 6.59s\tremaining: 268ms\n",
      "961:\tlearn: 11.1814466\ttotal: 6.6s\tremaining: 261ms\n",
      "962:\tlearn: 11.1776433\ttotal: 6.6s\tremaining: 254ms\n",
      "963:\tlearn: 11.1735116\ttotal: 6.61s\tremaining: 247ms\n",
      "964:\tlearn: 11.1651876\ttotal: 6.62s\tremaining: 240ms\n",
      "965:\tlearn: 11.1545077\ttotal: 6.62s\tremaining: 233ms\n",
      "966:\tlearn: 11.1493259\ttotal: 6.63s\tremaining: 226ms\n",
      "967:\tlearn: 11.1390369\ttotal: 6.64s\tremaining: 219ms\n",
      "968:\tlearn: 11.1308191\ttotal: 6.64s\tremaining: 213ms\n",
      "969:\tlearn: 11.1246483\ttotal: 6.65s\tremaining: 206ms\n",
      "970:\tlearn: 11.1186901\ttotal: 6.66s\tremaining: 199ms\n",
      "971:\tlearn: 11.1169045\ttotal: 6.66s\tremaining: 192ms\n",
      "972:\tlearn: 11.1109607\ttotal: 6.67s\tremaining: 185ms\n",
      "973:\tlearn: 11.1050522\ttotal: 6.67s\tremaining: 178ms\n",
      "974:\tlearn: 11.1047737\ttotal: 6.68s\tremaining: 171ms\n",
      "975:\tlearn: 11.0967596\ttotal: 6.69s\tremaining: 164ms\n",
      "976:\tlearn: 11.0913855\ttotal: 6.69s\tremaining: 158ms\n",
      "977:\tlearn: 11.0821004\ttotal: 6.7s\tremaining: 151ms\n",
      "978:\tlearn: 11.0760953\ttotal: 6.71s\tremaining: 144ms\n",
      "979:\tlearn: 11.0700361\ttotal: 6.71s\tremaining: 137ms\n",
      "980:\tlearn: 11.0644917\ttotal: 6.72s\tremaining: 130ms\n",
      "981:\tlearn: 11.0595918\ttotal: 6.73s\tremaining: 123ms\n",
      "982:\tlearn: 11.0553017\ttotal: 6.74s\tremaining: 116ms\n",
      "983:\tlearn: 11.0539848\ttotal: 6.74s\tremaining: 110ms\n",
      "984:\tlearn: 11.0436300\ttotal: 6.75s\tremaining: 103ms\n",
      "985:\tlearn: 11.0312532\ttotal: 6.75s\tremaining: 95.9ms\n",
      "986:\tlearn: 11.0307752\ttotal: 6.76s\tremaining: 89ms\n",
      "987:\tlearn: 11.0211041\ttotal: 6.77s\tremaining: 82.2ms\n",
      "988:\tlearn: 11.0126553\ttotal: 6.78s\tremaining: 75.4ms\n",
      "989:\tlearn: 11.0048477\ttotal: 6.78s\tremaining: 68.5ms\n",
      "990:\tlearn: 10.9986799\ttotal: 6.79s\tremaining: 61.7ms\n",
      "991:\tlearn: 10.9983722\ttotal: 6.79s\tremaining: 54.8ms\n",
      "992:\tlearn: 10.9944607\ttotal: 6.8s\tremaining: 47.9ms\n",
      "993:\tlearn: 10.9880872\ttotal: 6.81s\tremaining: 41.1ms\n",
      "994:\tlearn: 10.9840309\ttotal: 6.81s\tremaining: 34.2ms\n",
      "995:\tlearn: 10.9751925\ttotal: 6.82s\tremaining: 27.4ms\n",
      "996:\tlearn: 10.9669976\ttotal: 6.83s\tremaining: 20.5ms\n",
      "997:\tlearn: 10.9616474\ttotal: 6.83s\tremaining: 13.7ms\n",
      "998:\tlearn: 10.9529664\ttotal: 6.84s\tremaining: 6.85ms\n",
      "999:\tlearn: 10.9473059\ttotal: 6.85s\tremaining: 0us\n"
     ]
    }
   ],
   "source": [
    "# initialize data\n",
    "train_data = train.drop(columns=['num_orders'])\n",
    "train_label = train['num_orders']\n",
    "\n",
    "test_data = test.drop(columns=['num_orders'])\n",
    "\n",
    "# initialize Pool\n",
    "train_pool = Pool(train_data, \n",
    "                  train_label)\n",
    "test_pool = Pool(test_data) \n",
    "\n",
    "# specify the training parameters \n",
    "CatBR = CatBoostRegressor()\n",
    "#train the model\n",
    "CatBR.fit(train_pool)\n",
    "# make the prediction using the resulting model\n",
    "cat_preds = CatBR.predict(test_pool)"
   ]
  },
  {
   "cell_type": "code",
   "execution_count": 52,
   "metadata": {},
   "outputs": [
    {
     "data": {
      "text/plain": [
       "40.690603741077865"
      ]
     },
     "execution_count": 52,
     "metadata": {},
     "output_type": "execute_result"
    }
   ],
   "source": [
    "mean_squared_error(test['num_orders'], cat_preds, squared=False)"
   ]
  },
  {
   "cell_type": "markdown",
   "metadata": {},
   "source": [
    "#### с обновленными признаками"
   ]
  },
  {
   "cell_type": "code",
   "execution_count": 39,
   "metadata": {},
   "outputs": [],
   "source": [
    "train, test = features_for_model(lag=49, rolling_window=32)"
   ]
  },
  {
   "cell_type": "code",
   "execution_count": 40,
   "metadata": {},
   "outputs": [
    {
     "name": "stdout",
     "output_type": "stream",
     "text": [
      "Learning rate set to 0.050817\n",
      "0:\tlearn: 37.7620629\ttotal: 63.2ms\tremaining: 1m 3s\n",
      "1:\tlearn: 36.9176859\ttotal: 74.2ms\tremaining: 37s\n",
      "2:\tlearn: 36.0611111\ttotal: 85.4ms\tremaining: 28.4s\n",
      "3:\tlearn: 35.2734929\ttotal: 97ms\tremaining: 24.2s\n",
      "4:\tlearn: 34.5223601\ttotal: 108ms\tremaining: 21.5s\n",
      "5:\tlearn: 33.8896406\ttotal: 119ms\tremaining: 19.7s\n",
      "6:\tlearn: 33.2246175\ttotal: 130ms\tremaining: 18.5s\n",
      "7:\tlearn: 32.6243981\ttotal: 142ms\tremaining: 17.6s\n",
      "8:\tlearn: 32.0507510\ttotal: 154ms\tremaining: 16.9s\n",
      "9:\tlearn: 31.4642795\ttotal: 165ms\tremaining: 16.3s\n",
      "10:\tlearn: 30.9514335\ttotal: 177ms\tremaining: 15.9s\n",
      "11:\tlearn: 30.4334493\ttotal: 187ms\tremaining: 15.4s\n",
      "12:\tlearn: 29.9593392\ttotal: 201ms\tremaining: 15.3s\n",
      "13:\tlearn: 29.5512041\ttotal: 222ms\tremaining: 15.6s\n",
      "14:\tlearn: 29.1410479\ttotal: 233ms\tremaining: 15.3s\n",
      "15:\tlearn: 28.7848571\ttotal: 245ms\tremaining: 15.1s\n",
      "16:\tlearn: 28.4378976\ttotal: 256ms\tremaining: 14.8s\n",
      "17:\tlearn: 28.1011062\ttotal: 267ms\tremaining: 14.6s\n",
      "18:\tlearn: 27.7641157\ttotal: 280ms\tremaining: 14.5s\n",
      "19:\tlearn: 27.4841235\ttotal: 292ms\tremaining: 14.3s\n",
      "20:\tlearn: 27.2043743\ttotal: 304ms\tremaining: 14.2s\n",
      "21:\tlearn: 26.9592244\ttotal: 315ms\tremaining: 14s\n",
      "22:\tlearn: 26.7127468\ttotal: 326ms\tremaining: 13.8s\n",
      "23:\tlearn: 26.4938652\ttotal: 337ms\tremaining: 13.7s\n",
      "24:\tlearn: 26.2618126\ttotal: 352ms\tremaining: 13.7s\n",
      "25:\tlearn: 26.0554624\ttotal: 364ms\tremaining: 13.6s\n",
      "26:\tlearn: 25.8509565\ttotal: 375ms\tremaining: 13.5s\n",
      "27:\tlearn: 25.6769473\ttotal: 386ms\tremaining: 13.4s\n",
      "28:\tlearn: 25.4921858\ttotal: 398ms\tremaining: 13.3s\n",
      "29:\tlearn: 25.3206906\ttotal: 412ms\tremaining: 13.3s\n",
      "30:\tlearn: 25.1719867\ttotal: 425ms\tremaining: 13.3s\n",
      "31:\tlearn: 25.0311344\ttotal: 437ms\tremaining: 13.2s\n",
      "32:\tlearn: 24.8843702\ttotal: 450ms\tremaining: 13.2s\n",
      "33:\tlearn: 24.7477443\ttotal: 462ms\tremaining: 13.1s\n",
      "34:\tlearn: 24.6129659\ttotal: 473ms\tremaining: 13.1s\n",
      "35:\tlearn: 24.4930021\ttotal: 484ms\tremaining: 13s\n",
      "36:\tlearn: 24.3705104\ttotal: 495ms\tremaining: 12.9s\n",
      "37:\tlearn: 24.2771669\ttotal: 506ms\tremaining: 12.8s\n",
      "38:\tlearn: 24.1592605\ttotal: 518ms\tremaining: 12.8s\n",
      "39:\tlearn: 24.0502938\ttotal: 529ms\tremaining: 12.7s\n",
      "40:\tlearn: 23.9538892\ttotal: 544ms\tremaining: 12.7s\n",
      "41:\tlearn: 23.8556119\ttotal: 555ms\tremaining: 12.7s\n",
      "42:\tlearn: 23.7680600\ttotal: 566ms\tremaining: 12.6s\n",
      "43:\tlearn: 23.6934690\ttotal: 577ms\tremaining: 12.5s\n",
      "44:\tlearn: 23.6220401\ttotal: 588ms\tremaining: 12.5s\n",
      "45:\tlearn: 23.5393722\ttotal: 599ms\tremaining: 12.4s\n",
      "46:\tlearn: 23.4521380\ttotal: 611ms\tremaining: 12.4s\n",
      "47:\tlearn: 23.3729664\ttotal: 622ms\tremaining: 12.3s\n",
      "48:\tlearn: 23.2987756\ttotal: 634ms\tremaining: 12.3s\n",
      "49:\tlearn: 23.2254620\ttotal: 646ms\tremaining: 12.3s\n",
      "50:\tlearn: 23.1547801\ttotal: 659ms\tremaining: 12.3s\n",
      "51:\tlearn: 23.1019784\ttotal: 675ms\tremaining: 12.3s\n",
      "52:\tlearn: 23.0347436\ttotal: 688ms\tremaining: 12.3s\n",
      "53:\tlearn: 22.9755293\ttotal: 700ms\tremaining: 12.3s\n",
      "54:\tlearn: 22.9205452\ttotal: 712ms\tremaining: 12.2s\n",
      "55:\tlearn: 22.8495413\ttotal: 723ms\tremaining: 12.2s\n",
      "56:\tlearn: 22.7872788\ttotal: 738ms\tremaining: 12.2s\n",
      "57:\tlearn: 22.7349884\ttotal: 749ms\tremaining: 12.2s\n",
      "58:\tlearn: 22.6723045\ttotal: 761ms\tremaining: 12.1s\n",
      "59:\tlearn: 22.6279871\ttotal: 773ms\tremaining: 12.1s\n",
      "60:\tlearn: 22.5824978\ttotal: 787ms\tremaining: 12.1s\n",
      "61:\tlearn: 22.5197430\ttotal: 800ms\tremaining: 12.1s\n",
      "62:\tlearn: 22.4675921\ttotal: 813ms\tremaining: 12.1s\n",
      "63:\tlearn: 22.4089642\ttotal: 827ms\tremaining: 12.1s\n",
      "64:\tlearn: 22.3582580\ttotal: 838ms\tremaining: 12.1s\n",
      "65:\tlearn: 22.3020022\ttotal: 850ms\tremaining: 12s\n",
      "66:\tlearn: 22.2931340\ttotal: 862ms\tremaining: 12s\n",
      "67:\tlearn: 22.2582390\ttotal: 876ms\tremaining: 12s\n",
      "68:\tlearn: 22.2174182\ttotal: 888ms\tremaining: 12s\n",
      "69:\tlearn: 22.2094462\ttotal: 901ms\tremaining: 12s\n",
      "70:\tlearn: 22.1900328\ttotal: 913ms\tremaining: 11.9s\n",
      "71:\tlearn: 22.1435903\ttotal: 928ms\tremaining: 12s\n",
      "72:\tlearn: 22.1170519\ttotal: 940ms\tremaining: 11.9s\n",
      "73:\tlearn: 22.0592936\ttotal: 953ms\tremaining: 11.9s\n",
      "74:\tlearn: 22.0094667\ttotal: 965ms\tremaining: 11.9s\n",
      "75:\tlearn: 21.9671046\ttotal: 976ms\tremaining: 11.9s\n",
      "76:\tlearn: 21.9356543\ttotal: 988ms\tremaining: 11.8s\n",
      "77:\tlearn: 21.9007680\ttotal: 999ms\tremaining: 11.8s\n",
      "78:\tlearn: 21.8745255\ttotal: 1.01s\tremaining: 11.8s\n",
      "79:\tlearn: 21.8332212\ttotal: 1.02s\tremaining: 11.8s\n",
      "80:\tlearn: 21.8004691\ttotal: 1.03s\tremaining: 11.7s\n",
      "81:\tlearn: 21.7549598\ttotal: 1.04s\tremaining: 11.7s\n",
      "82:\tlearn: 21.7254048\ttotal: 1.05s\tremaining: 11.7s\n",
      "83:\tlearn: 21.7012536\ttotal: 1.06s\tremaining: 11.6s\n",
      "84:\tlearn: 21.6928403\ttotal: 1.08s\tremaining: 11.6s\n",
      "85:\tlearn: 21.6854261\ttotal: 1.09s\tremaining: 11.6s\n",
      "86:\tlearn: 21.6455074\ttotal: 1.1s\tremaining: 11.6s\n",
      "87:\tlearn: 21.6089601\ttotal: 1.11s\tremaining: 11.5s\n",
      "88:\tlearn: 21.5910090\ttotal: 1.13s\tremaining: 11.5s\n",
      "89:\tlearn: 21.5553163\ttotal: 1.14s\tremaining: 11.5s\n",
      "90:\tlearn: 21.5485840\ttotal: 1.15s\tremaining: 11.5s\n",
      "91:\tlearn: 21.5194474\ttotal: 1.16s\tremaining: 11.4s\n",
      "92:\tlearn: 21.5150346\ttotal: 1.18s\tremaining: 11.5s\n",
      "93:\tlearn: 21.4881745\ttotal: 1.19s\tremaining: 11.4s\n",
      "94:\tlearn: 21.4509278\ttotal: 1.2s\tremaining: 11.4s\n",
      "95:\tlearn: 21.4190447\ttotal: 1.21s\tremaining: 11.4s\n",
      "96:\tlearn: 21.4126803\ttotal: 1.22s\tremaining: 11.4s\n",
      "97:\tlearn: 21.4060742\ttotal: 1.23s\tremaining: 11.3s\n",
      "98:\tlearn: 21.3646561\ttotal: 1.24s\tremaining: 11.3s\n",
      "99:\tlearn: 21.3611873\ttotal: 1.26s\tremaining: 11.3s\n",
      "100:\tlearn: 21.3456242\ttotal: 1.27s\tremaining: 11.3s\n",
      "101:\tlearn: 21.3237049\ttotal: 1.28s\tremaining: 11.3s\n",
      "102:\tlearn: 21.3181955\ttotal: 1.29s\tremaining: 11.2s\n",
      "103:\tlearn: 21.3127373\ttotal: 1.3s\tremaining: 11.2s\n",
      "104:\tlearn: 21.3093938\ttotal: 1.31s\tremaining: 11.2s\n",
      "105:\tlearn: 21.3027955\ttotal: 1.32s\tremaining: 11.2s\n",
      "106:\tlearn: 21.2746708\ttotal: 1.34s\tremaining: 11.2s\n",
      "107:\tlearn: 21.2629213\ttotal: 1.35s\tremaining: 11.1s\n",
      "108:\tlearn: 21.2586785\ttotal: 1.36s\tremaining: 11.1s\n",
      "109:\tlearn: 21.2490462\ttotal: 1.37s\tremaining: 11.1s\n",
      "110:\tlearn: 21.2430927\ttotal: 1.38s\tremaining: 11.1s\n",
      "111:\tlearn: 21.2349930\ttotal: 1.4s\tremaining: 11.1s\n",
      "112:\tlearn: 21.2317452\ttotal: 1.41s\tremaining: 11.1s\n",
      "113:\tlearn: 21.1928694\ttotal: 1.42s\tremaining: 11.1s\n",
      "114:\tlearn: 21.1619913\ttotal: 1.44s\tremaining: 11.1s\n",
      "115:\tlearn: 21.1580300\ttotal: 1.45s\tremaining: 11.1s\n",
      "116:\tlearn: 21.1301998\ttotal: 1.46s\tremaining: 11s\n",
      "117:\tlearn: 21.1028470\ttotal: 1.48s\tremaining: 11s\n",
      "118:\tlearn: 21.0593447\ttotal: 1.49s\tremaining: 11s\n",
      "119:\tlearn: 21.0424087\ttotal: 1.5s\tremaining: 11s\n",
      "120:\tlearn: 21.0355077\ttotal: 1.51s\tremaining: 11s\n",
      "121:\tlearn: 21.0111094\ttotal: 1.52s\tremaining: 11s\n",
      "122:\tlearn: 20.9901226\ttotal: 1.53s\tremaining: 10.9s\n",
      "123:\tlearn: 20.9504165\ttotal: 1.55s\tremaining: 10.9s\n",
      "124:\tlearn: 20.9242110\ttotal: 1.56s\tremaining: 10.9s\n",
      "125:\tlearn: 20.9069931\ttotal: 1.57s\tremaining: 10.9s\n",
      "126:\tlearn: 20.8870084\ttotal: 1.58s\tremaining: 10.9s\n",
      "127:\tlearn: 20.8666660\ttotal: 1.59s\tremaining: 10.9s\n",
      "128:\tlearn: 20.8402675\ttotal: 1.6s\tremaining: 10.8s\n",
      "129:\tlearn: 20.8149286\ttotal: 1.61s\tremaining: 10.8s\n",
      "130:\tlearn: 20.8002238\ttotal: 1.63s\tremaining: 10.8s\n",
      "131:\tlearn: 20.7958874\ttotal: 1.64s\tremaining: 10.8s\n",
      "132:\tlearn: 20.7506512\ttotal: 1.65s\tremaining: 10.7s\n",
      "133:\tlearn: 20.7244991\ttotal: 1.66s\tremaining: 10.7s\n",
      "134:\tlearn: 20.6916931\ttotal: 1.67s\tremaining: 10.7s\n",
      "135:\tlearn: 20.6583636\ttotal: 1.68s\tremaining: 10.7s\n",
      "136:\tlearn: 20.6178250\ttotal: 1.69s\tremaining: 10.6s\n",
      "137:\tlearn: 20.5906922\ttotal: 1.7s\tremaining: 10.6s\n",
      "138:\tlearn: 20.5683579\ttotal: 1.71s\tremaining: 10.6s\n",
      "139:\tlearn: 20.5412990\ttotal: 1.72s\tremaining: 10.6s\n",
      "140:\tlearn: 20.5061128\ttotal: 1.73s\tremaining: 10.5s\n",
      "141:\tlearn: 20.4829812\ttotal: 1.74s\tremaining: 10.5s\n",
      "142:\tlearn: 20.4353986\ttotal: 1.75s\tremaining: 10.5s\n",
      "143:\tlearn: 20.4001776\ttotal: 1.76s\tremaining: 10.5s\n",
      "144:\tlearn: 20.3648086\ttotal: 1.77s\tremaining: 10.5s\n",
      "145:\tlearn: 20.3428456\ttotal: 1.78s\tremaining: 10.4s\n",
      "146:\tlearn: 20.3235122\ttotal: 1.8s\tremaining: 10.4s\n",
      "147:\tlearn: 20.3031365\ttotal: 1.81s\tremaining: 10.4s\n",
      "148:\tlearn: 20.2923691\ttotal: 1.82s\tremaining: 10.4s\n",
      "149:\tlearn: 20.2721163\ttotal: 1.83s\tremaining: 10.4s\n",
      "150:\tlearn: 20.2414032\ttotal: 1.84s\tremaining: 10.3s\n",
      "151:\tlearn: 20.2182823\ttotal: 1.85s\tremaining: 10.3s\n",
      "152:\tlearn: 20.1936135\ttotal: 1.86s\tremaining: 10.3s\n",
      "153:\tlearn: 20.1597474\ttotal: 1.87s\tremaining: 10.3s\n",
      "154:\tlearn: 20.1290620\ttotal: 1.89s\tremaining: 10.3s\n",
      "155:\tlearn: 20.0954120\ttotal: 1.9s\tremaining: 10.3s\n",
      "156:\tlearn: 20.0729205\ttotal: 1.91s\tremaining: 10.3s\n",
      "157:\tlearn: 20.0502349\ttotal: 1.92s\tremaining: 10.2s\n",
      "158:\tlearn: 20.0160221\ttotal: 1.93s\tremaining: 10.2s\n",
      "159:\tlearn: 19.9973025\ttotal: 1.94s\tremaining: 10.2s\n",
      "160:\tlearn: 19.9728856\ttotal: 1.95s\tremaining: 10.2s\n",
      "161:\tlearn: 19.9556088\ttotal: 1.97s\tremaining: 10.2s\n",
      "162:\tlearn: 19.9522060\ttotal: 1.98s\tremaining: 10.2s\n",
      "163:\tlearn: 19.9321703\ttotal: 1.99s\tremaining: 10.1s\n",
      "164:\tlearn: 19.9104534\ttotal: 2s\tremaining: 10.1s\n",
      "165:\tlearn: 19.8976589\ttotal: 2.01s\tremaining: 10.1s\n",
      "166:\tlearn: 19.8652433\ttotal: 2.02s\tremaining: 10.1s\n",
      "167:\tlearn: 19.8409884\ttotal: 2.03s\tremaining: 10.1s\n",
      "168:\tlearn: 19.8146949\ttotal: 2.04s\tremaining: 10.1s\n",
      "169:\tlearn: 19.7993898\ttotal: 2.06s\tremaining: 10s\n",
      "170:\tlearn: 19.7787855\ttotal: 2.07s\tremaining: 10s\n",
      "171:\tlearn: 19.7614676\ttotal: 2.08s\tremaining: 10s\n",
      "172:\tlearn: 19.7446640\ttotal: 2.09s\tremaining: 10s\n",
      "173:\tlearn: 19.7039018\ttotal: 2.1s\tremaining: 9.99s\n",
      "174:\tlearn: 19.6760276\ttotal: 2.12s\tremaining: 9.97s\n",
      "175:\tlearn: 19.6456766\ttotal: 2.13s\tremaining: 9.96s\n",
      "176:\tlearn: 19.6206765\ttotal: 2.14s\tremaining: 9.94s\n",
      "177:\tlearn: 19.5870922\ttotal: 2.15s\tremaining: 9.93s\n",
      "178:\tlearn: 19.5672773\ttotal: 2.16s\tremaining: 9.91s\n",
      "179:\tlearn: 19.5608292\ttotal: 2.17s\tremaining: 9.89s\n",
      "180:\tlearn: 19.5474017\ttotal: 2.18s\tremaining: 9.88s\n",
      "181:\tlearn: 19.5264623\ttotal: 2.19s\tremaining: 9.86s\n",
      "182:\tlearn: 19.4995807\ttotal: 2.21s\tremaining: 9.85s\n",
      "183:\tlearn: 19.4707415\ttotal: 2.22s\tremaining: 9.83s\n",
      "184:\tlearn: 19.4497181\ttotal: 2.23s\tremaining: 9.81s\n",
      "185:\tlearn: 19.4249283\ttotal: 2.24s\tremaining: 9.8s\n",
      "186:\tlearn: 19.4041234\ttotal: 2.25s\tremaining: 9.78s\n",
      "187:\tlearn: 19.3875778\ttotal: 2.26s\tremaining: 9.77s\n",
      "188:\tlearn: 19.3786754\ttotal: 2.27s\tremaining: 9.75s\n",
      "189:\tlearn: 19.3591025\ttotal: 2.28s\tremaining: 9.74s\n",
      "190:\tlearn: 19.3330487\ttotal: 2.3s\tremaining: 9.73s\n",
      "191:\tlearn: 19.3082447\ttotal: 2.31s\tremaining: 9.72s\n",
      "192:\tlearn: 19.2894773\ttotal: 2.32s\tremaining: 9.71s\n",
      "193:\tlearn: 19.2609258\ttotal: 2.33s\tremaining: 9.69s\n",
      "194:\tlearn: 19.2347353\ttotal: 2.34s\tremaining: 9.68s\n",
      "195:\tlearn: 19.2124866\ttotal: 2.36s\tremaining: 9.67s\n",
      "196:\tlearn: 19.2086461\ttotal: 2.37s\tremaining: 9.66s\n",
      "197:\tlearn: 19.1852008\ttotal: 2.38s\tremaining: 9.65s\n",
      "198:\tlearn: 19.1595112\ttotal: 2.4s\tremaining: 9.65s\n",
      "199:\tlearn: 19.1391796\ttotal: 2.41s\tremaining: 9.64s\n",
      "200:\tlearn: 19.1145915\ttotal: 2.42s\tremaining: 9.62s\n",
      "201:\tlearn: 19.0903853\ttotal: 2.43s\tremaining: 9.61s\n",
      "202:\tlearn: 19.0636015\ttotal: 2.44s\tremaining: 9.59s\n",
      "203:\tlearn: 19.0313329\ttotal: 2.46s\tremaining: 9.58s\n",
      "204:\tlearn: 19.0099140\ttotal: 2.47s\tremaining: 9.56s\n",
      "205:\tlearn: 18.9855653\ttotal: 2.48s\tremaining: 9.55s\n",
      "206:\tlearn: 18.9710453\ttotal: 2.49s\tremaining: 9.53s\n",
      "207:\tlearn: 18.9479541\ttotal: 2.5s\tremaining: 9.51s\n",
      "208:\tlearn: 18.9178195\ttotal: 2.51s\tremaining: 9.5s\n",
      "209:\tlearn: 18.9024390\ttotal: 2.52s\tremaining: 9.48s\n",
      "210:\tlearn: 18.8813871\ttotal: 2.53s\tremaining: 9.47s\n",
      "211:\tlearn: 18.8529799\ttotal: 2.54s\tremaining: 9.45s\n",
      "212:\tlearn: 18.8309544\ttotal: 2.55s\tremaining: 9.44s\n",
      "213:\tlearn: 18.8176655\ttotal: 2.57s\tremaining: 9.44s\n",
      "214:\tlearn: 18.7892200\ttotal: 2.58s\tremaining: 9.43s\n",
      "215:\tlearn: 18.7699532\ttotal: 2.6s\tremaining: 9.42s\n",
      "216:\tlearn: 18.7368329\ttotal: 2.61s\tremaining: 9.42s\n",
      "217:\tlearn: 18.7342563\ttotal: 2.62s\tremaining: 9.4s\n",
      "218:\tlearn: 18.7122685\ttotal: 2.63s\tremaining: 9.39s\n",
      "219:\tlearn: 18.6875678\ttotal: 2.65s\tremaining: 9.38s\n",
      "220:\tlearn: 18.6615891\ttotal: 2.66s\tremaining: 9.38s\n",
      "221:\tlearn: 18.6401737\ttotal: 2.67s\tremaining: 9.36s\n",
      "222:\tlearn: 18.6193849\ttotal: 2.68s\tremaining: 9.35s\n",
      "223:\tlearn: 18.5919624\ttotal: 2.69s\tremaining: 9.33s\n",
      "224:\tlearn: 18.5705680\ttotal: 2.71s\tremaining: 9.32s\n",
      "225:\tlearn: 18.5516407\ttotal: 2.72s\tremaining: 9.31s\n",
      "226:\tlearn: 18.5259773\ttotal: 2.73s\tremaining: 9.3s\n",
      "227:\tlearn: 18.5161045\ttotal: 2.74s\tremaining: 9.29s\n",
      "228:\tlearn: 18.5039609\ttotal: 2.75s\tremaining: 9.27s\n",
      "229:\tlearn: 18.4777799\ttotal: 2.77s\tremaining: 9.26s\n",
      "230:\tlearn: 18.4443605\ttotal: 2.78s\tremaining: 9.25s\n",
      "231:\tlearn: 18.4140514\ttotal: 2.79s\tremaining: 9.23s\n",
      "232:\tlearn: 18.3922993\ttotal: 2.8s\tremaining: 9.22s\n",
      "233:\tlearn: 18.3793393\ttotal: 2.81s\tremaining: 9.21s\n",
      "234:\tlearn: 18.3750870\ttotal: 2.83s\tremaining: 9.21s\n",
      "235:\tlearn: 18.3359205\ttotal: 2.84s\tremaining: 9.2s\n",
      "236:\tlearn: 18.3337307\ttotal: 2.85s\tremaining: 9.18s\n",
      "237:\tlearn: 18.3067347\ttotal: 2.86s\tremaining: 9.17s\n",
      "238:\tlearn: 18.2980855\ttotal: 2.88s\tremaining: 9.15s\n",
      "239:\tlearn: 18.2832984\ttotal: 2.89s\tremaining: 9.14s\n",
      "240:\tlearn: 18.2614083\ttotal: 2.9s\tremaining: 9.13s\n",
      "241:\tlearn: 18.2383909\ttotal: 2.91s\tremaining: 9.11s\n",
      "242:\tlearn: 18.2114539\ttotal: 2.92s\tremaining: 9.1s\n",
      "243:\tlearn: 18.1930301\ttotal: 2.93s\tremaining: 9.09s\n",
      "244:\tlearn: 18.1564166\ttotal: 2.94s\tremaining: 9.08s\n",
      "245:\tlearn: 18.1410908\ttotal: 2.96s\tremaining: 9.07s\n",
      "246:\tlearn: 18.1203181\ttotal: 2.97s\tremaining: 9.05s\n",
      "247:\tlearn: 18.0991300\ttotal: 2.98s\tremaining: 9.04s\n",
      "248:\tlearn: 18.0777204\ttotal: 2.99s\tremaining: 9.03s\n",
      "249:\tlearn: 18.0665656\ttotal: 3s\tremaining: 9.01s\n",
      "250:\tlearn: 18.0516833\ttotal: 3.01s\tremaining: 9s\n",
      "251:\tlearn: 18.0340334\ttotal: 3.02s\tremaining: 8.98s\n",
      "252:\tlearn: 18.0115149\ttotal: 3.04s\tremaining: 8.97s\n",
      "253:\tlearn: 18.0045197\ttotal: 3.05s\tremaining: 8.95s\n",
      "254:\tlearn: 17.9901466\ttotal: 3.06s\tremaining: 8.94s\n",
      "255:\tlearn: 17.9649230\ttotal: 3.07s\tremaining: 8.93s\n",
      "256:\tlearn: 17.9521080\ttotal: 3.08s\tremaining: 8.91s\n",
      "257:\tlearn: 17.9392771\ttotal: 3.1s\tremaining: 8.9s\n",
      "258:\tlearn: 17.9301786\ttotal: 3.11s\tremaining: 8.89s\n",
      "259:\tlearn: 17.8918887\ttotal: 3.12s\tremaining: 8.88s\n",
      "260:\tlearn: 17.8742610\ttotal: 3.13s\tremaining: 8.86s\n",
      "261:\tlearn: 17.8438860\ttotal: 3.14s\tremaining: 8.85s\n",
      "262:\tlearn: 17.8293551\ttotal: 3.15s\tremaining: 8.84s\n",
      "263:\tlearn: 17.7992394\ttotal: 3.16s\tremaining: 8.82s\n",
      "264:\tlearn: 17.7750946\ttotal: 3.18s\tremaining: 8.81s\n",
      "265:\tlearn: 17.7615864\ttotal: 3.19s\tremaining: 8.8s\n",
      "266:\tlearn: 17.7387902\ttotal: 3.2s\tremaining: 8.79s\n",
      "267:\tlearn: 17.7220929\ttotal: 3.21s\tremaining: 8.78s\n",
      "268:\tlearn: 17.6980144\ttotal: 3.23s\tremaining: 8.77s\n",
      "269:\tlearn: 17.6762046\ttotal: 3.24s\tremaining: 8.76s\n",
      "270:\tlearn: 17.6504562\ttotal: 3.25s\tremaining: 8.74s\n",
      "271:\tlearn: 17.6337361\ttotal: 3.26s\tremaining: 8.73s\n",
      "272:\tlearn: 17.6124961\ttotal: 3.27s\tremaining: 8.72s\n",
      "273:\tlearn: 17.5798202\ttotal: 3.29s\tremaining: 8.71s\n",
      "274:\tlearn: 17.5677005\ttotal: 3.3s\tremaining: 8.69s\n",
      "275:\tlearn: 17.5539748\ttotal: 3.31s\tremaining: 8.68s\n",
      "276:\tlearn: 17.5371081\ttotal: 3.32s\tremaining: 8.67s\n",
      "277:\tlearn: 17.5166092\ttotal: 3.33s\tremaining: 8.66s\n",
      "278:\tlearn: 17.4933923\ttotal: 3.35s\tremaining: 8.66s\n",
      "279:\tlearn: 17.4793202\ttotal: 3.37s\tremaining: 8.66s\n",
      "280:\tlearn: 17.4608409\ttotal: 3.38s\tremaining: 8.65s\n",
      "281:\tlearn: 17.4405716\ttotal: 3.39s\tremaining: 8.64s\n",
      "282:\tlearn: 17.4215366\ttotal: 3.4s\tremaining: 8.62s\n",
      "283:\tlearn: 17.4029568\ttotal: 3.42s\tremaining: 8.61s\n",
      "284:\tlearn: 17.3857692\ttotal: 3.43s\tremaining: 8.6s\n",
      "285:\tlearn: 17.3611096\ttotal: 3.44s\tremaining: 8.59s\n",
      "286:\tlearn: 17.3451112\ttotal: 3.45s\tremaining: 8.58s\n",
      "287:\tlearn: 17.3146998\ttotal: 3.47s\tremaining: 8.57s\n",
      "288:\tlearn: 17.3038151\ttotal: 3.48s\tremaining: 8.56s\n",
      "289:\tlearn: 17.2860255\ttotal: 3.49s\tremaining: 8.55s\n",
      "290:\tlearn: 17.2695239\ttotal: 3.5s\tremaining: 8.54s\n",
      "291:\tlearn: 17.2462367\ttotal: 3.51s\tremaining: 8.52s\n",
      "292:\tlearn: 17.2293707\ttotal: 3.52s\tremaining: 8.51s\n",
      "293:\tlearn: 17.2106364\ttotal: 3.54s\tremaining: 8.49s\n",
      "294:\tlearn: 17.1833061\ttotal: 3.55s\tremaining: 8.48s\n",
      "295:\tlearn: 17.1707780\ttotal: 3.56s\tremaining: 8.47s\n",
      "296:\tlearn: 17.1648009\ttotal: 3.57s\tremaining: 8.46s\n",
      "297:\tlearn: 17.1407303\ttotal: 3.58s\tremaining: 8.44s\n",
      "298:\tlearn: 17.1246710\ttotal: 3.6s\tremaining: 8.43s\n",
      "299:\tlearn: 17.1029468\ttotal: 3.61s\tremaining: 8.42s\n",
      "300:\tlearn: 17.0867551\ttotal: 3.62s\tremaining: 8.4s\n",
      "301:\tlearn: 17.0640282\ttotal: 3.63s\tremaining: 8.39s\n",
      "302:\tlearn: 17.0395769\ttotal: 3.64s\tremaining: 8.38s\n",
      "303:\tlearn: 17.0232674\ttotal: 3.65s\tremaining: 8.36s\n",
      "304:\tlearn: 16.9985352\ttotal: 3.66s\tremaining: 8.35s\n",
      "305:\tlearn: 16.9887663\ttotal: 3.68s\tremaining: 8.34s\n",
      "306:\tlearn: 16.9693908\ttotal: 3.69s\tremaining: 8.34s\n",
      "307:\tlearn: 16.9559340\ttotal: 3.71s\tremaining: 8.33s\n",
      "308:\tlearn: 16.9423550\ttotal: 3.72s\tremaining: 8.32s\n",
      "309:\tlearn: 16.9267484\ttotal: 3.74s\tremaining: 8.32s\n",
      "310:\tlearn: 16.9113442\ttotal: 3.75s\tremaining: 8.31s\n",
      "311:\tlearn: 16.8981487\ttotal: 3.77s\tremaining: 8.3s\n",
      "312:\tlearn: 16.8857580\ttotal: 3.78s\tremaining: 8.3s\n",
      "313:\tlearn: 16.8663266\ttotal: 3.79s\tremaining: 8.29s\n",
      "314:\tlearn: 16.8499210\ttotal: 3.81s\tremaining: 8.28s\n",
      "315:\tlearn: 16.8365692\ttotal: 3.83s\tremaining: 8.28s\n",
      "316:\tlearn: 16.8211241\ttotal: 3.84s\tremaining: 8.28s\n",
      "317:\tlearn: 16.7983114\ttotal: 3.86s\tremaining: 8.27s\n",
      "318:\tlearn: 16.7821587\ttotal: 3.87s\tremaining: 8.27s\n",
      "319:\tlearn: 16.7752767\ttotal: 3.89s\tremaining: 8.26s\n",
      "320:\tlearn: 16.7582344\ttotal: 3.9s\tremaining: 8.25s\n",
      "321:\tlearn: 16.7447878\ttotal: 3.92s\tremaining: 8.25s\n",
      "322:\tlearn: 16.7277476\ttotal: 3.93s\tremaining: 8.24s\n",
      "323:\tlearn: 16.7088141\ttotal: 3.95s\tremaining: 8.24s\n",
      "324:\tlearn: 16.6910224\ttotal: 3.96s\tremaining: 8.22s\n",
      "325:\tlearn: 16.6707265\ttotal: 3.97s\tremaining: 8.21s\n",
      "326:\tlearn: 16.6538472\ttotal: 3.98s\tremaining: 8.2s\n",
      "327:\tlearn: 16.6299783\ttotal: 4s\tremaining: 8.19s\n",
      "328:\tlearn: 16.6128873\ttotal: 4.01s\tremaining: 8.18s\n",
      "329:\tlearn: 16.5978804\ttotal: 4.02s\tremaining: 8.16s\n",
      "330:\tlearn: 16.5847356\ttotal: 4.03s\tremaining: 8.15s\n",
      "331:\tlearn: 16.5609971\ttotal: 4.04s\tremaining: 8.13s\n",
      "332:\tlearn: 16.5407418\ttotal: 4.05s\tremaining: 8.12s\n",
      "333:\tlearn: 16.5173889\ttotal: 4.07s\tremaining: 8.11s\n",
      "334:\tlearn: 16.4924167\ttotal: 4.08s\tremaining: 8.1s\n",
      "335:\tlearn: 16.4727189\ttotal: 4.09s\tremaining: 8.09s\n",
      "336:\tlearn: 16.4712216\ttotal: 4.11s\tremaining: 8.08s\n",
      "337:\tlearn: 16.4513485\ttotal: 4.12s\tremaining: 8.07s\n",
      "338:\tlearn: 16.4316338\ttotal: 4.13s\tremaining: 8.06s\n",
      "339:\tlearn: 16.4161153\ttotal: 4.14s\tremaining: 8.04s\n",
      "340:\tlearn: 16.3985924\ttotal: 4.15s\tremaining: 8.03s\n",
      "341:\tlearn: 16.3800897\ttotal: 4.17s\tremaining: 8.02s\n",
      "342:\tlearn: 16.3682028\ttotal: 4.18s\tremaining: 8s\n",
      "343:\tlearn: 16.3536264\ttotal: 4.19s\tremaining: 7.99s\n",
      "344:\tlearn: 16.3516554\ttotal: 4.2s\tremaining: 7.98s\n",
      "345:\tlearn: 16.3271502\ttotal: 4.21s\tremaining: 7.96s\n",
      "346:\tlearn: 16.3075198\ttotal: 4.22s\tremaining: 7.95s\n",
      "347:\tlearn: 16.2933493\ttotal: 4.24s\tremaining: 7.94s\n",
      "348:\tlearn: 16.2815606\ttotal: 4.25s\tremaining: 7.93s\n",
      "349:\tlearn: 16.2663987\ttotal: 4.26s\tremaining: 7.91s\n",
      "350:\tlearn: 16.2489739\ttotal: 4.28s\tremaining: 7.91s\n",
      "351:\tlearn: 16.2287946\ttotal: 4.29s\tremaining: 7.89s\n",
      "352:\tlearn: 16.2097968\ttotal: 4.3s\tremaining: 7.88s\n",
      "353:\tlearn: 16.1906343\ttotal: 4.31s\tremaining: 7.87s\n",
      "354:\tlearn: 16.1721647\ttotal: 4.32s\tremaining: 7.85s\n",
      "355:\tlearn: 16.1529453\ttotal: 4.33s\tremaining: 7.84s\n",
      "356:\tlearn: 16.1445423\ttotal: 4.35s\tremaining: 7.83s\n",
      "357:\tlearn: 16.1267705\ttotal: 4.36s\tremaining: 7.82s\n",
      "358:\tlearn: 16.1152723\ttotal: 4.37s\tremaining: 7.81s\n",
      "359:\tlearn: 16.0953523\ttotal: 4.38s\tremaining: 7.79s\n",
      "360:\tlearn: 16.0782193\ttotal: 4.4s\tremaining: 7.78s\n",
      "361:\tlearn: 16.0597721\ttotal: 4.41s\tremaining: 7.77s\n",
      "362:\tlearn: 16.0583776\ttotal: 4.42s\tremaining: 7.75s\n",
      "363:\tlearn: 16.0457156\ttotal: 4.43s\tremaining: 7.75s\n",
      "364:\tlearn: 16.0308793\ttotal: 4.45s\tremaining: 7.73s\n",
      "365:\tlearn: 16.0173582\ttotal: 4.46s\tremaining: 7.72s\n",
      "366:\tlearn: 16.0082428\ttotal: 4.47s\tremaining: 7.71s\n",
      "367:\tlearn: 15.9912854\ttotal: 4.49s\tremaining: 7.7s\n",
      "368:\tlearn: 15.9764974\ttotal: 4.5s\tremaining: 7.69s\n",
      "369:\tlearn: 15.9609156\ttotal: 4.51s\tremaining: 7.68s\n",
      "370:\tlearn: 15.9584105\ttotal: 4.52s\tremaining: 7.66s\n",
      "371:\tlearn: 15.9565988\ttotal: 4.53s\tremaining: 7.65s\n",
      "372:\tlearn: 15.9398990\ttotal: 4.54s\tremaining: 7.64s\n",
      "373:\tlearn: 15.9229297\ttotal: 4.55s\tremaining: 7.62s\n",
      "374:\tlearn: 15.9216074\ttotal: 4.57s\tremaining: 7.61s\n",
      "375:\tlearn: 15.9142672\ttotal: 4.58s\tremaining: 7.6s\n",
      "376:\tlearn: 15.9017455\ttotal: 4.59s\tremaining: 7.58s\n",
      "377:\tlearn: 15.8886859\ttotal: 4.6s\tremaining: 7.57s\n",
      "378:\tlearn: 15.8764073\ttotal: 4.61s\tremaining: 7.56s\n",
      "379:\tlearn: 15.8672162\ttotal: 4.63s\tremaining: 7.55s\n",
      "380:\tlearn: 15.8518991\ttotal: 4.64s\tremaining: 7.53s\n",
      "381:\tlearn: 15.8402152\ttotal: 4.65s\tremaining: 7.53s\n",
      "382:\tlearn: 15.8178767\ttotal: 4.66s\tremaining: 7.51s\n",
      "383:\tlearn: 15.7994884\ttotal: 4.68s\tremaining: 7.5s\n",
      "384:\tlearn: 15.7890417\ttotal: 4.69s\tremaining: 7.49s\n",
      "385:\tlearn: 15.7781346\ttotal: 4.7s\tremaining: 7.48s\n",
      "386:\tlearn: 15.7582120\ttotal: 4.72s\tremaining: 7.47s\n",
      "387:\tlearn: 15.7519589\ttotal: 4.73s\tremaining: 7.46s\n",
      "388:\tlearn: 15.7434564\ttotal: 4.74s\tremaining: 7.45s\n",
      "389:\tlearn: 15.7291786\ttotal: 4.75s\tremaining: 7.43s\n",
      "390:\tlearn: 15.7233915\ttotal: 4.77s\tremaining: 7.42s\n",
      "391:\tlearn: 15.7011300\ttotal: 4.78s\tremaining: 7.41s\n",
      "392:\tlearn: 15.6800193\ttotal: 4.79s\tremaining: 7.4s\n",
      "393:\tlearn: 15.6787825\ttotal: 4.8s\tremaining: 7.39s\n",
      "394:\tlearn: 15.6639607\ttotal: 4.82s\tremaining: 7.38s\n",
      "395:\tlearn: 15.6496881\ttotal: 4.83s\tremaining: 7.37s\n",
      "396:\tlearn: 15.6340304\ttotal: 4.84s\tremaining: 7.36s\n",
      "397:\tlearn: 15.6186897\ttotal: 4.86s\tremaining: 7.35s\n",
      "398:\tlearn: 15.6072923\ttotal: 4.88s\tremaining: 7.35s\n",
      "399:\tlearn: 15.6058440\ttotal: 4.9s\tremaining: 7.34s\n",
      "400:\tlearn: 15.5818891\ttotal: 4.92s\tremaining: 7.34s\n",
      "401:\tlearn: 15.5663258\ttotal: 4.93s\tremaining: 7.34s\n",
      "402:\tlearn: 15.5529071\ttotal: 4.95s\tremaining: 7.33s\n",
      "403:\tlearn: 15.5442984\ttotal: 4.96s\tremaining: 7.33s\n",
      "404:\tlearn: 15.5343431\ttotal: 4.98s\tremaining: 7.32s\n",
      "405:\tlearn: 15.5229043\ttotal: 5s\tremaining: 7.31s\n",
      "406:\tlearn: 15.5045266\ttotal: 5.01s\tremaining: 7.3s\n",
      "407:\tlearn: 15.5030070\ttotal: 5.03s\tremaining: 7.3s\n",
      "408:\tlearn: 15.4859576\ttotal: 5.05s\tremaining: 7.29s\n",
      "409:\tlearn: 15.4758943\ttotal: 5.06s\tremaining: 7.28s\n",
      "410:\tlearn: 15.4662981\ttotal: 5.07s\tremaining: 7.27s\n",
      "411:\tlearn: 15.4609897\ttotal: 5.08s\tremaining: 7.25s\n",
      "412:\tlearn: 15.4432332\ttotal: 5.09s\tremaining: 7.24s\n",
      "413:\tlearn: 15.4232453\ttotal: 5.11s\tremaining: 7.23s\n",
      "414:\tlearn: 15.4100359\ttotal: 5.12s\tremaining: 7.22s\n",
      "415:\tlearn: 15.3941680\ttotal: 5.13s\tremaining: 7.21s\n",
      "416:\tlearn: 15.3776324\ttotal: 5.15s\tremaining: 7.2s\n",
      "417:\tlearn: 15.3639683\ttotal: 5.16s\tremaining: 7.19s\n",
      "418:\tlearn: 15.3475367\ttotal: 5.18s\tremaining: 7.18s\n",
      "419:\tlearn: 15.3328533\ttotal: 5.19s\tremaining: 7.17s\n",
      "420:\tlearn: 15.3314605\ttotal: 5.2s\tremaining: 7.15s\n",
      "421:\tlearn: 15.3230071\ttotal: 5.21s\tremaining: 7.14s\n",
      "422:\tlearn: 15.3106081\ttotal: 5.23s\tremaining: 7.14s\n",
      "423:\tlearn: 15.2958267\ttotal: 5.25s\tremaining: 7.13s\n",
      "424:\tlearn: 15.2799052\ttotal: 5.26s\tremaining: 7.12s\n",
      "425:\tlearn: 15.2662126\ttotal: 5.27s\tremaining: 7.11s\n",
      "426:\tlearn: 15.2474670\ttotal: 5.29s\tremaining: 7.09s\n",
      "427:\tlearn: 15.2377369\ttotal: 5.3s\tremaining: 7.08s\n",
      "428:\tlearn: 15.2225872\ttotal: 5.31s\tremaining: 7.07s\n",
      "429:\tlearn: 15.2038132\ttotal: 5.33s\tremaining: 7.06s\n",
      "430:\tlearn: 15.1867848\ttotal: 5.34s\tremaining: 7.05s\n",
      "431:\tlearn: 15.1729739\ttotal: 5.36s\tremaining: 7.04s\n",
      "432:\tlearn: 15.1622047\ttotal: 5.37s\tremaining: 7.03s\n",
      "433:\tlearn: 15.1527509\ttotal: 5.38s\tremaining: 7.02s\n",
      "434:\tlearn: 15.1372402\ttotal: 5.4s\tremaining: 7.01s\n",
      "435:\tlearn: 15.1222639\ttotal: 5.41s\tremaining: 7s\n",
      "436:\tlearn: 15.1069488\ttotal: 5.42s\tremaining: 6.99s\n",
      "437:\tlearn: 15.1060048\ttotal: 5.44s\tremaining: 6.97s\n",
      "438:\tlearn: 15.0851768\ttotal: 5.45s\tremaining: 6.96s\n",
      "439:\tlearn: 15.0708898\ttotal: 5.46s\tremaining: 6.96s\n",
      "440:\tlearn: 15.0572100\ttotal: 5.48s\tremaining: 6.94s\n",
      "441:\tlearn: 15.0450609\ttotal: 5.49s\tremaining: 6.93s\n",
      "442:\tlearn: 15.0334497\ttotal: 5.51s\tremaining: 6.92s\n",
      "443:\tlearn: 15.0099174\ttotal: 5.52s\tremaining: 6.91s\n",
      "444:\tlearn: 14.9953753\ttotal: 5.54s\tremaining: 6.91s\n",
      "445:\tlearn: 14.9937999\ttotal: 5.55s\tremaining: 6.9s\n",
      "446:\tlearn: 14.9798265\ttotal: 5.57s\tremaining: 6.89s\n",
      "447:\tlearn: 14.9646180\ttotal: 5.59s\tremaining: 6.88s\n",
      "448:\tlearn: 14.9524530\ttotal: 5.6s\tremaining: 6.88s\n",
      "449:\tlearn: 14.9416334\ttotal: 5.62s\tremaining: 6.87s\n",
      "450:\tlearn: 14.9273311\ttotal: 5.63s\tremaining: 6.86s\n",
      "451:\tlearn: 14.9150468\ttotal: 5.64s\tremaining: 6.84s\n",
      "452:\tlearn: 14.9015521\ttotal: 5.66s\tremaining: 6.83s\n",
      "453:\tlearn: 14.8878809\ttotal: 5.67s\tremaining: 6.83s\n",
      "454:\tlearn: 14.8773958\ttotal: 5.69s\tremaining: 6.82s\n",
      "455:\tlearn: 14.8618718\ttotal: 5.71s\tremaining: 6.81s\n",
      "456:\tlearn: 14.8602567\ttotal: 5.72s\tremaining: 6.79s\n",
      "457:\tlearn: 14.8471909\ttotal: 5.73s\tremaining: 6.79s\n",
      "458:\tlearn: 14.8337711\ttotal: 5.75s\tremaining: 6.78s\n",
      "459:\tlearn: 14.8322305\ttotal: 5.77s\tremaining: 6.77s\n",
      "460:\tlearn: 14.8199309\ttotal: 5.79s\tremaining: 6.76s\n",
      "461:\tlearn: 14.8056349\ttotal: 5.8s\tremaining: 6.76s\n",
      "462:\tlearn: 14.7860292\ttotal: 5.82s\tremaining: 6.75s\n",
      "463:\tlearn: 14.7700383\ttotal: 5.83s\tremaining: 6.74s\n",
      "464:\tlearn: 14.7603202\ttotal: 5.84s\tremaining: 6.72s\n",
      "465:\tlearn: 14.7497367\ttotal: 5.86s\tremaining: 6.71s\n",
      "466:\tlearn: 14.7368979\ttotal: 5.87s\tremaining: 6.7s\n",
      "467:\tlearn: 14.7194440\ttotal: 5.89s\tremaining: 6.69s\n",
      "468:\tlearn: 14.7063851\ttotal: 5.9s\tremaining: 6.68s\n",
      "469:\tlearn: 14.7054324\ttotal: 5.91s\tremaining: 6.67s\n",
      "470:\tlearn: 14.7041304\ttotal: 5.92s\tremaining: 6.65s\n",
      "471:\tlearn: 14.6806396\ttotal: 5.94s\tremaining: 6.64s\n",
      "472:\tlearn: 14.6741452\ttotal: 5.95s\tremaining: 6.63s\n",
      "473:\tlearn: 14.6637497\ttotal: 5.97s\tremaining: 6.62s\n",
      "474:\tlearn: 14.6439732\ttotal: 5.98s\tremaining: 6.61s\n",
      "475:\tlearn: 14.6288057\ttotal: 5.99s\tremaining: 6.6s\n",
      "476:\tlearn: 14.6091751\ttotal: 6.01s\tremaining: 6.58s\n",
      "477:\tlearn: 14.5958473\ttotal: 6.02s\tremaining: 6.57s\n",
      "478:\tlearn: 14.5861414\ttotal: 6.03s\tremaining: 6.56s\n",
      "479:\tlearn: 14.5759789\ttotal: 6.05s\tremaining: 6.55s\n",
      "480:\tlearn: 14.5663860\ttotal: 6.06s\tremaining: 6.54s\n",
      "481:\tlearn: 14.5508629\ttotal: 6.08s\tremaining: 6.53s\n",
      "482:\tlearn: 14.5371923\ttotal: 6.09s\tremaining: 6.52s\n",
      "483:\tlearn: 14.5249792\ttotal: 6.1s\tremaining: 6.5s\n",
      "484:\tlearn: 14.5133845\ttotal: 6.11s\tremaining: 6.49s\n",
      "485:\tlearn: 14.4974286\ttotal: 6.13s\tremaining: 6.48s\n",
      "486:\tlearn: 14.4868091\ttotal: 6.14s\tremaining: 6.47s\n",
      "487:\tlearn: 14.4767263\ttotal: 6.16s\tremaining: 6.46s\n",
      "488:\tlearn: 14.4623457\ttotal: 6.17s\tremaining: 6.45s\n",
      "489:\tlearn: 14.4471764\ttotal: 6.18s\tremaining: 6.44s\n",
      "490:\tlearn: 14.4333307\ttotal: 6.2s\tremaining: 6.42s\n",
      "491:\tlearn: 14.4137497\ttotal: 6.21s\tremaining: 6.41s\n",
      "492:\tlearn: 14.3969649\ttotal: 6.22s\tremaining: 6.4s\n",
      "493:\tlearn: 14.3838299\ttotal: 6.24s\tremaining: 6.39s\n",
      "494:\tlearn: 14.3828138\ttotal: 6.25s\tremaining: 6.38s\n",
      "495:\tlearn: 14.3670227\ttotal: 6.26s\tremaining: 6.36s\n",
      "496:\tlearn: 14.3553782\ttotal: 6.27s\tremaining: 6.35s\n",
      "497:\tlearn: 14.3427331\ttotal: 6.29s\tremaining: 6.34s\n",
      "498:\tlearn: 14.3261998\ttotal: 6.3s\tremaining: 6.32s\n",
      "499:\tlearn: 14.3155557\ttotal: 6.31s\tremaining: 6.31s\n",
      "500:\tlearn: 14.3071891\ttotal: 6.32s\tremaining: 6.3s\n",
      "501:\tlearn: 14.2957447\ttotal: 6.33s\tremaining: 6.28s\n",
      "502:\tlearn: 14.2783538\ttotal: 6.35s\tremaining: 6.27s\n",
      "503:\tlearn: 14.2674977\ttotal: 6.36s\tremaining: 6.26s\n",
      "504:\tlearn: 14.2536253\ttotal: 6.37s\tremaining: 6.25s\n",
      "505:\tlearn: 14.2472359\ttotal: 6.39s\tremaining: 6.23s\n",
      "506:\tlearn: 14.2336762\ttotal: 6.4s\tremaining: 6.22s\n",
      "507:\tlearn: 14.2193974\ttotal: 6.41s\tremaining: 6.21s\n",
      "508:\tlearn: 14.2183056\ttotal: 6.43s\tremaining: 6.2s\n",
      "509:\tlearn: 14.2132163\ttotal: 6.44s\tremaining: 6.19s\n",
      "510:\tlearn: 14.2018747\ttotal: 6.45s\tremaining: 6.17s\n",
      "511:\tlearn: 14.1912863\ttotal: 6.46s\tremaining: 6.16s\n",
      "512:\tlearn: 14.1773298\ttotal: 6.48s\tremaining: 6.15s\n",
      "513:\tlearn: 14.1595458\ttotal: 6.49s\tremaining: 6.14s\n",
      "514:\tlearn: 14.1436100\ttotal: 6.51s\tremaining: 6.13s\n",
      "515:\tlearn: 14.1309828\ttotal: 6.52s\tremaining: 6.12s\n",
      "516:\tlearn: 14.1195852\ttotal: 6.53s\tremaining: 6.1s\n",
      "517:\tlearn: 14.1125610\ttotal: 6.55s\tremaining: 6.09s\n",
      "518:\tlearn: 14.1112461\ttotal: 6.57s\tremaining: 6.09s\n",
      "519:\tlearn: 14.1052893\ttotal: 6.58s\tremaining: 6.07s\n",
      "520:\tlearn: 14.0902209\ttotal: 6.59s\tremaining: 6.06s\n",
      "521:\tlearn: 14.0750654\ttotal: 6.61s\tremaining: 6.05s\n",
      "522:\tlearn: 14.0742162\ttotal: 6.63s\tremaining: 6.04s\n",
      "523:\tlearn: 14.0606068\ttotal: 6.64s\tremaining: 6.03s\n",
      "524:\tlearn: 14.0461090\ttotal: 6.66s\tremaining: 6.02s\n",
      "525:\tlearn: 14.0312111\ttotal: 6.67s\tremaining: 6.01s\n",
      "526:\tlearn: 14.0246802\ttotal: 6.68s\tremaining: 6s\n",
      "527:\tlearn: 14.0121059\ttotal: 6.69s\tremaining: 5.98s\n",
      "528:\tlearn: 14.0059086\ttotal: 6.71s\tremaining: 5.97s\n",
      "529:\tlearn: 13.9928059\ttotal: 6.72s\tremaining: 5.96s\n",
      "530:\tlearn: 13.9875638\ttotal: 6.73s\tremaining: 5.94s\n",
      "531:\tlearn: 13.9802479\ttotal: 6.74s\tremaining: 5.93s\n",
      "532:\tlearn: 13.9676375\ttotal: 6.75s\tremaining: 5.92s\n",
      "533:\tlearn: 13.9572416\ttotal: 6.76s\tremaining: 5.9s\n",
      "534:\tlearn: 13.9445307\ttotal: 6.78s\tremaining: 5.89s\n",
      "535:\tlearn: 13.9374560\ttotal: 6.79s\tremaining: 5.88s\n",
      "536:\tlearn: 13.9200762\ttotal: 6.8s\tremaining: 5.86s\n",
      "537:\tlearn: 13.9121081\ttotal: 6.81s\tremaining: 5.85s\n",
      "538:\tlearn: 13.9035051\ttotal: 6.82s\tremaining: 5.83s\n",
      "539:\tlearn: 13.8886990\ttotal: 6.83s\tremaining: 5.82s\n",
      "540:\tlearn: 13.8850859\ttotal: 6.84s\tremaining: 5.81s\n",
      "541:\tlearn: 13.8732144\ttotal: 6.86s\tremaining: 5.79s\n",
      "542:\tlearn: 13.8561620\ttotal: 6.87s\tremaining: 5.78s\n",
      "543:\tlearn: 13.8547612\ttotal: 6.88s\tremaining: 5.77s\n",
      "544:\tlearn: 13.8440659\ttotal: 6.89s\tremaining: 5.75s\n",
      "545:\tlearn: 13.8240883\ttotal: 6.9s\tremaining: 5.74s\n",
      "546:\tlearn: 13.8123942\ttotal: 6.91s\tremaining: 5.73s\n",
      "547:\tlearn: 13.7942619\ttotal: 6.93s\tremaining: 5.71s\n",
      "548:\tlearn: 13.7778937\ttotal: 6.94s\tremaining: 5.7s\n",
      "549:\tlearn: 13.7733583\ttotal: 6.95s\tremaining: 5.69s\n",
      "550:\tlearn: 13.7608584\ttotal: 6.96s\tremaining: 5.67s\n",
      "551:\tlearn: 13.7452866\ttotal: 6.97s\tremaining: 5.66s\n",
      "552:\tlearn: 13.7364172\ttotal: 6.99s\tremaining: 5.65s\n",
      "553:\tlearn: 13.7220706\ttotal: 7s\tremaining: 5.63s\n",
      "554:\tlearn: 13.7093691\ttotal: 7.01s\tremaining: 5.62s\n",
      "555:\tlearn: 13.6943729\ttotal: 7.02s\tremaining: 5.61s\n",
      "556:\tlearn: 13.6799417\ttotal: 7.04s\tremaining: 5.6s\n",
      "557:\tlearn: 13.6723098\ttotal: 7.05s\tremaining: 5.58s\n",
      "558:\tlearn: 13.6602994\ttotal: 7.06s\tremaining: 5.57s\n",
      "559:\tlearn: 13.6463272\ttotal: 7.07s\tremaining: 5.56s\n",
      "560:\tlearn: 13.6359248\ttotal: 7.09s\tremaining: 5.55s\n",
      "561:\tlearn: 13.6167408\ttotal: 7.11s\tremaining: 5.54s\n",
      "562:\tlearn: 13.6058492\ttotal: 7.12s\tremaining: 5.53s\n",
      "563:\tlearn: 13.5961841\ttotal: 7.14s\tremaining: 5.52s\n",
      "564:\tlearn: 13.5899988\ttotal: 7.16s\tremaining: 5.51s\n",
      "565:\tlearn: 13.5764976\ttotal: 7.17s\tremaining: 5.5s\n",
      "566:\tlearn: 13.5609437\ttotal: 7.19s\tremaining: 5.49s\n",
      "567:\tlearn: 13.5498375\ttotal: 7.21s\tremaining: 5.48s\n",
      "568:\tlearn: 13.5461497\ttotal: 7.22s\tremaining: 5.47s\n",
      "569:\tlearn: 13.5371297\ttotal: 7.24s\tremaining: 5.46s\n",
      "570:\tlearn: 13.5241240\ttotal: 7.25s\tremaining: 5.45s\n",
      "571:\tlearn: 13.5131493\ttotal: 7.26s\tremaining: 5.43s\n",
      "572:\tlearn: 13.5043741\ttotal: 7.27s\tremaining: 5.42s\n",
      "573:\tlearn: 13.4876616\ttotal: 7.28s\tremaining: 5.41s\n",
      "574:\tlearn: 13.4733564\ttotal: 7.3s\tremaining: 5.39s\n",
      "575:\tlearn: 13.4633333\ttotal: 7.31s\tremaining: 5.38s\n",
      "576:\tlearn: 13.4460679\ttotal: 7.32s\tremaining: 5.37s\n",
      "577:\tlearn: 13.4306821\ttotal: 7.33s\tremaining: 5.35s\n",
      "578:\tlearn: 13.4191852\ttotal: 7.35s\tremaining: 5.34s\n",
      "579:\tlearn: 13.4102240\ttotal: 7.36s\tremaining: 5.33s\n",
      "580:\tlearn: 13.3997791\ttotal: 7.38s\tremaining: 5.32s\n",
      "581:\tlearn: 13.3864017\ttotal: 7.39s\tremaining: 5.31s\n",
      "582:\tlearn: 13.3735557\ttotal: 7.4s\tremaining: 5.29s\n",
      "583:\tlearn: 13.3649253\ttotal: 7.41s\tremaining: 5.28s\n",
      "584:\tlearn: 13.3498048\ttotal: 7.42s\tremaining: 5.27s\n",
      "585:\tlearn: 13.3428769\ttotal: 7.44s\tremaining: 5.25s\n",
      "586:\tlearn: 13.3333346\ttotal: 7.45s\tremaining: 5.24s\n",
      "587:\tlearn: 13.3213982\ttotal: 7.46s\tremaining: 5.23s\n",
      "588:\tlearn: 13.3120149\ttotal: 7.47s\tremaining: 5.21s\n",
      "589:\tlearn: 13.3060512\ttotal: 7.48s\tremaining: 5.2s\n",
      "590:\tlearn: 13.2924663\ttotal: 7.5s\tremaining: 5.19s\n",
      "591:\tlearn: 13.2818916\ttotal: 7.51s\tremaining: 5.18s\n",
      "592:\tlearn: 13.2721866\ttotal: 7.53s\tremaining: 5.17s\n",
      "593:\tlearn: 13.2552232\ttotal: 7.54s\tremaining: 5.15s\n",
      "594:\tlearn: 13.2464685\ttotal: 7.55s\tremaining: 5.14s\n",
      "595:\tlearn: 13.2456218\ttotal: 7.57s\tremaining: 5.13s\n",
      "596:\tlearn: 13.2319747\ttotal: 7.58s\tremaining: 5.12s\n",
      "597:\tlearn: 13.2205987\ttotal: 7.59s\tremaining: 5.1s\n",
      "598:\tlearn: 13.2148518\ttotal: 7.61s\tremaining: 5.09s\n",
      "599:\tlearn: 13.2030695\ttotal: 7.62s\tremaining: 5.08s\n",
      "600:\tlearn: 13.1951899\ttotal: 7.63s\tremaining: 5.06s\n",
      "601:\tlearn: 13.1849915\ttotal: 7.64s\tremaining: 5.05s\n",
      "602:\tlearn: 13.1759516\ttotal: 7.65s\tremaining: 5.04s\n",
      "603:\tlearn: 13.1629940\ttotal: 7.67s\tremaining: 5.03s\n",
      "604:\tlearn: 13.1510273\ttotal: 7.68s\tremaining: 5.01s\n",
      "605:\tlearn: 13.1418486\ttotal: 7.69s\tremaining: 5s\n",
      "606:\tlearn: 13.1299375\ttotal: 7.7s\tremaining: 4.99s\n",
      "607:\tlearn: 13.1191911\ttotal: 7.71s\tremaining: 4.97s\n",
      "608:\tlearn: 13.1047724\ttotal: 7.72s\tremaining: 4.96s\n",
      "609:\tlearn: 13.0975910\ttotal: 7.74s\tremaining: 4.95s\n",
      "610:\tlearn: 13.0872455\ttotal: 7.75s\tremaining: 4.93s\n",
      "611:\tlearn: 13.0774234\ttotal: 7.76s\tremaining: 4.92s\n",
      "612:\tlearn: 13.0664438\ttotal: 7.78s\tremaining: 4.91s\n",
      "613:\tlearn: 13.0615474\ttotal: 7.79s\tremaining: 4.89s\n",
      "614:\tlearn: 13.0497454\ttotal: 7.8s\tremaining: 4.88s\n",
      "615:\tlearn: 13.0403577\ttotal: 7.81s\tremaining: 4.87s\n",
      "616:\tlearn: 13.0263487\ttotal: 7.82s\tremaining: 4.86s\n",
      "617:\tlearn: 13.0130363\ttotal: 7.84s\tremaining: 4.85s\n",
      "618:\tlearn: 12.9979675\ttotal: 7.86s\tremaining: 4.83s\n",
      "619:\tlearn: 12.9971360\ttotal: 7.87s\tremaining: 4.82s\n",
      "620:\tlearn: 12.9840270\ttotal: 7.88s\tremaining: 4.81s\n",
      "621:\tlearn: 12.9706044\ttotal: 7.89s\tremaining: 4.79s\n",
      "622:\tlearn: 12.9666982\ttotal: 7.9s\tremaining: 4.78s\n",
      "623:\tlearn: 12.9556578\ttotal: 7.92s\tremaining: 4.77s\n",
      "624:\tlearn: 12.9443428\ttotal: 7.93s\tremaining: 4.76s\n",
      "625:\tlearn: 12.9343340\ttotal: 7.94s\tremaining: 4.74s\n",
      "626:\tlearn: 12.9215911\ttotal: 7.95s\tremaining: 4.73s\n",
      "627:\tlearn: 12.9109516\ttotal: 7.97s\tremaining: 4.72s\n",
      "628:\tlearn: 12.9100751\ttotal: 7.98s\tremaining: 4.71s\n",
      "629:\tlearn: 12.9093834\ttotal: 7.99s\tremaining: 4.69s\n",
      "630:\tlearn: 12.9001148\ttotal: 8s\tremaining: 4.68s\n",
      "631:\tlearn: 12.8930494\ttotal: 8.01s\tremaining: 4.67s\n",
      "632:\tlearn: 12.8832236\ttotal: 8.03s\tremaining: 4.65s\n",
      "633:\tlearn: 12.8714187\ttotal: 8.04s\tremaining: 4.64s\n",
      "634:\tlearn: 12.8603919\ttotal: 8.05s\tremaining: 4.63s\n",
      "635:\tlearn: 12.8483751\ttotal: 8.06s\tremaining: 4.61s\n",
      "636:\tlearn: 12.8370847\ttotal: 8.07s\tremaining: 4.6s\n",
      "637:\tlearn: 12.8291968\ttotal: 8.08s\tremaining: 4.59s\n",
      "638:\tlearn: 12.8161462\ttotal: 8.1s\tremaining: 4.57s\n",
      "639:\tlearn: 12.8069800\ttotal: 8.11s\tremaining: 4.56s\n",
      "640:\tlearn: 12.8008496\ttotal: 8.12s\tremaining: 4.55s\n",
      "641:\tlearn: 12.7997868\ttotal: 8.13s\tremaining: 4.54s\n",
      "642:\tlearn: 12.7857725\ttotal: 8.15s\tremaining: 4.52s\n",
      "643:\tlearn: 12.7716658\ttotal: 8.16s\tremaining: 4.51s\n",
      "644:\tlearn: 12.7629315\ttotal: 8.17s\tremaining: 4.5s\n",
      "645:\tlearn: 12.7533425\ttotal: 8.18s\tremaining: 4.48s\n",
      "646:\tlearn: 12.7452091\ttotal: 8.2s\tremaining: 4.47s\n",
      "647:\tlearn: 12.7433916\ttotal: 8.21s\tremaining: 4.46s\n",
      "648:\tlearn: 12.7322013\ttotal: 8.22s\tremaining: 4.45s\n",
      "649:\tlearn: 12.7165248\ttotal: 8.23s\tremaining: 4.43s\n",
      "650:\tlearn: 12.7068398\ttotal: 8.25s\tremaining: 4.42s\n",
      "651:\tlearn: 12.6982423\ttotal: 8.26s\tremaining: 4.41s\n",
      "652:\tlearn: 12.6857758\ttotal: 8.27s\tremaining: 4.39s\n",
      "653:\tlearn: 12.6753036\ttotal: 8.28s\tremaining: 4.38s\n",
      "654:\tlearn: 12.6654086\ttotal: 8.29s\tremaining: 4.37s\n",
      "655:\tlearn: 12.6521090\ttotal: 8.31s\tremaining: 4.36s\n",
      "656:\tlearn: 12.6456443\ttotal: 8.32s\tremaining: 4.34s\n",
      "657:\tlearn: 12.6354338\ttotal: 8.33s\tremaining: 4.33s\n",
      "658:\tlearn: 12.6236483\ttotal: 8.35s\tremaining: 4.32s\n",
      "659:\tlearn: 12.6149265\ttotal: 8.36s\tremaining: 4.31s\n",
      "660:\tlearn: 12.6051646\ttotal: 8.38s\tremaining: 4.29s\n",
      "661:\tlearn: 12.5920360\ttotal: 8.39s\tremaining: 4.28s\n",
      "662:\tlearn: 12.5808529\ttotal: 8.4s\tremaining: 4.27s\n",
      "663:\tlearn: 12.5679141\ttotal: 8.41s\tremaining: 4.26s\n",
      "664:\tlearn: 12.5554164\ttotal: 8.43s\tremaining: 4.25s\n",
      "665:\tlearn: 12.5443902\ttotal: 8.44s\tremaining: 4.23s\n",
      "666:\tlearn: 12.5318704\ttotal: 8.45s\tremaining: 4.22s\n",
      "667:\tlearn: 12.5189275\ttotal: 8.46s\tremaining: 4.21s\n",
      "668:\tlearn: 12.5034120\ttotal: 8.47s\tremaining: 4.19s\n",
      "669:\tlearn: 12.5023235\ttotal: 8.49s\tremaining: 4.18s\n",
      "670:\tlearn: 12.4930079\ttotal: 8.5s\tremaining: 4.17s\n",
      "671:\tlearn: 12.4870070\ttotal: 8.51s\tremaining: 4.15s\n",
      "672:\tlearn: 12.4727481\ttotal: 8.52s\tremaining: 4.14s\n",
      "673:\tlearn: 12.4603637\ttotal: 8.53s\tremaining: 4.13s\n",
      "674:\tlearn: 12.4469626\ttotal: 8.55s\tremaining: 4.12s\n",
      "675:\tlearn: 12.4351800\ttotal: 8.56s\tremaining: 4.1s\n",
      "676:\tlearn: 12.4344676\ttotal: 8.57s\tremaining: 4.09s\n",
      "677:\tlearn: 12.4246033\ttotal: 8.59s\tremaining: 4.08s\n",
      "678:\tlearn: 12.4239455\ttotal: 8.6s\tremaining: 4.06s\n",
      "679:\tlearn: 12.4099950\ttotal: 8.61s\tremaining: 4.05s\n",
      "680:\tlearn: 12.3968147\ttotal: 8.62s\tremaining: 4.04s\n",
      "681:\tlearn: 12.3883430\ttotal: 8.63s\tremaining: 4.03s\n",
      "682:\tlearn: 12.3788696\ttotal: 8.65s\tremaining: 4.01s\n",
      "683:\tlearn: 12.3719281\ttotal: 8.66s\tremaining: 4s\n",
      "684:\tlearn: 12.3553470\ttotal: 8.67s\tremaining: 3.99s\n",
      "685:\tlearn: 12.3432944\ttotal: 8.68s\tremaining: 3.97s\n",
      "686:\tlearn: 12.3349824\ttotal: 8.69s\tremaining: 3.96s\n",
      "687:\tlearn: 12.3209364\ttotal: 8.71s\tremaining: 3.95s\n",
      "688:\tlearn: 12.3121848\ttotal: 8.72s\tremaining: 3.93s\n",
      "689:\tlearn: 12.3009215\ttotal: 8.73s\tremaining: 3.92s\n",
      "690:\tlearn: 12.2915740\ttotal: 8.74s\tremaining: 3.91s\n",
      "691:\tlearn: 12.2834435\ttotal: 8.75s\tremaining: 3.9s\n",
      "692:\tlearn: 12.2668739\ttotal: 8.76s\tremaining: 3.88s\n",
      "693:\tlearn: 12.2656692\ttotal: 8.78s\tremaining: 3.87s\n",
      "694:\tlearn: 12.2649921\ttotal: 8.79s\tremaining: 3.86s\n",
      "695:\tlearn: 12.2590396\ttotal: 8.8s\tremaining: 3.84s\n",
      "696:\tlearn: 12.2582689\ttotal: 8.81s\tremaining: 3.83s\n",
      "697:\tlearn: 12.2455670\ttotal: 8.82s\tremaining: 3.82s\n",
      "698:\tlearn: 12.2344501\ttotal: 8.83s\tremaining: 3.8s\n",
      "699:\tlearn: 12.2338027\ttotal: 8.85s\tremaining: 3.79s\n",
      "700:\tlearn: 12.2266213\ttotal: 8.86s\tremaining: 3.78s\n",
      "701:\tlearn: 12.2251861\ttotal: 8.87s\tremaining: 3.76s\n",
      "702:\tlearn: 12.2151291\ttotal: 8.88s\tremaining: 3.75s\n",
      "703:\tlearn: 12.2059000\ttotal: 8.89s\tremaining: 3.74s\n",
      "704:\tlearn: 12.1880120\ttotal: 8.9s\tremaining: 3.73s\n",
      "705:\tlearn: 12.1781988\ttotal: 8.91s\tremaining: 3.71s\n",
      "706:\tlearn: 12.1682501\ttotal: 8.93s\tremaining: 3.7s\n",
      "707:\tlearn: 12.1583443\ttotal: 8.94s\tremaining: 3.69s\n",
      "708:\tlearn: 12.1573083\ttotal: 8.95s\tremaining: 3.67s\n",
      "709:\tlearn: 12.1525143\ttotal: 8.96s\tremaining: 3.66s\n",
      "710:\tlearn: 12.1437248\ttotal: 8.97s\tremaining: 3.65s\n",
      "711:\tlearn: 12.1325591\ttotal: 8.99s\tremaining: 3.63s\n",
      "712:\tlearn: 12.1259082\ttotal: 9s\tremaining: 3.62s\n",
      "713:\tlearn: 12.1144416\ttotal: 9.01s\tremaining: 3.61s\n",
      "714:\tlearn: 12.1041794\ttotal: 9.03s\tremaining: 3.6s\n",
      "715:\tlearn: 12.0979727\ttotal: 9.04s\tremaining: 3.58s\n",
      "716:\tlearn: 12.0929184\ttotal: 9.05s\tremaining: 3.57s\n",
      "717:\tlearn: 12.0827157\ttotal: 9.06s\tremaining: 3.56s\n",
      "718:\tlearn: 12.0758756\ttotal: 9.07s\tremaining: 3.55s\n",
      "719:\tlearn: 12.0684761\ttotal: 9.09s\tremaining: 3.53s\n",
      "720:\tlearn: 12.0556524\ttotal: 9.1s\tremaining: 3.52s\n",
      "721:\tlearn: 12.0475654\ttotal: 9.11s\tremaining: 3.51s\n",
      "722:\tlearn: 12.0393917\ttotal: 9.12s\tremaining: 3.5s\n",
      "723:\tlearn: 12.0264962\ttotal: 9.14s\tremaining: 3.48s\n",
      "724:\tlearn: 12.0162911\ttotal: 9.15s\tremaining: 3.47s\n",
      "725:\tlearn: 12.0071130\ttotal: 9.16s\tremaining: 3.46s\n",
      "726:\tlearn: 11.9935797\ttotal: 9.17s\tremaining: 3.44s\n",
      "727:\tlearn: 11.9818330\ttotal: 9.19s\tremaining: 3.43s\n",
      "728:\tlearn: 11.9761399\ttotal: 9.2s\tremaining: 3.42s\n",
      "729:\tlearn: 11.9719173\ttotal: 9.21s\tremaining: 3.41s\n",
      "730:\tlearn: 11.9618286\ttotal: 9.22s\tremaining: 3.39s\n",
      "731:\tlearn: 11.9525534\ttotal: 9.23s\tremaining: 3.38s\n",
      "732:\tlearn: 11.9446386\ttotal: 9.25s\tremaining: 3.37s\n",
      "733:\tlearn: 11.9358877\ttotal: 9.26s\tremaining: 3.36s\n",
      "734:\tlearn: 11.9345331\ttotal: 9.27s\tremaining: 3.34s\n",
      "735:\tlearn: 11.9268910\ttotal: 9.29s\tremaining: 3.33s\n",
      "736:\tlearn: 11.9178484\ttotal: 9.3s\tremaining: 3.32s\n",
      "737:\tlearn: 11.9060526\ttotal: 9.31s\tremaining: 3.3s\n",
      "738:\tlearn: 11.8984276\ttotal: 9.32s\tremaining: 3.29s\n",
      "739:\tlearn: 11.8937598\ttotal: 9.34s\tremaining: 3.28s\n",
      "740:\tlearn: 11.8839270\ttotal: 9.35s\tremaining: 3.27s\n",
      "741:\tlearn: 11.8803937\ttotal: 9.37s\tremaining: 3.26s\n",
      "742:\tlearn: 11.8733020\ttotal: 9.38s\tremaining: 3.24s\n",
      "743:\tlearn: 11.8642502\ttotal: 9.39s\tremaining: 3.23s\n",
      "744:\tlearn: 11.8636537\ttotal: 9.4s\tremaining: 3.22s\n",
      "745:\tlearn: 11.8551863\ttotal: 9.41s\tremaining: 3.2s\n",
      "746:\tlearn: 11.8451438\ttotal: 9.43s\tremaining: 3.19s\n",
      "747:\tlearn: 11.8303946\ttotal: 9.44s\tremaining: 3.18s\n",
      "748:\tlearn: 11.8215632\ttotal: 9.46s\tremaining: 3.17s\n",
      "749:\tlearn: 11.8087522\ttotal: 9.47s\tremaining: 3.16s\n",
      "750:\tlearn: 11.8001271\ttotal: 9.49s\tremaining: 3.15s\n",
      "751:\tlearn: 11.7882351\ttotal: 9.5s\tremaining: 3.13s\n",
      "752:\tlearn: 11.7791296\ttotal: 9.51s\tremaining: 3.12s\n",
      "753:\tlearn: 11.7695428\ttotal: 9.52s\tremaining: 3.11s\n",
      "754:\tlearn: 11.7628137\ttotal: 9.53s\tremaining: 3.09s\n",
      "755:\tlearn: 11.7564486\ttotal: 9.54s\tremaining: 3.08s\n",
      "756:\tlearn: 11.7491332\ttotal: 9.56s\tremaining: 3.07s\n",
      "757:\tlearn: 11.7408037\ttotal: 9.57s\tremaining: 3.05s\n",
      "758:\tlearn: 11.7366759\ttotal: 9.58s\tremaining: 3.04s\n",
      "759:\tlearn: 11.7296878\ttotal: 9.59s\tremaining: 3.03s\n",
      "760:\tlearn: 11.7216610\ttotal: 9.6s\tremaining: 3.02s\n",
      "761:\tlearn: 11.7142728\ttotal: 9.61s\tremaining: 3s\n",
      "762:\tlearn: 11.7059141\ttotal: 9.62s\tremaining: 2.99s\n",
      "763:\tlearn: 11.7022009\ttotal: 9.64s\tremaining: 2.98s\n",
      "764:\tlearn: 11.6992975\ttotal: 9.65s\tremaining: 2.96s\n",
      "765:\tlearn: 11.6892922\ttotal: 9.66s\tremaining: 2.95s\n",
      "766:\tlearn: 11.6841657\ttotal: 9.67s\tremaining: 2.94s\n",
      "767:\tlearn: 11.6724135\ttotal: 9.68s\tremaining: 2.92s\n",
      "768:\tlearn: 11.6634727\ttotal: 9.69s\tremaining: 2.91s\n",
      "769:\tlearn: 11.6520002\ttotal: 9.71s\tremaining: 2.9s\n",
      "770:\tlearn: 11.6368271\ttotal: 9.72s\tremaining: 2.89s\n",
      "771:\tlearn: 11.6231986\ttotal: 9.73s\tremaining: 2.87s\n",
      "772:\tlearn: 11.6122057\ttotal: 9.74s\tremaining: 2.86s\n",
      "773:\tlearn: 11.6009500\ttotal: 9.75s\tremaining: 2.85s\n",
      "774:\tlearn: 11.5934053\ttotal: 9.77s\tremaining: 2.83s\n",
      "775:\tlearn: 11.5826608\ttotal: 9.78s\tremaining: 2.82s\n",
      "776:\tlearn: 11.5730412\ttotal: 9.79s\tremaining: 2.81s\n",
      "777:\tlearn: 11.5615951\ttotal: 9.8s\tremaining: 2.8s\n",
      "778:\tlearn: 11.5603119\ttotal: 9.81s\tremaining: 2.78s\n",
      "779:\tlearn: 11.5472392\ttotal: 9.83s\tremaining: 2.77s\n",
      "780:\tlearn: 11.5439317\ttotal: 9.84s\tremaining: 2.76s\n",
      "781:\tlearn: 11.5298905\ttotal: 9.85s\tremaining: 2.75s\n",
      "782:\tlearn: 11.5224138\ttotal: 9.86s\tremaining: 2.73s\n",
      "783:\tlearn: 11.5130218\ttotal: 9.87s\tremaining: 2.72s\n",
      "784:\tlearn: 11.5015585\ttotal: 9.89s\tremaining: 2.71s\n",
      "785:\tlearn: 11.4942513\ttotal: 9.9s\tremaining: 2.69s\n",
      "786:\tlearn: 11.4834639\ttotal: 9.91s\tremaining: 2.68s\n",
      "787:\tlearn: 11.4740461\ttotal: 9.92s\tremaining: 2.67s\n",
      "788:\tlearn: 11.4579544\ttotal: 9.93s\tremaining: 2.66s\n",
      "789:\tlearn: 11.4446652\ttotal: 9.94s\tremaining: 2.64s\n",
      "790:\tlearn: 11.4353992\ttotal: 9.96s\tremaining: 2.63s\n",
      "791:\tlearn: 11.4280381\ttotal: 9.97s\tremaining: 2.62s\n",
      "792:\tlearn: 11.4186598\ttotal: 9.98s\tremaining: 2.6s\n",
      "793:\tlearn: 11.4101242\ttotal: 9.99s\tremaining: 2.59s\n",
      "794:\tlearn: 11.3980505\ttotal: 10s\tremaining: 2.58s\n",
      "795:\tlearn: 11.3850735\ttotal: 10s\tremaining: 2.57s\n",
      "796:\tlearn: 11.3766259\ttotal: 10s\tremaining: 2.55s\n",
      "797:\tlearn: 11.3760793\ttotal: 10s\tremaining: 2.54s\n",
      "798:\tlearn: 11.3695527\ttotal: 10s\tremaining: 2.53s\n",
      "799:\tlearn: 11.3644529\ttotal: 10.1s\tremaining: 2.51s\n",
      "800:\tlearn: 11.3517495\ttotal: 10.1s\tremaining: 2.5s\n",
      "801:\tlearn: 11.3442530\ttotal: 10.1s\tremaining: 2.49s\n",
      "802:\tlearn: 11.3350829\ttotal: 10.1s\tremaining: 2.48s\n",
      "803:\tlearn: 11.3343006\ttotal: 10.1s\tremaining: 2.46s\n",
      "804:\tlearn: 11.3288277\ttotal: 10.1s\tremaining: 2.45s\n",
      "805:\tlearn: 11.3204854\ttotal: 10.1s\tremaining: 2.44s\n",
      "806:\tlearn: 11.3146786\ttotal: 10.1s\tremaining: 2.42s\n",
      "807:\tlearn: 11.3058983\ttotal: 10.2s\tremaining: 2.41s\n",
      "808:\tlearn: 11.3012648\ttotal: 10.2s\tremaining: 2.4s\n",
      "809:\tlearn: 11.2893350\ttotal: 10.2s\tremaining: 2.39s\n",
      "810:\tlearn: 11.2826338\ttotal: 10.2s\tremaining: 2.37s\n",
      "811:\tlearn: 11.2727640\ttotal: 10.2s\tremaining: 2.36s\n",
      "812:\tlearn: 11.2597140\ttotal: 10.2s\tremaining: 2.35s\n",
      "813:\tlearn: 11.2514416\ttotal: 10.2s\tremaining: 2.34s\n",
      "814:\tlearn: 11.2379341\ttotal: 10.2s\tremaining: 2.32s\n",
      "815:\tlearn: 11.2333666\ttotal: 10.2s\tremaining: 2.31s\n",
      "816:\tlearn: 11.2276470\ttotal: 10.3s\tremaining: 2.3s\n",
      "817:\tlearn: 11.2216092\ttotal: 10.3s\tremaining: 2.29s\n",
      "818:\tlearn: 11.2142555\ttotal: 10.3s\tremaining: 2.27s\n",
      "819:\tlearn: 11.2129830\ttotal: 10.3s\tremaining: 2.26s\n",
      "820:\tlearn: 11.2015554\ttotal: 10.3s\tremaining: 2.25s\n",
      "821:\tlearn: 11.1916570\ttotal: 10.3s\tremaining: 2.24s\n",
      "822:\tlearn: 11.1833045\ttotal: 10.3s\tremaining: 2.22s\n",
      "823:\tlearn: 11.1764321\ttotal: 10.4s\tremaining: 2.21s\n",
      "824:\tlearn: 11.1716230\ttotal: 10.4s\tremaining: 2.2s\n",
      "825:\tlearn: 11.1647384\ttotal: 10.4s\tremaining: 2.19s\n",
      "826:\tlearn: 11.1543709\ttotal: 10.4s\tremaining: 2.17s\n",
      "827:\tlearn: 11.1436253\ttotal: 10.4s\tremaining: 2.16s\n",
      "828:\tlearn: 11.1380078\ttotal: 10.4s\tremaining: 2.15s\n",
      "829:\tlearn: 11.1224790\ttotal: 10.4s\tremaining: 2.13s\n",
      "830:\tlearn: 11.1110172\ttotal: 10.4s\tremaining: 2.12s\n",
      "831:\tlearn: 11.1007682\ttotal: 10.4s\tremaining: 2.11s\n",
      "832:\tlearn: 11.0898422\ttotal: 10.5s\tremaining: 2.1s\n",
      "833:\tlearn: 11.0820695\ttotal: 10.5s\tremaining: 2.08s\n",
      "834:\tlearn: 11.0742085\ttotal: 10.5s\tremaining: 2.07s\n",
      "835:\tlearn: 11.0666148\ttotal: 10.5s\tremaining: 2.06s\n",
      "836:\tlearn: 11.0577251\ttotal: 10.5s\tremaining: 2.05s\n",
      "837:\tlearn: 11.0515560\ttotal: 10.5s\tremaining: 2.04s\n",
      "838:\tlearn: 11.0508292\ttotal: 10.6s\tremaining: 2.02s\n",
      "839:\tlearn: 11.0441280\ttotal: 10.6s\tremaining: 2.01s\n",
      "840:\tlearn: 11.0383443\ttotal: 10.6s\tremaining: 2s\n",
      "841:\tlearn: 11.0282322\ttotal: 10.6s\tremaining: 1.99s\n",
      "842:\tlearn: 11.0186910\ttotal: 10.6s\tremaining: 1.98s\n",
      "843:\tlearn: 11.0114854\ttotal: 10.6s\tremaining: 1.96s\n",
      "844:\tlearn: 11.0001731\ttotal: 10.6s\tremaining: 1.95s\n",
      "845:\tlearn: 10.9993571\ttotal: 10.6s\tremaining: 1.94s\n",
      "846:\tlearn: 10.9942025\ttotal: 10.7s\tremaining: 1.93s\n",
      "847:\tlearn: 10.9878363\ttotal: 10.7s\tremaining: 1.91s\n",
      "848:\tlearn: 10.9820850\ttotal: 10.7s\tremaining: 1.9s\n",
      "849:\tlearn: 10.9764354\ttotal: 10.7s\tremaining: 1.89s\n",
      "850:\tlearn: 10.9651017\ttotal: 10.7s\tremaining: 1.88s\n",
      "851:\tlearn: 10.9598955\ttotal: 10.7s\tremaining: 1.86s\n",
      "852:\tlearn: 10.9463851\ttotal: 10.7s\tremaining: 1.85s\n",
      "853:\tlearn: 10.9384435\ttotal: 10.7s\tremaining: 1.84s\n",
      "854:\tlearn: 10.9335374\ttotal: 10.8s\tremaining: 1.82s\n",
      "855:\tlearn: 10.9292782\ttotal: 10.8s\tremaining: 1.81s\n",
      "856:\tlearn: 10.9208598\ttotal: 10.8s\tremaining: 1.8s\n",
      "857:\tlearn: 10.9148734\ttotal: 10.8s\tremaining: 1.79s\n",
      "858:\tlearn: 10.9093225\ttotal: 10.8s\tremaining: 1.77s\n",
      "859:\tlearn: 10.9013379\ttotal: 10.8s\tremaining: 1.76s\n",
      "860:\tlearn: 10.8944980\ttotal: 10.8s\tremaining: 1.75s\n",
      "861:\tlearn: 10.8940470\ttotal: 10.8s\tremaining: 1.74s\n",
      "862:\tlearn: 10.8902747\ttotal: 10.9s\tremaining: 1.72s\n",
      "863:\tlearn: 10.8857238\ttotal: 10.9s\tremaining: 1.71s\n",
      "864:\tlearn: 10.8756564\ttotal: 10.9s\tremaining: 1.7s\n",
      "865:\tlearn: 10.8670602\ttotal: 10.9s\tremaining: 1.69s\n",
      "866:\tlearn: 10.8566775\ttotal: 10.9s\tremaining: 1.67s\n",
      "867:\tlearn: 10.8495087\ttotal: 10.9s\tremaining: 1.66s\n",
      "868:\tlearn: 10.8409440\ttotal: 10.9s\tremaining: 1.65s\n",
      "869:\tlearn: 10.8309936\ttotal: 11s\tremaining: 1.64s\n",
      "870:\tlearn: 10.8206411\ttotal: 11s\tremaining: 1.62s\n",
      "871:\tlearn: 10.8148126\ttotal: 11s\tremaining: 1.61s\n",
      "872:\tlearn: 10.8054789\ttotal: 11s\tremaining: 1.6s\n",
      "873:\tlearn: 10.8050281\ttotal: 11s\tremaining: 1.59s\n",
      "874:\tlearn: 10.8001475\ttotal: 11s\tremaining: 1.57s\n",
      "875:\tlearn: 10.7930566\ttotal: 11s\tremaining: 1.56s\n",
      "876:\tlearn: 10.7824793\ttotal: 11s\tremaining: 1.55s\n",
      "877:\tlearn: 10.7770967\ttotal: 11.1s\tremaining: 1.53s\n",
      "878:\tlearn: 10.7652468\ttotal: 11.1s\tremaining: 1.52s\n",
      "879:\tlearn: 10.7589052\ttotal: 11.1s\tremaining: 1.51s\n",
      "880:\tlearn: 10.7477479\ttotal: 11.1s\tremaining: 1.5s\n",
      "881:\tlearn: 10.7365586\ttotal: 11.1s\tremaining: 1.48s\n",
      "882:\tlearn: 10.7269543\ttotal: 11.1s\tremaining: 1.47s\n",
      "883:\tlearn: 10.7144619\ttotal: 11.1s\tremaining: 1.46s\n",
      "884:\tlearn: 10.7058726\ttotal: 11.1s\tremaining: 1.45s\n",
      "885:\tlearn: 10.6978554\ttotal: 11.1s\tremaining: 1.43s\n",
      "886:\tlearn: 10.6863670\ttotal: 11.2s\tremaining: 1.42s\n",
      "887:\tlearn: 10.6761542\ttotal: 11.2s\tremaining: 1.41s\n",
      "888:\tlearn: 10.6695930\ttotal: 11.2s\tremaining: 1.4s\n",
      "889:\tlearn: 10.6625298\ttotal: 11.2s\tremaining: 1.38s\n",
      "890:\tlearn: 10.6595519\ttotal: 11.2s\tremaining: 1.37s\n",
      "891:\tlearn: 10.6555271\ttotal: 11.2s\tremaining: 1.36s\n",
      "892:\tlearn: 10.6502292\ttotal: 11.2s\tremaining: 1.34s\n",
      "893:\tlearn: 10.6405975\ttotal: 11.2s\tremaining: 1.33s\n",
      "894:\tlearn: 10.6331171\ttotal: 11.3s\tremaining: 1.32s\n",
      "895:\tlearn: 10.6286406\ttotal: 11.3s\tremaining: 1.31s\n",
      "896:\tlearn: 10.6209985\ttotal: 11.3s\tremaining: 1.29s\n",
      "897:\tlearn: 10.6087156\ttotal: 11.3s\tremaining: 1.28s\n",
      "898:\tlearn: 10.6032096\ttotal: 11.3s\tremaining: 1.27s\n",
      "899:\tlearn: 10.5935065\ttotal: 11.3s\tremaining: 1.26s\n",
      "900:\tlearn: 10.5828944\ttotal: 11.3s\tremaining: 1.24s\n",
      "901:\tlearn: 10.5770082\ttotal: 11.3s\tremaining: 1.23s\n",
      "902:\tlearn: 10.5708786\ttotal: 11.3s\tremaining: 1.22s\n",
      "903:\tlearn: 10.5627267\ttotal: 11.4s\tremaining: 1.21s\n",
      "904:\tlearn: 10.5577047\ttotal: 11.4s\tremaining: 1.19s\n",
      "905:\tlearn: 10.5475427\ttotal: 11.4s\tremaining: 1.18s\n",
      "906:\tlearn: 10.5400728\ttotal: 11.4s\tremaining: 1.17s\n",
      "907:\tlearn: 10.5305765\ttotal: 11.4s\tremaining: 1.16s\n",
      "908:\tlearn: 10.5225239\ttotal: 11.4s\tremaining: 1.14s\n",
      "909:\tlearn: 10.5182384\ttotal: 11.4s\tremaining: 1.13s\n",
      "910:\tlearn: 10.5137371\ttotal: 11.4s\tremaining: 1.12s\n",
      "911:\tlearn: 10.5071694\ttotal: 11.5s\tremaining: 1.1s\n",
      "912:\tlearn: 10.4991384\ttotal: 11.5s\tremaining: 1.09s\n",
      "913:\tlearn: 10.4965897\ttotal: 11.5s\tremaining: 1.08s\n",
      "914:\tlearn: 10.4918977\ttotal: 11.5s\tremaining: 1.07s\n",
      "915:\tlearn: 10.4825087\ttotal: 11.5s\tremaining: 1.05s\n",
      "916:\tlearn: 10.4796819\ttotal: 11.5s\tremaining: 1.04s\n",
      "917:\tlearn: 10.4725142\ttotal: 11.5s\tremaining: 1.03s\n",
      "918:\tlearn: 10.4708923\ttotal: 11.5s\tremaining: 1.02s\n",
      "919:\tlearn: 10.4651733\ttotal: 11.5s\tremaining: 1s\n",
      "920:\tlearn: 10.4537907\ttotal: 11.6s\tremaining: 995ms\n",
      "921:\tlearn: 10.4442236\ttotal: 11.6s\tremaining: 983ms\n",
      "922:\tlearn: 10.4329484\ttotal: 11.6s\tremaining: 970ms\n",
      "923:\tlearn: 10.4272565\ttotal: 11.6s\tremaining: 957ms\n",
      "924:\tlearn: 10.4128568\ttotal: 11.6s\tremaining: 945ms\n",
      "925:\tlearn: 10.4117297\ttotal: 11.7s\tremaining: 932ms\n",
      "926:\tlearn: 10.4108071\ttotal: 11.7s\tremaining: 919ms\n",
      "927:\tlearn: 10.3979708\ttotal: 11.7s\tremaining: 907ms\n",
      "928:\tlearn: 10.3894583\ttotal: 11.7s\tremaining: 898ms\n",
      "929:\tlearn: 10.3787220\ttotal: 11.8s\tremaining: 885ms\n",
      "930:\tlearn: 10.3711793\ttotal: 11.8s\tremaining: 873ms\n",
      "931:\tlearn: 10.3609653\ttotal: 11.8s\tremaining: 860ms\n",
      "932:\tlearn: 10.3571474\ttotal: 11.8s\tremaining: 851ms\n",
      "933:\tlearn: 10.3484499\ttotal: 11.9s\tremaining: 838ms\n",
      "934:\tlearn: 10.3415702\ttotal: 11.9s\tremaining: 825ms\n",
      "935:\tlearn: 10.3340657\ttotal: 11.9s\tremaining: 812ms\n",
      "936:\tlearn: 10.3265368\ttotal: 11.9s\tremaining: 800ms\n",
      "937:\tlearn: 10.3206199\ttotal: 11.9s\tremaining: 787ms\n",
      "938:\tlearn: 10.3199677\ttotal: 11.9s\tremaining: 774ms\n",
      "939:\tlearn: 10.3097678\ttotal: 11.9s\tremaining: 762ms\n",
      "940:\tlearn: 10.3061819\ttotal: 12s\tremaining: 752ms\n",
      "941:\tlearn: 10.3013016\ttotal: 12s\tremaining: 739ms\n",
      "942:\tlearn: 10.2894343\ttotal: 12s\tremaining: 727ms\n",
      "943:\tlearn: 10.2778546\ttotal: 12s\tremaining: 714ms\n",
      "944:\tlearn: 10.2697890\ttotal: 12.1s\tremaining: 704ms\n",
      "945:\tlearn: 10.2693625\ttotal: 12.1s\tremaining: 691ms\n",
      "946:\tlearn: 10.2623165\ttotal: 12.1s\tremaining: 678ms\n",
      "947:\tlearn: 10.2605507\ttotal: 12.1s\tremaining: 666ms\n",
      "948:\tlearn: 10.2553579\ttotal: 12.2s\tremaining: 656ms\n",
      "949:\tlearn: 10.2503153\ttotal: 12.2s\tremaining: 643ms\n",
      "950:\tlearn: 10.2418122\ttotal: 12.2s\tremaining: 630ms\n",
      "951:\tlearn: 10.2356493\ttotal: 12.2s\tremaining: 617ms\n",
      "952:\tlearn: 10.2299328\ttotal: 12.3s\tremaining: 606ms\n",
      "953:\tlearn: 10.2208485\ttotal: 12.3s\tremaining: 593ms\n",
      "954:\tlearn: 10.2161611\ttotal: 12.3s\tremaining: 580ms\n",
      "955:\tlearn: 10.2083514\ttotal: 12.3s\tremaining: 567ms\n",
      "956:\tlearn: 10.2034398\ttotal: 12.4s\tremaining: 557ms\n",
      "957:\tlearn: 10.2009980\ttotal: 12.4s\tremaining: 544ms\n",
      "958:\tlearn: 10.1950553\ttotal: 12.4s\tremaining: 531ms\n",
      "959:\tlearn: 10.1858372\ttotal: 12.5s\tremaining: 520ms\n",
      "960:\tlearn: 10.1788597\ttotal: 12.5s\tremaining: 507ms\n",
      "961:\tlearn: 10.1667004\ttotal: 12.5s\tremaining: 494ms\n",
      "962:\tlearn: 10.1563609\ttotal: 12.5s\tremaining: 481ms\n",
      "963:\tlearn: 10.1494914\ttotal: 12.5s\tremaining: 468ms\n",
      "964:\tlearn: 10.1489981\ttotal: 12.5s\tremaining: 455ms\n",
      "965:\tlearn: 10.1412975\ttotal: 12.6s\tremaining: 442ms\n",
      "966:\tlearn: 10.1377394\ttotal: 12.6s\tremaining: 429ms\n",
      "967:\tlearn: 10.1283424\ttotal: 12.6s\tremaining: 416ms\n",
      "968:\tlearn: 10.1265368\ttotal: 12.6s\tremaining: 403ms\n",
      "969:\tlearn: 10.1208367\ttotal: 12.6s\tremaining: 390ms\n",
      "970:\tlearn: 10.1126359\ttotal: 12.6s\tremaining: 377ms\n",
      "971:\tlearn: 10.1081426\ttotal: 12.7s\tremaining: 365ms\n",
      "972:\tlearn: 10.1031875\ttotal: 12.7s\tremaining: 352ms\n",
      "973:\tlearn: 10.0965068\ttotal: 12.7s\tremaining: 339ms\n",
      "974:\tlearn: 10.0929079\ttotal: 12.8s\tremaining: 328ms\n",
      "975:\tlearn: 10.0835727\ttotal: 12.8s\tremaining: 315ms\n",
      "976:\tlearn: 10.0779381\ttotal: 12.8s\tremaining: 302ms\n",
      "977:\tlearn: 10.0692053\ttotal: 12.9s\tremaining: 290ms\n",
      "978:\tlearn: 10.0600704\ttotal: 12.9s\tremaining: 277ms\n",
      "979:\tlearn: 10.0591969\ttotal: 12.9s\tremaining: 263ms\n",
      "980:\tlearn: 10.0527678\ttotal: 13s\tremaining: 251ms\n",
      "981:\tlearn: 10.0443762\ttotal: 13s\tremaining: 238ms\n",
      "982:\tlearn: 10.0377200\ttotal: 13s\tremaining: 225ms\n",
      "983:\tlearn: 10.0309960\ttotal: 13s\tremaining: 212ms\n",
      "984:\tlearn: 10.0196377\ttotal: 13.1s\tremaining: 199ms\n",
      "985:\tlearn: 10.0192799\ttotal: 13.1s\tremaining: 186ms\n",
      "986:\tlearn: 10.0135329\ttotal: 13.1s\tremaining: 173ms\n",
      "987:\tlearn: 10.0055032\ttotal: 13.2s\tremaining: 160ms\n",
      "988:\tlearn: 10.0008256\ttotal: 13.2s\tremaining: 147ms\n",
      "989:\tlearn: 9.9977672\ttotal: 13.2s\tremaining: 133ms\n",
      "990:\tlearn: 9.9886539\ttotal: 13.2s\tremaining: 120ms\n",
      "991:\tlearn: 9.9791831\ttotal: 13.2s\tremaining: 107ms\n",
      "992:\tlearn: 9.9732961\ttotal: 13.2s\tremaining: 93.3ms\n",
      "993:\tlearn: 9.9683401\ttotal: 13.3s\tremaining: 80.1ms\n",
      "994:\tlearn: 9.9589331\ttotal: 13.3s\tremaining: 66.8ms\n",
      "995:\tlearn: 9.9518971\ttotal: 13.3s\tremaining: 53.4ms\n",
      "996:\tlearn: 9.9434216\ttotal: 13.3s\tremaining: 40.1ms\n",
      "997:\tlearn: 9.9398365\ttotal: 13.3s\tremaining: 26.7ms\n",
      "998:\tlearn: 9.9370630\ttotal: 13.3s\tremaining: 13.4ms\n",
      "999:\tlearn: 9.9311178\ttotal: 13.4s\tremaining: 0us\n"
     ]
    }
   ],
   "source": [
    "# initialize data\n",
    "train_data = train.drop(columns=['num_orders'])\n",
    "train_label = train['num_orders']\n",
    "\n",
    "test_data = test.drop(columns=['num_orders'])\n",
    "\n",
    "# initialize Pool\n",
    "train_pool = Pool(train_data, \n",
    "                  train_label)\n",
    "test_pool = Pool(test_data) \n",
    "\n",
    "# specify the training parameters \n",
    "CatBR = CatBoostRegressor()\n",
    "#train the model\n",
    "CatBR.fit(train_pool)\n",
    "# make the prediction using the resulting model\n",
    "cat_preds = CatBR.predict(test_pool)"
   ]
  },
  {
   "cell_type": "code",
   "execution_count": 41,
   "metadata": {},
   "outputs": [
    {
     "data": {
      "text/plain": [
       "38.81671523582664"
      ]
     },
     "execution_count": 41,
     "metadata": {},
     "output_type": "execute_result"
    }
   ],
   "source": [
    "mean_squared_error(test['num_orders'], cat_preds, squared=False)"
   ]
  },
  {
   "cell_type": "code",
   "execution_count": 42,
   "metadata": {},
   "outputs": [
    {
     "data": {
      "image/png": "[encoded data removed]",
      "text/plain": [
       "<Figure size 936x576 with 1 Axes>"
      ]
     },
     "metadata": {
      "needs_background": "light"
     },
     "output_type": "display_data"
    }
   ],
   "source": [
    "x = test['num_orders'].index\n",
    "y1 = test['num_orders']\n",
    "y2 = cat_preds\n",
    "\n",
    "# plot\n",
    "fig, ax = plt.subplots()\n",
    "\n",
    "ax.plot(x, y1, linewidth=0.5, color=\"blue\", label='истинные')\n",
    "ax.plot(x, y2, linewidth=0.5, color=\"red\", label='предсказанные')\n",
    "\n",
    "fig.suptitle('Различия между истиным и предсказанными значениями', fontsize=20)\n",
    "plt.xticks(rotation=90)\n",
    "fig.set_size_inches(13, 8)\n",
    "plt.legend(fontsize=13)\n",
    "plt.show()"
   ]
  },
  {
   "cell_type": "markdown",
   "metadata": {},
   "source": [
    "## Вывод"
   ]
  },
  {
   "cell_type": "markdown",
   "metadata": {},
   "source": [
    "- Была проведен осмотр данных, рессемплинг данных и минимальная обработка выпадающих значений.\n",
    "- Присутствует ежедневная цикличность\n",
    "- Тенденция к росту в течение года\n",
    "- В рамках обучения было проведено:\n",
    "    - обучение обычной регрессионной модели: RSME 43.1\n",
    "    - обучение XGBoost: RSME 42.8\n",
    "        - попытка найти нужные гиперпараметры, под хорошие параметры lag и rolling window\n",
    "    - обучение CatBoost: RSME 38.8\n",
    "- По итогам обучения лучший показатель у CatBoost 38.8 RMSE на тестовой выборке, стоит выбрать данную модель для выполнения поставленной задачи"
   ]
  },
  {
   "cell_type": "markdown",
   "metadata": {},
   "source": [
    "## Чек-лист проверки"
   ]
  },
  {
   "cell_type": "markdown",
   "metadata": {},
   "source": [
    "- [x]  Jupyter Notebook открыт\n",
    "- [ ]  Весь код выполняется без ошибок\n",
    "- [ ]  Ячейки с кодом расположены в порядке исполнения\n",
    "- [ ]  Данные загружены и подготовлены\n",
    "- [ ]  Данные проанализированы\n",
    "- [ ]  Модель обучена, гиперпараметры подобраны\n",
    "- [ ]  Качество моделей проверено, выводы сделаны\n",
    "- [ ]  Значение *RMSE* на тестовой выборке не больше 48"
   ]
  }
 ],
 "metadata": {
  "ExecuteTimeLog": [
   {
    "duration": 58,
    "start_time": "2022-07-07T07:24:34.243Z"
   },
   {
    "duration": 419,
    "start_time": "2022-07-07T07:24:43.356Z"
   },
   {
    "duration": 88,
    "start_time": "2022-07-07T07:24:44.891Z"
   },
   {
    "duration": 15,
    "start_time": "2022-07-07T07:24:47.144Z"
   },
   {
    "duration": 4,
    "start_time": "2022-07-07T07:24:57.593Z"
   },
   {
    "duration": 34,
    "start_time": "2022-07-07T07:27:40.815Z"
   },
   {
    "duration": 5,
    "start_time": "2022-07-07T07:27:41.940Z"
   },
   {
    "duration": 9,
    "start_time": "2022-07-07T07:27:44.909Z"
   },
   {
    "duration": 10,
    "start_time": "2022-07-07T07:27:51.463Z"
   },
   {
    "duration": 510,
    "start_time": "2022-07-07T07:27:58.426Z"
   },
   {
    "duration": 20,
    "start_time": "2022-07-07T07:28:06.414Z"
   },
   {
    "duration": 38,
    "start_time": "2022-07-07T07:30:03.968Z"
   },
   {
    "duration": 8,
    "start_time": "2022-07-07T07:30:11.240Z"
   },
   {
    "duration": 8,
    "start_time": "2022-07-07T07:30:47.181Z"
   },
   {
    "duration": 10,
    "start_time": "2022-07-07T07:30:51.997Z"
   },
   {
    "duration": 9,
    "start_time": "2022-07-07T07:30:55.198Z"
   },
   {
    "duration": 8,
    "start_time": "2022-07-07T07:31:07.968Z"
   },
   {
    "duration": 18,
    "start_time": "2022-07-07T07:31:17.901Z"
   },
   {
    "duration": 8,
    "start_time": "2022-07-07T07:31:56.710Z"
   },
   {
    "duration": 8,
    "start_time": "2022-07-07T07:31:59.177Z"
   },
   {
    "duration": 11,
    "start_time": "2022-07-07T07:32:01.113Z"
   },
   {
    "duration": 95,
    "start_time": "2022-07-07T07:32:02.575Z"
   },
   {
    "duration": 13,
    "start_time": "2022-07-07T07:32:08.895Z"
   },
   {
    "duration": 5,
    "start_time": "2022-07-07T07:32:44.400Z"
   },
   {
    "duration": 8,
    "start_time": "2022-07-07T07:32:55.049Z"
   },
   {
    "duration": 8,
    "start_time": "2022-07-07T07:33:03.269Z"
   },
   {
    "duration": 8,
    "start_time": "2022-07-07T07:33:14.639Z"
   },
   {
    "duration": 3,
    "start_time": "2022-07-07T07:33:31.328Z"
   },
   {
    "duration": 9,
    "start_time": "2022-07-07T07:33:33.385Z"
   },
   {
    "duration": 5,
    "start_time": "2022-07-07T07:33:42.080Z"
   },
   {
    "duration": 7,
    "start_time": "2022-07-07T07:33:44.741Z"
   },
   {
    "duration": 7,
    "start_time": "2022-07-07T07:33:57.235Z"
   },
   {
    "duration": 6,
    "start_time": "2022-07-07T07:34:02.047Z"
   },
   {
    "duration": 15,
    "start_time": "2022-07-07T07:34:29.490Z"
   },
   {
    "duration": 11,
    "start_time": "2022-07-07T07:34:31.850Z"
   },
   {
    "duration": 16,
    "start_time": "2022-07-07T07:34:46.496Z"
   },
   {
    "duration": 10,
    "start_time": "2022-07-07T07:34:50.379Z"
   },
   {
    "duration": 11,
    "start_time": "2022-07-07T07:34:54.177Z"
   },
   {
    "duration": 7,
    "start_time": "2022-07-07T07:34:58.377Z"
   },
   {
    "duration": 7,
    "start_time": "2022-07-07T07:35:07.377Z"
   },
   {
    "duration": 11,
    "start_time": "2022-07-07T07:35:17.515Z"
   },
   {
    "duration": 10,
    "start_time": "2022-07-07T07:35:24.192Z"
   },
   {
    "duration": 8,
    "start_time": "2022-07-07T07:35:37.080Z"
   },
   {
    "duration": 8,
    "start_time": "2022-07-07T07:36:26.742Z"
   },
   {
    "duration": 4,
    "start_time": "2022-07-07T07:36:45.277Z"
   },
   {
    "duration": 15,
    "start_time": "2022-07-07T07:36:48.148Z"
   },
   {
    "duration": 6,
    "start_time": "2022-07-07T07:37:11.384Z"
   },
   {
    "duration": 13,
    "start_time": "2022-07-07T07:37:12.305Z"
   },
   {
    "duration": 4,
    "start_time": "2022-07-07T07:39:48.157Z"
   },
   {
    "duration": 1187,
    "start_time": "2022-07-09T04:35:41.749Z"
   },
   {
    "duration": 8,
    "start_time": "2022-07-09T04:38:10.098Z"
   },
   {
    "duration": 38,
    "start_time": "2022-07-09T04:38:10.109Z"
   },
   {
    "duration": 17,
    "start_time": "2022-07-09T04:38:10.149Z"
   },
   {
    "duration": 268,
    "start_time": "2022-07-09T04:38:10.169Z"
   },
   {
    "duration": 11,
    "start_time": "2022-07-09T04:38:10.439Z"
   },
   {
    "duration": 23,
    "start_time": "2022-07-09T04:38:10.452Z"
   },
   {
    "duration": 16,
    "start_time": "2022-07-09T04:38:10.478Z"
   },
   {
    "duration": 796,
    "start_time": "2022-07-09T04:38:10.496Z"
   },
   {
    "duration": 22,
    "start_time": "2022-07-09T04:38:11.294Z"
   },
   {
    "duration": 34,
    "start_time": "2022-07-09T04:38:11.324Z"
   },
   {
    "duration": 14,
    "start_time": "2022-07-09T04:38:11.360Z"
   },
   {
    "duration": 7,
    "start_time": "2022-07-09T04:38:11.376Z"
   },
   {
    "duration": 5,
    "start_time": "2022-07-09T04:38:14.192Z"
   },
   {
    "duration": 9,
    "start_time": "2022-07-09T04:38:24.232Z"
   },
   {
    "duration": 27,
    "start_time": "2022-07-09T04:44:37.372Z"
   },
   {
    "duration": 5,
    "start_time": "2022-07-09T04:44:48.431Z"
   },
   {
    "duration": 11,
    "start_time": "2022-07-09T04:45:52.075Z"
   },
   {
    "duration": 13,
    "start_time": "2022-07-09T04:46:01.239Z"
   },
   {
    "duration": 38,
    "start_time": "2022-07-09T04:46:03.695Z"
   },
   {
    "duration": 185,
    "start_time": "2022-07-09T04:47:55.522Z"
   },
   {
    "duration": 11,
    "start_time": "2022-07-09T04:48:01.865Z"
   },
   {
    "duration": 33,
    "start_time": "2022-07-09T04:48:29.947Z"
   },
   {
    "duration": 19,
    "start_time": "2022-07-09T05:00:42.079Z"
   },
   {
    "duration": 191,
    "start_time": "2022-07-09T05:04:44.260Z"
   },
   {
    "duration": 19,
    "start_time": "2022-07-09T05:13:38.441Z"
   },
   {
    "duration": 3,
    "start_time": "2022-07-09T05:13:54.652Z"
   },
   {
    "duration": 3,
    "start_time": "2022-07-09T05:13:59.757Z"
   },
   {
    "duration": 7,
    "start_time": "2022-07-09T05:14:06.646Z"
   },
   {
    "duration": 1187,
    "start_time": "2022-07-09T07:09:00.978Z"
   },
   {
    "duration": 5,
    "start_time": "2022-07-09T07:09:02.167Z"
   },
   {
    "duration": 6,
    "start_time": "2022-07-09T07:09:03.745Z"
   },
   {
    "duration": 93,
    "start_time": "2022-07-09T07:09:05.586Z"
   },
   {
    "duration": 9,
    "start_time": "2022-07-09T07:09:05.791Z"
   },
   {
    "duration": 24,
    "start_time": "2022-07-09T07:09:06.127Z"
   },
   {
    "duration": 11,
    "start_time": "2022-07-09T07:09:06.246Z"
   },
   {
    "duration": 555,
    "start_time": "2022-07-09T07:09:06.405Z"
   },
   {
    "duration": 14,
    "start_time": "2022-07-09T07:09:06.962Z"
   },
   {
    "duration": 9,
    "start_time": "2022-07-09T07:09:06.977Z"
   },
   {
    "duration": 9,
    "start_time": "2022-07-09T07:09:06.988Z"
   },
   {
    "duration": 7,
    "start_time": "2022-07-09T07:09:07.086Z"
   },
   {
    "duration": 117,
    "start_time": "2022-07-09T07:09:32.722Z"
   },
   {
    "duration": 6,
    "start_time": "2022-07-09T07:10:03.647Z"
   },
   {
    "duration": 191,
    "start_time": "2022-07-09T07:10:07.947Z"
   },
   {
    "duration": 10,
    "start_time": "2022-07-09T07:10:50.428Z"
   },
   {
    "duration": 40,
    "start_time": "2022-07-09T07:10:54.505Z"
   },
   {
    "duration": 6,
    "start_time": "2022-07-09T07:11:09.693Z"
   },
   {
    "duration": 21,
    "start_time": "2022-07-09T07:11:13.072Z"
   },
   {
    "duration": 6,
    "start_time": "2022-07-09T07:11:32.046Z"
   },
   {
    "duration": 21,
    "start_time": "2022-07-09T07:11:35.907Z"
   },
   {
    "duration": 60,
    "start_time": "2022-07-09T07:13:00.694Z"
   },
   {
    "duration": 12752,
    "start_time": "2022-07-09T07:14:51.182Z"
   },
   {
    "duration": 4,
    "start_time": "2022-07-09T07:21:56.549Z"
   },
   {
    "duration": 4,
    "start_time": "2022-07-09T07:21:58.905Z"
   },
   {
    "duration": 4,
    "start_time": "2022-07-09T07:22:02.284Z"
   },
   {
    "duration": 4,
    "start_time": "2022-07-09T07:22:05.867Z"
   },
   {
    "duration": 4,
    "start_time": "2022-07-09T07:22:09.861Z"
   },
   {
    "duration": 4,
    "start_time": "2022-07-09T07:23:33.112Z"
   },
   {
    "duration": 12,
    "start_time": "2022-07-09T07:24:19.601Z"
   },
   {
    "duration": 13,
    "start_time": "2022-07-09T07:24:31.479Z"
   },
   {
    "duration": 8,
    "start_time": "2022-07-09T07:24:55.342Z"
   },
   {
    "duration": 34,
    "start_time": "2022-07-09T07:25:02.813Z"
   },
   {
    "duration": 7,
    "start_time": "2022-07-09T07:25:18.481Z"
   },
   {
    "duration": 11,
    "start_time": "2022-07-09T07:26:33.443Z"
   },
   {
    "duration": 8,
    "start_time": "2022-07-09T07:28:55.158Z"
   },
   {
    "duration": 15383,
    "start_time": "2022-07-09T07:29:29.461Z"
   },
   {
    "duration": 85,
    "start_time": "2022-07-09T07:30:43.556Z"
   },
   {
    "duration": 8,
    "start_time": "2022-07-09T07:32:11.866Z"
   },
   {
    "duration": 18227,
    "start_time": "2022-07-09T07:32:16.406Z"
   },
   {
    "duration": 731915,
    "start_time": "2022-07-09T07:32:34.638Z"
   },
   {
    "duration": 1,
    "start_time": "2022-07-09T07:44:46.621Z"
   },
   {
    "duration": 68,
    "start_time": "2022-07-09T07:51:12.210Z"
   },
   {
    "duration": 1222,
    "start_time": "2022-07-09T07:51:17.149Z"
   },
   {
    "duration": 8,
    "start_time": "2022-07-09T07:51:27.066Z"
   },
   {
    "duration": 6,
    "start_time": "2022-07-09T07:51:28.747Z"
   },
   {
    "duration": 9,
    "start_time": "2022-07-09T07:51:28.913Z"
   },
   {
    "duration": 43,
    "start_time": "2022-07-09T07:51:29.265Z"
   },
   {
    "duration": 9,
    "start_time": "2022-07-09T07:51:29.495Z"
   },
   {
    "duration": 25,
    "start_time": "2022-07-09T07:51:29.942Z"
   },
   {
    "duration": 15,
    "start_time": "2022-07-09T07:51:30.088Z"
   },
   {
    "duration": 419,
    "start_time": "2022-07-09T07:51:30.245Z"
   },
   {
    "duration": 14,
    "start_time": "2022-07-09T07:51:30.666Z"
   },
   {
    "duration": 7,
    "start_time": "2022-07-09T07:51:30.691Z"
   },
   {
    "duration": 12,
    "start_time": "2022-07-09T07:51:30.848Z"
   },
   {
    "duration": 15,
    "start_time": "2022-07-09T07:51:31.039Z"
   },
   {
    "duration": 5328,
    "start_time": "2022-07-09T07:51:31.346Z"
   },
   {
    "duration": 0,
    "start_time": "2022-07-09T07:51:36.676Z"
   },
   {
    "duration": 0,
    "start_time": "2022-07-09T07:51:36.678Z"
   },
   {
    "duration": 9,
    "start_time": "2022-07-09T07:52:03.912Z"
   },
   {
    "duration": 17362,
    "start_time": "2022-07-09T07:52:07.682Z"
   },
   {
    "duration": 13,
    "start_time": "2022-07-09T07:52:38.305Z"
   },
   {
    "duration": 17661,
    "start_time": "2022-07-09T07:52:42.577Z"
   },
   {
    "duration": 84092,
    "start_time": "2022-07-09T07:53:08.572Z"
   },
   {
    "duration": 1303911,
    "start_time": "2022-07-09T07:54:54.319Z"
   },
   {
    "duration": 3,
    "start_time": "2022-07-09T10:23:35.655Z"
   },
   {
    "duration": 12,
    "start_time": "2022-07-09T10:30:23.973Z"
   },
   {
    "duration": 13,
    "start_time": "2022-07-09T10:30:38.735Z"
   },
   {
    "duration": 2,
    "start_time": "2022-07-09T10:30:55.507Z"
   },
   {
    "duration": 13,
    "start_time": "2022-07-09T10:32:32.400Z"
   },
   {
    "duration": 33933,
    "start_time": "2022-07-09T10:33:18.011Z"
   },
   {
    "duration": 7,
    "start_time": "2022-07-09T10:34:38.624Z"
   },
   {
    "duration": 0,
    "start_time": "2022-07-09T10:35:52.163Z"
   },
   {
    "duration": 31955,
    "start_time": "2022-07-09T10:35:53.785Z"
   },
   {
    "duration": 9,
    "start_time": "2022-07-10T19:27:50.307Z"
   },
   {
    "duration": 66,
    "start_time": "2022-07-10T19:28:23.357Z"
   },
   {
    "duration": 1259,
    "start_time": "2022-07-10T19:28:30.636Z"
   },
   {
    "duration": 87,
    "start_time": "2022-07-10T19:28:39.057Z"
   },
   {
    "duration": 4,
    "start_time": "2022-07-10T19:28:50.648Z"
   },
   {
    "duration": 42,
    "start_time": "2022-07-10T19:28:50.656Z"
   },
   {
    "duration": 11,
    "start_time": "2022-07-10T19:28:50.700Z"
   },
   {
    "duration": 113,
    "start_time": "2022-07-10T19:28:50.712Z"
   },
   {
    "duration": 8,
    "start_time": "2022-07-10T19:28:50.827Z"
   },
   {
    "duration": 15,
    "start_time": "2022-07-10T19:28:50.837Z"
   },
   {
    "duration": 21,
    "start_time": "2022-07-10T19:28:50.854Z"
   },
   {
    "duration": 604,
    "start_time": "2022-07-10T19:28:50.885Z"
   },
   {
    "duration": 13,
    "start_time": "2022-07-10T19:28:59.389Z"
   },
   {
    "duration": 43,
    "start_time": "2022-07-10T19:29:00.462Z"
   },
   {
    "duration": 4,
    "start_time": "2022-07-10T19:29:26.881Z"
   },
   {
    "duration": 153,
    "start_time": "2022-07-10T19:29:30.462Z"
   },
   {
    "duration": 4,
    "start_time": "2022-07-10T19:29:43.111Z"
   },
   {
    "duration": 214,
    "start_time": "2022-07-10T19:29:53.790Z"
   },
   {
    "duration": 410,
    "start_time": "2022-07-10T19:30:28.018Z"
   },
   {
    "duration": 187,
    "start_time": "2022-07-10T19:30:44.218Z"
   },
   {
    "duration": 166,
    "start_time": "2022-07-10T19:30:48.422Z"
   },
   {
    "duration": 148,
    "start_time": "2022-07-10T19:31:18.030Z"
   },
   {
    "duration": 141,
    "start_time": "2022-07-10T19:31:23.791Z"
   },
   {
    "duration": 151,
    "start_time": "2022-07-10T19:31:57.027Z"
   },
   {
    "duration": 255,
    "start_time": "2022-07-10T19:32:02.460Z"
   },
   {
    "duration": 8,
    "start_time": "2022-07-10T19:36:35.888Z"
   },
   {
    "duration": 4,
    "start_time": "2022-07-10T19:46:55.180Z"
   },
   {
    "duration": 4,
    "start_time": "2022-07-10T19:46:57.988Z"
   },
   {
    "duration": 48,
    "start_time": "2022-07-10T19:48:27.577Z"
   },
   {
    "duration": 3,
    "start_time": "2022-07-10T19:51:09.693Z"
   },
   {
    "duration": 10,
    "start_time": "2022-07-10T20:10:59.415Z"
   },
   {
    "duration": 12,
    "start_time": "2022-07-10T20:11:02.214Z"
   },
   {
    "duration": 17,
    "start_time": "2022-07-10T20:11:03.050Z"
   },
   {
    "duration": 8,
    "start_time": "2022-07-10T20:11:07.084Z"
   },
   {
    "duration": 3,
    "start_time": "2022-07-10T20:11:08.446Z"
   },
   {
    "duration": 3,
    "start_time": "2022-07-10T20:11:09.024Z"
   },
   {
    "duration": 3,
    "start_time": "2022-07-10T20:11:09.887Z"
   },
   {
    "duration": 9,
    "start_time": "2022-07-10T20:11:10.473Z"
   },
   {
    "duration": 153310,
    "start_time": "2022-07-10T20:11:11.443Z"
   },
   {
    "duration": 9,
    "start_time": "2022-07-10T20:15:36.908Z"
   },
   {
    "duration": 5,
    "start_time": "2022-07-10T20:15:41.557Z"
   },
   {
    "duration": 3,
    "start_time": "2022-07-10T20:16:48.484Z"
   },
   {
    "duration": 3,
    "start_time": "2022-07-10T20:16:50.082Z"
   },
   {
    "duration": 532044,
    "start_time": "2022-07-10T20:16:51.039Z"
   },
   {
    "duration": 5,
    "start_time": "2022-07-10T20:25:43.084Z"
   },
   {
    "duration": 16,
    "start_time": "2022-07-10T20:25:43.090Z"
   },
   {
    "duration": 13,
    "start_time": "2022-07-10T20:25:43.108Z"
   },
   {
    "duration": 46,
    "start_time": "2022-07-10T20:25:43.123Z"
   },
   {
    "duration": 6,
    "start_time": "2022-07-10T20:25:43.171Z"
   },
   {
    "duration": 49,
    "start_time": "2022-07-10T20:39:07.602Z"
   },
   {
    "duration": 55,
    "start_time": "2022-07-10T20:40:17.163Z"
   },
   {
    "duration": 88,
    "start_time": "2022-07-10T20:40:31.024Z"
   },
   {
    "duration": 48,
    "start_time": "2022-07-10T20:40:34.610Z"
   },
   {
    "duration": 63,
    "start_time": "2022-07-10T20:41:20.457Z"
   },
   {
    "duration": 51,
    "start_time": "2022-07-10T20:41:23.821Z"
   },
   {
    "duration": 77,
    "start_time": "2022-07-10T20:42:17.718Z"
   },
   {
    "duration": 56,
    "start_time": "2022-07-10T20:42:25.486Z"
   },
   {
    "duration": 70,
    "start_time": "2022-07-10T20:42:32.844Z"
   },
   {
    "duration": 9,
    "start_time": "2022-07-10T20:43:16.114Z"
   },
   {
    "duration": 13,
    "start_time": "2022-07-10T20:45:11.158Z"
   },
   {
    "duration": 11479836,
    "start_time": "2022-07-10T20:45:33.147Z"
   },
   {
    "duration": 9,
    "start_time": "2022-07-11T05:34:20.317Z"
   },
   {
    "duration": 17,
    "start_time": "2022-07-11T05:34:24.607Z"
   },
   {
    "duration": 31,
    "start_time": "2022-07-11T05:34:44.103Z"
   },
   {
    "duration": 6,
    "start_time": "2022-07-11T05:34:44.282Z"
   },
   {
    "duration": 9,
    "start_time": "2022-07-11T05:34:55.553Z"
   },
   {
    "duration": 9,
    "start_time": "2022-07-11T05:34:57.226Z"
   },
   {
    "duration": 15,
    "start_time": "2022-07-11T05:34:58.144Z"
   },
   {
    "duration": 8,
    "start_time": "2022-07-11T05:35:04.383Z"
   },
   {
    "duration": 2,
    "start_time": "2022-07-11T05:35:05.176Z"
   },
   {
    "duration": 2,
    "start_time": "2022-07-11T05:35:12.091Z"
   },
   {
    "duration": 2303,
    "start_time": "2022-07-11T05:35:13.184Z"
   },
   {
    "duration": 8,
    "start_time": "2022-07-11T05:35:15.489Z"
   },
   {
    "duration": 70,
    "start_time": "2022-07-11T05:35:15.499Z"
   },
   {
    "duration": 3,
    "start_time": "2022-07-11T05:36:03.364Z"
   },
   {
    "duration": 3,
    "start_time": "2022-07-11T05:37:52.857Z"
   },
   {
    "duration": 16,
    "start_time": "2022-07-11T05:37:53.456Z"
   },
   {
    "duration": 6,
    "start_time": "2022-07-11T05:37:57.930Z"
   },
   {
    "duration": 5,
    "start_time": "2022-07-11T05:37:58.559Z"
   },
   {
    "duration": 5,
    "start_time": "2022-07-11T05:38:04.205Z"
   },
   {
    "duration": 3,
    "start_time": "2022-07-11T05:44:47.169Z"
   },
   {
    "duration": 14013,
    "start_time": "2022-07-11T05:44:47.357Z"
   },
   {
    "duration": 16,
    "start_time": "2022-07-11T05:45:01.372Z"
   },
   {
    "duration": 18,
    "start_time": "2022-07-11T05:45:01.390Z"
   },
   {
    "duration": 3,
    "start_time": "2022-07-11T05:45:44.911Z"
   },
   {
    "duration": 3,
    "start_time": "2022-07-11T05:45:49.636Z"
   },
   {
    "duration": 1048,
    "start_time": "2022-07-11T05:45:49.932Z"
   },
   {
    "duration": 8,
    "start_time": "2022-07-11T05:45:50.982Z"
   },
   {
    "duration": 6,
    "start_time": "2022-07-11T05:45:51.105Z"
   },
   {
    "duration": 5,
    "start_time": "2022-07-11T05:45:54.313Z"
   },
   {
    "duration": 3,
    "start_time": "2022-07-11T05:45:57.859Z"
   },
   {
    "duration": 1538,
    "start_time": "2022-07-11T05:45:58.064Z"
   },
   {
    "duration": 8,
    "start_time": "2022-07-11T05:45:59.604Z"
   },
   {
    "duration": 7,
    "start_time": "2022-07-11T05:45:59.613Z"
   },
   {
    "duration": 3,
    "start_time": "2022-07-11T05:46:05.832Z"
   },
   {
    "duration": 3,
    "start_time": "2022-07-11T05:46:06.412Z"
   },
   {
    "duration": 1908,
    "start_time": "2022-07-11T05:46:06.603Z"
   },
   {
    "duration": 51,
    "start_time": "2022-07-11T05:46:08.513Z"
   },
   {
    "duration": 6,
    "start_time": "2022-07-11T05:46:08.566Z"
   },
   {
    "duration": 3,
    "start_time": "2022-07-11T05:46:13.288Z"
   },
   {
    "duration": 4,
    "start_time": "2022-07-11T05:46:13.697Z"
   },
   {
    "duration": 997,
    "start_time": "2022-07-11T05:46:13.872Z"
   },
   {
    "duration": 7,
    "start_time": "2022-07-11T05:46:14.871Z"
   },
   {
    "duration": 6,
    "start_time": "2022-07-11T05:46:14.879Z"
   },
   {
    "duration": 2,
    "start_time": "2022-07-11T05:46:19.773Z"
   },
   {
    "duration": 436,
    "start_time": "2022-07-11T05:46:19.936Z"
   },
   {
    "duration": 15,
    "start_time": "2022-07-11T05:46:20.374Z"
   },
   {
    "duration": 74,
    "start_time": "2022-07-11T05:46:20.391Z"
   },
   {
    "duration": 2,
    "start_time": "2022-07-11T05:46:24.892Z"
   },
   {
    "duration": 182,
    "start_time": "2022-07-11T05:46:25.093Z"
   },
   {
    "duration": 7,
    "start_time": "2022-07-11T05:46:25.550Z"
   },
   {
    "duration": 5,
    "start_time": "2022-07-11T05:46:25.733Z"
   },
   {
    "duration": 2,
    "start_time": "2022-07-11T05:46:36.204Z"
   },
   {
    "duration": 3321,
    "start_time": "2022-07-11T05:46:36.458Z"
   },
   {
    "duration": 11,
    "start_time": "2022-07-11T05:46:39.782Z"
   },
   {
    "duration": 16,
    "start_time": "2022-07-11T05:46:39.794Z"
   },
   {
    "duration": 2,
    "start_time": "2022-07-11T05:46:43.924Z"
   },
   {
    "duration": 2992,
    "start_time": "2022-07-11T05:46:44.092Z"
   },
   {
    "duration": 8,
    "start_time": "2022-07-11T05:46:47.086Z"
   },
   {
    "duration": 4,
    "start_time": "2022-07-11T05:46:47.096Z"
   },
   {
    "duration": 3,
    "start_time": "2022-07-11T05:46:51.051Z"
   },
   {
    "duration": 3556,
    "start_time": "2022-07-11T05:46:51.234Z"
   },
   {
    "duration": 8,
    "start_time": "2022-07-11T05:46:54.791Z"
   },
   {
    "duration": 14,
    "start_time": "2022-07-11T05:46:54.800Z"
   },
   {
    "duration": 33,
    "start_time": "2022-07-11T05:47:14.823Z"
   },
   {
    "duration": 7,
    "start_time": "2022-07-11T05:47:15.086Z"
   },
   {
    "duration": 10,
    "start_time": "2022-07-11T05:47:38.576Z"
   },
   {
    "duration": 12,
    "start_time": "2022-07-11T05:47:47.118Z"
   },
   {
    "duration": 7,
    "start_time": "2022-07-11T05:47:48.104Z"
   },
   {
    "duration": 2,
    "start_time": "2022-07-11T05:47:50.262Z"
   },
   {
    "duration": 4826,
    "start_time": "2022-07-11T05:47:50.480Z"
   },
   {
    "duration": 56,
    "start_time": "2022-07-11T05:47:55.309Z"
   },
   {
    "duration": 9,
    "start_time": "2022-07-11T05:47:55.367Z"
   },
   {
    "duration": 4,
    "start_time": "2022-07-11T05:48:14.099Z"
   },
   {
    "duration": 2728,
    "start_time": "2022-07-11T05:48:14.555Z"
   },
   {
    "duration": 8,
    "start_time": "2022-07-11T05:48:17.285Z"
   },
   {
    "duration": 5,
    "start_time": "2022-07-11T05:48:17.294Z"
   },
   {
    "duration": 3,
    "start_time": "2022-07-11T05:48:25.306Z"
   },
   {
    "duration": 1270,
    "start_time": "2022-07-11T05:48:25.311Z"
   },
   {
    "duration": 7,
    "start_time": "2022-07-11T05:48:26.583Z"
   },
   {
    "duration": 7,
    "start_time": "2022-07-11T05:48:26.591Z"
   },
   {
    "duration": 3,
    "start_time": "2022-07-11T05:48:30.276Z"
   },
   {
    "duration": 3453,
    "start_time": "2022-07-11T05:48:30.416Z"
   },
   {
    "duration": 8,
    "start_time": "2022-07-11T05:48:33.871Z"
   },
   {
    "duration": 7,
    "start_time": "2022-07-11T05:48:33.880Z"
   },
   {
    "duration": 3,
    "start_time": "2022-07-11T05:48:41.361Z"
   },
   {
    "duration": 10500,
    "start_time": "2022-07-11T05:48:41.522Z"
   },
   {
    "duration": 11,
    "start_time": "2022-07-11T05:48:52.063Z"
   },
   {
    "duration": 5,
    "start_time": "2022-07-11T05:48:52.075Z"
   },
   {
    "duration": 3,
    "start_time": "2022-07-11T06:38:04.148Z"
   },
   {
    "duration": 17,
    "start_time": "2022-07-11T06:38:08.690Z"
   },
   {
    "duration": 33,
    "start_time": "2022-07-11T06:38:17.312Z"
   },
   {
    "duration": 7,
    "start_time": "2022-07-11T06:38:17.455Z"
   },
   {
    "duration": 9,
    "start_time": "2022-07-11T06:38:21.168Z"
   },
   {
    "duration": 12,
    "start_time": "2022-07-11T06:38:27.422Z"
   },
   {
    "duration": 15,
    "start_time": "2022-07-11T06:38:30.314Z"
   },
   {
    "duration": 8,
    "start_time": "2022-07-11T06:38:37.840Z"
   },
   {
    "duration": 3,
    "start_time": "2022-07-11T06:38:38.878Z"
   },
   {
    "duration": 3,
    "start_time": "2022-07-11T06:38:40.012Z"
   },
   {
    "duration": 10,
    "start_time": "2022-07-11T06:38:46.648Z"
   },
   {
    "duration": 3,
    "start_time": "2022-07-11T06:39:03.885Z"
   },
   {
    "duration": 3,
    "start_time": "2022-07-11T06:39:09.339Z"
   },
   {
    "duration": 3,
    "start_time": "2022-07-11T06:39:10.533Z"
   },
   {
    "duration": 113352,
    "start_time": "2022-07-11T06:39:18.632Z"
   },
   {
    "duration": 13,
    "start_time": "2022-07-11T06:41:11.990Z"
   },
   {
    "duration": 6,
    "start_time": "2022-07-11T06:41:12.005Z"
   },
   {
    "duration": 3,
    "start_time": "2022-07-11T06:43:38.897Z"
   },
   {
    "duration": 8,
    "start_time": "2022-07-11T06:43:54.860Z"
   },
   {
    "duration": 6,
    "start_time": "2022-07-11T06:43:55.497Z"
   },
   {
    "duration": 4,
    "start_time": "2022-07-11T06:44:29.868Z"
   },
   {
    "duration": 8,
    "start_time": "2022-07-11T07:15:18.638Z"
   },
   {
    "duration": 0,
    "start_time": "2022-07-11T08:51:29.009Z"
   },
   {
    "duration": 0,
    "start_time": "2022-07-11T08:51:29.010Z"
   },
   {
    "duration": 0,
    "start_time": "2022-07-11T08:51:29.011Z"
   },
   {
    "duration": 0,
    "start_time": "2022-07-11T08:51:29.013Z"
   },
   {
    "duration": 1,
    "start_time": "2022-07-11T08:51:29.013Z"
   },
   {
    "duration": 0,
    "start_time": "2022-07-11T08:51:29.015Z"
   },
   {
    "duration": 0,
    "start_time": "2022-07-11T08:51:29.065Z"
   },
   {
    "duration": 0,
    "start_time": "2022-07-11T08:51:29.066Z"
   },
   {
    "duration": 0,
    "start_time": "2022-07-11T08:51:29.067Z"
   },
   {
    "duration": 0,
    "start_time": "2022-07-11T08:51:29.068Z"
   },
   {
    "duration": 0,
    "start_time": "2022-07-11T08:51:29.068Z"
   },
   {
    "duration": 0,
    "start_time": "2022-07-11T08:51:29.069Z"
   },
   {
    "duration": 4,
    "start_time": "2022-07-11T08:51:34.879Z"
   },
   {
    "duration": 8,
    "start_time": "2022-07-11T08:51:34.885Z"
   },
   {
    "duration": 11,
    "start_time": "2022-07-11T08:51:34.894Z"
   },
   {
    "duration": 45,
    "start_time": "2022-07-11T08:51:34.907Z"
   },
   {
    "duration": 7,
    "start_time": "2022-07-11T08:51:34.954Z"
   },
   {
    "duration": 26,
    "start_time": "2022-07-11T08:51:34.963Z"
   },
   {
    "duration": 13,
    "start_time": "2022-07-11T08:51:34.991Z"
   },
   {
    "duration": 93,
    "start_time": "2022-07-11T08:51:35.006Z"
   },
   {
    "duration": 7,
    "start_time": "2022-07-11T08:51:35.101Z"
   },
   {
    "duration": 157,
    "start_time": "2022-07-11T08:51:35.110Z"
   },
   {
    "duration": 323,
    "start_time": "2022-07-11T08:51:35.276Z"
   },
   {
    "duration": 10,
    "start_time": "2022-07-11T08:51:42.086Z"
   },
   {
    "duration": 1534,
    "start_time": "2022-07-11T09:50:07.386Z"
   },
   {
    "duration": 4,
    "start_time": "2022-07-11T09:50:21.302Z"
   },
   {
    "duration": 9,
    "start_time": "2022-07-11T09:50:21.309Z"
   },
   {
    "duration": 9,
    "start_time": "2022-07-11T09:50:21.319Z"
   },
   {
    "duration": 49,
    "start_time": "2022-07-11T09:50:21.329Z"
   },
   {
    "duration": 15,
    "start_time": "2022-07-11T09:50:21.381Z"
   },
   {
    "duration": 16,
    "start_time": "2022-07-11T09:50:21.402Z"
   },
   {
    "duration": 10,
    "start_time": "2022-07-11T09:50:21.420Z"
   },
   {
    "duration": 113,
    "start_time": "2022-07-11T09:50:21.432Z"
   },
   {
    "duration": 27,
    "start_time": "2022-07-11T09:50:21.547Z"
   },
   {
    "duration": 166,
    "start_time": "2022-07-11T09:50:21.576Z"
   },
   {
    "duration": 224,
    "start_time": "2022-07-11T09:50:21.745Z"
   },
   {
    "duration": 3949180,
    "start_time": "2022-07-11T09:50:32.361Z"
   },
   {
    "duration": 9,
    "start_time": "2022-07-11T10:56:38.194Z"
   },
   {
    "duration": 7,
    "start_time": "2022-07-11T10:56:38.398Z"
   },
   {
    "duration": 3,
    "start_time": "2022-07-11T10:56:38.602Z"
   },
   {
    "duration": 8,
    "start_time": "2022-07-11T10:56:38.682Z"
   },
   {
    "duration": 4,
    "start_time": "2022-07-11T10:56:38.844Z"
   },
   {
    "duration": 4,
    "start_time": "2022-07-11T10:56:39.013Z"
   },
   {
    "duration": 2899898,
    "start_time": "2022-07-11T10:56:39.217Z"
   },
   {
    "duration": 4,
    "start_time": "2022-07-11T11:44:59.117Z"
   },
   {
    "duration": 48,
    "start_time": "2022-07-11T11:44:59.122Z"
   },
   {
    "duration": 25,
    "start_time": "2022-07-11T11:44:59.173Z"
   },
   {
    "duration": 22,
    "start_time": "2022-07-11T11:44:59.201Z"
   },
   {
    "duration": 46,
    "start_time": "2022-07-11T11:44:59.224Z"
   },
   {
    "duration": 247,
    "start_time": "2022-07-11T11:44:59.271Z"
   },
   {
    "duration": 77,
    "start_time": "2022-07-11T11:44:59.520Z"
   },
   {
    "duration": 9,
    "start_time": "2022-07-11T11:51:40.195Z"
   },
   {
    "duration": 393,
    "start_time": "2022-07-11T11:51:52.048Z"
   },
   {
    "duration": 269,
    "start_time": "2022-07-11T11:52:18.247Z"
   },
   {
    "duration": 7,
    "start_time": "2022-07-11T11:56:40.917Z"
   },
   {
    "duration": 5,
    "start_time": "2022-07-11T11:56:44.189Z"
   },
   {
    "duration": 215,
    "start_time": "2022-07-11T11:56:46.443Z"
   },
   {
    "duration": 9,
    "start_time": "2022-07-11T11:57:09.994Z"
   },
   {
    "duration": 4,
    "start_time": "2022-07-11T11:57:37.240Z"
   },
   {
    "duration": 3,
    "start_time": "2022-07-11T11:57:45.329Z"
   },
   {
    "duration": 7,
    "start_time": "2022-07-11T11:57:47.591Z"
   },
   {
    "duration": 242,
    "start_time": "2022-07-11T11:57:54.341Z"
   },
   {
    "duration": 5,
    "start_time": "2022-07-11T11:59:14.409Z"
   },
   {
    "duration": 4,
    "start_time": "2022-07-11T11:59:15.258Z"
   },
   {
    "duration": 245,
    "start_time": "2022-07-11T11:59:15.950Z"
   },
   {
    "duration": 9,
    "start_time": "2022-07-11T12:00:05.345Z"
   },
   {
    "duration": 4,
    "start_time": "2022-07-11T12:00:08.186Z"
   },
   {
    "duration": 15,
    "start_time": "2022-07-11T12:00:39.810Z"
   },
   {
    "duration": 8,
    "start_time": "2022-07-11T12:01:21.087Z"
   },
   {
    "duration": 17,
    "start_time": "2022-07-11T12:02:21.902Z"
   },
   {
    "duration": 4,
    "start_time": "2022-07-11T12:02:25.593Z"
   },
   {
    "duration": 10,
    "start_time": "2022-07-11T12:02:39.548Z"
   },
   {
    "duration": 29,
    "start_time": "2022-07-11T12:02:50.063Z"
   },
   {
    "duration": 99070,
    "start_time": "2022-07-11T12:02:59.024Z"
   },
   {
    "duration": 69,
    "start_time": "2022-07-11T12:04:38.097Z"
   },
   {
    "duration": 8,
    "start_time": "2022-07-11T12:04:38.170Z"
   },
   {
    "duration": 26,
    "start_time": "2022-07-11T12:04:38.181Z"
   },
   {
    "duration": 25070,
    "start_time": "2022-07-11T12:04:38.209Z"
   },
   {
    "duration": 26,
    "start_time": "2022-07-11T12:05:03.281Z"
   },
   {
    "duration": 111,
    "start_time": "2022-07-11T12:05:03.309Z"
   },
   {
    "duration": 56,
    "start_time": "2022-07-11T12:20:10.648Z"
   },
   {
    "duration": 10,
    "start_time": "2022-07-11T12:20:33.081Z"
   },
   {
    "duration": 3,
    "start_time": "2022-07-11T12:20:46.305Z"
   },
   {
    "duration": 38,
    "start_time": "2022-07-11T12:23:07.692Z"
   },
   {
    "duration": 11,
    "start_time": "2022-07-11T12:23:07.732Z"
   },
   {
    "duration": 4,
    "start_time": "2022-07-11T12:23:07.999Z"
   },
   {
    "duration": 6,
    "start_time": "2022-07-11T12:23:09.534Z"
   },
   {
    "duration": 5,
    "start_time": "2022-07-11T12:23:10.305Z"
   },
   {
    "duration": 5,
    "start_time": "2022-07-11T12:23:11.084Z"
   },
   {
    "duration": 1806,
    "start_time": "2022-07-11T12:23:12.956Z"
   },
   {
    "duration": 0,
    "start_time": "2022-07-11T12:23:14.764Z"
   },
   {
    "duration": 0,
    "start_time": "2022-07-11T12:23:14.765Z"
   },
   {
    "duration": 11,
    "start_time": "2022-07-11T12:23:31.788Z"
   },
   {
    "duration": 12,
    "start_time": "2022-07-11T12:23:41.486Z"
   },
   {
    "duration": 39,
    "start_time": "2022-07-11T12:23:59.607Z"
   },
   {
    "duration": 16,
    "start_time": "2022-07-11T12:23:59.710Z"
   },
   {
    "duration": 6,
    "start_time": "2022-07-11T12:23:59.915Z"
   },
   {
    "duration": 10,
    "start_time": "2022-07-11T12:24:00.222Z"
   },
   {
    "duration": 9,
    "start_time": "2022-07-11T12:24:00.429Z"
   },
   {
    "duration": 4,
    "start_time": "2022-07-11T12:24:00.734Z"
   },
   {
    "duration": 25,
    "start_time": "2022-07-11T12:24:01.150Z"
   },
   {
    "duration": 29635,
    "start_time": "2022-07-11T12:24:06.591Z"
   },
   {
    "duration": 77,
    "start_time": "2022-07-11T12:24:36.228Z"
   },
   {
    "duration": 5,
    "start_time": "2022-07-11T12:24:36.308Z"
   },
   {
    "duration": 7,
    "start_time": "2022-07-11T12:24:59.818Z"
   },
   {
    "duration": 6,
    "start_time": "2022-07-11T12:25:00.330Z"
   },
   {
    "duration": 279,
    "start_time": "2022-07-11T12:28:35.380Z"
   },
   {
    "duration": 4,
    "start_time": "2022-07-11T12:28:50.318Z"
   },
   {
    "duration": 24652,
    "start_time": "2022-07-11T12:28:50.453Z"
   },
   {
    "duration": 11,
    "start_time": "2022-07-11T12:29:15.107Z"
   },
   {
    "duration": 79,
    "start_time": "2022-07-11T12:29:15.119Z"
   },
   {
    "duration": 371,
    "start_time": "2022-07-11T12:29:15.200Z"
   },
   {
    "duration": 12,
    "start_time": "2022-07-12T06:36:00.475Z"
   },
   {
    "duration": 42,
    "start_time": "2022-07-12T06:52:08.355Z"
   },
   {
    "duration": 6,
    "start_time": "2022-07-12T07:00:15.162Z"
   },
   {
    "duration": 1589,
    "start_time": "2022-07-12T07:00:19.770Z"
   },
   {
    "duration": 4,
    "start_time": "2022-07-12T07:00:21.361Z"
   },
   {
    "duration": 9,
    "start_time": "2022-07-12T07:00:22.002Z"
   },
   {
    "duration": 303,
    "start_time": "2022-07-12T07:00:28.577Z"
   },
   {
    "duration": 6,
    "start_time": "2022-07-12T07:00:30.932Z"
   },
   {
    "duration": 9,
    "start_time": "2022-07-12T07:00:32.512Z"
   },
   {
    "duration": 6,
    "start_time": "2022-07-12T07:00:35.130Z"
   },
   {
    "duration": 3,
    "start_time": "2022-07-12T07:00:36.256Z"
   },
   {
    "duration": 2963,
    "start_time": "2022-07-12T07:00:37.997Z"
   },
   {
    "duration": 9,
    "start_time": "2022-07-12T07:00:40.962Z"
   },
   {
    "duration": 7,
    "start_time": "2022-07-12T07:00:40.972Z"
   },
   {
    "duration": 189,
    "start_time": "2022-07-12T07:01:01.142Z"
   },
   {
    "duration": 3,
    "start_time": "2022-07-12T07:01:49.369Z"
   },
   {
    "duration": 2496,
    "start_time": "2022-07-12T07:01:49.574Z"
   },
   {
    "duration": 7,
    "start_time": "2022-07-12T07:01:52.072Z"
   },
   {
    "duration": 72,
    "start_time": "2022-07-12T07:01:52.081Z"
   },
   {
    "duration": 47,
    "start_time": "2022-07-12T07:02:09.542Z"
   },
   {
    "duration": 48,
    "start_time": "2022-07-12T07:02:21.552Z"
   },
   {
    "duration": 14,
    "start_time": "2022-07-12T07:02:21.625Z"
   },
   {
    "duration": 5,
    "start_time": "2022-07-12T07:02:21.831Z"
   },
   {
    "duration": 7,
    "start_time": "2022-07-12T07:02:22.137Z"
   },
   {
    "duration": 8,
    "start_time": "2022-07-12T07:02:22.342Z"
   },
   {
    "duration": 2,
    "start_time": "2022-07-12T07:02:22.547Z"
   },
   {
    "duration": 2019,
    "start_time": "2022-07-12T07:02:22.854Z"
   },
   {
    "duration": 79,
    "start_time": "2022-07-12T07:02:24.875Z"
   },
   {
    "duration": 7,
    "start_time": "2022-07-12T07:02:24.955Z"
   },
   {
    "duration": 277,
    "start_time": "2022-07-12T07:02:26.745Z"
   },
   {
    "duration": 307,
    "start_time": "2022-07-12T07:02:38.316Z"
   },
   {
    "duration": 4,
    "start_time": "2022-07-12T07:02:55.417Z"
   },
   {
    "duration": 46,
    "start_time": "2022-07-12T07:02:58.488Z"
   },
   {
    "duration": 11,
    "start_time": "2022-07-12T07:02:58.591Z"
   },
   {
    "duration": 4,
    "start_time": "2022-07-12T07:02:58.796Z"
   },
   {
    "duration": 6,
    "start_time": "2022-07-12T07:02:58.906Z"
   },
   {
    "duration": 7,
    "start_time": "2022-07-12T07:02:59.004Z"
   },
   {
    "duration": 2,
    "start_time": "2022-07-12T07:02:59.206Z"
   },
   {
    "duration": 3639,
    "start_time": "2022-07-12T07:02:59.717Z"
   },
   {
    "duration": 7,
    "start_time": "2022-07-12T07:03:03.358Z"
   },
   {
    "duration": 5,
    "start_time": "2022-07-12T07:03:03.366Z"
   },
   {
    "duration": 243,
    "start_time": "2022-07-12T07:03:03.373Z"
   },
   {
    "duration": 45,
    "start_time": "2022-07-12T07:03:21.938Z"
   },
   {
    "duration": 9,
    "start_time": "2022-07-12T07:03:22.041Z"
   },
   {
    "duration": 4,
    "start_time": "2022-07-12T07:03:22.246Z"
   },
   {
    "duration": 7,
    "start_time": "2022-07-12T07:03:22.348Z"
   },
   {
    "duration": 7,
    "start_time": "2022-07-12T07:03:22.471Z"
   },
   {
    "duration": 3,
    "start_time": "2022-07-12T07:03:22.655Z"
   },
   {
    "duration": 1836,
    "start_time": "2022-07-12T07:03:22.828Z"
   },
   {
    "duration": 8,
    "start_time": "2022-07-12T07:03:24.665Z"
   },
   {
    "duration": 6,
    "start_time": "2022-07-12T07:03:24.674Z"
   },
   {
    "duration": 272,
    "start_time": "2022-07-12T07:03:24.682Z"
   },
   {
    "duration": 48,
    "start_time": "2022-07-12T07:13:17.084Z"
   },
   {
    "duration": 4,
    "start_time": "2022-07-12T07:13:17.597Z"
   },
   {
    "duration": 9,
    "start_time": "2022-07-12T07:13:17.823Z"
   },
   {
    "duration": 8,
    "start_time": "2022-07-12T07:13:18.111Z"
   },
   {
    "duration": 69,
    "start_time": "2022-07-12T07:13:18.927Z"
   },
   {
    "duration": 3,
    "start_time": "2022-07-12T07:13:26.300Z"
   },
   {
    "duration": 11546,
    "start_time": "2022-07-12T07:13:27.324Z"
   },
   {
    "duration": 95,
    "start_time": "2022-07-12T07:13:38.872Z"
   },
   {
    "duration": 83,
    "start_time": "2022-07-12T07:13:38.970Z"
   },
   {
    "duration": 3,
    "start_time": "2022-07-12T07:14:08.591Z"
   },
   {
    "duration": 3,
    "start_time": "2022-07-12T07:14:26.462Z"
   },
   {
    "duration": 21701,
    "start_time": "2022-07-12T07:14:26.467Z"
   },
   {
    "duration": 11,
    "start_time": "2022-07-12T07:14:48.170Z"
   },
   {
    "duration": 10,
    "start_time": "2022-07-12T07:14:48.182Z"
   },
   {
    "duration": 2,
    "start_time": "2022-07-12T07:15:48.738Z"
   },
   {
    "duration": 46,
    "start_time": "2022-07-12T07:15:51.867Z"
   },
   {
    "duration": 5,
    "start_time": "2022-07-12T07:15:52.322Z"
   },
   {
    "duration": 9,
    "start_time": "2022-07-12T07:15:52.527Z"
   },
   {
    "duration": 6,
    "start_time": "2022-07-12T07:15:52.629Z"
   },
   {
    "duration": 2,
    "start_time": "2022-07-12T07:15:52.742Z"
   },
   {
    "duration": 45,
    "start_time": "2022-07-12T07:15:53.170Z"
   },
   {
    "duration": 10,
    "start_time": "2022-07-12T07:15:53.290Z"
   },
   {
    "duration": 3,
    "start_time": "2022-07-12T07:16:16.079Z"
   },
   {
    "duration": 1750,
    "start_time": "2022-07-12T07:16:16.210Z"
   },
   {
    "duration": 9,
    "start_time": "2022-07-12T07:16:17.962Z"
   },
   {
    "duration": 7,
    "start_time": "2022-07-12T07:16:17.972Z"
   },
   {
    "duration": 3,
    "start_time": "2022-07-12T07:17:54.381Z"
   },
   {
    "duration": 5802,
    "start_time": "2022-07-12T07:17:54.996Z"
   },
   {
    "duration": 10,
    "start_time": "2022-07-12T07:18:17.933Z"
   },
   {
    "duration": 2,
    "start_time": "2022-07-12T07:19:34.426Z"
   },
   {
    "duration": 1693,
    "start_time": "2022-07-12T07:19:35.960Z"
   },
   {
    "duration": 9,
    "start_time": "2022-07-12T07:19:37.656Z"
   },
   {
    "duration": 0,
    "start_time": "2022-07-12T07:19:37.666Z"
   },
   {
    "duration": 9,
    "start_time": "2022-07-12T07:19:44.837Z"
   },
   {
    "duration": 4,
    "start_time": "2022-07-12T07:19:45.177Z"
   },
   {
    "duration": 2,
    "start_time": "2022-07-12T07:19:54.190Z"
   },
   {
    "duration": 10,
    "start_time": "2022-07-12T07:20:10.470Z"
   },
   {
    "duration": 50,
    "start_time": "2022-07-12T07:20:23.577Z"
   },
   {
    "duration": 5,
    "start_time": "2022-07-12T07:20:23.709Z"
   },
   {
    "duration": 12539,
    "start_time": "2022-07-12T07:20:30.540Z"
   },
   {
    "duration": 8,
    "start_time": "2022-07-12T07:23:20.831Z"
   },
   {
    "duration": 3,
    "start_time": "2022-07-12T07:24:13.157Z"
   },
   {
    "duration": 14061,
    "start_time": "2022-07-12T07:24:19.915Z"
   },
   {
    "duration": 2,
    "start_time": "2022-07-12T07:24:46.901Z"
   },
   {
    "duration": 5327914,
    "start_time": "2022-07-12T07:24:47.358Z"
   },
   {
    "duration": 11,
    "start_time": "2022-07-12T10:24:42.303Z"
   },
   {
    "duration": 11,
    "start_time": "2022-07-12T10:24:56.127Z"
   },
   {
    "duration": 7,
    "start_time": "2022-07-12T10:24:59.915Z"
   },
   {
    "duration": 2,
    "start_time": "2022-07-12T10:25:02.373Z"
   },
   {
    "duration": 3,
    "start_time": "2022-07-12T10:25:24.286Z"
   },
   {
    "duration": 13,
    "start_time": "2022-07-12T10:26:02.686Z"
   },
   {
    "duration": 4995,
    "start_time": "2022-07-12T10:26:18.969Z"
   },
   {
    "duration": 13,
    "start_time": "2022-07-12T10:26:28.491Z"
   },
   {
    "duration": 5,
    "start_time": "2022-07-12T10:26:29.720Z"
   },
   {
    "duration": 201,
    "start_time": "2022-07-12T10:26:48.254Z"
   },
   {
    "duration": 17,
    "start_time": "2022-07-12T10:26:59.313Z"
   },
   {
    "duration": 16,
    "start_time": "2022-07-12T10:27:12.625Z"
   },
   {
    "duration": 7,
    "start_time": "2022-07-12T10:27:26.040Z"
   },
   {
    "duration": 6,
    "start_time": "2022-07-12T10:27:38.225Z"
   },
   {
    "duration": 18,
    "start_time": "2022-07-12T10:27:59.627Z"
   },
   {
    "duration": 16,
    "start_time": "2022-07-12T10:28:12.017Z"
   },
   {
    "duration": 15,
    "start_time": "2022-07-12T10:28:24.612Z"
   },
   {
    "duration": 27,
    "start_time": "2022-07-12T10:28:58.025Z"
   },
   {
    "duration": 5,
    "start_time": "2022-07-12T10:28:58.513Z"
   },
   {
    "duration": 53,
    "start_time": "2022-07-12T10:29:42.551Z"
   },
   {
    "duration": 5,
    "start_time": "2022-07-12T10:29:43.386Z"
   },
   {
    "duration": 11,
    "start_time": "2022-07-12T10:29:44.176Z"
   },
   {
    "duration": 7,
    "start_time": "2022-07-12T10:29:45.712Z"
   },
   {
    "duration": 3,
    "start_time": "2022-07-12T10:29:46.838Z"
   },
   {
    "duration": 6609,
    "start_time": "2022-07-12T10:29:47.351Z"
   },
   {
    "duration": 9,
    "start_time": "2022-07-12T10:29:53.962Z"
   },
   {
    "duration": 4,
    "start_time": "2022-07-12T10:29:53.973Z"
   },
   {
    "duration": 9,
    "start_time": "2022-07-12T10:30:44.285Z"
   },
   {
    "duration": 8,
    "start_time": "2022-07-12T10:30:44.695Z"
   },
   {
    "duration": 3,
    "start_time": "2022-07-12T10:30:46.947Z"
   },
   {
    "duration": 1578,
    "start_time": "2022-07-12T10:30:47.285Z"
   },
   {
    "duration": 90,
    "start_time": "2022-07-12T10:30:48.865Z"
   },
   {
    "duration": 5,
    "start_time": "2022-07-12T10:30:48.957Z"
   },
   {
    "duration": 7,
    "start_time": "2022-07-12T10:31:53.609Z"
   },
   {
    "duration": 7,
    "start_time": "2022-07-12T10:31:54.019Z"
   },
   {
    "duration": 3,
    "start_time": "2022-07-12T10:31:54.325Z"
   },
   {
    "duration": 1829,
    "start_time": "2022-07-12T10:31:54.635Z"
   },
   {
    "duration": 10,
    "start_time": "2022-07-12T10:31:56.465Z"
   },
   {
    "duration": 19,
    "start_time": "2022-07-12T10:31:56.553Z"
   },
   {
    "duration": 7,
    "start_time": "2022-07-12T10:31:59.551Z"
   },
   {
    "duration": 7,
    "start_time": "2022-07-12T10:31:59.651Z"
   },
   {
    "duration": 3,
    "start_time": "2022-07-12T10:31:59.885Z"
   },
   {
    "duration": 11811,
    "start_time": "2022-07-12T10:31:59.958Z"
   },
   {
    "duration": 97,
    "start_time": "2022-07-12T10:32:11.771Z"
   },
   {
    "duration": 83,
    "start_time": "2022-07-12T10:32:11.870Z"
   },
   {
    "duration": 3,
    "start_time": "2022-07-12T10:32:31.566Z"
   },
   {
    "duration": 11093,
    "start_time": "2022-07-12T10:32:32.267Z"
   },
   {
    "duration": 10,
    "start_time": "2022-07-12T10:32:43.362Z"
   },
   {
    "duration": 18,
    "start_time": "2022-07-12T10:32:43.374Z"
   },
   {
    "duration": 253,
    "start_time": "2022-07-12T10:32:46.038Z"
   },
   {
    "duration": 217,
    "start_time": "2022-07-12T10:33:04.060Z"
   },
   {
    "duration": 158,
    "start_time": "2022-07-12T10:33:10.744Z"
   },
   {
    "duration": 52,
    "start_time": "2022-07-12T10:33:27.001Z"
   },
   {
    "duration": 11,
    "start_time": "2022-07-12T10:33:27.202Z"
   },
   {
    "duration": 4,
    "start_time": "2022-07-12T10:33:27.407Z"
   },
   {
    "duration": 6,
    "start_time": "2022-07-12T10:33:27.544Z"
   },
   {
    "duration": 6,
    "start_time": "2022-07-12T10:33:27.715Z"
   },
   {
    "duration": 3,
    "start_time": "2022-07-12T10:33:27.827Z"
   },
   {
    "duration": 1848,
    "start_time": "2022-07-12T10:33:28.022Z"
   },
   {
    "duration": 8,
    "start_time": "2022-07-12T10:33:29.872Z"
   },
   {
    "duration": 5,
    "start_time": "2022-07-12T10:33:29.952Z"
   },
   {
    "duration": 211,
    "start_time": "2022-07-12T10:33:29.959Z"
   },
   {
    "duration": 57,
    "start_time": "2022-07-12T10:40:25.022Z"
   },
   {
    "duration": 5,
    "start_time": "2022-07-12T10:41:57.458Z"
   },
   {
    "duration": 16,
    "start_time": "2022-07-12T10:45:37.720Z"
   },
   {
    "duration": 17,
    "start_time": "2022-07-12T10:46:04.242Z"
   },
   {
    "duration": 9,
    "start_time": "2022-07-12T10:47:23.704Z"
   },
   {
    "duration": 19,
    "start_time": "2022-07-12T10:49:04.260Z"
   },
   {
    "duration": 6,
    "start_time": "2022-07-12T10:49:06.513Z"
   },
   {
    "duration": 1531,
    "start_time": "2022-07-12T10:49:09.380Z"
   },
   {
    "duration": 5,
    "start_time": "2022-07-12T10:49:13.476Z"
   },
   {
    "duration": 7,
    "start_time": "2022-07-12T10:49:18.493Z"
   },
   {
    "duration": 1379,
    "start_time": "2022-07-12T10:50:23.312Z"
   },
   {
    "duration": 5,
    "start_time": "2022-07-12T10:50:26.487Z"
   },
   {
    "duration": 4,
    "start_time": "2022-07-12T10:50:37.239Z"
   },
   {
    "duration": 8,
    "start_time": "2022-07-12T10:50:37.853Z"
   },
   {
    "duration": 4958,
    "start_time": "2022-07-12T10:51:25.674Z"
   },
   {
    "duration": 5,
    "start_time": "2022-07-12T10:51:30.633Z"
   },
   {
    "duration": 22,
    "start_time": "2022-07-12T10:51:30.639Z"
   },
   {
    "duration": 621,
    "start_time": "2022-07-12T10:51:38.063Z"
   },
   {
    "duration": 7,
    "start_time": "2022-07-12T10:51:39.600Z"
   },
   {
    "duration": 678,
    "start_time": "2022-07-12T10:51:43.183Z"
   },
   {
    "duration": 5,
    "start_time": "2022-07-12T10:51:45.258Z"
   },
   {
    "duration": 719,
    "start_time": "2022-07-12T10:51:50.557Z"
   },
   {
    "duration": 5,
    "start_time": "2022-07-12T10:51:51.785Z"
   },
   {
    "duration": 584,
    "start_time": "2022-07-12T10:51:56.700Z"
   },
   {
    "duration": 5,
    "start_time": "2022-07-12T10:51:57.724Z"
   },
   {
    "duration": 10594,
    "start_time": "2022-07-12T10:52:03.049Z"
   },
   {
    "duration": 4,
    "start_time": "2022-07-12T10:52:13.644Z"
   },
   {
    "duration": 21331,
    "start_time": "2022-07-12T10:52:22.096Z"
   },
   {
    "duration": 5,
    "start_time": "2022-07-12T10:52:43.428Z"
   },
   {
    "duration": 2072,
    "start_time": "2022-07-12T10:52:50.358Z"
   },
   {
    "duration": 4,
    "start_time": "2022-07-12T10:52:52.432Z"
   },
   {
    "duration": 2222,
    "start_time": "2022-07-12T10:53:05.411Z"
   },
   {
    "duration": 4,
    "start_time": "2022-07-12T10:53:07.635Z"
   },
   {
    "duration": 1917,
    "start_time": "2022-07-12T10:53:14.628Z"
   },
   {
    "duration": 4,
    "start_time": "2022-07-12T10:53:16.547Z"
   },
   {
    "duration": 13528,
    "start_time": "2022-07-12T10:53:20.875Z"
   },
   {
    "duration": 4,
    "start_time": "2022-07-12T10:53:34.405Z"
   },
   {
    "duration": 655,
    "start_time": "2022-07-12T10:56:10.651Z"
   },
   {
    "duration": 5,
    "start_time": "2022-07-12T10:56:15.916Z"
   },
   {
    "duration": 77,
    "start_time": "2022-07-12T10:56:20.410Z"
   },
   {
    "duration": 869,
    "start_time": "2022-07-12T10:56:28.162Z"
   },
   {
    "duration": 5,
    "start_time": "2022-07-12T10:56:29.033Z"
   },
   {
    "duration": 672,
    "start_time": "2022-07-12T10:56:34.203Z"
   },
   {
    "duration": 5,
    "start_time": "2022-07-12T10:56:34.877Z"
   },
   {
    "duration": 733,
    "start_time": "2022-07-12T10:56:44.034Z"
   },
   {
    "duration": 6,
    "start_time": "2022-07-12T10:56:44.768Z"
   },
   {
    "duration": 2395,
    "start_time": "2022-07-12T10:56:52.738Z"
   },
   {
    "duration": 4,
    "start_time": "2022-07-12T10:56:55.135Z"
   },
   {
    "duration": 2450,
    "start_time": "2022-07-12T10:57:00.418Z"
   },
   {
    "duration": 4,
    "start_time": "2022-07-12T10:57:02.870Z"
   },
   {
    "duration": 2454,
    "start_time": "2022-07-12T10:57:08.815Z"
   },
   {
    "duration": 4,
    "start_time": "2022-07-12T10:57:11.271Z"
   },
   {
    "duration": 2472,
    "start_time": "2022-07-12T10:57:16.904Z"
   },
   {
    "duration": 5,
    "start_time": "2022-07-12T10:57:19.378Z"
   },
   {
    "duration": 6352,
    "start_time": "2022-07-12T10:57:23.151Z"
   },
   {
    "duration": 5,
    "start_time": "2022-07-12T10:57:29.505Z"
   },
   {
    "duration": 5628,
    "start_time": "2022-07-12T10:58:22.542Z"
   },
   {
    "duration": 5,
    "start_time": "2022-07-12T10:58:28.172Z"
   },
   {
    "duration": 5336,
    "start_time": "2022-07-12T10:58:44.974Z"
   },
   {
    "duration": 5,
    "start_time": "2022-07-12T10:58:50.312Z"
   },
   {
    "duration": 2729,
    "start_time": "2022-07-12T10:59:05.345Z"
   },
   {
    "duration": 4,
    "start_time": "2022-07-12T10:59:08.076Z"
   },
   {
    "duration": 2387,
    "start_time": "2022-07-12T10:59:13.128Z"
   },
   {
    "duration": 4,
    "start_time": "2022-07-12T10:59:15.517Z"
   },
   {
    "duration": 680,
    "start_time": "2022-07-12T10:59:29.921Z"
   },
   {
    "duration": 0,
    "start_time": "2022-07-12T10:59:30.603Z"
   },
   {
    "duration": 5541,
    "start_time": "2022-07-12T10:59:57.261Z"
   },
   {
    "duration": 4,
    "start_time": "2022-07-12T11:00:02.804Z"
   },
   {
    "duration": 5626,
    "start_time": "2022-07-12T11:00:07.865Z"
   },
   {
    "duration": 4,
    "start_time": "2022-07-12T11:00:13.493Z"
   },
   {
    "duration": 5735,
    "start_time": "2022-07-12T11:00:18.765Z"
   },
   {
    "duration": 5,
    "start_time": "2022-07-12T11:00:24.502Z"
   },
   {
    "duration": 56,
    "start_time": "2022-07-12T11:01:35.872Z"
   },
   {
    "duration": 8,
    "start_time": "2022-07-12T11:01:35.978Z"
   },
   {
    "duration": 6,
    "start_time": "2022-07-12T11:01:36.795Z"
   },
   {
    "duration": 12,
    "start_time": "2022-07-12T11:01:36.899Z"
   },
   {
    "duration": 16,
    "start_time": "2022-07-12T11:01:37.408Z"
   },
   {
    "duration": 46,
    "start_time": "2022-07-12T11:01:56.250Z"
   },
   {
    "duration": 6,
    "start_time": "2022-07-12T11:01:56.358Z"
   },
   {
    "duration": 5,
    "start_time": "2022-07-12T11:01:56.558Z"
   },
   {
    "duration": 9,
    "start_time": "2022-07-12T11:01:56.864Z"
   },
   {
    "duration": 6,
    "start_time": "2022-07-12T11:01:57.075Z"
   },
   {
    "duration": 4721,
    "start_time": "2022-07-12T11:01:57.683Z"
   },
   {
    "duration": 4,
    "start_time": "2022-07-12T11:02:02.406Z"
   },
   {
    "duration": 223,
    "start_time": "2022-07-12T11:03:09.260Z"
   },
   {
    "duration": 46,
    "start_time": "2022-07-12T11:04:53.424Z"
   },
   {
    "duration": 4,
    "start_time": "2022-07-12T11:04:53.472Z"
   },
   {
    "duration": 13,
    "start_time": "2022-07-12T11:04:53.478Z"
   },
   {
    "duration": 6,
    "start_time": "2022-07-12T11:04:53.492Z"
   },
   {
    "duration": 4829,
    "start_time": "2022-07-12T11:04:53.500Z"
   },
   {
    "duration": 6,
    "start_time": "2022-07-12T11:04:58.332Z"
   },
   {
    "duration": 207,
    "start_time": "2022-07-12T11:04:58.340Z"
   },
   {
    "duration": 57,
    "start_time": "2022-07-12T11:04:58.549Z"
   },
   {
    "duration": 7,
    "start_time": "2022-07-12T11:04:58.608Z"
   },
   {
    "duration": 14,
    "start_time": "2022-07-12T11:04:58.616Z"
   },
   {
    "duration": 21,
    "start_time": "2022-07-12T11:04:58.632Z"
   },
   {
    "duration": 6,
    "start_time": "2022-07-12T11:04:58.655Z"
   },
   {
    "duration": 5000,
    "start_time": "2022-07-12T11:04:58.663Z"
   },
   {
    "duration": 5,
    "start_time": "2022-07-12T11:05:03.666Z"
   },
   {
    "duration": 305,
    "start_time": "2022-07-12T11:05:03.672Z"
   },
   {
    "duration": 493,
    "start_time": "2022-07-13T06:01:35.688Z"
   },
   {
    "duration": 2362,
    "start_time": "2022-07-13T06:40:20.388Z"
   },
   {
    "duration": 10,
    "start_time": "2022-07-13T06:51:54.638Z"
   },
   {
    "duration": 4,
    "start_time": "2022-07-13T06:51:58.774Z"
   },
   {
    "duration": 3,
    "start_time": "2022-07-13T06:51:59.360Z"
   },
   {
    "duration": 9,
    "start_time": "2022-07-13T06:51:59.972Z"
   },
   {
    "duration": 169,
    "start_time": "2022-07-13T06:52:22.798Z"
   },
   {
    "duration": 14,
    "start_time": "2022-07-13T06:52:23.136Z"
   },
   {
    "duration": 13,
    "start_time": "2022-07-13T06:52:25.870Z"
   },
   {
    "duration": 115,
    "start_time": "2022-07-13T06:52:25.968Z"
   },
   {
    "duration": 8,
    "start_time": "2022-07-13T06:52:28.430Z"
   },
   {
    "duration": 163,
    "start_time": "2022-07-13T06:52:29.371Z"
   },
   {
    "duration": 287,
    "start_time": "2022-07-13T06:52:29.671Z"
   },
   {
    "duration": 122,
    "start_time": "2022-07-13T06:52:33.972Z"
   },
   {
    "duration": 10,
    "start_time": "2022-07-13T06:53:08.268Z"
   },
   {
    "duration": 22444,
    "start_time": "2022-07-13T06:53:33.871Z"
   },
   {
    "duration": 11,
    "start_time": "2022-07-13T06:54:33.775Z"
   },
   {
    "duration": 8665,
    "start_time": "2022-07-13T06:54:36.840Z"
   },
   {
    "duration": 16,
    "start_time": "2022-07-13T06:55:04.494Z"
   },
   {
    "duration": 21213,
    "start_time": "2022-07-13T06:55:08.890Z"
   },
   {
    "duration": 98,
    "start_time": "2022-07-13T06:55:30.106Z"
   },
   {
    "duration": 364030,
    "start_time": "2022-07-13T06:56:12.684Z"
   },
   {
    "duration": 20995,
    "start_time": "2022-07-13T07:02:16.719Z"
   },
   {
    "duration": 5,
    "start_time": "2022-07-13T07:09:49.422Z"
   },
   {
    "duration": 5,
    "start_time": "2022-07-13T07:10:48.200Z"
   },
   {
    "duration": 9,
    "start_time": "2022-07-13T07:11:05.671Z"
   },
   {
    "duration": 12396,
    "start_time": "2022-07-13T07:11:26.812Z"
   },
   {
    "duration": 7,
    "start_time": "2022-07-13T07:13:03.776Z"
   },
   {
    "duration": 9,
    "start_time": "2022-07-13T07:14:48.326Z"
   },
   {
    "duration": 7,
    "start_time": "2022-07-13T07:15:02.670Z"
   },
   {
    "duration": 12974,
    "start_time": "2022-07-13T07:15:07.707Z"
   },
   {
    "duration": 659,
    "start_time": "2022-07-13T07:16:33.695Z"
   },
   {
    "duration": 52,
    "start_time": "2022-07-13T07:22:01.987Z"
   },
   {
    "duration": 6,
    "start_time": "2022-07-13T07:22:02.611Z"
   },
   {
    "duration": 24,
    "start_time": "2022-07-13T07:22:03.627Z"
   },
   {
    "duration": 8,
    "start_time": "2022-07-13T07:22:05.260Z"
   },
   {
    "duration": 16602,
    "start_time": "2022-07-13T07:22:05.673Z"
   },
   {
    "duration": 6,
    "start_time": "2022-07-13T07:22:22.278Z"
   },
   {
    "duration": 53,
    "start_time": "2022-07-13T07:22:46.225Z"
   },
   {
    "duration": 5,
    "start_time": "2022-07-13T07:22:46.328Z"
   },
   {
    "duration": 12,
    "start_time": "2022-07-13T07:22:46.465Z"
   },
   {
    "duration": 11,
    "start_time": "2022-07-13T07:22:46.601Z"
   },
   {
    "duration": 5243,
    "start_time": "2022-07-13T07:22:46.773Z"
   },
   {
    "duration": 6,
    "start_time": "2022-07-13T07:22:52.019Z"
   },
   {
    "duration": 50,
    "start_time": "2022-07-13T07:22:52.471Z"
   },
   {
    "duration": 55,
    "start_time": "2022-07-13T07:23:11.824Z"
   },
   {
    "duration": 23,
    "start_time": "2022-07-13T07:23:12.862Z"
   },
   {
    "duration": 9,
    "start_time": "2022-07-13T07:23:13.872Z"
   },
   {
    "duration": 16283,
    "start_time": "2022-07-13T07:23:14.384Z"
   },
   {
    "duration": 5,
    "start_time": "2022-07-13T07:23:30.669Z"
   },
   {
    "duration": 13129,
    "start_time": "2022-07-13T07:24:20.897Z"
   },
   {
    "duration": 8312,
    "start_time": "2022-07-13T07:25:13.996Z"
   },
   {
    "duration": 5,
    "start_time": "2022-07-13T07:25:22.310Z"
   },
   {
    "duration": 4,
    "start_time": "2022-07-13T07:27:30.793Z"
   },
   {
    "duration": 5,
    "start_time": "2022-07-13T07:27:43.182Z"
   },
   {
    "duration": 3,
    "start_time": "2022-07-13T07:29:59.988Z"
   },
   {
    "duration": 4,
    "start_time": "2022-07-13T07:30:04.524Z"
   },
   {
    "duration": 5,
    "start_time": "2022-07-13T07:30:36.761Z"
   },
   {
    "duration": 6,
    "start_time": "2022-07-13T07:30:46.272Z"
   },
   {
    "duration": 57,
    "start_time": "2022-07-13T07:32:53.260Z"
   },
   {
    "duration": 5,
    "start_time": "2022-07-13T07:32:54.069Z"
   },
   {
    "duration": 29,
    "start_time": "2022-07-13T07:32:54.890Z"
   },
   {
    "duration": 9,
    "start_time": "2022-07-13T07:32:56.120Z"
   },
   {
    "duration": 3,
    "start_time": "2022-07-13T07:32:56.422Z"
   },
   {
    "duration": 12489,
    "start_time": "2022-07-13T07:32:59.822Z"
   },
   {
    "duration": 103,
    "start_time": "2022-07-13T07:33:20.002Z"
   },
   {
    "duration": 6,
    "start_time": "2022-07-13T07:33:20.797Z"
   },
   {
    "duration": 6,
    "start_time": "2022-07-13T07:33:37.075Z"
   },
   {
    "duration": 6,
    "start_time": "2022-07-13T07:33:44.460Z"
   },
   {
    "duration": 33,
    "start_time": "2022-07-13T07:34:12.719Z"
   },
   {
    "duration": 57,
    "start_time": "2022-07-13T07:34:37.900Z"
   },
   {
    "duration": 22,
    "start_time": "2022-07-13T07:34:39.028Z"
   },
   {
    "duration": 9,
    "start_time": "2022-07-13T07:34:39.356Z"
   },
   {
    "duration": 12,
    "start_time": "2022-07-13T07:34:40.902Z"
   },
   {
    "duration": 3,
    "start_time": "2022-07-13T07:34:42.420Z"
   },
   {
    "duration": 11908,
    "start_time": "2022-07-13T07:34:42.622Z"
   },
   {
    "duration": 93,
    "start_time": "2022-07-13T07:34:54.532Z"
   },
   {
    "duration": 9,
    "start_time": "2022-07-13T07:34:54.629Z"
   },
   {
    "duration": 7,
    "start_time": "2022-07-13T07:35:09.868Z"
   },
   {
    "duration": 7,
    "start_time": "2022-07-13T07:35:37.605Z"
   },
   {
    "duration": 63,
    "start_time": "2022-07-13T07:35:42.718Z"
   },
   {
    "duration": 36,
    "start_time": "2022-07-13T07:35:43.464Z"
   },
   {
    "duration": 11,
    "start_time": "2022-07-13T07:35:44.263Z"
   },
   {
    "duration": 8,
    "start_time": "2022-07-13T07:35:44.769Z"
   },
   {
    "duration": 4,
    "start_time": "2022-07-13T07:35:48.559Z"
   },
   {
    "duration": 7,
    "start_time": "2022-07-13T07:35:50.296Z"
   },
   {
    "duration": 6,
    "start_time": "2022-07-13T07:36:00.775Z"
   },
   {
    "duration": 5,
    "start_time": "2022-07-13T07:36:04.223Z"
   },
   {
    "duration": 5552,
    "start_time": "2022-07-13T07:37:09.663Z"
   },
   {
    "duration": 94,
    "start_time": "2022-07-13T07:37:25.665Z"
   },
   {
    "duration": 11,
    "start_time": "2022-07-13T07:37:35.051Z"
   },
   {
    "duration": 18575,
    "start_time": "2022-07-13T07:37:47.661Z"
   },
   {
    "duration": 4,
    "start_time": "2022-07-13T08:12:13.164Z"
   },
   {
    "duration": 11,
    "start_time": "2022-07-13T08:12:13.460Z"
   },
   {
    "duration": 7,
    "start_time": "2022-07-13T08:12:17.063Z"
   },
   {
    "duration": 5,
    "start_time": "2022-07-13T08:12:17.469Z"
   },
   {
    "duration": 85937,
    "start_time": "2022-07-13T08:12:28.198Z"
   },
   {
    "duration": 0,
    "start_time": "2022-07-13T08:13:54.137Z"
   },
   {
    "duration": 52992,
    "start_time": "2022-07-13T08:13:58.513Z"
   },
   {
    "duration": 97,
    "start_time": "2022-07-13T08:14:51.508Z"
   },
   {
    "duration": 55299,
    "start_time": "2022-07-13T08:14:51.607Z"
   },
   {
    "duration": 1562392,
    "start_time": "2022-07-13T08:18:56.919Z"
   },
   {
    "duration": 94,
    "start_time": "2022-07-13T08:44:59.314Z"
   },
   {
    "duration": 10,
    "start_time": "2022-07-13T08:55:43.920Z"
   },
   {
    "duration": 82,
    "start_time": "2022-07-13T08:55:54.920Z"
   },
   {
    "duration": 10,
    "start_time": "2022-07-13T08:57:32.975Z"
   },
   {
    "duration": 16,
    "start_time": "2022-07-13T08:57:52.126Z"
   },
   {
    "duration": 74,
    "start_time": "2022-07-13T08:58:04.105Z"
   },
   {
    "duration": 22,
    "start_time": "2022-07-13T08:58:15.066Z"
   },
   {
    "duration": 16,
    "start_time": "2022-07-13T08:58:54.895Z"
   },
   {
    "duration": 25671,
    "start_time": "2022-07-13T08:59:05.032Z"
   },
   {
    "duration": 10,
    "start_time": "2022-07-13T09:01:29.415Z"
   },
   {
    "duration": 68966,
    "start_time": "2022-07-13T09:02:33.245Z"
   },
   {
    "duration": 437,
    "start_time": "2022-07-13T09:05:23.296Z"
   },
   {
    "duration": 8966,
    "start_time": "2022-07-13T09:05:56.168Z"
   },
   {
    "duration": 2696,
    "start_time": "2022-07-13T09:08:01.444Z"
   },
   {
    "duration": 2356,
    "start_time": "2022-07-13T09:08:17.579Z"
   },
   {
    "duration": 3068,
    "start_time": "2022-07-13T09:08:20.754Z"
   },
   {
    "duration": 3156,
    "start_time": "2022-07-13T09:08:24.449Z"
   },
   {
    "duration": 2518,
    "start_time": "2022-07-13T09:08:28.214Z"
   },
   {
    "duration": 6,
    "start_time": "2022-07-13T09:08:49.122Z"
   },
   {
    "duration": 4,
    "start_time": "2022-07-13T09:08:50.457Z"
   },
   {
    "duration": 9,
    "start_time": "2022-07-13T09:08:52.399Z"
   },
   {
    "duration": 6,
    "start_time": "2022-07-13T09:08:54.209Z"
   },
   {
    "duration": 6,
    "start_time": "2022-07-13T09:08:54.563Z"
   },
   {
    "duration": 57,
    "start_time": "2022-07-13T09:08:56.104Z"
   },
   {
    "duration": 10,
    "start_time": "2022-07-13T09:08:57.416Z"
   },
   {
    "duration": 3571,
    "start_time": "2022-07-13T09:09:03.561Z"
   },
   {
    "duration": 59,
    "start_time": "2022-07-13T09:10:28.350Z"
   },
   {
    "duration": 7107,
    "start_time": "2022-07-13T09:10:33.262Z"
   },
   {
    "duration": 5,
    "start_time": "2022-07-13T09:10:40.371Z"
   },
   {
    "duration": 61,
    "start_time": "2022-07-13T09:13:14.029Z"
   },
   {
    "duration": 23,
    "start_time": "2022-07-13T09:13:35.946Z"
   },
   {
    "duration": 2205,
    "start_time": "2022-07-13T09:14:04.102Z"
   },
   {
    "duration": 18,
    "start_time": "2022-07-13T09:14:10.049Z"
   },
   {
    "duration": 15,
    "start_time": "2022-07-13T09:14:15.469Z"
   },
   {
    "duration": 29,
    "start_time": "2022-07-13T09:14:52.538Z"
   },
   {
    "duration": 50,
    "start_time": "2022-07-13T09:14:57.000Z"
   },
   {
    "duration": 9,
    "start_time": "2022-07-13T09:15:00.422Z"
   },
   {
    "duration": 52,
    "start_time": "2022-07-13T09:15:14.556Z"
   },
   {
    "duration": 12,
    "start_time": "2022-07-13T09:15:21.243Z"
   },
   {
    "duration": 8,
    "start_time": "2022-07-13T09:15:29.708Z"
   },
   {
    "duration": 13,
    "start_time": "2022-07-13T09:15:40.078Z"
   },
   {
    "duration": 11,
    "start_time": "2022-07-13T09:15:45.273Z"
   },
   {
    "duration": 12,
    "start_time": "2022-07-13T09:15:50.700Z"
   },
   {
    "duration": 73,
    "start_time": "2022-07-13T09:16:46.887Z"
   },
   {
    "duration": 16292,
    "start_time": "2022-07-13T09:16:47.459Z"
   },
   {
    "duration": 4,
    "start_time": "2022-07-13T09:17:03.753Z"
   },
   {
    "duration": 230,
    "start_time": "2022-07-13T09:17:03.759Z"
   },
   {
    "duration": 2348,
    "start_time": "2022-07-13T09:18:31.774Z"
   },
   {
    "duration": 93,
    "start_time": "2022-07-13T09:19:10.379Z"
   },
   {
    "duration": 28392,
    "start_time": "2022-07-13T09:19:11.180Z"
   },
   {
    "duration": 5,
    "start_time": "2022-07-13T09:19:39.574Z"
   },
   {
    "duration": 226,
    "start_time": "2022-07-13T09:19:39.581Z"
   },
   {
    "duration": 92,
    "start_time": "2022-07-13T09:20:08.577Z"
   },
   {
    "duration": 14101,
    "start_time": "2022-07-13T09:20:08.877Z"
   },
   {
    "duration": 5,
    "start_time": "2022-07-13T09:20:22.980Z"
   },
   {
    "duration": 230,
    "start_time": "2022-07-13T09:20:22.987Z"
   },
   {
    "duration": 74,
    "start_time": "2022-07-13T09:21:27.389Z"
   },
   {
    "duration": 3,
    "start_time": "2022-07-13T09:21:27.491Z"
   },
   {
    "duration": 2510,
    "start_time": "2022-07-13T09:21:28.004Z"
   },
   {
    "duration": 89,
    "start_time": "2022-07-13T09:21:30.515Z"
   },
   {
    "duration": 18,
    "start_time": "2022-07-13T09:21:30.606Z"
   },
   {
    "duration": 1650,
    "start_time": "2022-07-13T09:22:01.795Z"
   },
   {
    "duration": 4,
    "start_time": "2022-07-13T09:22:04.766Z"
   },
   {
    "duration": 11,
    "start_time": "2022-07-13T09:22:05.379Z"
   },
   {
    "duration": 6,
    "start_time": "2022-07-13T09:22:09.475Z"
   },
   {
    "duration": 6,
    "start_time": "2022-07-13T09:22:09.884Z"
   },
   {
    "duration": 59,
    "start_time": "2022-07-13T09:22:11.113Z"
   },
   {
    "duration": 17,
    "start_time": "2022-07-13T09:22:12.138Z"
   },
   {
    "duration": 13974,
    "start_time": "2022-07-13T09:22:19.919Z"
   },
   {
    "duration": 14227,
    "start_time": "2022-07-13T09:22:38.863Z"
   },
   {
    "duration": 6188,
    "start_time": "2022-07-13T09:23:17.470Z"
   },
   {
    "duration": 77,
    "start_time": "2022-07-13T09:25:55.777Z"
   },
   {
    "duration": 3,
    "start_time": "2022-07-13T09:25:55.983Z"
   },
   {
    "duration": 2534,
    "start_time": "2022-07-13T09:25:56.084Z"
   },
   {
    "duration": 18,
    "start_time": "2022-07-13T09:25:58.620Z"
   },
   {
    "duration": 133,
    "start_time": "2022-07-13T09:25:58.704Z"
   },
   {
    "duration": 18,
    "start_time": "2022-07-13T09:26:05.607Z"
   },
   {
    "duration": 2509,
    "start_time": "2022-07-13T09:26:10.113Z"
   },
   {
    "duration": 92,
    "start_time": "2022-07-13T09:26:12.624Z"
   },
   {
    "duration": 14,
    "start_time": "2022-07-13T09:26:12.718Z"
   },
   {
    "duration": 2581,
    "start_time": "2022-07-13T09:26:14.824Z"
   },
   {
    "duration": 19,
    "start_time": "2022-07-13T09:26:17.407Z"
   },
   {
    "duration": 91,
    "start_time": "2022-07-13T09:26:17.428Z"
   },
   {
    "duration": 47,
    "start_time": "2022-07-13T09:26:30.695Z"
   },
   {
    "duration": 33,
    "start_time": "2022-07-13T09:26:45.957Z"
   },
   {
    "duration": 1588,
    "start_time": "2022-07-13T09:27:06.635Z"
   },
   {
    "duration": 5,
    "start_time": "2022-07-13T09:27:08.225Z"
   },
   {
    "duration": 11,
    "start_time": "2022-07-13T09:27:08.232Z"
   },
   {
    "duration": 8,
    "start_time": "2022-07-13T09:27:09.400Z"
   },
   {
    "duration": 5,
    "start_time": "2022-07-13T09:27:09.707Z"
   },
   {
    "duration": 63,
    "start_time": "2022-07-13T09:27:10.935Z"
   },
   {
    "duration": 84,
    "start_time": "2022-07-13T09:27:16.017Z"
   },
   {
    "duration": 3,
    "start_time": "2022-07-13T09:27:16.158Z"
   },
   {
    "duration": 6945,
    "start_time": "2022-07-13T09:27:16.261Z"
   },
   {
    "duration": 99,
    "start_time": "2022-07-13T09:27:23.208Z"
   },
   {
    "duration": 6,
    "start_time": "2022-07-13T09:27:23.308Z"
   },
   {
    "duration": 2482,
    "start_time": "2022-07-13T09:27:32.440Z"
   },
   {
    "duration": 91,
    "start_time": "2022-07-13T09:27:34.924Z"
   },
   {
    "duration": 188,
    "start_time": "2022-07-13T09:27:35.017Z"
   },
   {
    "duration": 2465,
    "start_time": "2022-07-13T09:27:37.056Z"
   },
   {
    "duration": 86,
    "start_time": "2022-07-13T09:27:39.523Z"
   },
   {
    "duration": 16,
    "start_time": "2022-07-13T09:27:39.610Z"
   },
   {
    "duration": 2463,
    "start_time": "2022-07-13T09:27:41.557Z"
   },
   {
    "duration": 88,
    "start_time": "2022-07-13T09:27:44.022Z"
   },
   {
    "duration": 18,
    "start_time": "2022-07-13T09:27:44.111Z"
   },
   {
    "duration": 10,
    "start_time": "2022-07-13T09:28:04.285Z"
   },
   {
    "duration": 76,
    "start_time": "2022-07-13T09:29:18.218Z"
   },
   {
    "duration": 3,
    "start_time": "2022-07-13T09:29:18.422Z"
   },
   {
    "duration": 17,
    "start_time": "2022-07-13T09:29:18.627Z"
   },
   {
    "duration": 7,
    "start_time": "2022-07-13T09:29:19.036Z"
   },
   {
    "duration": 5,
    "start_time": "2022-07-13T09:29:19.452Z"
   },
   {
    "duration": 2,
    "start_time": "2022-07-13T09:29:45.866Z"
   },
   {
    "duration": 3946,
    "start_time": "2022-07-13T09:29:46.480Z"
   },
   {
    "duration": 9,
    "start_time": "2022-07-13T09:29:50.427Z"
   },
   {
    "duration": 78,
    "start_time": "2022-07-13T09:29:50.437Z"
   },
   {
    "duration": 92,
    "start_time": "2022-07-13T09:30:26.415Z"
   },
   {
    "duration": 3,
    "start_time": "2022-07-13T09:30:35.632Z"
   },
   {
    "duration": 3962,
    "start_time": "2022-07-13T09:30:36.456Z"
   },
   {
    "duration": 10,
    "start_time": "2022-07-13T09:30:40.420Z"
   },
   {
    "duration": 5,
    "start_time": "2022-07-13T09:30:40.432Z"
   },
   {
    "duration": 5,
    "start_time": "2022-07-13T09:32:37.487Z"
   },
   {
    "duration": 13,
    "start_time": "2022-07-13T09:32:54.076Z"
   },
   {
    "duration": 11,
    "start_time": "2022-07-13T09:32:58.990Z"
   },
   {
    "duration": 92,
    "start_time": "2022-07-13T09:33:01.960Z"
   },
   {
    "duration": 14985,
    "start_time": "2022-07-13T09:33:02.168Z"
   },
   {
    "duration": 7,
    "start_time": "2022-07-13T09:33:17.155Z"
   },
   {
    "duration": 411,
    "start_time": "2022-07-13T09:33:17.163Z"
   },
   {
    "duration": 4595,
    "start_time": "2022-07-13T09:33:21.519Z"
   },
   {
    "duration": 291,
    "start_time": "2022-07-13T09:33:26.116Z"
   },
   {
    "duration": 14012,
    "start_time": "2022-07-13T09:33:26.410Z"
   },
   {
    "duration": 284,
    "start_time": "2022-07-13T09:33:40.423Z"
   },
   {
    "duration": 4618,
    "start_time": "2022-07-13T09:33:40.709Z"
   },
   {
    "duration": 0,
    "start_time": "2022-07-13T09:33:45.329Z"
   },
   {
    "duration": 1515,
    "start_time": "2022-07-13T09:34:06.886Z"
   },
   {
    "duration": 4,
    "start_time": "2022-07-13T09:34:08.403Z"
   },
   {
    "duration": 10,
    "start_time": "2022-07-13T09:34:08.408Z"
   },
   {
    "duration": 5,
    "start_time": "2022-07-13T09:34:08.729Z"
   },
   {
    "duration": 6,
    "start_time": "2022-07-13T09:34:08.872Z"
   },
   {
    "duration": 56,
    "start_time": "2022-07-13T09:34:09.458Z"
   },
   {
    "duration": 13407,
    "start_time": "2022-07-13T09:34:16.511Z"
   },
   {
    "duration": 42587,
    "start_time": "2022-07-13T09:34:29.921Z"
   },
   {
    "duration": 2626,
    "start_time": "2022-07-13T09:35:12.509Z"
   },
   {
    "duration": 0,
    "start_time": "2022-07-13T09:35:15.137Z"
   },
   {
    "duration": 7,
    "start_time": "2022-07-13T09:35:16.722Z"
   },
   {
    "duration": 2835,
    "start_time": "2022-07-13T09:35:24.095Z"
   },
   {
    "duration": 2497,
    "start_time": "2022-07-13T09:35:29.522Z"
   },
   {
    "duration": 11,
    "start_time": "2022-07-13T09:35:46.623Z"
   },
   {
    "duration": 1538,
    "start_time": "2022-07-13T09:35:51.230Z"
   },
   {
    "duration": 6,
    "start_time": "2022-07-13T09:35:55.019Z"
   },
   {
    "duration": 121,
    "start_time": "2022-07-13T09:35:58.091Z"
   },
   {
    "duration": 54,
    "start_time": "2022-07-13T09:36:08.331Z"
   },
   {
    "duration": 14,
    "start_time": "2022-07-13T09:36:10.584Z"
   },
   {
    "duration": 2122,
    "start_time": "2022-07-13T09:36:19.288Z"
   },
   {
    "duration": 18,
    "start_time": "2022-07-13T09:36:23.793Z"
   },
   {
    "duration": 5,
    "start_time": "2022-07-13T09:37:09.669Z"
   },
   {
    "duration": 13832,
    "start_time": "2022-07-13T09:37:18.475Z"
   },
   {
    "duration": 17,
    "start_time": "2022-07-13T09:37:32.308Z"
   },
   {
    "duration": 51,
    "start_time": "2022-07-13T09:37:32.502Z"
   },
   {
    "duration": 9,
    "start_time": "2022-07-13T09:38:42.553Z"
   },
   {
    "duration": 207,
    "start_time": "2022-07-13T09:38:44.797Z"
   },
   {
    "duration": 8,
    "start_time": "2022-07-13T09:38:45.953Z"
   },
   {
    "duration": 64,
    "start_time": "2022-08-25T05:13:27.132Z"
   }
  ],
  "kernelspec": {
   "display_name": "Python 3 (ipykernel)",
   "language": "python",
   "name": "python3"
  },
  "language_info": {
   "codemirror_mode": {
    "name": "ipython",
    "version": 3
   },
   "file_extension": ".py",
   "mimetype": "text/x-python",
   "name": "python",
   "nbconvert_exporter": "python",
   "pygments_lexer": "ipython3",
   "version": "3.9.5"
  },
  "toc": {
   "base_numbering": 1,
   "nav_menu": {},
   "number_sections": true,
   "sideBar": true,
   "skip_h1_title": true,
   "title_cell": "Содержание",
   "title_sidebar": "Contents",
   "toc_cell": true,
   "toc_position": {
    "height": "calc(100% - 180px)",
    "left": "10px",
    "top": "150px",
    "width": "366.391px"
   },
   "toc_section_display": true,
   "toc_window_display": true
  }
 },
 "nbformat": 4,
 "nbformat_minor": 2
}
